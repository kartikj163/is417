{
 "cells": [
  {
   "cell_type": "markdown",
   "id": "contained-pleasure",
   "metadata": {},
   "source": [
    "# Predictive modeling\n",
    "\n",
    "Let's start with the Crowdflower Airline Sentiment Twitter dataset. \n",
    "\n",
    "    A sentiment analysis job about the problems of each major U.S. airline. Twitter data was scraped from February of 2015 and contributors were asked to first classify positive, negative, and neutral tweets, followed by categorizing negative reasons (such as \"late flight\" or \"rude service\").\n",
    "    \n",
    "This dataset was produced by human categorization. But if you were working for an airline, you can easily imagine that you might want to assess customer sentiment (and reasons for negative sentiment) week by week without manually categorizing thousands of tweets. To do that, you might need to train some kind of predictive model."
   ]
  },
  {
   "cell_type": "code",
   "execution_count": 1,
   "id": "surprised-sound",
   "metadata": {},
   "outputs": [],
   "source": [
    "import pandas as pd\n",
    "import numpy as np\n",
    "from matplotlib import pyplot as plt\n",
    "from sklearn.linear_model import LogisticRegression\n",
    "from sklearn.feature_extraction.text import CountVectorizer\n",
    "from sklearn.naive_bayes import MultinomialNB\n",
    "from sklearn.preprocessing import StandardScaler\n",
    "from sklearn.metrics import f1_score\n",
    "from sklearn.model_selection import cross_validate\n",
    "from pathlib import Path\n",
    "import math"
   ]
  },
  {
   "cell_type": "markdown",
   "id": "nominated-collapse",
   "metadata": {},
   "source": [
    "### Loading the data\n",
    "\n",
    "Let's start by loading the data and doing some exploratory analysis."
   ]
  },
  {
   "cell_type": "code",
   "execution_count": 2,
   "id": "three-change",
   "metadata": {},
   "outputs": [
    {
     "name": "stdout",
     "output_type": "stream",
     "text": [
      "(14640, 5)\n"
     ]
    },
    {
     "data": {
      "text/html": [
       "<div>\n",
       "<style scoped>\n",
       "    .dataframe tbody tr th:only-of-type {\n",
       "        vertical-align: middle;\n",
       "    }\n",
       "\n",
       "    .dataframe tbody tr th {\n",
       "        vertical-align: top;\n",
       "    }\n",
       "\n",
       "    .dataframe thead th {\n",
       "        text-align: right;\n",
       "    }\n",
       "</style>\n",
       "<table border=\"1\" class=\"dataframe\">\n",
       "  <thead>\n",
       "    <tr style=\"text-align: right;\">\n",
       "      <th></th>\n",
       "      <th>airline_sentiment</th>\n",
       "      <th>negativereason</th>\n",
       "      <th>retweet_count</th>\n",
       "      <th>airline</th>\n",
       "      <th>text</th>\n",
       "    </tr>\n",
       "  </thead>\n",
       "  <tbody>\n",
       "    <tr>\n",
       "      <th>0</th>\n",
       "      <td>neutral</td>\n",
       "      <td>NaN</td>\n",
       "      <td>0</td>\n",
       "      <td>Virgin America</td>\n",
       "      <td>@VirginAmerica What @dhepburn said.</td>\n",
       "    </tr>\n",
       "    <tr>\n",
       "      <th>1</th>\n",
       "      <td>positive</td>\n",
       "      <td>NaN</td>\n",
       "      <td>0</td>\n",
       "      <td>Virgin America</td>\n",
       "      <td>@VirginAmerica plus you've added commercials t...</td>\n",
       "    </tr>\n",
       "    <tr>\n",
       "      <th>2</th>\n",
       "      <td>neutral</td>\n",
       "      <td>NaN</td>\n",
       "      <td>0</td>\n",
       "      <td>Virgin America</td>\n",
       "      <td>@VirginAmerica I didn't today... Must mean I n...</td>\n",
       "    </tr>\n",
       "    <tr>\n",
       "      <th>3</th>\n",
       "      <td>negative</td>\n",
       "      <td>Bad Flight</td>\n",
       "      <td>0</td>\n",
       "      <td>Virgin America</td>\n",
       "      <td>@VirginAmerica it's really aggressive to blast...</td>\n",
       "    </tr>\n",
       "    <tr>\n",
       "      <th>4</th>\n",
       "      <td>negative</td>\n",
       "      <td>Can't Tell</td>\n",
       "      <td>0</td>\n",
       "      <td>Virgin America</td>\n",
       "      <td>@VirginAmerica and it's a really big bad thing...</td>\n",
       "    </tr>\n",
       "  </tbody>\n",
       "</table>\n",
       "</div>"
      ],
      "text/plain": [
       "  airline_sentiment negativereason  retweet_count         airline  \\\n",
       "0           neutral            NaN              0  Virgin America   \n",
       "1          positive            NaN              0  Virgin America   \n",
       "2           neutral            NaN              0  Virgin America   \n",
       "3          negative     Bad Flight              0  Virgin America   \n",
       "4          negative     Can't Tell              0  Virgin America   \n",
       "\n",
       "                                                text  \n",
       "0                @VirginAmerica What @dhepburn said.  \n",
       "1  @VirginAmerica plus you've added commercials t...  \n",
       "2  @VirginAmerica I didn't today... Must mean I n...  \n",
       "3  @VirginAmerica it's really aggressive to blast...  \n",
       "4  @VirginAmerica and it's a really big bad thing...  "
      ]
     },
     "execution_count": 2,
     "metadata": {},
     "output_type": "execute_result"
    }
   ],
   "source": [
    "tweetpath = Path('../../data/tweets/flight_sentiment.tsv')\n",
    "\n",
    "tweets = pd.read_csv(tweetpath, sep ='\\t')\n",
    "\n",
    "print(tweets.shape)\n",
    "\n",
    "tweets.head()"
   ]
  },
  {
   "cell_type": "markdown",
   "id": "revolutionary-ozone",
   "metadata": {},
   "source": [
    "#### Exploratory data analysis\n",
    "\n",
    "It's always a good idea to inspect the data before modeling it.\n",
    "\n",
    "1. Find out what the top three reasons for unhappiness are. \n",
    "\n",
    "2. Visualize the distribution of positive, neutral, and negative ```airline_sentiment``` as a bar graph.\n",
    "\n",
    "3. Examine the full texts of 5 tweets in the \"Bad Flight\" category, to see what that actually means.\n",
    "\n",
    "To make full texts a little easier to inspect I'm going to start by telling Pandas to display the full column width."
   ]
  },
  {
   "cell_type": "code",
   "execution_count": 3,
   "id": "worth-header",
   "metadata": {},
   "outputs": [],
   "source": [
    "pd.set_option('display.max_colwidth', None)"
   ]
  },
  {
   "cell_type": "code",
   "execution_count": null,
   "id": "premium-aberdeen",
   "metadata": {},
   "outputs": [],
   "source": []
  },
  {
   "cell_type": "markdown",
   "id": "processed-anger",
   "metadata": {},
   "source": [
    "### Now create a term-document matrix (wordcounts)"
   ]
  },
  {
   "cell_type": "code",
   "execution_count": 4,
   "id": "through-audience",
   "metadata": {},
   "outputs": [],
   "source": [
    "vectorizer = CountVectorizer(max_features = 5000)"
   ]
  },
  {
   "cell_type": "markdown",
   "id": "tested-envelope",
   "metadata": {},
   "source": [
    "I'm going to start occasionally using an alternative way to refer to Pandas columns, which is simply\n",
    "\n",
    "    ```df.columnname```\n",
    "    instead of\n",
    "    ```df['columnname']\n",
    "\n",
    "This can occasionally be confusing. If you name a column something like \"shape\" for instance, you could be in trouble! But it's a lot quicker to type."
   ]
  },
  {
   "cell_type": "code",
   "execution_count": 5,
   "id": "executive-belle",
   "metadata": {},
   "outputs": [
    {
     "data": {
      "text/html": [
       "<div>\n",
       "<style scoped>\n",
       "    .dataframe tbody tr th:only-of-type {\n",
       "        vertical-align: middle;\n",
       "    }\n",
       "\n",
       "    .dataframe tbody tr th {\n",
       "        vertical-align: top;\n",
       "    }\n",
       "\n",
       "    .dataframe thead th {\n",
       "        text-align: right;\n",
       "    }\n",
       "</style>\n",
       "<table border=\"1\" class=\"dataframe\">\n",
       "  <thead>\n",
       "    <tr style=\"text-align: right;\">\n",
       "      <th></th>\n",
       "      <th>00</th>\n",
       "      <th>000</th>\n",
       "      <th>0016</th>\n",
       "      <th>00pm</th>\n",
       "      <th>02</th>\n",
       "      <th>03</th>\n",
       "      <th>05</th>\n",
       "      <th>05am</th>\n",
       "      <th>05pm</th>\n",
       "      <th>08</th>\n",
       "      <th>...</th>\n",
       "      <th>yr</th>\n",
       "      <th>yrs</th>\n",
       "      <th>yuma</th>\n",
       "      <th>yup</th>\n",
       "      <th>yvr</th>\n",
       "      <th>yyz</th>\n",
       "      <th>zero</th>\n",
       "      <th>zkatcher</th>\n",
       "      <th>zone</th>\n",
       "      <th>zurich</th>\n",
       "    </tr>\n",
       "  </thead>\n",
       "  <tbody>\n",
       "    <tr>\n",
       "      <th>0</th>\n",
       "      <td>0</td>\n",
       "      <td>0</td>\n",
       "      <td>0</td>\n",
       "      <td>0</td>\n",
       "      <td>0</td>\n",
       "      <td>0</td>\n",
       "      <td>0</td>\n",
       "      <td>0</td>\n",
       "      <td>0</td>\n",
       "      <td>0</td>\n",
       "      <td>...</td>\n",
       "      <td>0</td>\n",
       "      <td>0</td>\n",
       "      <td>0</td>\n",
       "      <td>0</td>\n",
       "      <td>0</td>\n",
       "      <td>0</td>\n",
       "      <td>0</td>\n",
       "      <td>0</td>\n",
       "      <td>0</td>\n",
       "      <td>0</td>\n",
       "    </tr>\n",
       "    <tr>\n",
       "      <th>1</th>\n",
       "      <td>0</td>\n",
       "      <td>0</td>\n",
       "      <td>0</td>\n",
       "      <td>0</td>\n",
       "      <td>0</td>\n",
       "      <td>0</td>\n",
       "      <td>0</td>\n",
       "      <td>0</td>\n",
       "      <td>0</td>\n",
       "      <td>0</td>\n",
       "      <td>...</td>\n",
       "      <td>0</td>\n",
       "      <td>0</td>\n",
       "      <td>0</td>\n",
       "      <td>0</td>\n",
       "      <td>0</td>\n",
       "      <td>0</td>\n",
       "      <td>0</td>\n",
       "      <td>0</td>\n",
       "      <td>0</td>\n",
       "      <td>0</td>\n",
       "    </tr>\n",
       "    <tr>\n",
       "      <th>2</th>\n",
       "      <td>0</td>\n",
       "      <td>0</td>\n",
       "      <td>0</td>\n",
       "      <td>0</td>\n",
       "      <td>0</td>\n",
       "      <td>0</td>\n",
       "      <td>0</td>\n",
       "      <td>0</td>\n",
       "      <td>0</td>\n",
       "      <td>0</td>\n",
       "      <td>...</td>\n",
       "      <td>0</td>\n",
       "      <td>0</td>\n",
       "      <td>0</td>\n",
       "      <td>0</td>\n",
       "      <td>0</td>\n",
       "      <td>0</td>\n",
       "      <td>0</td>\n",
       "      <td>0</td>\n",
       "      <td>0</td>\n",
       "      <td>0</td>\n",
       "    </tr>\n",
       "    <tr>\n",
       "      <th>3</th>\n",
       "      <td>0</td>\n",
       "      <td>0</td>\n",
       "      <td>0</td>\n",
       "      <td>0</td>\n",
       "      <td>0</td>\n",
       "      <td>0</td>\n",
       "      <td>0</td>\n",
       "      <td>0</td>\n",
       "      <td>0</td>\n",
       "      <td>0</td>\n",
       "      <td>...</td>\n",
       "      <td>0</td>\n",
       "      <td>0</td>\n",
       "      <td>0</td>\n",
       "      <td>0</td>\n",
       "      <td>0</td>\n",
       "      <td>0</td>\n",
       "      <td>0</td>\n",
       "      <td>0</td>\n",
       "      <td>0</td>\n",
       "      <td>0</td>\n",
       "    </tr>\n",
       "    <tr>\n",
       "      <th>4</th>\n",
       "      <td>0</td>\n",
       "      <td>0</td>\n",
       "      <td>0</td>\n",
       "      <td>0</td>\n",
       "      <td>0</td>\n",
       "      <td>0</td>\n",
       "      <td>0</td>\n",
       "      <td>0</td>\n",
       "      <td>0</td>\n",
       "      <td>0</td>\n",
       "      <td>...</td>\n",
       "      <td>0</td>\n",
       "      <td>0</td>\n",
       "      <td>0</td>\n",
       "      <td>0</td>\n",
       "      <td>0</td>\n",
       "      <td>0</td>\n",
       "      <td>0</td>\n",
       "      <td>0</td>\n",
       "      <td>0</td>\n",
       "      <td>0</td>\n",
       "    </tr>\n",
       "  </tbody>\n",
       "</table>\n",
       "<p>5 rows × 5000 columns</p>\n",
       "</div>"
      ],
      "text/plain": [
       "   00  000  0016  00pm  02  03  05  05am  05pm  08  ...  yr  yrs  yuma  yup  \\\n",
       "0   0    0     0     0   0   0   0     0     0   0  ...   0    0     0    0   \n",
       "1   0    0     0     0   0   0   0     0     0   0  ...   0    0     0    0   \n",
       "2   0    0     0     0   0   0   0     0     0   0  ...   0    0     0    0   \n",
       "3   0    0     0     0   0   0   0     0     0   0  ...   0    0     0    0   \n",
       "4   0    0     0     0   0   0   0     0     0   0  ...   0    0     0    0   \n",
       "\n",
       "   yvr  yyz  zero  zkatcher  zone  zurich  \n",
       "0    0    0     0         0     0       0  \n",
       "1    0    0     0         0     0       0  \n",
       "2    0    0     0         0     0       0  \n",
       "3    0    0     0         0     0       0  \n",
       "4    0    0     0         0     0       0  \n",
       "\n",
       "[5 rows x 5000 columns]"
      ]
     },
     "execution_count": 5,
     "metadata": {},
     "output_type": "execute_result"
    }
   ],
   "source": [
    "sparse_wordcounts = vectorizer.fit_transform(tweets.text)\n",
    "wordcounts = sparse_wordcounts.toarray()\n",
    "tweetwords = pd.DataFrame(wordcounts, columns = vectorizer.get_feature_names())\n",
    "tweetwords.head()"
   ]
  },
  {
   "cell_type": "markdown",
   "id": "separate-plenty",
   "metadata": {},
   "source": [
    "#### Discussion\n",
    "\n",
    "If we really cared about maximizing accuracy it would probably be worthwhile to think hard about the strategy we're using to count words. For instance, how will the CountVectorizer handle a hashtag like \"#soreback\"? How might we ideally want to handle it?"
   ]
  },
  {
   "cell_type": "markdown",
   "id": "spatial-destination",
   "metadata": {},
   "source": [
    "Let's use the technique we learned last time to select some of the words most likely to predict positive or negative sentiment."
   ]
  },
  {
   "cell_type": "code",
   "execution_count": 6,
   "id": "great-yukon",
   "metadata": {},
   "outputs": [],
   "source": [
    "negative_words = tweetwords.loc[tweets.airline_sentiment == 'negative', :].sum(axis = 'rows')\n",
    "positive_words = tweetwords.loc[tweets.airline_sentiment == 'positive', :].sum(axis = 'rows')"
   ]
  },
  {
   "cell_type": "code",
   "execution_count": 7,
   "id": "stainless-italian",
   "metadata": {},
   "outputs": [],
   "source": [
    "def get_dunnings(word, series1, series2):\n",
    "    observed = pd.DataFrame({'series1': [series1[word], sum(series1) - series1[word]],\n",
    "                          'series2': [series2[word], sum(series2) - series2[word]]},\n",
    "                        index = ['word', 'all_others'])\n",
    "    total_words = observed.to_numpy().sum()\n",
    "    observed['word_totals'] = observed.sum(axis = 1)\n",
    "    observed = observed.append(observed.sum(axis = 0).rename(index = 'group_totals'))\n",
    "    observed.iat[2,2] = 0\n",
    "    observed['word_totals'] = observed['word_totals'] / sum(observed['word_totals'])\n",
    "    observed.loc['group_totals', : ] = observed.loc['group_totals', : ] / sum(observed.loc['group_totals', : ])\n",
    "    expected = np.outer(observed['word_totals'][0:2], observed.loc['group_totals', : ][0:2])\n",
    "    expected = pd.DataFrame(expected, index = ['word', 'all_others'], columns = ['series1', 'series2'])\n",
    "    expected = expected * total_words\n",
    "    \n",
    "    G = 0\n",
    "    for i in range(2):\n",
    "        for j in range(2):\n",
    "            O = observed.iat[i, j] + .000001\n",
    "            E = expected.iat[i, j] + .000001\n",
    "            G = G + O * math.log(O / E)\n",
    "    \n",
    "    if (observed.iat[0, 0] / sum(observed.iloc[0: 2, 0])) < (observed.iat[0, 1] / sum(observed.iloc[0 : 2, 1])):\n",
    "        G = -G    # we provide a signed version of the statistic to distinguish\n",
    "                  # overrepresentation in the two categories\n",
    "    \n",
    "    return 2 * G"
   ]
  },
  {
   "cell_type": "code",
   "execution_count": 8,
   "id": "burning-crown",
   "metadata": {},
   "outputs": [],
   "source": [
    "dunningslist = []\n",
    "\n",
    "for w in vectorizer.get_feature_names():\n",
    "    G = get_dunnings(w, positive_words, negative_words)\n",
    "    dunningslist.append(G)\n",
    "\n",
    "dunnings = pd.Series(dunningslist, index = vectorizer.get_feature_names())\n",
    "dunnings = dunnings.sort_values()"
   ]
  },
  {
   "cell_type": "code",
   "execution_count": 9,
   "id": "dramatic-market",
   "metadata": {},
   "outputs": [
    {
     "data": {
      "text/plain": [
       "no          -166.815332\n",
       "hours       -165.829494\n",
       "hold        -154.872916\n",
       "not         -140.097004\n",
       "cancelled   -131.809294\n",
       "delayed      -86.589061\n",
       "flightled    -83.499564\n",
       "worst        -80.546255\n",
       "hour         -74.594059\n",
       "call         -74.179613\n",
       "why          -65.693835\n",
       "been         -59.965623\n",
       "is           -59.156369\n",
       "hrs          -57.239008\n",
       "usairways    -56.335208\n",
       "waiting      -54.147933\n",
       "can          -49.627402\n",
       "because      -48.000829\n",
       "on           -47.943896\n",
       "told         -47.675738\n",
       "dtype: float64"
      ]
     },
     "execution_count": 9,
     "metadata": {},
     "output_type": "execute_result"
    }
   ],
   "source": [
    "dunnings[0:20]"
   ]
  },
  {
   "cell_type": "markdown",
   "id": "structured-kennedy",
   "metadata": {},
   "source": [
    "No one mentions \"luggage\" or \"hours\" if they're happy!"
   ]
  },
  {
   "cell_type": "code",
   "execution_count": 10,
   "id": "extended-making",
   "metadata": {},
   "outputs": [
    {
     "data": {
      "text/plain": [
       "wonderful          68.246391\n",
       "excellent          68.246391\n",
       "kudos              79.079912\n",
       "rock               82.611096\n",
       "appreciate        103.044759\n",
       "good              109.744104\n",
       "http              127.821593\n",
       "co                144.173384\n",
       "much              158.245714\n",
       "virginamerica     170.800522\n",
       "best              192.147680\n",
       "amazing           218.417748\n",
       "you               235.157336\n",
       "awesome           279.904867\n",
       "love              286.215863\n",
       "southwestair      316.750251\n",
       "jetblue           429.077287\n",
       "great             551.760163\n",
       "thanks           1214.224929\n",
       "thank            1280.943710\n",
       "dtype: float64"
      ]
     },
     "execution_count": 10,
     "metadata": {},
     "output_type": "execute_result"
    }
   ],
   "source": [
    "dunnings[-20:]"
   ]
  },
  {
   "cell_type": "markdown",
   "id": "respiratory-break",
   "metadata": {},
   "source": [
    "Let's select a list of 400 highly predictive features."
   ]
  },
  {
   "cell_type": "code",
   "execution_count": 11,
   "id": "regional-combination",
   "metadata": {},
   "outputs": [],
   "source": [
    "extremefeatures = list(dunnings.index[0:100].values) + list(dunnings.index[-100: ].values)"
   ]
  },
  {
   "cell_type": "markdown",
   "id": "acute-class",
   "metadata": {},
   "source": [
    "### A first model: Naive Bayes"
   ]
  },
  {
   "cell_type": "markdown",
   "id": "powerful-denmark",
   "metadata": {},
   "source": [
    "To keep this simple to start with, let's create a dataframe with even numbers of positive and negative tweets. Let's say 200 positive ones and 200 negative ones."
   ]
  },
  {
   "cell_type": "code",
   "execution_count": 12,
   "id": "danish-assessment",
   "metadata": {},
   "outputs": [
    {
     "data": {
      "text/plain": [
       "(400, 5000)"
      ]
     },
     "execution_count": 12,
     "metadata": {},
     "output_type": "execute_result"
    }
   ],
   "source": [
    "positive_tweets = tweetwords.loc[tweets.airline_sentiment == 'positive', :]\n",
    "negative_tweets = tweetwords.loc[tweets.airline_sentiment == 'negative', :]\n",
    "\n",
    "sample400_allwords = pd.concat([positive_tweets.iloc[0:200, : ], negative_tweets.iloc[0: 200, : ]], axis = 'rows')\n",
    "sample400_allwords.shape"
   ]
  },
  {
   "cell_type": "markdown",
   "id": "individual-accused",
   "metadata": {},
   "source": [
    "Let's also create a version of this data limited to our list of 200 highly predictive (extreme) features."
   ]
  },
  {
   "cell_type": "code",
   "execution_count": 13,
   "id": "postal-scotland",
   "metadata": {},
   "outputs": [
    {
     "data": {
      "text/plain": [
       "(400, 200)"
      ]
     },
     "execution_count": 13,
     "metadata": {},
     "output_type": "execute_result"
    }
   ],
   "source": [
    "sample400_ext200 = sample400_allwords.loc[ : , extremefeatures]  # why does this work?\n",
    "sample400_ext200.shape"
   ]
  },
  {
   "cell_type": "markdown",
   "id": "described-third",
   "metadata": {},
   "source": [
    "Now we need a list of true labels for the model to predict:"
   ]
  },
  {
   "cell_type": "code",
   "execution_count": 14,
   "id": "exempt-mayor",
   "metadata": {},
   "outputs": [],
   "source": [
    "true_sentiment_400 = [1] * 200 + [0] * 200\n",
    "# what will that produce?"
   ]
  },
  {
   "cell_type": "markdown",
   "id": "planned-manhattan",
   "metadata": {},
   "source": [
    "Now let's train a first model. We'll use just the 200 words that Dunnings identified as extreme."
   ]
  },
  {
   "cell_type": "code",
   "execution_count": 16,
   "id": "opponent-arbor",
   "metadata": {},
   "outputs": [
    {
     "data": {
      "text/plain": [
       "0.8825"
      ]
     },
     "execution_count": 16,
     "metadata": {},
     "output_type": "execute_result"
    }
   ],
   "source": [
    "sm_bayes = MultinomialNB(alpha = 0.1)   # Alpha sets the \"smoothing.\" Notice we're not using much.\n",
    "sm_bayes.fit(sample400_ext200, true_sentiment_400)   # Here we actually fit the model\n",
    "\n",
    "sm_predictions = sm_bayes.predict(sample400_ext200)   # Now let's see what the model predicts if we give it\n",
    "sum(sm_predictions == true_sentiment_400) / len(sm_predictions)  # the same data."
   ]
  },
  {
   "cell_type": "markdown",
   "id": "agreed-mississippi",
   "metadata": {},
   "source": [
    "Not a bad prediction. But how would this model do if we gave it new data?\n",
    "\n",
    "Let's make a bigger dataset, with the next 1500 negative tweets and the next 1500 positive tweets."
   ]
  },
  {
   "cell_type": "code",
   "execution_count": 17,
   "id": "advisory-mother",
   "metadata": {},
   "outputs": [
    {
     "data": {
      "text/plain": [
       "(3000, 5000)"
      ]
     },
     "execution_count": 17,
     "metadata": {},
     "output_type": "execute_result"
    }
   ],
   "source": [
    "next3000 =  pd.concat([positive_tweets.iloc[200: 1700, : ], negative_tweets.iloc[200: 1700, : ]], axis = 'rows')\n",
    "true_sentiment_3000 = [1] * 1500 + [0] * 1500\n",
    "next3000.shape"
   ]
  },
  {
   "cell_type": "markdown",
   "id": "indoor-sewing",
   "metadata": {},
   "source": [
    "Now a version limited to 200 words that are strongly associated with positive or negative tweets."
   ]
  },
  {
   "cell_type": "code",
   "execution_count": 179,
   "id": "laughing-excellence",
   "metadata": {},
   "outputs": [],
   "source": [
    "next3000_ext200 = next3000.loc[ : , extremefeatures]"
   ]
  },
  {
   "cell_type": "code",
   "execution_count": 184,
   "id": "herbal-queen",
   "metadata": {},
   "outputs": [
    {
     "data": {
      "text/plain": [
       "0.7953333333333333"
      ]
     },
     "execution_count": 184,
     "metadata": {},
     "output_type": "execute_result"
    }
   ],
   "source": [
    "sm_predictions = sm_bayes.predict(next3000_ext200)\n",
    "sum(sm_predictions == true_sentiment_3000) / len(sm_predictions)"
   ]
  },
  {
   "cell_type": "markdown",
   "id": "vital-armenia",
   "metadata": {},
   "source": [
    "Oh, that's much worse. Maybe we could improve this by increasing the number of words we use to predict? Let's train on the version of our 400-tweet dataset that has all 5000 words."
   ]
  },
  {
   "cell_type": "code",
   "execution_count": 186,
   "id": "accurate-trance",
   "metadata": {},
   "outputs": [
    {
     "data": {
      "text/plain": [
       "0.995"
      ]
     },
     "execution_count": 186,
     "metadata": {},
     "output_type": "execute_result"
    }
   ],
   "source": [
    "big_bayes = MultinomialNB(alpha = 0.1)\n",
    "big_bayes.fit(sample400_allwords, true_sentiment_400)\n",
    "big_predictions = big_bayes.predict(sample400_allwords)\n",
    "sum(big_predictions == true_sentiment_400) / len(predictions)"
   ]
  },
  {
   "cell_type": "markdown",
   "id": "protective-object",
   "metadata": {},
   "source": [
    "Ah, yes. Including lots more words makes our model almost perfectly accurate on the 400 tweets we used to train it.\n",
    "\n",
    "Maybe that will also improve accuracy on the new data?"
   ]
  },
  {
   "cell_type": "code",
   "execution_count": 187,
   "id": "everyday-centre",
   "metadata": {},
   "outputs": [
    {
     "data": {
      "text/plain": [
       "0.7343333333333333"
      ]
     },
     "execution_count": 187,
     "metadata": {},
     "output_type": "execute_result"
    }
   ],
   "source": [
    "big_predictions = big_bayes.predict(next3000.loc[ : , : ])\n",
    "sum(big_predictions == true_sentiment_3000) / len(big_predictions)"
   ]
  },
  {
   "cell_type": "markdown",
   "id": "packed-secretariat",
   "metadata": {},
   "source": [
    "Yikes!! This is not helping.\n",
    "\n",
    "#### Discussion:\n",
    "\n",
    "What do we need to do to improve accuracy?\n",
    "\n",
    "#### Exercise:\n",
    "\n",
    "Working in small groups, construct a loop that implements the solution we've described, and finds the parameter setting that maximizes accuracy *on our large 3000-tweet dataset.*"
   ]
  },
  {
   "cell_type": "code",
   "execution_count": null,
   "id": "swedish-combining",
   "metadata": {},
   "outputs": [],
   "source": []
  },
  {
   "cell_type": "markdown",
   "id": "fitted-arena",
   "metadata": {},
   "source": [
    "#### Note:\n",
    "\n",
    "Separating test and train datasets is a strategy to avoid overfitting, and the exercise above was designed to demonstrate why overfitting is a danger.\n",
    "\n",
    "But there are several aspects of what we did above that aren't actually recommended practice.\n",
    "\n",
    "1. First, we had a small training dataset (400) and a big test set (3000). But you normally have a training dataset that is much larger than the test dataset. Ratios of 7 to 3 or 9 to 1 are common.\n",
    "\n",
    "2. It's not a good idea to do *feature selection* on the whole dataset. We selected our \"extreme 400\" features by calculating Dunning's log-likelihood on the whole corpus of tweets--but really, if we wanted to use a feature selection strategy, we should only calculate Dunning's on the *training* dataset. Otherwise we may get misleadingly high accuracy. Can you figure out why?"
   ]
  },
  {
   "cell_type": "markdown",
   "id": "broken-politics",
   "metadata": {},
   "source": [
    "### Inspect probabilities"
   ]
  },
  {
   "cell_type": "code",
   "execution_count": 197,
   "id": "vocational-messenger",
   "metadata": {},
   "outputs": [
    {
     "data": {
      "text/plain": [
       "array([[0.24716759, 0.75283241],\n",
       "       [0.66905453, 0.33094547],\n",
       "       [0.49552751, 0.50447249],\n",
       "       [0.08209022, 0.91790978],\n",
       "       [0.1042556 , 0.8957444 ],\n",
       "       [0.48221875, 0.51778125],\n",
       "       [0.01739582, 0.98260418],\n",
       "       [0.05254278, 0.94745722],\n",
       "       [0.24080718, 0.75919282],\n",
       "       [0.32471968, 0.67528032]])"
      ]
     },
     "execution_count": 197,
     "metadata": {},
     "output_type": "execute_result"
    }
   ],
   "source": [
    "sm_probabilities[0:10]"
   ]
  },
  {
   "cell_type": "code",
   "execution_count": 199,
   "id": "removable-basic",
   "metadata": {},
   "outputs": [
    {
     "data": {
      "text/plain": [
       "array([1, 0, 1, 1, 1, 1, 1, 1, 1, 1])"
      ]
     },
     "execution_count": 199,
     "metadata": {},
     "output_type": "execute_result"
    }
   ],
   "source": [
    "sm_predictions[0:10]"
   ]
  },
  {
   "cell_type": "code",
   "execution_count": 207,
   "id": "dying-johnson",
   "metadata": {},
   "outputs": [
    {
     "data": {
      "text/plain": [
       "<matplotlib.collections.PathCollection at 0x7fca117e3990>"
      ]
     },
     "execution_count": 207,
     "metadata": {},
     "output_type": "execute_result"
    },
    {
     "data": {
      "image/png": "[encoded data removed]",
      "text/plain": [
       "<Figure size 432x288 with 1 Axes>"
      ]
     },
     "metadata": {
      "needs_background": "light"
     },
     "output_type": "display_data"
    }
   ],
   "source": [
    "plt.scatter(true_sentiment_400 + np.random.random(size = 400)/3, [x[1] for x in sm_probabilities],\n",
    "            c = (sm_predictions == true_sentiment_400), cmap = 'coolwarm')"
   ]
  },
  {
   "cell_type": "markdown",
   "id": "infinite-replica",
   "metadata": {},
   "source": [
    "## Logistic regression, and how we might really do this\n",
    "\n",
    "Naive Bayes is simple, which makes it a good example to teach first. But in real-life problems (especially if documents are reasonably long), regularized logistic regression is more commonly where a modeling process will start. There are lots of approaches more sophisticated than logistic regression, but LR makes a good \"baseline,\" and is often in practice good enough for the task.\n",
    "\n",
    "As we work through a solution here, I'm going to dispense with some of the simplifying assumptions we initially made. For instance, we constructed an imaginary world where classes of tweets were \"balanced\" (of equal size). As we know, that's not actually true in our real-world data. \n",
    "\n",
    "So let's go back to our original complete doc-term matrix, ```tweetwords```.\n",
    "\n",
    "#### preparing the data\n",
    "\n",
    "Because this matrix is based on raw word counts, it conflates word frequency with tweet length. Tweet-length might be an interesting predictive feature, but we probably don't want it mixed into all the different words. Let's factor it out.\n"
   ]
  },
  {
   "cell_type": "code",
   "execution_count": 208,
   "id": "informed-keeping",
   "metadata": {},
   "outputs": [
    {
     "data": {
      "text/plain": [
       "0     35\n",
       "1     72\n",
       "2     71\n",
       "3    126\n",
       "4     55\n",
       "5    135\n",
       "6     79\n",
       "7    108\n",
       "8     47\n",
       "9     80\n",
       "Name: text, dtype: int64"
      ]
     },
     "execution_count": 208,
     "metadata": {},
     "output_type": "execute_result"
    }
   ],
   "source": [
    "tweetlengths = tweets['text'].str.len()\n",
    "tweetlengths[0:10]"
   ]
  },
  {
   "cell_type": "code",
   "execution_count": 211,
   "id": "southeast-tennessee",
   "metadata": {},
   "outputs": [
    {
     "data": {
      "text/html": [
       "<div>\n",
       "<style scoped>\n",
       "    .dataframe tbody tr th:only-of-type {\n",
       "        vertical-align: middle;\n",
       "    }\n",
       "\n",
       "    .dataframe tbody tr th {\n",
       "        vertical-align: top;\n",
       "    }\n",
       "\n",
       "    .dataframe thead th {\n",
       "        text-align: right;\n",
       "    }\n",
       "</style>\n",
       "<table border=\"1\" class=\"dataframe\">\n",
       "  <thead>\n",
       "    <tr style=\"text-align: right;\">\n",
       "      <th></th>\n",
       "      <th>00</th>\n",
       "      <th>000</th>\n",
       "      <th>0016</th>\n",
       "      <th>00pm</th>\n",
       "      <th>02</th>\n",
       "      <th>03</th>\n",
       "      <th>05</th>\n",
       "      <th>05am</th>\n",
       "      <th>05pm</th>\n",
       "      <th>08</th>\n",
       "      <th>...</th>\n",
       "      <th>yrs</th>\n",
       "      <th>yuma</th>\n",
       "      <th>yup</th>\n",
       "      <th>yvr</th>\n",
       "      <th>yyz</th>\n",
       "      <th>zero</th>\n",
       "      <th>zkatcher</th>\n",
       "      <th>zone</th>\n",
       "      <th>zurich</th>\n",
       "      <th>#tweetlen</th>\n",
       "    </tr>\n",
       "  </thead>\n",
       "  <tbody>\n",
       "    <tr>\n",
       "      <th>0</th>\n",
       "      <td>0.0</td>\n",
       "      <td>0.0</td>\n",
       "      <td>0.0</td>\n",
       "      <td>0.0</td>\n",
       "      <td>0.0</td>\n",
       "      <td>0.0</td>\n",
       "      <td>0.0</td>\n",
       "      <td>0.0</td>\n",
       "      <td>0.0</td>\n",
       "      <td>0.0</td>\n",
       "      <td>...</td>\n",
       "      <td>0.0</td>\n",
       "      <td>0.0</td>\n",
       "      <td>0.0</td>\n",
       "      <td>0.0</td>\n",
       "      <td>0.0</td>\n",
       "      <td>0.0</td>\n",
       "      <td>0.0</td>\n",
       "      <td>0.0</td>\n",
       "      <td>0.0</td>\n",
       "      <td>35</td>\n",
       "    </tr>\n",
       "    <tr>\n",
       "      <th>1</th>\n",
       "      <td>0.0</td>\n",
       "      <td>0.0</td>\n",
       "      <td>0.0</td>\n",
       "      <td>0.0</td>\n",
       "      <td>0.0</td>\n",
       "      <td>0.0</td>\n",
       "      <td>0.0</td>\n",
       "      <td>0.0</td>\n",
       "      <td>0.0</td>\n",
       "      <td>0.0</td>\n",
       "      <td>...</td>\n",
       "      <td>0.0</td>\n",
       "      <td>0.0</td>\n",
       "      <td>0.0</td>\n",
       "      <td>0.0</td>\n",
       "      <td>0.0</td>\n",
       "      <td>0.0</td>\n",
       "      <td>0.0</td>\n",
       "      <td>0.0</td>\n",
       "      <td>0.0</td>\n",
       "      <td>72</td>\n",
       "    </tr>\n",
       "    <tr>\n",
       "      <th>2</th>\n",
       "      <td>0.0</td>\n",
       "      <td>0.0</td>\n",
       "      <td>0.0</td>\n",
       "      <td>0.0</td>\n",
       "      <td>0.0</td>\n",
       "      <td>0.0</td>\n",
       "      <td>0.0</td>\n",
       "      <td>0.0</td>\n",
       "      <td>0.0</td>\n",
       "      <td>0.0</td>\n",
       "      <td>...</td>\n",
       "      <td>0.0</td>\n",
       "      <td>0.0</td>\n",
       "      <td>0.0</td>\n",
       "      <td>0.0</td>\n",
       "      <td>0.0</td>\n",
       "      <td>0.0</td>\n",
       "      <td>0.0</td>\n",
       "      <td>0.0</td>\n",
       "      <td>0.0</td>\n",
       "      <td>71</td>\n",
       "    </tr>\n",
       "    <tr>\n",
       "      <th>3</th>\n",
       "      <td>0.0</td>\n",
       "      <td>0.0</td>\n",
       "      <td>0.0</td>\n",
       "      <td>0.0</td>\n",
       "      <td>0.0</td>\n",
       "      <td>0.0</td>\n",
       "      <td>0.0</td>\n",
       "      <td>0.0</td>\n",
       "      <td>0.0</td>\n",
       "      <td>0.0</td>\n",
       "      <td>...</td>\n",
       "      <td>0.0</td>\n",
       "      <td>0.0</td>\n",
       "      <td>0.0</td>\n",
       "      <td>0.0</td>\n",
       "      <td>0.0</td>\n",
       "      <td>0.0</td>\n",
       "      <td>0.0</td>\n",
       "      <td>0.0</td>\n",
       "      <td>0.0</td>\n",
       "      <td>126</td>\n",
       "    </tr>\n",
       "    <tr>\n",
       "      <th>4</th>\n",
       "      <td>0.0</td>\n",
       "      <td>0.0</td>\n",
       "      <td>0.0</td>\n",
       "      <td>0.0</td>\n",
       "      <td>0.0</td>\n",
       "      <td>0.0</td>\n",
       "      <td>0.0</td>\n",
       "      <td>0.0</td>\n",
       "      <td>0.0</td>\n",
       "      <td>0.0</td>\n",
       "      <td>...</td>\n",
       "      <td>0.0</td>\n",
       "      <td>0.0</td>\n",
       "      <td>0.0</td>\n",
       "      <td>0.0</td>\n",
       "      <td>0.0</td>\n",
       "      <td>0.0</td>\n",
       "      <td>0.0</td>\n",
       "      <td>0.0</td>\n",
       "      <td>0.0</td>\n",
       "      <td>55</td>\n",
       "    </tr>\n",
       "    <tr>\n",
       "      <th>...</th>\n",
       "      <td>...</td>\n",
       "      <td>...</td>\n",
       "      <td>...</td>\n",
       "      <td>...</td>\n",
       "      <td>...</td>\n",
       "      <td>...</td>\n",
       "      <td>...</td>\n",
       "      <td>...</td>\n",
       "      <td>...</td>\n",
       "      <td>...</td>\n",
       "      <td>...</td>\n",
       "      <td>...</td>\n",
       "      <td>...</td>\n",
       "      <td>...</td>\n",
       "      <td>...</td>\n",
       "      <td>...</td>\n",
       "      <td>...</td>\n",
       "      <td>...</td>\n",
       "      <td>...</td>\n",
       "      <td>...</td>\n",
       "      <td>...</td>\n",
       "    </tr>\n",
       "    <tr>\n",
       "      <th>14635</th>\n",
       "      <td>0.0</td>\n",
       "      <td>0.0</td>\n",
       "      <td>0.0</td>\n",
       "      <td>0.0</td>\n",
       "      <td>0.0</td>\n",
       "      <td>0.0</td>\n",
       "      <td>0.0</td>\n",
       "      <td>0.0</td>\n",
       "      <td>0.0</td>\n",
       "      <td>0.0</td>\n",
       "      <td>...</td>\n",
       "      <td>0.0</td>\n",
       "      <td>0.0</td>\n",
       "      <td>0.0</td>\n",
       "      <td>0.0</td>\n",
       "      <td>0.0</td>\n",
       "      <td>0.0</td>\n",
       "      <td>0.0</td>\n",
       "      <td>0.0</td>\n",
       "      <td>0.0</td>\n",
       "      <td>63</td>\n",
       "    </tr>\n",
       "    <tr>\n",
       "      <th>14636</th>\n",
       "      <td>0.0</td>\n",
       "      <td>0.0</td>\n",
       "      <td>0.0</td>\n",
       "      <td>0.0</td>\n",
       "      <td>0.0</td>\n",
       "      <td>0.0</td>\n",
       "      <td>0.0</td>\n",
       "      <td>0.0</td>\n",
       "      <td>0.0</td>\n",
       "      <td>0.0</td>\n",
       "      <td>...</td>\n",
       "      <td>0.0</td>\n",
       "      <td>0.0</td>\n",
       "      <td>0.0</td>\n",
       "      <td>0.0</td>\n",
       "      <td>0.0</td>\n",
       "      <td>0.0</td>\n",
       "      <td>0.0</td>\n",
       "      <td>0.0</td>\n",
       "      <td>0.0</td>\n",
       "      <td>150</td>\n",
       "    </tr>\n",
       "    <tr>\n",
       "      <th>14637</th>\n",
       "      <td>0.0</td>\n",
       "      <td>0.0</td>\n",
       "      <td>0.0</td>\n",
       "      <td>0.0</td>\n",
       "      <td>0.0</td>\n",
       "      <td>0.0</td>\n",
       "      <td>0.0</td>\n",
       "      <td>0.0</td>\n",
       "      <td>0.0</td>\n",
       "      <td>0.0</td>\n",
       "      <td>...</td>\n",
       "      <td>0.0</td>\n",
       "      <td>0.0</td>\n",
       "      <td>0.0</td>\n",
       "      <td>0.0</td>\n",
       "      <td>0.0</td>\n",
       "      <td>0.0</td>\n",
       "      <td>0.0</td>\n",
       "      <td>0.0</td>\n",
       "      <td>0.0</td>\n",
       "      <td>60</td>\n",
       "    </tr>\n",
       "    <tr>\n",
       "      <th>14638</th>\n",
       "      <td>0.0</td>\n",
       "      <td>0.0</td>\n",
       "      <td>0.0</td>\n",
       "      <td>0.0</td>\n",
       "      <td>0.0</td>\n",
       "      <td>0.0</td>\n",
       "      <td>0.0</td>\n",
       "      <td>0.0</td>\n",
       "      <td>0.0</td>\n",
       "      <td>0.0</td>\n",
       "      <td>...</td>\n",
       "      <td>0.0</td>\n",
       "      <td>0.0</td>\n",
       "      <td>0.0</td>\n",
       "      <td>0.0</td>\n",
       "      <td>0.0</td>\n",
       "      <td>0.0</td>\n",
       "      <td>0.0</td>\n",
       "      <td>0.0</td>\n",
       "      <td>0.0</td>\n",
       "      <td>135</td>\n",
       "    </tr>\n",
       "    <tr>\n",
       "      <th>14639</th>\n",
       "      <td>0.0</td>\n",
       "      <td>0.0</td>\n",
       "      <td>0.0</td>\n",
       "      <td>0.0</td>\n",
       "      <td>0.0</td>\n",
       "      <td>0.0</td>\n",
       "      <td>0.0</td>\n",
       "      <td>0.0</td>\n",
       "      <td>0.0</td>\n",
       "      <td>0.0</td>\n",
       "      <td>...</td>\n",
       "      <td>0.0</td>\n",
       "      <td>0.0</td>\n",
       "      <td>0.0</td>\n",
       "      <td>0.0</td>\n",
       "      <td>0.0</td>\n",
       "      <td>0.0</td>\n",
       "      <td>0.0</td>\n",
       "      <td>0.0</td>\n",
       "      <td>0.0</td>\n",
       "      <td>138</td>\n",
       "    </tr>\n",
       "  </tbody>\n",
       "</table>\n",
       "<p>14640 rows × 5001 columns</p>\n",
       "</div>"
      ],
      "text/plain": [
       "        00  000  0016  00pm   02   03   05  05am  05pm   08  ...  yrs  yuma  \\\n",
       "0      0.0  0.0   0.0   0.0  0.0  0.0  0.0   0.0   0.0  0.0  ...  0.0   0.0   \n",
       "1      0.0  0.0   0.0   0.0  0.0  0.0  0.0   0.0   0.0  0.0  ...  0.0   0.0   \n",
       "2      0.0  0.0   0.0   0.0  0.0  0.0  0.0   0.0   0.0  0.0  ...  0.0   0.0   \n",
       "3      0.0  0.0   0.0   0.0  0.0  0.0  0.0   0.0   0.0  0.0  ...  0.0   0.0   \n",
       "4      0.0  0.0   0.0   0.0  0.0  0.0  0.0   0.0   0.0  0.0  ...  0.0   0.0   \n",
       "...    ...  ...   ...   ...  ...  ...  ...   ...   ...  ...  ...  ...   ...   \n",
       "14635  0.0  0.0   0.0   0.0  0.0  0.0  0.0   0.0   0.0  0.0  ...  0.0   0.0   \n",
       "14636  0.0  0.0   0.0   0.0  0.0  0.0  0.0   0.0   0.0  0.0  ...  0.0   0.0   \n",
       "14637  0.0  0.0   0.0   0.0  0.0  0.0  0.0   0.0   0.0  0.0  ...  0.0   0.0   \n",
       "14638  0.0  0.0   0.0   0.0  0.0  0.0  0.0   0.0   0.0  0.0  ...  0.0   0.0   \n",
       "14639  0.0  0.0   0.0   0.0  0.0  0.0  0.0   0.0   0.0  0.0  ...  0.0   0.0   \n",
       "\n",
       "       yup  yvr  yyz  zero  zkatcher  zone  zurich  #tweetlen  \n",
       "0      0.0  0.0  0.0   0.0       0.0   0.0     0.0         35  \n",
       "1      0.0  0.0  0.0   0.0       0.0   0.0     0.0         72  \n",
       "2      0.0  0.0  0.0   0.0       0.0   0.0     0.0         71  \n",
       "3      0.0  0.0  0.0   0.0       0.0   0.0     0.0        126  \n",
       "4      0.0  0.0  0.0   0.0       0.0   0.0     0.0         55  \n",
       "...    ...  ...  ...   ...       ...   ...     ...        ...  \n",
       "14635  0.0  0.0  0.0   0.0       0.0   0.0     0.0         63  \n",
       "14636  0.0  0.0  0.0   0.0       0.0   0.0     0.0        150  \n",
       "14637  0.0  0.0  0.0   0.0       0.0   0.0     0.0         60  \n",
       "14638  0.0  0.0  0.0   0.0       0.0   0.0     0.0        135  \n",
       "14639  0.0  0.0  0.0   0.0       0.0   0.0     0.0        138  \n",
       "\n",
       "[14640 rows x 5001 columns]"
      ]
     },
     "execution_count": 211,
     "metadata": {},
     "output_type": "execute_result"
    }
   ],
   "source": [
    "wordfreqs = tweetwords.divide(tweetlengths, axis = 'rows')\n",
    "wordfreqs['#tweetlen'] = tweetlengths\n",
    "wordfreqs"
   ]
  },
  {
   "cell_type": "markdown",
   "id": "representative-duncan",
   "metadata": {},
   "source": [
    "We're going to want to hold out a \"test\" set to finally confirm the quality of our model. This should be randomly selected from all tweets, and we don't know the current sequence is random. So let's shuffle."
   ]
  },
  {
   "cell_type": "code",
   "execution_count": 214,
   "id": "trained-transformation",
   "metadata": {},
   "outputs": [
    {
     "data": {
      "text/html": [
       "<div>\n",
       "<style scoped>\n",
       "    .dataframe tbody tr th:only-of-type {\n",
       "        vertical-align: middle;\n",
       "    }\n",
       "\n",
       "    .dataframe tbody tr th {\n",
       "        vertical-align: top;\n",
       "    }\n",
       "\n",
       "    .dataframe thead th {\n",
       "        text-align: right;\n",
       "    }\n",
       "</style>\n",
       "<table border=\"1\" class=\"dataframe\">\n",
       "  <thead>\n",
       "    <tr style=\"text-align: right;\">\n",
       "      <th></th>\n",
       "      <th>00</th>\n",
       "      <th>000</th>\n",
       "      <th>0016</th>\n",
       "      <th>00pm</th>\n",
       "      <th>02</th>\n",
       "      <th>03</th>\n",
       "      <th>05</th>\n",
       "      <th>05am</th>\n",
       "      <th>05pm</th>\n",
       "      <th>08</th>\n",
       "      <th>...</th>\n",
       "      <th>yrs</th>\n",
       "      <th>yuma</th>\n",
       "      <th>yup</th>\n",
       "      <th>yvr</th>\n",
       "      <th>yyz</th>\n",
       "      <th>zero</th>\n",
       "      <th>zkatcher</th>\n",
       "      <th>zone</th>\n",
       "      <th>zurich</th>\n",
       "      <th>#tweetlen</th>\n",
       "    </tr>\n",
       "  </thead>\n",
       "  <tbody>\n",
       "    <tr>\n",
       "      <th>1369</th>\n",
       "      <td>0.0</td>\n",
       "      <td>0.0</td>\n",
       "      <td>0.0</td>\n",
       "      <td>0.0</td>\n",
       "      <td>0.0</td>\n",
       "      <td>0.0</td>\n",
       "      <td>0.0</td>\n",
       "      <td>0.0</td>\n",
       "      <td>0.0</td>\n",
       "      <td>0.0</td>\n",
       "      <td>...</td>\n",
       "      <td>0.0</td>\n",
       "      <td>0.0</td>\n",
       "      <td>0.0</td>\n",
       "      <td>0.0</td>\n",
       "      <td>0.0</td>\n",
       "      <td>0.0</td>\n",
       "      <td>0.0</td>\n",
       "      <td>0.0</td>\n",
       "      <td>0.0</td>\n",
       "      <td>139</td>\n",
       "    </tr>\n",
       "    <tr>\n",
       "      <th>2414</th>\n",
       "      <td>0.0</td>\n",
       "      <td>0.0</td>\n",
       "      <td>0.0</td>\n",
       "      <td>0.0</td>\n",
       "      <td>0.0</td>\n",
       "      <td>0.0</td>\n",
       "      <td>0.0</td>\n",
       "      <td>0.0</td>\n",
       "      <td>0.0</td>\n",
       "      <td>0.0</td>\n",
       "      <td>...</td>\n",
       "      <td>0.0</td>\n",
       "      <td>0.0</td>\n",
       "      <td>0.0</td>\n",
       "      <td>0.0</td>\n",
       "      <td>0.0</td>\n",
       "      <td>0.0</td>\n",
       "      <td>0.0</td>\n",
       "      <td>0.0</td>\n",
       "      <td>0.0</td>\n",
       "      <td>128</td>\n",
       "    </tr>\n",
       "    <tr>\n",
       "      <th>6518</th>\n",
       "      <td>0.0</td>\n",
       "      <td>0.0</td>\n",
       "      <td>0.0</td>\n",
       "      <td>0.0</td>\n",
       "      <td>0.0</td>\n",
       "      <td>0.0</td>\n",
       "      <td>0.0</td>\n",
       "      <td>0.0</td>\n",
       "      <td>0.0</td>\n",
       "      <td>0.0</td>\n",
       "      <td>...</td>\n",
       "      <td>0.0</td>\n",
       "      <td>0.0</td>\n",
       "      <td>0.0</td>\n",
       "      <td>0.0</td>\n",
       "      <td>0.0</td>\n",
       "      <td>0.0</td>\n",
       "      <td>0.0</td>\n",
       "      <td>0.0</td>\n",
       "      <td>0.0</td>\n",
       "      <td>138</td>\n",
       "    </tr>\n",
       "    <tr>\n",
       "      <th>478</th>\n",
       "      <td>0.0</td>\n",
       "      <td>0.0</td>\n",
       "      <td>0.0</td>\n",
       "      <td>0.0</td>\n",
       "      <td>0.0</td>\n",
       "      <td>0.0</td>\n",
       "      <td>0.0</td>\n",
       "      <td>0.0</td>\n",
       "      <td>0.0</td>\n",
       "      <td>0.0</td>\n",
       "      <td>...</td>\n",
       "      <td>0.0</td>\n",
       "      <td>0.0</td>\n",
       "      <td>0.0</td>\n",
       "      <td>0.0</td>\n",
       "      <td>0.0</td>\n",
       "      <td>0.0</td>\n",
       "      <td>0.0</td>\n",
       "      <td>0.0</td>\n",
       "      <td>0.0</td>\n",
       "      <td>83</td>\n",
       "    </tr>\n",
       "    <tr>\n",
       "      <th>13944</th>\n",
       "      <td>0.0</td>\n",
       "      <td>0.0</td>\n",
       "      <td>0.0</td>\n",
       "      <td>0.0</td>\n",
       "      <td>0.0</td>\n",
       "      <td>0.0</td>\n",
       "      <td>0.0</td>\n",
       "      <td>0.0</td>\n",
       "      <td>0.0</td>\n",
       "      <td>0.0</td>\n",
       "      <td>...</td>\n",
       "      <td>0.0</td>\n",
       "      <td>0.0</td>\n",
       "      <td>0.0</td>\n",
       "      <td>0.0</td>\n",
       "      <td>0.0</td>\n",
       "      <td>0.0</td>\n",
       "      <td>0.0</td>\n",
       "      <td>0.0</td>\n",
       "      <td>0.0</td>\n",
       "      <td>49</td>\n",
       "    </tr>\n",
       "  </tbody>\n",
       "</table>\n",
       "<p>5 rows × 5001 columns</p>\n",
       "</div>"
      ],
      "text/plain": [
       "        00  000  0016  00pm   02   03   05  05am  05pm   08  ...  yrs  yuma  \\\n",
       "1369   0.0  0.0   0.0   0.0  0.0  0.0  0.0   0.0   0.0  0.0  ...  0.0   0.0   \n",
       "2414   0.0  0.0   0.0   0.0  0.0  0.0  0.0   0.0   0.0  0.0  ...  0.0   0.0   \n",
       "6518   0.0  0.0   0.0   0.0  0.0  0.0  0.0   0.0   0.0  0.0  ...  0.0   0.0   \n",
       "478    0.0  0.0   0.0   0.0  0.0  0.0  0.0   0.0   0.0  0.0  ...  0.0   0.0   \n",
       "13944  0.0  0.0   0.0   0.0  0.0  0.0  0.0   0.0   0.0  0.0  ...  0.0   0.0   \n",
       "\n",
       "       yup  yvr  yyz  zero  zkatcher  zone  zurich  #tweetlen  \n",
       "1369   0.0  0.0  0.0   0.0       0.0   0.0     0.0        139  \n",
       "2414   0.0  0.0  0.0   0.0       0.0   0.0     0.0        128  \n",
       "6518   0.0  0.0  0.0   0.0       0.0   0.0     0.0        138  \n",
       "478    0.0  0.0  0.0   0.0       0.0   0.0     0.0         83  \n",
       "13944  0.0  0.0  0.0   0.0       0.0   0.0     0.0         49  \n",
       "\n",
       "[5 rows x 5001 columns]"
      ]
     },
     "execution_count": 214,
     "metadata": {},
     "output_type": "execute_result"
    }
   ],
   "source": [
    "wordfreqs = wordfreqs.sample(frac = 1)\n",
    "wordfreqs.head()"
   ]
  },
  {
   "cell_type": "markdown",
   "id": "productive-remains",
   "metadata": {},
   "source": [
    "Notice that the indexes were shuffled too. This allows us to create a reordered ```tweets``` frame in the same order. We're going to need this if we want to know the true sentiment for all those rows."
   ]
  },
  {
   "cell_type": "code",
   "execution_count": 215,
   "id": "ranging-qatar",
   "metadata": {},
   "outputs": [
    {
     "data": {
      "text/html": [
       "<div>\n",
       "<style scoped>\n",
       "    .dataframe tbody tr th:only-of-type {\n",
       "        vertical-align: middle;\n",
       "    }\n",
       "\n",
       "    .dataframe tbody tr th {\n",
       "        vertical-align: top;\n",
       "    }\n",
       "\n",
       "    .dataframe thead th {\n",
       "        text-align: right;\n",
       "    }\n",
       "</style>\n",
       "<table border=\"1\" class=\"dataframe\">\n",
       "  <thead>\n",
       "    <tr style=\"text-align: right;\">\n",
       "      <th></th>\n",
       "      <th>airline_sentiment</th>\n",
       "      <th>negativereason</th>\n",
       "      <th>retweet_count</th>\n",
       "      <th>airline</th>\n",
       "      <th>text</th>\n",
       "    </tr>\n",
       "  </thead>\n",
       "  <tbody>\n",
       "    <tr>\n",
       "      <th>1369</th>\n",
       "      <td>negative</td>\n",
       "      <td>Late Flight</td>\n",
       "      <td>0</td>\n",
       "      <td>United</td>\n",
       "      <td>@united Missed UA1568 connection due 2 mechanical failure UA1543 (\"uplink prob\"). I will lose ~$400 in clients Mon. How can you compensate?</td>\n",
       "    </tr>\n",
       "    <tr>\n",
       "      <th>2414</th>\n",
       "      <td>negative</td>\n",
       "      <td>Can't Tell</td>\n",
       "      <td>0</td>\n",
       "      <td>United</td>\n",
       "      <td>@united But it's doubtful he'll fly United again and he will be traveling a lot as a sales manager covering all of North America</td>\n",
       "    </tr>\n",
       "    <tr>\n",
       "      <th>6518</th>\n",
       "      <td>neutral</td>\n",
       "      <td>NaN</td>\n",
       "      <td>0</td>\n",
       "      <td>Southwest</td>\n",
       "      <td>@SouthwestAir You guys must have been swamped, even took our corporate travel a long time to get in, but everything worked out in the end.</td>\n",
       "    </tr>\n",
       "    <tr>\n",
       "      <th>478</th>\n",
       "      <td>neutral</td>\n",
       "      <td>NaN</td>\n",
       "      <td>0</td>\n",
       "      <td>Virgin America</td>\n",
       "      <td>@VirginAmerica how come ABC is the only one of the network channels you don't have?</td>\n",
       "    </tr>\n",
       "    <tr>\n",
       "      <th>13944</th>\n",
       "      <td>neutral</td>\n",
       "      <td>NaN</td>\n",
       "      <td>0</td>\n",
       "      <td>American</td>\n",
       "      <td>@AmericanAir Dallas/Fort Worth flight number 5320</td>\n",
       "    </tr>\n",
       "  </tbody>\n",
       "</table>\n",
       "</div>"
      ],
      "text/plain": [
       "      airline_sentiment negativereason  retweet_count         airline  \\\n",
       "1369           negative    Late Flight              0          United   \n",
       "2414           negative     Can't Tell              0          United   \n",
       "6518            neutral            NaN              0       Southwest   \n",
       "478             neutral            NaN              0  Virgin America   \n",
       "13944           neutral            NaN              0        American   \n",
       "\n",
       "                                                                                                                                              text  \n",
       "1369   @united Missed UA1568 connection due 2 mechanical failure UA1543 (\"uplink prob\"). I will lose ~$400 in clients Mon. How can you compensate?  \n",
       "2414              @united But it's doubtful he'll fly United again and he will be traveling a lot as a sales manager covering all of North America  \n",
       "6518    @SouthwestAir You guys must have been swamped, even took our corporate travel a long time to get in, but everything worked out in the end.  \n",
       "478                                                            @VirginAmerica how come ABC is the only one of the network channels you don't have?  \n",
       "13944                                                                                            @AmericanAir Dallas/Fort Worth flight number 5320  "
      ]
     },
     "execution_count": 215,
     "metadata": {},
     "output_type": "execute_result"
    }
   ],
   "source": [
    "reorderedtweets = tweets.loc[wordfreqs.index, : ]\n",
    "reorderedtweets.head()"
   ]
  },
  {
   "cell_type": "markdown",
   "id": "processed-parish",
   "metadata": {},
   "source": [
    "For our simplifying purposes let's get rid of 'neutral's."
   ]
  },
  {
   "cell_type": "code",
   "execution_count": 216,
   "id": "smoking-league",
   "metadata": {},
   "outputs": [
    {
     "data": {
      "text/plain": [
       "(11541, 5001)"
      ]
     },
     "execution_count": 216,
     "metadata": {},
     "output_type": "execute_result"
    }
   ],
   "source": [
    "wordfreqs = wordfreqs.loc[reorderedtweets['airline_sentiment'] != 'neutral', : ]\n",
    "reorderedtweets = reorderedtweets.loc[reorderedtweets['airline_sentiment'] != 'neutral', : ]\n",
    "wordfreqs.shape"
   ]
  },
  {
   "cell_type": "markdown",
   "id": "hidden-henry",
   "metadata": {},
   "source": [
    "Now let's separate the tweets into test and train sets. There's not a hard and fast rule on proportions here; it depends on how much data you have. People with tons of data may do a 90-10 split. 11,541 rows is not exactly tons and we want a good readout of final accuracy, so let's set 2000 aside."
   ]
  },
  {
   "cell_type": "code",
   "execution_count": 229,
   "id": "polish-preparation",
   "metadata": {},
   "outputs": [
    {
     "data": {
      "text/plain": [
       "1369     0\n",
       "2414     0\n",
       "11698    0\n",
       "4509     0\n",
       "3745     0\n",
       "6889     0\n",
       "1501     0\n",
       "10572    0\n",
       "3837     0\n",
       "5895     0\n",
       "Name: airline_sentiment, dtype: int64"
      ]
     },
     "execution_count": 229,
     "metadata": {},
     "output_type": "execute_result"
    }
   ],
   "source": [
    "testfreqs = wordfreqs.iloc[0: 2000, : ]\n",
    "test_y = (reorderedtweets['airline_sentiment'][0: 2000] == 'positive').astype(int)  # try taking the last part out\n",
    "test_y[0:10]"
   ]
  },
  {
   "cell_type": "code",
   "execution_count": 230,
   "id": "recognized-mileage",
   "metadata": {},
   "outputs": [
    {
     "data": {
      "text/plain": [
       "3783     0\n",
       "2467     0\n",
       "4864     1\n",
       "10872    0\n",
       "13816    0\n",
       "1774     0\n",
       "13936    0\n",
       "1049     0\n",
       "9661     0\n",
       "2890     1\n",
       "Name: airline_sentiment, dtype: int64"
      ]
     },
     "execution_count": 230,
     "metadata": {},
     "output_type": "execute_result"
    }
   ],
   "source": [
    "trainfreqs = wordfreqs.iloc[2000 : , : ]\n",
    "train_y = (reorderedtweets['airline_sentiment'][2000: ] == 'positive').astype(int) \n",
    "train_y[0:10]"
   ]
  },
  {
   "cell_type": "markdown",
   "id": "serial-rates",
   "metadata": {},
   "source": [
    "We want regularization to spread evenly across different variables, even though some variables (like ```#tweetlen```) are numerically much bigger than others. So we typically \"scale\" our X matrices before using logistic regression."
   ]
  },
  {
   "cell_type": "code",
   "execution_count": 227,
   "id": "scheduled-aerospace",
   "metadata": {},
   "outputs": [
    {
     "data": {
      "text/html": [
       "<div>\n",
       "<style scoped>\n",
       "    .dataframe tbody tr th:only-of-type {\n",
       "        vertical-align: middle;\n",
       "    }\n",
       "\n",
       "    .dataframe tbody tr th {\n",
       "        vertical-align: top;\n",
       "    }\n",
       "\n",
       "    .dataframe thead th {\n",
       "        text-align: right;\n",
       "    }\n",
       "</style>\n",
       "<table border=\"1\" class=\"dataframe\">\n",
       "  <thead>\n",
       "    <tr style=\"text-align: right;\">\n",
       "      <th></th>\n",
       "      <th>00</th>\n",
       "      <th>000</th>\n",
       "      <th>0016</th>\n",
       "      <th>00pm</th>\n",
       "      <th>02</th>\n",
       "      <th>03</th>\n",
       "      <th>05</th>\n",
       "      <th>05am</th>\n",
       "      <th>05pm</th>\n",
       "      <th>08</th>\n",
       "      <th>...</th>\n",
       "      <th>yrs</th>\n",
       "      <th>yuma</th>\n",
       "      <th>yup</th>\n",
       "      <th>yvr</th>\n",
       "      <th>yyz</th>\n",
       "      <th>zero</th>\n",
       "      <th>zkatcher</th>\n",
       "      <th>zone</th>\n",
       "      <th>zurich</th>\n",
       "      <th>#tweetlen</th>\n",
       "    </tr>\n",
       "  </thead>\n",
       "  <tbody>\n",
       "    <tr>\n",
       "      <th>0</th>\n",
       "      <td>-0.036303</td>\n",
       "      <td>-0.044143</td>\n",
       "      <td>-0.010238</td>\n",
       "      <td>-0.020373</td>\n",
       "      <td>-0.02147</td>\n",
       "      <td>-0.014391</td>\n",
       "      <td>-0.024719</td>\n",
       "      <td>-0.014306</td>\n",
       "      <td>-0.017497</td>\n",
       "      <td>-0.016838</td>\n",
       "      <td>...</td>\n",
       "      <td>-0.021645</td>\n",
       "      <td>-0.01671</td>\n",
       "      <td>-0.017593</td>\n",
       "      <td>-0.02016</td>\n",
       "      <td>-0.035746</td>\n",
       "      <td>-0.053645</td>\n",
       "      <td>-0.017555</td>\n",
       "      <td>-0.020478</td>\n",
       "      <td>-0.017619</td>\n",
       "      <td>-0.297827</td>\n",
       "    </tr>\n",
       "    <tr>\n",
       "      <th>1</th>\n",
       "      <td>-0.036303</td>\n",
       "      <td>-0.044143</td>\n",
       "      <td>-0.010238</td>\n",
       "      <td>-0.020373</td>\n",
       "      <td>-0.02147</td>\n",
       "      <td>-0.014391</td>\n",
       "      <td>-0.024719</td>\n",
       "      <td>-0.014306</td>\n",
       "      <td>-0.017497</td>\n",
       "      <td>-0.016838</td>\n",
       "      <td>...</td>\n",
       "      <td>-0.021645</td>\n",
       "      <td>-0.01671</td>\n",
       "      <td>-0.017593</td>\n",
       "      <td>-0.02016</td>\n",
       "      <td>-0.035746</td>\n",
       "      <td>-0.053645</td>\n",
       "      <td>-0.017555</td>\n",
       "      <td>-0.020478</td>\n",
       "      <td>-0.017619</td>\n",
       "      <td>0.854251</td>\n",
       "    </tr>\n",
       "    <tr>\n",
       "      <th>2</th>\n",
       "      <td>-0.036303</td>\n",
       "      <td>-0.044143</td>\n",
       "      <td>-0.010238</td>\n",
       "      <td>-0.020373</td>\n",
       "      <td>-0.02147</td>\n",
       "      <td>-0.014391</td>\n",
       "      <td>-0.024719</td>\n",
       "      <td>-0.014306</td>\n",
       "      <td>-0.017497</td>\n",
       "      <td>-0.016838</td>\n",
       "      <td>...</td>\n",
       "      <td>-0.021645</td>\n",
       "      <td>-0.01671</td>\n",
       "      <td>-0.017593</td>\n",
       "      <td>-0.02016</td>\n",
       "      <td>-0.035746</td>\n",
       "      <td>-0.053645</td>\n",
       "      <td>-0.017555</td>\n",
       "      <td>-0.020478</td>\n",
       "      <td>-0.017619</td>\n",
       "      <td>-0.787461</td>\n",
       "    </tr>\n",
       "    <tr>\n",
       "      <th>3</th>\n",
       "      <td>-0.036303</td>\n",
       "      <td>-0.044143</td>\n",
       "      <td>-0.010238</td>\n",
       "      <td>-0.020373</td>\n",
       "      <td>-0.02147</td>\n",
       "      <td>-0.014391</td>\n",
       "      <td>-0.024719</td>\n",
       "      <td>-0.014306</td>\n",
       "      <td>-0.017497</td>\n",
       "      <td>-0.016838</td>\n",
       "      <td>...</td>\n",
       "      <td>-0.021645</td>\n",
       "      <td>-0.01671</td>\n",
       "      <td>-0.017593</td>\n",
       "      <td>-0.02016</td>\n",
       "      <td>-0.035746</td>\n",
       "      <td>-0.053645</td>\n",
       "      <td>-0.017555</td>\n",
       "      <td>-0.020478</td>\n",
       "      <td>-0.017619</td>\n",
       "      <td>-1.824331</td>\n",
       "    </tr>\n",
       "    <tr>\n",
       "      <th>4</th>\n",
       "      <td>-0.036303</td>\n",
       "      <td>-0.044143</td>\n",
       "      <td>-0.010238</td>\n",
       "      <td>-0.020373</td>\n",
       "      <td>-0.02147</td>\n",
       "      <td>-0.014391</td>\n",
       "      <td>-0.024719</td>\n",
       "      <td>-0.014306</td>\n",
       "      <td>-0.017497</td>\n",
       "      <td>-0.016838</td>\n",
       "      <td>...</td>\n",
       "      <td>-0.021645</td>\n",
       "      <td>-0.01671</td>\n",
       "      <td>-0.017593</td>\n",
       "      <td>-0.02016</td>\n",
       "      <td>-0.035746</td>\n",
       "      <td>-0.053645</td>\n",
       "      <td>-0.017555</td>\n",
       "      <td>-0.020478</td>\n",
       "      <td>-0.017619</td>\n",
       "      <td>0.911855</td>\n",
       "    </tr>\n",
       "  </tbody>\n",
       "</table>\n",
       "<p>5 rows × 5001 columns</p>\n",
       "</div>"
      ],
      "text/plain": [
       "         00       000      0016      00pm       02        03        05  \\\n",
       "0 -0.036303 -0.044143 -0.010238 -0.020373 -0.02147 -0.014391 -0.024719   \n",
       "1 -0.036303 -0.044143 -0.010238 -0.020373 -0.02147 -0.014391 -0.024719   \n",
       "2 -0.036303 -0.044143 -0.010238 -0.020373 -0.02147 -0.014391 -0.024719   \n",
       "3 -0.036303 -0.044143 -0.010238 -0.020373 -0.02147 -0.014391 -0.024719   \n",
       "4 -0.036303 -0.044143 -0.010238 -0.020373 -0.02147 -0.014391 -0.024719   \n",
       "\n",
       "       05am      05pm        08  ...       yrs     yuma       yup      yvr  \\\n",
       "0 -0.014306 -0.017497 -0.016838  ... -0.021645 -0.01671 -0.017593 -0.02016   \n",
       "1 -0.014306 -0.017497 -0.016838  ... -0.021645 -0.01671 -0.017593 -0.02016   \n",
       "2 -0.014306 -0.017497 -0.016838  ... -0.021645 -0.01671 -0.017593 -0.02016   \n",
       "3 -0.014306 -0.017497 -0.016838  ... -0.021645 -0.01671 -0.017593 -0.02016   \n",
       "4 -0.014306 -0.017497 -0.016838  ... -0.021645 -0.01671 -0.017593 -0.02016   \n",
       "\n",
       "        yyz      zero  zkatcher      zone    zurich  #tweetlen  \n",
       "0 -0.035746 -0.053645 -0.017555 -0.020478 -0.017619  -0.297827  \n",
       "1 -0.035746 -0.053645 -0.017555 -0.020478 -0.017619   0.854251  \n",
       "2 -0.035746 -0.053645 -0.017555 -0.020478 -0.017619  -0.787461  \n",
       "3 -0.035746 -0.053645 -0.017555 -0.020478 -0.017619  -1.824331  \n",
       "4 -0.035746 -0.053645 -0.017555 -0.020478 -0.017619   0.911855  \n",
       "\n",
       "[5 rows x 5001 columns]"
      ]
     },
     "execution_count": 227,
     "metadata": {},
     "output_type": "execute_result"
    }
   ],
   "source": [
    "trainscaler = StandardScaler()\n",
    "trainXscaled = trainscaler.fit_transform(trainfreqs)\n",
    "trainXscaled = pd.DataFrame(trainXscaled, columns = trainfreqs.columns)\n",
    "trainXscaled.head()"
   ]
  },
  {
   "cell_type": "code",
   "execution_count": 234,
   "id": "formed-substitute",
   "metadata": {},
   "outputs": [],
   "source": [
    "testscaler = StandardScaler()\n",
    "testXscaled = testscaler.fit_transform(testfreqs)\n",
    "testXscaled = pd.DataFrame(testXscaled, columns = testfreqs.columns)"
   ]
  },
  {
   "cell_type": "markdown",
   "id": "careful-pattern",
   "metadata": {},
   "source": [
    "**Discussion**: why are we scaling these two matrices separately? Why not scale the whole thing together before dividing into test and train sets?"
   ]
  },
  {
   "cell_type": "markdown",
   "id": "breeding-startup",
   "metadata": {},
   "source": [
    "#### cross-validating a model\n",
    "\n",
    "If we just wanted to train and test a single model--and if we only wanted to measure \"accuracy\"--this would be simple."
   ]
  },
  {
   "cell_type": "code",
   "execution_count": 244,
   "id": "patient-portsmouth",
   "metadata": {},
   "outputs": [
    {
     "data": {
      "text/plain": [
       "0.9045"
      ]
     },
     "execution_count": 244,
     "metadata": {},
     "output_type": "execute_result"
    }
   ],
   "source": [
    "logist = LogisticRegression(C = .1, max_iter = 1000) \n",
    "logist.fit(trainXscaled, train_y)\n",
    "\n",
    "predictions = logist.predict(testXscaled)\n",
    "sum(predictions == test_y) / len(predictions)"
   ]
  },
  {
   "cell_type": "markdown",
   "id": "substantial-stake",
   "metadata": {},
   "source": [
    "Why is this not a very safe measurement? Well, how many positive tweets do we actually have in our test set?"
   ]
  },
  {
   "cell_type": "code",
   "execution_count": 237,
   "id": "wrapped-point",
   "metadata": {},
   "outputs": [
    {
     "data": {
      "text/plain": [
       "0.204"
      ]
     },
     "execution_count": 237,
     "metadata": {},
     "output_type": "execute_result"
    }
   ],
   "source": [
    "sum(test_y) / len(test_y)"
   ]
  },
  {
   "cell_type": "markdown",
   "id": "governmental-charles",
   "metadata": {},
   "source": [
    "So you can get 80% \"accuracy\" just by predicting \"negative\" in every case.\n",
    "\n",
    "A better measurement is F1 score:\n",
    "\n",
    "    F1 = 2 * (precision * recall) / (precision + recall)\n",
    "\n",
    "The simple way to calculate this is"
   ]
  },
  {
   "cell_type": "code",
   "execution_count": 245,
   "id": "enormous-engine",
   "metadata": {},
   "outputs": [
    {
     "data": {
      "text/plain": [
       "0.7573062261753495"
      ]
     },
     "execution_count": 245,
     "metadata": {},
     "output_type": "execute_result"
    }
   ],
   "source": [
    "f1_score(test_y, predictions)"
   ]
  },
  {
   "cell_type": "markdown",
   "id": "assured-martin",
   "metadata": {},
   "source": [
    "but that doesn't help us understand the number, so ...\n",
    "\n",
    "#### EXERCISE 2:\n",
    "\n",
    "working in small groups, calculate precision: the ratio tp / (tp + fp) where tp is the number of true positives and fp the number of false positives. \n",
    "\n",
    "then recall: the ratio tp / (tp + fn) where tp is the number of true positives and fn the number of false negatives. \n",
    "\n",
    "Then calculate your f1 score, which should equal what *you* got above. Note that since we randomized the test/train split, everyone's result will be slightly different."
   ]
  },
  {
   "cell_type": "markdown",
   "id": "altered-favor",
   "metadata": {},
   "source": [
    "### handling imbalanced classes\n",
    "\n",
    "To keep your model from always choosing \"negative,\" you can weight the classes inversely to their frequency. This will make errors in rare classes more costly."
   ]
  },
  {
   "cell_type": "code",
   "execution_count": 243,
   "id": "aging-source",
   "metadata": {},
   "outputs": [
    {
     "data": {
      "text/plain": [
       "0.7627118644067796"
      ]
     },
     "execution_count": 243,
     "metadata": {},
     "output_type": "execute_result"
    }
   ],
   "source": [
    "logist = LogisticRegression(C = .1, max_iter = 1000, class_weight = 'balanced') \n",
    "logist.fit(trainXscaled, train_y)\n",
    "\n",
    "predictions = logist.predict(testXscaled)\n",
    "f1_score(test_y, predictions)"
   ]
  },
  {
   "cell_type": "markdown",
   "id": "christian-press",
   "metadata": {},
   "source": [
    "The C parameter sets smoothing. It's like alpha in Naive Bayes, except size is reversed here: low numbers equal stronger smoothing. We could fiddle around with C until we got a good number on our test set, but then we might be overfitting our test set. \n",
    "\n",
    "**Discussion:** Why?\n",
    "\n",
    "An alternative is to fiddle around with the training set until we get a good C parameter, and then test that number on the test set (being careful not to look at it until the final stage.)\n",
    "\n",
    "But we don't want to overfit the training set in the process of \"fiddling around\" on it. Otherwise we'll tend to choose less regularization than we really need for the test set.\n",
    "\n",
    "A solution here is to \"cross-validate\" on the training set: repeatedly divide it, train on say 4/5th of the data, and test on the remaining fifth.\n"
   ]
  },
  {
   "cell_type": "code",
   "execution_count": 254,
   "id": "instant-somerset",
   "metadata": {},
   "outputs": [
    {
     "name": "stdout",
     "output_type": "stream",
     "text": [
      "{'fit_time': array([4.55598092, 5.27096176, 4.72088623, 5.31768298, 4.35501695]), 'score_time': array([0.04901886, 0.04940629, 0.04912186, 0.04850292, 0.05249   ]), 'test_score': array([0.72796935, 0.69879518, 0.72435105, 0.71890547, 0.72609819])}\n",
      "\n",
      "Mean f1: 0.7192238487826067\n"
     ]
    }
   ],
   "source": [
    "logist = LogisticRegression(C = .01, max_iter = 1000, class_weight = 'balanced')\n",
    "results = cross_validate(logist, trainXscaled, train_y, cv = 5, scoring = 'f1')\n",
    "print(results)\n",
    "print()\n",
    "print('Mean f1:', np.mean(results['test_score']))"
   ]
  },
  {
   "cell_type": "markdown",
   "id": "technological-retirement",
   "metadata": {},
   "source": [
    "Technically, to be extremely cautious, we would \"scale\" each fold of the cross-validation separately. This can be done in sklearn using a \"pipeline,\" but it adds more complexity than we need for this exercise and doesn't actually change our result greatly.\n",
    "\n",
    "#### EXERCISE 3:\n",
    "\n",
    "Construct a for-loop that tests C parameters ranging from .00001 to 10, varying by powers of 10.\n",
    "\n",
    "    [.00001, .0001, .001, .01, .1, 1, 10]\n",
    "\n",
    "In each case, cross-validate on trainXscaled and report the f1 score. When you've got the C parameter that works best, use that model to make a prediction on testXscaled, and calculate both f1 score and accuracy for that prediction."
   ]
  },
  {
   "cell_type": "code",
   "execution_count": 255,
   "id": "exotic-talent",
   "metadata": {},
   "outputs": [
    {
     "name": "stdout",
     "output_type": "stream",
     "text": [
      "C parameter: 1e-05\n",
      "Mean f1: 0.7572185140239014\n",
      "C parameter: 0.0001\n",
      "Mean f1: 0.7663891450949031\n",
      "C parameter: 0.001\n",
      "Mean f1: 0.7725587587027671\n",
      "C parameter: 0.01\n",
      "Mean f1: 0.757108314347154\n",
      "C parameter: 0.1\n",
      "Mean f1: 0.7412962850808001\n",
      "C parameter: 1\n",
      "Mean f1: 0.7192238487826067\n",
      "C parameter: 10\n",
      "Mean f1: 0.707171536076827\n"
     ]
    }
   ],
   "source": [
    "for c_param in [.00001, .0001, .001, .01, .1, 1, 10]:\n",
    "    logist = LogisticRegression(C = c_param, max_iter = 1000, class_weight = 'balanced') \n",
    "    results = cross_validate(logist, trainXscaled, train_y, cv = 5, scoring = 'f1')\n",
    "    print('C parameter:', c_param)\n",
    "    print('Mean f1:', np.mean(results['test_score']))\n",
    "    print()"
   ]
  },
  {
   "cell_type": "code",
   "execution_count": 256,
   "id": "secret-conversation",
   "metadata": {},
   "outputs": [],
   "source": [
    "\n"
   ]
  },
  {
   "cell_type": "markdown",
   "id": "quiet-destiny",
   "metadata": {},
   "source": [
    "#### identify predictive features\n",
    "\n"
   ]
  },
  {
   "cell_type": "code",
   "execution_count": 266,
   "id": "authorized-forum",
   "metadata": {},
   "outputs": [],
   "source": [
    "logist = LogisticRegression(C = c_param, max_iter = 1000, class_weight = 'balanced')\n",
    "logist.fit(trainXscaled, train_y)\n",
    "coefficients = [x for x in zip(logist.coef_[0], vectorizer.get_feature_names())]"
   ]
  },
  {
   "cell_type": "code",
   "execution_count": 267,
   "id": "attended-authentication",
   "metadata": {},
   "outputs": [],
   "source": [
    "coefficients.sort()"
   ]
  },
  {
   "cell_type": "code",
   "execution_count": 268,
   "id": "american-arthur",
   "metadata": {},
   "outputs": [
    {
     "data": {
      "text/plain": [
       "[(-0.14645392410087024, 'not'),\n",
       " (-0.1065035301088209, 'no'),\n",
       " (-0.10599519278651948, 'delayed'),\n",
       " (-0.10488388696004632, 'hours'),\n",
       " (-0.0938868300555908, 'worst'),\n",
       " (-0.0905628326048827, 'hold'),\n",
       " (-0.0874277694338639, 'cancelled'),\n",
       " (-0.07963021967663711, 'is'),\n",
       " (-0.07477410536535237, 'why'),\n",
       " (-0.07308465929735496, 'flightled'),\n",
       " (-0.07287158188138247, 'hour'),\n",
       " (-0.06628520332193458, 'late'),\n",
       " (-0.06520203434410853, 'because'),\n",
       " (-0.0643067621413151, 'what'),\n",
       " (-0.06390583004076458, 'delay'),\n",
       " (-0.06383261920722895, 'how'),\n",
       " (-0.06324038697974534, 'can'),\n",
       " (-0.06294424437475006, 'never'),\n",
       " (-0.06254919159789342, 'need'),\n",
       " (-0.061676302196237646, 'call')]"
      ]
     },
     "execution_count": 268,
     "metadata": {},
     "output_type": "execute_result"
    }
   ],
   "source": [
    "coefficients[0:20]"
   ]
  },
  {
   "cell_type": "code",
   "execution_count": 269,
   "id": "narrow-adventure",
   "metadata": {},
   "outputs": [
    {
     "data": {
      "text/plain": [
       "[(0.06057929144441297, 'much'),\n",
       " (0.0620508864285614, 'got'),\n",
       " (0.06797044743599927, 'glad'),\n",
       " (0.07000721675405233, 'job'),\n",
       " (0.07292900011222268, 'worries'),\n",
       " (0.0772813526006825, 'kudos'),\n",
       " (0.08352568275232157, 'excellent'),\n",
       " (0.08354652254183786, 'you'),\n",
       " (0.09121280322945946, 'virginamerica'),\n",
       " (0.09230862065832485, 'appreciate'),\n",
       " (0.09492070250563944, 'good'),\n",
       " (0.10664744501790183, 'jetblue'),\n",
       " (0.11174476176562308, 'southwestair'),\n",
       " (0.12098072865659446, 'amazing'),\n",
       " (0.12464225851181865, 'best'),\n",
       " (0.12597304718784247, 'love'),\n",
       " (0.13473076947581752, 'awesome'),\n",
       " (0.19367423590775812, 'great'),\n",
       " (0.26218025055389255, 'thank'),\n",
       " (0.2999161560822741, 'thanks')]"
      ]
     },
     "execution_count": 269,
     "metadata": {},
     "output_type": "execute_result"
    }
   ],
   "source": [
    "coefficients[-20:]"
   ]
  },
  {
   "cell_type": "code",
   "execution_count": null,
   "id": "surgical-freeze",
   "metadata": {},
   "outputs": [],
   "source": []
  }
 ],
 "metadata": {
  "kernelspec": {
   "display_name": "Python 3",
   "language": "python",
   "name": "python3"
  },
  "language_info": {
   "codemirror_mode": {
    "name": "ipython",
    "version": 3
   },
   "file_extension": ".py",
   "mimetype": "text/x-python",
   "name": "python",
   "nbconvert_exporter": "python",
   "pygments_lexer": "ipython3",
   "version": "3.7.6"
  }
 },
 "nbformat": 4,
 "nbformat_minor": 5
}
