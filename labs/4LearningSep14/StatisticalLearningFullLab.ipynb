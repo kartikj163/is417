{
 "cells": [
  {
   "cell_type": "markdown",
   "id": "favorite-execution",
   "metadata": {},
   "source": [
    "# Predictive modeling\n",
    "\n",
    "Let's start with the Crowdflower Airline Sentiment Twitter dataset. \n",
    "\n",
    "    A sentiment analysis job about the problems of each major U.S. airline. Twitter data was scraped from February of 2015 and contributors were asked to first classify positive, negative, and neutral tweets, followed by categorizing negative reasons (such as \"late flight\" or \"rude service\").\n",
    "    \n",
    "This dataset was produced by human categorization. But if you were working for an airline, you can easily imagine that you might want to assess customer sentiment (and reasons for negative sentiment) week by week without manually categorizing thousands of tweets. To do that, you might need to train some kind of predictive model."
   ]
  },
  {
   "cell_type": "code",
   "execution_count": 1,
   "id": "significant-alabama",
   "metadata": {},
   "outputs": [],
   "source": [
    "import pandas as pd\n",
    "import numpy as np\n",
    "from matplotlib import pyplot as plt\n",
    "from sklearn.linear_model import LogisticRegression\n",
    "from sklearn.feature_extraction.text import CountVectorizer\n",
    "from sklearn.naive_bayes import MultinomialNB\n",
    "from sklearn.preprocessing import StandardScaler\n",
    "from sklearn.metrics import f1_score\n",
    "from sklearn.model_selection import cross_validate\n",
    "from pathlib import Path\n",
    "import math"
   ]
  },
  {
   "cell_type": "markdown",
   "id": "architectural-velvet",
   "metadata": {},
   "source": [
    "### Loading the data\n",
    "\n",
    "Let's start by loading the data and doing some exploratory analysis."
   ]
  },
  {
   "cell_type": "code",
   "execution_count": 2,
   "id": "incorporate-killing",
   "metadata": {},
   "outputs": [
    {
     "name": "stdout",
     "output_type": "stream",
     "text": [
      "(14640, 5)\n"
     ]
    },
    {
     "data": {
      "text/html": [
       "<div>\n",
       "<style scoped>\n",
       "    .dataframe tbody tr th:only-of-type {\n",
       "        vertical-align: middle;\n",
       "    }\n",
       "\n",
       "    .dataframe tbody tr th {\n",
       "        vertical-align: top;\n",
       "    }\n",
       "\n",
       "    .dataframe thead th {\n",
       "        text-align: right;\n",
       "    }\n",
       "</style>\n",
       "<table border=\"1\" class=\"dataframe\">\n",
       "  <thead>\n",
       "    <tr style=\"text-align: right;\">\n",
       "      <th></th>\n",
       "      <th>airline_sentiment</th>\n",
       "      <th>negativereason</th>\n",
       "      <th>retweet_count</th>\n",
       "      <th>airline</th>\n",
       "      <th>text</th>\n",
       "    </tr>\n",
       "  </thead>\n",
       "  <tbody>\n",
       "    <tr>\n",
       "      <th>0</th>\n",
       "      <td>neutral</td>\n",
       "      <td>NaN</td>\n",
       "      <td>0</td>\n",
       "      <td>Virgin America</td>\n",
       "      <td>@VirginAmerica What @dhepburn said.</td>\n",
       "    </tr>\n",
       "    <tr>\n",
       "      <th>1</th>\n",
       "      <td>positive</td>\n",
       "      <td>NaN</td>\n",
       "      <td>0</td>\n",
       "      <td>Virgin America</td>\n",
       "      <td>@VirginAmerica plus you've added commercials t...</td>\n",
       "    </tr>\n",
       "    <tr>\n",
       "      <th>2</th>\n",
       "      <td>neutral</td>\n",
       "      <td>NaN</td>\n",
       "      <td>0</td>\n",
       "      <td>Virgin America</td>\n",
       "      <td>@VirginAmerica I didn't today... Must mean I n...</td>\n",
       "    </tr>\n",
       "    <tr>\n",
       "      <th>3</th>\n",
       "      <td>negative</td>\n",
       "      <td>Bad Flight</td>\n",
       "      <td>0</td>\n",
       "      <td>Virgin America</td>\n",
       "      <td>@VirginAmerica it's really aggressive to blast...</td>\n",
       "    </tr>\n",
       "    <tr>\n",
       "      <th>4</th>\n",
       "      <td>negative</td>\n",
       "      <td>Can't Tell</td>\n",
       "      <td>0</td>\n",
       "      <td>Virgin America</td>\n",
       "      <td>@VirginAmerica and it's a really big bad thing...</td>\n",
       "    </tr>\n",
       "  </tbody>\n",
       "</table>\n",
       "</div>"
      ],
      "text/plain": [
       "  airline_sentiment negativereason  retweet_count         airline  \\\n",
       "0           neutral            NaN              0  Virgin America   \n",
       "1          positive            NaN              0  Virgin America   \n",
       "2           neutral            NaN              0  Virgin America   \n",
       "3          negative     Bad Flight              0  Virgin America   \n",
       "4          negative     Can't Tell              0  Virgin America   \n",
       "\n",
       "                                                text  \n",
       "0                @VirginAmerica What @dhepburn said.  \n",
       "1  @VirginAmerica plus you've added commercials t...  \n",
       "2  @VirginAmerica I didn't today... Must mean I n...  \n",
       "3  @VirginAmerica it's really aggressive to blast...  \n",
       "4  @VirginAmerica and it's a really big bad thing...  "
      ]
     },
     "execution_count": 2,
     "metadata": {},
     "output_type": "execute_result"
    }
   ],
   "source": [
    "tweetpath = Path('../../data/tweets/flight_sentiment.tsv')\n",
    "\n",
    "tweets = pd.read_csv(tweetpath, sep ='\\t')\n",
    "\n",
    "print(tweets.shape)\n",
    "\n",
    "tweets.head()"
   ]
  },
  {
   "cell_type": "markdown",
   "id": "happy-database",
   "metadata": {},
   "source": [
    "#### Exploratory data analysis\n",
    "\n",
    "It's always a good idea to inspect the data before modeling it.\n",
    "\n",
    "1. Find out what the top three reasons for unhappiness are. \n",
    "\n",
    "2. Visualize the distribution of positive, neutral, and negative ```airline_sentiment``` as a bar graph.\n",
    "\n",
    "3. Examine the full texts of 5 tweets in the \"Bad Flight\" category, to see what that actually means.\n",
    "\n",
    "To make full texts a little easier to inspect I'm going to start by telling Pandas to display the full column width."
   ]
  },
  {
   "cell_type": "code",
   "execution_count": 3,
   "id": "compressed-speaking",
   "metadata": {},
   "outputs": [],
   "source": [
    "pd.set_option('display.max_colwidth', None)"
   ]
  },
  {
   "cell_type": "code",
   "execution_count": 4,
   "id": "incident-oklahoma",
   "metadata": {},
   "outputs": [
    {
     "data": {
      "text/plain": [
       "Customer Service Issue         2910\n",
       "Late Flight                    1665\n",
       "Can't Tell                     1190\n",
       "Cancelled Flight                847\n",
       "Lost Luggage                    724\n",
       "Bad Flight                      580\n",
       "Flight Booking Problems         529\n",
       "Flight Attendant Complaints     481\n",
       "longlines                       178\n",
       "Damaged Luggage                  74\n",
       "Name: negativereason, dtype: int64"
      ]
     },
     "execution_count": 4,
     "metadata": {},
     "output_type": "execute_result"
    }
   ],
   "source": [
    "tweets['negativereason'].value_counts()"
   ]
  },
  {
   "cell_type": "code",
   "execution_count": 17,
   "id": "alone-addition",
   "metadata": {},
   "outputs": [
    {
     "data": {
      "text/plain": [
       "<AxesSubplot:>"
      ]
     },
     "execution_count": 17,
     "metadata": {},
     "output_type": "execute_result"
    },
    {
     "data": {
      "image/png": "[encoded data removed]",
      "text/plain": [
       "<Figure size 432x288 with 1 Axes>"
      ]
     },
     "metadata": {
      "needs_background": "light"
     },
     "output_type": "display_data"
    }
   ],
   "source": [
    "tweets['airline_sentiment'].value_counts().plot.bar(color = ['blue', 'green', 'red'])"
   ]
  },
  {
   "cell_type": "code",
   "execution_count": 5,
   "id": "regional-number",
   "metadata": {},
   "outputs": [
    {
     "data": {
      "text/html": [
       "<div>\n",
       "<style scoped>\n",
       "    .dataframe tbody tr th:only-of-type {\n",
       "        vertical-align: middle;\n",
       "    }\n",
       "\n",
       "    .dataframe tbody tr th {\n",
       "        vertical-align: top;\n",
       "    }\n",
       "\n",
       "    .dataframe thead th {\n",
       "        text-align: right;\n",
       "    }\n",
       "</style>\n",
       "<table border=\"1\" class=\"dataframe\">\n",
       "  <thead>\n",
       "    <tr style=\"text-align: right;\">\n",
       "      <th></th>\n",
       "      <th>airline_sentiment</th>\n",
       "      <th>negativereason</th>\n",
       "      <th>retweet_count</th>\n",
       "      <th>airline</th>\n",
       "      <th>text</th>\n",
       "    </tr>\n",
       "  </thead>\n",
       "  <tbody>\n",
       "    <tr>\n",
       "      <th>3</th>\n",
       "      <td>negative</td>\n",
       "      <td>Bad Flight</td>\n",
       "      <td>0</td>\n",
       "      <td>Virgin America</td>\n",
       "      <td>@VirginAmerica it's really aggressive to blast obnoxious \"entertainment\" in your guests' faces &amp;amp; they have little recourse</td>\n",
       "    </tr>\n",
       "    <tr>\n",
       "      <th>17</th>\n",
       "      <td>negative</td>\n",
       "      <td>Bad Flight</td>\n",
       "      <td>0</td>\n",
       "      <td>Virgin America</td>\n",
       "      <td>@VirginAmerica  I flew from NYC to SFO last week and couldn't fully sit in my seat due to two large gentleman on either side of me. HELP!</td>\n",
       "    </tr>\n",
       "    <tr>\n",
       "      <th>28</th>\n",
       "      <td>negative</td>\n",
       "      <td>Bad Flight</td>\n",
       "      <td>0</td>\n",
       "      <td>Virgin America</td>\n",
       "      <td>@VirginAmerica amazing to me that we can't get any cold air from the vents. #VX358 #noair #worstflightever #roasted #SFOtoBOS</td>\n",
       "    </tr>\n",
       "    <tr>\n",
       "      <th>162</th>\n",
       "      <td>negative</td>\n",
       "      <td>Bad Flight</td>\n",
       "      <td>0</td>\n",
       "      <td>Virgin America</td>\n",
       "      <td>@virginamerica why don't any of the pairings include red wine?! Only white is offered :( #redwineisbetter</td>\n",
       "    </tr>\n",
       "    <tr>\n",
       "      <th>209</th>\n",
       "      <td>negative</td>\n",
       "      <td>Bad Flight</td>\n",
       "      <td>0</td>\n",
       "      <td>Virgin America</td>\n",
       "      <td>@VirginAmerica seats in Row 8 don't recline should mention that on your website #soreback</td>\n",
       "    </tr>\n",
       "    <tr>\n",
       "      <th>...</th>\n",
       "      <td>...</td>\n",
       "      <td>...</td>\n",
       "      <td>...</td>\n",
       "      <td>...</td>\n",
       "      <td>...</td>\n",
       "    </tr>\n",
       "    <tr>\n",
       "      <th>14484</th>\n",
       "      <td>negative</td>\n",
       "      <td>Bad Flight</td>\n",
       "      <td>0</td>\n",
       "      <td>American</td>\n",
       "      <td>@AmericanAir after all, the plane didn’t land in identical or worse) conditions at GRK according to METARs.</td>\n",
       "    </tr>\n",
       "    <tr>\n",
       "      <th>14550</th>\n",
       "      <td>negative</td>\n",
       "      <td>Bad Flight</td>\n",
       "      <td>0</td>\n",
       "      <td>American</td>\n",
       "      <td>@AmericanAir and how is this not a mechanical issue? All evidence points to the idea that it’s the ILS at CLL at fault, not the weather.</td>\n",
       "    </tr>\n",
       "    <tr>\n",
       "      <th>14555</th>\n",
       "      <td>negative</td>\n",
       "      <td>Bad Flight</td>\n",
       "      <td>0</td>\n",
       "      <td>American</td>\n",
       "      <td>@AmericanAir fix the engine of flight AA3031so I don't spend all night in your airport so I can fly home tomorrow</td>\n",
       "    </tr>\n",
       "    <tr>\n",
       "      <th>14618</th>\n",
       "      <td>negative</td>\n",
       "      <td>Bad Flight</td>\n",
       "      <td>0</td>\n",
       "      <td>American</td>\n",
       "      <td>@AmericanAir 3078 is overweight so you pull 2 dozen passengers off? Why not luggage? Seriously?</td>\n",
       "    </tr>\n",
       "    <tr>\n",
       "      <th>14631</th>\n",
       "      <td>negative</td>\n",
       "      <td>Bad Flight</td>\n",
       "      <td>0</td>\n",
       "      <td>American</td>\n",
       "      <td>@AmericanAir thx for nothing on getting us out of the country and back to US. Broken plane? Come on. Get another one.</td>\n",
       "    </tr>\n",
       "  </tbody>\n",
       "</table>\n",
       "<p>580 rows × 5 columns</p>\n",
       "</div>"
      ],
      "text/plain": [
       "      airline_sentiment negativereason  retweet_count         airline  \\\n",
       "3              negative     Bad Flight              0  Virgin America   \n",
       "17             negative     Bad Flight              0  Virgin America   \n",
       "28             negative     Bad Flight              0  Virgin America   \n",
       "162            negative     Bad Flight              0  Virgin America   \n",
       "209            negative     Bad Flight              0  Virgin America   \n",
       "...                 ...            ...            ...             ...   \n",
       "14484          negative     Bad Flight              0        American   \n",
       "14550          negative     Bad Flight              0        American   \n",
       "14555          negative     Bad Flight              0        American   \n",
       "14618          negative     Bad Flight              0        American   \n",
       "14631          negative     Bad Flight              0        American   \n",
       "\n",
       "                                                                                                                                            text  \n",
       "3                 @VirginAmerica it's really aggressive to blast obnoxious \"entertainment\" in your guests' faces &amp; they have little recourse  \n",
       "17     @VirginAmerica  I flew from NYC to SFO last week and couldn't fully sit in my seat due to two large gentleman on either side of me. HELP!  \n",
       "28                 @VirginAmerica amazing to me that we can't get any cold air from the vents. #VX358 #noair #worstflightever #roasted #SFOtoBOS  \n",
       "162                                    @virginamerica why don't any of the pairings include red wine?! Only white is offered :( #redwineisbetter  \n",
       "209                                                    @VirginAmerica seats in Row 8 don't recline should mention that on your website #soreback  \n",
       "...                                                                                                                                          ...  \n",
       "14484                                @AmericanAir after all, the plane didn’t land in identical or worse) conditions at GRK according to METARs.  \n",
       "14550   @AmericanAir and how is this not a mechanical issue? All evidence points to the idea that it’s the ILS at CLL at fault, not the weather.  \n",
       "14555                          @AmericanAir fix the engine of flight AA3031so I don't spend all night in your airport so I can fly home tomorrow  \n",
       "14618                                            @AmericanAir 3078 is overweight so you pull 2 dozen passengers off? Why not luggage? Seriously?  \n",
       "14631                      @AmericanAir thx for nothing on getting us out of the country and back to US. Broken plane? Come on. Get another one.  \n",
       "\n",
       "[580 rows x 5 columns]"
      ]
     },
     "execution_count": 5,
     "metadata": {},
     "output_type": "execute_result"
    }
   ],
   "source": [
    "tweets.loc[tweets.negativereason == 'Bad Flight', :]"
   ]
  },
  {
   "cell_type": "markdown",
   "id": "cutting-jurisdiction",
   "metadata": {},
   "source": [
    "### Now create a term-document matrix (wordcounts)"
   ]
  },
  {
   "cell_type": "code",
   "execution_count": 6,
   "id": "czech-allen",
   "metadata": {},
   "outputs": [],
   "source": [
    "vectorizer = CountVectorizer(max_features = 4000)"
   ]
  },
  {
   "cell_type": "markdown",
   "id": "hired-catholic",
   "metadata": {},
   "source": [
    "I'm going to start occasionally using an alternative way to refer to Pandas columns, which is simply\n",
    "\n",
    "    ```df.columnname```\n",
    "    instead of\n",
    "    ```df['columnname']\n",
    "\n",
    "This can occasionally be confusing. If you name a column something like \"shape\" for instance, you could be in trouble! But it's a lot quicker to type."
   ]
  },
  {
   "cell_type": "code",
   "execution_count": 7,
   "id": "unusual-footwear",
   "metadata": {},
   "outputs": [
    {
     "data": {
      "text/html": [
       "<div>\n",
       "<style scoped>\n",
       "    .dataframe tbody tr th:only-of-type {\n",
       "        vertical-align: middle;\n",
       "    }\n",
       "\n",
       "    .dataframe tbody tr th {\n",
       "        vertical-align: top;\n",
       "    }\n",
       "\n",
       "    .dataframe thead th {\n",
       "        text-align: right;\n",
       "    }\n",
       "</style>\n",
       "<table border=\"1\" class=\"dataframe\">\n",
       "  <thead>\n",
       "    <tr style=\"text-align: right;\">\n",
       "      <th></th>\n",
       "      <th>00</th>\n",
       "      <th>000</th>\n",
       "      <th>0016</th>\n",
       "      <th>00pm</th>\n",
       "      <th>02</th>\n",
       "      <th>03</th>\n",
       "      <th>05</th>\n",
       "      <th>05am</th>\n",
       "      <th>05pm</th>\n",
       "      <th>08</th>\n",
       "      <th>...</th>\n",
       "      <th>yr</th>\n",
       "      <th>yrs</th>\n",
       "      <th>yuma</th>\n",
       "      <th>yup</th>\n",
       "      <th>yvr</th>\n",
       "      <th>yyz</th>\n",
       "      <th>zero</th>\n",
       "      <th>zkatcher</th>\n",
       "      <th>zone</th>\n",
       "      <th>zurich</th>\n",
       "    </tr>\n",
       "  </thead>\n",
       "  <tbody>\n",
       "    <tr>\n",
       "      <th>0</th>\n",
       "      <td>0</td>\n",
       "      <td>0</td>\n",
       "      <td>0</td>\n",
       "      <td>0</td>\n",
       "      <td>0</td>\n",
       "      <td>0</td>\n",
       "      <td>0</td>\n",
       "      <td>0</td>\n",
       "      <td>0</td>\n",
       "      <td>0</td>\n",
       "      <td>...</td>\n",
       "      <td>0</td>\n",
       "      <td>0</td>\n",
       "      <td>0</td>\n",
       "      <td>0</td>\n",
       "      <td>0</td>\n",
       "      <td>0</td>\n",
       "      <td>0</td>\n",
       "      <td>0</td>\n",
       "      <td>0</td>\n",
       "      <td>0</td>\n",
       "    </tr>\n",
       "    <tr>\n",
       "      <th>1</th>\n",
       "      <td>0</td>\n",
       "      <td>0</td>\n",
       "      <td>0</td>\n",
       "      <td>0</td>\n",
       "      <td>0</td>\n",
       "      <td>0</td>\n",
       "      <td>0</td>\n",
       "      <td>0</td>\n",
       "      <td>0</td>\n",
       "      <td>0</td>\n",
       "      <td>...</td>\n",
       "      <td>0</td>\n",
       "      <td>0</td>\n",
       "      <td>0</td>\n",
       "      <td>0</td>\n",
       "      <td>0</td>\n",
       "      <td>0</td>\n",
       "      <td>0</td>\n",
       "      <td>0</td>\n",
       "      <td>0</td>\n",
       "      <td>0</td>\n",
       "    </tr>\n",
       "    <tr>\n",
       "      <th>2</th>\n",
       "      <td>0</td>\n",
       "      <td>0</td>\n",
       "      <td>0</td>\n",
       "      <td>0</td>\n",
       "      <td>0</td>\n",
       "      <td>0</td>\n",
       "      <td>0</td>\n",
       "      <td>0</td>\n",
       "      <td>0</td>\n",
       "      <td>0</td>\n",
       "      <td>...</td>\n",
       "      <td>0</td>\n",
       "      <td>0</td>\n",
       "      <td>0</td>\n",
       "      <td>0</td>\n",
       "      <td>0</td>\n",
       "      <td>0</td>\n",
       "      <td>0</td>\n",
       "      <td>0</td>\n",
       "      <td>0</td>\n",
       "      <td>0</td>\n",
       "    </tr>\n",
       "    <tr>\n",
       "      <th>3</th>\n",
       "      <td>0</td>\n",
       "      <td>0</td>\n",
       "      <td>0</td>\n",
       "      <td>0</td>\n",
       "      <td>0</td>\n",
       "      <td>0</td>\n",
       "      <td>0</td>\n",
       "      <td>0</td>\n",
       "      <td>0</td>\n",
       "      <td>0</td>\n",
       "      <td>...</td>\n",
       "      <td>0</td>\n",
       "      <td>0</td>\n",
       "      <td>0</td>\n",
       "      <td>0</td>\n",
       "      <td>0</td>\n",
       "      <td>0</td>\n",
       "      <td>0</td>\n",
       "      <td>0</td>\n",
       "      <td>0</td>\n",
       "      <td>0</td>\n",
       "    </tr>\n",
       "    <tr>\n",
       "      <th>4</th>\n",
       "      <td>0</td>\n",
       "      <td>0</td>\n",
       "      <td>0</td>\n",
       "      <td>0</td>\n",
       "      <td>0</td>\n",
       "      <td>0</td>\n",
       "      <td>0</td>\n",
       "      <td>0</td>\n",
       "      <td>0</td>\n",
       "      <td>0</td>\n",
       "      <td>...</td>\n",
       "      <td>0</td>\n",
       "      <td>0</td>\n",
       "      <td>0</td>\n",
       "      <td>0</td>\n",
       "      <td>0</td>\n",
       "      <td>0</td>\n",
       "      <td>0</td>\n",
       "      <td>0</td>\n",
       "      <td>0</td>\n",
       "      <td>0</td>\n",
       "    </tr>\n",
       "  </tbody>\n",
       "</table>\n",
       "<p>5 rows × 4000 columns</p>\n",
       "</div>"
      ],
      "text/plain": [
       "   00  000  0016  00pm  02  03  05  05am  05pm  08  ...  yr  yrs  yuma  yup  \\\n",
       "0   0    0     0     0   0   0   0     0     0   0  ...   0    0     0    0   \n",
       "1   0    0     0     0   0   0   0     0     0   0  ...   0    0     0    0   \n",
       "2   0    0     0     0   0   0   0     0     0   0  ...   0    0     0    0   \n",
       "3   0    0     0     0   0   0   0     0     0   0  ...   0    0     0    0   \n",
       "4   0    0     0     0   0   0   0     0     0   0  ...   0    0     0    0   \n",
       "\n",
       "   yvr  yyz  zero  zkatcher  zone  zurich  \n",
       "0    0    0     0         0     0       0  \n",
       "1    0    0     0         0     0       0  \n",
       "2    0    0     0         0     0       0  \n",
       "3    0    0     0         0     0       0  \n",
       "4    0    0     0         0     0       0  \n",
       "\n",
       "[5 rows x 4000 columns]"
      ]
     },
     "execution_count": 7,
     "metadata": {},
     "output_type": "execute_result"
    }
   ],
   "source": [
    "sparse_wordcounts = vectorizer.fit_transform(tweets.text)\n",
    "wordcounts = sparse_wordcounts.toarray()\n",
    "tweetwords = pd.DataFrame(wordcounts, columns = vectorizer.get_feature_names())\n",
    "tweetwords.head()"
   ]
  },
  {
   "cell_type": "markdown",
   "id": "motivated-frederick",
   "metadata": {},
   "source": [
    "#### Discussion\n",
    "\n",
    "If we really cared about maximizing accuracy it would probably be worthwhile to think hard about the strategy we're using to count words. For instance, how will the CountVectorizer handle a hashtag like \"#soreback\"? How might we ideally want to handle it?"
   ]
  },
  {
   "cell_type": "markdown",
   "id": "crazy-palmer",
   "metadata": {},
   "source": [
    "Let's use the technique we learned last time to select some of the words most likely to predict positive or negative sentiment."
   ]
  },
  {
   "cell_type": "code",
   "execution_count": 8,
   "id": "crazy-prize",
   "metadata": {},
   "outputs": [],
   "source": [
    "negative_words = tweetwords.loc[tweets.airline_sentiment == 'negative', :].sum(axis = 'rows')\n",
    "positive_words = tweetwords.loc[tweets.airline_sentiment == 'positive', :].sum(axis = 'rows')"
   ]
  },
  {
   "cell_type": "code",
   "execution_count": 9,
   "id": "accompanied-communist",
   "metadata": {},
   "outputs": [],
   "source": [
    "def get_dunnings(word, series1, series2):\n",
    "    observed = pd.DataFrame({'series1': [series1[word], sum(series1) - series1[word]],\n",
    "                          'series2': [series2[word], sum(series2) - series2[word]]},\n",
    "                        index = ['word', 'all_others'])\n",
    "    total_words = observed.to_numpy().sum()\n",
    "    observed['word_totals'] = observed.sum(axis = 1)\n",
    "    observed = observed.append(observed.sum(axis = 0).rename(index = 'group_totals'))\n",
    "    observed.iat[2,2] = 0\n",
    "    observed['word_totals'] = observed['word_totals'] / sum(observed['word_totals'])\n",
    "    observed.loc['group_totals', : ] = observed.loc['group_totals', : ] / sum(observed.loc['group_totals', : ])\n",
    "    expected = np.outer(observed['word_totals'][0:2], observed.loc['group_totals', : ][0:2])\n",
    "    expected = pd.DataFrame(expected, index = ['word', 'all_others'], columns = ['series1', 'series2'])\n",
    "    expected = expected * total_words\n",
    "    \n",
    "    G = 0\n",
    "    for i in range(2):\n",
    "        for j in range(2):\n",
    "            O = observed.iat[i, j] + .000001\n",
    "            E = expected.iat[i, j] + .000001\n",
    "            G = G + O * math.log(O / E)\n",
    "    \n",
    "    if (observed.iat[0, 0] / sum(observed.iloc[0: 2, 0])) < (observed.iat[0, 1] / sum(observed.iloc[0 : 2, 1])):\n",
    "        G = -G    # we provide a signed version of the statistic to distinguish\n",
    "                  # overrepresentation in the two categories\n",
    "    \n",
    "    return 2 * G"
   ]
  },
  {
   "cell_type": "code",
   "execution_count": 10,
   "id": "amended-juvenile",
   "metadata": {},
   "outputs": [],
   "source": [
    "dunningslist = []\n",
    "\n",
    "for w in vectorizer.get_feature_names():\n",
    "    G = get_dunnings(w, positive_words, negative_words)\n",
    "    dunningslist.append(G)\n",
    "\n",
    "dunnings = pd.Series(dunningslist, index = vectorizer.get_feature_names())\n",
    "dunnings = dunnings.sort_values()"
   ]
  },
  {
   "cell_type": "code",
   "execution_count": 11,
   "id": "stone-amazon",
   "metadata": {},
   "outputs": [
    {
     "data": {
      "text/plain": [
       "no          -165.609085\n",
       "hours       -165.077254\n",
       "hold        -154.163694\n",
       "not         -138.953626\n",
       "cancelled   -130.925833\n",
       "delayed      -86.071118\n",
       "flightled    -83.028421\n",
       "worst        -80.248818\n",
       "hour         -74.138316\n",
       "call         -73.718327\n",
       "why          -65.215920\n",
       "been         -59.384149\n",
       "is           -58.140458\n",
       "hrs          -56.984742\n",
       "usairways    -55.275240\n",
       "waiting      -53.808645\n",
       "can          -48.977909\n",
       "because      -47.704688\n",
       "told         -47.414103\n",
       "luggage      -47.414103\n",
       "dtype: float64"
      ]
     },
     "execution_count": 11,
     "metadata": {},
     "output_type": "execute_result"
    }
   ],
   "source": [
    "dunnings[0:20]"
   ]
  },
  {
   "cell_type": "markdown",
   "id": "inappropriate-rogers",
   "metadata": {},
   "source": [
    "No one mentions \"luggage\" or \"hours\" if they're happy!"
   ]
  },
  {
   "cell_type": "code",
   "execution_count": 12,
   "id": "south-composition",
   "metadata": {},
   "outputs": [
    {
     "data": {
      "text/plain": [
       "excellent          68.405151\n",
       "wonderful          68.405151\n",
       "kudos              79.253573\n",
       "rock               82.791590\n",
       "appreciate        103.413990\n",
       "good              110.310671\n",
       "http              128.769954\n",
       "co                145.210322\n",
       "much              158.874557\n",
       "virginamerica     171.634044\n",
       "best              192.788829\n",
       "amazing           218.934091\n",
       "you               238.134708\n",
       "awesome           280.567625\n",
       "love              287.073472\n",
       "southwestair      319.243684\n",
       "jetblue           431.915012\n",
       "great             553.288110\n",
       "thanks           1218.129806\n",
       "thank            1284.022918\n",
       "dtype: float64"
      ]
     },
     "execution_count": 12,
     "metadata": {},
     "output_type": "execute_result"
    }
   ],
   "source": [
    "dunnings[-20:]"
   ]
  },
  {
   "cell_type": "markdown",
   "id": "affected-classroom",
   "metadata": {},
   "source": [
    "Let's select a list of 400 highly predictive features."
   ]
  },
  {
   "cell_type": "code",
   "execution_count": 13,
   "id": "raising-school",
   "metadata": {},
   "outputs": [],
   "source": [
    "extremefeatures = list(dunnings.index[0:100].values) + list(dunnings.index[-100: ].values)"
   ]
  },
  {
   "cell_type": "code",
   "execution_count": 14,
   "id": "colonial-coordination",
   "metadata": {},
   "outputs": [
    {
     "data": {
      "text/plain": [
       "['no', 'hours', 'hold', 'not', 'cancelled']"
      ]
     },
     "execution_count": 14,
     "metadata": {},
     "output_type": "execute_result"
    }
   ],
   "source": [
    "extremefeatures[0:5]"
   ]
  },
  {
   "cell_type": "markdown",
   "id": "respected-assistant",
   "metadata": {},
   "source": [
    "### A first model: Naive Bayes"
   ]
  },
  {
   "cell_type": "markdown",
   "id": "royal-favor",
   "metadata": {},
   "source": [
    "To keep this simple to start with, let's create a dataframe with even numbers of positive and negative tweets. Let's say 200 positive ones and 200 negative ones."
   ]
  },
  {
   "cell_type": "code",
   "execution_count": 18,
   "id": "suspected-harmony",
   "metadata": {},
   "outputs": [
    {
     "data": {
      "text/plain": [
       "(400, 4000)"
      ]
     },
     "execution_count": 18,
     "metadata": {},
     "output_type": "execute_result"
    }
   ],
   "source": [
    "positive_tweets = tweetwords.loc[tweets.airline_sentiment == 'positive', :]\n",
    "negative_tweets = tweetwords.loc[tweets.airline_sentiment == 'negative', :]\n",
    "\n",
    "sample400_allwords = pd.concat([positive_tweets.iloc[0:200, : ], negative_tweets.iloc[0: 200, : ]], axis = 'rows')\n",
    "sample400_allwords.shape"
   ]
  },
  {
   "cell_type": "markdown",
   "id": "correct-gravity",
   "metadata": {},
   "source": [
    "Let's also create a version of this data limited to our list of 200 highly predictive (extreme) features."
   ]
  },
  {
   "cell_type": "code",
   "execution_count": 19,
   "id": "simple-trademark",
   "metadata": {},
   "outputs": [
    {
     "data": {
      "text/plain": [
       "(400, 200)"
      ]
     },
     "execution_count": 19,
     "metadata": {},
     "output_type": "execute_result"
    }
   ],
   "source": [
    "sample400_ext200 = sample400_allwords.loc[ : , extremefeatures]  # why does this work?\n",
    "sample400_ext200.shape"
   ]
  },
  {
   "cell_type": "markdown",
   "id": "synthetic-burden",
   "metadata": {},
   "source": [
    "Now we need a list of true labels for the model to predict:"
   ]
  },
  {
   "cell_type": "code",
   "execution_count": 20,
   "id": "herbal-nursery",
   "metadata": {},
   "outputs": [],
   "source": [
    "true_sentiment_400 = [1] * 200 + [0] * 200\n",
    "# what will that produce?"
   ]
  },
  {
   "cell_type": "code",
   "execution_count": 21,
   "id": "twenty-minority",
   "metadata": {},
   "outputs": [
    {
     "data": {
      "text/plain": [
       "[1, 1, 1, 1, 1, 1, 1, 1, 1, 1]"
      ]
     },
     "execution_count": 21,
     "metadata": {},
     "output_type": "execute_result"
    }
   ],
   "source": [
    "true_sentiment_400[0:10]"
   ]
  },
  {
   "cell_type": "markdown",
   "id": "seven-spice",
   "metadata": {},
   "source": [
    "Now let's train a first model. We'll use just the 200 words that Dunnings identified as extreme."
   ]
  },
  {
   "cell_type": "code",
   "execution_count": 22,
   "id": "productive-trick",
   "metadata": {},
   "outputs": [
    {
     "data": {
      "text/plain": [
       "0.8825"
      ]
     },
     "execution_count": 22,
     "metadata": {},
     "output_type": "execute_result"
    }
   ],
   "source": [
    "sm_bayes = MultinomialNB(alpha = .1)   # Alpha sets the \"smoothing.\" Notice we're not using much.\n",
    "sm_bayes.fit(sample400_ext200, true_sentiment_400)   # Here we actually fit the model\n",
    "\n",
    "sm_predictions = sm_bayes.predict(sample400_ext200)   # Now let's see what the model predicts if we give it\n",
    "sum(sm_predictions == true_sentiment_400) / len(sm_predictions)  # the same data."
   ]
  },
  {
   "cell_type": "markdown",
   "id": "classified-crown",
   "metadata": {},
   "source": [
    "Not a bad prediction. But how would this model do if we gave it new data?\n",
    "\n",
    "Let's make a bigger dataset, with the next 1500 negative tweets and the next 1500 positive tweets."
   ]
  },
  {
   "cell_type": "code",
   "execution_count": 23,
   "id": "celtic-setting",
   "metadata": {},
   "outputs": [
    {
     "data": {
      "text/plain": [
       "(3000, 4000)"
      ]
     },
     "execution_count": 23,
     "metadata": {},
     "output_type": "execute_result"
    }
   ],
   "source": [
    "next3000 =  pd.concat([positive_tweets.iloc[200: 1700, : ], negative_tweets.iloc[200: 1700, : ]], axis = 'rows')\n",
    "true_sentiment_3000 = [1] * 1500 + [0] * 1500\n",
    "next3000.shape"
   ]
  },
  {
   "cell_type": "markdown",
   "id": "czech-leeds",
   "metadata": {},
   "source": [
    "Now a version limited to 200 words that are strongly associated with positive or negative tweets."
   ]
  },
  {
   "cell_type": "code",
   "execution_count": 24,
   "id": "dangerous-confidence",
   "metadata": {},
   "outputs": [
    {
     "data": {
      "text/plain": [
       "(3000, 200)"
      ]
     },
     "execution_count": 24,
     "metadata": {},
     "output_type": "execute_result"
    }
   ],
   "source": [
    "next3000_ext200 = next3000.loc[ : , extremefeatures]\n",
    "next3000_ext200.shape"
   ]
  },
  {
   "cell_type": "code",
   "execution_count": 25,
   "id": "domestic-message",
   "metadata": {},
   "outputs": [
    {
     "data": {
      "text/plain": [
       "0.7953333333333333"
      ]
     },
     "execution_count": 25,
     "metadata": {},
     "output_type": "execute_result"
    }
   ],
   "source": [
    "sm_predictions = sm_bayes.predict(next3000_ext200)\n",
    "sum(sm_predictions == true_sentiment_3000) / len(sm_predictions)"
   ]
  },
  {
   "cell_type": "markdown",
   "id": "atmospheric-williams",
   "metadata": {},
   "source": [
    "Oh, that's much worse. Maybe we could improve this by increasing the number of words we use to predict? Let's train on the version of our 400-tweet dataset that has all 5000 words."
   ]
  },
  {
   "cell_type": "code",
   "execution_count": 26,
   "id": "small-yahoo",
   "metadata": {},
   "outputs": [
    {
     "data": {
      "text/plain": [
       "0.9925"
      ]
     },
     "execution_count": 26,
     "metadata": {},
     "output_type": "execute_result"
    }
   ],
   "source": [
    "big_bayes = MultinomialNB(alpha = 0.1)\n",
    "big_bayes.fit(sample400_allwords, true_sentiment_400)\n",
    "big_predictions = big_bayes.predict(sample400_allwords)\n",
    "sum(big_predictions == true_sentiment_400) / len(big_predictions)"
   ]
  },
  {
   "cell_type": "markdown",
   "id": "moral-thought",
   "metadata": {},
   "source": [
    "Ah, yes. Including lots more words makes our model almost perfectly accurate on the 400 tweets we used to train it.\n",
    "\n",
    "Maybe that will also improve accuracy on the new data?"
   ]
  },
  {
   "cell_type": "code",
   "execution_count": 27,
   "id": "polished-municipality",
   "metadata": {},
   "outputs": [
    {
     "data": {
      "text/plain": [
       "0.7313333333333333"
      ]
     },
     "execution_count": 27,
     "metadata": {},
     "output_type": "execute_result"
    }
   ],
   "source": [
    "big_predictions = big_bayes.predict(next3000.loc[ : , : ])\n",
    "sum(big_predictions == true_sentiment_3000) / len(big_predictions)"
   ]
  },
  {
   "cell_type": "markdown",
   "id": "saving-soviet",
   "metadata": {},
   "source": [
    "Yikes!! This is not helping.\n",
    "\n",
    "#### Discussion:\n",
    "\n",
    "What do we need to do to improve accuracy?\n",
    "\n",
    "#### Exercise:\n",
    "\n",
    "Working in small groups, construct a loop that implements the solution we've described, and finds the parameter setting that maximizes accuracy *on our large 3000-tweet dataset.*"
   ]
  },
  {
   "cell_type": "code",
   "execution_count": 28,
   "id": "forty-folder",
   "metadata": {},
   "outputs": [
    {
     "name": "stdout",
     "output_type": "stream",
     "text": [
      "0.01 0.6926666666666667\n",
      "0.1 0.7313333333333333\n",
      "1 0.759\n",
      "2 0.7573333333333333\n",
      "4 0.7503333333333333\n",
      "6 0.7376666666666667\n",
      "10 0.7216666666666667\n"
     ]
    }
   ],
   "source": [
    "for alpha in [.01, .1, 1, 2, 4, 6, 10]:\n",
    "    big_bayes = MultinomialNB(alpha = alpha)\n",
    "    big_bayes.fit(sample400_allwords, true_sentiment_400)\n",
    "    big_predictions = big_bayes.predict(next3000.loc[ : , : ])\n",
    "    print(alpha, sum(big_predictions == true_sentiment_3000) / len(big_predictions))\n",
    "    "
   ]
  },
  {
   "cell_type": "markdown",
   "id": "prospective-stick",
   "metadata": {},
   "source": [
    "#### Note:\n",
    "\n",
    "Separating test and train datasets is a strategy to avoid overfitting, and the exercise above was designed to demonstrate why overfitting is a danger.\n",
    "\n",
    "But there are several aspects of what we did above that aren't actually recommended practice.\n",
    "\n",
    "1. First, we had a small training dataset (400) and a big test set (3000). But you normally have a training dataset that is much larger than the test dataset. Ratios of 7 to 3 or 9 to 1 are common.\n",
    "\n",
    "2. It's not a good idea to do *feature selection* on the whole dataset. We selected our \"extreme 400\" features by calculating Dunning's log-likelihood on the whole corpus of tweets--but really, if we wanted to use a feature selection strategy, we should only calculate Dunning's on the *training* dataset. Otherwise we may get misleadingly high accuracy. Can you figure out why?"
   ]
  },
  {
   "cell_type": "markdown",
   "id": "amazing-heater",
   "metadata": {},
   "source": [
    "### Inspect probabilities"
   ]
  },
  {
   "cell_type": "code",
   "execution_count": 29,
   "id": "appointed-combining",
   "metadata": {},
   "outputs": [
    {
     "data": {
      "text/plain": [
       "array([[0.24716759, 0.75283241],\n",
       "       [0.66905453, 0.33094547],\n",
       "       [0.49552751, 0.50447249],\n",
       "       [0.08209022, 0.91790978],\n",
       "       [0.1042556 , 0.8957444 ],\n",
       "       [0.48221875, 0.51778125],\n",
       "       [0.01739582, 0.98260418],\n",
       "       [0.05254278, 0.94745722],\n",
       "       [0.24080718, 0.75919282],\n",
       "       [0.32471968, 0.67528032]])"
      ]
     },
     "execution_count": 29,
     "metadata": {},
     "output_type": "execute_result"
    }
   ],
   "source": [
    "sm_probabilities = sm_bayes.predict_proba(sample400_ext200)\n",
    "sm_predictions = sm_bayes.predict(sample400_ext200)\n",
    "sm_probabilities[0:10]"
   ]
  },
  {
   "cell_type": "code",
   "execution_count": 30,
   "id": "crude-france",
   "metadata": {},
   "outputs": [
    {
     "data": {
      "text/plain": [
       "[0.7528324064379827,\n",
       " 0.3309454659730444,\n",
       " 0.5044724868392012,\n",
       " 0.9179097801485073,\n",
       " 0.8957443989764363,\n",
       " 0.5177812508721986,\n",
       " 0.9826041794136698,\n",
       " 0.9474572248679309,\n",
       " 0.7591928179406537,\n",
       " 0.6752803203150606]"
      ]
     },
     "execution_count": 30,
     "metadata": {},
     "output_type": "execute_result"
    }
   ],
   "source": [
    "sm_probabilities = [x[1] for x in sm_probabilities]\n",
    "sm_probabilities[0:10]"
   ]
  },
  {
   "cell_type": "code",
   "execution_count": 31,
   "id": "downtown-kruger",
   "metadata": {},
   "outputs": [
    {
     "data": {
      "text/plain": [
       "array([1, 0, 1, 1, 1, 1, 1, 1, 1, 1])"
      ]
     },
     "execution_count": 31,
     "metadata": {},
     "output_type": "execute_result"
    }
   ],
   "source": [
    "sm_predictions[0:10]"
   ]
  },
  {
   "cell_type": "code",
   "execution_count": 32,
   "id": "aging-simulation",
   "metadata": {},
   "outputs": [
    {
     "data": {
      "text/plain": [
       "<matplotlib.collections.PathCollection at 0x7fed99b78310>"
      ]
     },
     "execution_count": 32,
     "metadata": {},
     "output_type": "execute_result"
    },
    {
     "data": {
      "image/png": "[encoded data removed]",
      "text/plain": [
       "<Figure size 432x288 with 1 Axes>"
      ]
     },
     "metadata": {
      "needs_background": "light"
     },
     "output_type": "display_data"
    }
   ],
   "source": [
    "plt.scatter(np.array(true_sentiment_400) + np.random.random(size = 400)/3, np.array(sm_probabilities),\n",
    "            c = (sm_predictions == np.array(true_sentiment_400)), cmap = 'coolwarm')"
   ]
  },
  {
   "cell_type": "markdown",
   "id": "inclusive-aspect",
   "metadata": {},
   "source": [
    "## Logistic regression, and how we might really do this\n",
    "\n",
    "Naive Bayes is simple, which makes it a good example to teach first. But in real-life problems (especially if documents are reasonably long), regularized logistic regression is more commonly where a modeling process will start. There are lots of approaches more sophisticated than logistic regression, but LR makes a good \"baseline,\" and is often in practice good enough for the task.\n",
    "\n",
    "As we work through a solution here, I'm going to dispense with some of the simplifying assumptions we initially made. For instance, we constructed an imaginary world where classes of tweets were \"balanced\" (of equal size). As we know, that's not actually true in our real-world data. \n",
    "\n",
    "So let's go back to our original complete doc-term matrix, ```tweetwords```.\n",
    "\n",
    "#### preparing the data\n",
    "\n",
    "Because this matrix is based on raw word counts, it conflates word frequency with tweet length. Tweet-length might be an interesting predictive feature, but we probably don't want it mixed into all the different words. Let's factor it out.\n"
   ]
  },
  {
   "cell_type": "code",
   "execution_count": 33,
   "id": "manufactured-resource",
   "metadata": {},
   "outputs": [
    {
     "data": {
      "text/plain": [
       "0     35\n",
       "1     72\n",
       "2     71\n",
       "3    126\n",
       "4     55\n",
       "5    135\n",
       "6     79\n",
       "7    108\n",
       "8     47\n",
       "9     80\n",
       "Name: text, dtype: int64"
      ]
     },
     "execution_count": 33,
     "metadata": {},
     "output_type": "execute_result"
    }
   ],
   "source": [
    "tweetlengths = tweets['text'].str.len()\n",
    "tweetlengths[0:10]"
   ]
  },
  {
   "cell_type": "code",
   "execution_count": 34,
   "id": "resident-skating",
   "metadata": {},
   "outputs": [
    {
     "data": {
      "text/html": [
       "<div>\n",
       "<style scoped>\n",
       "    .dataframe tbody tr th:only-of-type {\n",
       "        vertical-align: middle;\n",
       "    }\n",
       "\n",
       "    .dataframe tbody tr th {\n",
       "        vertical-align: top;\n",
       "    }\n",
       "\n",
       "    .dataframe thead th {\n",
       "        text-align: right;\n",
       "    }\n",
       "</style>\n",
       "<table border=\"1\" class=\"dataframe\">\n",
       "  <thead>\n",
       "    <tr style=\"text-align: right;\">\n",
       "      <th></th>\n",
       "      <th>00</th>\n",
       "      <th>000</th>\n",
       "      <th>0016</th>\n",
       "      <th>00pm</th>\n",
       "      <th>02</th>\n",
       "      <th>03</th>\n",
       "      <th>05</th>\n",
       "      <th>05am</th>\n",
       "      <th>05pm</th>\n",
       "      <th>08</th>\n",
       "      <th>...</th>\n",
       "      <th>yrs</th>\n",
       "      <th>yuma</th>\n",
       "      <th>yup</th>\n",
       "      <th>yvr</th>\n",
       "      <th>yyz</th>\n",
       "      <th>zero</th>\n",
       "      <th>zkatcher</th>\n",
       "      <th>zone</th>\n",
       "      <th>zurich</th>\n",
       "      <th>#tweetlen</th>\n",
       "    </tr>\n",
       "  </thead>\n",
       "  <tbody>\n",
       "    <tr>\n",
       "      <th>0</th>\n",
       "      <td>0.0</td>\n",
       "      <td>0.0</td>\n",
       "      <td>0.0</td>\n",
       "      <td>0.0</td>\n",
       "      <td>0.0</td>\n",
       "      <td>0.0</td>\n",
       "      <td>0.0</td>\n",
       "      <td>0.0</td>\n",
       "      <td>0.0</td>\n",
       "      <td>0.0</td>\n",
       "      <td>...</td>\n",
       "      <td>0.0</td>\n",
       "      <td>0.0</td>\n",
       "      <td>0.0</td>\n",
       "      <td>0.0</td>\n",
       "      <td>0.0</td>\n",
       "      <td>0.0</td>\n",
       "      <td>0.0</td>\n",
       "      <td>0.0</td>\n",
       "      <td>0.0</td>\n",
       "      <td>35</td>\n",
       "    </tr>\n",
       "    <tr>\n",
       "      <th>1</th>\n",
       "      <td>0.0</td>\n",
       "      <td>0.0</td>\n",
       "      <td>0.0</td>\n",
       "      <td>0.0</td>\n",
       "      <td>0.0</td>\n",
       "      <td>0.0</td>\n",
       "      <td>0.0</td>\n",
       "      <td>0.0</td>\n",
       "      <td>0.0</td>\n",
       "      <td>0.0</td>\n",
       "      <td>...</td>\n",
       "      <td>0.0</td>\n",
       "      <td>0.0</td>\n",
       "      <td>0.0</td>\n",
       "      <td>0.0</td>\n",
       "      <td>0.0</td>\n",
       "      <td>0.0</td>\n",
       "      <td>0.0</td>\n",
       "      <td>0.0</td>\n",
       "      <td>0.0</td>\n",
       "      <td>72</td>\n",
       "    </tr>\n",
       "    <tr>\n",
       "      <th>2</th>\n",
       "      <td>0.0</td>\n",
       "      <td>0.0</td>\n",
       "      <td>0.0</td>\n",
       "      <td>0.0</td>\n",
       "      <td>0.0</td>\n",
       "      <td>0.0</td>\n",
       "      <td>0.0</td>\n",
       "      <td>0.0</td>\n",
       "      <td>0.0</td>\n",
       "      <td>0.0</td>\n",
       "      <td>...</td>\n",
       "      <td>0.0</td>\n",
       "      <td>0.0</td>\n",
       "      <td>0.0</td>\n",
       "      <td>0.0</td>\n",
       "      <td>0.0</td>\n",
       "      <td>0.0</td>\n",
       "      <td>0.0</td>\n",
       "      <td>0.0</td>\n",
       "      <td>0.0</td>\n",
       "      <td>71</td>\n",
       "    </tr>\n",
       "    <tr>\n",
       "      <th>3</th>\n",
       "      <td>0.0</td>\n",
       "      <td>0.0</td>\n",
       "      <td>0.0</td>\n",
       "      <td>0.0</td>\n",
       "      <td>0.0</td>\n",
       "      <td>0.0</td>\n",
       "      <td>0.0</td>\n",
       "      <td>0.0</td>\n",
       "      <td>0.0</td>\n",
       "      <td>0.0</td>\n",
       "      <td>...</td>\n",
       "      <td>0.0</td>\n",
       "      <td>0.0</td>\n",
       "      <td>0.0</td>\n",
       "      <td>0.0</td>\n",
       "      <td>0.0</td>\n",
       "      <td>0.0</td>\n",
       "      <td>0.0</td>\n",
       "      <td>0.0</td>\n",
       "      <td>0.0</td>\n",
       "      <td>126</td>\n",
       "    </tr>\n",
       "    <tr>\n",
       "      <th>4</th>\n",
       "      <td>0.0</td>\n",
       "      <td>0.0</td>\n",
       "      <td>0.0</td>\n",
       "      <td>0.0</td>\n",
       "      <td>0.0</td>\n",
       "      <td>0.0</td>\n",
       "      <td>0.0</td>\n",
       "      <td>0.0</td>\n",
       "      <td>0.0</td>\n",
       "      <td>0.0</td>\n",
       "      <td>...</td>\n",
       "      <td>0.0</td>\n",
       "      <td>0.0</td>\n",
       "      <td>0.0</td>\n",
       "      <td>0.0</td>\n",
       "      <td>0.0</td>\n",
       "      <td>0.0</td>\n",
       "      <td>0.0</td>\n",
       "      <td>0.0</td>\n",
       "      <td>0.0</td>\n",
       "      <td>55</td>\n",
       "    </tr>\n",
       "    <tr>\n",
       "      <th>...</th>\n",
       "      <td>...</td>\n",
       "      <td>...</td>\n",
       "      <td>...</td>\n",
       "      <td>...</td>\n",
       "      <td>...</td>\n",
       "      <td>...</td>\n",
       "      <td>...</td>\n",
       "      <td>...</td>\n",
       "      <td>...</td>\n",
       "      <td>...</td>\n",
       "      <td>...</td>\n",
       "      <td>...</td>\n",
       "      <td>...</td>\n",
       "      <td>...</td>\n",
       "      <td>...</td>\n",
       "      <td>...</td>\n",
       "      <td>...</td>\n",
       "      <td>...</td>\n",
       "      <td>...</td>\n",
       "      <td>...</td>\n",
       "      <td>...</td>\n",
       "    </tr>\n",
       "    <tr>\n",
       "      <th>14635</th>\n",
       "      <td>0.0</td>\n",
       "      <td>0.0</td>\n",
       "      <td>0.0</td>\n",
       "      <td>0.0</td>\n",
       "      <td>0.0</td>\n",
       "      <td>0.0</td>\n",
       "      <td>0.0</td>\n",
       "      <td>0.0</td>\n",
       "      <td>0.0</td>\n",
       "      <td>0.0</td>\n",
       "      <td>...</td>\n",
       "      <td>0.0</td>\n",
       "      <td>0.0</td>\n",
       "      <td>0.0</td>\n",
       "      <td>0.0</td>\n",
       "      <td>0.0</td>\n",
       "      <td>0.0</td>\n",
       "      <td>0.0</td>\n",
       "      <td>0.0</td>\n",
       "      <td>0.0</td>\n",
       "      <td>63</td>\n",
       "    </tr>\n",
       "    <tr>\n",
       "      <th>14636</th>\n",
       "      <td>0.0</td>\n",
       "      <td>0.0</td>\n",
       "      <td>0.0</td>\n",
       "      <td>0.0</td>\n",
       "      <td>0.0</td>\n",
       "      <td>0.0</td>\n",
       "      <td>0.0</td>\n",
       "      <td>0.0</td>\n",
       "      <td>0.0</td>\n",
       "      <td>0.0</td>\n",
       "      <td>...</td>\n",
       "      <td>0.0</td>\n",
       "      <td>0.0</td>\n",
       "      <td>0.0</td>\n",
       "      <td>0.0</td>\n",
       "      <td>0.0</td>\n",
       "      <td>0.0</td>\n",
       "      <td>0.0</td>\n",
       "      <td>0.0</td>\n",
       "      <td>0.0</td>\n",
       "      <td>150</td>\n",
       "    </tr>\n",
       "    <tr>\n",
       "      <th>14637</th>\n",
       "      <td>0.0</td>\n",
       "      <td>0.0</td>\n",
       "      <td>0.0</td>\n",
       "      <td>0.0</td>\n",
       "      <td>0.0</td>\n",
       "      <td>0.0</td>\n",
       "      <td>0.0</td>\n",
       "      <td>0.0</td>\n",
       "      <td>0.0</td>\n",
       "      <td>0.0</td>\n",
       "      <td>...</td>\n",
       "      <td>0.0</td>\n",
       "      <td>0.0</td>\n",
       "      <td>0.0</td>\n",
       "      <td>0.0</td>\n",
       "      <td>0.0</td>\n",
       "      <td>0.0</td>\n",
       "      <td>0.0</td>\n",
       "      <td>0.0</td>\n",
       "      <td>0.0</td>\n",
       "      <td>60</td>\n",
       "    </tr>\n",
       "    <tr>\n",
       "      <th>14638</th>\n",
       "      <td>0.0</td>\n",
       "      <td>0.0</td>\n",
       "      <td>0.0</td>\n",
       "      <td>0.0</td>\n",
       "      <td>0.0</td>\n",
       "      <td>0.0</td>\n",
       "      <td>0.0</td>\n",
       "      <td>0.0</td>\n",
       "      <td>0.0</td>\n",
       "      <td>0.0</td>\n",
       "      <td>...</td>\n",
       "      <td>0.0</td>\n",
       "      <td>0.0</td>\n",
       "      <td>0.0</td>\n",
       "      <td>0.0</td>\n",
       "      <td>0.0</td>\n",
       "      <td>0.0</td>\n",
       "      <td>0.0</td>\n",
       "      <td>0.0</td>\n",
       "      <td>0.0</td>\n",
       "      <td>135</td>\n",
       "    </tr>\n",
       "    <tr>\n",
       "      <th>14639</th>\n",
       "      <td>0.0</td>\n",
       "      <td>0.0</td>\n",
       "      <td>0.0</td>\n",
       "      <td>0.0</td>\n",
       "      <td>0.0</td>\n",
       "      <td>0.0</td>\n",
       "      <td>0.0</td>\n",
       "      <td>0.0</td>\n",
       "      <td>0.0</td>\n",
       "      <td>0.0</td>\n",
       "      <td>...</td>\n",
       "      <td>0.0</td>\n",
       "      <td>0.0</td>\n",
       "      <td>0.0</td>\n",
       "      <td>0.0</td>\n",
       "      <td>0.0</td>\n",
       "      <td>0.0</td>\n",
       "      <td>0.0</td>\n",
       "      <td>0.0</td>\n",
       "      <td>0.0</td>\n",
       "      <td>138</td>\n",
       "    </tr>\n",
       "  </tbody>\n",
       "</table>\n",
       "<p>14640 rows × 4001 columns</p>\n",
       "</div>"
      ],
      "text/plain": [
       "        00  000  0016  00pm   02   03   05  05am  05pm   08  ...  yrs  yuma  \\\n",
       "0      0.0  0.0   0.0   0.0  0.0  0.0  0.0   0.0   0.0  0.0  ...  0.0   0.0   \n",
       "1      0.0  0.0   0.0   0.0  0.0  0.0  0.0   0.0   0.0  0.0  ...  0.0   0.0   \n",
       "2      0.0  0.0   0.0   0.0  0.0  0.0  0.0   0.0   0.0  0.0  ...  0.0   0.0   \n",
       "3      0.0  0.0   0.0   0.0  0.0  0.0  0.0   0.0   0.0  0.0  ...  0.0   0.0   \n",
       "4      0.0  0.0   0.0   0.0  0.0  0.0  0.0   0.0   0.0  0.0  ...  0.0   0.0   \n",
       "...    ...  ...   ...   ...  ...  ...  ...   ...   ...  ...  ...  ...   ...   \n",
       "14635  0.0  0.0   0.0   0.0  0.0  0.0  0.0   0.0   0.0  0.0  ...  0.0   0.0   \n",
       "14636  0.0  0.0   0.0   0.0  0.0  0.0  0.0   0.0   0.0  0.0  ...  0.0   0.0   \n",
       "14637  0.0  0.0   0.0   0.0  0.0  0.0  0.0   0.0   0.0  0.0  ...  0.0   0.0   \n",
       "14638  0.0  0.0   0.0   0.0  0.0  0.0  0.0   0.0   0.0  0.0  ...  0.0   0.0   \n",
       "14639  0.0  0.0   0.0   0.0  0.0  0.0  0.0   0.0   0.0  0.0  ...  0.0   0.0   \n",
       "\n",
       "       yup  yvr  yyz  zero  zkatcher  zone  zurich  #tweetlen  \n",
       "0      0.0  0.0  0.0   0.0       0.0   0.0     0.0         35  \n",
       "1      0.0  0.0  0.0   0.0       0.0   0.0     0.0         72  \n",
       "2      0.0  0.0  0.0   0.0       0.0   0.0     0.0         71  \n",
       "3      0.0  0.0  0.0   0.0       0.0   0.0     0.0        126  \n",
       "4      0.0  0.0  0.0   0.0       0.0   0.0     0.0         55  \n",
       "...    ...  ...  ...   ...       ...   ...     ...        ...  \n",
       "14635  0.0  0.0  0.0   0.0       0.0   0.0     0.0         63  \n",
       "14636  0.0  0.0  0.0   0.0       0.0   0.0     0.0        150  \n",
       "14637  0.0  0.0  0.0   0.0       0.0   0.0     0.0         60  \n",
       "14638  0.0  0.0  0.0   0.0       0.0   0.0     0.0        135  \n",
       "14639  0.0  0.0  0.0   0.0       0.0   0.0     0.0        138  \n",
       "\n",
       "[14640 rows x 4001 columns]"
      ]
     },
     "execution_count": 34,
     "metadata": {},
     "output_type": "execute_result"
    }
   ],
   "source": [
    "wordfreqs = tweetwords.divide(tweetlengths, axis = 'rows')\n",
    "wordfreqs['#tweetlen'] = tweetlengths\n",
    "wordfreqs"
   ]
  },
  {
   "cell_type": "markdown",
   "id": "recognized-protein",
   "metadata": {},
   "source": [
    "We're going to want to hold out a \"test\" set to finally confirm the quality of our model. This should be randomly selected from all tweets, and we don't know the current sequence is random. So let's shuffle."
   ]
  },
  {
   "cell_type": "code",
   "execution_count": 35,
   "id": "sitting-withdrawal",
   "metadata": {},
   "outputs": [
    {
     "data": {
      "text/html": [
       "<div>\n",
       "<style scoped>\n",
       "    .dataframe tbody tr th:only-of-type {\n",
       "        vertical-align: middle;\n",
       "    }\n",
       "\n",
       "    .dataframe tbody tr th {\n",
       "        vertical-align: top;\n",
       "    }\n",
       "\n",
       "    .dataframe thead th {\n",
       "        text-align: right;\n",
       "    }\n",
       "</style>\n",
       "<table border=\"1\" class=\"dataframe\">\n",
       "  <thead>\n",
       "    <tr style=\"text-align: right;\">\n",
       "      <th></th>\n",
       "      <th>00</th>\n",
       "      <th>000</th>\n",
       "      <th>0016</th>\n",
       "      <th>00pm</th>\n",
       "      <th>02</th>\n",
       "      <th>03</th>\n",
       "      <th>05</th>\n",
       "      <th>05am</th>\n",
       "      <th>05pm</th>\n",
       "      <th>08</th>\n",
       "      <th>...</th>\n",
       "      <th>yrs</th>\n",
       "      <th>yuma</th>\n",
       "      <th>yup</th>\n",
       "      <th>yvr</th>\n",
       "      <th>yyz</th>\n",
       "      <th>zero</th>\n",
       "      <th>zkatcher</th>\n",
       "      <th>zone</th>\n",
       "      <th>zurich</th>\n",
       "      <th>#tweetlen</th>\n",
       "    </tr>\n",
       "  </thead>\n",
       "  <tbody>\n",
       "    <tr>\n",
       "      <th>13296</th>\n",
       "      <td>0.0</td>\n",
       "      <td>0.0</td>\n",
       "      <td>0.0</td>\n",
       "      <td>0.0</td>\n",
       "      <td>0.0</td>\n",
       "      <td>0.0</td>\n",
       "      <td>0.0</td>\n",
       "      <td>0.0</td>\n",
       "      <td>0.0</td>\n",
       "      <td>0.0</td>\n",
       "      <td>...</td>\n",
       "      <td>0.0</td>\n",
       "      <td>0.0</td>\n",
       "      <td>0.0</td>\n",
       "      <td>0.0</td>\n",
       "      <td>0.0</td>\n",
       "      <td>0.0</td>\n",
       "      <td>0.0</td>\n",
       "      <td>0.0</td>\n",
       "      <td>0.0</td>\n",
       "      <td>140</td>\n",
       "    </tr>\n",
       "    <tr>\n",
       "      <th>778</th>\n",
       "      <td>0.0</td>\n",
       "      <td>0.0</td>\n",
       "      <td>0.0</td>\n",
       "      <td>0.0</td>\n",
       "      <td>0.0</td>\n",
       "      <td>0.0</td>\n",
       "      <td>0.0</td>\n",
       "      <td>0.0</td>\n",
       "      <td>0.0</td>\n",
       "      <td>0.0</td>\n",
       "      <td>...</td>\n",
       "      <td>0.0</td>\n",
       "      <td>0.0</td>\n",
       "      <td>0.0</td>\n",
       "      <td>0.0</td>\n",
       "      <td>0.0</td>\n",
       "      <td>0.0</td>\n",
       "      <td>0.0</td>\n",
       "      <td>0.0</td>\n",
       "      <td>0.0</td>\n",
       "      <td>144</td>\n",
       "    </tr>\n",
       "    <tr>\n",
       "      <th>7023</th>\n",
       "      <td>0.0</td>\n",
       "      <td>0.0</td>\n",
       "      <td>0.0</td>\n",
       "      <td>0.0</td>\n",
       "      <td>0.0</td>\n",
       "      <td>0.0</td>\n",
       "      <td>0.0</td>\n",
       "      <td>0.0</td>\n",
       "      <td>0.0</td>\n",
       "      <td>0.0</td>\n",
       "      <td>...</td>\n",
       "      <td>0.0</td>\n",
       "      <td>0.0</td>\n",
       "      <td>0.0</td>\n",
       "      <td>0.0</td>\n",
       "      <td>0.0</td>\n",
       "      <td>0.0</td>\n",
       "      <td>0.0</td>\n",
       "      <td>0.0</td>\n",
       "      <td>0.0</td>\n",
       "      <td>60</td>\n",
       "    </tr>\n",
       "    <tr>\n",
       "      <th>10182</th>\n",
       "      <td>0.0</td>\n",
       "      <td>0.0</td>\n",
       "      <td>0.0</td>\n",
       "      <td>0.0</td>\n",
       "      <td>0.0</td>\n",
       "      <td>0.0</td>\n",
       "      <td>0.0</td>\n",
       "      <td>0.0</td>\n",
       "      <td>0.0</td>\n",
       "      <td>0.0</td>\n",
       "      <td>...</td>\n",
       "      <td>0.0</td>\n",
       "      <td>0.0</td>\n",
       "      <td>0.0</td>\n",
       "      <td>0.0</td>\n",
       "      <td>0.0</td>\n",
       "      <td>0.0</td>\n",
       "      <td>0.0</td>\n",
       "      <td>0.0</td>\n",
       "      <td>0.0</td>\n",
       "      <td>75</td>\n",
       "    </tr>\n",
       "    <tr>\n",
       "      <th>10979</th>\n",
       "      <td>0.0</td>\n",
       "      <td>0.0</td>\n",
       "      <td>0.0</td>\n",
       "      <td>0.0</td>\n",
       "      <td>0.0</td>\n",
       "      <td>0.0</td>\n",
       "      <td>0.0</td>\n",
       "      <td>0.0</td>\n",
       "      <td>0.0</td>\n",
       "      <td>0.0</td>\n",
       "      <td>...</td>\n",
       "      <td>0.0</td>\n",
       "      <td>0.0</td>\n",
       "      <td>0.0</td>\n",
       "      <td>0.0</td>\n",
       "      <td>0.0</td>\n",
       "      <td>0.0</td>\n",
       "      <td>0.0</td>\n",
       "      <td>0.0</td>\n",
       "      <td>0.0</td>\n",
       "      <td>105</td>\n",
       "    </tr>\n",
       "  </tbody>\n",
       "</table>\n",
       "<p>5 rows × 4001 columns</p>\n",
       "</div>"
      ],
      "text/plain": [
       "        00  000  0016  00pm   02   03   05  05am  05pm   08  ...  yrs  yuma  \\\n",
       "13296  0.0  0.0   0.0   0.0  0.0  0.0  0.0   0.0   0.0  0.0  ...  0.0   0.0   \n",
       "778    0.0  0.0   0.0   0.0  0.0  0.0  0.0   0.0   0.0  0.0  ...  0.0   0.0   \n",
       "7023   0.0  0.0   0.0   0.0  0.0  0.0  0.0   0.0   0.0  0.0  ...  0.0   0.0   \n",
       "10182  0.0  0.0   0.0   0.0  0.0  0.0  0.0   0.0   0.0  0.0  ...  0.0   0.0   \n",
       "10979  0.0  0.0   0.0   0.0  0.0  0.0  0.0   0.0   0.0  0.0  ...  0.0   0.0   \n",
       "\n",
       "       yup  yvr  yyz  zero  zkatcher  zone  zurich  #tweetlen  \n",
       "13296  0.0  0.0  0.0   0.0       0.0   0.0     0.0        140  \n",
       "778    0.0  0.0  0.0   0.0       0.0   0.0     0.0        144  \n",
       "7023   0.0  0.0  0.0   0.0       0.0   0.0     0.0         60  \n",
       "10182  0.0  0.0  0.0   0.0       0.0   0.0     0.0         75  \n",
       "10979  0.0  0.0  0.0   0.0       0.0   0.0     0.0        105  \n",
       "\n",
       "[5 rows x 4001 columns]"
      ]
     },
     "execution_count": 35,
     "metadata": {},
     "output_type": "execute_result"
    }
   ],
   "source": [
    "wordfreqs = wordfreqs.sample(frac = 1)\n",
    "wordfreqs.head()"
   ]
  },
  {
   "cell_type": "markdown",
   "id": "characteristic-engineer",
   "metadata": {},
   "source": [
    "Notice that the indexes were shuffled too. This allows us to create a reordered ```tweets``` frame in the same order. We're going to need this if we want to know the true sentiment for all those rows."
   ]
  },
  {
   "cell_type": "code",
   "execution_count": 36,
   "id": "abstract-stuart",
   "metadata": {},
   "outputs": [
    {
     "data": {
      "text/html": [
       "<div>\n",
       "<style scoped>\n",
       "    .dataframe tbody tr th:only-of-type {\n",
       "        vertical-align: middle;\n",
       "    }\n",
       "\n",
       "    .dataframe tbody tr th {\n",
       "        vertical-align: top;\n",
       "    }\n",
       "\n",
       "    .dataframe thead th {\n",
       "        text-align: right;\n",
       "    }\n",
       "</style>\n",
       "<table border=\"1\" class=\"dataframe\">\n",
       "  <thead>\n",
       "    <tr style=\"text-align: right;\">\n",
       "      <th></th>\n",
       "      <th>airline_sentiment</th>\n",
       "      <th>negativereason</th>\n",
       "      <th>retweet_count</th>\n",
       "      <th>airline</th>\n",
       "      <th>text</th>\n",
       "    </tr>\n",
       "  </thead>\n",
       "  <tbody>\n",
       "    <tr>\n",
       "      <th>13296</th>\n",
       "      <td>negative</td>\n",
       "      <td>Flight Attendant Complaints</td>\n",
       "      <td>0</td>\n",
       "      <td>American</td>\n",
       "      <td>@AmericanAir @cnnbrk she tried they are not doing anything said they would talk to stewardess about serving drunks drinks how does that help</td>\n",
       "    </tr>\n",
       "    <tr>\n",
       "      <th>778</th>\n",
       "      <td>negative</td>\n",
       "      <td>Can't Tell</td>\n",
       "      <td>0</td>\n",
       "      <td>United</td>\n",
       "      <td>@united I'm constantly having challenges with upgrades &amp;amp; charges. In order to prevent DVT I have to pay an addtl $180 http://t.co/xC6jQ70r7B</td>\n",
       "    </tr>\n",
       "    <tr>\n",
       "      <th>7023</th>\n",
       "      <td>neutral</td>\n",
       "      <td>NaN</td>\n",
       "      <td>0</td>\n",
       "      <td>Delta</td>\n",
       "      <td>😂😂 RT @JetBlue: Our fleet's on fleek. http://t.co/rinzYSK6kI</td>\n",
       "    </tr>\n",
       "    <tr>\n",
       "      <th>10182</th>\n",
       "      <td>negative</td>\n",
       "      <td>Cancelled Flight</td>\n",
       "      <td>0</td>\n",
       "      <td>US Airways</td>\n",
       "      <td>@USAirways Good grief! Flight Cancelled Flightled. Been on hold since 0400.</td>\n",
       "    </tr>\n",
       "    <tr>\n",
       "      <th>10979</th>\n",
       "      <td>negative</td>\n",
       "      <td>Late Flight</td>\n",
       "      <td>0</td>\n",
       "      <td>US Airways</td>\n",
       "      <td>@USAirways I have been on three planes for flight 1907 and still haven't left the ground BAD SERVICE #sad</td>\n",
       "    </tr>\n",
       "  </tbody>\n",
       "</table>\n",
       "</div>"
      ],
      "text/plain": [
       "      airline_sentiment               negativereason  retweet_count  \\\n",
       "13296          negative  Flight Attendant Complaints              0   \n",
       "778            negative                   Can't Tell              0   \n",
       "7023            neutral                          NaN              0   \n",
       "10182          negative             Cancelled Flight              0   \n",
       "10979          negative                  Late Flight              0   \n",
       "\n",
       "          airline  \\\n",
       "13296    American   \n",
       "778        United   \n",
       "7023        Delta   \n",
       "10182  US Airways   \n",
       "10979  US Airways   \n",
       "\n",
       "                                                                                                                                                   text  \n",
       "13296      @AmericanAir @cnnbrk she tried they are not doing anything said they would talk to stewardess about serving drunks drinks how does that help  \n",
       "778    @united I'm constantly having challenges with upgrades &amp; charges. In order to prevent DVT I have to pay an addtl $180 http://t.co/xC6jQ70r7B  \n",
       "7023                                                                                       😂😂 RT @JetBlue: Our fleet's on fleek. http://t.co/rinzYSK6kI  \n",
       "10182                                                                       @USAirways Good grief! Flight Cancelled Flightled. Been on hold since 0400.  \n",
       "10979                                         @USAirways I have been on three planes for flight 1907 and still haven't left the ground BAD SERVICE #sad  "
      ]
     },
     "execution_count": 36,
     "metadata": {},
     "output_type": "execute_result"
    }
   ],
   "source": [
    "reorderedtweets = tweets.loc[wordfreqs.index, : ]\n",
    "reorderedtweets.head()"
   ]
  },
  {
   "cell_type": "markdown",
   "id": "express-projection",
   "metadata": {},
   "source": [
    "For our simplifying purposes let's get rid of 'neutral's."
   ]
  },
  {
   "cell_type": "code",
   "execution_count": 37,
   "id": "cloudy-delhi",
   "metadata": {},
   "outputs": [
    {
     "data": {
      "text/plain": [
       "(11541, 4001)"
      ]
     },
     "execution_count": 37,
     "metadata": {},
     "output_type": "execute_result"
    }
   ],
   "source": [
    "wordfreqs = wordfreqs.loc[reorderedtweets['airline_sentiment'] != 'neutral', : ]\n",
    "reorderedtweets = reorderedtweets.loc[reorderedtweets['airline_sentiment'] != 'neutral', : ]\n",
    "wordfreqs.shape"
   ]
  },
  {
   "cell_type": "markdown",
   "id": "growing-alexandria",
   "metadata": {},
   "source": [
    "Now let's separate the tweets into test and train sets. There's not a hard and fast rule on proportions here; it depends on how much data you have. People with tons of data may do a 90-10 split. 11,541 rows is not exactly tons and we want a good readout of final accuracy, so let's set 2000 aside."
   ]
  },
  {
   "cell_type": "code",
   "execution_count": 38,
   "id": "assured-cambodia",
   "metadata": {},
   "outputs": [
    {
     "data": {
      "text/plain": [
       "13296    0\n",
       "778      0\n",
       "10182    0\n",
       "10979    0\n",
       "3356     0\n",
       "1086     1\n",
       "7906     0\n",
       "11056    0\n",
       "9489     0\n",
       "10107    0\n",
       "Name: airline_sentiment, dtype: int64"
      ]
     },
     "execution_count": 38,
     "metadata": {},
     "output_type": "execute_result"
    }
   ],
   "source": [
    "testfreqs = wordfreqs.iloc[0: 2000, : ]\n",
    "test_y = (reorderedtweets['airline_sentiment'][0: 2000] == 'positive').astype(int)  # try taking the last part out\n",
    "test_y[0:10]"
   ]
  },
  {
   "cell_type": "code",
   "execution_count": 39,
   "id": "requested-percentage",
   "metadata": {},
   "outputs": [
    {
     "data": {
      "text/plain": [
       "12704    1\n",
       "4144     0\n",
       "11729    0\n",
       "12121    0\n",
       "11676    1\n",
       "2852     0\n",
       "660      0\n",
       "7680     0\n",
       "6980     0\n",
       "9747     0\n",
       "Name: airline_sentiment, dtype: int64"
      ]
     },
     "execution_count": 39,
     "metadata": {},
     "output_type": "execute_result"
    }
   ],
   "source": [
    "trainfreqs = wordfreqs.iloc[2000 : , : ]\n",
    "train_y = (reorderedtweets['airline_sentiment'][2000: ] == 'positive').astype(int) \n",
    "train_y[0:10]"
   ]
  },
  {
   "cell_type": "markdown",
   "id": "advisory-hepatitis",
   "metadata": {},
   "source": [
    "We want regularization to spread evenly across different variables, even though some variables (like ```#tweetlen```) are numerically much bigger than others. So we typically \"scale\" our X matrices before using logistic regression."
   ]
  },
  {
   "cell_type": "code",
   "execution_count": 40,
   "id": "sixth-dryer",
   "metadata": {},
   "outputs": [
    {
     "data": {
      "text/html": [
       "<div>\n",
       "<style scoped>\n",
       "    .dataframe tbody tr th:only-of-type {\n",
       "        vertical-align: middle;\n",
       "    }\n",
       "\n",
       "    .dataframe tbody tr th {\n",
       "        vertical-align: top;\n",
       "    }\n",
       "\n",
       "    .dataframe thead th {\n",
       "        text-align: right;\n",
       "    }\n",
       "</style>\n",
       "<table border=\"1\" class=\"dataframe\">\n",
       "  <thead>\n",
       "    <tr style=\"text-align: right;\">\n",
       "      <th></th>\n",
       "      <th>00</th>\n",
       "      <th>000</th>\n",
       "      <th>0016</th>\n",
       "      <th>00pm</th>\n",
       "      <th>02</th>\n",
       "      <th>03</th>\n",
       "      <th>05</th>\n",
       "      <th>05am</th>\n",
       "      <th>05pm</th>\n",
       "      <th>08</th>\n",
       "      <th>...</th>\n",
       "      <th>yrs</th>\n",
       "      <th>yuma</th>\n",
       "      <th>yup</th>\n",
       "      <th>yvr</th>\n",
       "      <th>yyz</th>\n",
       "      <th>zero</th>\n",
       "      <th>zkatcher</th>\n",
       "      <th>zone</th>\n",
       "      <th>zurich</th>\n",
       "      <th>#tweetlen</th>\n",
       "    </tr>\n",
       "  </thead>\n",
       "  <tbody>\n",
       "    <tr>\n",
       "      <th>0</th>\n",
       "      <td>-0.030217</td>\n",
       "      <td>-0.048307</td>\n",
       "      <td>-0.010238</td>\n",
       "      <td>-0.014474</td>\n",
       "      <td>-0.01909</td>\n",
       "      <td>-0.014391</td>\n",
       "      <td>-0.024479</td>\n",
       "      <td>-0.010238</td>\n",
       "      <td>-0.017497</td>\n",
       "      <td>-0.016838</td>\n",
       "      <td>...</td>\n",
       "      <td>-0.023857</td>\n",
       "      <td>-0.019246</td>\n",
       "      <td>-0.024403</td>\n",
       "      <td>-0.017481</td>\n",
       "      <td>-0.031032</td>\n",
       "      <td>-0.056441</td>\n",
       "      <td>-0.017555</td>\n",
       "      <td>-0.020057</td>\n",
       "      <td>-0.017619</td>\n",
       "      <td>-1.448856</td>\n",
       "    </tr>\n",
       "    <tr>\n",
       "      <th>1</th>\n",
       "      <td>-0.030217</td>\n",
       "      <td>-0.048307</td>\n",
       "      <td>-0.010238</td>\n",
       "      <td>-0.014474</td>\n",
       "      <td>-0.01909</td>\n",
       "      <td>-0.014391</td>\n",
       "      <td>-0.024479</td>\n",
       "      <td>-0.010238</td>\n",
       "      <td>-0.017497</td>\n",
       "      <td>-0.016838</td>\n",
       "      <td>...</td>\n",
       "      <td>-0.023857</td>\n",
       "      <td>-0.019246</td>\n",
       "      <td>-0.024403</td>\n",
       "      <td>-0.017481</td>\n",
       "      <td>-0.031032</td>\n",
       "      <td>-0.056441</td>\n",
       "      <td>-0.017555</td>\n",
       "      <td>-0.020057</td>\n",
       "      <td>-0.017619</td>\n",
       "      <td>-0.263589</td>\n",
       "    </tr>\n",
       "    <tr>\n",
       "      <th>2</th>\n",
       "      <td>-0.030217</td>\n",
       "      <td>-0.048307</td>\n",
       "      <td>-0.010238</td>\n",
       "      <td>-0.014474</td>\n",
       "      <td>-0.01909</td>\n",
       "      <td>-0.014391</td>\n",
       "      <td>-0.024479</td>\n",
       "      <td>-0.010238</td>\n",
       "      <td>-0.017497</td>\n",
       "      <td>-0.016838</td>\n",
       "      <td>...</td>\n",
       "      <td>-0.023857</td>\n",
       "      <td>-0.019246</td>\n",
       "      <td>-0.024403</td>\n",
       "      <td>-0.017481</td>\n",
       "      <td>-0.031032</td>\n",
       "      <td>-0.056441</td>\n",
       "      <td>-0.017555</td>\n",
       "      <td>-0.020057</td>\n",
       "      <td>-0.017619</td>\n",
       "      <td>0.921678</td>\n",
       "    </tr>\n",
       "    <tr>\n",
       "      <th>3</th>\n",
       "      <td>-0.030217</td>\n",
       "      <td>-0.048307</td>\n",
       "      <td>-0.010238</td>\n",
       "      <td>-0.014474</td>\n",
       "      <td>-0.01909</td>\n",
       "      <td>-0.014391</td>\n",
       "      <td>-0.024479</td>\n",
       "      <td>-0.010238</td>\n",
       "      <td>-0.017497</td>\n",
       "      <td>-0.016838</td>\n",
       "      <td>...</td>\n",
       "      <td>-0.023857</td>\n",
       "      <td>-0.019246</td>\n",
       "      <td>-0.024403</td>\n",
       "      <td>-0.017481</td>\n",
       "      <td>-0.031032</td>\n",
       "      <td>-0.056441</td>\n",
       "      <td>-0.017555</td>\n",
       "      <td>-0.020057</td>\n",
       "      <td>-0.017619</td>\n",
       "      <td>0.690406</td>\n",
       "    </tr>\n",
       "    <tr>\n",
       "      <th>4</th>\n",
       "      <td>-0.030217</td>\n",
       "      <td>-0.048307</td>\n",
       "      <td>-0.010238</td>\n",
       "      <td>-0.014474</td>\n",
       "      <td>-0.01909</td>\n",
       "      <td>-0.014391</td>\n",
       "      <td>-0.024479</td>\n",
       "      <td>-0.010238</td>\n",
       "      <td>-0.017497</td>\n",
       "      <td>-0.016838</td>\n",
       "      <td>...</td>\n",
       "      <td>-0.023857</td>\n",
       "      <td>-0.019246</td>\n",
       "      <td>-0.024403</td>\n",
       "      <td>-0.017481</td>\n",
       "      <td>-0.031032</td>\n",
       "      <td>-0.056441</td>\n",
       "      <td>-0.017555</td>\n",
       "      <td>-0.020057</td>\n",
       "      <td>-0.017619</td>\n",
       "      <td>-2.634123</td>\n",
       "    </tr>\n",
       "  </tbody>\n",
       "</table>\n",
       "<p>5 rows × 4001 columns</p>\n",
       "</div>"
      ],
      "text/plain": [
       "         00       000      0016      00pm       02        03        05  \\\n",
       "0 -0.030217 -0.048307 -0.010238 -0.014474 -0.01909 -0.014391 -0.024479   \n",
       "1 -0.030217 -0.048307 -0.010238 -0.014474 -0.01909 -0.014391 -0.024479   \n",
       "2 -0.030217 -0.048307 -0.010238 -0.014474 -0.01909 -0.014391 -0.024479   \n",
       "3 -0.030217 -0.048307 -0.010238 -0.014474 -0.01909 -0.014391 -0.024479   \n",
       "4 -0.030217 -0.048307 -0.010238 -0.014474 -0.01909 -0.014391 -0.024479   \n",
       "\n",
       "       05am      05pm        08  ...       yrs      yuma       yup       yvr  \\\n",
       "0 -0.010238 -0.017497 -0.016838  ... -0.023857 -0.019246 -0.024403 -0.017481   \n",
       "1 -0.010238 -0.017497 -0.016838  ... -0.023857 -0.019246 -0.024403 -0.017481   \n",
       "2 -0.010238 -0.017497 -0.016838  ... -0.023857 -0.019246 -0.024403 -0.017481   \n",
       "3 -0.010238 -0.017497 -0.016838  ... -0.023857 -0.019246 -0.024403 -0.017481   \n",
       "4 -0.010238 -0.017497 -0.016838  ... -0.023857 -0.019246 -0.024403 -0.017481   \n",
       "\n",
       "        yyz      zero  zkatcher      zone    zurich  #tweetlen  \n",
       "0 -0.031032 -0.056441 -0.017555 -0.020057 -0.017619  -1.448856  \n",
       "1 -0.031032 -0.056441 -0.017555 -0.020057 -0.017619  -0.263589  \n",
       "2 -0.031032 -0.056441 -0.017555 -0.020057 -0.017619   0.921678  \n",
       "3 -0.031032 -0.056441 -0.017555 -0.020057 -0.017619   0.690406  \n",
       "4 -0.031032 -0.056441 -0.017555 -0.020057 -0.017619  -2.634123  \n",
       "\n",
       "[5 rows x 4001 columns]"
      ]
     },
     "execution_count": 40,
     "metadata": {},
     "output_type": "execute_result"
    }
   ],
   "source": [
    "trainscaler = StandardScaler()\n",
    "trainXscaled = trainscaler.fit_transform(trainfreqs)\n",
    "trainXscaled = pd.DataFrame(trainXscaled, columns = trainfreqs.columns)\n",
    "trainXscaled.head()"
   ]
  },
  {
   "cell_type": "code",
   "execution_count": 42,
   "id": "comprehensive-cannon",
   "metadata": {},
   "outputs": [],
   "source": [
    "testscaler = StandardScaler()\n",
    "testXscaled = testscaler.fit_transform(testfreqs)\n",
    "testXscaled = pd.DataFrame(testXscaled, columns = testfreqs.columns)"
   ]
  },
  {
   "cell_type": "markdown",
   "id": "protected-ceiling",
   "metadata": {},
   "source": [
    "**Discussion**: why are we scaling these two matrices separately? Why not scale the whole thing together before dividing into test and train sets?\n",
    "\n",
    "**Answer:** That could leak information from the test set into the training set, and would reduce our confidence that we're really \"learning\" — that is, training a model that will generalize to new, unseen data."
   ]
  },
  {
   "cell_type": "markdown",
   "id": "laughing-cattle",
   "metadata": {},
   "source": [
    "#### cross-validating a model\n",
    "\n",
    "If we just wanted to train and test a single model--and if we only wanted to measure \"accuracy\"--this would be simple."
   ]
  },
  {
   "cell_type": "code",
   "execution_count": 43,
   "id": "through-campus",
   "metadata": {},
   "outputs": [
    {
     "data": {
      "text/plain": [
       "0.903"
      ]
     },
     "execution_count": 43,
     "metadata": {},
     "output_type": "execute_result"
    }
   ],
   "source": [
    "logist = LogisticRegression(C = .1, max_iter = 1000) \n",
    "logist.fit(trainXscaled, train_y)\n",
    "\n",
    "predictions = logist.predict(testXscaled)\n",
    "sum(predictions == test_y) / len(predictions)"
   ]
  },
  {
   "cell_type": "markdown",
   "id": "awful-forum",
   "metadata": {},
   "source": [
    "Why is this not a very safe measurement? Well, how many positive tweets do we actually have in our test set?"
   ]
  },
  {
   "cell_type": "code",
   "execution_count": 44,
   "id": "united-chart",
   "metadata": {},
   "outputs": [
    {
     "data": {
      "text/plain": [
       "0.1965"
      ]
     },
     "execution_count": 44,
     "metadata": {},
     "output_type": "execute_result"
    }
   ],
   "source": [
    "sum(test_y) / len(test_y)"
   ]
  },
  {
   "cell_type": "markdown",
   "id": "meaning-quilt",
   "metadata": {},
   "source": [
    "So you can get 80% \"accuracy\" just by predicting \"negative\" in every case.\n",
    "\n",
    "A better measurement is F1 score:\n",
    "\n",
    "    F1 = 2 * (precision * recall) / (precision + recall)\n",
    "\n",
    "The simple way to calculate this is"
   ]
  },
  {
   "cell_type": "code",
   "execution_count": 45,
   "id": "random-protest",
   "metadata": {},
   "outputs": [
    {
     "data": {
      "text/plain": [
       "0.75"
      ]
     },
     "execution_count": 45,
     "metadata": {},
     "output_type": "execute_result"
    }
   ],
   "source": [
    "f1_score(test_y, predictions)"
   ]
  },
  {
   "cell_type": "markdown",
   "id": "threaded-investigation",
   "metadata": {},
   "source": [
    "but that doesn't help us understand the number, so ...\n",
    "\n",
    "#### EXERCISE 3:\n",
    "\n",
    "working in small groups, calculate precision: the ratio tp / (tp + fp) where tp is the number of true positives and fp the number of false positives. \n",
    "\n",
    "then recall: the ratio tp / (tp + fn) where tp is the number of true positives and fn the number of false negatives. \n",
    "\n",
    "Then calculate your f1 score, which should equal what *you* got above. Note that since we randomized the test/train split, everyone's result will be slightly different."
   ]
  },
  {
   "cell_type": "code",
   "execution_count": 47,
   "id": "decimal-principle",
   "metadata": {},
   "outputs": [
    {
     "name": "stdout",
     "output_type": "stream",
     "text": [
      "0.7598 0.7405 0.75\n"
     ]
    }
   ],
   "source": [
    "tp = sum((test_y == 1) & (predictions == 1))\n",
    "fp = sum((test_y == 0) & (predictions == 1))\n",
    "fn = sum((test_y == 1) & (predictions == 0))\n",
    "\n",
    "precision = tp / (tp + fp)\n",
    "recall = tp / (tp + fn)\n",
    "\n",
    "F1 = 2 * (precision * recall) / (precision + recall)\n",
    "\n",
    "print(round(precision, 4), round(recall, 4), round(F1, 4))\n"
   ]
  },
  {
   "cell_type": "markdown",
   "id": "historic-nancy",
   "metadata": {},
   "source": [
    "So this model has higher precision than recall; it's failing to recognize some positive tweets."
   ]
  },
  {
   "cell_type": "markdown",
   "id": "considerable-amber",
   "metadata": {},
   "source": [
    "### handling imbalanced classes\n",
    "\n",
    "To keep your model from always choosing \"negative,\" you can weight the classes inversely to their frequency. This will make errors in rare classes more costly."
   ]
  },
  {
   "cell_type": "code",
   "execution_count": 48,
   "id": "three-groove",
   "metadata": {},
   "outputs": [
    {
     "name": "stdout",
     "output_type": "stream",
     "text": [
      "0.7095 0.7583 0.7331\n"
     ]
    }
   ],
   "source": [
    "logist = LogisticRegression(C = .1, max_iter = 1000, class_weight = 'balanced') \n",
    "logist.fit(trainXscaled, train_y)\n",
    "\n",
    "predictions = logist.predict(testXscaled)\n",
    "\n",
    "tp = sum((test_y == 1) & (predictions == 1))\n",
    "fp = sum((test_y == 0) & (predictions == 1))\n",
    "fn = sum((test_y == 1) & (predictions == 0))\n",
    "\n",
    "precision = tp / (tp + fp)\n",
    "recall = tp / (tp + fn)\n",
    "\n",
    "F1 = 2 * (precision * recall) / (precision + recall)\n",
    "\n",
    "print(round(precision, 4), round(recall, 4), round(F1, 4))"
   ]
  },
  {
   "cell_type": "markdown",
   "id": "sonic-opera",
   "metadata": {},
   "source": [
    "**Note:** This strategy is not guaranteed to improve the overall F1 score in every case. But it probably is significant that it has changed the balance between prevision and recall.\n",
    "\n",
    "The C parameter sets smoothing. It's like alpha in Naive Bayes, except size is reversed here: low numbers equal stronger smoothing. We could fiddle around with C until we got a good number on our test set, but then we might be overfitting our test set. \n",
    "\n",
    "**Discussion:** Why?\n",
    "\n",
    "**Answer:** Again, the problem is that we're leaking some information about the test set into the training process.\n",
    "\n",
    "An alternative is to fiddle around with the *training* set until we get a good C parameter, and then test that number on the test set (being careful not to look at it until the final stage.)\n",
    "\n",
    "But we don't want to overfit the training set in the process of \"fiddling around\" on it. Otherwise we'll tend to choose less regularization than we really need for the test set.\n",
    "\n",
    "A solution here is to \"cross-validate\" on the training set: repeatedly divide it, train on say 4/5th of the data, and test on the remaining fifth.\n"
   ]
  },
  {
   "cell_type": "code",
   "execution_count": 49,
   "id": "norman-method",
   "metadata": {},
   "outputs": [
    {
     "name": "stdout",
     "output_type": "stream",
     "text": [
      "{'fit_time': array([1.19712424, 1.04555511, 1.1467638 , 1.0185957 , 1.05130696]), 'score_time': array([0.03987408, 0.03930521, 0.04278016, 0.03945923, 0.04961991]), 'test_score': array([0.74939173, 0.76695438, 0.74905422, 0.73737374, 0.72862454])}\n",
      "\n",
      "Mean f1: 0.7462797203919321\n"
     ]
    }
   ],
   "source": [
    "logist = LogisticRegression(C = .01, max_iter = 1000, class_weight = 'balanced')\n",
    "results = cross_validate(logist, trainXscaled, train_y, cv = 5, scoring = 'f1')\n",
    "print(results)\n",
    "print()\n",
    "print('Mean f1:', np.mean(results['test_score']))"
   ]
  },
  {
   "cell_type": "markdown",
   "id": "quiet-ratio",
   "metadata": {},
   "source": [
    "Technically, to be extremely cautious, we would \"scale\" each fold of the cross-validation separately. This can be done in sklearn using a \"pipeline,\" but it adds more complexity than we need for this exercise and doesn't actually change our result greatly.\n",
    "\n",
    "#### EXERCISE 4:\n",
    "\n",
    "Construct a for-loop that tests C parameters ranging from .00001 to 10, varying by powers of 10.\n",
    "\n",
    "    [.00001, .0001, .001, .01, .1, 1, 10]\n",
    "\n",
    "In each case, cross-validate on trainXscaled and report the f1 score. When you've got the C parameter that works best, use that model to make a prediction on testXscaled, and calculate both f1 score and accuracy for that prediction."
   ]
  },
  {
   "cell_type": "code",
   "execution_count": 51,
   "id": "persistent-thanks",
   "metadata": {},
   "outputs": [
    {
     "name": "stdout",
     "output_type": "stream",
     "text": [
      "C parameter: 1e-05\n",
      "Mean f1: 0.7613891748318042\n",
      "\n",
      "C parameter: 0.0001\n",
      "Mean f1: 0.7631374641196054\n",
      "\n",
      "C parameter: 0.001\n",
      "Mean f1: 0.7660025210823667\n",
      "\n",
      "C parameter: 0.01\n",
      "Mean f1: 0.7462797203919321\n",
      "\n",
      "C parameter: 0.1\n",
      "Mean f1: 0.7297491179145769\n",
      "\n",
      "C parameter: 1\n",
      "Mean f1: 0.7190563121310635\n",
      "\n",
      "C parameter: 10\n",
      "Mean f1: 0.7102743065446762\n",
      "\n"
     ]
    }
   ],
   "source": [
    "for c_param in [.00001, .0001, .001, .01, .1, 1, 10]:\n",
    "    logist = LogisticRegression(C = c_param, max_iter = 1000, class_weight = 'balanced') \n",
    "    results = cross_validate(logist, trainXscaled, train_y, cv = 5, scoring = 'f1')\n",
    "    print('C parameter:', c_param)\n",
    "    print('Mean f1:', np.mean(results['test_score']))\n",
    "    print()"
   ]
  },
  {
   "cell_type": "markdown",
   "id": "given-cinema",
   "metadata": {},
   "source": [
    "So the best C parameter is .001. Now we train a model using that parameter on the whole training set, and see how it performs on the test set."
   ]
  },
  {
   "cell_type": "code",
   "execution_count": 53,
   "id": "aggressive-detail",
   "metadata": {},
   "outputs": [
    {
     "name": "stdout",
     "output_type": "stream",
     "text": [
      "0.7433 0.7812 0.7618\n"
     ]
    }
   ],
   "source": [
    "logist = LogisticRegression(C = .001, max_iter = 1000, class_weight = 'balanced') \n",
    "logist.fit(trainXscaled, train_y)\n",
    "predictions = logist.predict(testXscaled)\n",
    "\n",
    "tp = sum((test_y == 1) & (predictions == 1))\n",
    "fp = sum((test_y == 0) & (predictions == 1))\n",
    "fn = sum((test_y == 1) & (predictions == 0))\n",
    "\n",
    "precision = tp / (tp + fp)\n",
    "recall = tp / (tp + fn)\n",
    "\n",
    "F1 = 2 * (precision * recall) / (precision + recall)\n",
    "\n",
    "print(round(precision, 4), round(recall, 4), round(F1, 4))"
   ]
  },
  {
   "cell_type": "markdown",
   "id": "portable-coverage",
   "metadata": {},
   "source": [
    "So F1 measure of .76 is a pretty reliable picture of how well we can separate negative and positive tweets in the future.\n",
    "\n",
    "What if we wanted to interpret this model. Can we extract coefficients?"
   ]
  },
  {
   "cell_type": "markdown",
   "id": "closing-dollar",
   "metadata": {},
   "source": [
    "#### identify predictive features\n",
    "\n"
   ]
  },
  {
   "cell_type": "code",
   "execution_count": 54,
   "id": "embedded-norman",
   "metadata": {},
   "outputs": [],
   "source": [
    "logist = LogisticRegression(C = c_param, max_iter = 1000, class_weight = 'balanced')\n",
    "logist.fit(trainXscaled, train_y)\n",
    "coefficients = [x for x in zip(logist.coef_[0], vectorizer.get_feature_names())]"
   ]
  },
  {
   "cell_type": "code",
   "execution_count": 55,
   "id": "excited-desire",
   "metadata": {},
   "outputs": [],
   "source": [
    "coefficients.sort()"
   ]
  },
  {
   "cell_type": "code",
   "execution_count": 56,
   "id": "placed-privilege",
   "metadata": {},
   "outputs": [
    {
     "data": {
      "text/plain": [
       "[(-1.7117043847030566, 'not'),\n",
       " (-1.6374540241894129, 'worst'),\n",
       " (-1.6030467892361757, 'hour'),\n",
       " (-1.5062158807277217, 'no'),\n",
       " (-1.3533575522349082, 'money'),\n",
       " (-1.3183799823422273, 'delayed'),\n",
       " (-1.3056010947190504, 'bit'),\n",
       " (-1.0414080410457107, 'united'),\n",
       " (-1.0390196286999462, 'luggage'),\n",
       " (-1.0200034060112166, 'hours'),\n",
       " (-0.9900319942873045, 'still'),\n",
       " (-0.9632916046159501, 'let'),\n",
       " (-0.9405220835404323, 'my'),\n",
       " (-0.9364040186855526, 'sucks'),\n",
       " (-0.9216294465734982, 'nothing'),\n",
       " (-0.8914680730617341, 'late'),\n",
       " (-0.8900772316836659, 'rude'),\n",
       " (-0.8853571986426362, 'hung'),\n",
       " (-0.8836141851534709, 'nightmare'),\n",
       " (-0.8573631183855567, 'americanair')]"
      ]
     },
     "execution_count": 56,
     "metadata": {},
     "output_type": "execute_result"
    }
   ],
   "source": [
    "coefficients[0:20]"
   ]
  },
  {
   "cell_type": "code",
   "execution_count": 57,
   "id": "covered-faith",
   "metadata": {},
   "outputs": [
    {
     "data": {
      "text/plain": [
       "[(0.7500774026605328, 'best'),\n",
       " (0.7515610516150587, 'proud'),\n",
       " (0.7648435190320645, 'excellent'),\n",
       " (0.8040732038508063, 'jetblue'),\n",
       " (0.8085866899794636, 'kudos'),\n",
       " (0.8130281273154139, 'fun'),\n",
       " (0.8174107124468666, 'made'),\n",
       " (0.8436733372559074, 'beautiful'),\n",
       " (0.8623768551350586, 'loved'),\n",
       " (0.9333926630585165, 'good'),\n",
       " (0.9735490801026193, 'pleasure'),\n",
       " (1.0044545676833794, 'thx'),\n",
       " (1.0597639949059505, 'amazing'),\n",
       " (1.1932485618769935, 'new'),\n",
       " (1.313671612167603, 'appreciate'),\n",
       " (1.6727148661375617, 'awesome'),\n",
       " (2.0363509781665843, 'love'),\n",
       " (2.3797411248727927, 'great'),\n",
       " (3.9116302897781026, 'thank'),\n",
       " (4.576125945294653, 'thanks')]"
      ]
     },
     "execution_count": 57,
     "metadata": {},
     "output_type": "execute_result"
    }
   ],
   "source": [
    "coefficients[-20:]"
   ]
  },
  {
   "cell_type": "markdown",
   "id": "systematic-witness",
   "metadata": {},
   "source": [
    "We can definitely extract coefficients for features. But note that these coefficients are not necessarily easy to interpret. The thing that makes logistic regression stronger than naive Bayes, you'll recall, is that there are no independence assumptions on variables. But this also means that different variables can interact with each other in unpredictable ways. The term you'll hear used for this is \"multicollinearity.\" "
   ]
  },
  {
   "cell_type": "code",
   "execution_count": null,
   "id": "emerging-zoning",
   "metadata": {},
   "outputs": [],
   "source": []
  }
 ],
 "metadata": {
  "kernelspec": {
   "display_name": "Python 3",
   "language": "python",
   "name": "python3"
  },
  "language_info": {
   "codemirror_mode": {
    "name": "ipython",
    "version": 3
   },
   "file_extension": ".py",
   "mimetype": "text/x-python",
   "name": "python",
   "nbconvert_exporter": "python",
   "pygments_lexer": "ipython3",
   "version": "3.7.6"
  }
 },
 "nbformat": 4,
 "nbformat_minor": 5
}
