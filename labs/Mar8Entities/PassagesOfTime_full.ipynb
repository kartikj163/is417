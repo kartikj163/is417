{
 "cells": [
  {
   "cell_type": "markdown",
   "id": "future-torture",
   "metadata": {},
   "source": [
    "# Passages of Time\n",
    "\n",
    "In this notebook we'll use [```spaCy```, a Python module that does natural language processing,](https://spacy.io/usage/models) including part-of-speech tagging and named entity recognition (NER).\n",
    "\n",
    "Our goal here is partly to explore the mechanics of using ```spaCy```--but also, and more importantly, to explore the humanistic uses of named entity recognition. In particular, we're going to explore some questions about the representation of time in fiction (thus the title of the notebook!)\n",
    "\n",
    "So it's not going to be a disaster if you have difficulty getting ```spaCy``` itself to run. You probably don't already have ```spaCy``` installed on your machine, and I expect the process of installation will create glitches for a few people. That's okay; we've got work-arounds to help you explore the *results* of NER, even if the NER process itself won't run easily on your machine.\n",
    "\n",
    "But let's give it a try. The cells below should help you install ```spaCy```, and then download the specific English-language model we want to use. (There are also models for other languages: see the link above.)"
   ]
  },
  {
   "cell_type": "code",
   "execution_count": null,
   "id": "novel-shanghai",
   "metadata": {},
   "outputs": [],
   "source": [
    "!pip install spacy                          # this gets the python module itself"
   ]
  },
  {
   "cell_type": "code",
   "execution_count": null,
   "id": "pretty-poison",
   "metadata": {},
   "outputs": [],
   "source": [
    "!python -m spacy download en_core_web_sm    # this gets a particular English-lang model\n",
    "# if this doesn't work try saying !python3 (everything else the same)\n",
    "# or run the cell below and check what version you're running, and then say\n",
    "# !python3.7, or !python3.8 (with everything else the same) as appropriate."
   ]
  },
  {
   "cell_type": "code",
   "execution_count": 1,
   "id": "preliminary-preservation",
   "metadata": {},
   "outputs": [
    {
     "name": "stdout",
     "output_type": "stream",
     "text": [
      "3.7.6\n"
     ]
    }
   ],
   "source": [
    "from platform import python_version\n",
    "print(python_version())"
   ]
  },
  {
   "cell_type": "code",
   "execution_count": 2,
   "id": "vertical-beast",
   "metadata": {},
   "outputs": [],
   "source": [
    "import spacy\n",
    "from spacy import displacy\n",
    "from pprint import pprint\n",
    "from collections import Counter\n",
    "import en_core_web_sm\n",
    "from pathlib import Path\n",
    "\n",
    "import pandas as pd\n",
    "import numpy as np\n",
    "import seaborn as sns\n",
    "from matplotlib import pyplot as plt\n",
    "%matplotlib inline"
   ]
  },
  {
   "cell_type": "markdown",
   "id": "laughing-begin",
   "metadata": {},
   "source": [
    "### SECTION 0: Define a function that applies the English-language model\n",
    "\n",
    "We're going to define a natural language processing pipeline that uses ```spaCy```'s small English-language model."
   ]
  },
  {
   "cell_type": "code",
   "execution_count": 3,
   "id": "smaller-invalid",
   "metadata": {},
   "outputs": [],
   "source": [
    "engl_nlp = en_core_web_sm.load()"
   ]
  },
  {
   "cell_type": "markdown",
   "id": "necessary-memorial",
   "metadata": {},
   "source": [
    "The model will identify the *lemma* (root form) for each word and also label it with a part of speech."
   ]
  },
  {
   "cell_type": "code",
   "execution_count": 4,
   "id": "committed-trouble",
   "metadata": {},
   "outputs": [
    {
     "name": "stdout",
     "output_type": "stream",
     "text": [
      "European european ADJ\n",
      "authorities authority NOUN\n",
      "fined fine VERB\n",
      "google google PROPN\n",
      "corporation corporation NOUN\n",
      "a a DET\n",
      "record record NOUN\n",
      "$ $ SYM\n",
      "5.1 5.1 NUM\n",
      "billion billion NUM\n",
      "on on ADP\n",
      "Wednesday Wednesday PROPN\n",
      "for for ADP\n",
      "abusing abuse VERB\n",
      "its its PRON\n",
      "power power NOUN\n",
      "in in ADP\n",
      "the the DET\n",
      "mobile mobile ADJ\n",
      "phone phone NOUN\n",
      "market market NOUN\n",
      "and and CCONJ\n",
      "ordered order VERB\n",
      "the the DET\n",
      "company company NOUN\n",
      "to to PART\n",
      "alter alter VERB\n",
      "its its PRON\n",
      "practices practice NOUN\n",
      ". . PUNCT\n"
     ]
    }
   ],
   "source": [
    "doc = engl_nlp('European authorities fined google corporation a record $5.1 billion on Wednesday for abusing its power in the mobile phone market and ordered the company to alter its practices.')\n",
    "for token in doc:\n",
    "    print(token.text, token.lemma_, token.pos_)"
   ]
  },
  {
   "cell_type": "markdown",
   "id": "usual-player",
   "metadata": {},
   "source": [
    "It can also use context to identify certain words and phrases as \"named entities\"--a loose category that includes proper nouns, quantities, and references to particular quantities of money or lengths of time."
   ]
  },
  {
   "cell_type": "code",
   "execution_count": 5,
   "id": "thirty-underwear",
   "metadata": {},
   "outputs": [
    {
     "name": "stdout",
     "output_type": "stream",
     "text": [
      "[('European', 'NORP'),\n",
      " ('a record $5.1 billion', 'MONEY'),\n",
      " ('Wednesday', 'DATE')]\n"
     ]
    }
   ],
   "source": [
    "pprint([(X.text, X.label_) for X in doc.ents])"
   ]
  },
  {
   "cell_type": "markdown",
   "id": "sonic-pressing",
   "metadata": {},
   "source": [
    "There's a nice built-in mode of visualizing entities, too."
   ]
  },
  {
   "cell_type": "code",
   "execution_count": 6,
   "id": "headed-ending",
   "metadata": {},
   "outputs": [
    {
     "data": {
      "text/html": [
       "<span class=\"tex2jax_ignore\"><div class=\"entities\" style=\"line-height: 2.5; direction: ltr\">\n",
       "<mark class=\"entity\" style=\"background: #c887fb; padding: 0.45em 0.6em; margin: 0 0.25em; line-height: 1; border-radius: 0.35em;\">\n",
       "    European\n",
       "    <span style=\"font-size: 0.8em; font-weight: bold; line-height: 1; border-radius: 0.35em; vertical-align: middle; margin-left: 0.5rem\">NORP</span>\n",
       "</mark>\n",
       " authorities fined google corporation \n",
       "<mark class=\"entity\" style=\"background: #e4e7d2; padding: 0.45em 0.6em; margin: 0 0.25em; line-height: 1; border-radius: 0.35em;\">\n",
       "    a record $5.1 billion\n",
       "    <span style=\"font-size: 0.8em; font-weight: bold; line-height: 1; border-radius: 0.35em; vertical-align: middle; margin-left: 0.5rem\">MONEY</span>\n",
       "</mark>\n",
       " on \n",
       "<mark class=\"entity\" style=\"background: #bfe1d9; padding: 0.45em 0.6em; margin: 0 0.25em; line-height: 1; border-radius: 0.35em;\">\n",
       "    Wednesday\n",
       "    <span style=\"font-size: 0.8em; font-weight: bold; line-height: 1; border-radius: 0.35em; vertical-align: middle; margin-left: 0.5rem\">DATE</span>\n",
       "</mark>\n",
       " for abusing its power in the mobile phone market and ordered the company to alter its practices.</div></span>"
      ],
      "text/plain": [
       "<IPython.core.display.HTML object>"
      ]
     },
     "metadata": {},
     "output_type": "display_data"
    }
   ],
   "source": [
    "displacy.render(doc, style = 'ent', jupyter = True)"
   ]
  },
  {
   "cell_type": "markdown",
   "id": "liked-mediterranean",
   "metadata": {},
   "source": [
    "### SECTION 1: Exploring different types of entities\n",
    "\n",
    "How many different kinds of entities are available in ```spaCy```? One easy way to find out is to run entity recognition on our movie scripts, and collect a bunch of examples.\n",
    "\n",
    "Note that it can take a couple of minutes for the  second cell below to run."
   ]
  },
  {
   "cell_type": "code",
   "execution_count": 7,
   "id": "fabulous-jenny",
   "metadata": {},
   "outputs": [],
   "source": [
    "dialogpath = Path('../../data/movie_dialogue.tsv')\n",
    "chars = pd.read_csv(dialogpath, sep = '\\t')"
   ]
  },
  {
   "cell_type": "code",
   "execution_count": 8,
   "id": "express-folder",
   "metadata": {},
   "outputs": [],
   "source": [
    "# This may take a few minutes.\n",
    "\n",
    "ent_types = dict()      # initialize a dictionary\n",
    "\n",
    "for line in chars['lines'][0:80]:     # just go through the first eighty characters\n",
    "    doc = engl_nlp(line)\n",
    "\n",
    "    for entity in doc.ents:           # for each character, go through all the entities\n",
    "        label = entity.label_         # get their labels\n",
    "        if label not in ent_types:    # make sure there's a key for this label in the dictionary\n",
    "            ent_types[label] = Counter()      # each label key points to a Counter for examples\n",
    "        text = entity.text\n",
    "        ent_types[label][text] += 1   # count the number of times we see each example"
   ]
  },
  {
   "cell_type": "markdown",
   "id": "circular-humanity",
   "metadata": {},
   "source": [
    "How many types of entities did we find?"
   ]
  },
  {
   "cell_type": "code",
   "execution_count": 9,
   "id": "radical-punishment",
   "metadata": {},
   "outputs": [
    {
     "name": "stdout",
     "output_type": "stream",
     "text": [
      "PERSON 515\n",
      "DATE 213\n",
      "TIME 67\n",
      "CARDINAL 116\n",
      "NORP 47\n",
      "ORG 276\n",
      "GPE 171\n",
      "ORDINAL 10\n",
      "LOC 31\n",
      "WORK_OF_ART 29\n",
      "FAC 22\n",
      "MONEY 53\n",
      "QUANTITY 25\n",
      "PRODUCT 12\n",
      "EVENT 6\n",
      "LANGUAGE 4\n",
      "LAW 1\n",
      "PERCENT 9\n"
     ]
    }
   ],
   "source": [
    "for etype, examples in ent_types.items():\n",
    "    print(etype, len(examples))"
   ]
  },
  {
   "cell_type": "markdown",
   "id": "optional-mount",
   "metadata": {},
   "source": [
    "To get an explanation of a particular label we can ask ```spaCy``` to ```explain()```:"
   ]
  },
  {
   "cell_type": "code",
   "execution_count": 10,
   "id": "competent-resident",
   "metadata": {},
   "outputs": [
    {
     "data": {
      "text/plain": [
       "'Nationalities or religious or political groups'"
      ]
     },
     "execution_count": 10,
     "metadata": {},
     "output_type": "execute_result"
    }
   ],
   "source": [
    "spacy.explain('NORP')"
   ]
  },
  {
   "cell_type": "code",
   "execution_count": 11,
   "id": "athletic-rally",
   "metadata": {},
   "outputs": [
    {
     "data": {
      "text/plain": [
       "Counter({'Olympics': 2,\n",
       "         \"Y'ever\": 1,\n",
       "         'the War': 1,\n",
       "         'the Gulf War': 1,\n",
       "         'the Christmas party': 1,\n",
       "         'Katrina': 7})"
      ]
     },
     "execution_count": 11,
     "metadata": {},
     "output_type": "execute_result"
    }
   ],
   "source": [
    "ent_types['EVENT']"
   ]
  },
  {
   "cell_type": "markdown",
   "id": "split-technical",
   "metadata": {},
   "source": [
    "So Katrina occurred several times in these characters' lines, and ```spaCy``` inferred that it was the hurricane, not a person called Katrina. Whether it inferred correctly is hard to know from this evidence. But we can check by tracking the occurrences down in the data. In fact, these occurrences of Katrina are coming from the movie *Juno,* where Katrina was a person, not a hurricane! Mistakes do happen.\n",
    "\n",
    "If you've got any questions about the meanings of tags, use ```spaCy```'s explain() function to inquire about them. It may also help to explore the examples in ```ent_types.``` Or you can look at an example from a movie script, like the lines from a gangster movie below.\n",
    "\n",
    "In the example below, NER works pretty well, although the model may occasionally get confused whether a mob boss is a person, a place, or the name of an organization. Admittedly, in the mob it gets a little blurry.\n",
    "\n",
    "**We'll stop here for discussion.**"
   ]
  },
  {
   "cell_type": "code",
   "execution_count": 12,
   "id": "republican-gospel",
   "metadata": {},
   "outputs": [
    {
     "data": {
      "text/html": [
       "<span class=\"tex2jax_ignore\"><div class=\"entities\" style=\"line-height: 2.5; direction: ltr\">\n",
       "<mark class=\"entity\" style=\"background: #7aecec; padding: 0.45em 0.6em; margin: 0 0.25em; line-height: 1; border-radius: 0.35em;\">\n",
       "    Boo-Boo\n",
       "    <span style=\"font-size: 0.8em; font-weight: bold; line-height: 1; border-radius: 0.35em; vertical-align: middle; margin-left: 0.5rem\">ORG</span>\n",
       "</mark>\n",
       ". / The commission don't decide how I spend my honeymoon. / We have a commission. If there's a dispute over territory, the commission decides. / We're gonna be the winning side. It's like \n",
       "<mark class=\"entity\" style=\"background: #aa9cfc; padding: 0.45em 0.6em; margin: 0 0.25em; line-height: 1; border-radius: 0.35em;\">\n",
       "    Rothstein\n",
       "    <span style=\"font-size: 0.8em; font-weight: bold; line-height: 1; border-radius: 0.35em; vertical-align: middle; margin-left: 0.5rem\">PERSON</span>\n",
       "</mark>\n",
       " said about that guy in \n",
       "<mark class=\"entity\" style=\"background: #feca74; padding: 0.45em 0.6em; margin: 0 0.25em; line-height: 1; border-radius: 0.35em;\">\n",
       "    Austria\n",
       "    <span style=\"font-size: 0.8em; font-weight: bold; line-height: 1; border-radius: 0.35em; vertical-align: middle; margin-left: 0.5rem\">GPE</span>\n",
       "</mark>\n",
       ". We're gonna use \n",
       "<mark class=\"entity\" style=\"background: #7aecec; padding: 0.45em 0.6em; margin: 0 0.25em; line-height: 1; border-radius: 0.35em;\">\n",
       "    Maranzano\n",
       "    <span style=\"font-size: 0.8em; font-weight: bold; line-height: 1; border-radius: 0.35em; vertical-align: middle; margin-left: 0.5rem\">ORG</span>\n",
       "</mark>\n",
       " and \n",
       "<mark class=\"entity\" style=\"background: #feca74; padding: 0.45em 0.6em; margin: 0 0.25em; line-height: 1; border-radius: 0.35em;\">\n",
       "    Masseria\n",
       "    <span style=\"font-size: 0.8em; font-weight: bold; line-height: 1; border-radius: 0.35em; vertical-align: middle; margin-left: 0.5rem\">GPE</span>\n",
       "</mark>\n",
       ". Let 'em knock each other bloody. And then, when everybody's screamin' for peace, we step in to make it. What they're fight in' over, everybody will beg us to take. / Mr. \n",
       "<mark class=\"entity\" style=\"background: #aa9cfc; padding: 0.45em 0.6em; margin: 0 0.25em; line-height: 1; border-radius: 0.35em;\">\n",
       "    Costello\n",
       "    <span style=\"font-size: 0.8em; font-weight: bold; line-height: 1; border-radius: 0.35em; vertical-align: middle; margin-left: 0.5rem\">PERSON</span>\n",
       "</mark>\n",
       " handles our business with the government agencies. / \n",
       "<mark class=\"entity\" style=\"background: #e4e7d2; padding: 0.45em 0.6em; margin: 0 0.25em; line-height: 1; border-radius: 0.35em;\">\n",
       "    A hundred-seven\n",
       "    <span style=\"font-size: 0.8em; font-weight: bold; line-height: 1; border-radius: 0.35em; vertical-align: middle; margin-left: 0.5rem\">CARDINAL</span>\n",
       "</mark>\n",
       " bucks too much. Any kid who drops an extra dime is gonna be talkin' to \n",
       "<mark class=\"entity\" style=\"background: #7aecec; padding: 0.45em 0.6em; margin: 0 0.25em; line-height: 1; border-radius: 0.35em;\">\n",
       "    Moliari\n",
       "    <span style=\"font-size: 0.8em; font-weight: bold; line-height: 1; border-radius: 0.35em; vertical-align: middle; margin-left: 0.5rem\">ORG</span>\n",
       "</mark>\n",
       ". / Is there a fuckin' point comin' up anytime soon? / What's your problem? / \n",
       "<mark class=\"entity\" style=\"background: #aa9cfc; padding: 0.45em 0.6em; margin: 0 0.25em; line-height: 1; border-radius: 0.35em;\">\n",
       "    Tommy Reina\n",
       "    <span style=\"font-size: 0.8em; font-weight: bold; line-height: 1; border-radius: 0.35em; vertical-align: middle; margin-left: 0.5rem\">PERSON</span>\n",
       "</mark>\n",
       ". / We can get the war started \n",
       "<mark class=\"entity\" style=\"background: #bfe1d9; padding: 0.45em 0.6em; margin: 0 0.25em; line-height: 1; border-radius: 0.35em;\">\n",
       "    tomorrow\n",
       "    <span style=\"font-size: 0.8em; font-weight: bold; line-height: 1; border-radius: 0.35em; vertical-align: middle; margin-left: 0.5rem\">DATE</span>\n",
       "</mark>\n",
       ", but it won't be pretty. / \n",
       "<mark class=\"entity\" style=\"background: #aa9cfc; padding: 0.45em 0.6em; margin: 0 0.25em; line-height: 1; border-radius: 0.35em;\">\n",
       "    Tommy Reina's\n",
       "    <span style=\"font-size: 0.8em; font-weight: bold; line-height: 1; border-radius: 0.35em; vertical-align: middle; margin-left: 0.5rem\">PERSON</span>\n",
       "</mark>\n",
       " gone over to \n",
       "<mark class=\"entity\" style=\"background: #7aecec; padding: 0.45em 0.6em; margin: 0 0.25em; line-height: 1; border-radius: 0.35em;\">\n",
       "    Maranzano\n",
       "    <span style=\"font-size: 0.8em; font-weight: bold; line-height: 1; border-radius: 0.35em; vertical-align: middle; margin-left: 0.5rem\">ORG</span>\n",
       "</mark>\n",
       ", but so far Masseria ain't lifted a finger, / It'll just be \n",
       "<mark class=\"entity\" style=\"background: #bfe1d9; padding: 0.45em 0.6em; margin: 0 0.25em; line-height: 1; border-radius: 0.35em;\">\n",
       "    a few minutes\n",
       "    <span style=\"font-size: 0.8em; font-weight: bold; line-height: 1; border-radius: 0.35em; vertical-align: middle; margin-left: 0.5rem\">TIME</span>\n",
       "</mark>\n",
       ". / You're getting' 10 cc's / It's not myself I'm worried about. / Might as well put the time to use. / I'm gettin' married in \n",
       "<mark class=\"entity\" style=\"background: #bfe1d9; padding: 0.45em 0.6em; margin: 0 0.25em; line-height: 1; border-radius: 0.35em;\">\n",
       "    six weeks\n",
       "    <span style=\"font-size: 0.8em; font-weight: bold; line-height: 1; border-radius: 0.35em; vertical-align: middle; margin-left: 0.5rem\">DATE</span>\n",
       "</mark>\n",
       ". I'll already be in \n",
       "<mark class=\"entity\" style=\"background: #feca74; padding: 0.45em 0.6em; margin: 0 0.25em; line-height: 1; border-radius: 0.35em;\">\n",
       "    Atlantic City\n",
       "    <span style=\"font-size: 0.8em; font-weight: bold; line-height: 1; border-radius: 0.35em; vertical-align: middle; margin-left: 0.5rem\">GPE</span>\n",
       "</mark>\n",
       " which is probably the best place to do it anyway. / So we end up with everybody but the \n",
       "<mark class=\"entity\" style=\"background: #e4e7d2; padding: 0.45em 0.6em; margin: 0 0.25em; line-height: 1; border-radius: 0.35em;\">\n",
       "    two\n",
       "    <span style=\"font-size: 0.8em; font-weight: bold; line-height: 1; border-radius: 0.35em; vertical-align: middle; margin-left: 0.5rem\">CARDINAL</span>\n",
       "</mark>\n",
       " Bosses, at our meet. We ain't sayin' we're the leaders, but we're leadin'. / And if we don't invite \n",
       "<mark class=\"entity\" style=\"background: #7aecec; padding: 0.45em 0.6em; margin: 0 0.25em; line-height: 1; border-radius: 0.35em;\">\n",
       "    Maranzano\n",
       "    <span style=\"font-size: 0.8em; font-weight: bold; line-height: 1; border-radius: 0.35em; vertical-align: middle; margin-left: 0.5rem\">ORG</span>\n",
       "</mark>\n",
       ", we can't invite \n",
       "<mark class=\"entity\" style=\"background: #feca74; padding: 0.45em 0.6em; margin: 0 0.25em; line-height: 1; border-radius: 0.35em;\">\n",
       "    Masseria\n",
       "    <span style=\"font-size: 0.8em; font-weight: bold; line-height: 1; border-radius: 0.35em; vertical-align: middle; margin-left: 0.5rem\">GPE</span>\n",
       "</mark>\n",
       ". Guys don't wanna be choosin' sides. / \n",
       "<mark class=\"entity\" style=\"background: #c887fb; padding: 0.45em 0.6em; margin: 0 0.25em; line-height: 1; border-radius: 0.35em;\">\n",
       "    Italians\n",
       "    <span style=\"font-size: 0.8em; font-weight: bold; line-height: 1; border-radius: 0.35em; vertical-align: middle; margin-left: 0.5rem\">NORP</span>\n",
       "</mark>\n",
       ", \n",
       "<mark class=\"entity\" style=\"background: #c887fb; padding: 0.45em 0.6em; margin: 0 0.25em; line-height: 1; border-radius: 0.35em;\">\n",
       "    Jews\n",
       "    <span style=\"font-size: 0.8em; font-weight: bold; line-height: 1; border-radius: 0.35em; vertical-align: middle; margin-left: 0.5rem\">NORP</span>\n",
       "</mark>\n",
       ", \n",
       "<mark class=\"entity\" style=\"background: #c887fb; padding: 0.45em 0.6em; margin: 0 0.25em; line-height: 1; border-radius: 0.35em;\">\n",
       "    Irish\n",
       "    <span style=\"font-size: 0.8em; font-weight: bold; line-height: 1; border-radius: 0.35em; vertical-align: middle; margin-left: 0.5rem\">NORP</span>\n",
       "</mark>\n",
       ". \n",
       "<mark class=\"entity\" style=\"background: #e4e7d2; padding: 0.45em 0.6em; margin: 0 0.25em; line-height: 1; border-radius: 0.35em;\">\n",
       "    One\n",
       "    <span style=\"font-size: 0.8em; font-weight: bold; line-height: 1; border-radius: 0.35em; vertical-align: middle; margin-left: 0.5rem\">CARDINAL</span>\n",
       "</mark>\n",
       " big party. Course, some guys don't get along. / We need to put together a meet for the whole country. We all got the same problems. We could talk. Meet the guys we don't know. Lift a few with the guys we do. / I been thinkin'... / We're going to \n",
       "<mark class=\"entity\" style=\"background: #feca74; padding: 0.45em 0.6em; margin: 0 0.25em; line-height: 1; border-radius: 0.35em;\">\n",
       "    Atlantic City\n",
       "    <span style=\"font-size: 0.8em; font-weight: bold; line-height: 1; border-radius: 0.35em; vertical-align: middle; margin-left: 0.5rem\">GPE</span>\n",
       "</mark>\n",
       " for the honeymoon. / Guess I'm not a single type guy. / No. We ain't even... / It's nothin'. I'm gettin' married. / Without us, \n",
       "<mark class=\"entity\" style=\"background: #feca74; padding: 0.45em 0.6em; margin: 0 0.25em; line-height: 1; border-radius: 0.35em;\">\n",
       "    Masseria\n",
       "    <span style=\"font-size: 0.8em; font-weight: bold; line-height: 1; border-radius: 0.35em; vertical-align: middle; margin-left: 0.5rem\">GPE</span>\n",
       "</mark>\n",
       " don't stand a chance, and he knows it. / We'll figure out something. / The minute we sell out to \n",
       "<mark class=\"entity\" style=\"background: #7aecec; padding: 0.45em 0.6em; margin: 0 0.25em; line-height: 1; border-radius: 0.35em;\">\n",
       "    Maranzano\n",
       "    <span style=\"font-size: 0.8em; font-weight: bold; line-height: 1; border-radius: 0.35em; vertical-align: middle; margin-left: 0.5rem\">ORG</span>\n",
       "</mark>\n",
       ", that bastard is gonna have you knocked off. / Bugsy, you and I don't need to be in business with \n",
       "<mark class=\"entity\" style=\"background: #7aecec; padding: 0.45em 0.6em; margin: 0 0.25em; line-height: 1; border-radius: 0.35em;\">\n",
       "    Maranzano\n",
       "    <span style=\"font-size: 0.8em; font-weight: bold; line-height: 1; border-radius: 0.35em; vertical-align: middle; margin-left: 0.5rem\">ORG</span>\n",
       "</mark>\n",
       ". We got more jobs than we can handle. That's not the problem. / \n",
       "<mark class=\"entity\" style=\"background: #e4e7d2; padding: 0.45em 0.6em; margin: 0 0.25em; line-height: 1; border-radius: 0.35em;\">\n",
       "    A million bucks\n",
       "    <span style=\"font-size: 0.8em; font-weight: bold; line-height: 1; border-radius: 0.35em; vertical-align: middle; margin-left: 0.5rem\">MONEY</span>\n",
       "</mark>\n",
       ". In \n",
       "<mark class=\"entity\" style=\"background: #bfe1d9; padding: 0.45em 0.6em; margin: 0 0.25em; line-height: 1; border-radius: 0.35em;\">\n",
       "    the last six months\n",
       "    <span style=\"font-size: 0.8em; font-weight: bold; line-height: 1; border-radius: 0.35em; vertical-align: middle; margin-left: 0.5rem\">DATE</span>\n",
       "</mark>\n",
       ". / Lansky. \n",
       "<mark class=\"entity\" style=\"background: #aa9cfc; padding: 0.45em 0.6em; margin: 0 0.25em; line-height: 1; border-radius: 0.35em;\">\n",
       "    Meyer Lansky\n",
       "    <span style=\"font-size: 0.8em; font-weight: bold; line-height: 1; border-radius: 0.35em; vertical-align: middle; margin-left: 0.5rem\">PERSON</span>\n",
       "</mark>\n",
       ". And that's \n",
       "<mark class=\"entity\" style=\"background: #aa9cfc; padding: 0.45em 0.6em; margin: 0 0.25em; line-height: 1; border-radius: 0.35em;\">\n",
       "    Bugsy Siegel\n",
       "    <span style=\"font-size: 0.8em; font-weight: bold; line-height: 1; border-radius: 0.35em; vertical-align: middle; margin-left: 0.5rem\">PERSON</span>\n",
       "</mark>\n",
       " ya got there. / We're gonna change it, \n",
       "<mark class=\"entity\" style=\"background: #aa9cfc; padding: 0.45em 0.6em; margin: 0 0.25em; line-height: 1; border-radius: 0.35em;\">\n",
       "    Bugs\n",
       "    <span style=\"font-size: 0.8em; font-weight: bold; line-height: 1; border-radius: 0.35em; vertical-align: middle; margin-left: 0.5rem\">PERSON</span>\n",
       "</mark>\n",
       ". Once we get rid of the Dons, the \n",
       "<mark class=\"entity\" style=\"background: #7aecec; padding: 0.45em 0.6em; margin: 0 0.25em; line-height: 1; border-radius: 0.35em;\">\n",
       "    Commission\n",
       "    <span style=\"font-size: 0.8em; font-weight: bold; line-height: 1; border-radius: 0.35em; vertical-align: middle; margin-left: 0.5rem\">ORG</span>\n",
       "</mark>\n",
       "'s gonna rule. No more wars. No more vendettas. No more Boss of All the \n",
       "<mark class=\"entity\" style=\"background: #7aecec; padding: 0.45em 0.6em; margin: 0 0.25em; line-height: 1; border-radius: 0.35em;\">\n",
       "    Bosses\n",
       "    <span style=\"font-size: 0.8em; font-weight: bold; line-height: 1; border-radius: 0.35em; vertical-align: middle; margin-left: 0.5rem\">ORG</span>\n",
       "</mark>\n",
       ". / Masseria won't have any choice but to trust you. And as long as we keep the \n",
       "<mark class=\"entity\" style=\"background: #c887fb; padding: 0.45em 0.6em; margin: 0 0.25em; line-height: 1; border-radius: 0.35em;\">\n",
       "    Boss\n",
       "    <span style=\"font-size: 0.8em; font-weight: bold; line-height: 1; border-radius: 0.35em; vertical-align: middle; margin-left: 0.5rem\">NORP</span>\n",
       "</mark>\n",
       " alive, \n",
       "<mark class=\"entity\" style=\"background: #7aecec; padding: 0.45em 0.6em; margin: 0 0.25em; line-height: 1; border-radius: 0.35em;\">\n",
       "    Maranzano\n",
       "    <span style=\"font-size: 0.8em; font-weight: bold; line-height: 1; border-radius: 0.35em; vertical-align: middle; margin-left: 0.5rem\">ORG</span>\n",
       "</mark>\n",
       " can't win without you. / Maranzano will think \n",
       "<mark class=\"entity\" style=\"background: #feca74; padding: 0.45em 0.6em; margin: 0 0.25em; line-height: 1; border-radius: 0.35em;\">\n",
       "    Masseria\n",
       "    <span style=\"font-size: 0.8em; font-weight: bold; line-height: 1; border-radius: 0.35em; vertical-align: middle; margin-left: 0.5rem\">GPE</span>\n",
       "</mark>\n",
       " ordered the hit, and won't have no choice but to start the war. / We got exactly \n",
       "<mark class=\"entity\" style=\"background: #e4e7d2; padding: 0.45em 0.6em; margin: 0 0.25em; line-height: 1; border-radius: 0.35em;\">\n",
       "    two\n",
       "    <span style=\"font-size: 0.8em; font-weight: bold; line-height: 1; border-radius: 0.35em; vertical-align: middle; margin-left: 0.5rem\">CARDINAL</span>\n",
       "</mark>\n",
       " choices, \n",
       "<mark class=\"entity\" style=\"background: #7aecec; padding: 0.45em 0.6em; margin: 0 0.25em; line-height: 1; border-radius: 0.35em;\">\n",
       "    Maranzano\n",
       "    <span style=\"font-size: 0.8em; font-weight: bold; line-height: 1; border-radius: 0.35em; vertical-align: middle; margin-left: 0.5rem\">ORG</span>\n",
       "</mark>\n",
       " or \n",
       "<mark class=\"entity\" style=\"background: #feca74; padding: 0.45em 0.6em; margin: 0 0.25em; line-height: 1; border-radius: 0.35em;\">\n",
       "    Masseria\n",
       "    <span style=\"font-size: 0.8em; font-weight: bold; line-height: 1; border-radius: 0.35em; vertical-align: middle; margin-left: 0.5rem\">GPE</span>\n",
       "</mark>\n",
       ". / Ben-jamin. / Come off it, \n",
       "<mark class=\"entity\" style=\"background: #aa9cfc; padding: 0.45em 0.6em; margin: 0 0.25em; line-height: 1; border-radius: 0.35em;\">\n",
       "    Bugs\n",
       "    <span style=\"font-size: 0.8em; font-weight: bold; line-height: 1; border-radius: 0.35em; vertical-align: middle; margin-left: 0.5rem\">PERSON</span>\n",
       "</mark>\n",
       ". / Yeah. So who the fuck does?</div></span>"
      ],
      "text/plain": [
       "<IPython.core.display.HTML object>"
      ]
     },
     "metadata": {},
     "output_type": "display_data"
    }
   ],
   "source": [
    "doc = engl_nlp(chars.loc[200, 'lines'])\n",
    "displacy.render(doc, style = 'ent', jupyter = True)"
   ]
  },
  {
   "cell_type": "markdown",
   "id": "cognitive-taylor",
   "metadata": {},
   "source": [
    "### SECTION 2: What can you do with NER?"
   ]
  },
  {
   "cell_type": "markdown",
   "id": "appointed-ottawa",
   "metadata": {},
   "source": [
    "Actually running named entity recognition across a large corpus can be a bit slow; to produce the data we'll use here took me a couple of hours. It didn't make sense to ask you to duplicate all that processing. If you can get the cells above to run, you can also get NER to run across a larger corpus.\n",
    "\n",
    "Instead, let's ask what it's good for!\n",
    "\n",
    "To explore this, I've created a table of extracted entities, ```book_entities.tsv.``` You'll need to get this from the Moodle and place it in your is417/data folder; it's a little too large to share via GitHub."
   ]
  },
  {
   "cell_type": "code",
   "execution_count": 13,
   "id": "included-narrow",
   "metadata": {},
   "outputs": [
    {
     "data": {
      "text/html": [
       "<div>\n",
       "<style scoped>\n",
       "    .dataframe tbody tr th:only-of-type {\n",
       "        vertical-align: middle;\n",
       "    }\n",
       "\n",
       "    .dataframe tbody tr th {\n",
       "        vertical-align: top;\n",
       "    }\n",
       "\n",
       "    .dataframe thead th {\n",
       "        text-align: right;\n",
       "    }\n",
       "</style>\n",
       "<table border=\"1\" class=\"dataframe\">\n",
       "  <thead>\n",
       "    <tr style=\"text-align: right;\">\n",
       "      <th></th>\n",
       "      <th>book_id</th>\n",
       "      <th>entity_type</th>\n",
       "      <th>entity_text</th>\n",
       "      <th>count</th>\n",
       "    </tr>\n",
       "  </thead>\n",
       "  <tbody>\n",
       "    <tr>\n",
       "      <th>0</th>\n",
       "      <td>38020</td>\n",
       "      <td>TIME</td>\n",
       "      <td>an hour</td>\n",
       "      <td>8</td>\n",
       "    </tr>\n",
       "    <tr>\n",
       "      <th>1</th>\n",
       "      <td>38020</td>\n",
       "      <td>TIME</td>\n",
       "      <td>hours</td>\n",
       "      <td>3</td>\n",
       "    </tr>\n",
       "    <tr>\n",
       "      <th>2</th>\n",
       "      <td>38020</td>\n",
       "      <td>TIME</td>\n",
       "      <td>that morning</td>\n",
       "      <td>2</td>\n",
       "    </tr>\n",
       "    <tr>\n",
       "      <th>3</th>\n",
       "      <td>38020</td>\n",
       "      <td>TIME</td>\n",
       "      <td>the night</td>\n",
       "      <td>1</td>\n",
       "    </tr>\n",
       "    <tr>\n",
       "      <th>4</th>\n",
       "      <td>38020</td>\n",
       "      <td>TIME</td>\n",
       "      <td>minutes</td>\n",
       "      <td>1</td>\n",
       "    </tr>\n",
       "  </tbody>\n",
       "</table>\n",
       "</div>"
      ],
      "text/plain": [
       "   book_id entity_type   entity_text  count\n",
       "0    38020        TIME       an hour      8\n",
       "1    38020        TIME         hours      3\n",
       "2    38020        TIME  that morning      2\n",
       "3    38020        TIME     the night      1\n",
       "4    38020        TIME       minutes      1"
      ]
     },
     "execution_count": 13,
     "metadata": {},
     "output_type": "execute_result"
    }
   ],
   "source": [
    "bookents = pd.read_csv('../../data/book_entities.tsv', sep = '\\t')\n",
    "bookents.head()"
   ]
  },
  {
   "cell_type": "markdown",
   "id": "brown-muscle",
   "metadata": {},
   "source": [
    "We also have a metadata file, ```entity_metadata.tsv.``` This I've placed on GitHub, so it should appear along with this notebook."
   ]
  },
  {
   "cell_type": "code",
   "execution_count": 14,
   "id": "enabling-friendly",
   "metadata": {},
   "outputs": [
    {
     "data": {
      "text/html": [
       "<div>\n",
       "<style scoped>\n",
       "    .dataframe tbody tr th:only-of-type {\n",
       "        vertical-align: middle;\n",
       "    }\n",
       "\n",
       "    .dataframe tbody tr th {\n",
       "        vertical-align: top;\n",
       "    }\n",
       "\n",
       "    .dataframe thead th {\n",
       "        text-align: right;\n",
       "    }\n",
       "</style>\n",
       "<table border=\"1\" class=\"dataframe\">\n",
       "  <thead>\n",
       "    <tr style=\"text-align: right;\">\n",
       "      <th></th>\n",
       "      <th>book_id</th>\n",
       "      <th>author</th>\n",
       "      <th>authordate</th>\n",
       "      <th>title</th>\n",
       "      <th>compositionyear</th>\n",
       "      <th>hathidate</th>\n",
       "      <th>genre</th>\n",
       "      <th>audience</th>\n",
       "      <th>authgender</th>\n",
       "      <th>wordcount</th>\n",
       "    </tr>\n",
       "  </thead>\n",
       "  <tbody>\n",
       "    <tr>\n",
       "      <th>0</th>\n",
       "      <td>6422</td>\n",
       "      <td>Defoe, Daniel</td>\n",
       "      <td>1661-1731</td>\n",
       "      <td>The life, adventures, and pyracies, of the fam...</td>\n",
       "      <td>1720</td>\n",
       "      <td>1720.0</td>\n",
       "      <td>fic</td>\n",
       "      <td>NaN</td>\n",
       "      <td>m</td>\n",
       "      <td>593408</td>\n",
       "    </tr>\n",
       "    <tr>\n",
       "      <th>1</th>\n",
       "      <td>370</td>\n",
       "      <td>Defoe, Daniel</td>\n",
       "      <td>1661-1731</td>\n",
       "      <td>The Fortunes and Misfortunes of the Famous Mol...</td>\n",
       "      <td>1722</td>\n",
       "      <td>1765.0</td>\n",
       "      <td>fic</td>\n",
       "      <td>NaN</td>\n",
       "      <td>m</td>\n",
       "      <td>704890</td>\n",
       "    </tr>\n",
       "    <tr>\n",
       "      <th>2</th>\n",
       "      <td>52603</td>\n",
       "      <td>Defoe, Daniel</td>\n",
       "      <td>1661-1731</td>\n",
       "      <td>Life of Colonel Jack.</td>\n",
       "      <td>1731</td>\n",
       "      <td>1810.0</td>\n",
       "      <td>fic</td>\n",
       "      <td>NaN</td>\n",
       "      <td>m</td>\n",
       "      <td>759489</td>\n",
       "    </tr>\n",
       "    <tr>\n",
       "      <th>3</th>\n",
       "      <td>12259</td>\n",
       "      <td>Defoe, Daniel</td>\n",
       "      <td>1661-1731</td>\n",
       "      <td>Memoirs of the Honourable Col. Andrew Newport,...</td>\n",
       "      <td>1731</td>\n",
       "      <td>1792.0</td>\n",
       "      <td>fic</td>\n",
       "      <td>NaN</td>\n",
       "      <td>m</td>\n",
       "      <td>588231</td>\n",
       "    </tr>\n",
       "    <tr>\n",
       "      <th>4</th>\n",
       "      <td>9611</td>\n",
       "      <td>Fielding, Henry</td>\n",
       "      <td>1707-1754</td>\n",
       "      <td>The history of the adventures of Joseph Andrew...</td>\n",
       "      <td>1742</td>\n",
       "      <td>1743.0</td>\n",
       "      <td>fic</td>\n",
       "      <td>NaN</td>\n",
       "      <td>m</td>\n",
       "      <td>362496</td>\n",
       "    </tr>\n",
       "  </tbody>\n",
       "</table>\n",
       "</div>"
      ],
      "text/plain": [
       "   book_id           author authordate  \\\n",
       "0     6422    Defoe, Daniel  1661-1731   \n",
       "1      370    Defoe, Daniel  1661-1731   \n",
       "2    52603    Defoe, Daniel  1661-1731   \n",
       "3    12259    Defoe, Daniel  1661-1731   \n",
       "4     9611  Fielding, Henry  1707-1754   \n",
       "\n",
       "                                               title  compositionyear  \\\n",
       "0  The life, adventures, and pyracies, of the fam...             1720   \n",
       "1  The Fortunes and Misfortunes of the Famous Mol...             1722   \n",
       "2                              Life of Colonel Jack.             1731   \n",
       "3  Memoirs of the Honourable Col. Andrew Newport,...             1731   \n",
       "4  The history of the adventures of Joseph Andrew...             1742   \n",
       "\n",
       "   hathidate genre audience authgender  wordcount  \n",
       "0     1720.0   fic      NaN          m     593408  \n",
       "1     1765.0   fic      NaN          m     704890  \n",
       "2     1810.0   fic      NaN          m     759489  \n",
       "3     1792.0   fic      NaN          m     588231  \n",
       "4     1743.0   fic      NaN          m     362496  "
      ]
     },
     "execution_count": 14,
     "metadata": {},
     "output_type": "execute_result"
    }
   ],
   "source": [
    "meta = pd.read_csv('../../data/entity_metadata.tsv', sep = '\\t')\n",
    "meta.head()"
   ]
  },
  {
   "cell_type": "code",
   "execution_count": null,
   "id": "restricted-twist",
   "metadata": {},
   "outputs": [],
   "source": []
  },
  {
   "cell_type": "markdown",
   "id": "clear-jackson",
   "metadata": {},
   "source": [
    "Let's write some code that measures the frequency of a given type of entity in each book and then produces a scatterplot where the x axis is date of composition, the y axis is the frequency of that type of entity (measured as entities per thousand words), and each dot in the plot is a single book.\n",
    "\n",
    "Your code should:\n",
    "\n",
    "1. allow the user to enter an entity label, like ```TIME``` or ```MONEY.```\n",
    "\n",
    "2. create a dataframe that has only entities of the desired type. \n",
    "\n",
    "3. Group entities by ```book_id``` and ```.sum()``` the counts of entities for each book.\n",
    "\n",
    "4. Then join the ```composition_date,``` ```wordcount,``` and ```genre``` columns to your dataframe of summed counts,\n",
    "\n",
    "5. Produce a ```frequency``` column by dividing entity counts by (wordcounts/1000), and finally\n",
    "\n",
    "6. Graph entity frequency (composition_date will be the horizontal axis, and frequency will be the vertical axis).\n",
    "\n",
    "Once you've got this working, you may want to limit the final graph by excluding biographies (```genre == 'bio'```)."
   ]
  },
  {
   "cell_type": "markdown",
   "id": "scheduled-melissa",
   "metadata": {},
   "source": [
    "**Collaborate in breakout groups to get the code working, and then discuss the observed patterns.**\n",
    "\n",
    "Do some entities increase or decrease in frequency across time?\n",
    "\n",
    "What hypotheses might explain the patterns you observe?\n",
    "\n",
    "What kinds of *error* might be explaining these patterns? (Note that these are not optically transcribed texts; they're from the Gutenberg Project. So we don't have to worry about optical transcription error. But that's not the only kind of error in the world ...)"
   ]
  },
  {
   "cell_type": "code",
   "execution_count": 15,
   "id": "noticed-adventure",
   "metadata": {},
   "outputs": [],
   "source": [
    "all_types = set(bookents['entity_type'])\n",
    "meta = meta.set_index('book_id')"
   ]
  },
  {
   "cell_type": "code",
   "execution_count": 16,
   "id": "decimal-diameter",
   "metadata": {},
   "outputs": [],
   "source": [
    "from scipy.stats import pearsonr"
   ]
  },
  {
   "cell_type": "code",
   "execution_count": 17,
   "id": "mounted-mining",
   "metadata": {},
   "outputs": [
    {
     "name": "stdout",
     "output_type": "stream",
     "text": [
      "DATE\n"
     ]
    },
    {
     "data": {
      "image/png": "[encoded data removed]",
      "text/plain": [
       "<Figure size 432x288 with 1 Axes>"
      ]
     },
     "metadata": {
      "needs_background": "light"
     },
     "output_type": "display_data"
    },
    {
     "name": "stdout",
     "output_type": "stream",
     "text": [
      "Correlation with time:  0.19798122326210546\n",
      "p value of correlation:  0.012935949093984593\n",
      "PRODUCT\n"
     ]
    },
    {
     "data": {
      "image/png": "[encoded data removed]",
      "text/plain": [
       "<Figure size 432x288 with 1 Axes>"
      ]
     },
     "metadata": {
      "needs_background": "light"
     },
     "output_type": "display_data"
    },
    {
     "name": "stdout",
     "output_type": "stream",
     "text": [
      "Correlation with time:  0.08845919696991256\n",
      "p value of correlation:  0.2833640038535616\n",
      "PERSON\n"
     ]
    },
    {
     "data": {
      "image/png": "[encoded data removed]",
      "text/plain": [
       "<Figure size 432x288 with 1 Axes>"
      ]
     },
     "metadata": {
      "needs_background": "light"
     },
     "output_type": "display_data"
    },
    {
     "name": "stdout",
     "output_type": "stream",
     "text": [
      "Correlation with time:  0.38067582066518835\n",
      "p value of correlation:  8.734614512273543e-07\n",
      "NORP\n"
     ]
    },
    {
     "data": {
      "image/png": "[encoded data removed]",
      "text/plain": [
       "<Figure size 432x288 with 1 Axes>"
      ]
     },
     "metadata": {
      "needs_background": "light"
     },
     "output_type": "display_data"
    },
    {
     "name": "stdout",
     "output_type": "stream",
     "text": [
      "Correlation with time:  0.012725213061171383\n",
      "p value of correlation:  0.8747200085856865\n",
      "GPE\n"
     ]
    },
    {
     "data": {
      "image/png": "[encoded data removed]",
      "text/plain": [
       "<Figure size 432x288 with 1 Axes>"
      ]
     },
     "metadata": {
      "needs_background": "light"
     },
     "output_type": "display_data"
    },
    {
     "name": "stdout",
     "output_type": "stream",
     "text": [
      "Correlation with time:  -0.006518072798806141\n",
      "p value of correlation:  0.9354264977890492\n",
      "PERCENT\n"
     ]
    },
    {
     "data": {
      "image/png": "[encoded data removed]",
      "text/plain": [
       "<Figure size 432x288 with 1 Axes>"
      ]
     },
     "metadata": {
      "needs_background": "light"
     },
     "output_type": "display_data"
    },
    {
     "name": "stdout",
     "output_type": "stream",
     "text": [
      "Correlation with time:  0.010897796741378363\n",
      "p value of correlation:  0.9761639005849246\n",
      "ORG\n"
     ]
    },
    {
     "data": {
      "image/png": "[encoded data removed]",
      "text/plain": [
       "<Figure size 432x288 with 1 Axes>"
      ]
     },
     "metadata": {
      "needs_background": "light"
     },
     "output_type": "display_data"
    },
    {
     "name": "stdout",
     "output_type": "stream",
     "text": [
      "Correlation with time:  0.13039949892121314\n",
      "p value of correlation:  0.10356677102521622\n",
      "LOC\n"
     ]
    },
    {
     "data": {
      "image/png": "[encoded data removed]",
      "text/plain": [
       "<Figure size 432x288 with 1 Axes>"
      ]
     },
     "metadata": {
      "needs_background": "light"
     },
     "output_type": "display_data"
    },
    {
     "name": "stdout",
     "output_type": "stream",
     "text": [
      "Correlation with time:  0.13643713641652183\n",
      "p value of correlation:  0.08944259992818795\n",
      "LAW\n"
     ]
    },
    {
     "data": {
      "image/png": "[encoded data removed]",
      "text/plain": [
       "<Figure size 432x288 with 1 Axes>"
      ]
     },
     "metadata": {
      "needs_background": "light"
     },
     "output_type": "display_data"
    },
    {
     "name": "stdout",
     "output_type": "stream",
     "text": [
      "Correlation with time:  0.10883778292618869\n",
      "p value of correlation:  0.22887187329060737\n",
      "WORK_OF_ART\n"
     ]
    },
    {
     "data": {
      "image/png": "[encoded data removed]",
      "text/plain": [
       "<Figure size 432x288 with 1 Axes>"
      ]
     },
     "metadata": {
      "needs_background": "light"
     },
     "output_type": "display_data"
    },
    {
     "name": "stdout",
     "output_type": "stream",
     "text": [
      "Correlation with time:  0.34184160454844476\n",
      "p value of correlation:  1.1771699523174172e-05\n",
      "EVENT\n"
     ]
    },
    {
     "data": {
      "image/png": "[encoded data removed]",
      "text/plain": [
       "<Figure size 432x288 with 1 Axes>"
      ]
     },
     "metadata": {
      "needs_background": "light"
     },
     "output_type": "display_data"
    },
    {
     "name": "stdout",
     "output_type": "stream",
     "text": [
      "Correlation with time:  0.21427937711807946\n",
      "p value of correlation:  0.015149140199822237\n",
      "LANGUAGE\n"
     ]
    },
    {
     "data": {
      "image/png": "[encoded data removed]",
      "text/plain": [
       "<Figure size 432x288 with 1 Axes>"
      ]
     },
     "metadata": {
      "needs_background": "light"
     },
     "output_type": "display_data"
    },
    {
     "name": "stdout",
     "output_type": "stream",
     "text": [
      "Correlation with time:  -0.05243998562191054\n",
      "p value of correlation:  0.5368571660298269\n",
      "ORDINAL\n"
     ]
    },
    {
     "data": {
      "image/png": "[encoded data removed]",
      "text/plain": [
       "<Figure size 432x288 with 1 Axes>"
      ]
     },
     "metadata": {
      "needs_background": "light"
     },
     "output_type": "display_data"
    },
    {
     "name": "stdout",
     "output_type": "stream",
     "text": [
      "Correlation with time:  -0.22809305679304503\n",
      "p value of correlation:  0.004310784861735319\n",
      "MONEY\n"
     ]
    },
    {
     "data": {
      "image/png": "[encoded data removed]",
      "text/plain": [
       "<Figure size 432x288 with 1 Axes>"
      ]
     },
     "metadata": {
      "needs_background": "light"
     },
     "output_type": "display_data"
    },
    {
     "name": "stdout",
     "output_type": "stream",
     "text": [
      "Correlation with time:  0.032394454781731856\n",
      "p value of correlation:  0.7155259255369142\n",
      "TIME\n"
     ]
    },
    {
     "data": {
      "image/png": "[encoded data removed]",
      "text/plain": [
       "<Figure size 432x288 with 1 Axes>"
      ]
     },
     "metadata": {
      "needs_background": "light"
     },
     "output_type": "display_data"
    },
    {
     "name": "stdout",
     "output_type": "stream",
     "text": [
      "Correlation with time:  0.41200348236020135\n",
      "p value of correlation:  8.267372051010957e-08\n",
      "FAC\n"
     ]
    },
    {
     "data": {
      "image/png": "[encoded data removed]",
      "text/plain": [
       "<Figure size 432x288 with 1 Axes>"
      ]
     },
     "metadata": {
      "needs_background": "light"
     },
     "output_type": "display_data"
    },
    {
     "name": "stdout",
     "output_type": "stream",
     "text": [
      "Correlation with time:  0.3138386124236901\n",
      "p value of correlation:  7.385360886832384e-05\n",
      "QUANTITY\n"
     ]
    },
    {
     "data": {
      "image/png": "[encoded data removed]",
      "text/plain": [
       "<Figure size 432x288 with 1 Axes>"
      ]
     },
     "metadata": {
      "needs_background": "light"
     },
     "output_type": "display_data"
    },
    {
     "name": "stdout",
     "output_type": "stream",
     "text": [
      "Correlation with time:  -0.04166817743292123\n",
      "p value of correlation:  0.6078824136287501\n",
      "CARDINAL\n"
     ]
    },
    {
     "data": {
      "image/png": "[encoded data removed]",
      "text/plain": [
       "<Figure size 432x288 with 1 Axes>"
      ]
     },
     "metadata": {
      "needs_background": "light"
     },
     "output_type": "display_data"
    },
    {
     "name": "stdout",
     "output_type": "stream",
     "text": [
      "Correlation with time:  0.06029658555306257\n",
      "p value of correlation:  0.4531586096095414\n"
     ]
    }
   ],
   "source": [
    "#desired_label = input('What label? ')\n",
    "\n",
    "#if desired_label not in all_types:\n",
    "    #print(\"That doesn't exist.\")\n",
    "    \n",
    "#else:\n",
    "for desired_label in all_types:\n",
    "    print(desired_label)\n",
    "    ents = bookents.loc[bookents['entity_type'] == desired_label, : ]\n",
    "    \n",
    "    groupedbybook = ents.groupby('book_id', as_index = False).sum()  # group the entities by book\n",
    "    \n",
    "    groupedbybook = groupedbybook.join(meta.loc[ : , ['title', 'compositionyear',\n",
    "                                                      'wordcount', 'genre']], on = 'book_id')  # join metadata\n",
    "    \n",
    "    groupedbybook = groupedbybook.loc[groupedbybook['genre'] == 'fic', : ]     # exclude everything but fiction\n",
    "    \n",
    "    groupedbybook = groupedbybook.assign(frequency = groupedbybook['count'] / groupedbybook['wordcount'])\n",
    "    \n",
    "    sns.scatterplot(x = groupedbybook['compositionyear'], y = groupedbybook['frequency'])\n",
    "    plt.show()\n",
    "    \n",
    "    # let's get pearson correlation for good measure\n",
    "    rval, pval = pearsonr(groupedbybook['compositionyear'], groupedbybook['frequency'])\n",
    "    print('Correlation with time: ', rval)\n",
    "    print('p value of correlation: ', pval)"
   ]
  },
  {
   "cell_type": "code",
   "execution_count": 18,
   "id": "frequent-bullet",
   "metadata": {},
   "outputs": [
    {
     "data": {
      "text/html": [
       "<div>\n",
       "<style scoped>\n",
       "    .dataframe tbody tr th:only-of-type {\n",
       "        vertical-align: middle;\n",
       "    }\n",
       "\n",
       "    .dataframe tbody tr th {\n",
       "        vertical-align: top;\n",
       "    }\n",
       "\n",
       "    .dataframe thead th {\n",
       "        text-align: right;\n",
       "    }\n",
       "</style>\n",
       "<table border=\"1\" class=\"dataframe\">\n",
       "  <thead>\n",
       "    <tr style=\"text-align: right;\">\n",
       "      <th></th>\n",
       "      <th>book_id</th>\n",
       "      <th>count</th>\n",
       "      <th>title</th>\n",
       "      <th>compositionyear</th>\n",
       "      <th>wordcount</th>\n",
       "      <th>genre</th>\n",
       "      <th>frequency</th>\n",
       "    </tr>\n",
       "  </thead>\n",
       "  <tbody>\n",
       "    <tr>\n",
       "      <th>0</th>\n",
       "      <td>370</td>\n",
       "      <td>448</td>\n",
       "      <td>The Fortunes and Misfortunes of the Famous Mol...</td>\n",
       "      <td>1722</td>\n",
       "      <td>704890</td>\n",
       "      <td>fic</td>\n",
       "      <td>0.000636</td>\n",
       "    </tr>\n",
       "    <tr>\n",
       "      <th>1</th>\n",
       "      <td>652</td>\n",
       "      <td>71</td>\n",
       "      <td>Rasselas, prince of Abyssinia</td>\n",
       "      <td>1784</td>\n",
       "      <td>220039</td>\n",
       "      <td>fic</td>\n",
       "      <td>0.000323</td>\n",
       "    </tr>\n",
       "    <tr>\n",
       "      <th>2</th>\n",
       "      <td>696</td>\n",
       "      <td>63</td>\n",
       "      <td>The castle of Otranto</td>\n",
       "      <td>1791</td>\n",
       "      <td>212067</td>\n",
       "      <td>fic</td>\n",
       "      <td>0.000297</td>\n",
       "    </tr>\n",
       "    <tr>\n",
       "      <th>3</th>\n",
       "      <td>1079</td>\n",
       "      <td>1108</td>\n",
       "      <td>The life and opinions of Tristram Shandy, gent...</td>\n",
       "      <td>1768</td>\n",
       "      <td>1038091</td>\n",
       "      <td>fic</td>\n",
       "      <td>0.001067</td>\n",
       "    </tr>\n",
       "    <tr>\n",
       "      <th>4</th>\n",
       "      <td>1880</td>\n",
       "      <td>647</td>\n",
       "      <td>The Pathfinder; or, the Inland Sea</td>\n",
       "      <td>1840</td>\n",
       "      <td>982119</td>\n",
       "      <td>fic</td>\n",
       "      <td>0.000659</td>\n",
       "    </tr>\n",
       "  </tbody>\n",
       "</table>\n",
       "</div>"
      ],
      "text/plain": [
       "   book_id  count                                              title  \\\n",
       "0      370    448  The Fortunes and Misfortunes of the Famous Mol...   \n",
       "1      652     71                      Rasselas, prince of Abyssinia   \n",
       "2      696     63                              The castle of Otranto   \n",
       "3     1079   1108  The life and opinions of Tristram Shandy, gent...   \n",
       "4     1880    647                 The Pathfinder; or, the Inland Sea   \n",
       "\n",
       "   compositionyear  wordcount genre  frequency  \n",
       "0             1722     704890   fic   0.000636  \n",
       "1             1784     220039   fic   0.000323  \n",
       "2             1791     212067   fic   0.000297  \n",
       "3             1768    1038091   fic   0.001067  \n",
       "4             1840     982119   fic   0.000659  "
      ]
     },
     "execution_count": 18,
     "metadata": {},
     "output_type": "execute_result"
    }
   ],
   "source": [
    "groupedbybook.head()"
   ]
  },
  {
   "cell_type": "code",
   "execution_count": 19,
   "id": "harmful-organizer",
   "metadata": {},
   "outputs": [
    {
     "data": {
      "text/html": [
       "<div>\n",
       "<style scoped>\n",
       "    .dataframe tbody tr th:only-of-type {\n",
       "        vertical-align: middle;\n",
       "    }\n",
       "\n",
       "    .dataframe tbody tr th {\n",
       "        vertical-align: top;\n",
       "    }\n",
       "\n",
       "    .dataframe thead th {\n",
       "        text-align: right;\n",
       "    }\n",
       "</style>\n",
       "<table border=\"1\" class=\"dataframe\">\n",
       "  <thead>\n",
       "    <tr style=\"text-align: right;\">\n",
       "      <th></th>\n",
       "      <th>book_id</th>\n",
       "      <th>count</th>\n",
       "      <th>title</th>\n",
       "      <th>compositionyear</th>\n",
       "      <th>wordcount</th>\n",
       "      <th>genre</th>\n",
       "      <th>frequency</th>\n",
       "    </tr>\n",
       "  </thead>\n",
       "  <tbody>\n",
       "    <tr>\n",
       "      <th>0</th>\n",
       "      <td>370</td>\n",
       "      <td>448</td>\n",
       "      <td>The Fortunes and Misfortunes of the Famous Mol...</td>\n",
       "      <td>1722</td>\n",
       "      <td>704890</td>\n",
       "      <td>fic</td>\n",
       "      <td>0.000636</td>\n",
       "    </tr>\n",
       "    <tr>\n",
       "      <th>1</th>\n",
       "      <td>652</td>\n",
       "      <td>71</td>\n",
       "      <td>Rasselas, prince of Abyssinia</td>\n",
       "      <td>1784</td>\n",
       "      <td>220039</td>\n",
       "      <td>fic</td>\n",
       "      <td>0.000323</td>\n",
       "    </tr>\n",
       "    <tr>\n",
       "      <th>2</th>\n",
       "      <td>696</td>\n",
       "      <td>63</td>\n",
       "      <td>The castle of Otranto</td>\n",
       "      <td>1791</td>\n",
       "      <td>212067</td>\n",
       "      <td>fic</td>\n",
       "      <td>0.000297</td>\n",
       "    </tr>\n",
       "    <tr>\n",
       "      <th>3</th>\n",
       "      <td>1079</td>\n",
       "      <td>1108</td>\n",
       "      <td>The life and opinions of Tristram Shandy, gent...</td>\n",
       "      <td>1768</td>\n",
       "      <td>1038091</td>\n",
       "      <td>fic</td>\n",
       "      <td>0.001067</td>\n",
       "    </tr>\n",
       "    <tr>\n",
       "      <th>4</th>\n",
       "      <td>1880</td>\n",
       "      <td>647</td>\n",
       "      <td>The Pathfinder; or, the Inland Sea</td>\n",
       "      <td>1840</td>\n",
       "      <td>982119</td>\n",
       "      <td>fic</td>\n",
       "      <td>0.000659</td>\n",
       "    </tr>\n",
       "  </tbody>\n",
       "</table>\n",
       "</div>"
      ],
      "text/plain": [
       "   book_id  count                                              title  \\\n",
       "0      370    448  The Fortunes and Misfortunes of the Famous Mol...   \n",
       "1      652     71                      Rasselas, prince of Abyssinia   \n",
       "2      696     63                              The castle of Otranto   \n",
       "3     1079   1108  The life and opinions of Tristram Shandy, gent...   \n",
       "4     1880    647                 The Pathfinder; or, the Inland Sea   \n",
       "\n",
       "   compositionyear  wordcount genre  frequency  \n",
       "0             1722     704890   fic   0.000636  \n",
       "1             1784     220039   fic   0.000323  \n",
       "2             1791     212067   fic   0.000297  \n",
       "3             1768    1038091   fic   0.001067  \n",
       "4             1840     982119   fic   0.000659  "
      ]
     },
     "execution_count": 19,
     "metadata": {},
     "output_type": "execute_result"
    }
   ],
   "source": [
    "groupedbybook.head()"
   ]
  },
  {
   "cell_type": "markdown",
   "id": "antique-choice",
   "metadata": {},
   "source": [
    "### SECTION 3: A specific question\n",
    "\n",
    "In the process of exploring changes in different entities, you probably noticed that the frequencies of ```DATE``` and ```TIME``` entities are both going up across the timeline.\n",
    "\n",
    "What could explain this?\n",
    "\n",
    "Are people just getting more interested in time generally?\n",
    "\n",
    "The British historian E. P. Thompson wrote a famous essay on [\"Time, Work-Discipline, and Industrial Capitalism,\"](https://www.sv.uio.no/sai/english/research/projects/anthropos-and-the-material/Intranet/economic-practices/reading-group/texts/thompson-time-work-discipline-and-industrial-capitalism.pdf) which argues that new forms of work associated with the industrial revolution tended to reorganize our conception of time around clocks and watches. Work was no longer organized by the task (\"we'll work until the harvest's in\") but by the clock (\"eight to six, with a thirty-minute break for lunch\").\n",
    "\n",
    "If this explanation is right, we might expect the ```TIME``` entities to increase even more than the ```DATE``` entities do.\n",
    "\n",
    "One way to think about this would be to calculate the ratio of TIME references to DATE references for all the works in our dataset, and graph the ratio on the vertical (y) axis, with date of composition on the horizontal (x) axis. We might need to use Laplacian smoothing to avoid division by zero.\n",
    "\n",
    "Is there a relationship?\n",
    "\n",
    "**If we don't get to this in class, it might become homework.**\n",
    "\n",
    "**If we do get to this in class, we'll frame a homework question about the difference between fiction and biography.**"
   ]
  },
  {
   "cell_type": "markdown",
   "id": "seventh-fairy",
   "metadata": {},
   "source": [
    "### SECTION 4: What else could we do with entity extraction?\n",
    "\n",
    "Matt Wilkens' essay on the time lag shaping literary history illustrates another influential way of using named entity recognition: *geoparsing,* which translates the place names in a text into latitude and longitude coordinates to plot on a map. We won't have time to explore that method in this lab, but there are lots of tools available to help you; e.g. [the ```geopy``` and ```geopandas``` modules make things pretty easy.](https://towardsdatascience.com/geoparsing-with-python-c8f4c9f78940)\n",
    "\n",
    "Something we can do without installing a lot of additional Python modules is, dig more deeply into descriptions of time. The dividing line between ```DATE``` and ```TIME``` within ```spaCy``` is arbitrary. The people who wrote the software decided to separate entities that are smaller than a day from those that describe a whole day or a longer unit of time.\n",
    "\n",
    "We don't really have a principled reason to rely on that binary division.\n",
    "\n",
    "Also, some date and time references describe lengths of time, but some are just references to a particular hour of the day \"eight o'clock\" or day of the week \"Wednesday.\" The approach we took in Section 3 mixed all those things together.\n",
    "\n",
    "But with a bit more work, we could come up with a more principled estimate of the average span of time mentioned in a work of fiction (or a biography for that matter).\n",
    "\n",
    "All we would need to do is identify the unit of time in each phrase (a \"minute,\" \"hour,\" \"month,\" or what have you) and then the multiplier (if any) applied to the unit. E.g., \"several minutes.\" Then we could translate most of our entities into a number roughly quantifying (say) the number of minutes that would elapse in the described span of time.\n",
    "\n",
    "The code below does that, just to illustrate how we could develop our casual exploration of dates and times into a systematic measurement of the granularity of time in fiction.\n",
    "\n",
    "Note that you could do something very similar with references to money."
   ]
  },
  {
   "cell_type": "code",
   "execution_count": 20,
   "id": "raised-tiffany",
   "metadata": {},
   "outputs": [],
   "source": [
    "def text2int (textnum, numwords={}):\n",
    "    '''\n",
    "    By Adnan Umer on Stack Overflow:\n",
    "    https://stackoverflow.com/questions/493174/is-there-a-way-to-convert-number-words-to-integers\n",
    "    '''\n",
    "    \n",
    "    if not numwords:\n",
    "        units = [\n",
    "        \"zero\", \"one\", \"two\", \"three\", \"four\", \"five\", \"six\", \"seven\", \"eight\",\n",
    "        \"nine\", \"ten\", \"eleven\", \"twelve\", \"thirteen\", \"fourteen\", \"fifteen\",\n",
    "        \"sixteen\", \"seventeen\", \"eighteen\", \"nineteen\",\n",
    "        ]\n",
    "\n",
    "        tens = [\"\", \"\", \"twenty\", \"thirty\", \"forty\", \"fifty\", \"sixty\", \"seventy\", \"eighty\", \"ninety\"]\n",
    "\n",
    "        scales = [\"hundred\", \"thousand\", \"million\", \"billion\", \"trillion\"]\n",
    "\n",
    "        numwords[\"and\"] = (1, 0)\n",
    "        for idx, word in enumerate(units):  numwords[word] = (1, idx)\n",
    "        for idx, word in enumerate(tens):       numwords[word] = (1, idx * 10)\n",
    "        for idx, word in enumerate(scales): numwords[word] = (10 ** (idx * 3 or 2), 0)\n",
    "\n",
    "    ordinal_words = {}    # I've disabled the ordinal part\n",
    "    ordinal_endings = []  # it's not appropriate for time\n",
    "\n",
    "    textnum = textnum.replace('-', ' ')\n",
    "    textnum = textnum.replace('a hundred', '100')\n",
    "    textnum = textnum.replace('a thousand', '1000')\n",
    "    textnum = textnum.replace('a million', '1000000')\n",
    "\n",
    "    current = result = 0\n",
    "    curstring = \"\"\n",
    "    onnumber = False\n",
    "    for word in textnum.split():\n",
    "        if word in ordinal_words:\n",
    "            scale, increment = (1, ordinal_words[word])\n",
    "            current = current * scale + increment\n",
    "            if scale > 100:\n",
    "                result += current\n",
    "                current = 0\n",
    "            onnumber = True\n",
    "        else:\n",
    "            for ending, replacement in ordinal_endings:\n",
    "                if word.endswith(ending):\n",
    "                    word = \"%s%s\" % (word[:-len(ending)], replacement)\n",
    "\n",
    "            if word not in numwords:\n",
    "                if onnumber:\n",
    "                    curstring += repr(result + current) + \" \"\n",
    "                curstring += word + \" \"\n",
    "                result = current = 0\n",
    "                onnumber = False\n",
    "            else:\n",
    "                scale, increment = numwords[word]\n",
    "\n",
    "                current = current * scale + increment\n",
    "                if scale > 100:\n",
    "                    result += current\n",
    "                    current = 0\n",
    "                onnumber = True\n",
    "\n",
    "    if onnumber:\n",
    "        curstring += repr(result + current)\n",
    "\n",
    "    return curstring\n",
    "\n",
    "def get_numeric_time(text):\n",
    "    \n",
    "    text = text.replace('\\n', ' ').lower()\n",
    "    \n",
    "    if 'of age' in text:\n",
    "        return float('nan')\n",
    "    \n",
    "    units = {'minute': 1, 'minutes': 1, 'hour': 60, 'hours': 60,\n",
    "            'seconds': .017, 'moment': .017, \n",
    "            'day': 1440, 'days': 1440, \n",
    "            'night': 480, 'nights': 1440, 'week': 10080, 'weeks': 10080,\n",
    "             'month': 40320, 'months': 40320, 'year': 525600, 'years': 525600}\n",
    "    \n",
    "    text = text2int(text)\n",
    "    words = text.split()\n",
    "    \n",
    "    if 'old' in words:\n",
    "        # this is saying how old someone is!\n",
    "        return float('nan')\n",
    "    \n",
    "    multiplier = 1\n",
    "    unit = 0\n",
    "    for w in words:\n",
    "        if w.isdigit():\n",
    "            multiplier = int(w)\n",
    "            if multiplier > 500:\n",
    "                multiplier = 0\n",
    "                # that's probably a date, not a count!\n",
    "        elif w in units:\n",
    "            unit = units[w]\n",
    "        elif w == 'couple':\n",
    "            multiplier = 2\n",
    "        elif w == 'few':\n",
    "            multiplier = 3\n",
    "        elif w == 'several':\n",
    "            multiplier = 4\n",
    "        elif w == 'half':\n",
    "            multiplier = multiplier * 0.5\n",
    "        elif w == 'quarter':\n",
    "            multiplier = multiplier * 0.25\n",
    "    \n",
    "    time = multiplier * unit\n",
    "    \n",
    "    if time == 0:\n",
    "        time = float('nan')\n",
    "    elif time > 20000000:\n",
    "        time = 20000000\n",
    "    \n",
    "    return time\n",
    "            \n",
    "    "
   ]
  },
  {
   "cell_type": "code",
   "execution_count": 21,
   "id": "accessory-district",
   "metadata": {},
   "outputs": [],
   "source": [
    "time_phrases = bookents.loc[(bookents['entity_type'] == 'TIME') | (bookents['entity_type'] == 'DATE'), : ]"
   ]
  },
  {
   "cell_type": "code",
   "execution_count": 22,
   "id": "basic-vegetable",
   "metadata": {},
   "outputs": [
    {
     "data": {
      "text/plain": [
       "0      60.0\n",
       "1      60.0\n",
       "2       NaN\n",
       "3     480.0\n",
       "4       1.0\n",
       "5       NaN\n",
       "6      60.0\n",
       "7     480.0\n",
       "8       5.0\n",
       "9       NaN\n",
       "10     30.0\n",
       "11     15.0\n",
       "Name: entity_text, dtype: float64"
      ]
     },
     "execution_count": 22,
     "metadata": {},
     "output_type": "execute_result"
    }
   ],
   "source": [
    "times = time_phrases['entity_text'].map(get_numeric_time)\n",
    "times[0:12]"
   ]
  },
  {
   "cell_type": "code",
   "execution_count": 23,
   "id": "warming-danger",
   "metadata": {},
   "outputs": [
    {
     "data": {
      "text/html": [
       "<div>\n",
       "<style scoped>\n",
       "    .dataframe tbody tr th:only-of-type {\n",
       "        vertical-align: middle;\n",
       "    }\n",
       "\n",
       "    .dataframe tbody tr th {\n",
       "        vertical-align: top;\n",
       "    }\n",
       "\n",
       "    .dataframe thead th {\n",
       "        text-align: right;\n",
       "    }\n",
       "</style>\n",
       "<table border=\"1\" class=\"dataframe\">\n",
       "  <thead>\n",
       "    <tr style=\"text-align: right;\">\n",
       "      <th></th>\n",
       "      <th>book_id</th>\n",
       "      <th>entity_type</th>\n",
       "      <th>entity_text</th>\n",
       "      <th>count</th>\n",
       "      <th>minutes</th>\n",
       "      <th>logminutes</th>\n",
       "    </tr>\n",
       "  </thead>\n",
       "  <tbody>\n",
       "    <tr>\n",
       "      <th>31465</th>\n",
       "      <td>47643</td>\n",
       "      <td>DATE</td>\n",
       "      <td>The year 1821</td>\n",
       "      <td>1</td>\n",
       "      <td>NaN</td>\n",
       "      <td>NaN</td>\n",
       "    </tr>\n",
       "    <tr>\n",
       "      <th>24927</th>\n",
       "      <td>37908</td>\n",
       "      <td>DATE</td>\n",
       "      <td>the age of fifteen</td>\n",
       "      <td>2</td>\n",
       "      <td>NaN</td>\n",
       "      <td>NaN</td>\n",
       "    </tr>\n",
       "    <tr>\n",
       "      <th>195473</th>\n",
       "      <td>52304</td>\n",
       "      <td>DATE</td>\n",
       "      <td>1792</td>\n",
       "      <td>1</td>\n",
       "      <td>NaN</td>\n",
       "      <td>NaN</td>\n",
       "    </tr>\n",
       "    <tr>\n",
       "      <th>144213</th>\n",
       "      <td>37878</td>\n",
       "      <td>DATE</td>\n",
       "      <td>the noonday</td>\n",
       "      <td>1</td>\n",
       "      <td>NaN</td>\n",
       "      <td>NaN</td>\n",
       "    </tr>\n",
       "    <tr>\n",
       "      <th>191233</th>\n",
       "      <td>42857</td>\n",
       "      <td>DATE</td>\n",
       "      <td>this day's</td>\n",
       "      <td>1</td>\n",
       "      <td>NaN</td>\n",
       "      <td>NaN</td>\n",
       "    </tr>\n",
       "    <tr>\n",
       "      <th>122640</th>\n",
       "      <td>1079</td>\n",
       "      <td>DATE</td>\n",
       "      <td>a hundred years ago</td>\n",
       "      <td>1</td>\n",
       "      <td>20000000.0</td>\n",
       "      <td>16.811243</td>\n",
       "    </tr>\n",
       "    <tr>\n",
       "      <th>77980</th>\n",
       "      <td>56178</td>\n",
       "      <td>DATE</td>\n",
       "      <td>the last two years</td>\n",
       "      <td>1</td>\n",
       "      <td>1051200.0</td>\n",
       "      <td>13.865443</td>\n",
       "    </tr>\n",
       "    <tr>\n",
       "      <th>170023</th>\n",
       "      <td>47209</td>\n",
       "      <td>TIME</td>\n",
       "      <td>a minute</td>\n",
       "      <td>1</td>\n",
       "      <td>1.0</td>\n",
       "      <td>0.000000</td>\n",
       "    </tr>\n",
       "    <tr>\n",
       "      <th>97202</th>\n",
       "      <td>30312</td>\n",
       "      <td>TIME</td>\n",
       "      <td>a few moments</td>\n",
       "      <td>17</td>\n",
       "      <td>NaN</td>\n",
       "      <td>NaN</td>\n",
       "    </tr>\n",
       "    <tr>\n",
       "      <th>206086</th>\n",
       "      <td>38294</td>\n",
       "      <td>DATE</td>\n",
       "      <td>the fall</td>\n",
       "      <td>1</td>\n",
       "      <td>NaN</td>\n",
       "      <td>NaN</td>\n",
       "    </tr>\n",
       "    <tr>\n",
       "      <th>101654</th>\n",
       "      <td>35335</td>\n",
       "      <td>TIME</td>\n",
       "      <td>an hour's</td>\n",
       "      <td>1</td>\n",
       "      <td>NaN</td>\n",
       "      <td>NaN</td>\n",
       "    </tr>\n",
       "    <tr>\n",
       "      <th>188104</th>\n",
       "      <td>43552</td>\n",
       "      <td>TIME</td>\n",
       "      <td>half an hour</td>\n",
       "      <td>2</td>\n",
       "      <td>30.0</td>\n",
       "      <td>3.401197</td>\n",
       "    </tr>\n",
       "    <tr>\n",
       "      <th>4601</th>\n",
       "      <td>41286</td>\n",
       "      <td>DATE</td>\n",
       "      <td>some other quarter</td>\n",
       "      <td>1</td>\n",
       "      <td>NaN</td>\n",
       "      <td>NaN</td>\n",
       "    </tr>\n",
       "    <tr>\n",
       "      <th>22154</th>\n",
       "      <td>58666</td>\n",
       "      <td>DATE</td>\n",
       "      <td>Nearly a year</td>\n",
       "      <td>1</td>\n",
       "      <td>525600.0</td>\n",
       "      <td>13.172296</td>\n",
       "    </tr>\n",
       "    <tr>\n",
       "      <th>218092</th>\n",
       "      <td>57472</td>\n",
       "      <td>DATE</td>\n",
       "      <td>1895</td>\n",
       "      <td>2</td>\n",
       "      <td>NaN</td>\n",
       "      <td>NaN</td>\n",
       "    </tr>\n",
       "    <tr>\n",
       "      <th>231979</th>\n",
       "      <td>54218</td>\n",
       "      <td>DATE</td>\n",
       "      <td>one-quarter</td>\n",
       "      <td>1</td>\n",
       "      <td>NaN</td>\n",
       "      <td>NaN</td>\n",
       "    </tr>\n",
       "    <tr>\n",
       "      <th>1908</th>\n",
       "      <td>44262</td>\n",
       "      <td>TIME</td>\n",
       "      <td>this evening</td>\n",
       "      <td>1</td>\n",
       "      <td>NaN</td>\n",
       "      <td>NaN</td>\n",
       "    </tr>\n",
       "    <tr>\n",
       "      <th>218127</th>\n",
       "      <td>57472</td>\n",
       "      <td>DATE</td>\n",
       "      <td>February, 1754</td>\n",
       "      <td>1</td>\n",
       "      <td>NaN</td>\n",
       "      <td>NaN</td>\n",
       "    </tr>\n",
       "    <tr>\n",
       "      <th>43727</th>\n",
       "      <td>53637</td>\n",
       "      <td>TIME</td>\n",
       "      <td>hourly</td>\n",
       "      <td>1</td>\n",
       "      <td>NaN</td>\n",
       "      <td>NaN</td>\n",
       "    </tr>\n",
       "    <tr>\n",
       "      <th>134213</th>\n",
       "      <td>46346</td>\n",
       "      <td>TIME</td>\n",
       "      <td>a few minutes</td>\n",
       "      <td>1</td>\n",
       "      <td>3.0</td>\n",
       "      <td>1.098612</td>\n",
       "    </tr>\n",
       "    <tr>\n",
       "      <th>131726</th>\n",
       "      <td>63339</td>\n",
       "      <td>TIME</td>\n",
       "      <td>moonlight nights</td>\n",
       "      <td>1</td>\n",
       "      <td>1440.0</td>\n",
       "      <td>7.272398</td>\n",
       "    </tr>\n",
       "    <tr>\n",
       "      <th>274902</th>\n",
       "      <td>33185</td>\n",
       "      <td>DATE</td>\n",
       "      <td>three years</td>\n",
       "      <td>2</td>\n",
       "      <td>1576800.0</td>\n",
       "      <td>14.270908</td>\n",
       "    </tr>\n",
       "    <tr>\n",
       "      <th>119115</th>\n",
       "      <td>6098</td>\n",
       "      <td>DATE</td>\n",
       "      <td>three weeks</td>\n",
       "      <td>1</td>\n",
       "      <td>30240.0</td>\n",
       "      <td>10.316921</td>\n",
       "    </tr>\n",
       "    <tr>\n",
       "      <th>113315</th>\n",
       "      <td>54096</td>\n",
       "      <td>DATE</td>\n",
       "      <td>Yesterday</td>\n",
       "      <td>1</td>\n",
       "      <td>NaN</td>\n",
       "      <td>NaN</td>\n",
       "    </tr>\n",
       "    <tr>\n",
       "      <th>157728</th>\n",
       "      <td>36754</td>\n",
       "      <td>TIME</td>\n",
       "      <td>meal hours</td>\n",
       "      <td>1</td>\n",
       "      <td>60.0</td>\n",
       "      <td>4.094345</td>\n",
       "    </tr>\n",
       "  </tbody>\n",
       "</table>\n",
       "</div>"
      ],
      "text/plain": [
       "        book_id entity_type          entity_text  count     minutes  \\\n",
       "31465     47643        DATE        The year 1821      1         NaN   \n",
       "24927     37908        DATE   the age of fifteen      2         NaN   \n",
       "195473    52304        DATE                 1792      1         NaN   \n",
       "144213    37878        DATE          the noonday      1         NaN   \n",
       "191233    42857        DATE           this day's      1         NaN   \n",
       "122640     1079        DATE  a hundred years ago      1  20000000.0   \n",
       "77980     56178        DATE   the last two years      1   1051200.0   \n",
       "170023    47209        TIME             a minute      1         1.0   \n",
       "97202     30312        TIME        a few moments     17         NaN   \n",
       "206086    38294        DATE             the fall      1         NaN   \n",
       "101654    35335        TIME            an hour's      1         NaN   \n",
       "188104    43552        TIME         half an hour      2        30.0   \n",
       "4601      41286        DATE   some other quarter      1         NaN   \n",
       "22154     58666        DATE        Nearly a year      1    525600.0   \n",
       "218092    57472        DATE                 1895      2         NaN   \n",
       "231979    54218        DATE          one-quarter      1         NaN   \n",
       "1908      44262        TIME         this evening      1         NaN   \n",
       "218127    57472        DATE       February, 1754      1         NaN   \n",
       "43727     53637        TIME               hourly      1         NaN   \n",
       "134213    46346        TIME        a few minutes      1         3.0   \n",
       "131726    63339        TIME     moonlight nights      1      1440.0   \n",
       "274902    33185        DATE          three years      2   1576800.0   \n",
       "119115     6098        DATE          three weeks      1     30240.0   \n",
       "113315    54096        DATE            Yesterday      1         NaN   \n",
       "157728    36754        TIME           meal hours      1        60.0   \n",
       "\n",
       "        logminutes  \n",
       "31465          NaN  \n",
       "24927          NaN  \n",
       "195473         NaN  \n",
       "144213         NaN  \n",
       "191233         NaN  \n",
       "122640   16.811243  \n",
       "77980    13.865443  \n",
       "170023    0.000000  \n",
       "97202          NaN  \n",
       "206086         NaN  \n",
       "101654         NaN  \n",
       "188104    3.401197  \n",
       "4601           NaN  \n",
       "22154    13.172296  \n",
       "218092         NaN  \n",
       "231979         NaN  \n",
       "1908           NaN  \n",
       "218127         NaN  \n",
       "43727          NaN  \n",
       "134213    1.098612  \n",
       "131726    7.272398  \n",
       "274902   14.270908  \n",
       "119115   10.316921  \n",
       "113315         NaN  \n",
       "157728    4.094345  "
      ]
     },
     "execution_count": 23,
     "metadata": {},
     "output_type": "execute_result"
    }
   ],
   "source": [
    "time_phrases = time_phrases.assign(minutes = times)\n",
    "time_phrases = time_phrases.assign(logminutes = np.log(times))\n",
    "time_phrases.sample(25)"
   ]
  },
  {
   "cell_type": "markdown",
   "id": "attached-solution",
   "metadata": {},
   "source": [
    "#### The central tendency of a log-normal distribution\n",
    "\n",
    "Wow, time spans are distributed pretty strangely. If you inspect the distribution, it is in no way normal."
   ]
  },
  {
   "cell_type": "code",
   "execution_count": 24,
   "id": "proud-fighter",
   "metadata": {},
   "outputs": [
    {
     "data": {
      "text/plain": [
       "<AxesSubplot:xlabel='minutes', ylabel='Density'>"
      ]
     },
     "execution_count": 24,
     "metadata": {},
     "output_type": "execute_result"
    },
    {
     "data": {
      "image/png": "[encoded data removed]",
      "text/plain": [
       "<Figure size 432x288 with 1 Axes>"
      ]
     },
     "metadata": {
      "needs_background": "light"
     },
     "output_type": "display_data"
    }
   ],
   "source": [
    "sns.kdeplot(time_phrases['minutes'])"
   ]
  },
  {
   "cell_type": "markdown",
   "id": "played-estate",
   "metadata": {},
   "source": [
    "On the other hand, the logarithm of time span is distributed closer to normally."
   ]
  },
  {
   "cell_type": "code",
   "execution_count": 25,
   "id": "associate-electricity",
   "metadata": {},
   "outputs": [
    {
     "data": {
      "text/plain": [
       "<AxesSubplot:xlabel='logminutes', ylabel='Density'>"
      ]
     },
     "execution_count": 25,
     "metadata": {},
     "output_type": "execute_result"
    },
    {
     "data": {
      "image/png": "[encoded data removed]",
      "text/plain": [
       "<Figure size 432x288 with 1 Axes>"
      ]
     },
     "metadata": {
      "needs_background": "light"
     },
     "output_type": "display_data"
    }
   ],
   "source": [
    "sns.kdeplot(time_phrases['logminutes'])"
   ]
  },
  {
   "cell_type": "markdown",
   "id": "addressed-principle",
   "metadata": {},
   "source": [
    "So it's going to make sense to take the mean of ```logminutes``` instead of the mean of ```minutes.``` The mean of ```minutes``` will be strongly dominated by a small number of extreme values at the high end. Differences at the low end will get erased."
   ]
  },
  {
   "cell_type": "code",
   "execution_count": 26,
   "id": "vanilla-repeat",
   "metadata": {},
   "outputs": [
    {
     "data": {
      "text/html": [
       "<div>\n",
       "<style scoped>\n",
       "    .dataframe tbody tr th:only-of-type {\n",
       "        vertical-align: middle;\n",
       "    }\n",
       "\n",
       "    .dataframe tbody tr th {\n",
       "        vertical-align: top;\n",
       "    }\n",
       "\n",
       "    .dataframe thead th {\n",
       "        text-align: right;\n",
       "    }\n",
       "</style>\n",
       "<table border=\"1\" class=\"dataframe\">\n",
       "  <thead>\n",
       "    <tr style=\"text-align: right;\">\n",
       "      <th></th>\n",
       "      <th>book_id</th>\n",
       "      <th>count</th>\n",
       "      <th>minutes</th>\n",
       "      <th>logminutes</th>\n",
       "    </tr>\n",
       "  </thead>\n",
       "  <tbody>\n",
       "    <tr>\n",
       "      <th>0</th>\n",
       "      <td>370</td>\n",
       "      <td>1.533865</td>\n",
       "      <td>1.343646e+06</td>\n",
       "      <td>9.856990</td>\n",
       "    </tr>\n",
       "    <tr>\n",
       "      <th>1</th>\n",
       "      <td>652</td>\n",
       "      <td>1.513043</td>\n",
       "      <td>1.190564e+06</td>\n",
       "      <td>9.445946</td>\n",
       "    </tr>\n",
       "    <tr>\n",
       "      <th>2</th>\n",
       "      <td>696</td>\n",
       "      <td>1.320000</td>\n",
       "      <td>7.398842e+05</td>\n",
       "      <td>7.109794</td>\n",
       "    </tr>\n",
       "    <tr>\n",
       "      <th>3</th>\n",
       "      <td>1079</td>\n",
       "      <td>1.558673</td>\n",
       "      <td>1.334169e+06</td>\n",
       "      <td>9.194056</td>\n",
       "    </tr>\n",
       "    <tr>\n",
       "      <th>4</th>\n",
       "      <td>1880</td>\n",
       "      <td>2.543396</td>\n",
       "      <td>1.337387e+06</td>\n",
       "      <td>6.478144</td>\n",
       "    </tr>\n",
       "  </tbody>\n",
       "</table>\n",
       "</div>"
      ],
      "text/plain": [
       "   book_id     count       minutes  logminutes\n",
       "0      370  1.533865  1.343646e+06    9.856990\n",
       "1      652  1.513043  1.190564e+06    9.445946\n",
       "2      696  1.320000  7.398842e+05    7.109794\n",
       "3     1079  1.558673  1.334169e+06    9.194056\n",
       "4     1880  2.543396  1.337387e+06    6.478144"
      ]
     },
     "execution_count": 26,
     "metadata": {},
     "output_type": "execute_result"
    }
   ],
   "source": [
    "timesbybook = time_phrases.groupby('book_id', as_index = False).mean()\n",
    "timesbybook.head()"
   ]
  },
  {
   "cell_type": "markdown",
   "id": "sustained-agreement",
   "metadata": {},
   "source": [
    "Let's join composition year and genre."
   ]
  },
  {
   "cell_type": "code",
   "execution_count": 27,
   "id": "unauthorized-frontier",
   "metadata": {},
   "outputs": [
    {
     "data": {
      "text/html": [
       "<div>\n",
       "<style scoped>\n",
       "    .dataframe tbody tr th:only-of-type {\n",
       "        vertical-align: middle;\n",
       "    }\n",
       "\n",
       "    .dataframe tbody tr th {\n",
       "        vertical-align: top;\n",
       "    }\n",
       "\n",
       "    .dataframe thead th {\n",
       "        text-align: right;\n",
       "    }\n",
       "</style>\n",
       "<table border=\"1\" class=\"dataframe\">\n",
       "  <thead>\n",
       "    <tr style=\"text-align: right;\">\n",
       "      <th></th>\n",
       "      <th>book_id</th>\n",
       "      <th>count</th>\n",
       "      <th>minutes</th>\n",
       "      <th>logminutes</th>\n",
       "      <th>compositionyear</th>\n",
       "      <th>genre</th>\n",
       "    </tr>\n",
       "  </thead>\n",
       "  <tbody>\n",
       "    <tr>\n",
       "      <th>0</th>\n",
       "      <td>370</td>\n",
       "      <td>1.533865</td>\n",
       "      <td>1.343646e+06</td>\n",
       "      <td>9.856990</td>\n",
       "      <td>1722</td>\n",
       "      <td>fic</td>\n",
       "    </tr>\n",
       "    <tr>\n",
       "      <th>1</th>\n",
       "      <td>652</td>\n",
       "      <td>1.513043</td>\n",
       "      <td>1.190564e+06</td>\n",
       "      <td>9.445946</td>\n",
       "      <td>1784</td>\n",
       "      <td>fic</td>\n",
       "    </tr>\n",
       "    <tr>\n",
       "      <th>2</th>\n",
       "      <td>696</td>\n",
       "      <td>1.320000</td>\n",
       "      <td>7.398842e+05</td>\n",
       "      <td>7.109794</td>\n",
       "      <td>1791</td>\n",
       "      <td>fic</td>\n",
       "    </tr>\n",
       "    <tr>\n",
       "      <th>3</th>\n",
       "      <td>1079</td>\n",
       "      <td>1.558673</td>\n",
       "      <td>1.334169e+06</td>\n",
       "      <td>9.194056</td>\n",
       "      <td>1768</td>\n",
       "      <td>fic</td>\n",
       "    </tr>\n",
       "    <tr>\n",
       "      <th>4</th>\n",
       "      <td>1880</td>\n",
       "      <td>2.543396</td>\n",
       "      <td>1.337387e+06</td>\n",
       "      <td>6.478144</td>\n",
       "      <td>1840</td>\n",
       "      <td>fic</td>\n",
       "    </tr>\n",
       "  </tbody>\n",
       "</table>\n",
       "</div>"
      ],
      "text/plain": [
       "   book_id     count       minutes  logminutes  compositionyear genre\n",
       "0      370  1.533865  1.343646e+06    9.856990             1722   fic\n",
       "1      652  1.513043  1.190564e+06    9.445946             1784   fic\n",
       "2      696  1.320000  7.398842e+05    7.109794             1791   fic\n",
       "3     1079  1.558673  1.334169e+06    9.194056             1768   fic\n",
       "4     1880  2.543396  1.337387e+06    6.478144             1840   fic"
      ]
     },
     "execution_count": 27,
     "metadata": {},
     "output_type": "execute_result"
    }
   ],
   "source": [
    "if 'book_id' in meta.columns:\n",
    "    meta = meta.set_index('book_id')\n",
    "\n",
    "timesbybook = timesbybook.join(meta.loc[: , ['compositionyear', 'genre']], on = 'book_id')\n",
    "timesbybook.head()"
   ]
  },
  {
   "cell_type": "code",
   "execution_count": 28,
   "id": "spectacular-hypothesis",
   "metadata": {},
   "outputs": [
    {
     "data": {
      "text/plain": [
       "<AxesSubplot:xlabel='compositionyear', ylabel='logminutes'>"
      ]
     },
     "execution_count": 28,
     "metadata": {},
     "output_type": "execute_result"
    },
    {
     "data": {
      "image/png": "[encoded data removed]",
      "text/plain": [
       "<Figure size 432x288 with 1 Axes>"
      ]
     },
     "metadata": {
      "needs_background": "light"
     },
     "output_type": "display_data"
    }
   ],
   "source": [
    "timesbybook = timesbybook.loc[timesbybook['genre'] == 'fic', : ]\n",
    "timesbybook = timesbybook.loc[~np.isnan(timesbybook['logminutes']), : ]\n",
    "sns.scatterplot(x = timesbybook['compositionyear'], y = timesbybook['logminutes'])"
   ]
  },
  {
   "cell_type": "code",
   "execution_count": 29,
   "id": "middle-accessory",
   "metadata": {},
   "outputs": [
    {
     "data": {
      "text/plain": [
       "(-0.2522540169395548, 0.00148884550084977)"
      ]
     },
     "execution_count": 29,
     "metadata": {},
     "output_type": "execute_result"
    }
   ],
   "source": [
    "from scipy.stats import pearsonr\n",
    "pearsonr(timesbybook['compositionyear'], timesbybook['logminutes'])"
   ]
  },
  {
   "cell_type": "markdown",
   "id": "negative-relative",
   "metadata": {},
   "source": [
    "**Conclusion:** In short, it looks like description of time gets considerably more granular as we move from the eighteenth century to the early twentieth. The spans of time mentioned get shorter on average.\n",
    "\n",
    "Since there are significant sources of error in entity extraction, we might want to confirm this manually. In practice, the inference we're drawing does seem to check out."
   ]
  },
  {
   "cell_type": "code",
   "execution_count": null,
   "id": "critical-parameter",
   "metadata": {},
   "outputs": [],
   "source": []
  }
 ],
 "metadata": {
  "kernelspec": {
   "display_name": "Python 3",
   "language": "python",
   "name": "python3"
  },
  "language_info": {
   "codemirror_mode": {
    "name": "ipython",
    "version": 3
   },
   "file_extension": ".py",
   "mimetype": "text/x-python",
   "name": "python",
   "nbconvert_exporter": "python",
   "pygments_lexer": "ipython3",
   "version": "3.7.6"
  }
 },
 "nbformat": 4,
 "nbformat_minor": 5
}
