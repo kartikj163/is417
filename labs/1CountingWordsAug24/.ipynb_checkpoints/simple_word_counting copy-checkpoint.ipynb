{
 "cells": [
  {
   "cell_type": "markdown",
   "id": "liked-check",
   "metadata": {},
   "source": [
    "# Simple word counting\n",
    "\n"
   ]
  },
  {
   "cell_type": "markdown",
   "id": "mature-shore",
   "metadata": {},
   "source": [
    "print('Hello, world.')\n",
    "\n",
    "a = 1\n",
    "b = 2\n",
    "\n",
    "print(a + b)"
   ]
  },
  {
   "cell_type": "markdown",
   "id": "streaming-immunology",
   "metadata": {},
   "source": [
    "\n",
    "\n",
    "Python has lots of built-in abilities, but sometimes you need a data structure or function that isn't in the basic library. In that case you can \"import\" a whole module, or (as in the case below) a particular part of one."
   ]
  },
  {
   "cell_type": "code",
   "execution_count": 51,
   "id": "mental-child",
   "metadata": {},
   "outputs": [],
   "source": [
    "import re\n",
    "from collections import Counter\n",
    "from pathlib import Path"
   ]
  },
  {
   "cell_type": "markdown",
   "id": "otherwise-network",
   "metadata": {},
   "source": [
    "## Basic file i/o\n",
    "\n",
    "Often we'll need to read in a file. If the file is structured as a table, we'll use a special module called \"Pandas\" to do that. But in the case of simple text files we need to understand a little about the way the file is represented on disk. For instance, it matters whether we want to treat the whole file as a single string, or treat it as a sequence of strings separated by line breaks."
   ]
  },
  {
   "cell_type": "code",
   "execution_count": 52,
   "id": "scenic-robert",
   "metadata": {},
   "outputs": [],
   "source": [
    "prosepath = Path('../texts/Milne_ALostMasterpiece.txt') \n",
    "\n",
    "# We could probably just use a string there instead of a Path\n",
    "# object. But I'm being exaggeratedly cautious to ensure\n",
    "# I create habits that will work on Windows machines, where\n",
    "# the slashes go the other way. A Path object automatically\n",
    "# adjusts for your operating system.\n",
    "\n",
    "# It doesn't really matter whether you use single quotes or\n",
    "# double quotes to enclose strings. I use single because\n",
    "# I'm lazy about hitting the shift key.\n",
    "\n",
    "paragraphs = open(prosepath, encoding = 'utf-8').readlines()\n",
    "\n",
    "# The `open` function creates a file object, which has \"methods\"\n",
    "# you can call. Those are like functions attached to the object.\n",
    "# object-period-method() is the typical syntax for calling a\n",
    "# method in Python. The function may or may not have arguments \n",
    "# inside the parens.\n",
    "\n",
    "# `readlines` is a method that returns a list of strings,\n",
    "# breaking whenever it hits a line break. In this file\n",
    "# line breaks exist only between paragraphs."
   ]
  },
  {
   "cell_type": "code",
   "execution_count": 53,
   "id": "close-teddy",
   "metadata": {},
   "outputs": [
    {
     "data": {
      "text/plain": [
       "23"
      ]
     },
     "execution_count": 53,
     "metadata": {},
     "output_type": "execute_result"
    }
   ],
   "source": [
    "len(paragraphs)"
   ]
  },
  {
   "cell_type": "code",
   "execution_count": 54,
   "id": "handmade-forty",
   "metadata": {},
   "outputs": [
    {
     "data": {
      "text/plain": [
       "'The short essay on “The Improbability of the Infinite” which I was planning for you yesterday will now never be written. Last night my brain was crammed with lofty thoughts on the subject--and for that matter, on every other subject. My mind was never so fertile. Ten thousand words on any theme from Tin-tacks to Tomatoes would have been easy to me. That was last night. This morning I have only one word in my brain, and I cannot get rid of it. The word is “Teralbay.”\\n'"
      ]
     },
     "execution_count": 54,
     "metadata": {},
     "output_type": "execute_result"
    }
   ],
   "source": [
    "paragraphs[0]      # The first paragraph. Python starts counting at zero."
   ]
  },
  {
   "cell_type": "markdown",
   "id": "extraordinary-ratio",
   "metadata": {},
   "source": [
    "Notice the newline character at the end of that string, represented with the two character sequence '\\n.' Otherwise it would be invisible: it would just look like a linebreak. Also notice that this text uses fancy curly quotes “”; those are different characters from ordinary \"\".\n",
    "\n",
    "**Alternate .read() method**\n",
    "\n",
    "It's also possible to read a whole file as a single string, using the ```.read()``` method."
   ]
  },
  {
   "cell_type": "code",
   "execution_count": 55,
   "id": "close-protection",
   "metadata": {},
   "outputs": [
    {
     "data": {
      "text/plain": [
       "'床前明月光，\\n疑是地上霜。\\n举头望明月，\\n低头思故乡。\\n'"
      ]
     },
     "execution_count": 55,
     "metadata": {},
     "output_type": "execute_result"
    }
   ],
   "source": [
    "poempath = Path('../texts/Libai_ThoughtsInTheSilentNight.txt')\n",
    "fullpoem = open(poempath, encoding = 'utf-8').read()\n",
    "fullpoem"
   ]
  },
  {
   "cell_type": "markdown",
   "id": "actual-marble",
   "metadata": {},
   "source": [
    "You can see that all the lines of this four-line poem are contained in a single variable. UTF-8 is the most common character encoding, but you will sometimes encounter files in a different character encoding--a different way of translating bytes into characters. If you get a message that says the start byte is not readable in UTF-8, or if special characters like é behave strangely, that's a likely explanation. If you save a file in Excel it may change the encoding without informing you--at least that *used* to happen regularly."
   ]
  },
  {
   "cell_type": "markdown",
   "id": "absent-tooth",
   "metadata": {},
   "source": [
    "## Counting words; using dictionaries\n",
    "\n",
    "Let's count the words in \"A Lost Masterpiece.\" There's a very simple way to do this, but let's take the long way around first to demonstrate a few things.\n",
    "\n",
    "A \"dictionary\" is a data structure that allows you to map one set of variables onto another set. Each of the \"values\" in the dictionary is referenced by a unique \"key.\""
   ]
  },
  {
   "cell_type": "code",
   "execution_count": 56,
   "id": "innovative-knight",
   "metadata": {},
   "outputs": [],
   "source": [
    "randomthoughts = dict()\n",
    "randomthoughts['banana'] = 'only good before ripe'\n",
    "randomthoughts[16] = 'four squared'\n",
    "randomthoughts['16'] = randomthoughts['banana']"
   ]
  },
  {
   "cell_type": "code",
   "execution_count": 57,
   "id": "heavy-advocacy",
   "metadata": {},
   "outputs": [
    {
     "data": {
      "text/plain": [
       "'four squared'"
      ]
     },
     "execution_count": 57,
     "metadata": {},
     "output_type": "execute_result"
    }
   ],
   "source": [
    "randomthoughts[16]"
   ]
  },
  {
   "cell_type": "code",
   "execution_count": 58,
   "id": "other-diamond",
   "metadata": {},
   "outputs": [
    {
     "data": {
      "text/plain": [
       "'only good before ripe'"
      ]
     },
     "execution_count": 58,
     "metadata": {},
     "output_type": "execute_result"
    }
   ],
   "source": [
    "randomthoughts['16']"
   ]
  },
  {
   "cell_type": "markdown",
   "id": "cathedral-springfield",
   "metadata": {},
   "source": [
    "So one way to count the words in \"A Lost Masterpiece\" would be to split each line into words, then create a dictionary that keeps track of the number of times each word appears."
   ]
  },
  {
   "cell_type": "code",
   "execution_count": 59,
   "id": "wired-express",
   "metadata": {},
   "outputs": [
    {
     "data": {
      "text/plain": [
       "['The',\n",
       " 'short',\n",
       " 'essay',\n",
       " 'on',\n",
       " '“The',\n",
       " 'Improbability',\n",
       " 'of',\n",
       " 'the',\n",
       " 'Infinite”',\n",
       " 'which',\n",
       " 'I',\n",
       " 'was',\n",
       " 'planning',\n",
       " 'for',\n",
       " 'you',\n",
       " 'yesterday',\n",
       " 'will',\n",
       " 'now',\n",
       " 'never',\n",
       " 'be']"
      ]
     },
     "execution_count": 59,
     "metadata": {},
     "output_type": "execute_result"
    }
   ],
   "source": [
    "wordsinfirstpar = paragraphs[0].split() # this splits a string using any white space character\n",
    "wordsinfirstpar[0: 20]"
   ]
  },
  {
   "cell_type": "code",
   "execution_count": 60,
   "id": "theoretical-programmer",
   "metadata": {},
   "outputs": [],
   "source": [
    "naivewordcounts = dict()\n",
    "\n",
    "for w in wordsinfirstpar:            # this is a for-loop\n",
    "    if w not in naivewordcounts:     # this is an if-then statement\n",
    "        naivewordcounts[w] = 0       # notice how indentation works:\n",
    "                                     # the indented lines are executed if the condition is true \n",
    "    naivewordcounts[w] = naivewordcounts[w] + 1  # or you could just say naivewordcounts[w] += 1"
   ]
  },
  {
   "cell_type": "code",
   "execution_count": 61,
   "id": "filled-mouth",
   "metadata": {},
   "outputs": [
    {
     "data": {
      "text/plain": [
       "2"
      ]
     },
     "execution_count": 61,
     "metadata": {},
     "output_type": "execute_result"
    }
   ],
   "source": [
    "naivewordcounts['the']"
   ]
  },
  {
   "cell_type": "markdown",
   "id": "standard-auditor",
   "metadata": {},
   "source": [
    "### why is that wrong?\n",
    "\n",
    "Huh. I can see that the word 'the' appears more than three times in that paragraph.\n",
    "\n",
    "What's the problem? Why is my count off?"
   ]
  },
  {
   "cell_type": "markdown",
   "id": "respiratory-richardson",
   "metadata": {},
   "source": [
    "### let's solve the problem\n",
    "\n",
    "I'm going to define a function that will do a better job of \"splitting a text into words.\"\n",
    "\n",
    "This function, by the way, is borrowed from Melanie Walsh."
   ]
  },
  {
   "cell_type": "code",
   "execution_count": 62,
   "id": "impossible-bankruptcy",
   "metadata": {},
   "outputs": [],
   "source": [
    "def split_into_words(any_chunk_of_text):\n",
    "    lowercase_text = any_chunk_of_text.lower()\n",
    "    split_words = re.split(\"\\W+\", lowercase_text)\n",
    "    return split_words"
   ]
  },
  {
   "cell_type": "code",
   "execution_count": 63,
   "id": "fallen-houston",
   "metadata": {},
   "outputs": [
    {
     "data": {
      "text/plain": [
       "['the',\n",
       " 'short',\n",
       " 'essay',\n",
       " 'on',\n",
       " 'the',\n",
       " 'improbability',\n",
       " 'of',\n",
       " 'the',\n",
       " 'infinite',\n",
       " 'which',\n",
       " 'i',\n",
       " 'was',\n",
       " 'planning',\n",
       " 'for',\n",
       " 'you',\n",
       " 'yesterday',\n",
       " 'will',\n",
       " 'now',\n",
       " 'never',\n",
       " 'be']"
      ]
     },
     "execution_count": 63,
     "metadata": {},
     "output_type": "execute_result"
    }
   ],
   "source": [
    "wordsinfirstpar = split_into_words(paragraphs[0])\n",
    "wordsinfirstpar[0 : 20]"
   ]
  },
  {
   "cell_type": "code",
   "execution_count": 64,
   "id": "resistant-firewall",
   "metadata": {},
   "outputs": [
    {
     "data": {
      "text/plain": [
       "5"
      ]
     },
     "execution_count": 64,
     "metadata": {},
     "output_type": "execute_result"
    }
   ],
   "source": [
    "# Now we can count occurrences of 'the' in the first paragraph\n",
    "# using this very simple list method:\n",
    "\n",
    "wordsinfirstpar.count('the')"
   ]
  },
  {
   "cell_type": "markdown",
   "id": "failing-train",
   "metadata": {},
   "source": [
    "### why does that work?\n",
    "\n",
    "Walsh's function relies on *regular expressions.* If the meaning of '\\W+' is not clear to you, that's normal. No one ever remembers how a particular regular expression works. To understand what's happening in a regex, I always have to check out [Regex101](https://regex101.com) and play around. Let's do that.\n",
    "\n",
    "Then come back and explain (a) how Walsh's function works, and\n",
    "(b) think of cases where it will fail to break \"words\" in the places we might ordinarily expect."
   ]
  },
  {
   "cell_type": "markdown",
   "id": "applicable-palestinian",
   "metadata": {},
   "source": [
    "## Write code that counts all the words in Milne's story\n",
    "\n",
    "Remember that we currently have the story as a list of separate \"paragraphs.\" The variable name is ```paragraphs```.\n",
    "\n",
    "And for right now humor me and write this using a dictionary. There's an easier way to do it, which I'm about to admit.\n",
    "\n",
    "But not everyone in the class is familiar with Python, so the syntax of loops and if-thens (and indentation) is worth exploring."
   ]
  },
  {
   "cell_type": "code",
   "execution_count": 65,
   "id": "surprised-citizenship",
   "metadata": {},
   "outputs": [],
   "source": [
    "# your code goes here\n"
   ]
  },
  {
   "cell_type": "markdown",
   "id": "danish-silicon",
   "metadata": {},
   "source": [
    "## Probably the easier way\n",
    "\n",
    "A Counter is a dictionary that automatically initializes at zero if you use a new key.\n",
    "\n",
    "Also you can initialize it directly from a list.\n",
    "\n",
    "So an easier way to do the wordcounting is:"
   ]
  },
  {
   "cell_type": "code",
   "execution_count": 66,
   "id": "mysterious-cable",
   "metadata": {},
   "outputs": [
    {
     "data": {
      "text/plain": [
       "40"
      ]
     },
     "execution_count": 66,
     "metadata": {},
     "output_type": "execute_result"
    }
   ],
   "source": [
    "fulltext = open(prosepath, encoding = 'utf-8').read()\n",
    "allwords = split_into_words(fulltext)\n",
    "wordcounts = Counter(allwords)\n",
    "wordcounts['the']"
   ]
  }
 ],
 "metadata": {
  "kernelspec": {
   "display_name": "Python 3",
   "language": "python",
   "name": "python3"
  },
  "language_info": {
   "codemirror_mode": {
    "name": "ipython",
    "version": 3
   },
   "file_extension": ".py",
   "mimetype": "text/x-python",
   "name": "python",
   "nbconvert_exporter": "python",
   "pygments_lexer": "ipython3",
   "version": "3.7.6"
  }
 },
 "nbformat": 4,
 "nbformat_minor": 5
}
