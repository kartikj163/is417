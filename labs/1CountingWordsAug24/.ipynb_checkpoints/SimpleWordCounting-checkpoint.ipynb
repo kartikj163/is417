{
 "cells": [
  {
   "cell_type": "markdown",
   "id": "collect-operations",
   "metadata": {},
   "source": [
    "# Simple word counting\n",
    "\n"
   ]
  },
  {
   "cell_type": "markdown",
   "id": "electrical-society",
   "metadata": {},
   "source": [
    "To reason about unstructured data, we need to somehow convert words, or pixels, into numbers. What this does to the *meaning* of words is an interesting question that we'll slowly unfold over the course of the semester.\n",
    "\n",
    "But first, just practically, how would you do it? \n",
    "\n",
    "Let's practice several different methods."
   ]
  },
  {
   "cell_type": "code",
   "execution_count": 2,
   "id": "documentary-trouble",
   "metadata": {},
   "outputs": [],
   "source": [
    "import re\n",
    "from collections import Counter\n",
    "from pathlib import Path"
   ]
  },
  {
   "cell_type": "markdown",
   "id": "civic-reservoir",
   "metadata": {},
   "source": [
    "## Basic file i/o\n",
    "\n",
    "Often we'll need to read in a file. If the file is structured as a table, we'll use a special module called \"Pandas\" to do that. But in the case of simple text files we need to understand a little about the way the file is represented on disk. For instance, it matters whether we want to treat the whole file as a single string, or treat it as a sequence of strings separated by line breaks."
   ]
  },
  {
   "cell_type": "code",
   "execution_count": 4,
   "id": "needed-savage",
   "metadata": {},
   "outputs": [],
   "source": [
    "prosepath = Path('../../texts/Milne_ALostMasterpiece.txt') \n",
    "\n",
    "# We could probably just use a string there instead of a Path\n",
    "# object. But I'm being exaggeratedly cautious to ensure\n",
    "# I create habits that will work on Windows machines, where\n",
    "# the slashes go the other way. A Path object automatically\n",
    "# adjusts for your operating system.\n",
    "\n",
    "# It doesn't really matter whether you use single quotes or\n",
    "# double quotes to enclose strings. I use single because\n",
    "# I'm lazy about hitting the shift key.\n",
    "\n",
    "paragraphs = open(prosepath, encoding = 'utf-8').readlines()\n",
    "\n",
    "# The `open` function creates a file object, which has \"methods\"\n",
    "# you can call. Those are like functions attached to the object.\n",
    "# object-period-method() is the typical syntax for calling a\n",
    "# method in Python. The function may or may not have arguments \n",
    "# inside the parens.\n",
    "\n",
    "# `readlines` is a method that returns a list of strings,\n",
    "# breaking whenever it hits a line break. In this file\n",
    "# line breaks exist only between paragraphs."
   ]
  },
  {
   "cell_type": "code",
   "execution_count": 5,
   "id": "english-honor",
   "metadata": {},
   "outputs": [
    {
     "data": {
      "text/plain": [
       "23"
      ]
     },
     "execution_count": 5,
     "metadata": {},
     "output_type": "execute_result"
    }
   ],
   "source": [
    "len(paragraphs)"
   ]
  },
  {
   "cell_type": "code",
   "execution_count": 6,
   "id": "starting-phase",
   "metadata": {},
   "outputs": [
    {
     "data": {
      "text/plain": [
       "'The short essay on “The Improbability of the Infinite” which I was planning for you yesterday will now never be written. Last night my brain was crammed with lofty thoughts on the subject--and for that matter, on every other subject. My mind was never so fertile. Ten thousand words on any theme from Tin-tacks to Tomatoes would have been easy to me. That was last night. This morning I have only one word in my brain, and I cannot get rid of it. The word is “Teralbay.”\\n'"
      ]
     },
     "execution_count": 6,
     "metadata": {},
     "output_type": "execute_result"
    }
   ],
   "source": [
    "paragraphs[0]      # The first paragraph. Python starts counting at zero."
   ]
  },
  {
   "cell_type": "markdown",
   "id": "pacific-hospital",
   "metadata": {},
   "source": [
    "Notice the newline character at the end of that string, represented with the two character sequence '\\n.' Otherwise it would be invisible: it would just look like a linebreak. Also notice that this text uses fancy curly quotes “”; those are different characters from ordinary \"\".\n",
    "\n",
    "**Alternate .read() method**\n",
    "\n",
    "It's also possible to read a whole file as a single string, using the ```.read()``` method."
   ]
  },
  {
   "cell_type": "code",
   "execution_count": 8,
   "id": "coastal-purple",
   "metadata": {},
   "outputs": [
    {
     "data": {
      "text/plain": [
       "'床前明月光，\\n疑是地上霜。\\n举头望明月，\\n低头思故乡。\\n'"
      ]
     },
     "execution_count": 8,
     "metadata": {},
     "output_type": "execute_result"
    }
   ],
   "source": [
    "poempath = Path('../../texts/Libai_ThoughtsInTheSilentNight.txt')\n",
    "fullpoem = open(poempath, encoding = 'utf-8').read()\n",
    "fullpoem"
   ]
  },
  {
   "cell_type": "markdown",
   "id": "comprehensive-triumph",
   "metadata": {},
   "source": [
    "You can see that all the lines of this four-line poem are contained in a single variable. UTF-8 is the most common character encoding, but you will sometimes encounter files in a different character encoding--a different way of translating bytes into characters. If you get a message that says the start byte is not readable in UTF-8, or if special characters like é behave strangely, that's a likely explanation. If you save a file in Excel it may change the encoding without informing you--at least that *used* to happen regularly."
   ]
  },
  {
   "cell_type": "markdown",
   "id": "corporate-background",
   "metadata": {},
   "source": [
    "## Counting words; using dictionaries\n",
    "\n",
    "Let's count the words in \"A Lost Masterpiece.\" There's a very simple way to do this, but let's take the long way around first to demonstrate a few things.\n",
    "\n",
    "A \"dictionary\" is a data structure that allows you to map one set of variables onto another set. Each of the \"values\" in the dictionary is referenced by a unique \"key.\""
   ]
  },
  {
   "cell_type": "code",
   "execution_count": 9,
   "id": "assisted-morgan",
   "metadata": {},
   "outputs": [],
   "source": [
    "randomthoughts = dict()\n",
    "randomthoughts['banana'] = 'only good before ripe'\n",
    "randomthoughts[16] = 'four squared'\n",
    "randomthoughts['16'] = randomthoughts['banana']"
   ]
  },
  {
   "cell_type": "code",
   "execution_count": 10,
   "id": "varied-shower",
   "metadata": {},
   "outputs": [
    {
     "data": {
      "text/plain": [
       "'four squared'"
      ]
     },
     "execution_count": 10,
     "metadata": {},
     "output_type": "execute_result"
    }
   ],
   "source": [
    "randomthoughts[16]"
   ]
  },
  {
   "cell_type": "code",
   "execution_count": 11,
   "id": "dried-walter",
   "metadata": {},
   "outputs": [
    {
     "data": {
      "text/plain": [
       "'only good before ripe'"
      ]
     },
     "execution_count": 11,
     "metadata": {},
     "output_type": "execute_result"
    }
   ],
   "source": [
    "randomthoughts['16']"
   ]
  },
  {
   "cell_type": "markdown",
   "id": "institutional-possible",
   "metadata": {},
   "source": [
    "So one way to count the words in \"A Lost Masterpiece\" would be to split each line into words, then create a dictionary that keeps track of the number of times each word appears."
   ]
  },
  {
   "cell_type": "code",
   "execution_count": 12,
   "id": "olive-innocent",
   "metadata": {},
   "outputs": [
    {
     "data": {
      "text/plain": [
       "['The',\n",
       " 'short',\n",
       " 'essay',\n",
       " 'on',\n",
       " '“The',\n",
       " 'Improbability',\n",
       " 'of',\n",
       " 'the',\n",
       " 'Infinite”',\n",
       " 'which',\n",
       " 'I',\n",
       " 'was',\n",
       " 'planning',\n",
       " 'for',\n",
       " 'you',\n",
       " 'yesterday',\n",
       " 'will',\n",
       " 'now',\n",
       " 'never',\n",
       " 'be']"
      ]
     },
     "execution_count": 12,
     "metadata": {},
     "output_type": "execute_result"
    }
   ],
   "source": [
    "wordsinfirstpar = paragraphs[0].split() # this splits a string using any white space character\n",
    "wordsinfirstpar[0: 20]"
   ]
  },
  {
   "cell_type": "code",
   "execution_count": 13,
   "id": "exotic-testimony",
   "metadata": {},
   "outputs": [],
   "source": [
    "naivewordcounts = dict()\n",
    "\n",
    "for w in wordsinfirstpar:            # this is a for-loop\n",
    "    if w not in naivewordcounts:     # this is an if-then statement\n",
    "        naivewordcounts[w] = 0       # notice how indentation works:\n",
    "                                     # the indented lines are executed if the condition is true \n",
    "    naivewordcounts[w] = naivewordcounts[w] + 1  # or you could just say naivewordcounts[w] += 1"
   ]
  },
  {
   "cell_type": "code",
   "execution_count": 14,
   "id": "contained-pledge",
   "metadata": {},
   "outputs": [
    {
     "data": {
      "text/plain": [
       "2"
      ]
     },
     "execution_count": 14,
     "metadata": {},
     "output_type": "execute_result"
    }
   ],
   "source": [
    "naivewordcounts['the']"
   ]
  },
  {
   "cell_type": "markdown",
   "id": "vertical-integer",
   "metadata": {},
   "source": [
    "### why is that wrong?\n",
    "\n",
    "Huh. I can see that the word 'the' appears more than three times in that paragraph.\n",
    "\n",
    "What's the problem? Why is my count off?"
   ]
  },
  {
   "cell_type": "markdown",
   "id": "million-flour",
   "metadata": {},
   "source": [
    "### let's solve the problem\n",
    "\n",
    "I'm going to define a function that will do a better job of \"splitting a text into words.\"\n",
    "\n",
    "This function, by the way, is borrowed from Melanie Walsh."
   ]
  },
  {
   "cell_type": "code",
   "execution_count": 15,
   "id": "chinese-resort",
   "metadata": {},
   "outputs": [],
   "source": [
    "def split_into_words(any_chunk_of_text):\n",
    "    lowercase_text = any_chunk_of_text.lower()\n",
    "    split_words = re.split(\"\\W+\", lowercase_text)\n",
    "    return split_words"
   ]
  },
  {
   "cell_type": "code",
   "execution_count": 16,
   "id": "interracial-swaziland",
   "metadata": {},
   "outputs": [
    {
     "data": {
      "text/plain": [
       "['the',\n",
       " 'short',\n",
       " 'essay',\n",
       " 'on',\n",
       " 'the',\n",
       " 'improbability',\n",
       " 'of',\n",
       " 'the',\n",
       " 'infinite',\n",
       " 'which',\n",
       " 'i',\n",
       " 'was',\n",
       " 'planning',\n",
       " 'for',\n",
       " 'you',\n",
       " 'yesterday',\n",
       " 'will',\n",
       " 'now',\n",
       " 'never',\n",
       " 'be']"
      ]
     },
     "execution_count": 16,
     "metadata": {},
     "output_type": "execute_result"
    }
   ],
   "source": [
    "wordsinfirstpar = split_into_words(paragraphs[0])\n",
    "wordsinfirstpar[0 : 20]"
   ]
  },
  {
   "cell_type": "code",
   "execution_count": 17,
   "id": "impossible-tutorial",
   "metadata": {},
   "outputs": [
    {
     "data": {
      "text/plain": [
       "5"
      ]
     },
     "execution_count": 17,
     "metadata": {},
     "output_type": "execute_result"
    }
   ],
   "source": [
    "# Now we can count occurrences of 'the' in the first paragraph\n",
    "# using this very simple list method:\n",
    "\n",
    "wordsinfirstpar.count('the')"
   ]
  },
  {
   "cell_type": "markdown",
   "id": "industrial-compatibility",
   "metadata": {},
   "source": [
    "### why does that work?\n",
    "\n",
    "Walsh's function relies on *regular expressions.* If the meaning of '\\W+' is not clear to you, that's normal. No one ever remembers how a particular regular expression works. To understand what's happening in a regex, I always have to check out [Regex101](https://regex101.com) and play around. Let's do that.\n",
    "\n",
    "Then come back and explain (a) how Walsh's function works, and\n",
    "(b) think of cases where it will fail to break \"words\" in the places we might ordinarily expect."
   ]
  },
  {
   "cell_type": "markdown",
   "id": "operating-buyer",
   "metadata": {},
   "source": [
    "## Write code that counts all the words in Milne's story\n",
    "\n",
    "Remember that we currently have the story as a list of separate \"paragraphs.\" The variable name is ```paragraphs```.\n",
    "\n",
    "And for right now humor me and write this using a dictionary. There's an easier way to do it, which I'm about to admit.\n",
    "\n",
    "But not everyone in the class is familiar with Python, so the syntax of loops and if-thens (and indentation) is worth exploring."
   ]
  },
  {
   "cell_type": "code",
   "execution_count": 18,
   "id": "expanded-discipline",
   "metadata": {},
   "outputs": [],
   "source": [
    "# your code goes here\n"
   ]
  },
  {
   "cell_type": "markdown",
   "id": "focal-evanescence",
   "metadata": {},
   "source": [
    "## Probably the easier way\n",
    "\n",
    "A Counter is a dictionary that automatically initializes at zero if you use a new key.\n",
    "\n",
    "Also you can initialize it directly from a list.\n",
    "\n",
    "So an easier way to do the wordcounting is:"
   ]
  },
  {
   "cell_type": "code",
   "execution_count": 19,
   "id": "caring-editing",
   "metadata": {},
   "outputs": [
    {
     "data": {
      "text/plain": [
       "40"
      ]
     },
     "execution_count": 19,
     "metadata": {},
     "output_type": "execute_result"
    }
   ],
   "source": [
    "fulltext = open(prosepath, encoding = 'utf-8').read()\n",
    "allwords = split_into_words(fulltext)\n",
    "wordcounts = Counter(allwords)\n",
    "wordcounts['the']"
   ]
  },
  {
   "cell_type": "markdown",
   "id": "gentle-desperate",
   "metadata": {},
   "source": [
    "## An even easier way"
   ]
  },
  {
   "cell_type": "code",
   "execution_count": 37,
   "id": "introductory-rochester",
   "metadata": {},
   "outputs": [],
   "source": [
    "import pandas as pd\n",
    "from sklearn.feature_extraction.text import CountVectorizer"
   ]
  },
  {
   "cell_type": "code",
   "execution_count": 30,
   "id": "equal-music",
   "metadata": {},
   "outputs": [],
   "source": [
    "vectorizer = CountVectorizer(max_features = 20)\n",
    "sparse_counts = vectorizer.fit_transform(paragraphs) # the vectorizer produces something\n",
    "                                                               # called a 'sparse matrix'; we need to\n",
    "                                                               # unpack it"
   ]
  },
  {
   "cell_type": "code",
   "execution_count": 31,
   "id": "opposed-savings",
   "metadata": {},
   "outputs": [
    {
     "data": {
      "text/plain": [
       "<23x20 sparse matrix of type '<class 'numpy.int64'>'\n",
       "\twith 142 stored elements in Compressed Sparse Row format>"
      ]
     },
     "execution_count": 31,
     "metadata": {},
     "output_type": "execute_result"
    }
   ],
   "source": [
    "sparse_counts"
   ]
  },
  {
   "cell_type": "code",
   "execution_count": 32,
   "id": "related-apple",
   "metadata": {},
   "outputs": [
    {
     "data": {
      "text/plain": [
       "array([[2, 1, 2, 2, 1, 1, 1, 0, 3, 0, 2, 0, 0, 1, 2, 5, 1, 2, 2, 1],\n",
       "       [0, 0, 0, 0, 0, 0, 0, 0, 0, 0, 0, 0, 0, 0, 0, 0, 0, 0, 0, 0],\n",
       "       [4, 2, 1, 1, 1, 4, 5, 0, 1, 2, 5, 1, 0, 2, 2, 5, 6, 6, 5, 0],\n",
       "       [0, 0, 0, 0, 0, 0, 0, 0, 0, 0, 0, 0, 0, 0, 0, 0, 0, 0, 0, 0],\n",
       "       [3, 4, 1, 0, 1, 4, 9, 2, 0, 1, 3, 3, 0, 1, 1, 2, 4, 2, 0, 6],\n",
       "       [0, 0, 0, 0, 0, 0, 0, 0, 0, 0, 0, 0, 0, 0, 0, 0, 0, 0, 0, 0],\n",
       "       [2, 2, 2, 2, 1, 1, 5, 3, 1, 1, 3, 0, 0, 1, 6, 3, 1, 2, 1, 7],\n",
       "       [0, 0, 0, 0, 0, 0, 0, 0, 0, 0, 0, 0, 0, 0, 0, 0, 0, 0, 0, 0],\n",
       "       [3, 0, 0, 2, 2, 3, 2, 0, 0, 4, 2, 2, 0, 0, 3, 2, 2, 1, 0, 0],\n",
       "       [0, 0, 0, 0, 0, 0, 0, 0, 0, 0, 0, 0, 0, 0, 0, 0, 0, 0, 0, 0],\n",
       "       [0, 0, 0, 0, 0, 0, 0, 0, 0, 0, 0, 0, 0, 0, 0, 0, 0, 0, 0, 0],\n",
       "       [0, 0, 0, 0, 0, 0, 0, 0, 0, 0, 0, 0, 0, 0, 0, 0, 0, 0, 0, 0],\n",
       "       [0, 2, 0, 0, 0, 1, 1, 0, 2, 0, 0, 0, 4, 5, 1, 3, 0, 0, 0, 0],\n",
       "       [0, 0, 0, 0, 0, 0, 0, 0, 0, 0, 0, 0, 0, 0, 0, 0, 0, 0, 0, 0],\n",
       "       [0, 1, 0, 1, 2, 2, 4, 0, 0, 0, 3, 2, 0, 0, 3, 3, 0, 3, 1, 1],\n",
       "       [0, 0, 0, 0, 0, 0, 0, 0, 0, 0, 0, 0, 0, 0, 0, 0, 0, 0, 0, 0],\n",
       "       [0, 2, 1, 1, 2, 0, 4, 0, 0, 1, 2, 3, 2, 0, 0, 5, 1, 5, 1, 3],\n",
       "       [0, 0, 0, 0, 0, 0, 0, 0, 0, 0, 0, 0, 0, 0, 0, 0, 0, 0, 0, 0],\n",
       "       [6, 0, 3, 0, 3, 0, 0, 1, 2, 0, 3, 0, 4, 1, 0, 6, 0, 5, 1, 0],\n",
       "       [0, 0, 0, 0, 0, 0, 0, 0, 0, 0, 0, 0, 0, 0, 0, 0, 0, 0, 0, 0],\n",
       "       [1, 2, 2, 1, 0, 1, 1, 2, 3, 1, 3, 2, 0, 1, 1, 6, 1, 2, 0, 0],\n",
       "       [0, 0, 0, 0, 0, 0, 0, 0, 0, 0, 0, 0, 0, 0, 0, 0, 0, 0, 0, 0],\n",
       "       [0, 0, 0, 1, 0, 0, 1, 0, 0, 0, 0, 0, 0, 0, 0, 0, 0, 0, 0, 0]])"
      ]
     },
     "execution_count": 32,
     "metadata": {},
     "output_type": "execute_result"
    }
   ],
   "source": [
    "sparse_counts.toarray()"
   ]
  },
  {
   "cell_type": "code",
   "execution_count": 35,
   "id": "virgin-contributor",
   "metadata": {},
   "outputs": [
    {
     "data": {
      "text/plain": [
       "['and', 'be', 'for', 'have', 'in', 'is', 'it', 'may', 'my', 'not']"
      ]
     },
     "execution_count": 35,
     "metadata": {},
     "output_type": "execute_result"
    }
   ],
   "source": [
    "vectorizer.get_feature_names()[0:10]"
   ]
  },
  {
   "cell_type": "code",
   "execution_count": 40,
   "id": "burning-retailer",
   "metadata": {},
   "outputs": [],
   "source": [
    "doc_term = pd.DataFrame(sparse_counts.toarray(), index = list(range(len(paragraphs))), \n",
    "                            columns = vectorizer.get_feature_names())"
   ]
  },
  {
   "cell_type": "code",
   "execution_count": 41,
   "id": "graduate-freeze",
   "metadata": {},
   "outputs": [
    {
     "data": {
      "text/html": [
       "<div>\n",
       "<style scoped>\n",
       "    .dataframe tbody tr th:only-of-type {\n",
       "        vertical-align: middle;\n",
       "    }\n",
       "\n",
       "    .dataframe tbody tr th {\n",
       "        vertical-align: top;\n",
       "    }\n",
       "\n",
       "    .dataframe thead th {\n",
       "        text-align: right;\n",
       "    }\n",
       "</style>\n",
       "<table border=\"1\" class=\"dataframe\">\n",
       "  <thead>\n",
       "    <tr style=\"text-align: right;\">\n",
       "      <th></th>\n",
       "      <th>and</th>\n",
       "      <th>be</th>\n",
       "      <th>for</th>\n",
       "      <th>have</th>\n",
       "      <th>in</th>\n",
       "      <th>is</th>\n",
       "      <th>it</th>\n",
       "      <th>may</th>\n",
       "      <th>my</th>\n",
       "      <th>not</th>\n",
       "      <th>of</th>\n",
       "      <th>or</th>\n",
       "      <th>shall</th>\n",
       "      <th>teralbay</th>\n",
       "      <th>that</th>\n",
       "      <th>the</th>\n",
       "      <th>this</th>\n",
       "      <th>to</th>\n",
       "      <th>word</th>\n",
       "      <th>you</th>\n",
       "    </tr>\n",
       "  </thead>\n",
       "  <tbody>\n",
       "    <tr>\n",
       "      <th>0</th>\n",
       "      <td>2</td>\n",
       "      <td>1</td>\n",
       "      <td>2</td>\n",
       "      <td>2</td>\n",
       "      <td>1</td>\n",
       "      <td>1</td>\n",
       "      <td>1</td>\n",
       "      <td>0</td>\n",
       "      <td>3</td>\n",
       "      <td>0</td>\n",
       "      <td>2</td>\n",
       "      <td>0</td>\n",
       "      <td>0</td>\n",
       "      <td>1</td>\n",
       "      <td>2</td>\n",
       "      <td>5</td>\n",
       "      <td>1</td>\n",
       "      <td>2</td>\n",
       "      <td>2</td>\n",
       "      <td>1</td>\n",
       "    </tr>\n",
       "    <tr>\n",
       "      <th>1</th>\n",
       "      <td>0</td>\n",
       "      <td>0</td>\n",
       "      <td>0</td>\n",
       "      <td>0</td>\n",
       "      <td>0</td>\n",
       "      <td>0</td>\n",
       "      <td>0</td>\n",
       "      <td>0</td>\n",
       "      <td>0</td>\n",
       "      <td>0</td>\n",
       "      <td>0</td>\n",
       "      <td>0</td>\n",
       "      <td>0</td>\n",
       "      <td>0</td>\n",
       "      <td>0</td>\n",
       "      <td>0</td>\n",
       "      <td>0</td>\n",
       "      <td>0</td>\n",
       "      <td>0</td>\n",
       "      <td>0</td>\n",
       "    </tr>\n",
       "    <tr>\n",
       "      <th>2</th>\n",
       "      <td>4</td>\n",
       "      <td>2</td>\n",
       "      <td>1</td>\n",
       "      <td>1</td>\n",
       "      <td>1</td>\n",
       "      <td>4</td>\n",
       "      <td>5</td>\n",
       "      <td>0</td>\n",
       "      <td>1</td>\n",
       "      <td>2</td>\n",
       "      <td>5</td>\n",
       "      <td>1</td>\n",
       "      <td>0</td>\n",
       "      <td>2</td>\n",
       "      <td>2</td>\n",
       "      <td>5</td>\n",
       "      <td>6</td>\n",
       "      <td>6</td>\n",
       "      <td>5</td>\n",
       "      <td>0</td>\n",
       "    </tr>\n",
       "    <tr>\n",
       "      <th>3</th>\n",
       "      <td>0</td>\n",
       "      <td>0</td>\n",
       "      <td>0</td>\n",
       "      <td>0</td>\n",
       "      <td>0</td>\n",
       "      <td>0</td>\n",
       "      <td>0</td>\n",
       "      <td>0</td>\n",
       "      <td>0</td>\n",
       "      <td>0</td>\n",
       "      <td>0</td>\n",
       "      <td>0</td>\n",
       "      <td>0</td>\n",
       "      <td>0</td>\n",
       "      <td>0</td>\n",
       "      <td>0</td>\n",
       "      <td>0</td>\n",
       "      <td>0</td>\n",
       "      <td>0</td>\n",
       "      <td>0</td>\n",
       "    </tr>\n",
       "    <tr>\n",
       "      <th>4</th>\n",
       "      <td>3</td>\n",
       "      <td>4</td>\n",
       "      <td>1</td>\n",
       "      <td>0</td>\n",
       "      <td>1</td>\n",
       "      <td>4</td>\n",
       "      <td>9</td>\n",
       "      <td>2</td>\n",
       "      <td>0</td>\n",
       "      <td>1</td>\n",
       "      <td>3</td>\n",
       "      <td>3</td>\n",
       "      <td>0</td>\n",
       "      <td>1</td>\n",
       "      <td>1</td>\n",
       "      <td>2</td>\n",
       "      <td>4</td>\n",
       "      <td>2</td>\n",
       "      <td>0</td>\n",
       "      <td>6</td>\n",
       "    </tr>\n",
       "    <tr>\n",
       "      <th>5</th>\n",
       "      <td>0</td>\n",
       "      <td>0</td>\n",
       "      <td>0</td>\n",
       "      <td>0</td>\n",
       "      <td>0</td>\n",
       "      <td>0</td>\n",
       "      <td>0</td>\n",
       "      <td>0</td>\n",
       "      <td>0</td>\n",
       "      <td>0</td>\n",
       "      <td>0</td>\n",
       "      <td>0</td>\n",
       "      <td>0</td>\n",
       "      <td>0</td>\n",
       "      <td>0</td>\n",
       "      <td>0</td>\n",
       "      <td>0</td>\n",
       "      <td>0</td>\n",
       "      <td>0</td>\n",
       "      <td>0</td>\n",
       "    </tr>\n",
       "    <tr>\n",
       "      <th>6</th>\n",
       "      <td>2</td>\n",
       "      <td>2</td>\n",
       "      <td>2</td>\n",
       "      <td>2</td>\n",
       "      <td>1</td>\n",
       "      <td>1</td>\n",
       "      <td>5</td>\n",
       "      <td>3</td>\n",
       "      <td>1</td>\n",
       "      <td>1</td>\n",
       "      <td>3</td>\n",
       "      <td>0</td>\n",
       "      <td>0</td>\n",
       "      <td>1</td>\n",
       "      <td>6</td>\n",
       "      <td>3</td>\n",
       "      <td>1</td>\n",
       "      <td>2</td>\n",
       "      <td>1</td>\n",
       "      <td>7</td>\n",
       "    </tr>\n",
       "    <tr>\n",
       "      <th>7</th>\n",
       "      <td>0</td>\n",
       "      <td>0</td>\n",
       "      <td>0</td>\n",
       "      <td>0</td>\n",
       "      <td>0</td>\n",
       "      <td>0</td>\n",
       "      <td>0</td>\n",
       "      <td>0</td>\n",
       "      <td>0</td>\n",
       "      <td>0</td>\n",
       "      <td>0</td>\n",
       "      <td>0</td>\n",
       "      <td>0</td>\n",
       "      <td>0</td>\n",
       "      <td>0</td>\n",
       "      <td>0</td>\n",
       "      <td>0</td>\n",
       "      <td>0</td>\n",
       "      <td>0</td>\n",
       "      <td>0</td>\n",
       "    </tr>\n",
       "    <tr>\n",
       "      <th>8</th>\n",
       "      <td>3</td>\n",
       "      <td>0</td>\n",
       "      <td>0</td>\n",
       "      <td>2</td>\n",
       "      <td>2</td>\n",
       "      <td>3</td>\n",
       "      <td>2</td>\n",
       "      <td>0</td>\n",
       "      <td>0</td>\n",
       "      <td>4</td>\n",
       "      <td>2</td>\n",
       "      <td>2</td>\n",
       "      <td>0</td>\n",
       "      <td>0</td>\n",
       "      <td>3</td>\n",
       "      <td>2</td>\n",
       "      <td>2</td>\n",
       "      <td>1</td>\n",
       "      <td>0</td>\n",
       "      <td>0</td>\n",
       "    </tr>\n",
       "    <tr>\n",
       "      <th>9</th>\n",
       "      <td>0</td>\n",
       "      <td>0</td>\n",
       "      <td>0</td>\n",
       "      <td>0</td>\n",
       "      <td>0</td>\n",
       "      <td>0</td>\n",
       "      <td>0</td>\n",
       "      <td>0</td>\n",
       "      <td>0</td>\n",
       "      <td>0</td>\n",
       "      <td>0</td>\n",
       "      <td>0</td>\n",
       "      <td>0</td>\n",
       "      <td>0</td>\n",
       "      <td>0</td>\n",
       "      <td>0</td>\n",
       "      <td>0</td>\n",
       "      <td>0</td>\n",
       "      <td>0</td>\n",
       "      <td>0</td>\n",
       "    </tr>\n",
       "    <tr>\n",
       "      <th>10</th>\n",
       "      <td>0</td>\n",
       "      <td>0</td>\n",
       "      <td>0</td>\n",
       "      <td>0</td>\n",
       "      <td>0</td>\n",
       "      <td>0</td>\n",
       "      <td>0</td>\n",
       "      <td>0</td>\n",
       "      <td>0</td>\n",
       "      <td>0</td>\n",
       "      <td>0</td>\n",
       "      <td>0</td>\n",
       "      <td>0</td>\n",
       "      <td>0</td>\n",
       "      <td>0</td>\n",
       "      <td>0</td>\n",
       "      <td>0</td>\n",
       "      <td>0</td>\n",
       "      <td>0</td>\n",
       "      <td>0</td>\n",
       "    </tr>\n",
       "    <tr>\n",
       "      <th>11</th>\n",
       "      <td>0</td>\n",
       "      <td>0</td>\n",
       "      <td>0</td>\n",
       "      <td>0</td>\n",
       "      <td>0</td>\n",
       "      <td>0</td>\n",
       "      <td>0</td>\n",
       "      <td>0</td>\n",
       "      <td>0</td>\n",
       "      <td>0</td>\n",
       "      <td>0</td>\n",
       "      <td>0</td>\n",
       "      <td>0</td>\n",
       "      <td>0</td>\n",
       "      <td>0</td>\n",
       "      <td>0</td>\n",
       "      <td>0</td>\n",
       "      <td>0</td>\n",
       "      <td>0</td>\n",
       "      <td>0</td>\n",
       "    </tr>\n",
       "    <tr>\n",
       "      <th>12</th>\n",
       "      <td>0</td>\n",
       "      <td>2</td>\n",
       "      <td>0</td>\n",
       "      <td>0</td>\n",
       "      <td>0</td>\n",
       "      <td>1</td>\n",
       "      <td>1</td>\n",
       "      <td>0</td>\n",
       "      <td>2</td>\n",
       "      <td>0</td>\n",
       "      <td>0</td>\n",
       "      <td>0</td>\n",
       "      <td>4</td>\n",
       "      <td>5</td>\n",
       "      <td>1</td>\n",
       "      <td>3</td>\n",
       "      <td>0</td>\n",
       "      <td>0</td>\n",
       "      <td>0</td>\n",
       "      <td>0</td>\n",
       "    </tr>\n",
       "    <tr>\n",
       "      <th>13</th>\n",
       "      <td>0</td>\n",
       "      <td>0</td>\n",
       "      <td>0</td>\n",
       "      <td>0</td>\n",
       "      <td>0</td>\n",
       "      <td>0</td>\n",
       "      <td>0</td>\n",
       "      <td>0</td>\n",
       "      <td>0</td>\n",
       "      <td>0</td>\n",
       "      <td>0</td>\n",
       "      <td>0</td>\n",
       "      <td>0</td>\n",
       "      <td>0</td>\n",
       "      <td>0</td>\n",
       "      <td>0</td>\n",
       "      <td>0</td>\n",
       "      <td>0</td>\n",
       "      <td>0</td>\n",
       "      <td>0</td>\n",
       "    </tr>\n",
       "    <tr>\n",
       "      <th>14</th>\n",
       "      <td>0</td>\n",
       "      <td>1</td>\n",
       "      <td>0</td>\n",
       "      <td>1</td>\n",
       "      <td>2</td>\n",
       "      <td>2</td>\n",
       "      <td>4</td>\n",
       "      <td>0</td>\n",
       "      <td>0</td>\n",
       "      <td>0</td>\n",
       "      <td>3</td>\n",
       "      <td>2</td>\n",
       "      <td>0</td>\n",
       "      <td>0</td>\n",
       "      <td>3</td>\n",
       "      <td>3</td>\n",
       "      <td>0</td>\n",
       "      <td>3</td>\n",
       "      <td>1</td>\n",
       "      <td>1</td>\n",
       "    </tr>\n",
       "    <tr>\n",
       "      <th>15</th>\n",
       "      <td>0</td>\n",
       "      <td>0</td>\n",
       "      <td>0</td>\n",
       "      <td>0</td>\n",
       "      <td>0</td>\n",
       "      <td>0</td>\n",
       "      <td>0</td>\n",
       "      <td>0</td>\n",
       "      <td>0</td>\n",
       "      <td>0</td>\n",
       "      <td>0</td>\n",
       "      <td>0</td>\n",
       "      <td>0</td>\n",
       "      <td>0</td>\n",
       "      <td>0</td>\n",
       "      <td>0</td>\n",
       "      <td>0</td>\n",
       "      <td>0</td>\n",
       "      <td>0</td>\n",
       "      <td>0</td>\n",
       "    </tr>\n",
       "    <tr>\n",
       "      <th>16</th>\n",
       "      <td>0</td>\n",
       "      <td>2</td>\n",
       "      <td>1</td>\n",
       "      <td>1</td>\n",
       "      <td>2</td>\n",
       "      <td>0</td>\n",
       "      <td>4</td>\n",
       "      <td>0</td>\n",
       "      <td>0</td>\n",
       "      <td>1</td>\n",
       "      <td>2</td>\n",
       "      <td>3</td>\n",
       "      <td>2</td>\n",
       "      <td>0</td>\n",
       "      <td>0</td>\n",
       "      <td>5</td>\n",
       "      <td>1</td>\n",
       "      <td>5</td>\n",
       "      <td>1</td>\n",
       "      <td>3</td>\n",
       "    </tr>\n",
       "    <tr>\n",
       "      <th>17</th>\n",
       "      <td>0</td>\n",
       "      <td>0</td>\n",
       "      <td>0</td>\n",
       "      <td>0</td>\n",
       "      <td>0</td>\n",
       "      <td>0</td>\n",
       "      <td>0</td>\n",
       "      <td>0</td>\n",
       "      <td>0</td>\n",
       "      <td>0</td>\n",
       "      <td>0</td>\n",
       "      <td>0</td>\n",
       "      <td>0</td>\n",
       "      <td>0</td>\n",
       "      <td>0</td>\n",
       "      <td>0</td>\n",
       "      <td>0</td>\n",
       "      <td>0</td>\n",
       "      <td>0</td>\n",
       "      <td>0</td>\n",
       "    </tr>\n",
       "    <tr>\n",
       "      <th>18</th>\n",
       "      <td>6</td>\n",
       "      <td>0</td>\n",
       "      <td>3</td>\n",
       "      <td>0</td>\n",
       "      <td>3</td>\n",
       "      <td>0</td>\n",
       "      <td>0</td>\n",
       "      <td>1</td>\n",
       "      <td>2</td>\n",
       "      <td>0</td>\n",
       "      <td>3</td>\n",
       "      <td>0</td>\n",
       "      <td>4</td>\n",
       "      <td>1</td>\n",
       "      <td>0</td>\n",
       "      <td>6</td>\n",
       "      <td>0</td>\n",
       "      <td>5</td>\n",
       "      <td>1</td>\n",
       "      <td>0</td>\n",
       "    </tr>\n",
       "    <tr>\n",
       "      <th>19</th>\n",
       "      <td>0</td>\n",
       "      <td>0</td>\n",
       "      <td>0</td>\n",
       "      <td>0</td>\n",
       "      <td>0</td>\n",
       "      <td>0</td>\n",
       "      <td>0</td>\n",
       "      <td>0</td>\n",
       "      <td>0</td>\n",
       "      <td>0</td>\n",
       "      <td>0</td>\n",
       "      <td>0</td>\n",
       "      <td>0</td>\n",
       "      <td>0</td>\n",
       "      <td>0</td>\n",
       "      <td>0</td>\n",
       "      <td>0</td>\n",
       "      <td>0</td>\n",
       "      <td>0</td>\n",
       "      <td>0</td>\n",
       "    </tr>\n",
       "    <tr>\n",
       "      <th>20</th>\n",
       "      <td>1</td>\n",
       "      <td>2</td>\n",
       "      <td>2</td>\n",
       "      <td>1</td>\n",
       "      <td>0</td>\n",
       "      <td>1</td>\n",
       "      <td>1</td>\n",
       "      <td>2</td>\n",
       "      <td>3</td>\n",
       "      <td>1</td>\n",
       "      <td>3</td>\n",
       "      <td>2</td>\n",
       "      <td>0</td>\n",
       "      <td>1</td>\n",
       "      <td>1</td>\n",
       "      <td>6</td>\n",
       "      <td>1</td>\n",
       "      <td>2</td>\n",
       "      <td>0</td>\n",
       "      <td>0</td>\n",
       "    </tr>\n",
       "    <tr>\n",
       "      <th>21</th>\n",
       "      <td>0</td>\n",
       "      <td>0</td>\n",
       "      <td>0</td>\n",
       "      <td>0</td>\n",
       "      <td>0</td>\n",
       "      <td>0</td>\n",
       "      <td>0</td>\n",
       "      <td>0</td>\n",
       "      <td>0</td>\n",
       "      <td>0</td>\n",
       "      <td>0</td>\n",
       "      <td>0</td>\n",
       "      <td>0</td>\n",
       "      <td>0</td>\n",
       "      <td>0</td>\n",
       "      <td>0</td>\n",
       "      <td>0</td>\n",
       "      <td>0</td>\n",
       "      <td>0</td>\n",
       "      <td>0</td>\n",
       "    </tr>\n",
       "    <tr>\n",
       "      <th>22</th>\n",
       "      <td>0</td>\n",
       "      <td>0</td>\n",
       "      <td>0</td>\n",
       "      <td>1</td>\n",
       "      <td>0</td>\n",
       "      <td>0</td>\n",
       "      <td>1</td>\n",
       "      <td>0</td>\n",
       "      <td>0</td>\n",
       "      <td>0</td>\n",
       "      <td>0</td>\n",
       "      <td>0</td>\n",
       "      <td>0</td>\n",
       "      <td>0</td>\n",
       "      <td>0</td>\n",
       "      <td>0</td>\n",
       "      <td>0</td>\n",
       "      <td>0</td>\n",
       "      <td>0</td>\n",
       "      <td>0</td>\n",
       "    </tr>\n",
       "  </tbody>\n",
       "</table>\n",
       "</div>"
      ],
      "text/plain": [
       "    and  be  for  have  in  is  it  may  my  not  of  or  shall  teralbay  \\\n",
       "0     2   1    2     2   1   1   1    0   3    0   2   0      0         1   \n",
       "1     0   0    0     0   0   0   0    0   0    0   0   0      0         0   \n",
       "2     4   2    1     1   1   4   5    0   1    2   5   1      0         2   \n",
       "3     0   0    0     0   0   0   0    0   0    0   0   0      0         0   \n",
       "4     3   4    1     0   1   4   9    2   0    1   3   3      0         1   \n",
       "5     0   0    0     0   0   0   0    0   0    0   0   0      0         0   \n",
       "6     2   2    2     2   1   1   5    3   1    1   3   0      0         1   \n",
       "7     0   0    0     0   0   0   0    0   0    0   0   0      0         0   \n",
       "8     3   0    0     2   2   3   2    0   0    4   2   2      0         0   \n",
       "9     0   0    0     0   0   0   0    0   0    0   0   0      0         0   \n",
       "10    0   0    0     0   0   0   0    0   0    0   0   0      0         0   \n",
       "11    0   0    0     0   0   0   0    0   0    0   0   0      0         0   \n",
       "12    0   2    0     0   0   1   1    0   2    0   0   0      4         5   \n",
       "13    0   0    0     0   0   0   0    0   0    0   0   0      0         0   \n",
       "14    0   1    0     1   2   2   4    0   0    0   3   2      0         0   \n",
       "15    0   0    0     0   0   0   0    0   0    0   0   0      0         0   \n",
       "16    0   2    1     1   2   0   4    0   0    1   2   3      2         0   \n",
       "17    0   0    0     0   0   0   0    0   0    0   0   0      0         0   \n",
       "18    6   0    3     0   3   0   0    1   2    0   3   0      4         1   \n",
       "19    0   0    0     0   0   0   0    0   0    0   0   0      0         0   \n",
       "20    1   2    2     1   0   1   1    2   3    1   3   2      0         1   \n",
       "21    0   0    0     0   0   0   0    0   0    0   0   0      0         0   \n",
       "22    0   0    0     1   0   0   1    0   0    0   0   0      0         0   \n",
       "\n",
       "    that  the  this  to  word  you  \n",
       "0      2    5     1   2     2    1  \n",
       "1      0    0     0   0     0    0  \n",
       "2      2    5     6   6     5    0  \n",
       "3      0    0     0   0     0    0  \n",
       "4      1    2     4   2     0    6  \n",
       "5      0    0     0   0     0    0  \n",
       "6      6    3     1   2     1    7  \n",
       "7      0    0     0   0     0    0  \n",
       "8      3    2     2   1     0    0  \n",
       "9      0    0     0   0     0    0  \n",
       "10     0    0     0   0     0    0  \n",
       "11     0    0     0   0     0    0  \n",
       "12     1    3     0   0     0    0  \n",
       "13     0    0     0   0     0    0  \n",
       "14     3    3     0   3     1    1  \n",
       "15     0    0     0   0     0    0  \n",
       "16     0    5     1   5     1    3  \n",
       "17     0    0     0   0     0    0  \n",
       "18     0    6     0   5     1    0  \n",
       "19     0    0     0   0     0    0  \n",
       "20     1    6     1   2     0    0  \n",
       "21     0    0     0   0     0    0  \n",
       "22     0    0     0   0     0    0  "
      ]
     },
     "execution_count": 41,
     "metadata": {},
     "output_type": "execute_result"
    }
   ],
   "source": [
    "doc_term"
   ]
  },
  {
   "cell_type": "code",
   "execution_count": 42,
   "id": "vulnerable-lawyer",
   "metadata": {},
   "outputs": [
    {
     "data": {
      "text/plain": [
       "0     1\n",
       "1     0\n",
       "2     2\n",
       "3     0\n",
       "4     1\n",
       "5     0\n",
       "6     1\n",
       "7     0\n",
       "8     0\n",
       "9     0\n",
       "10    0\n",
       "11    0\n",
       "12    5\n",
       "13    0\n",
       "14    0\n",
       "15    0\n",
       "16    0\n",
       "17    0\n",
       "18    1\n",
       "19    0\n",
       "20    1\n",
       "21    0\n",
       "22    0\n",
       "Name: teralbay, dtype: int64"
      ]
     },
     "execution_count": 42,
     "metadata": {},
     "output_type": "execute_result"
    }
   ],
   "source": [
    "doc_term['teralbay']"
   ]
  },
  {
   "cell_type": "code",
   "execution_count": 46,
   "id": "victorian-folder",
   "metadata": {},
   "outputs": [
    {
     "data": {
      "text/plain": [
       "23"
      ]
     },
     "execution_count": 46,
     "metadata": {},
     "output_type": "execute_result"
    }
   ],
   "source": [
    "rowsums = doc_term.sum(axis = 'columns') # notice, not intuitive!! opposite of intuitive!\n",
    "len(rowsums)"
   ]
  }
 ],
 "metadata": {
  "kernelspec": {
   "display_name": "Python 3",
   "language": "python",
   "name": "python3"
  },
  "language_info": {
   "codemirror_mode": {
    "name": "ipython",
    "version": 3
   },
   "file_extension": ".py",
   "mimetype": "text/x-python",
   "name": "python",
   "nbconvert_exporter": "python",
   "pygments_lexer": "ipython3",
   "version": "3.7.6"
  }
 },
 "nbformat": 4,
 "nbformat_minor": 5
}
