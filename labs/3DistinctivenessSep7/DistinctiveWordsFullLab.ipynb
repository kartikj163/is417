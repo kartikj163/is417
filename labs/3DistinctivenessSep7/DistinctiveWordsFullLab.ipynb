{
 "cells": [
  {
   "cell_type": "markdown",
   "id": "alleged-spanish",
   "metadata": {},
   "source": [
    "# Probability and Distinctive Words\n",
    "\n",
    "This notebook has three parts. \n",
    "\n",
    "1. We start by reviewing the Pearson correlation coefficient and the concept of a *p* value.\n",
    "\n",
    "2. Then we ask how much we can learn about a film from its title. We construct a *term-document* matrix for the films in *The Pudding* dataset, practice different ways of finding distinctive words, and review probability notation.\n",
    "\n",
    "3. Finally (if we get to it) we'll consider different ways of predicting a film's gender balance from its title, mainly in order to expose a problem with straightforward linear regression.\n",
    "\n",
    "As usual, we start by importing some familiar useful modules."
   ]
  },
  {
   "cell_type": "code",
   "execution_count": 1,
   "id": "thousand-january",
   "metadata": {},
   "outputs": [],
   "source": [
    "import pandas as pd\n",
    "import numpy as np\n",
    "from pathlib import Path\n",
    "from scipy.stats import pearsonr\n",
    "from matplotlib import pyplot as plt\n",
    "import math\n",
    "pd.set_option('display.max_rows', 100)"
   ]
  },
  {
   "cell_type": "markdown",
   "id": "proprietary-saudi",
   "metadata": {},
   "source": [
    "Last time we did a lot of merging datasets in order to construct a single table with all the information we need in one place, including the fraction of words in each film spoken by women. I've written that dataset to disk and saved it in the repo, using the \"to_csv\" command:\n",
    "\n",
    "    titledata.to_csv('titledata_movies.tsv', sep = '\\t', index = False)\n",
    "\n",
    "\n",
    "Now we can load it using the ```read_csv``` command. Notice that we have to specify that this is a tab-separated file, because that's how I saved it."
   ]
  },
  {
   "cell_type": "code",
   "execution_count": 2,
   "id": "beginning-membership",
   "metadata": {},
   "outputs": [],
   "source": [
    "title = pd.read_csv('titledata_movies.tsv', sep = '\\t', encoding = 'utf-8')"
   ]
  },
  {
   "cell_type": "markdown",
   "id": "requested-interaction",
   "metadata": {},
   "source": [
    "The ```.head()``` function is a good way to remind ourselves of the column titles. Let's also rename 'year' to 'releaseyr'; later on we're going to have word frequencies for the word 'year' and it could get confusing."
   ]
  },
  {
   "cell_type": "code",
   "execution_count": 3,
   "id": "fuzzy-family",
   "metadata": {},
   "outputs": [
    {
     "data": {
      "text/html": [
       "<div>\n",
       "<style scoped>\n",
       "    .dataframe tbody tr th:only-of-type {\n",
       "        vertical-align: middle;\n",
       "    }\n",
       "\n",
       "    .dataframe tbody tr th {\n",
       "        vertical-align: top;\n",
       "    }\n",
       "\n",
       "    .dataframe thead th {\n",
       "        text-align: right;\n",
       "    }\n",
       "</style>\n",
       "<table border=\"1\" class=\"dataframe\">\n",
       "  <thead>\n",
       "    <tr style=\"text-align: right;\">\n",
       "      <th></th>\n",
       "      <th>title</th>\n",
       "      <th>words_men</th>\n",
       "      <th>words_women</th>\n",
       "      <th>frac_women</th>\n",
       "      <th>script_id</th>\n",
       "      <th>imdb_id</th>\n",
       "      <th>releaseyr</th>\n",
       "      <th>gross</th>\n",
       "    </tr>\n",
       "  </thead>\n",
       "  <tbody>\n",
       "    <tr>\n",
       "      <th>0</th>\n",
       "      <td>(500) Days of Summer</td>\n",
       "      <td>12762.0</td>\n",
       "      <td>5738.0</td>\n",
       "      <td>0.310162</td>\n",
       "      <td>1534</td>\n",
       "      <td>tt1022603</td>\n",
       "      <td>2009</td>\n",
       "      <td>37.0</td>\n",
       "    </tr>\n",
       "    <tr>\n",
       "      <th>1</th>\n",
       "      <td>10 Things I Hate About You</td>\n",
       "      <td>10688.0</td>\n",
       "      <td>8992.0</td>\n",
       "      <td>0.456911</td>\n",
       "      <td>1512</td>\n",
       "      <td>tt0147800</td>\n",
       "      <td>1999</td>\n",
       "      <td>65.0</td>\n",
       "    </tr>\n",
       "    <tr>\n",
       "      <th>2</th>\n",
       "      <td>12 Years a Slave</td>\n",
       "      <td>16176.0</td>\n",
       "      <td>3452.0</td>\n",
       "      <td>0.175871</td>\n",
       "      <td>1517</td>\n",
       "      <td>tt2024544</td>\n",
       "      <td>2013</td>\n",
       "      <td>60.0</td>\n",
       "    </tr>\n",
       "    <tr>\n",
       "      <th>3</th>\n",
       "      <td>12 and Holding</td>\n",
       "      <td>10644.0</td>\n",
       "      <td>5324.0</td>\n",
       "      <td>0.333417</td>\n",
       "      <td>1514</td>\n",
       "      <td>tt0417385</td>\n",
       "      <td>2005</td>\n",
       "      <td>NaN</td>\n",
       "    </tr>\n",
       "    <tr>\n",
       "      <th>4</th>\n",
       "      <td>127 Hours</td>\n",
       "      <td>4336.0</td>\n",
       "      <td>809.0</td>\n",
       "      <td>0.157240</td>\n",
       "      <td>1520</td>\n",
       "      <td>tt1542344</td>\n",
       "      <td>2010</td>\n",
       "      <td>20.0</td>\n",
       "    </tr>\n",
       "  </tbody>\n",
       "</table>\n",
       "</div>"
      ],
      "text/plain": [
       "                        title  words_men  words_women  frac_women  script_id  \\\n",
       "0        (500) Days of Summer    12762.0       5738.0    0.310162       1534   \n",
       "1  10 Things I Hate About You    10688.0       8992.0    0.456911       1512   \n",
       "2            12 Years a Slave    16176.0       3452.0    0.175871       1517   \n",
       "3              12 and Holding    10644.0       5324.0    0.333417       1514   \n",
       "4                   127 Hours     4336.0        809.0    0.157240       1520   \n",
       "\n",
       "     imdb_id  releaseyr  gross  \n",
       "0  tt1022603       2009   37.0  \n",
       "1  tt0147800       1999   65.0  \n",
       "2  tt2024544       2013   60.0  \n",
       "3  tt0417385       2005    NaN  \n",
       "4  tt1542344       2010   20.0  "
      ]
     },
     "execution_count": 3,
     "metadata": {},
     "output_type": "execute_result"
    }
   ],
   "source": [
    "title = title.rename(columns = {'year': 'releaseyr'})\n",
    "title.head()"
   ]
  },
  {
   "cell_type": "code",
   "execution_count": 4,
   "id": "dried-indianapolis",
   "metadata": {},
   "outputs": [
    {
     "data": {
      "text/html": [
       "<div>\n",
       "<style scoped>\n",
       "    .dataframe tbody tr th:only-of-type {\n",
       "        vertical-align: middle;\n",
       "    }\n",
       "\n",
       "    .dataframe tbody tr th {\n",
       "        vertical-align: top;\n",
       "    }\n",
       "\n",
       "    .dataframe thead th {\n",
       "        text-align: right;\n",
       "    }\n",
       "</style>\n",
       "<table border=\"1\" class=\"dataframe\">\n",
       "  <thead>\n",
       "    <tr style=\"text-align: right;\">\n",
       "      <th></th>\n",
       "      <th>title</th>\n",
       "      <th>words_men</th>\n",
       "      <th>words_women</th>\n",
       "      <th>frac_women</th>\n",
       "      <th>script_id</th>\n",
       "      <th>imdb_id</th>\n",
       "      <th>releaseyr</th>\n",
       "      <th>gross</th>\n",
       "    </tr>\n",
       "  </thead>\n",
       "  <tbody>\n",
       "    <tr>\n",
       "      <th>0</th>\n",
       "      <td>(500) Days of Summer</td>\n",
       "      <td>12762.0</td>\n",
       "      <td>5738.0</td>\n",
       "      <td>0.310162</td>\n",
       "      <td>1534</td>\n",
       "      <td>tt1022603</td>\n",
       "      <td>2009</td>\n",
       "      <td>37.000000</td>\n",
       "    </tr>\n",
       "    <tr>\n",
       "      <th>1</th>\n",
       "      <td>10 Things I Hate About You</td>\n",
       "      <td>10688.0</td>\n",
       "      <td>8992.0</td>\n",
       "      <td>0.456911</td>\n",
       "      <td>1512</td>\n",
       "      <td>tt0147800</td>\n",
       "      <td>1999</td>\n",
       "      <td>65.000000</td>\n",
       "    </tr>\n",
       "    <tr>\n",
       "      <th>2</th>\n",
       "      <td>12 Years a Slave</td>\n",
       "      <td>16176.0</td>\n",
       "      <td>3452.0</td>\n",
       "      <td>0.175871</td>\n",
       "      <td>1517</td>\n",
       "      <td>tt2024544</td>\n",
       "      <td>2013</td>\n",
       "      <td>60.000000</td>\n",
       "    </tr>\n",
       "    <tr>\n",
       "      <th>3</th>\n",
       "      <td>12 and Holding</td>\n",
       "      <td>10644.0</td>\n",
       "      <td>5324.0</td>\n",
       "      <td>0.333417</td>\n",
       "      <td>1514</td>\n",
       "      <td>tt0417385</td>\n",
       "      <td>2005</td>\n",
       "      <td>103.940433</td>\n",
       "    </tr>\n",
       "    <tr>\n",
       "      <th>4</th>\n",
       "      <td>127 Hours</td>\n",
       "      <td>4336.0</td>\n",
       "      <td>809.0</td>\n",
       "      <td>0.157240</td>\n",
       "      <td>1520</td>\n",
       "      <td>tt1542344</td>\n",
       "      <td>2010</td>\n",
       "      <td>20.000000</td>\n",
       "    </tr>\n",
       "  </tbody>\n",
       "</table>\n",
       "</div>"
      ],
      "text/plain": [
       "                        title  words_men  words_women  frac_women  script_id  \\\n",
       "0        (500) Days of Summer    12762.0       5738.0    0.310162       1534   \n",
       "1  10 Things I Hate About You    10688.0       8992.0    0.456911       1512   \n",
       "2            12 Years a Slave    16176.0       3452.0    0.175871       1517   \n",
       "3              12 and Holding    10644.0       5324.0    0.333417       1514   \n",
       "4                   127 Hours     4336.0        809.0    0.157240       1520   \n",
       "\n",
       "     imdb_id  releaseyr       gross  \n",
       "0  tt1022603       2009   37.000000  \n",
       "1  tt0147800       1999   65.000000  \n",
       "2  tt2024544       2013   60.000000  \n",
       "3  tt0417385       2005  103.940433  \n",
       "4  tt1542344       2010   20.000000  "
      ]
     },
     "execution_count": 4,
     "metadata": {},
     "output_type": "execute_result"
    }
   ],
   "source": [
    "title = title.fillna(value = np.nanmean(title['gross']))\n",
    "title.head()"
   ]
  },
  {
   "cell_type": "markdown",
   "id": "tutorial-radiation",
   "metadata": {},
   "source": [
    "## 1. Reviewing the Pearson correlation coefficient\n",
    "\n",
    "You'll recall that there was a weak positive correlation between ```releaseyr``` and the proportion of dialogue spoken by women."
   ]
  },
  {
   "cell_type": "code",
   "execution_count": 5,
   "id": "legislative-numbers",
   "metadata": {},
   "outputs": [
    {
     "data": {
      "text/plain": [
       "<AxesSubplot:xlabel='releaseyr', ylabel='frac_women'>"
      ]
     },
     "execution_count": 5,
     "metadata": {},
     "output_type": "execute_result"
    },
    {
     "data": {
      "image/png": "[encoded data removed]",
      "text/plain": [
       "<Figure size 432x288 with 1 Axes>"
      ]
     },
     "metadata": {
      "needs_background": "light"
     },
     "output_type": "display_data"
    }
   ],
   "source": [
    "title.plot(kind = 'scatter', x = 'releaseyr', y = 'frac_women')"
   ]
  },
  {
   "cell_type": "code",
   "execution_count": 6,
   "id": "brutal-evening",
   "metadata": {},
   "outputs": [
    {
     "data": {
      "text/plain": [
       "(0.09236705889251742, 3.5180809095464426e-05)"
      ]
     },
     "execution_count": 6,
     "metadata": {},
     "output_type": "execute_result"
    }
   ],
   "source": [
    "pearsonr(title['releaseyr'], title['frac_women'])"
   ]
  },
  {
   "cell_type": "markdown",
   "id": "vocal-india",
   "metadata": {},
   "source": [
    "The *r* value, measuring the strength of the correlation, is .092.\n",
    "\n",
    "Let's get a better feeling for what that really means.\n",
    "\n",
    "We'll use an artificial data-generation process.\n",
    "\n",
    "The following cell will generate 100 data points randomly, and then add a relationship between them that you can adjust by changing the value of *relationship_strength* from a large negative number to a large positive one."
   ]
  },
  {
   "cell_type": "code",
   "execution_count": 7,
   "id": "canadian-democrat",
   "metadata": {},
   "outputs": [
    {
     "name": "stdout",
     "output_type": "stream",
     "text": [
      "R for this sample is  -0.3891\n",
      "and the p value is 6.310251103173103e-05\n"
     ]
    },
    {
     "data": {
      "image/png": "[encoded data removed]",
      "text/plain": [
       "<Figure size 432x288 with 1 Axes>"
      ]
     },
     "metadata": {
      "needs_background": "light"
     },
     "output_type": "display_data"
    }
   ],
   "source": [
    "relationship_strength = -0.4\n",
    "\n",
    "x = np.random.normal(loc = 50, scale = 25, size = 100)\n",
    "y = np.random.normal(loc = 50, scale = 25, size = 100) + (x - 50) * relationship_strength\n",
    "\n",
    "plt.scatter(x, y)\n",
    "plt.ylim(-75, 200)\n",
    "r, p = pearsonr(x, y)\n",
    "print('R for this sample is ', round(r, 5))\n",
    "print('and the p value is', p)"
   ]
  },
  {
   "cell_type": "markdown",
   "id": "collect-occasions",
   "metadata": {},
   "source": [
    "As you change the number, observe what happens to the cloud of points and the *r* statistic.\n",
    "\n",
    "The null hypothesis for correlation is that there is actually no relationship between x and y in the population from which the sample was drawn; according to the null hypothesis, the true population correlation coefficient is 0. \n",
    "\n",
    "The p value indicates how often we would see a correlation of the observed strength in a random sample from such a population.\n",
    "\n",
    "## 2. Titles and gender\n",
    "\n",
    "We've measured the obvious quantitative relationships in this dataset. But there might be more to learn. For instance, if we want to understand why movies display such a strong male bias, we might be curious whether the problem is limited to a few types of movies, or whether it's widespread.\n",
    "\n",
    "We don't have a \"genre\" column in this dataset (and genre categorization might be controversial anyway). But we can begin to learn *something* about the relationship between a movie's content (or marketing) and its gender bias by investigating titles.\n",
    "\n",
    "One crude way to do this is just to sort the data."
   ]
  },
  {
   "cell_type": "code",
   "execution_count": 8,
   "id": "reasonable-childhood",
   "metadata": {},
   "outputs": [
    {
     "data": {
      "text/html": [
       "<div>\n",
       "<style scoped>\n",
       "    .dataframe tbody tr th:only-of-type {\n",
       "        vertical-align: middle;\n",
       "    }\n",
       "\n",
       "    .dataframe tbody tr th {\n",
       "        vertical-align: top;\n",
       "    }\n",
       "\n",
       "    .dataframe thead th {\n",
       "        text-align: right;\n",
       "    }\n",
       "</style>\n",
       "<table border=\"1\" class=\"dataframe\">\n",
       "  <thead>\n",
       "    <tr style=\"text-align: right;\">\n",
       "      <th></th>\n",
       "      <th>title</th>\n",
       "      <th>words_men</th>\n",
       "      <th>words_women</th>\n",
       "      <th>frac_women</th>\n",
       "      <th>script_id</th>\n",
       "      <th>imdb_id</th>\n",
       "      <th>releaseyr</th>\n",
       "      <th>gross</th>\n",
       "    </tr>\n",
       "  </thead>\n",
       "  <tbody>\n",
       "    <tr>\n",
       "      <th>1999</th>\n",
       "      <td>There Will Be Blood</td>\n",
       "      <td>8052.0</td>\n",
       "      <td>0.0</td>\n",
       "      <td>0.0</td>\n",
       "      <td>6000</td>\n",
       "      <td>tt0469494</td>\n",
       "      <td>2007</td>\n",
       "      <td>50.000000</td>\n",
       "    </tr>\n",
       "    <tr>\n",
       "      <th>1968</th>\n",
       "      <td>Kiss of the Spider Woman</td>\n",
       "      <td>7419.0</td>\n",
       "      <td>0.0</td>\n",
       "      <td>0.0</td>\n",
       "      <td>2711</td>\n",
       "      <td>tt0089424</td>\n",
       "      <td>1985</td>\n",
       "      <td>103.940433</td>\n",
       "    </tr>\n",
       "    <tr>\n",
       "      <th>1990</th>\n",
       "      <td>The Bunker</td>\n",
       "      <td>6248.0</td>\n",
       "      <td>0.0</td>\n",
       "      <td>0.0</td>\n",
       "      <td>3977</td>\n",
       "      <td>tt0252963</td>\n",
       "      <td>2001</td>\n",
       "      <td>103.940433</td>\n",
       "    </tr>\n",
       "    <tr>\n",
       "      <th>1975</th>\n",
       "      <td>Pat Garrett &amp; Billy the Kid</td>\n",
       "      <td>3133.0</td>\n",
       "      <td>0.0</td>\n",
       "      <td>0.0</td>\n",
       "      <td>7210</td>\n",
       "      <td>tt0070518</td>\n",
       "      <td>1973</td>\n",
       "      <td>103.940433</td>\n",
       "    </tr>\n",
       "    <tr>\n",
       "      <th>1989</th>\n",
       "      <td>The Battle of Algiers</td>\n",
       "      <td>6862.0</td>\n",
       "      <td>0.0</td>\n",
       "      <td>0.0</td>\n",
       "      <td>1780</td>\n",
       "      <td>tt0058946</td>\n",
       "      <td>1966</td>\n",
       "      <td>6.000000</td>\n",
       "    </tr>\n",
       "  </tbody>\n",
       "</table>\n",
       "</div>"
      ],
      "text/plain": [
       "                            title  words_men  words_women  frac_women  \\\n",
       "1999          There Will Be Blood     8052.0          0.0         0.0   \n",
       "1968     Kiss of the Spider Woman     7419.0          0.0         0.0   \n",
       "1990                   The Bunker     6248.0          0.0         0.0   \n",
       "1975  Pat Garrett & Billy the Kid     3133.0          0.0         0.0   \n",
       "1989        The Battle of Algiers     6862.0          0.0         0.0   \n",
       "\n",
       "      script_id    imdb_id  releaseyr       gross  \n",
       "1999       6000  tt0469494       2007   50.000000  \n",
       "1968       2711  tt0089424       1985  103.940433  \n",
       "1990       3977  tt0252963       2001  103.940433  \n",
       "1975       7210  tt0070518       1973  103.940433  \n",
       "1989       1780  tt0058946       1966    6.000000  "
      ]
     },
     "execution_count": 8,
     "metadata": {},
     "output_type": "execute_result"
    }
   ],
   "source": [
    "sorted_titles = title.sort_values(by = 'frac_women')\n",
    "sorted_titles.head()"
   ]
  },
  {
   "cell_type": "code",
   "execution_count": 9,
   "id": "sitting-cross",
   "metadata": {},
   "outputs": [
    {
     "data": {
      "text/html": [
       "<div>\n",
       "<style scoped>\n",
       "    .dataframe tbody tr th:only-of-type {\n",
       "        vertical-align: middle;\n",
       "    }\n",
       "\n",
       "    .dataframe tbody tr th {\n",
       "        vertical-align: top;\n",
       "    }\n",
       "\n",
       "    .dataframe thead th {\n",
       "        text-align: right;\n",
       "    }\n",
       "</style>\n",
       "<table border=\"1\" class=\"dataframe\">\n",
       "  <thead>\n",
       "    <tr style=\"text-align: right;\">\n",
       "      <th></th>\n",
       "      <th>title</th>\n",
       "      <th>words_men</th>\n",
       "      <th>words_women</th>\n",
       "      <th>frac_women</th>\n",
       "      <th>script_id</th>\n",
       "      <th>imdb_id</th>\n",
       "      <th>releaseyr</th>\n",
       "      <th>gross</th>\n",
       "    </tr>\n",
       "  </thead>\n",
       "  <tbody>\n",
       "    <tr>\n",
       "      <th>1558</th>\n",
       "      <td>The Hand That Rocks the Cradle</td>\n",
       "      <td>626.0</td>\n",
       "      <td>8823.0</td>\n",
       "      <td>0.933750</td>\n",
       "      <td>8480</td>\n",
       "      <td>tt0104389</td>\n",
       "      <td>1992</td>\n",
       "      <td>184.000000</td>\n",
       "    </tr>\n",
       "    <tr>\n",
       "      <th>902</th>\n",
       "      <td>Martyrs</td>\n",
       "      <td>109.0</td>\n",
       "      <td>3055.0</td>\n",
       "      <td>0.965550</td>\n",
       "      <td>8614</td>\n",
       "      <td>tt1663655</td>\n",
       "      <td>2015</td>\n",
       "      <td>103.940433</td>\n",
       "    </tr>\n",
       "    <tr>\n",
       "      <th>1101</th>\n",
       "      <td>Precious</td>\n",
       "      <td>114.0</td>\n",
       "      <td>17536.0</td>\n",
       "      <td>0.993541</td>\n",
       "      <td>3124</td>\n",
       "      <td>tt0929632</td>\n",
       "      <td>2009</td>\n",
       "      <td>55.000000</td>\n",
       "    </tr>\n",
       "    <tr>\n",
       "      <th>1494</th>\n",
       "      <td>The Descent</td>\n",
       "      <td>0.0</td>\n",
       "      <td>4076.0</td>\n",
       "      <td>1.000000</td>\n",
       "      <td>7695</td>\n",
       "      <td>tt0435625</td>\n",
       "      <td>2005</td>\n",
       "      <td>35.000000</td>\n",
       "    </tr>\n",
       "    <tr>\n",
       "      <th>1025</th>\n",
       "      <td>Now and Then</td>\n",
       "      <td>0.0</td>\n",
       "      <td>4186.0</td>\n",
       "      <td>1.000000</td>\n",
       "      <td>4723</td>\n",
       "      <td>tt0114011</td>\n",
       "      <td>1995</td>\n",
       "      <td>54.000000</td>\n",
       "    </tr>\n",
       "  </tbody>\n",
       "</table>\n",
       "</div>"
      ],
      "text/plain": [
       "                               title  words_men  words_women  frac_women  \\\n",
       "1558  The Hand That Rocks the Cradle      626.0       8823.0    0.933750   \n",
       "902                          Martyrs      109.0       3055.0    0.965550   \n",
       "1101                        Precious      114.0      17536.0    0.993541   \n",
       "1494                     The Descent        0.0       4076.0    1.000000   \n",
       "1025                    Now and Then        0.0       4186.0    1.000000   \n",
       "\n",
       "      script_id    imdb_id  releaseyr       gross  \n",
       "1558       8480  tt0104389       1992  184.000000  \n",
       "902        8614  tt1663655       2015  103.940433  \n",
       "1101       3124  tt0929632       2009   55.000000  \n",
       "1494       7695  tt0435625       2005   35.000000  \n",
       "1025       4723  tt0114011       1995   54.000000  "
      ]
     },
     "execution_count": 9,
     "metadata": {},
     "output_type": "execute_result"
    }
   ],
   "source": [
    "sorted_titles.tail()"
   ]
  },
  {
   "cell_type": "markdown",
   "id": "dynamic-satisfaction",
   "metadata": {},
   "source": [
    "But two thousand titles are a lot of titles to sort through this way. Another possibility is to look for title words that distinctively characterize films where there is relatively little, or relatively a lot, of dialogue spoken by women.\n",
    "\n",
    "The first thing we need to do is just count the words. You'll recall in our first lab we did that a complicated way, and then introduced a simple way to do it with a Python class called CountVectorizer.\n",
    "\n",
    "A class, in Python, will usually have a name that starts with a capital letter. It's not just a generic function that can be applied to anything; a class is a *category* of thing. To use it, you need to create an example of that category. We talked about this as creating a \"little demon\" who will then do what you want.\n",
    "\n",
    "So we first import ```CountVectorizer```, and then create an example. In the process of creating it, we'll tell it to only count the top 100 words in the titles."
   ]
  },
  {
   "cell_type": "code",
   "execution_count": 10,
   "id": "apart-rover",
   "metadata": {},
   "outputs": [],
   "source": [
    "from sklearn.feature_extraction.text import CountVectorizer\n",
    "vectorizer = CountVectorizer(max_features = 100, stop_words = ['the', 'of', 'and'])"
   ]
  },
  {
   "cell_type": "markdown",
   "id": "chicken-liberal",
   "metadata": {},
   "source": [
    "An odd feature of the CountVectorizer is that it initially returns its wordcounts as a \"sparse\" matrix to save memory. We need to convert that into a regular numpy array before doing much with it."
   ]
  },
  {
   "cell_type": "code",
   "execution_count": 11,
   "id": "uniform-treat",
   "metadata": {},
   "outputs": [],
   "source": [
    "sparse_wordcounts = vectorizer.fit_transform(title['title'])\n",
    "wordcounts = sparse_wordcounts.toarray()"
   ]
  },
  {
   "cell_type": "markdown",
   "id": "outer-impact",
   "metadata": {},
   "source": [
    "We can get the list of the top 100 words the CountVectorizer used by asking it to ```.get_feature_names()```"
   ]
  },
  {
   "cell_type": "code",
   "execution_count": 12,
   "id": "continental-windows",
   "metadata": {},
   "outputs": [
    {
     "name": "stdout",
     "output_type": "stream",
     "text": [
      "['13th', 'all', 'america', 'american', 'an', 'at', 'back', 'bad', 'big', 'black', 'blood', 'blue', 'boy', 'boys', 'city', 'dark', 'day', 'days', 'dead', 'dragon', 'end', 'episode', 'evil', 'eyes', 'fear', 'final', 'fire', 'first', 'for', 'four', 'friday', 'from', 'get', 'ghost', 'girl', 'go', 'good', 'green', 'halloween', 'hard', 'harry', 'her', 'house', 'ii', 'iii', 'in', 'is', 'it', 'king', 'last', 'legend', 'life', 'little', 'lost', 'love', 'man', 'me', 'men', 'movie', 'mr', 'my', 'new', 'night', 'nightmare', 'no', 'on', 'one', 'out', 'park', 'part', 'people', 'planet', 'point', 'potter', 'red', 'return', 'rise', 'rock', 'rocky', 'seven', 'star', 'street', 'things', 'time', 'to', 'trek', 'two', 'up', 'war', 'wars', 'wedding', 'white', 'who', 'wild', 'with', 'woman', 'world', 'year', 'you', 'your']\n"
     ]
    }
   ],
   "source": [
    "features = vectorizer.get_feature_names()\n",
    "\n",
    "print(features)"
   ]
  },
  {
   "cell_type": "markdown",
   "id": "spare-roller",
   "metadata": {},
   "source": [
    "Now we can convert ```wordcounts``` into a Pandas data frame that will be easy to manipulate."
   ]
  },
  {
   "cell_type": "code",
   "execution_count": 13,
   "id": "sufficient-eleven",
   "metadata": {},
   "outputs": [],
   "source": [
    "wordcounts = pd.DataFrame(wordcounts, columns = vectorizer.get_feature_names())"
   ]
  },
  {
   "cell_type": "markdown",
   "id": "welsh-satellite",
   "metadata": {},
   "source": [
    "This is a *document-term matrix*, a data object that will be quite useful throughout much of the rest of the course. Here's what it looks like:"
   ]
  },
  {
   "cell_type": "code",
   "execution_count": 14,
   "id": "economic-wallpaper",
   "metadata": {},
   "outputs": [
    {
     "data": {
      "text/html": [
       "<div>\n",
       "<style scoped>\n",
       "    .dataframe tbody tr th:only-of-type {\n",
       "        vertical-align: middle;\n",
       "    }\n",
       "\n",
       "    .dataframe tbody tr th {\n",
       "        vertical-align: top;\n",
       "    }\n",
       "\n",
       "    .dataframe thead th {\n",
       "        text-align: right;\n",
       "    }\n",
       "</style>\n",
       "<table border=\"1\" class=\"dataframe\">\n",
       "  <thead>\n",
       "    <tr style=\"text-align: right;\">\n",
       "      <th></th>\n",
       "      <th>13th</th>\n",
       "      <th>all</th>\n",
       "      <th>america</th>\n",
       "      <th>american</th>\n",
       "      <th>an</th>\n",
       "      <th>at</th>\n",
       "      <th>back</th>\n",
       "      <th>bad</th>\n",
       "      <th>big</th>\n",
       "      <th>black</th>\n",
       "      <th>...</th>\n",
       "      <th>wedding</th>\n",
       "      <th>white</th>\n",
       "      <th>who</th>\n",
       "      <th>wild</th>\n",
       "      <th>with</th>\n",
       "      <th>woman</th>\n",
       "      <th>world</th>\n",
       "      <th>year</th>\n",
       "      <th>you</th>\n",
       "      <th>your</th>\n",
       "    </tr>\n",
       "  </thead>\n",
       "  <tbody>\n",
       "    <tr>\n",
       "      <th>0</th>\n",
       "      <td>0</td>\n",
       "      <td>0</td>\n",
       "      <td>0</td>\n",
       "      <td>0</td>\n",
       "      <td>0</td>\n",
       "      <td>0</td>\n",
       "      <td>0</td>\n",
       "      <td>0</td>\n",
       "      <td>0</td>\n",
       "      <td>0</td>\n",
       "      <td>...</td>\n",
       "      <td>0</td>\n",
       "      <td>0</td>\n",
       "      <td>0</td>\n",
       "      <td>0</td>\n",
       "      <td>0</td>\n",
       "      <td>0</td>\n",
       "      <td>0</td>\n",
       "      <td>0</td>\n",
       "      <td>0</td>\n",
       "      <td>0</td>\n",
       "    </tr>\n",
       "    <tr>\n",
       "      <th>1</th>\n",
       "      <td>0</td>\n",
       "      <td>0</td>\n",
       "      <td>0</td>\n",
       "      <td>0</td>\n",
       "      <td>0</td>\n",
       "      <td>0</td>\n",
       "      <td>0</td>\n",
       "      <td>0</td>\n",
       "      <td>0</td>\n",
       "      <td>0</td>\n",
       "      <td>...</td>\n",
       "      <td>0</td>\n",
       "      <td>0</td>\n",
       "      <td>0</td>\n",
       "      <td>0</td>\n",
       "      <td>0</td>\n",
       "      <td>0</td>\n",
       "      <td>0</td>\n",
       "      <td>0</td>\n",
       "      <td>1</td>\n",
       "      <td>0</td>\n",
       "    </tr>\n",
       "    <tr>\n",
       "      <th>2</th>\n",
       "      <td>0</td>\n",
       "      <td>0</td>\n",
       "      <td>0</td>\n",
       "      <td>0</td>\n",
       "      <td>0</td>\n",
       "      <td>0</td>\n",
       "      <td>0</td>\n",
       "      <td>0</td>\n",
       "      <td>0</td>\n",
       "      <td>0</td>\n",
       "      <td>...</td>\n",
       "      <td>0</td>\n",
       "      <td>0</td>\n",
       "      <td>0</td>\n",
       "      <td>0</td>\n",
       "      <td>0</td>\n",
       "      <td>0</td>\n",
       "      <td>0</td>\n",
       "      <td>0</td>\n",
       "      <td>0</td>\n",
       "      <td>0</td>\n",
       "    </tr>\n",
       "    <tr>\n",
       "      <th>3</th>\n",
       "      <td>0</td>\n",
       "      <td>0</td>\n",
       "      <td>0</td>\n",
       "      <td>0</td>\n",
       "      <td>0</td>\n",
       "      <td>0</td>\n",
       "      <td>0</td>\n",
       "      <td>0</td>\n",
       "      <td>0</td>\n",
       "      <td>0</td>\n",
       "      <td>...</td>\n",
       "      <td>0</td>\n",
       "      <td>0</td>\n",
       "      <td>0</td>\n",
       "      <td>0</td>\n",
       "      <td>0</td>\n",
       "      <td>0</td>\n",
       "      <td>0</td>\n",
       "      <td>0</td>\n",
       "      <td>0</td>\n",
       "      <td>0</td>\n",
       "    </tr>\n",
       "    <tr>\n",
       "      <th>4</th>\n",
       "      <td>0</td>\n",
       "      <td>0</td>\n",
       "      <td>0</td>\n",
       "      <td>0</td>\n",
       "      <td>0</td>\n",
       "      <td>0</td>\n",
       "      <td>0</td>\n",
       "      <td>0</td>\n",
       "      <td>0</td>\n",
       "      <td>0</td>\n",
       "      <td>...</td>\n",
       "      <td>0</td>\n",
       "      <td>0</td>\n",
       "      <td>0</td>\n",
       "      <td>0</td>\n",
       "      <td>0</td>\n",
       "      <td>0</td>\n",
       "      <td>0</td>\n",
       "      <td>0</td>\n",
       "      <td>0</td>\n",
       "      <td>0</td>\n",
       "    </tr>\n",
       "    <tr>\n",
       "      <th>...</th>\n",
       "      <td>...</td>\n",
       "      <td>...</td>\n",
       "      <td>...</td>\n",
       "      <td>...</td>\n",
       "      <td>...</td>\n",
       "      <td>...</td>\n",
       "      <td>...</td>\n",
       "      <td>...</td>\n",
       "      <td>...</td>\n",
       "      <td>...</td>\n",
       "      <td>...</td>\n",
       "      <td>...</td>\n",
       "      <td>...</td>\n",
       "      <td>...</td>\n",
       "      <td>...</td>\n",
       "      <td>...</td>\n",
       "      <td>...</td>\n",
       "      <td>...</td>\n",
       "      <td>...</td>\n",
       "      <td>...</td>\n",
       "      <td>...</td>\n",
       "    </tr>\n",
       "    <tr>\n",
       "      <th>1995</th>\n",
       "      <td>0</td>\n",
       "      <td>0</td>\n",
       "      <td>0</td>\n",
       "      <td>0</td>\n",
       "      <td>0</td>\n",
       "      <td>0</td>\n",
       "      <td>0</td>\n",
       "      <td>0</td>\n",
       "      <td>0</td>\n",
       "      <td>0</td>\n",
       "      <td>...</td>\n",
       "      <td>0</td>\n",
       "      <td>0</td>\n",
       "      <td>0</td>\n",
       "      <td>0</td>\n",
       "      <td>0</td>\n",
       "      <td>0</td>\n",
       "      <td>0</td>\n",
       "      <td>0</td>\n",
       "      <td>0</td>\n",
       "      <td>0</td>\n",
       "    </tr>\n",
       "    <tr>\n",
       "      <th>1996</th>\n",
       "      <td>0</td>\n",
       "      <td>0</td>\n",
       "      <td>0</td>\n",
       "      <td>0</td>\n",
       "      <td>0</td>\n",
       "      <td>0</td>\n",
       "      <td>0</td>\n",
       "      <td>0</td>\n",
       "      <td>0</td>\n",
       "      <td>0</td>\n",
       "      <td>...</td>\n",
       "      <td>0</td>\n",
       "      <td>0</td>\n",
       "      <td>0</td>\n",
       "      <td>0</td>\n",
       "      <td>0</td>\n",
       "      <td>0</td>\n",
       "      <td>0</td>\n",
       "      <td>0</td>\n",
       "      <td>0</td>\n",
       "      <td>0</td>\n",
       "    </tr>\n",
       "    <tr>\n",
       "      <th>1997</th>\n",
       "      <td>0</td>\n",
       "      <td>0</td>\n",
       "      <td>0</td>\n",
       "      <td>0</td>\n",
       "      <td>0</td>\n",
       "      <td>0</td>\n",
       "      <td>0</td>\n",
       "      <td>0</td>\n",
       "      <td>0</td>\n",
       "      <td>0</td>\n",
       "      <td>...</td>\n",
       "      <td>0</td>\n",
       "      <td>0</td>\n",
       "      <td>0</td>\n",
       "      <td>0</td>\n",
       "      <td>0</td>\n",
       "      <td>0</td>\n",
       "      <td>0</td>\n",
       "      <td>0</td>\n",
       "      <td>0</td>\n",
       "      <td>0</td>\n",
       "    </tr>\n",
       "    <tr>\n",
       "      <th>1998</th>\n",
       "      <td>0</td>\n",
       "      <td>0</td>\n",
       "      <td>0</td>\n",
       "      <td>0</td>\n",
       "      <td>0</td>\n",
       "      <td>0</td>\n",
       "      <td>0</td>\n",
       "      <td>0</td>\n",
       "      <td>0</td>\n",
       "      <td>0</td>\n",
       "      <td>...</td>\n",
       "      <td>0</td>\n",
       "      <td>0</td>\n",
       "      <td>0</td>\n",
       "      <td>1</td>\n",
       "      <td>0</td>\n",
       "      <td>0</td>\n",
       "      <td>0</td>\n",
       "      <td>0</td>\n",
       "      <td>0</td>\n",
       "      <td>0</td>\n",
       "    </tr>\n",
       "    <tr>\n",
       "      <th>1999</th>\n",
       "      <td>0</td>\n",
       "      <td>0</td>\n",
       "      <td>0</td>\n",
       "      <td>0</td>\n",
       "      <td>0</td>\n",
       "      <td>0</td>\n",
       "      <td>0</td>\n",
       "      <td>0</td>\n",
       "      <td>0</td>\n",
       "      <td>0</td>\n",
       "      <td>...</td>\n",
       "      <td>0</td>\n",
       "      <td>0</td>\n",
       "      <td>0</td>\n",
       "      <td>0</td>\n",
       "      <td>0</td>\n",
       "      <td>0</td>\n",
       "      <td>0</td>\n",
       "      <td>0</td>\n",
       "      <td>0</td>\n",
       "      <td>0</td>\n",
       "    </tr>\n",
       "  </tbody>\n",
       "</table>\n",
       "<p>2000 rows × 100 columns</p>\n",
       "</div>"
      ],
      "text/plain": [
       "      13th  all  america  american  an  at  back  bad  big  black  ...  \\\n",
       "0        0    0        0         0   0   0     0    0    0      0  ...   \n",
       "1        0    0        0         0   0   0     0    0    0      0  ...   \n",
       "2        0    0        0         0   0   0     0    0    0      0  ...   \n",
       "3        0    0        0         0   0   0     0    0    0      0  ...   \n",
       "4        0    0        0         0   0   0     0    0    0      0  ...   \n",
       "...    ...  ...      ...       ...  ..  ..   ...  ...  ...    ...  ...   \n",
       "1995     0    0        0         0   0   0     0    0    0      0  ...   \n",
       "1996     0    0        0         0   0   0     0    0    0      0  ...   \n",
       "1997     0    0        0         0   0   0     0    0    0      0  ...   \n",
       "1998     0    0        0         0   0   0     0    0    0      0  ...   \n",
       "1999     0    0        0         0   0   0     0    0    0      0  ...   \n",
       "\n",
       "      wedding  white  who  wild  with  woman  world  year  you  your  \n",
       "0           0      0    0     0     0      0      0     0    0     0  \n",
       "1           0      0    0     0     0      0      0     0    1     0  \n",
       "2           0      0    0     0     0      0      0     0    0     0  \n",
       "3           0      0    0     0     0      0      0     0    0     0  \n",
       "4           0      0    0     0     0      0      0     0    0     0  \n",
       "...       ...    ...  ...   ...   ...    ...    ...   ...  ...   ...  \n",
       "1995        0      0    0     0     0      0      0     0    0     0  \n",
       "1996        0      0    0     0     0      0      0     0    0     0  \n",
       "1997        0      0    0     0     0      0      0     0    0     0  \n",
       "1998        0      0    0     1     0      0      0     0    0     0  \n",
       "1999        0      0    0     0     0      0      0     0    0     0  \n",
       "\n",
       "[2000 rows x 100 columns]"
      ]
     },
     "execution_count": 14,
     "metadata": {},
     "output_type": "execute_result"
    }
   ],
   "source": [
    "wordcounts"
   ]
  },
  {
   "cell_type": "markdown",
   "id": "exotic-literature",
   "metadata": {},
   "source": [
    "We can also combine it with our metadata about movies, to produce a master ```data``` data frame."
   ]
  },
  {
   "cell_type": "code",
   "execution_count": 15,
   "id": "closed-panel",
   "metadata": {},
   "outputs": [
    {
     "data": {
      "text/html": [
       "<div>\n",
       "<style scoped>\n",
       "    .dataframe tbody tr th:only-of-type {\n",
       "        vertical-align: middle;\n",
       "    }\n",
       "\n",
       "    .dataframe tbody tr th {\n",
       "        vertical-align: top;\n",
       "    }\n",
       "\n",
       "    .dataframe thead th {\n",
       "        text-align: right;\n",
       "    }\n",
       "</style>\n",
       "<table border=\"1\" class=\"dataframe\">\n",
       "  <thead>\n",
       "    <tr style=\"text-align: right;\">\n",
       "      <th></th>\n",
       "      <th>13th</th>\n",
       "      <th>all</th>\n",
       "      <th>america</th>\n",
       "      <th>american</th>\n",
       "      <th>an</th>\n",
       "      <th>at</th>\n",
       "      <th>back</th>\n",
       "      <th>bad</th>\n",
       "      <th>big</th>\n",
       "      <th>black</th>\n",
       "      <th>...</th>\n",
       "      <th>you</th>\n",
       "      <th>your</th>\n",
       "      <th>title</th>\n",
       "      <th>words_men</th>\n",
       "      <th>words_women</th>\n",
       "      <th>frac_women</th>\n",
       "      <th>script_id</th>\n",
       "      <th>imdb_id</th>\n",
       "      <th>releaseyr</th>\n",
       "      <th>gross</th>\n",
       "    </tr>\n",
       "  </thead>\n",
       "  <tbody>\n",
       "    <tr>\n",
       "      <th>0</th>\n",
       "      <td>0</td>\n",
       "      <td>0</td>\n",
       "      <td>0</td>\n",
       "      <td>0</td>\n",
       "      <td>0</td>\n",
       "      <td>0</td>\n",
       "      <td>0</td>\n",
       "      <td>0</td>\n",
       "      <td>0</td>\n",
       "      <td>0</td>\n",
       "      <td>...</td>\n",
       "      <td>0</td>\n",
       "      <td>0</td>\n",
       "      <td>(500) Days of Summer</td>\n",
       "      <td>12762.0</td>\n",
       "      <td>5738.0</td>\n",
       "      <td>0.310162</td>\n",
       "      <td>1534</td>\n",
       "      <td>tt1022603</td>\n",
       "      <td>2009</td>\n",
       "      <td>37.000000</td>\n",
       "    </tr>\n",
       "    <tr>\n",
       "      <th>1</th>\n",
       "      <td>0</td>\n",
       "      <td>0</td>\n",
       "      <td>0</td>\n",
       "      <td>0</td>\n",
       "      <td>0</td>\n",
       "      <td>0</td>\n",
       "      <td>0</td>\n",
       "      <td>0</td>\n",
       "      <td>0</td>\n",
       "      <td>0</td>\n",
       "      <td>...</td>\n",
       "      <td>1</td>\n",
       "      <td>0</td>\n",
       "      <td>10 Things I Hate About You</td>\n",
       "      <td>10688.0</td>\n",
       "      <td>8992.0</td>\n",
       "      <td>0.456911</td>\n",
       "      <td>1512</td>\n",
       "      <td>tt0147800</td>\n",
       "      <td>1999</td>\n",
       "      <td>65.000000</td>\n",
       "    </tr>\n",
       "    <tr>\n",
       "      <th>2</th>\n",
       "      <td>0</td>\n",
       "      <td>0</td>\n",
       "      <td>0</td>\n",
       "      <td>0</td>\n",
       "      <td>0</td>\n",
       "      <td>0</td>\n",
       "      <td>0</td>\n",
       "      <td>0</td>\n",
       "      <td>0</td>\n",
       "      <td>0</td>\n",
       "      <td>...</td>\n",
       "      <td>0</td>\n",
       "      <td>0</td>\n",
       "      <td>12 Years a Slave</td>\n",
       "      <td>16176.0</td>\n",
       "      <td>3452.0</td>\n",
       "      <td>0.175871</td>\n",
       "      <td>1517</td>\n",
       "      <td>tt2024544</td>\n",
       "      <td>2013</td>\n",
       "      <td>60.000000</td>\n",
       "    </tr>\n",
       "    <tr>\n",
       "      <th>3</th>\n",
       "      <td>0</td>\n",
       "      <td>0</td>\n",
       "      <td>0</td>\n",
       "      <td>0</td>\n",
       "      <td>0</td>\n",
       "      <td>0</td>\n",
       "      <td>0</td>\n",
       "      <td>0</td>\n",
       "      <td>0</td>\n",
       "      <td>0</td>\n",
       "      <td>...</td>\n",
       "      <td>0</td>\n",
       "      <td>0</td>\n",
       "      <td>12 and Holding</td>\n",
       "      <td>10644.0</td>\n",
       "      <td>5324.0</td>\n",
       "      <td>0.333417</td>\n",
       "      <td>1514</td>\n",
       "      <td>tt0417385</td>\n",
       "      <td>2005</td>\n",
       "      <td>103.940433</td>\n",
       "    </tr>\n",
       "    <tr>\n",
       "      <th>4</th>\n",
       "      <td>0</td>\n",
       "      <td>0</td>\n",
       "      <td>0</td>\n",
       "      <td>0</td>\n",
       "      <td>0</td>\n",
       "      <td>0</td>\n",
       "      <td>0</td>\n",
       "      <td>0</td>\n",
       "      <td>0</td>\n",
       "      <td>0</td>\n",
       "      <td>...</td>\n",
       "      <td>0</td>\n",
       "      <td>0</td>\n",
       "      <td>127 Hours</td>\n",
       "      <td>4336.0</td>\n",
       "      <td>809.0</td>\n",
       "      <td>0.157240</td>\n",
       "      <td>1520</td>\n",
       "      <td>tt1542344</td>\n",
       "      <td>2010</td>\n",
       "      <td>20.000000</td>\n",
       "    </tr>\n",
       "  </tbody>\n",
       "</table>\n",
       "<p>5 rows × 108 columns</p>\n",
       "</div>"
      ],
      "text/plain": [
       "   13th  all  america  american  an  at  back  bad  big  black  ...  you  \\\n",
       "0     0    0        0         0   0   0     0    0    0      0  ...    0   \n",
       "1     0    0        0         0   0   0     0    0    0      0  ...    1   \n",
       "2     0    0        0         0   0   0     0    0    0      0  ...    0   \n",
       "3     0    0        0         0   0   0     0    0    0      0  ...    0   \n",
       "4     0    0        0         0   0   0     0    0    0      0  ...    0   \n",
       "\n",
       "   your                       title  words_men  words_women  frac_women  \\\n",
       "0     0        (500) Days of Summer    12762.0       5738.0    0.310162   \n",
       "1     0  10 Things I Hate About You    10688.0       8992.0    0.456911   \n",
       "2     0            12 Years a Slave    16176.0       3452.0    0.175871   \n",
       "3     0              12 and Holding    10644.0       5324.0    0.333417   \n",
       "4     0                   127 Hours     4336.0        809.0    0.157240   \n",
       "\n",
       "   script_id    imdb_id  releaseyr       gross  \n",
       "0       1534  tt1022603       2009   37.000000  \n",
       "1       1512  tt0147800       1999   65.000000  \n",
       "2       1517  tt2024544       2013   60.000000  \n",
       "3       1514  tt0417385       2005  103.940433  \n",
       "4       1520  tt1542344       2010   20.000000  \n",
       "\n",
       "[5 rows x 108 columns]"
      ]
     },
     "execution_count": 15,
     "metadata": {},
     "output_type": "execute_result"
    }
   ],
   "source": [
    "data = pd.concat([wordcounts, title], axis = 1)\n",
    "data.head()"
   ]
  },
  {
   "cell_type": "markdown",
   "id": "executive-source",
   "metadata": {},
   "source": [
    "Now we can reproduce the analysis Ben Schmidt carried out on two different categories of books, and find out which of these words are significantly overrepresented in movies with more, or less, dialogue by women.\n",
    "\n",
    "We don't necessarily have to treat this as a binary question. We could use the actual value of ```frac_women,``` and in a moment we'll see how. But for the moment, to explore the uses of probability, let's divide the movies into two groups. Those with less than the median amount of dialogue by women, and those with the median or above.\n",
    "\n",
    "Note that the median is pretty low!! So let's call the group with more women \"less biased\" rather than actually \"feminine.\""
   ]
  },
  {
   "cell_type": "code",
   "execution_count": 16,
   "id": "taken-gibson",
   "metadata": {},
   "outputs": [
    {
     "name": "stdout",
     "output_type": "stream",
     "text": [
      "0.2432355697476658\n"
     ]
    }
   ],
   "source": [
    "median_frac = np.median(title['frac_women'])\n",
    "print(median_frac)"
   ]
  },
  {
   "cell_type": "markdown",
   "id": "searching-limitation",
   "metadata": {},
   "source": [
    "#### EXERCISE 1:\n",
    "\n",
    "Pandas review. \n",
    "\n",
    "1. Select all movies where data['frac_women'] is less than median_frac, and all the columns that count words. \n",
    "\n",
    "2. Select movies where data['frac_women'] is >= than median_frac, and all the columns that count words.\n",
    "\n",
    "You can do this with ```.loc[]``` Note that we've put the list of words we're using in a variable ```words```, and you can you can select all the word columns by putting that variable in the columns position of ```.loc[]```.\n",
    "\n",
    "When you've got these dataframes you can flatten them into a single series of word counts by saying ```df.sum(axis = 0)```."
   ]
  },
  {
   "cell_type": "code",
   "execution_count": 18,
   "id": "initial-night",
   "metadata": {},
   "outputs": [],
   "source": [
    "malebiased = data.loc[data['frac_women'] < median_frac, features].sum(axis = 0)"
   ]
  },
  {
   "cell_type": "code",
   "execution_count": 19,
   "id": "macro-target",
   "metadata": {},
   "outputs": [],
   "source": [
    "lessbiased = data.loc[data['frac_women'] >= median_frac, features].sum(axis = 0)"
   ]
  },
  {
   "cell_type": "markdown",
   "id": "imperial-plaza",
   "metadata": {},
   "source": [
    "When you're done you should have a list like this:"
   ]
  },
  {
   "cell_type": "code",
   "execution_count": 21,
   "id": "found-prisoner",
   "metadata": {},
   "outputs": [
    {
     "data": {
      "text/plain": [
       "13th        0\n",
       "all         3\n",
       "america     4\n",
       "american    9\n",
       "an          4\n",
       "at          5\n",
       "back        6\n",
       "bad         4\n",
       "big         5\n",
       "black       7\n",
       "dtype: int64"
      ]
     },
     "execution_count": 21,
     "metadata": {},
     "output_type": "execute_result"
    }
   ],
   "source": [
    "malebiased[0:10]"
   ]
  },
  {
   "cell_type": "markdown",
   "id": "elder-canada",
   "metadata": {},
   "source": [
    "## 3. Finding distinctive words\n",
    "\n",
    "To explore the relation between titles and gender, we want to create a visualization a bit like the one Ben Schmidt used to visualize distinctive words.\n",
    "\n",
    "![Ben Schmidt's illustration of additive and multiplicative comparisons](schmidtillus.png)\n",
    "\n",
    "Before we can do that, we may need some practice labeling scatterplots in Python.\n",
    "\n",
    "Here's an example. We can create the dots simply with the plt.scatter() command.\n",
    "\n",
    "But we have to label each point individually, using a for-loop. Notice how we use the zip() function to create aligned triplets of coordinates and labels. I'm also adding a little randomness to the vertical position of the label; later, this will help keep labels from overplotting each other."
   ]
  },
  {
   "cell_type": "code",
   "execution_count": 23,
   "id": "crude-parameter",
   "metadata": {},
   "outputs": [
    {
     "data": {
      "image/png": "[encoded data removed]",
      "text/plain": [
       "<Figure size 648x432 with 1 Axes>"
      ]
     },
     "metadata": {
      "needs_background": "light"
     },
     "output_type": "display_data"
    }
   ],
   "source": [
    "plt.figure(figsize = (9, 6))\n",
    "plt.scatter(x = malebiased.values, y = lessbiased.values)\n",
    "\n",
    "for x, y, label in zip(malebiased.values, lessbiased.values, malebiased.index):\n",
    "    plt.text(x = x + .2, y = y + np.random.random(), s = label, fontdict = dict(color = 'black', alpha = 0.8))\n",
    "\n",
    "plt.xlabel('malebiased')\n",
    "plt.ylabel('lessbiased')\n",
    "plt.show()"
   ]
  },
  {
   "cell_type": "markdown",
   "id": "outer-interaction",
   "metadata": {},
   "source": [
    "#### EXERCISE 2\n",
    "\n",
    "Okay now, working in groups, produce a labeled visualization of words where the x axis is\n",
    "\n",
    "    malebiased - lessbiased\n",
    "\n",
    "and the y axis is\n",
    "\n",
    "    malebiased / lessbiased\n",
    "\n",
    "This will tell you which words are overrepresented in films with a lot of male dialogue.\n",
    "\n",
    "Because it's hard to visualize the overrepresentation in both categories at once, you may want to produce two graphs, and flip the relationship in the second, so the y axis of the second one plots ```lessbiased / malebiased.``` If you like, you can use indexing to remove points with a negative x value.\n",
    "\n",
    "If you get some errors related to infinite values, you might also consider adding one to both sides of the ratio, like so:\n",
    "\n",
    "    (malebiased + 1) / (lessbiased + 1)\n",
    "\n",
    "Think about why that solves the problem."
   ]
  },
  {
   "cell_type": "code",
   "execution_count": 24,
   "id": "chemical-kuwait",
   "metadata": {},
   "outputs": [
    {
     "data": {
      "image/png": "[encoded data removed]",
      "text/plain": [
       "<Figure size 720x576 with 1 Axes>"
      ]
     },
     "metadata": {
      "needs_background": "light"
     },
     "output_type": "display_data"
    }
   ],
   "source": [
    "multiplication = ((malebiased + 1) / (lessbiased + 1))\n",
    "addition = malebiased - lessbiased\n",
    "\n",
    "plt.figure(figsize = (10, 8))\n",
    "plt.scatter(x = addition[addition > 0], y = multiplication[addition > 0])\n",
    "\n",
    "for x, y, label in zip(addition, multiplication, malebiased.index):\n",
    "    if x > 0:\n",
    "        plt.text(x = x + .2, y = y + np.random.random() / 1.5, s = label, fontdict = dict(color = 'black', alpha = 0.8))\n",
    "\n",
    "plt.xlabel('addition')\n",
    "plt.ylabel('multiplication')\n",
    "plt.show()"
   ]
  },
  {
   "cell_type": "code",
   "execution_count": 25,
   "id": "structural-mortgage",
   "metadata": {},
   "outputs": [
    {
     "data": {
      "image/png": "[encoded data removed]",
      "text/plain": [
       "<Figure size 576x432 with 1 Axes>"
      ]
     },
     "metadata": {
      "needs_background": "light"
     },
     "output_type": "display_data"
    }
   ],
   "source": [
    "multiplication = ((lessbiased + 1) / (malebiased + 1))\n",
    "addition = lessbiased - malebiased\n",
    "\n",
    "plt.figure(figsize = (8, 6))\n",
    "plt.scatter(x = addition[addition > 0], y = multiplication[addition > 0])\n",
    "\n",
    "for x, y, label in zip(addition, multiplication, malebiased.index):\n",
    "    if x > 0:\n",
    "        plt.text(x = x + .2, y = y + np.random.random() / 1.5, s = label, fontdict = dict(color = 'black', alpha = 0.8))\n",
    "\n",
    "plt.xlabel('addition')\n",
    "plt.ylabel('multiplication')\n",
    "plt.show()"
   ]
  },
  {
   "cell_type": "markdown",
   "id": "attempted-detective",
   "metadata": {},
   "source": [
    "## Calculating overrepresentation using Dunning's log likelihood\n",
    "\n",
    "These graphs are interesting, but they don't give us a single, ranked list of words that characterize one group of movies or the other.\n",
    "\n",
    "To get that ranked list, we can use the method Schmidt recommended in his blog post: Dunning's log likelihood. This is an example of a procedure called a G-test that uses a probability table to compromise between \"additive\" and \"divisive\" measures.\n",
    "\n",
    "We start by constructing a simple 2x2 table. Let's take the word \"house.\""
   ]
  },
  {
   "cell_type": "code",
   "execution_count": 26,
   "id": "limited-macro",
   "metadata": {},
   "outputs": [
    {
     "name": "stdout",
     "output_type": "stream",
     "text": [
      "1001\n"
     ]
    },
    {
     "data": {
      "text/html": [
       "<div>\n",
       "<style scoped>\n",
       "    .dataframe tbody tr th:only-of-type {\n",
       "        vertical-align: middle;\n",
       "    }\n",
       "\n",
       "    .dataframe tbody tr th {\n",
       "        vertical-align: top;\n",
       "    }\n",
       "\n",
       "    .dataframe thead th {\n",
       "        text-align: right;\n",
       "    }\n",
       "</style>\n",
       "<table border=\"1\" class=\"dataframe\">\n",
       "  <thead>\n",
       "    <tr style=\"text-align: right;\">\n",
       "      <th></th>\n",
       "      <th>lessbiased</th>\n",
       "      <th>malebiased</th>\n",
       "    </tr>\n",
       "  </thead>\n",
       "  <tbody>\n",
       "    <tr>\n",
       "      <th>word</th>\n",
       "      <td>9</td>\n",
       "      <td>2</td>\n",
       "    </tr>\n",
       "    <tr>\n",
       "      <th>all_others</th>\n",
       "      <td>514</td>\n",
       "      <td>476</td>\n",
       "    </tr>\n",
       "  </tbody>\n",
       "</table>\n",
       "</div>"
      ],
      "text/plain": [
       "            lessbiased  malebiased\n",
       "word                 9           2\n",
       "all_others         514         476"
      ]
     },
     "execution_count": 26,
     "metadata": {},
     "output_type": "execute_result"
    }
   ],
   "source": [
    "observed = pd.DataFrame({'lessbiased': [lessbiased['house'], sum(lessbiased) - lessbiased['house']],\n",
    "                          'malebiased': [malebiased['house'], sum(malebiased) - malebiased['house']]},\n",
    "                        index = ['word', 'all_others'])\n",
    "total_words = observed.to_numpy().sum()\n",
    "print(total_words)\n",
    "observed"
   ]
  },
  {
   "cell_type": "markdown",
   "id": "geographic-cooking",
   "metadata": {},
   "source": [
    "Then we convert this into a probability table in two steps. First, take the sums of rows and columns."
   ]
  },
  {
   "cell_type": "code",
   "execution_count": 27,
   "id": "adopted-posting",
   "metadata": {},
   "outputs": [
    {
     "data": {
      "text/html": [
       "<div>\n",
       "<style scoped>\n",
       "    .dataframe tbody tr th:only-of-type {\n",
       "        vertical-align: middle;\n",
       "    }\n",
       "\n",
       "    .dataframe tbody tr th {\n",
       "        vertical-align: top;\n",
       "    }\n",
       "\n",
       "    .dataframe thead th {\n",
       "        text-align: right;\n",
       "    }\n",
       "</style>\n",
       "<table border=\"1\" class=\"dataframe\">\n",
       "  <thead>\n",
       "    <tr style=\"text-align: right;\">\n",
       "      <th></th>\n",
       "      <th>lessbiased</th>\n",
       "      <th>malebiased</th>\n",
       "      <th>word_totals</th>\n",
       "    </tr>\n",
       "  </thead>\n",
       "  <tbody>\n",
       "    <tr>\n",
       "      <th>word</th>\n",
       "      <td>9</td>\n",
       "      <td>2</td>\n",
       "      <td>11</td>\n",
       "    </tr>\n",
       "    <tr>\n",
       "      <th>all_others</th>\n",
       "      <td>514</td>\n",
       "      <td>476</td>\n",
       "      <td>990</td>\n",
       "    </tr>\n",
       "  </tbody>\n",
       "</table>\n",
       "</div>"
      ],
      "text/plain": [
       "            lessbiased  malebiased  word_totals\n",
       "word                 9           2           11\n",
       "all_others         514         476          990"
      ]
     },
     "execution_count": 27,
     "metadata": {},
     "output_type": "execute_result"
    }
   ],
   "source": [
    "observed['word_totals'] = observed.sum(axis = 1)\n",
    "observed"
   ]
  },
  {
   "cell_type": "code",
   "execution_count": 28,
   "id": "critical-depth",
   "metadata": {},
   "outputs": [
    {
     "data": {
      "text/html": [
       "<div>\n",
       "<style scoped>\n",
       "    .dataframe tbody tr th:only-of-type {\n",
       "        vertical-align: middle;\n",
       "    }\n",
       "\n",
       "    .dataframe tbody tr th {\n",
       "        vertical-align: top;\n",
       "    }\n",
       "\n",
       "    .dataframe thead th {\n",
       "        text-align: right;\n",
       "    }\n",
       "</style>\n",
       "<table border=\"1\" class=\"dataframe\">\n",
       "  <thead>\n",
       "    <tr style=\"text-align: right;\">\n",
       "      <th></th>\n",
       "      <th>lessbiased</th>\n",
       "      <th>malebiased</th>\n",
       "      <th>word_totals</th>\n",
       "    </tr>\n",
       "  </thead>\n",
       "  <tbody>\n",
       "    <tr>\n",
       "      <th>word</th>\n",
       "      <td>9</td>\n",
       "      <td>2</td>\n",
       "      <td>11</td>\n",
       "    </tr>\n",
       "    <tr>\n",
       "      <th>all_others</th>\n",
       "      <td>514</td>\n",
       "      <td>476</td>\n",
       "      <td>990</td>\n",
       "    </tr>\n",
       "    <tr>\n",
       "      <th>group_totals</th>\n",
       "      <td>523</td>\n",
       "      <td>478</td>\n",
       "      <td>0</td>\n",
       "    </tr>\n",
       "  </tbody>\n",
       "</table>\n",
       "</div>"
      ],
      "text/plain": [
       "              lessbiased  malebiased  word_totals\n",
       "word                   9           2           11\n",
       "all_others           514         476          990\n",
       "group_totals         523         478            0"
      ]
     },
     "execution_count": 28,
     "metadata": {},
     "output_type": "execute_result"
    }
   ],
   "source": [
    "observed = observed.append(observed.sum(axis = 0).rename(index = 'group_totals'))\n",
    "observed.iat[2,2] = 0\n",
    "observed"
   ]
  },
  {
   "cell_type": "markdown",
   "id": "subject-broad",
   "metadata": {},
   "source": [
    "Convert marginal values into marginal probabilities."
   ]
  },
  {
   "cell_type": "code",
   "execution_count": 29,
   "id": "attached-burke",
   "metadata": {},
   "outputs": [
    {
     "data": {
      "text/html": [
       "<div>\n",
       "<style scoped>\n",
       "    .dataframe tbody tr th:only-of-type {\n",
       "        vertical-align: middle;\n",
       "    }\n",
       "\n",
       "    .dataframe tbody tr th {\n",
       "        vertical-align: top;\n",
       "    }\n",
       "\n",
       "    .dataframe thead th {\n",
       "        text-align: right;\n",
       "    }\n",
       "</style>\n",
       "<table border=\"1\" class=\"dataframe\">\n",
       "  <thead>\n",
       "    <tr style=\"text-align: right;\">\n",
       "      <th></th>\n",
       "      <th>lessbiased</th>\n",
       "      <th>malebiased</th>\n",
       "      <th>word_totals</th>\n",
       "    </tr>\n",
       "  </thead>\n",
       "  <tbody>\n",
       "    <tr>\n",
       "      <th>word</th>\n",
       "      <td>9.000000</td>\n",
       "      <td>2.000000</td>\n",
       "      <td>0.010989</td>\n",
       "    </tr>\n",
       "    <tr>\n",
       "      <th>all_others</th>\n",
       "      <td>514.000000</td>\n",
       "      <td>476.000000</td>\n",
       "      <td>0.989011</td>\n",
       "    </tr>\n",
       "    <tr>\n",
       "      <th>group_totals</th>\n",
       "      <td>0.522478</td>\n",
       "      <td>0.477522</td>\n",
       "      <td>0.000000</td>\n",
       "    </tr>\n",
       "  </tbody>\n",
       "</table>\n",
       "</div>"
      ],
      "text/plain": [
       "              lessbiased  malebiased  word_totals\n",
       "word            9.000000    2.000000     0.010989\n",
       "all_others    514.000000  476.000000     0.989011\n",
       "group_totals    0.522478    0.477522     0.000000"
      ]
     },
     "execution_count": 29,
     "metadata": {},
     "output_type": "execute_result"
    }
   ],
   "source": [
    "observed['word_totals'] = observed['word_totals'] / sum(observed['word_totals'])\n",
    "observed.loc['group_totals', : ] = observed.loc['group_totals', : ] / sum(observed.loc['group_totals', : ])\n",
    "observed"
   ]
  },
  {
   "cell_type": "code",
   "execution_count": 35,
   "id": "analyzed-strategy",
   "metadata": {},
   "outputs": [
    {
     "data": {
      "text/html": [
       "<div>\n",
       "<style scoped>\n",
       "    .dataframe tbody tr th:only-of-type {\n",
       "        vertical-align: middle;\n",
       "    }\n",
       "\n",
       "    .dataframe tbody tr th {\n",
       "        vertical-align: top;\n",
       "    }\n",
       "\n",
       "    .dataframe thead th {\n",
       "        text-align: right;\n",
       "    }\n",
       "</style>\n",
       "<table border=\"1\" class=\"dataframe\">\n",
       "  <thead>\n",
       "    <tr style=\"text-align: right;\">\n",
       "      <th></th>\n",
       "      <th>lessbiased</th>\n",
       "      <th>malebiased</th>\n",
       "    </tr>\n",
       "  </thead>\n",
       "  <tbody>\n",
       "    <tr>\n",
       "      <th>word</th>\n",
       "      <td>0.005742</td>\n",
       "      <td>0.005247</td>\n",
       "    </tr>\n",
       "    <tr>\n",
       "      <th>all_others</th>\n",
       "      <td>0.516736</td>\n",
       "      <td>0.472275</td>\n",
       "    </tr>\n",
       "  </tbody>\n",
       "</table>\n",
       "</div>"
      ],
      "text/plain": [
       "            lessbiased  malebiased\n",
       "word          0.005742    0.005247\n",
       "all_others    0.516736    0.472275"
      ]
     },
     "execution_count": 35,
     "metadata": {},
     "output_type": "execute_result"
    }
   ],
   "source": [
    "expected = np.outer(observed['word_totals'][0:2], observed.loc['group_totals', : ][0:2])\n",
    "expected = pd.DataFrame(expected, index = ['word', 'all_others'], columns = ['lessbiased', 'malebiased'])\n",
    "expected"
   ]
  },
  {
   "cell_type": "markdown",
   "id": "finite-blues",
   "metadata": {},
   "source": [
    "**INDIVIDUAL EXERCISE**:\n",
    "\n",
    "These are *joint probabilities*. The value in cell 0, 0 could be expressed as $P(house \\cap lessbiased)$\n",
    "\n",
    "How would we calculate a conditional probability? For instance what is $P(lessbiased \\mid house)$? Notice the difference between expressing these relationships as probabilities and as \"odds.\"\n",
    "\n",
    "In the cell below briefly calculate $P(lessbiased \\mid house)$."
   ]
  },
  {
   "cell_type": "code",
   "execution_count": 33,
   "id": "referenced-qatar",
   "metadata": {},
   "outputs": [
    {
     "data": {
      "text/plain": [
       "0.8181818181818182"
      ]
     },
     "execution_count": 33,
     "metadata": {},
     "output_type": "execute_result"
    }
   ],
   "source": [
    "# calculate the conditional probability that a word came from \n",
    "# the title of a less gender-biased movie, given that we know the word is \"house\"\n",
    "\n",
    "conditionalprob = lessbiased['house'] / (lessbiased['house'] + malebiased['house'])\n",
    "conditionalprob"
   ]
  },
  {
   "cell_type": "code",
   "execution_count": 36,
   "id": "cultural-dodge",
   "metadata": {},
   "outputs": [
    {
     "data": {
      "text/html": [
       "<div>\n",
       "<style scoped>\n",
       "    .dataframe tbody tr th:only-of-type {\n",
       "        vertical-align: middle;\n",
       "    }\n",
       "\n",
       "    .dataframe tbody tr th {\n",
       "        vertical-align: top;\n",
       "    }\n",
       "\n",
       "    .dataframe thead th {\n",
       "        text-align: right;\n",
       "    }\n",
       "</style>\n",
       "<table border=\"1\" class=\"dataframe\">\n",
       "  <thead>\n",
       "    <tr style=\"text-align: right;\">\n",
       "      <th></th>\n",
       "      <th>lessbiased</th>\n",
       "      <th>malebiased</th>\n",
       "    </tr>\n",
       "  </thead>\n",
       "  <tbody>\n",
       "    <tr>\n",
       "      <th>word</th>\n",
       "      <td>5.747253</td>\n",
       "      <td>5.252747</td>\n",
       "    </tr>\n",
       "    <tr>\n",
       "      <th>all_others</th>\n",
       "      <td>517.252747</td>\n",
       "      <td>472.747253</td>\n",
       "    </tr>\n",
       "  </tbody>\n",
       "</table>\n",
       "</div>"
      ],
      "text/plain": [
       "            lessbiased  malebiased\n",
       "word          5.747253    5.252747\n",
       "all_others  517.252747  472.747253"
      ]
     },
     "execution_count": 36,
     "metadata": {},
     "output_type": "execute_result"
    }
   ],
   "source": [
    "expected = expected * total_words\n",
    "expected"
   ]
  },
  {
   "cell_type": "code",
   "execution_count": 37,
   "id": "frozen-profile",
   "metadata": {},
   "outputs": [
    {
     "data": {
      "text/plain": [
       "4.253458349580979"
      ]
     },
     "execution_count": 37,
     "metadata": {},
     "output_type": "execute_result"
    }
   ],
   "source": [
    "G = 0\n",
    "for i in range(2):\n",
    "    for j in range(2):\n",
    "        O = observed.iat[i, j]\n",
    "        E = expected.iat[i, j]\n",
    "        G = G + O * math.log(O / E)\n",
    "G = 2 * G\n",
    "G"
   ]
  },
  {
   "cell_type": "code",
   "execution_count": 38,
   "id": "combined-stationery",
   "metadata": {},
   "outputs": [],
   "source": [
    "def get_dunnings(word, series1, series2):\n",
    "    observed = pd.DataFrame({'series1': [series1[word], sum(series1) - series1[word]],\n",
    "                          'series2': [series2[word], sum(series2) - series2[word]]},\n",
    "                        index = ['word', 'all_others'])\n",
    "    total_words = observed.to_numpy().sum()\n",
    "    observed['word_totals'] = observed.sum(axis = 1)\n",
    "    observed = observed.append(observed.sum(axis = 0).rename(index = 'group_totals'))\n",
    "    observed.iat[2,2] = 0\n",
    "    observed['word_totals'] = observed['word_totals'] / sum(observed['word_totals'])\n",
    "    observed.loc['group_totals', : ] = observed.loc['group_totals', : ] / sum(observed.loc['group_totals', : ])\n",
    "    expected = np.outer(observed['word_totals'][0:2], observed.loc['group_totals', : ][0:2])\n",
    "    expected = pd.DataFrame(expected, index = ['word', 'all_others'], columns = ['lessbiased', 'malebiased'])\n",
    "    expected = expected * total_words\n",
    "    \n",
    "    G = 0\n",
    "    for i in range(2):\n",
    "        for j in range(2):\n",
    "            O = observed.iat[i, j] + .000001\n",
    "            E = expected.iat[i, j] + .000001\n",
    "            G = G + O * math.log(O / E)\n",
    "    \n",
    "    if observed.iat[0, 0] < observed.iat[0, 1]:\n",
    "        G = -G    # we provide a signed version of the statistic to distinguish\n",
    "                  # overrepresentation in the two categories\n",
    "    \n",
    "    return 2 * G"
   ]
  },
  {
   "cell_type": "code",
   "execution_count": 41,
   "id": "turned-element",
   "metadata": {},
   "outputs": [],
   "source": [
    "dunningslist = []\n",
    "for word in features:\n",
    "    dunningslist.append(get_dunnings(word, lessbiased, malebiased))\n",
    "\n",
    "dunnings = pd.Series(data = dunningslist, index = features)"
   ]
  },
  {
   "cell_type": "code",
   "execution_count": 42,
   "id": "killing-athens",
   "metadata": {},
   "outputs": [
    {
     "data": {
      "text/plain": [
       "-9.470499341856467"
      ]
     },
     "execution_count": 42,
     "metadata": {},
     "output_type": "execute_result"
    }
   ],
   "source": [
    "get_dunnings('trek', lessbiased, malebiased)"
   ]
  },
  {
   "cell_type": "code",
   "execution_count": 43,
   "id": "ideal-pharmacy",
   "metadata": {},
   "outputs": [
    {
     "data": {
      "text/plain": [
       "men         -14.836588\n",
       "star        -10.072848\n",
       "trek         -9.470499\n",
       "planet       -7.418878\n",
       "potter       -7.418878\n",
       "rise         -7.418878\n",
       "ii           -6.294027\n",
       "get          -4.454924\n",
       "episode      -4.454924\n",
       "wars         -4.454924\n",
       "hard         -4.454924\n",
       "king         -3.439507\n",
       "war          -3.301413\n",
       "rocky        -3.301413\n",
       "good         -2.045792\n",
       "for          -2.010646\n",
       "harry        -1.623436\n",
       "rock         -0.876864\n",
       "four         -0.876864\n",
       "your         -0.876864\n",
       "blood        -0.707087\n",
       "dark         -0.707087\n",
       "man          -0.630587\n",
       "back         -0.608949\n",
       "from         -0.545646\n",
       "green        -0.302950\n",
       "seven        -0.302950\n",
       "america      -0.249221\n",
       "part         -0.249221\n",
       "ghost        -0.249221\n",
       "big          -0.221511\n",
       "white        -0.221511\n",
       "city         -0.221511\n",
       "iii          -0.221511\n",
       "world        -0.205519\n",
       "lost         -0.205519\n",
       "to           -0.199226\n",
       "black        -0.195815\n",
       "day           0.007198\n",
       "year          0.012211\n",
       "is            0.012211\n",
       "movie         0.012211\n",
       "end           0.012211\n",
       "dragon        0.012211\n",
       "who           0.012211\n",
       "boys          0.012211\n",
       "two           0.012211\n",
       "park          0.012211\n",
       "an            0.016315\n",
       "bad           0.016315\n",
       "red           0.016315\n",
       "mr            0.020434\n",
       "at            0.020434\n",
       "time          0.023576\n",
       "life          0.028724\n",
       "american      0.037081\n",
       "up            0.039935\n",
       "one           0.039935\n",
       "out           0.068011\n",
       "eyes          0.068011\n",
       "no            0.068011\n",
       "last          0.080600\n",
       "with          0.104750\n",
       "fear          0.122104\n",
       "return        0.122104\n",
       "night         0.136982\n",
       "dead          0.181390\n",
       "evil          0.344301\n",
       "all           0.344301\n",
       "wild          0.369994\n",
       "legend        0.514807\n",
       "first         0.514807\n",
       "go            0.514807\n",
       "new           0.774493\n",
       "final         1.079803\n",
       "fire          1.079803\n",
       "blue          1.079803\n",
       "my            1.298495\n",
       "love          1.318749\n",
       "street        1.569757\n",
       "point         1.675397\n",
       "boy           1.675397\n",
       "it            1.762664\n",
       "friday        1.762664\n",
       "little        1.762664\n",
       "you           2.174348\n",
       "in            2.283826\n",
       "people        2.577297\n",
       "wedding       2.577297\n",
       "things        2.577297\n",
       "woman         2.577297\n",
       "days          3.414758\n",
       "on            3.944445\n",
       "house         4.253457\n",
       "me            4.457813\n",
       "nightmare     4.570488\n",
       "13th          6.514641\n",
       "her           9.133441\n",
       "halloween    10.445635\n",
       "girl         11.283087\n",
       "dtype: float64"
      ]
     },
     "execution_count": 43,
     "metadata": {},
     "output_type": "execute_result"
    }
   ],
   "source": [
    "dunnings.sort_values()"
   ]
  },
  {
   "cell_type": "markdown",
   "id": "prospective-cisco",
   "metadata": {},
   "source": [
    "## Evaluating the strength of a relationship with multiple variables\n",
    "\n",
    "If we want to know how well ```releaseyr``` can explain ```frac_women``` we can just take the Pearson correlation. We'll get a value for *r*, and if we square it we get $r^2$, the fraction of variance in y explained by x.\n",
    "\n",
    "But what can we do if we want to know, for instance, how well all these title words can explain ```frac_women```? We can't take Pearson correlation with a hundred variables.\n",
    "\n",
    "In principle we can use multiple linear regression to achieve this."
   ]
  },
  {
   "cell_type": "code",
   "execution_count": 306,
   "id": "stylish-listing",
   "metadata": {},
   "outputs": [],
   "source": [
    "from sklearn import linear_model\n",
    "from sklearn.metrics import r2_score"
   ]
  },
  {
   "cell_type": "markdown",
   "id": "exciting-personal",
   "metadata": {},
   "source": [
    "This technique works really well when we have a couple of predictive variables."
   ]
  },
  {
   "cell_type": "code",
   "execution_count": 350,
   "id": "chicken-spray",
   "metadata": {},
   "outputs": [
    {
     "data": {
      "image/png": "[encoded data removed]",
      "text/plain": [
       "<Figure size 432x288 with 1 Axes>"
      ]
     },
     "metadata": {
      "needs_background": "light"
     },
     "output_type": "display_data"
    }
   ],
   "source": [
    "X = data.loc[ : , ['releaseyr', 'gross']]\n",
    "y = data['frac_women']\n",
    "\n",
    "regr = linear_model.LinearRegression()\n",
    "regr.fit(X, y)\n",
    "y_pred = regr.predict(X)\n",
    "plt.scatter(y, y_pred)\n",
    "\n",
    "z = np.polyfit(y, y_pred, 1)\n",
    "p = np.poly1d(z)\n",
    "plt.plot(y,p(y),\"r-\")\n",
    "\n",
    "plt.show()"
   ]
  },
  {
   "cell_type": "code",
   "execution_count": 325,
   "id": "moderate-polls",
   "metadata": {},
   "outputs": [
    {
     "name": "stdout",
     "output_type": "stream",
     "text": [
      "Coefficient of determination:  0.014833951291363001\n"
     ]
    }
   ],
   "source": [
    "print('Coefficient of determination: ', r2_score(y, y_pred))"
   ]
  },
  {
   "cell_type": "code",
   "execution_count": 326,
   "id": "mediterranean-penalty",
   "metadata": {},
   "outputs": [
    {
     "name": "stdout",
     "output_type": "stream",
     "text": [
      "r2 =  0.014833951291363013\n"
     ]
    }
   ],
   "source": [
    "r, p = pearsonr(y, y_pred)\n",
    "print('r2 = ', r **2)"
   ]
  },
  {
   "cell_type": "markdown",
   "id": "sudden-princeton",
   "metadata": {},
   "source": [
    "### overfitting \n",
    "\n",
    "But notice what happens when we try this with title words and on the first 50 films."
   ]
  },
  {
   "cell_type": "code",
   "execution_count": 352,
   "id": "played-pharmacology",
   "metadata": {},
   "outputs": [
    {
     "name": "stdout",
     "output_type": "stream",
     "text": [
      "Coefficient of determination:  0.49760155958555263\n"
     ]
    },
    {
     "data": {
      "image/png": "[encoded data removed]",
      "text/plain": [
       "<Figure size 432x288 with 1 Axes>"
      ]
     },
     "metadata": {
      "needs_background": "light"
     },
     "output_type": "display_data"
    }
   ],
   "source": [
    "X = data.iloc[ 0: 50 , 0: 100]\n",
    "y = data.iloc[0: 50, data.columns.tolist().index('frac_women')]\n",
    "\n",
    "regr = linear_model.LinearRegression()\n",
    "regr.fit(X, y)\n",
    "y_pred = regr.predict(X)\n",
    "plt.scatter(y, y_pred)\n",
    "\n",
    "z = np.polyfit(y, y_pred, 1)\n",
    "p = np.poly1d(z)\n",
    "plt.plot(y,p(y),\"r-\")\n",
    "\n",
    "print('Coefficient of determination: ', r2_score(y, y_pred))"
   ]
  },
  {
   "cell_type": "markdown",
   "id": "wanted-option",
   "metadata": {},
   "source": [
    "Wow — title words are really powerful! We can explain about half the variance in gender equality just by looking at the top hundred words in film titles.\n",
    "\n",
    "Something's not right here.\n",
    "\n",
    "**DISCUSSION:**\n",
    "\n",
    "What's wrong here? Our linear regression was technically correct, as far as the code went. But our results are suspiciously good. How are we fooling ourselves?\n",
    "\n",
    "And how could we test our model to prove that it's fooling us?"
   ]
  },
  {
   "cell_type": "code",
   "execution_count": 353,
   "id": "manual-planning",
   "metadata": {},
   "outputs": [
    {
     "name": "stdout",
     "output_type": "stream",
     "text": [
      "Coefficient of determination:  -2.882404240097612e+27\n"
     ]
    },
    {
     "data": {
      "image/png": "[encoded data removed]",
      "text/plain": [
       "<Figure size 432x288 with 1 Axes>"
      ]
     },
     "metadata": {
      "needs_background": "light"
     },
     "output_type": "display_data"
    }
   ],
   "source": [
    "X_test = data.iloc[ 50: 100, 0: 100]\n",
    "y_pred = regr.predict(X_test)\n",
    "plt.scatter(y, y_pred)\n",
    "\n",
    "z = np.polyfit(y, y_pred, 1)\n",
    "p = np.poly1d(z)\n",
    "plt.plot(y,p(y),\"r-\")\n",
    "\n",
    "print('Coefficient of determination: ', r2_score(y, y_pred))"
   ]
  },
  {
   "cell_type": "code",
   "execution_count": 295,
   "id": "competent-paste",
   "metadata": {},
   "outputs": [],
   "source": [
    "from sklearn.naive_bayes import MultinomialNB"
   ]
  },
  {
   "cell_type": "code",
   "execution_count": 355,
   "id": "falling-hygiene",
   "metadata": {},
   "outputs": [],
   "source": [
    "data = data.sample(frac = 1)\n",
    "\n",
    "train = data.iloc[0:1600]\n",
    "test = data.iloc[1600:]"
   ]
  },
  {
   "cell_type": "code",
   "execution_count": 378,
   "id": "cross-turner",
   "metadata": {},
   "outputs": [],
   "source": [
    "train_y = train['frac_women'] \n",
    "train_X = train.iloc[ : , 0: 100]"
   ]
  },
  {
   "cell_type": "code",
   "execution_count": 387,
   "id": "negative-dictionary",
   "metadata": {},
   "outputs": [
    {
     "name": "stdout",
     "output_type": "stream",
     "text": [
      "Coefficient of determination:  0.016404113465274706\n"
     ]
    }
   ],
   "source": [
    "ridge = linear_model.Ridge(alpha = 10)\n",
    "ridge.fit(train_X, train_y)\n",
    "\n",
    "test_y = test['frac_women']\n",
    "test_X = test.iloc[ : , 0: 100]\n",
    "\n",
    "y_pred = ridge.predict(test_X)\n",
    "\n",
    "print('Coefficient of determination: ', r2_score(test_y, y_pred))"
   ]
  },
  {
   "cell_type": "code",
   "execution_count": 388,
   "id": "julian-robertson",
   "metadata": {},
   "outputs": [
    {
     "data": {
      "text/plain": [
       "[<matplotlib.lines.Line2D at 0x7fdd610a9bd0>]"
      ]
     },
     "execution_count": 388,
     "metadata": {},
     "output_type": "execute_result"
    },
    {
     "data": {
      "image/png": "[encoded data removed]",
      "text/plain": [
       "<Figure size 432x288 with 1 Axes>"
      ]
     },
     "metadata": {
      "needs_background": "light"
     },
     "output_type": "display_data"
    }
   ],
   "source": [
    "plt.scatter(test_y, y_pred)\n",
    "z = np.polyfit(test_y, y_pred, 1)\n",
    "p = np.poly1d(z)\n",
    "plt.plot(y,p(y),\"r-\")"
   ]
  },
  {
   "cell_type": "code",
   "execution_count": 389,
   "id": "historic-moses",
   "metadata": {},
   "outputs": [
    {
     "data": {
      "text/plain": [
       "0.567"
      ]
     },
     "execution_count": 389,
     "metadata": {},
     "output_type": "execute_result"
    }
   ],
   "source": [
    "sum(yhat == belongs2less) / len(yhat)"
   ]
  },
  {
   "cell_type": "code",
   "execution_count": 303,
   "id": "straight-selling",
   "metadata": {},
   "outputs": [],
   "source": [
    "import statsmodels.api as sm"
   ]
  },
  {
   "cell_type": "code",
   "execution_count": 304,
   "id": "living-hormone",
   "metadata": {},
   "outputs": [
    {
     "ename": "ValueError",
     "evalue": "shapes (2000,101) and (2000,101) not aligned: 101 (dim 1) != 2000 (dim 0)",
     "output_type": "error",
     "traceback": [
      "\u001b[0;31m---------------------------------------------------------------------------\u001b[0m",
      "\u001b[0;31mValueError\u001b[0m                                Traceback (most recent call last)",
      "\u001b[0;32m<ipython-input-304-22732a1d969f>\u001b[0m in \u001b[0;36m<module>\u001b[0;34m\u001b[0m\n\u001b[1;32m      2\u001b[0m \u001b[0mmodel\u001b[0m \u001b[0;34m=\u001b[0m \u001b[0msm\u001b[0m\u001b[0;34m.\u001b[0m\u001b[0mOLS\u001b[0m\u001b[0;34m(\u001b[0m\u001b[0mbelongs2less\u001b[0m\u001b[0;34m,\u001b[0m \u001b[0mX\u001b[0m\u001b[0;34m)\u001b[0m\u001b[0;34m\u001b[0m\u001b[0;34m\u001b[0m\u001b[0m\n\u001b[1;32m      3\u001b[0m \u001b[0mresults\u001b[0m \u001b[0;34m=\u001b[0m \u001b[0mmodel\u001b[0m\u001b[0;34m.\u001b[0m\u001b[0mfit\u001b[0m\u001b[0;34m(\u001b[0m\u001b[0;34m)\u001b[0m\u001b[0;34m\u001b[0m\u001b[0;34m\u001b[0m\u001b[0m\n\u001b[0;32m----> 4\u001b[0;31m \u001b[0myhat\u001b[0m \u001b[0;34m=\u001b[0m \u001b[0mmodel\u001b[0m\u001b[0;34m.\u001b[0m\u001b[0mpredict\u001b[0m\u001b[0;34m(\u001b[0m\u001b[0mX\u001b[0m\u001b[0;34m)\u001b[0m\u001b[0;34m\u001b[0m\u001b[0;34m\u001b[0m\u001b[0m\n\u001b[0m",
      "\u001b[0;32m~/opt/anaconda3/lib/python3.7/site-packages/statsmodels/regression/linear_model.py\u001b[0m in \u001b[0;36mpredict\u001b[0;34m(self, params, exog)\u001b[0m\n\u001b[1;32m    378\u001b[0m             \u001b[0mexog\u001b[0m \u001b[0;34m=\u001b[0m \u001b[0mself\u001b[0m\u001b[0;34m.\u001b[0m\u001b[0mexog\u001b[0m\u001b[0;34m\u001b[0m\u001b[0;34m\u001b[0m\u001b[0m\n\u001b[1;32m    379\u001b[0m \u001b[0;34m\u001b[0m\u001b[0m\n\u001b[0;32m--> 380\u001b[0;31m         \u001b[0;32mreturn\u001b[0m \u001b[0mnp\u001b[0m\u001b[0;34m.\u001b[0m\u001b[0mdot\u001b[0m\u001b[0;34m(\u001b[0m\u001b[0mexog\u001b[0m\u001b[0;34m,\u001b[0m \u001b[0mparams\u001b[0m\u001b[0;34m)\u001b[0m\u001b[0;34m\u001b[0m\u001b[0;34m\u001b[0m\u001b[0m\n\u001b[0m\u001b[1;32m    381\u001b[0m \u001b[0;34m\u001b[0m\u001b[0m\n\u001b[1;32m    382\u001b[0m     \u001b[0;32mdef\u001b[0m \u001b[0mget_distribution\u001b[0m\u001b[0;34m(\u001b[0m\u001b[0mself\u001b[0m\u001b[0;34m,\u001b[0m \u001b[0mparams\u001b[0m\u001b[0;34m,\u001b[0m \u001b[0mscale\u001b[0m\u001b[0;34m,\u001b[0m \u001b[0mexog\u001b[0m\u001b[0;34m=\u001b[0m\u001b[0;32mNone\u001b[0m\u001b[0;34m,\u001b[0m \u001b[0mdist_class\u001b[0m\u001b[0;34m=\u001b[0m\u001b[0;32mNone\u001b[0m\u001b[0;34m)\u001b[0m\u001b[0;34m:\u001b[0m\u001b[0;34m\u001b[0m\u001b[0;34m\u001b[0m\u001b[0m\n",
      "\u001b[0;32m<__array_function__ internals>\u001b[0m in \u001b[0;36mdot\u001b[0;34m(*args, **kwargs)\u001b[0m\n",
      "\u001b[0;31mValueError\u001b[0m: shapes (2000,101) and (2000,101) not aligned: 101 (dim 1) != 2000 (dim 0)"
     ]
    }
   ],
   "source": [
    "X = sm.add_constant(X)\n",
    "model = sm.OLS(belongs2less, X)\n",
    "results = model.fit()\n",
    "yhat = model.predict(X)"
   ]
  },
  {
   "cell_type": "code",
   "execution_count": 305,
   "id": "accredited-trademark",
   "metadata": {},
   "outputs": [
    {
     "data": {
      "text/html": [
       "<table class=\"simpletable\">\n",
       "<caption>OLS Regression Results</caption>\n",
       "<tr>\n",
       "  <th>Dep. Variable:</th>       <td>frac_women</td>    <th>  R-squared:         </th> <td>   0.077</td>\n",
       "</tr>\n",
       "<tr>\n",
       "  <th>Model:</th>                   <td>OLS</td>       <th>  Adj. R-squared:    </th> <td>   0.029</td>\n",
       "</tr>\n",
       "<tr>\n",
       "  <th>Method:</th>             <td>Least Squares</td>  <th>  F-statistic:       </th> <td>   1.603</td>\n",
       "</tr>\n",
       "<tr>\n",
       "  <th>Date:</th>             <td>Mon, 06 Sep 2021</td> <th>  Prob (F-statistic):</th> <td>0.000216</td>\n",
       "</tr>\n",
       "<tr>\n",
       "  <th>Time:</th>                 <td>23:52:41</td>     <th>  Log-Likelihood:    </th> <td> -1371.4</td>\n",
       "</tr>\n",
       "<tr>\n",
       "  <th>No. Observations:</th>      <td>  2000</td>      <th>  AIC:               </th> <td>   2943.</td>\n",
       "</tr>\n",
       "<tr>\n",
       "  <th>Df Residuals:</th>          <td>  1900</td>      <th>  BIC:               </th> <td>   3503.</td>\n",
       "</tr>\n",
       "<tr>\n",
       "  <th>Df Model:</th>              <td>    99</td>      <th>                     </th>     <td> </td>   \n",
       "</tr>\n",
       "<tr>\n",
       "  <th>Covariance Type:</th>      <td>nonrobust</td>    <th>                     </th>     <td> </td>   \n",
       "</tr>\n",
       "</table>\n",
       "<table class=\"simpletable\">\n",
       "<tr>\n",
       "      <td></td>         <th>coef</th>     <th>std err</th>      <th>t</th>      <th>P>|t|</th>  <th>[0.025</th>    <th>0.975]</th>  \n",
       "</tr>\n",
       "<tr>\n",
       "  <th>const</th>     <td>    0.4864</td> <td>    0.013</td> <td>   36.509</td> <td> 0.000</td> <td>    0.460</td> <td>    0.513</td>\n",
       "</tr>\n",
       "<tr>\n",
       "  <th>13th</th>      <td>    1.1390</td> <td>    0.399</td> <td>    2.855</td> <td> 0.004</td> <td>    0.357</td> <td>    1.921</td>\n",
       "</tr>\n",
       "<tr>\n",
       "  <th>all</th>       <td>    0.1664</td> <td>    0.182</td> <td>    0.915</td> <td> 0.360</td> <td>   -0.190</td> <td>    0.523</td>\n",
       "</tr>\n",
       "<tr>\n",
       "  <th>america</th>   <td>   -0.1506</td> <td>    0.194</td> <td>   -0.777</td> <td> 0.437</td> <td>   -0.531</td> <td>    0.229</td>\n",
       "</tr>\n",
       "<tr>\n",
       "  <th>american</th>  <td>    0.0060</td> <td>    0.119</td> <td>    0.051</td> <td> 0.960</td> <td>   -0.227</td> <td>    0.239</td>\n",
       "</tr>\n",
       "<tr>\n",
       "  <th>an</th>        <td>   -0.0578</td> <td>    0.180</td> <td>   -0.321</td> <td> 0.749</td> <td>   -0.411</td> <td>    0.296</td>\n",
       "</tr>\n",
       "<tr>\n",
       "  <th>at</th>        <td>   -0.0302</td> <td>    0.172</td> <td>   -0.176</td> <td> 0.861</td> <td>   -0.368</td> <td>    0.308</td>\n",
       "</tr>\n",
       "<tr>\n",
       "  <th>back</th>      <td>   -0.0120</td> <td>    0.170</td> <td>   -0.071</td> <td> 0.943</td> <td>   -0.345</td> <td>    0.321</td>\n",
       "</tr>\n",
       "<tr>\n",
       "  <th>bad</th>       <td> 1.611e-05</td> <td>    0.183</td> <td> 8.82e-05</td> <td> 1.000</td> <td>   -0.358</td> <td>    0.358</td>\n",
       "</tr>\n",
       "<tr>\n",
       "  <th>big</th>       <td>   -0.1259</td> <td>    0.169</td> <td>   -0.745</td> <td> 0.456</td> <td>   -0.458</td> <td>    0.206</td>\n",
       "</tr>\n",
       "<tr>\n",
       "  <th>black</th>     <td>    0.0352</td> <td>    0.141</td> <td>    0.250</td> <td> 0.803</td> <td>   -0.241</td> <td>    0.311</td>\n",
       "</tr>\n",
       "<tr>\n",
       "  <th>blood</th>     <td>   -0.0079</td> <td>    0.182</td> <td>   -0.043</td> <td> 0.966</td> <td>   -0.365</td> <td>    0.349</td>\n",
       "</tr>\n",
       "<tr>\n",
       "  <th>blue</th>      <td>    0.2255</td> <td>    0.189</td> <td>    1.191</td> <td> 0.234</td> <td>   -0.146</td> <td>    0.597</td>\n",
       "</tr>\n",
       "<tr>\n",
       "  <th>boy</th>       <td>    0.3142</td> <td>    0.228</td> <td>    1.378</td> <td> 0.168</td> <td>   -0.133</td> <td>    0.761</td>\n",
       "</tr>\n",
       "<tr>\n",
       "  <th>boys</th>      <td>   -0.0651</td> <td>    0.210</td> <td>   -0.309</td> <td> 0.757</td> <td>   -0.478</td> <td>    0.347</td>\n",
       "</tr>\n",
       "<tr>\n",
       "  <th>city</th>      <td>   -0.0038</td> <td>    0.168</td> <td>   -0.023</td> <td> 0.982</td> <td>   -0.333</td> <td>    0.325</td>\n",
       "</tr>\n",
       "<tr>\n",
       "  <th>dark</th>      <td>   -0.1566</td> <td>    0.180</td> <td>   -0.871</td> <td> 0.384</td> <td>   -0.509</td> <td>    0.196</td>\n",
       "</tr>\n",
       "<tr>\n",
       "  <th>day</th>       <td>    0.0580</td> <td>    0.130</td> <td>    0.445</td> <td> 0.656</td> <td>   -0.198</td> <td>    0.314</td>\n",
       "</tr>\n",
       "<tr>\n",
       "  <th>days</th>      <td>    0.2843</td> <td>    0.140</td> <td>    2.027</td> <td> 0.043</td> <td>    0.009</td> <td>    0.559</td>\n",
       "</tr>\n",
       "<tr>\n",
       "  <th>dead</th>      <td>    0.0518</td> <td>    0.146</td> <td>    0.355</td> <td> 0.722</td> <td>   -0.234</td> <td>    0.338</td>\n",
       "</tr>\n",
       "<tr>\n",
       "  <th>dragon</th>    <td>   -0.0298</td> <td>    0.221</td> <td>   -0.135</td> <td> 0.893</td> <td>   -0.463</td> <td>    0.403</td>\n",
       "</tr>\n",
       "<tr>\n",
       "  <th>end</th>       <td>   -0.0238</td> <td>    0.212</td> <td>   -0.112</td> <td> 0.911</td> <td>   -0.440</td> <td>    0.392</td>\n",
       "</tr>\n",
       "<tr>\n",
       "  <th>episode</th>   <td> 7.485e+12</td> <td> 7.53e+12</td> <td>    0.994</td> <td> 0.320</td> <td>-7.28e+12</td> <td> 2.23e+13</td>\n",
       "</tr>\n",
       "<tr>\n",
       "  <th>evil</th>      <td>    0.1337</td> <td>    0.177</td> <td>    0.755</td> <td> 0.450</td> <td>   -0.214</td> <td>    0.481</td>\n",
       "</tr>\n",
       "<tr>\n",
       "  <th>eyes</th>      <td>    0.1428</td> <td>    0.191</td> <td>    0.746</td> <td> 0.456</td> <td>   -0.233</td> <td>    0.518</td>\n",
       "</tr>\n",
       "<tr>\n",
       "  <th>fear</th>      <td>    0.0878</td> <td>    0.221</td> <td>    0.397</td> <td> 0.691</td> <td>   -0.346</td> <td>    0.522</td>\n",
       "</tr>\n",
       "<tr>\n",
       "  <th>final</th>     <td>    0.3171</td> <td>    0.196</td> <td>    1.615</td> <td> 0.106</td> <td>   -0.068</td> <td>    0.702</td>\n",
       "</tr>\n",
       "<tr>\n",
       "  <th>fire</th>      <td>    0.2487</td> <td>    0.192</td> <td>    1.294</td> <td> 0.196</td> <td>   -0.128</td> <td>    0.626</td>\n",
       "</tr>\n",
       "<tr>\n",
       "  <th>first</th>     <td>    0.3855</td> <td>    0.219</td> <td>    1.761</td> <td> 0.078</td> <td>   -0.044</td> <td>    0.815</td>\n",
       "</tr>\n",
       "<tr>\n",
       "  <th>for</th>       <td>   -0.1076</td> <td>    0.125</td> <td>   -0.860</td> <td> 0.390</td> <td>   -0.353</td> <td>    0.138</td>\n",
       "</tr>\n",
       "<tr>\n",
       "  <th>four</th>      <td>   -0.1529</td> <td>    0.202</td> <td>   -0.758</td> <td> 0.448</td> <td>   -0.548</td> <td>    0.243</td>\n",
       "</tr>\n",
       "<tr>\n",
       "  <th>friday</th>    <td>   -0.4245</td> <td>    0.297</td> <td>   -1.428</td> <td> 0.153</td> <td>   -1.007</td> <td>    0.158</td>\n",
       "</tr>\n",
       "<tr>\n",
       "  <th>from</th>      <td>   -0.1363</td> <td>    0.146</td> <td>   -0.935</td> <td> 0.350</td> <td>   -0.422</td> <td>    0.150</td>\n",
       "</tr>\n",
       "<tr>\n",
       "  <th>get</th>       <td>   -0.3409</td> <td>    0.191</td> <td>   -1.784</td> <td> 0.075</td> <td>   -0.716</td> <td>    0.034</td>\n",
       "</tr>\n",
       "<tr>\n",
       "  <th>ghost</th>     <td>   -0.0628</td> <td>    0.188</td> <td>   -0.334</td> <td> 0.739</td> <td>   -0.432</td> <td>    0.306</td>\n",
       "</tr>\n",
       "<tr>\n",
       "  <th>girl</th>      <td>    0.4736</td> <td>    0.138</td> <td>    3.433</td> <td> 0.001</td> <td>    0.203</td> <td>    0.744</td>\n",
       "</tr>\n",
       "<tr>\n",
       "  <th>go</th>        <td>    0.1748</td> <td>    0.205</td> <td>    0.854</td> <td> 0.393</td> <td>   -0.227</td> <td>    0.576</td>\n",
       "</tr>\n",
       "<tr>\n",
       "  <th>good</th>      <td>   -0.2099</td> <td>    0.147</td> <td>   -1.426</td> <td> 0.154</td> <td>   -0.499</td> <td>    0.079</td>\n",
       "</tr>\n",
       "<tr>\n",
       "  <th>green</th>     <td>   -0.0861</td> <td>    0.221</td> <td>   -0.390</td> <td> 0.697</td> <td>   -0.519</td> <td>    0.347</td>\n",
       "</tr>\n",
       "<tr>\n",
       "  <th>halloween</th> <td>    0.5352</td> <td>    0.178</td> <td>    3.008</td> <td> 0.003</td> <td>    0.186</td> <td>    0.884</td>\n",
       "</tr>\n",
       "<tr>\n",
       "  <th>hard</th>      <td>   -0.2974</td> <td>    0.190</td> <td>   -1.568</td> <td> 0.117</td> <td>   -0.669</td> <td>    0.075</td>\n",
       "</tr>\n",
       "<tr>\n",
       "  <th>harry</th>     <td>    0.5128</td> <td>    0.349</td> <td>    1.470</td> <td> 0.142</td> <td>   -0.171</td> <td>    1.197</td>\n",
       "</tr>\n",
       "<tr>\n",
       "  <th>her</th>       <td>    0.4902</td> <td>    0.189</td> <td>    2.593</td> <td> 0.010</td> <td>    0.119</td> <td>    0.861</td>\n",
       "</tr>\n",
       "<tr>\n",
       "  <th>house</th>     <td>    0.3363</td> <td>    0.151</td> <td>    2.222</td> <td> 0.026</td> <td>    0.040</td> <td>    0.633</td>\n",
       "</tr>\n",
       "<tr>\n",
       "  <th>ii</th>        <td>   -0.1836</td> <td>    0.119</td> <td>   -1.545</td> <td> 0.123</td> <td>   -0.417</td> <td>    0.050</td>\n",
       "</tr>\n",
       "<tr>\n",
       "  <th>iii</th>       <td>    0.0763</td> <td>    0.179</td> <td>    0.427</td> <td> 0.669</td> <td>   -0.274</td> <td>    0.427</td>\n",
       "</tr>\n",
       "<tr>\n",
       "  <th>in</th>        <td>    0.1281</td> <td>    0.077</td> <td>    1.660</td> <td> 0.097</td> <td>   -0.023</td> <td>    0.280</td>\n",
       "</tr>\n",
       "<tr>\n",
       "  <th>is</th>        <td>    0.0037</td> <td>    0.207</td> <td>    0.018</td> <td> 0.986</td> <td>   -0.403</td> <td>    0.410</td>\n",
       "</tr>\n",
       "<tr>\n",
       "  <th>it</th>        <td>    0.3011</td> <td>    0.176</td> <td>    1.706</td> <td> 0.088</td> <td>   -0.045</td> <td>    0.647</td>\n",
       "</tr>\n",
       "<tr>\n",
       "  <th>king</th>      <td>   -0.2698</td> <td>    0.167</td> <td>   -1.615</td> <td> 0.106</td> <td>   -0.598</td> <td>    0.058</td>\n",
       "</tr>\n",
       "<tr>\n",
       "  <th>last</th>      <td>    0.0249</td> <td>    0.120</td> <td>    0.208</td> <td> 0.835</td> <td>   -0.210</td> <td>    0.260</td>\n",
       "</tr>\n",
       "<tr>\n",
       "  <th>legend</th>    <td>    0.1736</td> <td>    0.203</td> <td>    0.854</td> <td> 0.393</td> <td>   -0.225</td> <td>    0.572</td>\n",
       "</tr>\n",
       "<tr>\n",
       "  <th>life</th>      <td>   -0.0583</td> <td>    0.137</td> <td>   -0.426</td> <td> 0.670</td> <td>   -0.327</td> <td>    0.210</td>\n",
       "</tr>\n",
       "<tr>\n",
       "  <th>little</th>    <td>    0.2721</td> <td>    0.175</td> <td>    1.555</td> <td> 0.120</td> <td>   -0.071</td> <td>    0.615</td>\n",
       "</tr>\n",
       "<tr>\n",
       "  <th>lost</th>      <td>   -0.0476</td> <td>    0.154</td> <td>   -0.309</td> <td> 0.757</td> <td>   -0.350</td> <td>    0.254</td>\n",
       "</tr>\n",
       "<tr>\n",
       "  <th>love</th>      <td>    0.1732</td> <td>    0.161</td> <td>    1.076</td> <td> 0.282</td> <td>   -0.143</td> <td>    0.489</td>\n",
       "</tr>\n",
       "<tr>\n",
       "  <th>man</th>       <td>   -0.0656</td> <td>    0.088</td> <td>   -0.746</td> <td> 0.456</td> <td>   -0.238</td> <td>    0.107</td>\n",
       "</tr>\n",
       "<tr>\n",
       "  <th>me</th>        <td>    0.1591</td> <td>    0.116</td> <td>    1.368</td> <td> 0.171</td> <td>   -0.069</td> <td>    0.387</td>\n",
       "</tr>\n",
       "<tr>\n",
       "  <th>men</th>       <td>   -0.4396</td> <td>    0.132</td> <td>   -3.328</td> <td> 0.001</td> <td>   -0.699</td> <td>   -0.181</td>\n",
       "</tr>\n",
       "<tr>\n",
       "  <th>movie</th>     <td>   -0.0462</td> <td>    0.206</td> <td>   -0.224</td> <td> 0.823</td> <td>   -0.451</td> <td>    0.358</td>\n",
       "</tr>\n",
       "<tr>\n",
       "  <th>mr</th>        <td>   -0.0233</td> <td>    0.158</td> <td>   -0.147</td> <td> 0.883</td> <td>   -0.333</td> <td>    0.286</td>\n",
       "</tr>\n",
       "<tr>\n",
       "  <th>my</th>        <td>    0.0287</td> <td>    0.134</td> <td>    0.214</td> <td> 0.831</td> <td>   -0.235</td> <td>    0.292</td>\n",
       "</tr>\n",
       "<tr>\n",
       "  <th>new</th>       <td>    0.2006</td> <td>    0.169</td> <td>    1.188</td> <td> 0.235</td> <td>   -0.131</td> <td>    0.532</td>\n",
       "</tr>\n",
       "<tr>\n",
       "  <th>night</th>     <td>    0.0792</td> <td>    0.137</td> <td>    0.576</td> <td> 0.564</td> <td>   -0.190</td> <td>    0.349</td>\n",
       "</tr>\n",
       "<tr>\n",
       "  <th>nightmare</th> <td>    0.1786</td> <td>    0.214</td> <td>    0.835</td> <td> 0.404</td> <td>   -0.241</td> <td>    0.598</td>\n",
       "</tr>\n",
       "<tr>\n",
       "  <th>no</th>        <td>    0.1101</td> <td>    0.195</td> <td>    0.565</td> <td> 0.572</td> <td>   -0.272</td> <td>    0.492</td>\n",
       "</tr>\n",
       "<tr>\n",
       "  <th>on</th>        <td>    0.1772</td> <td>    0.121</td> <td>    1.464</td> <td> 0.143</td> <td>   -0.060</td> <td>    0.415</td>\n",
       "</tr>\n",
       "<tr>\n",
       "  <th>one</th>       <td>    0.0704</td> <td>    0.170</td> <td>    0.415</td> <td> 0.678</td> <td>   -0.262</td> <td>    0.403</td>\n",
       "</tr>\n",
       "<tr>\n",
       "  <th>out</th>       <td>    0.0552</td> <td>    0.189</td> <td>    0.292</td> <td> 0.770</td> <td>   -0.315</td> <td>    0.426</td>\n",
       "</tr>\n",
       "<tr>\n",
       "  <th>park</th>      <td>   -0.0273</td> <td>    0.208</td> <td>   -0.132</td> <td> 0.895</td> <td>   -0.435</td> <td>    0.380</td>\n",
       "</tr>\n",
       "<tr>\n",
       "  <th>part</th>      <td>   -0.3585</td> <td>    0.248</td> <td>   -1.445</td> <td> 0.149</td> <td>   -0.845</td> <td>    0.128</td>\n",
       "</tr>\n",
       "<tr>\n",
       "  <th>people</th>    <td>    0.3674</td> <td>    0.204</td> <td>    1.802</td> <td> 0.072</td> <td>   -0.032</td> <td>    0.767</td>\n",
       "</tr>\n",
       "<tr>\n",
       "  <th>planet</th>    <td>   -0.4528</td> <td>    0.227</td> <td>   -1.995</td> <td> 0.046</td> <td>   -0.898</td> <td>   -0.008</td>\n",
       "</tr>\n",
       "<tr>\n",
       "  <th>point</th>     <td>    0.2893</td> <td>    0.228</td> <td>    1.269</td> <td> 0.204</td> <td>   -0.158</td> <td>    0.736</td>\n",
       "</tr>\n",
       "<tr>\n",
       "  <th>potter</th>    <td>   -1.0483</td> <td>    0.416</td> <td>   -2.521</td> <td> 0.012</td> <td>   -1.864</td> <td>   -0.233</td>\n",
       "</tr>\n",
       "<tr>\n",
       "  <th>red</th>       <td>    0.1109</td> <td>    0.182</td> <td>    0.609</td> <td> 0.543</td> <td>   -0.246</td> <td>    0.468</td>\n",
       "</tr>\n",
       "<tr>\n",
       "  <th>return</th>    <td>    0.0151</td> <td>    0.239</td> <td>    0.063</td> <td> 0.950</td> <td>   -0.454</td> <td>    0.485</td>\n",
       "</tr>\n",
       "<tr>\n",
       "  <th>rise</th>      <td>   -0.2823</td> <td>    0.189</td> <td>   -1.492</td> <td> 0.136</td> <td>   -0.653</td> <td>    0.089</td>\n",
       "</tr>\n",
       "<tr>\n",
       "  <th>rock</th>      <td>   -0.1809</td> <td>    0.211</td> <td>   -0.857</td> <td> 0.392</td> <td>   -0.595</td> <td>    0.233</td>\n",
       "</tr>\n",
       "<tr>\n",
       "  <th>rocky</th>     <td>   -0.3014</td> <td>    0.205</td> <td>   -1.471</td> <td> 0.141</td> <td>   -0.703</td> <td>    0.100</td>\n",
       "</tr>\n",
       "<tr>\n",
       "  <th>seven</th>     <td>   -0.1625</td> <td>    0.225</td> <td>   -0.721</td> <td> 0.471</td> <td>   -0.605</td> <td>    0.280</td>\n",
       "</tr>\n",
       "<tr>\n",
       "  <th>star</th>      <td>    0.2323</td> <td>    0.291</td> <td>    0.798</td> <td> 0.425</td> <td>   -0.338</td> <td>    0.803</td>\n",
       "</tr>\n",
       "<tr>\n",
       "  <th>street</th>    <td>    0.0463</td> <td>    0.164</td> <td>    0.283</td> <td> 0.777</td> <td>   -0.275</td> <td>    0.368</td>\n",
       "</tr>\n",
       "<tr>\n",
       "  <th>things</th>    <td>    0.2812</td> <td>    0.215</td> <td>    1.306</td> <td> 0.192</td> <td>   -0.141</td> <td>    0.704</td>\n",
       "</tr>\n",
       "<tr>\n",
       "  <th>time</th>      <td>    0.0013</td> <td>    0.140</td> <td>    0.009</td> <td> 0.993</td> <td>   -0.273</td> <td>    0.275</td>\n",
       "</tr>\n",
       "<tr>\n",
       "  <th>to</th>        <td>    0.0223</td> <td>    0.088</td> <td>    0.252</td> <td> 0.801</td> <td>   -0.151</td> <td>    0.195</td>\n",
       "</tr>\n",
       "<tr>\n",
       "  <th>trek</th>      <td>   -0.6703</td> <td>    0.328</td> <td>   -2.041</td> <td> 0.041</td> <td>   -1.315</td> <td>   -0.026</td>\n",
       "</tr>\n",
       "<tr>\n",
       "  <th>two</th>       <td>    0.0193</td> <td>    0.204</td> <td>    0.095</td> <td> 0.925</td> <td>   -0.381</td> <td>    0.419</td>\n",
       "</tr>\n",
       "<tr>\n",
       "  <th>up</th>        <td>    0.0866</td> <td>    0.168</td> <td>    0.516</td> <td> 0.606</td> <td>   -0.243</td> <td>    0.416</td>\n",
       "</tr>\n",
       "<tr>\n",
       "  <th>war</th>       <td>   -0.3274</td> <td>    0.203</td> <td>   -1.610</td> <td> 0.108</td> <td>   -0.726</td> <td>    0.071</td>\n",
       "</tr>\n",
       "<tr>\n",
       "  <th>wars</th>      <td>-7.485e+12</td> <td> 7.53e+12</td> <td>   -0.994</td> <td> 0.320</td> <td>-2.23e+13</td> <td> 7.28e+12</td>\n",
       "</tr>\n",
       "<tr>\n",
       "  <th>wedding</th>   <td>    0.3626</td> <td>    0.210</td> <td>    1.725</td> <td> 0.085</td> <td>   -0.050</td> <td>    0.775</td>\n",
       "</tr>\n",
       "<tr>\n",
       "  <th>white</th>     <td>   -0.1419</td> <td>    0.169</td> <td>   -0.841</td> <td> 0.401</td> <td>   -0.473</td> <td>    0.189</td>\n",
       "</tr>\n",
       "<tr>\n",
       "  <th>who</th>       <td>    0.0285</td> <td>    0.216</td> <td>    0.132</td> <td> 0.895</td> <td>   -0.395</td> <td>    0.452</td>\n",
       "</tr>\n",
       "<tr>\n",
       "  <th>wild</th>      <td>    0.0456</td> <td>    0.126</td> <td>    0.361</td> <td> 0.719</td> <td>   -0.202</td> <td>    0.293</td>\n",
       "</tr>\n",
       "<tr>\n",
       "  <th>with</th>      <td>    0.0042</td> <td>    0.127</td> <td>    0.033</td> <td> 0.974</td> <td>   -0.246</td> <td>    0.254</td>\n",
       "</tr>\n",
       "<tr>\n",
       "  <th>woman</th>     <td>    0.3345</td> <td>    0.204</td> <td>    1.640</td> <td> 0.101</td> <td>   -0.066</td> <td>    0.735</td>\n",
       "</tr>\n",
       "<tr>\n",
       "  <th>world</th>     <td>    0.0422</td> <td>    0.161</td> <td>    0.263</td> <td> 0.793</td> <td>   -0.273</td> <td>    0.358</td>\n",
       "</tr>\n",
       "<tr>\n",
       "  <th>year</th>      <td>    0.0371</td> <td>    0.205</td> <td>    0.181</td> <td> 0.856</td> <td>   -0.365</td> <td>    0.439</td>\n",
       "</tr>\n",
       "<tr>\n",
       "  <th>you</th>       <td>    0.1347</td> <td>    0.138</td> <td>    0.978</td> <td> 0.328</td> <td>   -0.135</td> <td>    0.405</td>\n",
       "</tr>\n",
       "<tr>\n",
       "  <th>your</th>      <td>   -0.1751</td> <td>    0.222</td> <td>   -0.788</td> <td> 0.431</td> <td>   -0.611</td> <td>    0.261</td>\n",
       "</tr>\n",
       "</table>\n",
       "<table class=\"simpletable\">\n",
       "<tr>\n",
       "  <th>Omnibus:</th>       <td>8134.625</td> <th>  Durbin-Watson:     </th> <td>   1.940</td>\n",
       "</tr>\n",
       "<tr>\n",
       "  <th>Prob(Omnibus):</th>  <td> 0.000</td>  <th>  Jarque-Bera (JB):  </th> <td> 274.946</td>\n",
       "</tr>\n",
       "<tr>\n",
       "  <th>Skew:</th>           <td> 0.014</td>  <th>  Prob(JB):          </th> <td>1.98e-60</td>\n",
       "</tr>\n",
       "<tr>\n",
       "  <th>Kurtosis:</th>       <td> 1.184</td>  <th>  Cond. No.          </th> <td>9.68e+14</td>\n",
       "</tr>\n",
       "</table><br/><br/>Notes:<br/>[1] Standard Errors assume that the covariance matrix of the errors is correctly specified.<br/>[2] The smallest eigenvalue is 2.14e-27. This might indicate that there are<br/>strong multicollinearity problems or that the design matrix is singular."
      ],
      "text/plain": [
       "<class 'statsmodels.iolib.summary.Summary'>\n",
       "\"\"\"\n",
       "                            OLS Regression Results                            \n",
       "==============================================================================\n",
       "Dep. Variable:             frac_women   R-squared:                       0.077\n",
       "Model:                            OLS   Adj. R-squared:                  0.029\n",
       "Method:                 Least Squares   F-statistic:                     1.603\n",
       "Date:                Mon, 06 Sep 2021   Prob (F-statistic):           0.000216\n",
       "Time:                        23:52:41   Log-Likelihood:                -1371.4\n",
       "No. Observations:                2000   AIC:                             2943.\n",
       "Df Residuals:                    1900   BIC:                             3503.\n",
       "Df Model:                          99                                         \n",
       "Covariance Type:            nonrobust                                         \n",
       "==============================================================================\n",
       "                 coef    std err          t      P>|t|      [0.025      0.975]\n",
       "------------------------------------------------------------------------------\n",
       "const          0.4864      0.013     36.509      0.000       0.460       0.513\n",
       "13th           1.1390      0.399      2.855      0.004       0.357       1.921\n",
       "all            0.1664      0.182      0.915      0.360      -0.190       0.523\n",
       "america       -0.1506      0.194     -0.777      0.437      -0.531       0.229\n",
       "american       0.0060      0.119      0.051      0.960      -0.227       0.239\n",
       "an            -0.0578      0.180     -0.321      0.749      -0.411       0.296\n",
       "at            -0.0302      0.172     -0.176      0.861      -0.368       0.308\n",
       "back          -0.0120      0.170     -0.071      0.943      -0.345       0.321\n",
       "bad         1.611e-05      0.183   8.82e-05      1.000      -0.358       0.358\n",
       "big           -0.1259      0.169     -0.745      0.456      -0.458       0.206\n",
       "black          0.0352      0.141      0.250      0.803      -0.241       0.311\n",
       "blood         -0.0079      0.182     -0.043      0.966      -0.365       0.349\n",
       "blue           0.2255      0.189      1.191      0.234      -0.146       0.597\n",
       "boy            0.3142      0.228      1.378      0.168      -0.133       0.761\n",
       "boys          -0.0651      0.210     -0.309      0.757      -0.478       0.347\n",
       "city          -0.0038      0.168     -0.023      0.982      -0.333       0.325\n",
       "dark          -0.1566      0.180     -0.871      0.384      -0.509       0.196\n",
       "day            0.0580      0.130      0.445      0.656      -0.198       0.314\n",
       "days           0.2843      0.140      2.027      0.043       0.009       0.559\n",
       "dead           0.0518      0.146      0.355      0.722      -0.234       0.338\n",
       "dragon        -0.0298      0.221     -0.135      0.893      -0.463       0.403\n",
       "end           -0.0238      0.212     -0.112      0.911      -0.440       0.392\n",
       "episode     7.485e+12   7.53e+12      0.994      0.320   -7.28e+12    2.23e+13\n",
       "evil           0.1337      0.177      0.755      0.450      -0.214       0.481\n",
       "eyes           0.1428      0.191      0.746      0.456      -0.233       0.518\n",
       "fear           0.0878      0.221      0.397      0.691      -0.346       0.522\n",
       "final          0.3171      0.196      1.615      0.106      -0.068       0.702\n",
       "fire           0.2487      0.192      1.294      0.196      -0.128       0.626\n",
       "first          0.3855      0.219      1.761      0.078      -0.044       0.815\n",
       "for           -0.1076      0.125     -0.860      0.390      -0.353       0.138\n",
       "four          -0.1529      0.202     -0.758      0.448      -0.548       0.243\n",
       "friday        -0.4245      0.297     -1.428      0.153      -1.007       0.158\n",
       "from          -0.1363      0.146     -0.935      0.350      -0.422       0.150\n",
       "get           -0.3409      0.191     -1.784      0.075      -0.716       0.034\n",
       "ghost         -0.0628      0.188     -0.334      0.739      -0.432       0.306\n",
       "girl           0.4736      0.138      3.433      0.001       0.203       0.744\n",
       "go             0.1748      0.205      0.854      0.393      -0.227       0.576\n",
       "good          -0.2099      0.147     -1.426      0.154      -0.499       0.079\n",
       "green         -0.0861      0.221     -0.390      0.697      -0.519       0.347\n",
       "halloween      0.5352      0.178      3.008      0.003       0.186       0.884\n",
       "hard          -0.2974      0.190     -1.568      0.117      -0.669       0.075\n",
       "harry          0.5128      0.349      1.470      0.142      -0.171       1.197\n",
       "her            0.4902      0.189      2.593      0.010       0.119       0.861\n",
       "house          0.3363      0.151      2.222      0.026       0.040       0.633\n",
       "ii            -0.1836      0.119     -1.545      0.123      -0.417       0.050\n",
       "iii            0.0763      0.179      0.427      0.669      -0.274       0.427\n",
       "in             0.1281      0.077      1.660      0.097      -0.023       0.280\n",
       "is             0.0037      0.207      0.018      0.986      -0.403       0.410\n",
       "it             0.3011      0.176      1.706      0.088      -0.045       0.647\n",
       "king          -0.2698      0.167     -1.615      0.106      -0.598       0.058\n",
       "last           0.0249      0.120      0.208      0.835      -0.210       0.260\n",
       "legend         0.1736      0.203      0.854      0.393      -0.225       0.572\n",
       "life          -0.0583      0.137     -0.426      0.670      -0.327       0.210\n",
       "little         0.2721      0.175      1.555      0.120      -0.071       0.615\n",
       "lost          -0.0476      0.154     -0.309      0.757      -0.350       0.254\n",
       "love           0.1732      0.161      1.076      0.282      -0.143       0.489\n",
       "man           -0.0656      0.088     -0.746      0.456      -0.238       0.107\n",
       "me             0.1591      0.116      1.368      0.171      -0.069       0.387\n",
       "men           -0.4396      0.132     -3.328      0.001      -0.699      -0.181\n",
       "movie         -0.0462      0.206     -0.224      0.823      -0.451       0.358\n",
       "mr            -0.0233      0.158     -0.147      0.883      -0.333       0.286\n",
       "my             0.0287      0.134      0.214      0.831      -0.235       0.292\n",
       "new            0.2006      0.169      1.188      0.235      -0.131       0.532\n",
       "night          0.0792      0.137      0.576      0.564      -0.190       0.349\n",
       "nightmare      0.1786      0.214      0.835      0.404      -0.241       0.598\n",
       "no             0.1101      0.195      0.565      0.572      -0.272       0.492\n",
       "on             0.1772      0.121      1.464      0.143      -0.060       0.415\n",
       "one            0.0704      0.170      0.415      0.678      -0.262       0.403\n",
       "out            0.0552      0.189      0.292      0.770      -0.315       0.426\n",
       "park          -0.0273      0.208     -0.132      0.895      -0.435       0.380\n",
       "part          -0.3585      0.248     -1.445      0.149      -0.845       0.128\n",
       "people         0.3674      0.204      1.802      0.072      -0.032       0.767\n",
       "planet        -0.4528      0.227     -1.995      0.046      -0.898      -0.008\n",
       "point          0.2893      0.228      1.269      0.204      -0.158       0.736\n",
       "potter        -1.0483      0.416     -2.521      0.012      -1.864      -0.233\n",
       "red            0.1109      0.182      0.609      0.543      -0.246       0.468\n",
       "return         0.0151      0.239      0.063      0.950      -0.454       0.485\n",
       "rise          -0.2823      0.189     -1.492      0.136      -0.653       0.089\n",
       "rock          -0.1809      0.211     -0.857      0.392      -0.595       0.233\n",
       "rocky         -0.3014      0.205     -1.471      0.141      -0.703       0.100\n",
       "seven         -0.1625      0.225     -0.721      0.471      -0.605       0.280\n",
       "star           0.2323      0.291      0.798      0.425      -0.338       0.803\n",
       "street         0.0463      0.164      0.283      0.777      -0.275       0.368\n",
       "things         0.2812      0.215      1.306      0.192      -0.141       0.704\n",
       "time           0.0013      0.140      0.009      0.993      -0.273       0.275\n",
       "to             0.0223      0.088      0.252      0.801      -0.151       0.195\n",
       "trek          -0.6703      0.328     -2.041      0.041      -1.315      -0.026\n",
       "two            0.0193      0.204      0.095      0.925      -0.381       0.419\n",
       "up             0.0866      0.168      0.516      0.606      -0.243       0.416\n",
       "war           -0.3274      0.203     -1.610      0.108      -0.726       0.071\n",
       "wars       -7.485e+12   7.53e+12     -0.994      0.320   -2.23e+13    7.28e+12\n",
       "wedding        0.3626      0.210      1.725      0.085      -0.050       0.775\n",
       "white         -0.1419      0.169     -0.841      0.401      -0.473       0.189\n",
       "who            0.0285      0.216      0.132      0.895      -0.395       0.452\n",
       "wild           0.0456      0.126      0.361      0.719      -0.202       0.293\n",
       "with           0.0042      0.127      0.033      0.974      -0.246       0.254\n",
       "woman          0.3345      0.204      1.640      0.101      -0.066       0.735\n",
       "world          0.0422      0.161      0.263      0.793      -0.273       0.358\n",
       "year           0.0371      0.205      0.181      0.856      -0.365       0.439\n",
       "you            0.1347      0.138      0.978      0.328      -0.135       0.405\n",
       "your          -0.1751      0.222     -0.788      0.431      -0.611       0.261\n",
       "==============================================================================\n",
       "Omnibus:                     8134.625   Durbin-Watson:                   1.940\n",
       "Prob(Omnibus):                  0.000   Jarque-Bera (JB):              274.946\n",
       "Skew:                           0.014   Prob(JB):                     1.98e-60\n",
       "Kurtosis:                       1.184   Cond. No.                     9.68e+14\n",
       "==============================================================================\n",
       "\n",
       "Notes:\n",
       "[1] Standard Errors assume that the covariance matrix of the errors is correctly specified.\n",
       "[2] The smallest eigenvalue is 2.14e-27. This might indicate that there are\n",
       "strong multicollinearity problems or that the design matrix is singular.\n",
       "\"\"\""
      ]
     },
     "execution_count": 305,
     "metadata": {},
     "output_type": "execute_result"
    }
   ],
   "source": [
    "results.summary()"
   ]
  },
  {
   "cell_type": "code",
   "execution_count": 133,
   "id": "comparable-updating",
   "metadata": {},
   "outputs": [],
   "source": [
    "word_fracs = []\n",
    "word_sizes = []\n",
    "words = []\n",
    "\n",
    "for word in vectorizer.get_feature_names():\n",
    "    size = sum(wordcounts[word])\n",
    "    frac = np.mean(wordcounts.loc[wordcounts[word] > 0, 'frac_women'])\n",
    "    word_fracs.append(frac)\n",
    "    word_sizes.append(math.log(size))\n",
    "    words.append(word)\n",
    "    "
   ]
  },
  {
   "cell_type": "code",
   "execution_count": 132,
   "id": "superior-niger",
   "metadata": {},
   "outputs": [
    {
     "data": {
      "image/png": "[encoded data removed]",
      "text/plain": [
       "<Figure size 648x432 with 1 Axes>"
      ]
     },
     "metadata": {
      "needs_background": "light"
     },
     "output_type": "display_data"
    }
   ],
   "source": [
    "plt.figure(figsize = (9, 6))\n",
    "plt.scatter(word_sizes, word_fracs)\n",
    "\n",
    "for x, y, label in zip(word_sizes, word_fracs, words):\n",
    "    plt.text(x = x + .02, y = y, s = label, fontdict = dict(color = 'black', alpha = 0.8))\n",
    "\n",
    "plt.show()"
   ]
  },
  {
   "cell_type": "code",
   "execution_count": null,
   "id": "cooperative-shock",
   "metadata": {},
   "outputs": [],
   "source": []
  }
 ],
 "metadata": {
  "kernelspec": {
   "display_name": "Python 3",
   "language": "python",
   "name": "python3"
  },
  "language_info": {
   "codemirror_mode": {
    "name": "ipython",
    "version": 3
   },
   "file_extension": ".py",
   "mimetype": "text/x-python",
   "name": "python",
   "nbconvert_exporter": "python",
   "pygments_lexer": "ipython3",
   "version": "3.7.4"
  }
 },
 "nbformat": 4,
 "nbformat_minor": 5
}
