{
 "cells": [
  {
   "cell_type": "markdown",
   "id": "likely-currency",
   "metadata": {},
   "source": [
    "# Probability and Distinctive Words\n",
    "\n",
    "This notebook has three parts. \n",
    "\n",
    "1. We start by reviewing the Pearson correlation coefficient and the concept of a *p* value.\n",
    "\n",
    "2. Then we ask how much we can learn about a film from its title. We construct a *term-document* matrix for the films in *The Pudding* dataset, practice different ways of finding distinctive words, and review probability notation.\n",
    "\n",
    "3. Finally (if we get to it) we'll consider different ways of predicting a film's gender balance from its title, mainly in order to expose a problem with straightforward linear regression.\n",
    "\n",
    "As usual, we start by importing some familiar useful modules."
   ]
  },
  {
   "cell_type": "code",
   "execution_count": 1,
   "id": "correct-interim",
   "metadata": {},
   "outputs": [],
   "source": [
    "import pandas as pd\n",
    "import numpy as np\n",
    "from pathlib import Path\n",
    "from scipy.stats import pearsonr\n",
    "from matplotlib import pyplot as plt\n",
    "import math\n",
    "pd.set_option('display.max_rows', 100)"
   ]
  },
  {
   "cell_type": "markdown",
   "id": "placed-forty",
   "metadata": {},
   "source": [
    "Last time we did a lot of merging datasets in order to construct a single table with all the information we need in one place, including the fraction of words in each film spoken by women. I've written that dataset to disk and saved it in the repo, using the \"to_csv\" command:\n",
    "\n",
    "    titledata.to_csv('titledata_movies.tsv', sep = '\\t', index = False)\n",
    "\n",
    "\n",
    "Now we can load it using the ```read_csv``` command. Notice that we have to specify that this is a tab-separated file, because that's how I saved it."
   ]
  },
  {
   "cell_type": "code",
   "execution_count": 2,
   "id": "compressed-governor",
   "metadata": {},
   "outputs": [],
   "source": [
    "title = pd.read_csv('titledata_movies.tsv', sep = '\\t', encoding = 'utf-8')"
   ]
  },
  {
   "cell_type": "markdown",
   "id": "revised-walter",
   "metadata": {},
   "source": [
    "The ```.head()``` function is a good way to remind ourselves of the column titles. Let's also rename 'year' to 'releaseyr'; later on we're going to have word frequencies for the word 'year' and it could get confusing."
   ]
  },
  {
   "cell_type": "code",
   "execution_count": 3,
   "id": "structural-fountain",
   "metadata": {},
   "outputs": [
    {
     "data": {
      "text/html": [
       "<div>\n",
       "<style scoped>\n",
       "    .dataframe tbody tr th:only-of-type {\n",
       "        vertical-align: middle;\n",
       "    }\n",
       "\n",
       "    .dataframe tbody tr th {\n",
       "        vertical-align: top;\n",
       "    }\n",
       "\n",
       "    .dataframe thead th {\n",
       "        text-align: right;\n",
       "    }\n",
       "</style>\n",
       "<table border=\"1\" class=\"dataframe\">\n",
       "  <thead>\n",
       "    <tr style=\"text-align: right;\">\n",
       "      <th></th>\n",
       "      <th>title</th>\n",
       "      <th>words_men</th>\n",
       "      <th>words_women</th>\n",
       "      <th>frac_women</th>\n",
       "      <th>script_id</th>\n",
       "      <th>imdb_id</th>\n",
       "      <th>releaseyr</th>\n",
       "      <th>gross</th>\n",
       "    </tr>\n",
       "  </thead>\n",
       "  <tbody>\n",
       "    <tr>\n",
       "      <th>0</th>\n",
       "      <td>(500) Days of Summer</td>\n",
       "      <td>12762.0</td>\n",
       "      <td>5738.0</td>\n",
       "      <td>0.310162</td>\n",
       "      <td>1534</td>\n",
       "      <td>tt1022603</td>\n",
       "      <td>2009</td>\n",
       "      <td>37.0</td>\n",
       "    </tr>\n",
       "    <tr>\n",
       "      <th>1</th>\n",
       "      <td>10 Things I Hate About You</td>\n",
       "      <td>10688.0</td>\n",
       "      <td>8992.0</td>\n",
       "      <td>0.456911</td>\n",
       "      <td>1512</td>\n",
       "      <td>tt0147800</td>\n",
       "      <td>1999</td>\n",
       "      <td>65.0</td>\n",
       "    </tr>\n",
       "    <tr>\n",
       "      <th>2</th>\n",
       "      <td>12 Years a Slave</td>\n",
       "      <td>16176.0</td>\n",
       "      <td>3452.0</td>\n",
       "      <td>0.175871</td>\n",
       "      <td>1517</td>\n",
       "      <td>tt2024544</td>\n",
       "      <td>2013</td>\n",
       "      <td>60.0</td>\n",
       "    </tr>\n",
       "    <tr>\n",
       "      <th>3</th>\n",
       "      <td>12 and Holding</td>\n",
       "      <td>10644.0</td>\n",
       "      <td>5324.0</td>\n",
       "      <td>0.333417</td>\n",
       "      <td>1514</td>\n",
       "      <td>tt0417385</td>\n",
       "      <td>2005</td>\n",
       "      <td>NaN</td>\n",
       "    </tr>\n",
       "    <tr>\n",
       "      <th>4</th>\n",
       "      <td>127 Hours</td>\n",
       "      <td>4336.0</td>\n",
       "      <td>809.0</td>\n",
       "      <td>0.157240</td>\n",
       "      <td>1520</td>\n",
       "      <td>tt1542344</td>\n",
       "      <td>2010</td>\n",
       "      <td>20.0</td>\n",
       "    </tr>\n",
       "  </tbody>\n",
       "</table>\n",
       "</div>"
      ],
      "text/plain": [
       "                        title  words_men  words_women  frac_women  script_id  \\\n",
       "0        (500) Days of Summer    12762.0       5738.0    0.310162       1534   \n",
       "1  10 Things I Hate About You    10688.0       8992.0    0.456911       1512   \n",
       "2            12 Years a Slave    16176.0       3452.0    0.175871       1517   \n",
       "3              12 and Holding    10644.0       5324.0    0.333417       1514   \n",
       "4                   127 Hours     4336.0        809.0    0.157240       1520   \n",
       "\n",
       "     imdb_id  releaseyr  gross  \n",
       "0  tt1022603       2009   37.0  \n",
       "1  tt0147800       1999   65.0  \n",
       "2  tt2024544       2013   60.0  \n",
       "3  tt0417385       2005    NaN  \n",
       "4  tt1542344       2010   20.0  "
      ]
     },
     "execution_count": 3,
     "metadata": {},
     "output_type": "execute_result"
    }
   ],
   "source": [
    "title = title.rename(columns = {'year': 'releaseyr'})\n",
    "title.head()"
   ]
  },
  {
   "cell_type": "code",
   "execution_count": 4,
   "id": "departmental-scale",
   "metadata": {},
   "outputs": [
    {
     "data": {
      "text/html": [
       "<div>\n",
       "<style scoped>\n",
       "    .dataframe tbody tr th:only-of-type {\n",
       "        vertical-align: middle;\n",
       "    }\n",
       "\n",
       "    .dataframe tbody tr th {\n",
       "        vertical-align: top;\n",
       "    }\n",
       "\n",
       "    .dataframe thead th {\n",
       "        text-align: right;\n",
       "    }\n",
       "</style>\n",
       "<table border=\"1\" class=\"dataframe\">\n",
       "  <thead>\n",
       "    <tr style=\"text-align: right;\">\n",
       "      <th></th>\n",
       "      <th>title</th>\n",
       "      <th>words_men</th>\n",
       "      <th>words_women</th>\n",
       "      <th>frac_women</th>\n",
       "      <th>script_id</th>\n",
       "      <th>imdb_id</th>\n",
       "      <th>releaseyr</th>\n",
       "      <th>gross</th>\n",
       "    </tr>\n",
       "  </thead>\n",
       "  <tbody>\n",
       "    <tr>\n",
       "      <th>0</th>\n",
       "      <td>(500) Days of Summer</td>\n",
       "      <td>12762.0</td>\n",
       "      <td>5738.0</td>\n",
       "      <td>0.310162</td>\n",
       "      <td>1534</td>\n",
       "      <td>tt1022603</td>\n",
       "      <td>2009</td>\n",
       "      <td>37.000000</td>\n",
       "    </tr>\n",
       "    <tr>\n",
       "      <th>1</th>\n",
       "      <td>10 Things I Hate About You</td>\n",
       "      <td>10688.0</td>\n",
       "      <td>8992.0</td>\n",
       "      <td>0.456911</td>\n",
       "      <td>1512</td>\n",
       "      <td>tt0147800</td>\n",
       "      <td>1999</td>\n",
       "      <td>65.000000</td>\n",
       "    </tr>\n",
       "    <tr>\n",
       "      <th>2</th>\n",
       "      <td>12 Years a Slave</td>\n",
       "      <td>16176.0</td>\n",
       "      <td>3452.0</td>\n",
       "      <td>0.175871</td>\n",
       "      <td>1517</td>\n",
       "      <td>tt2024544</td>\n",
       "      <td>2013</td>\n",
       "      <td>60.000000</td>\n",
       "    </tr>\n",
       "    <tr>\n",
       "      <th>3</th>\n",
       "      <td>12 and Holding</td>\n",
       "      <td>10644.0</td>\n",
       "      <td>5324.0</td>\n",
       "      <td>0.333417</td>\n",
       "      <td>1514</td>\n",
       "      <td>tt0417385</td>\n",
       "      <td>2005</td>\n",
       "      <td>103.940433</td>\n",
       "    </tr>\n",
       "    <tr>\n",
       "      <th>4</th>\n",
       "      <td>127 Hours</td>\n",
       "      <td>4336.0</td>\n",
       "      <td>809.0</td>\n",
       "      <td>0.157240</td>\n",
       "      <td>1520</td>\n",
       "      <td>tt1542344</td>\n",
       "      <td>2010</td>\n",
       "      <td>20.000000</td>\n",
       "    </tr>\n",
       "  </tbody>\n",
       "</table>\n",
       "</div>"
      ],
      "text/plain": [
       "                        title  words_men  words_women  frac_women  script_id  \\\n",
       "0        (500) Days of Summer    12762.0       5738.0    0.310162       1534   \n",
       "1  10 Things I Hate About You    10688.0       8992.0    0.456911       1512   \n",
       "2            12 Years a Slave    16176.0       3452.0    0.175871       1517   \n",
       "3              12 and Holding    10644.0       5324.0    0.333417       1514   \n",
       "4                   127 Hours     4336.0        809.0    0.157240       1520   \n",
       "\n",
       "     imdb_id  releaseyr       gross  \n",
       "0  tt1022603       2009   37.000000  \n",
       "1  tt0147800       1999   65.000000  \n",
       "2  tt2024544       2013   60.000000  \n",
       "3  tt0417385       2005  103.940433  \n",
       "4  tt1542344       2010   20.000000  "
      ]
     },
     "execution_count": 4,
     "metadata": {},
     "output_type": "execute_result"
    }
   ],
   "source": [
    "title = title.fillna(value = np.nanmean(title['gross']))\n",
    "title.head()"
   ]
  },
  {
   "cell_type": "markdown",
   "id": "alleged-clearance",
   "metadata": {},
   "source": [
    "## 1. Reviewing the Pearson correlation coefficient\n",
    "\n",
    "You'll recall that there was a weak positive correlation between ```releaseyr``` and the proportion of dialogue spoken by women."
   ]
  },
  {
   "cell_type": "code",
   "execution_count": 5,
   "id": "raised-announcement",
   "metadata": {},
   "outputs": [
    {
     "data": {
      "text/plain": [
       "<AxesSubplot:xlabel='releaseyr', ylabel='frac_women'>"
      ]
     },
     "execution_count": 5,
     "metadata": {},
     "output_type": "execute_result"
    },
    {
     "data": {
      "image/png": "[encoded data removed]",
      "text/plain": [
       "<Figure size 432x288 with 1 Axes>"
      ]
     },
     "metadata": {
      "needs_background": "light"
     },
     "output_type": "display_data"
    }
   ],
   "source": [
    "title.plot(kind = 'scatter', x = 'releaseyr', y = 'frac_women')"
   ]
  },
  {
   "cell_type": "code",
   "execution_count": 6,
   "id": "built-vision",
   "metadata": {},
   "outputs": [
    {
     "data": {
      "text/plain": [
       "(0.09236705889251742, 3.5180809095464426e-05)"
      ]
     },
     "execution_count": 6,
     "metadata": {},
     "output_type": "execute_result"
    }
   ],
   "source": [
    "pearsonr(title['releaseyr'], title['frac_women'])"
   ]
  },
  {
   "cell_type": "markdown",
   "id": "corresponding-devon",
   "metadata": {},
   "source": [
    "The *r* value, measuring the strength of the correlation, is .092.\n",
    "\n",
    "Let's get a better feeling for what that really means.\n",
    "\n",
    "We'll use an artificial data-generation process.\n",
    "\n",
    "The following cell will generate 100 data points randomly, and then add a relationship between them that you can adjust by changing the value of *relationship_strength* from a large negative number to a large positive one."
   ]
  },
  {
   "cell_type": "code",
   "execution_count": 7,
   "id": "related-scholar",
   "metadata": {},
   "outputs": [
    {
     "name": "stdout",
     "output_type": "stream",
     "text": [
      "R for this sample is  -0.39352\n",
      "and the p value is 5.1126619718449935e-05\n"
     ]
    },
    {
     "data": {
      "image/png": "[encoded data removed]",
      "text/plain": [
       "<Figure size 432x288 with 1 Axes>"
      ]
     },
     "metadata": {
      "needs_background": "light"
     },
     "output_type": "display_data"
    }
   ],
   "source": [
    "relationship_strength = -0.4\n",
    "\n",
    "x = np.random.normal(loc = 50, scale = 25, size = 100)\n",
    "y = np.random.normal(loc = 50, scale = 25, size = 100) + (x - 50) * relationship_strength\n",
    "\n",
    "plt.scatter(x, y)\n",
    "plt.ylim(-75, 200)\n",
    "r, p = pearsonr(x, y)\n",
    "print('R for this sample is ', round(r, 5))\n",
    "print('and the p value is', p)"
   ]
  },
  {
   "cell_type": "markdown",
   "id": "metallic-inflation",
   "metadata": {},
   "source": [
    "As you change the number, observe what happens to the cloud of points and the *r* statistic.\n",
    "\n",
    "The null hypothesis for correlation is that there is actually no relationship between x and y in the population from which the sample was drawn; according to the null hypothesis, the true population correlation coefficient is 0. \n",
    "\n",
    "The p value indicates how often we would see a correlation of the observed strength in a random sample from such a population.\n",
    "\n",
    "## 2. Titles and gender\n",
    "\n",
    "We've measured the obvious quantitative relationships in this dataset. But there might be more to learn. For instance, if we want to understand why movies display such a strong male bias, we might be curious whether the problem is limited to a few types of movies, or whether it's widespread.\n",
    "\n",
    "We don't have a \"genre\" column in this dataset (and genre categorization might be controversial anyway). But we can begin to learn *something* about the relationship between a movie's content (or marketing) and its gender bias by investigating titles.\n",
    "\n",
    "One crude way to do this is just to sort the data."
   ]
  },
  {
   "cell_type": "code",
   "execution_count": 8,
   "id": "controlled-segment",
   "metadata": {},
   "outputs": [
    {
     "data": {
      "text/html": [
       "<div>\n",
       "<style scoped>\n",
       "    .dataframe tbody tr th:only-of-type {\n",
       "        vertical-align: middle;\n",
       "    }\n",
       "\n",
       "    .dataframe tbody tr th {\n",
       "        vertical-align: top;\n",
       "    }\n",
       "\n",
       "    .dataframe thead th {\n",
       "        text-align: right;\n",
       "    }\n",
       "</style>\n",
       "<table border=\"1\" class=\"dataframe\">\n",
       "  <thead>\n",
       "    <tr style=\"text-align: right;\">\n",
       "      <th></th>\n",
       "      <th>title</th>\n",
       "      <th>words_men</th>\n",
       "      <th>words_women</th>\n",
       "      <th>frac_women</th>\n",
       "      <th>script_id</th>\n",
       "      <th>imdb_id</th>\n",
       "      <th>releaseyr</th>\n",
       "      <th>gross</th>\n",
       "    </tr>\n",
       "  </thead>\n",
       "  <tbody>\n",
       "    <tr>\n",
       "      <th>1999</th>\n",
       "      <td>There Will Be Blood</td>\n",
       "      <td>8052.0</td>\n",
       "      <td>0.0</td>\n",
       "      <td>0.0</td>\n",
       "      <td>6000</td>\n",
       "      <td>tt0469494</td>\n",
       "      <td>2007</td>\n",
       "      <td>50.000000</td>\n",
       "    </tr>\n",
       "    <tr>\n",
       "      <th>1968</th>\n",
       "      <td>Kiss of the Spider Woman</td>\n",
       "      <td>7419.0</td>\n",
       "      <td>0.0</td>\n",
       "      <td>0.0</td>\n",
       "      <td>2711</td>\n",
       "      <td>tt0089424</td>\n",
       "      <td>1985</td>\n",
       "      <td>103.940433</td>\n",
       "    </tr>\n",
       "    <tr>\n",
       "      <th>1990</th>\n",
       "      <td>The Bunker</td>\n",
       "      <td>6248.0</td>\n",
       "      <td>0.0</td>\n",
       "      <td>0.0</td>\n",
       "      <td>3977</td>\n",
       "      <td>tt0252963</td>\n",
       "      <td>2001</td>\n",
       "      <td>103.940433</td>\n",
       "    </tr>\n",
       "    <tr>\n",
       "      <th>1975</th>\n",
       "      <td>Pat Garrett &amp; Billy the Kid</td>\n",
       "      <td>3133.0</td>\n",
       "      <td>0.0</td>\n",
       "      <td>0.0</td>\n",
       "      <td>7210</td>\n",
       "      <td>tt0070518</td>\n",
       "      <td>1973</td>\n",
       "      <td>103.940433</td>\n",
       "    </tr>\n",
       "    <tr>\n",
       "      <th>1989</th>\n",
       "      <td>The Battle of Algiers</td>\n",
       "      <td>6862.0</td>\n",
       "      <td>0.0</td>\n",
       "      <td>0.0</td>\n",
       "      <td>1780</td>\n",
       "      <td>tt0058946</td>\n",
       "      <td>1966</td>\n",
       "      <td>6.000000</td>\n",
       "    </tr>\n",
       "  </tbody>\n",
       "</table>\n",
       "</div>"
      ],
      "text/plain": [
       "                            title  words_men  words_women  frac_women  \\\n",
       "1999          There Will Be Blood     8052.0          0.0         0.0   \n",
       "1968     Kiss of the Spider Woman     7419.0          0.0         0.0   \n",
       "1990                   The Bunker     6248.0          0.0         0.0   \n",
       "1975  Pat Garrett & Billy the Kid     3133.0          0.0         0.0   \n",
       "1989        The Battle of Algiers     6862.0          0.0         0.0   \n",
       "\n",
       "      script_id    imdb_id  releaseyr       gross  \n",
       "1999       6000  tt0469494       2007   50.000000  \n",
       "1968       2711  tt0089424       1985  103.940433  \n",
       "1990       3977  tt0252963       2001  103.940433  \n",
       "1975       7210  tt0070518       1973  103.940433  \n",
       "1989       1780  tt0058946       1966    6.000000  "
      ]
     },
     "execution_count": 8,
     "metadata": {},
     "output_type": "execute_result"
    }
   ],
   "source": [
    "sorted_titles = title.sort_values(by = 'frac_women')\n",
    "sorted_titles.head()"
   ]
  },
  {
   "cell_type": "code",
   "execution_count": 9,
   "id": "enormous-sound",
   "metadata": {},
   "outputs": [
    {
     "data": {
      "text/html": [
       "<div>\n",
       "<style scoped>\n",
       "    .dataframe tbody tr th:only-of-type {\n",
       "        vertical-align: middle;\n",
       "    }\n",
       "\n",
       "    .dataframe tbody tr th {\n",
       "        vertical-align: top;\n",
       "    }\n",
       "\n",
       "    .dataframe thead th {\n",
       "        text-align: right;\n",
       "    }\n",
       "</style>\n",
       "<table border=\"1\" class=\"dataframe\">\n",
       "  <thead>\n",
       "    <tr style=\"text-align: right;\">\n",
       "      <th></th>\n",
       "      <th>title</th>\n",
       "      <th>words_men</th>\n",
       "      <th>words_women</th>\n",
       "      <th>frac_women</th>\n",
       "      <th>script_id</th>\n",
       "      <th>imdb_id</th>\n",
       "      <th>releaseyr</th>\n",
       "      <th>gross</th>\n",
       "    </tr>\n",
       "  </thead>\n",
       "  <tbody>\n",
       "    <tr>\n",
       "      <th>1558</th>\n",
       "      <td>The Hand That Rocks the Cradle</td>\n",
       "      <td>626.0</td>\n",
       "      <td>8823.0</td>\n",
       "      <td>0.933750</td>\n",
       "      <td>8480</td>\n",
       "      <td>tt0104389</td>\n",
       "      <td>1992</td>\n",
       "      <td>184.000000</td>\n",
       "    </tr>\n",
       "    <tr>\n",
       "      <th>902</th>\n",
       "      <td>Martyrs</td>\n",
       "      <td>109.0</td>\n",
       "      <td>3055.0</td>\n",
       "      <td>0.965550</td>\n",
       "      <td>8614</td>\n",
       "      <td>tt1663655</td>\n",
       "      <td>2015</td>\n",
       "      <td>103.940433</td>\n",
       "    </tr>\n",
       "    <tr>\n",
       "      <th>1101</th>\n",
       "      <td>Precious</td>\n",
       "      <td>114.0</td>\n",
       "      <td>17536.0</td>\n",
       "      <td>0.993541</td>\n",
       "      <td>3124</td>\n",
       "      <td>tt0929632</td>\n",
       "      <td>2009</td>\n",
       "      <td>55.000000</td>\n",
       "    </tr>\n",
       "    <tr>\n",
       "      <th>1494</th>\n",
       "      <td>The Descent</td>\n",
       "      <td>0.0</td>\n",
       "      <td>4076.0</td>\n",
       "      <td>1.000000</td>\n",
       "      <td>7695</td>\n",
       "      <td>tt0435625</td>\n",
       "      <td>2005</td>\n",
       "      <td>35.000000</td>\n",
       "    </tr>\n",
       "    <tr>\n",
       "      <th>1025</th>\n",
       "      <td>Now and Then</td>\n",
       "      <td>0.0</td>\n",
       "      <td>4186.0</td>\n",
       "      <td>1.000000</td>\n",
       "      <td>4723</td>\n",
       "      <td>tt0114011</td>\n",
       "      <td>1995</td>\n",
       "      <td>54.000000</td>\n",
       "    </tr>\n",
       "  </tbody>\n",
       "</table>\n",
       "</div>"
      ],
      "text/plain": [
       "                               title  words_men  words_women  frac_women  \\\n",
       "1558  The Hand That Rocks the Cradle      626.0       8823.0    0.933750   \n",
       "902                          Martyrs      109.0       3055.0    0.965550   \n",
       "1101                        Precious      114.0      17536.0    0.993541   \n",
       "1494                     The Descent        0.0       4076.0    1.000000   \n",
       "1025                    Now and Then        0.0       4186.0    1.000000   \n",
       "\n",
       "      script_id    imdb_id  releaseyr       gross  \n",
       "1558       8480  tt0104389       1992  184.000000  \n",
       "902        8614  tt1663655       2015  103.940433  \n",
       "1101       3124  tt0929632       2009   55.000000  \n",
       "1494       7695  tt0435625       2005   35.000000  \n",
       "1025       4723  tt0114011       1995   54.000000  "
      ]
     },
     "execution_count": 9,
     "metadata": {},
     "output_type": "execute_result"
    }
   ],
   "source": [
    "sorted_titles.tail()"
   ]
  },
  {
   "cell_type": "markdown",
   "id": "periodic-ireland",
   "metadata": {},
   "source": [
    "But two thousand titles are a lot of titles to sort through this way. Another possibility is to look for title words that distinctively characterize films where there is relatively little, or relatively a lot, of dialogue spoken by women.\n",
    "\n",
    "The first thing we need to do is just count the words. You'll recall in our first lab we did that a complicated way, and then introduced a simple way to do it with a Python class called CountVectorizer.\n",
    "\n",
    "A class, in Python, will usually have a name that starts with a capital letter. It's not just a generic function that can be applied to anything; a class is a *category* of thing. To use it, you need to create an example of that category. We talked about this as creating a \"little demon\" who will then do what you want.\n",
    "\n",
    "So we first import ```CountVectorizer```, and then create an example. In the process of creating it, we'll tell it to only count the top 100 words in the titles."
   ]
  },
  {
   "cell_type": "code",
   "execution_count": 10,
   "id": "extreme-myanmar",
   "metadata": {},
   "outputs": [],
   "source": [
    "from sklearn.feature_extraction.text import CountVectorizer\n",
    "vectorizer = CountVectorizer(max_features = 100, stop_words = ['the', 'of', 'and'])"
   ]
  },
  {
   "cell_type": "markdown",
   "id": "authentic-athletics",
   "metadata": {},
   "source": [
    "An odd feature of the CountVectorizer is that it initially returns its wordcounts as a \"sparse\" matrix to save memory. We need to convert that into a regular numpy array before doing much with it."
   ]
  },
  {
   "cell_type": "code",
   "execution_count": 11,
   "id": "peaceful-professional",
   "metadata": {},
   "outputs": [],
   "source": [
    "sparse_wordcounts = vectorizer.fit_transform(title['title'])\n",
    "wordcounts = sparse_wordcounts.toarray()"
   ]
  },
  {
   "cell_type": "markdown",
   "id": "employed-thompson",
   "metadata": {},
   "source": [
    "We can get the list of the top 100 words the CountVectorizer used by asking it to ```.get_feature_names()```"
   ]
  },
  {
   "cell_type": "code",
   "execution_count": 12,
   "id": "endless-harris",
   "metadata": {},
   "outputs": [
    {
     "name": "stdout",
     "output_type": "stream",
     "text": [
      "['13th', 'all', 'america', 'american', 'an', 'at', 'back', 'bad', 'big', 'black', 'blood', 'blue', 'boy', 'boys', 'city', 'dark', 'day', 'days', 'dead', 'dragon', 'end', 'episode', 'evil', 'eyes', 'fear', 'final', 'fire', 'first', 'for', 'four', 'friday', 'from', 'get', 'ghost', 'girl', 'go', 'good', 'green', 'halloween', 'hard', 'harry', 'her', 'house', 'ii', 'iii', 'in', 'is', 'it', 'king', 'last', 'legend', 'life', 'little', 'lost', 'love', 'man', 'me', 'men', 'movie', 'mr', 'my', 'new', 'night', 'nightmare', 'no', 'on', 'one', 'out', 'park', 'part', 'people', 'planet', 'point', 'potter', 'red', 'return', 'rise', 'rock', 'rocky', 'seven', 'star', 'street', 'things', 'time', 'to', 'trek', 'two', 'up', 'war', 'wars', 'wedding', 'white', 'who', 'wild', 'with', 'woman', 'world', 'year', 'you', 'your']\n"
     ]
    }
   ],
   "source": [
    "features = vectorizer.get_feature_names()\n",
    "\n",
    "print(features)"
   ]
  },
  {
   "cell_type": "markdown",
   "id": "reduced-laugh",
   "metadata": {},
   "source": [
    "Now we can convert ```wordcounts``` into a Pandas data frame that will be easy to manipulate."
   ]
  },
  {
   "cell_type": "code",
   "execution_count": 13,
   "id": "divine-appearance",
   "metadata": {},
   "outputs": [],
   "source": [
    "wordcounts = pd.DataFrame(wordcounts, columns = vectorizer.get_feature_names())"
   ]
  },
  {
   "cell_type": "markdown",
   "id": "finnish-consideration",
   "metadata": {},
   "source": [
    "This is a *document-term matrix*, a data object that will be quite useful throughout much of the rest of the course. Here's what it looks like:"
   ]
  },
  {
   "cell_type": "code",
   "execution_count": 14,
   "id": "motivated-coalition",
   "metadata": {},
   "outputs": [
    {
     "data": {
      "text/html": [
       "<div>\n",
       "<style scoped>\n",
       "    .dataframe tbody tr th:only-of-type {\n",
       "        vertical-align: middle;\n",
       "    }\n",
       "\n",
       "    .dataframe tbody tr th {\n",
       "        vertical-align: top;\n",
       "    }\n",
       "\n",
       "    .dataframe thead th {\n",
       "        text-align: right;\n",
       "    }\n",
       "</style>\n",
       "<table border=\"1\" class=\"dataframe\">\n",
       "  <thead>\n",
       "    <tr style=\"text-align: right;\">\n",
       "      <th></th>\n",
       "      <th>13th</th>\n",
       "      <th>all</th>\n",
       "      <th>america</th>\n",
       "      <th>american</th>\n",
       "      <th>an</th>\n",
       "      <th>at</th>\n",
       "      <th>back</th>\n",
       "      <th>bad</th>\n",
       "      <th>big</th>\n",
       "      <th>black</th>\n",
       "      <th>...</th>\n",
       "      <th>wedding</th>\n",
       "      <th>white</th>\n",
       "      <th>who</th>\n",
       "      <th>wild</th>\n",
       "      <th>with</th>\n",
       "      <th>woman</th>\n",
       "      <th>world</th>\n",
       "      <th>year</th>\n",
       "      <th>you</th>\n",
       "      <th>your</th>\n",
       "    </tr>\n",
       "  </thead>\n",
       "  <tbody>\n",
       "    <tr>\n",
       "      <th>0</th>\n",
       "      <td>0</td>\n",
       "      <td>0</td>\n",
       "      <td>0</td>\n",
       "      <td>0</td>\n",
       "      <td>0</td>\n",
       "      <td>0</td>\n",
       "      <td>0</td>\n",
       "      <td>0</td>\n",
       "      <td>0</td>\n",
       "      <td>0</td>\n",
       "      <td>...</td>\n",
       "      <td>0</td>\n",
       "      <td>0</td>\n",
       "      <td>0</td>\n",
       "      <td>0</td>\n",
       "      <td>0</td>\n",
       "      <td>0</td>\n",
       "      <td>0</td>\n",
       "      <td>0</td>\n",
       "      <td>0</td>\n",
       "      <td>0</td>\n",
       "    </tr>\n",
       "    <tr>\n",
       "      <th>1</th>\n",
       "      <td>0</td>\n",
       "      <td>0</td>\n",
       "      <td>0</td>\n",
       "      <td>0</td>\n",
       "      <td>0</td>\n",
       "      <td>0</td>\n",
       "      <td>0</td>\n",
       "      <td>0</td>\n",
       "      <td>0</td>\n",
       "      <td>0</td>\n",
       "      <td>...</td>\n",
       "      <td>0</td>\n",
       "      <td>0</td>\n",
       "      <td>0</td>\n",
       "      <td>0</td>\n",
       "      <td>0</td>\n",
       "      <td>0</td>\n",
       "      <td>0</td>\n",
       "      <td>0</td>\n",
       "      <td>1</td>\n",
       "      <td>0</td>\n",
       "    </tr>\n",
       "    <tr>\n",
       "      <th>2</th>\n",
       "      <td>0</td>\n",
       "      <td>0</td>\n",
       "      <td>0</td>\n",
       "      <td>0</td>\n",
       "      <td>0</td>\n",
       "      <td>0</td>\n",
       "      <td>0</td>\n",
       "      <td>0</td>\n",
       "      <td>0</td>\n",
       "      <td>0</td>\n",
       "      <td>...</td>\n",
       "      <td>0</td>\n",
       "      <td>0</td>\n",
       "      <td>0</td>\n",
       "      <td>0</td>\n",
       "      <td>0</td>\n",
       "      <td>0</td>\n",
       "      <td>0</td>\n",
       "      <td>0</td>\n",
       "      <td>0</td>\n",
       "      <td>0</td>\n",
       "    </tr>\n",
       "    <tr>\n",
       "      <th>3</th>\n",
       "      <td>0</td>\n",
       "      <td>0</td>\n",
       "      <td>0</td>\n",
       "      <td>0</td>\n",
       "      <td>0</td>\n",
       "      <td>0</td>\n",
       "      <td>0</td>\n",
       "      <td>0</td>\n",
       "      <td>0</td>\n",
       "      <td>0</td>\n",
       "      <td>...</td>\n",
       "      <td>0</td>\n",
       "      <td>0</td>\n",
       "      <td>0</td>\n",
       "      <td>0</td>\n",
       "      <td>0</td>\n",
       "      <td>0</td>\n",
       "      <td>0</td>\n",
       "      <td>0</td>\n",
       "      <td>0</td>\n",
       "      <td>0</td>\n",
       "    </tr>\n",
       "    <tr>\n",
       "      <th>4</th>\n",
       "      <td>0</td>\n",
       "      <td>0</td>\n",
       "      <td>0</td>\n",
       "      <td>0</td>\n",
       "      <td>0</td>\n",
       "      <td>0</td>\n",
       "      <td>0</td>\n",
       "      <td>0</td>\n",
       "      <td>0</td>\n",
       "      <td>0</td>\n",
       "      <td>...</td>\n",
       "      <td>0</td>\n",
       "      <td>0</td>\n",
       "      <td>0</td>\n",
       "      <td>0</td>\n",
       "      <td>0</td>\n",
       "      <td>0</td>\n",
       "      <td>0</td>\n",
       "      <td>0</td>\n",
       "      <td>0</td>\n",
       "      <td>0</td>\n",
       "    </tr>\n",
       "    <tr>\n",
       "      <th>...</th>\n",
       "      <td>...</td>\n",
       "      <td>...</td>\n",
       "      <td>...</td>\n",
       "      <td>...</td>\n",
       "      <td>...</td>\n",
       "      <td>...</td>\n",
       "      <td>...</td>\n",
       "      <td>...</td>\n",
       "      <td>...</td>\n",
       "      <td>...</td>\n",
       "      <td>...</td>\n",
       "      <td>...</td>\n",
       "      <td>...</td>\n",
       "      <td>...</td>\n",
       "      <td>...</td>\n",
       "      <td>...</td>\n",
       "      <td>...</td>\n",
       "      <td>...</td>\n",
       "      <td>...</td>\n",
       "      <td>...</td>\n",
       "      <td>...</td>\n",
       "    </tr>\n",
       "    <tr>\n",
       "      <th>1995</th>\n",
       "      <td>0</td>\n",
       "      <td>0</td>\n",
       "      <td>0</td>\n",
       "      <td>0</td>\n",
       "      <td>0</td>\n",
       "      <td>0</td>\n",
       "      <td>0</td>\n",
       "      <td>0</td>\n",
       "      <td>0</td>\n",
       "      <td>0</td>\n",
       "      <td>...</td>\n",
       "      <td>0</td>\n",
       "      <td>0</td>\n",
       "      <td>0</td>\n",
       "      <td>0</td>\n",
       "      <td>0</td>\n",
       "      <td>0</td>\n",
       "      <td>0</td>\n",
       "      <td>0</td>\n",
       "      <td>0</td>\n",
       "      <td>0</td>\n",
       "    </tr>\n",
       "    <tr>\n",
       "      <th>1996</th>\n",
       "      <td>0</td>\n",
       "      <td>0</td>\n",
       "      <td>0</td>\n",
       "      <td>0</td>\n",
       "      <td>0</td>\n",
       "      <td>0</td>\n",
       "      <td>0</td>\n",
       "      <td>0</td>\n",
       "      <td>0</td>\n",
       "      <td>0</td>\n",
       "      <td>...</td>\n",
       "      <td>0</td>\n",
       "      <td>0</td>\n",
       "      <td>0</td>\n",
       "      <td>0</td>\n",
       "      <td>0</td>\n",
       "      <td>0</td>\n",
       "      <td>0</td>\n",
       "      <td>0</td>\n",
       "      <td>0</td>\n",
       "      <td>0</td>\n",
       "    </tr>\n",
       "    <tr>\n",
       "      <th>1997</th>\n",
       "      <td>0</td>\n",
       "      <td>0</td>\n",
       "      <td>0</td>\n",
       "      <td>0</td>\n",
       "      <td>0</td>\n",
       "      <td>0</td>\n",
       "      <td>0</td>\n",
       "      <td>0</td>\n",
       "      <td>0</td>\n",
       "      <td>0</td>\n",
       "      <td>...</td>\n",
       "      <td>0</td>\n",
       "      <td>0</td>\n",
       "      <td>0</td>\n",
       "      <td>0</td>\n",
       "      <td>0</td>\n",
       "      <td>0</td>\n",
       "      <td>0</td>\n",
       "      <td>0</td>\n",
       "      <td>0</td>\n",
       "      <td>0</td>\n",
       "    </tr>\n",
       "    <tr>\n",
       "      <th>1998</th>\n",
       "      <td>0</td>\n",
       "      <td>0</td>\n",
       "      <td>0</td>\n",
       "      <td>0</td>\n",
       "      <td>0</td>\n",
       "      <td>0</td>\n",
       "      <td>0</td>\n",
       "      <td>0</td>\n",
       "      <td>0</td>\n",
       "      <td>0</td>\n",
       "      <td>...</td>\n",
       "      <td>0</td>\n",
       "      <td>0</td>\n",
       "      <td>0</td>\n",
       "      <td>1</td>\n",
       "      <td>0</td>\n",
       "      <td>0</td>\n",
       "      <td>0</td>\n",
       "      <td>0</td>\n",
       "      <td>0</td>\n",
       "      <td>0</td>\n",
       "    </tr>\n",
       "    <tr>\n",
       "      <th>1999</th>\n",
       "      <td>0</td>\n",
       "      <td>0</td>\n",
       "      <td>0</td>\n",
       "      <td>0</td>\n",
       "      <td>0</td>\n",
       "      <td>0</td>\n",
       "      <td>0</td>\n",
       "      <td>0</td>\n",
       "      <td>0</td>\n",
       "      <td>0</td>\n",
       "      <td>...</td>\n",
       "      <td>0</td>\n",
       "      <td>0</td>\n",
       "      <td>0</td>\n",
       "      <td>0</td>\n",
       "      <td>0</td>\n",
       "      <td>0</td>\n",
       "      <td>0</td>\n",
       "      <td>0</td>\n",
       "      <td>0</td>\n",
       "      <td>0</td>\n",
       "    </tr>\n",
       "  </tbody>\n",
       "</table>\n",
       "<p>2000 rows × 100 columns</p>\n",
       "</div>"
      ],
      "text/plain": [
       "      13th  all  america  american  an  at  back  bad  big  black  ...  \\\n",
       "0        0    0        0         0   0   0     0    0    0      0  ...   \n",
       "1        0    0        0         0   0   0     0    0    0      0  ...   \n",
       "2        0    0        0         0   0   0     0    0    0      0  ...   \n",
       "3        0    0        0         0   0   0     0    0    0      0  ...   \n",
       "4        0    0        0         0   0   0     0    0    0      0  ...   \n",
       "...    ...  ...      ...       ...  ..  ..   ...  ...  ...    ...  ...   \n",
       "1995     0    0        0         0   0   0     0    0    0      0  ...   \n",
       "1996     0    0        0         0   0   0     0    0    0      0  ...   \n",
       "1997     0    0        0         0   0   0     0    0    0      0  ...   \n",
       "1998     0    0        0         0   0   0     0    0    0      0  ...   \n",
       "1999     0    0        0         0   0   0     0    0    0      0  ...   \n",
       "\n",
       "      wedding  white  who  wild  with  woman  world  year  you  your  \n",
       "0           0      0    0     0     0      0      0     0    0     0  \n",
       "1           0      0    0     0     0      0      0     0    1     0  \n",
       "2           0      0    0     0     0      0      0     0    0     0  \n",
       "3           0      0    0     0     0      0      0     0    0     0  \n",
       "4           0      0    0     0     0      0      0     0    0     0  \n",
       "...       ...    ...  ...   ...   ...    ...    ...   ...  ...   ...  \n",
       "1995        0      0    0     0     0      0      0     0    0     0  \n",
       "1996        0      0    0     0     0      0      0     0    0     0  \n",
       "1997        0      0    0     0     0      0      0     0    0     0  \n",
       "1998        0      0    0     1     0      0      0     0    0     0  \n",
       "1999        0      0    0     0     0      0      0     0    0     0  \n",
       "\n",
       "[2000 rows x 100 columns]"
      ]
     },
     "execution_count": 14,
     "metadata": {},
     "output_type": "execute_result"
    }
   ],
   "source": [
    "wordcounts"
   ]
  },
  {
   "cell_type": "markdown",
   "id": "renewable-joyce",
   "metadata": {},
   "source": [
    "We can also combine it with our metadata about movies, to produce a master ```data``` data frame."
   ]
  },
  {
   "cell_type": "code",
   "execution_count": 15,
   "id": "liberal-greece",
   "metadata": {},
   "outputs": [
    {
     "data": {
      "text/html": [
       "<div>\n",
       "<style scoped>\n",
       "    .dataframe tbody tr th:only-of-type {\n",
       "        vertical-align: middle;\n",
       "    }\n",
       "\n",
       "    .dataframe tbody tr th {\n",
       "        vertical-align: top;\n",
       "    }\n",
       "\n",
       "    .dataframe thead th {\n",
       "        text-align: right;\n",
       "    }\n",
       "</style>\n",
       "<table border=\"1\" class=\"dataframe\">\n",
       "  <thead>\n",
       "    <tr style=\"text-align: right;\">\n",
       "      <th></th>\n",
       "      <th>13th</th>\n",
       "      <th>all</th>\n",
       "      <th>america</th>\n",
       "      <th>american</th>\n",
       "      <th>an</th>\n",
       "      <th>at</th>\n",
       "      <th>back</th>\n",
       "      <th>bad</th>\n",
       "      <th>big</th>\n",
       "      <th>black</th>\n",
       "      <th>...</th>\n",
       "      <th>you</th>\n",
       "      <th>your</th>\n",
       "      <th>title</th>\n",
       "      <th>words_men</th>\n",
       "      <th>words_women</th>\n",
       "      <th>frac_women</th>\n",
       "      <th>script_id</th>\n",
       "      <th>imdb_id</th>\n",
       "      <th>releaseyr</th>\n",
       "      <th>gross</th>\n",
       "    </tr>\n",
       "  </thead>\n",
       "  <tbody>\n",
       "    <tr>\n",
       "      <th>0</th>\n",
       "      <td>0</td>\n",
       "      <td>0</td>\n",
       "      <td>0</td>\n",
       "      <td>0</td>\n",
       "      <td>0</td>\n",
       "      <td>0</td>\n",
       "      <td>0</td>\n",
       "      <td>0</td>\n",
       "      <td>0</td>\n",
       "      <td>0</td>\n",
       "      <td>...</td>\n",
       "      <td>0</td>\n",
       "      <td>0</td>\n",
       "      <td>(500) Days of Summer</td>\n",
       "      <td>12762.0</td>\n",
       "      <td>5738.0</td>\n",
       "      <td>0.310162</td>\n",
       "      <td>1534</td>\n",
       "      <td>tt1022603</td>\n",
       "      <td>2009</td>\n",
       "      <td>37.000000</td>\n",
       "    </tr>\n",
       "    <tr>\n",
       "      <th>1</th>\n",
       "      <td>0</td>\n",
       "      <td>0</td>\n",
       "      <td>0</td>\n",
       "      <td>0</td>\n",
       "      <td>0</td>\n",
       "      <td>0</td>\n",
       "      <td>0</td>\n",
       "      <td>0</td>\n",
       "      <td>0</td>\n",
       "      <td>0</td>\n",
       "      <td>...</td>\n",
       "      <td>1</td>\n",
       "      <td>0</td>\n",
       "      <td>10 Things I Hate About You</td>\n",
       "      <td>10688.0</td>\n",
       "      <td>8992.0</td>\n",
       "      <td>0.456911</td>\n",
       "      <td>1512</td>\n",
       "      <td>tt0147800</td>\n",
       "      <td>1999</td>\n",
       "      <td>65.000000</td>\n",
       "    </tr>\n",
       "    <tr>\n",
       "      <th>2</th>\n",
       "      <td>0</td>\n",
       "      <td>0</td>\n",
       "      <td>0</td>\n",
       "      <td>0</td>\n",
       "      <td>0</td>\n",
       "      <td>0</td>\n",
       "      <td>0</td>\n",
       "      <td>0</td>\n",
       "      <td>0</td>\n",
       "      <td>0</td>\n",
       "      <td>...</td>\n",
       "      <td>0</td>\n",
       "      <td>0</td>\n",
       "      <td>12 Years a Slave</td>\n",
       "      <td>16176.0</td>\n",
       "      <td>3452.0</td>\n",
       "      <td>0.175871</td>\n",
       "      <td>1517</td>\n",
       "      <td>tt2024544</td>\n",
       "      <td>2013</td>\n",
       "      <td>60.000000</td>\n",
       "    </tr>\n",
       "    <tr>\n",
       "      <th>3</th>\n",
       "      <td>0</td>\n",
       "      <td>0</td>\n",
       "      <td>0</td>\n",
       "      <td>0</td>\n",
       "      <td>0</td>\n",
       "      <td>0</td>\n",
       "      <td>0</td>\n",
       "      <td>0</td>\n",
       "      <td>0</td>\n",
       "      <td>0</td>\n",
       "      <td>...</td>\n",
       "      <td>0</td>\n",
       "      <td>0</td>\n",
       "      <td>12 and Holding</td>\n",
       "      <td>10644.0</td>\n",
       "      <td>5324.0</td>\n",
       "      <td>0.333417</td>\n",
       "      <td>1514</td>\n",
       "      <td>tt0417385</td>\n",
       "      <td>2005</td>\n",
       "      <td>103.940433</td>\n",
       "    </tr>\n",
       "    <tr>\n",
       "      <th>4</th>\n",
       "      <td>0</td>\n",
       "      <td>0</td>\n",
       "      <td>0</td>\n",
       "      <td>0</td>\n",
       "      <td>0</td>\n",
       "      <td>0</td>\n",
       "      <td>0</td>\n",
       "      <td>0</td>\n",
       "      <td>0</td>\n",
       "      <td>0</td>\n",
       "      <td>...</td>\n",
       "      <td>0</td>\n",
       "      <td>0</td>\n",
       "      <td>127 Hours</td>\n",
       "      <td>4336.0</td>\n",
       "      <td>809.0</td>\n",
       "      <td>0.157240</td>\n",
       "      <td>1520</td>\n",
       "      <td>tt1542344</td>\n",
       "      <td>2010</td>\n",
       "      <td>20.000000</td>\n",
       "    </tr>\n",
       "  </tbody>\n",
       "</table>\n",
       "<p>5 rows × 108 columns</p>\n",
       "</div>"
      ],
      "text/plain": [
       "   13th  all  america  american  an  at  back  bad  big  black  ...  you  \\\n",
       "0     0    0        0         0   0   0     0    0    0      0  ...    0   \n",
       "1     0    0        0         0   0   0     0    0    0      0  ...    1   \n",
       "2     0    0        0         0   0   0     0    0    0      0  ...    0   \n",
       "3     0    0        0         0   0   0     0    0    0      0  ...    0   \n",
       "4     0    0        0         0   0   0     0    0    0      0  ...    0   \n",
       "\n",
       "   your                       title  words_men  words_women  frac_women  \\\n",
       "0     0        (500) Days of Summer    12762.0       5738.0    0.310162   \n",
       "1     0  10 Things I Hate About You    10688.0       8992.0    0.456911   \n",
       "2     0            12 Years a Slave    16176.0       3452.0    0.175871   \n",
       "3     0              12 and Holding    10644.0       5324.0    0.333417   \n",
       "4     0                   127 Hours     4336.0        809.0    0.157240   \n",
       "\n",
       "   script_id    imdb_id  releaseyr       gross  \n",
       "0       1534  tt1022603       2009   37.000000  \n",
       "1       1512  tt0147800       1999   65.000000  \n",
       "2       1517  tt2024544       2013   60.000000  \n",
       "3       1514  tt0417385       2005  103.940433  \n",
       "4       1520  tt1542344       2010   20.000000  \n",
       "\n",
       "[5 rows x 108 columns]"
      ]
     },
     "execution_count": 15,
     "metadata": {},
     "output_type": "execute_result"
    }
   ],
   "source": [
    "data = pd.concat([wordcounts, title], axis = 1)\n",
    "data.head()"
   ]
  },
  {
   "cell_type": "markdown",
   "id": "innovative-induction",
   "metadata": {},
   "source": [
    "Now we can reproduce the analysis Ben Schmidt carried out on two different categories of books, and find out which of these words are significantly overrepresented in movies with more, or less, dialogue by women.\n",
    "\n",
    "We don't necessarily have to treat this as a binary question. We could use the actual value of ```frac_women,``` and in a moment we'll see how. But for the moment, to explore the uses of probability, let's divide the movies into two groups. Those with less than the median amount of dialogue by women, and those with the median or above.\n",
    "\n",
    "Note that the median is pretty low!! So let's call the group with more women \"less biased\" rather than actually \"feminine.\""
   ]
  },
  {
   "cell_type": "code",
   "execution_count": 16,
   "id": "split-plane",
   "metadata": {},
   "outputs": [
    {
     "name": "stdout",
     "output_type": "stream",
     "text": [
      "0.2432355697476658\n"
     ]
    }
   ],
   "source": [
    "median_frac = np.median(title['frac_women'])\n",
    "print(median_frac)"
   ]
  },
  {
   "cell_type": "markdown",
   "id": "atlantic-concord",
   "metadata": {},
   "source": [
    "#### EXERCISE 1:\n",
    "\n",
    "Pandas review. \n",
    "\n",
    "1. Select all movies where data['frac_women'] is less than median_frac, and all the columns that count words. \n",
    "\n",
    "2. Select movies where data['frac_women'] is >= than median_frac, and all the columns that count words.\n",
    "\n",
    "You can do this with ```.loc[]``` Note that we've put the list of words we're using in a variable ```words```, and you can you can select all the word columns by putting that variable in the columns position of ```.loc[]```.\n",
    "\n",
    "When you've got these dataframes you can flatten them into a single series of word counts by saying ```df.sum(axis = 0)```."
   ]
  },
  {
   "cell_type": "code",
   "execution_count": 17,
   "id": "brilliant-capital",
   "metadata": {},
   "outputs": [],
   "source": [
    "malebiased = data.loc[data['frac_women'] < median_frac, features].sum(axis = 0)"
   ]
  },
  {
   "cell_type": "code",
   "execution_count": 18,
   "id": "available-ethics",
   "metadata": {},
   "outputs": [],
   "source": [
    "lessbiased = data.loc[data['frac_women'] >= median_frac, features].sum(axis = 0)"
   ]
  },
  {
   "cell_type": "markdown",
   "id": "scenic-magazine",
   "metadata": {},
   "source": [
    "When you're done you should have a list like this:"
   ]
  },
  {
   "cell_type": "code",
   "execution_count": 19,
   "id": "acceptable-greek",
   "metadata": {},
   "outputs": [
    {
     "data": {
      "text/plain": [
       "13th        0\n",
       "all         3\n",
       "america     4\n",
       "american    9\n",
       "an          4\n",
       "at          5\n",
       "back        6\n",
       "bad         4\n",
       "big         5\n",
       "black       7\n",
       "dtype: int64"
      ]
     },
     "execution_count": 19,
     "metadata": {},
     "output_type": "execute_result"
    }
   ],
   "source": [
    "malebiased[0:10]"
   ]
  },
  {
   "cell_type": "markdown",
   "id": "stupid-edinburgh",
   "metadata": {},
   "source": [
    "## 3. Finding distinctive words\n",
    "\n",
    "To explore the relation between titles and gender, we want to create a visualization a bit like the one Ben Schmidt used to visualize distinctive words.\n",
    "\n",
    "![Ben Schmidt's illustration of additive and multiplicative comparisons](schmidtillus.png)\n",
    "\n",
    "Before we can do that, we may need some practice labeling scatterplots in Python.\n",
    "\n",
    "Here's an example. We can create the dots simply with the plt.scatter() command.\n",
    "\n",
    "But we have to label each point individually, using a for-loop. Notice how we use the zip() function to create aligned triplets of coordinates and labels. I'm also adding a little randomness to the vertical position of the label; later, this will help keep labels from overplotting each other."
   ]
  },
  {
   "cell_type": "code",
   "execution_count": 20,
   "id": "magnetic-essence",
   "metadata": {},
   "outputs": [
    {
     "data": {
      "image/png": "[encoded data removed]",
      "text/plain": [
       "<Figure size 648x432 with 1 Axes>"
      ]
     },
     "metadata": {
      "needs_background": "light"
     },
     "output_type": "display_data"
    }
   ],
   "source": [
    "plt.figure(figsize = (9, 6))\n",
    "plt.scatter(x = malebiased.values, y = lessbiased.values)\n",
    "\n",
    "for x, y, label in zip(malebiased.values, lessbiased.values, malebiased.index):\n",
    "    plt.text(x = x + .2, y = y + np.random.random(), s = label, fontdict = dict(color = 'black', alpha = 0.8))\n",
    "\n",
    "plt.xlabel('malebiased')\n",
    "plt.ylabel('lessbiased')\n",
    "plt.show()"
   ]
  },
  {
   "cell_type": "markdown",
   "id": "accepting-batman",
   "metadata": {},
   "source": [
    "#### EXERCISE 2\n",
    "\n",
    "Okay now, working in groups, produce a labeled visualization of words where the x axis is\n",
    "\n",
    "    malebiased - lessbiased\n",
    "\n",
    "and the y axis is\n",
    "\n",
    "    malebiased / lessbiased\n",
    "\n",
    "This will tell you which words are overrepresented in films with a lot of male dialogue.\n",
    "\n",
    "Because it's hard to visualize the overrepresentation in both categories at once, you may want to produce two graphs, and flip the relationship in the second, so the y axis of the second one plots ```lessbiased / malebiased.``` If you like, you can use indexing to remove points with a negative x value.\n",
    "\n",
    "If you get some errors related to infinite values, you might also consider adding one to both sides of the ratio, like so:\n",
    "\n",
    "    (malebiased + 1) / (lessbiased + 1)\n",
    "\n",
    "Think about why that solves the problem."
   ]
  },
  {
   "cell_type": "code",
   "execution_count": 21,
   "id": "major-tulsa",
   "metadata": {},
   "outputs": [
    {
     "data": {
      "image/png": "[encoded data removed]",
      "text/plain": [
       "<Figure size 720x576 with 1 Axes>"
      ]
     },
     "metadata": {
      "needs_background": "light"
     },
     "output_type": "display_data"
    }
   ],
   "source": [
    "multiplication = ((malebiased + 1) / (lessbiased + 1))\n",
    "addition = malebiased - lessbiased\n",
    "\n",
    "plt.figure(figsize = (10, 8))\n",
    "plt.scatter(x = addition[addition > 0], y = multiplication[addition > 0])\n",
    "\n",
    "for x, y, label in zip(addition, multiplication, malebiased.index):\n",
    "    if x > 0:\n",
    "        plt.text(x = x + .2, y = y + np.random.random() / 1.5, s = label, fontdict = dict(color = 'black', alpha = 0.8))\n",
    "\n",
    "plt.xlabel('addition')\n",
    "plt.ylabel('multiplication')\n",
    "plt.show()"
   ]
  },
  {
   "cell_type": "code",
   "execution_count": 22,
   "id": "colored-invalid",
   "metadata": {},
   "outputs": [
    {
     "data": {
      "image/png": "[encoded data removed]",
      "text/plain": [
       "<Figure size 576x432 with 1 Axes>"
      ]
     },
     "metadata": {
      "needs_background": "light"
     },
     "output_type": "display_data"
    }
   ],
   "source": [
    "multiplication = ((lessbiased + 1) / (malebiased + 1))\n",
    "addition = lessbiased - malebiased\n",
    "\n",
    "plt.figure(figsize = (8, 6))\n",
    "plt.scatter(x = addition[addition > 0], y = multiplication[addition > 0])\n",
    "\n",
    "for x, y, label in zip(addition, multiplication, malebiased.index):\n",
    "    if x > 0:\n",
    "        plt.text(x = x + .2, y = y + np.random.random() / 1.5, s = label, fontdict = dict(color = 'black', alpha = 0.8))\n",
    "\n",
    "plt.xlabel('addition')\n",
    "plt.ylabel('multiplication')\n",
    "plt.show()"
   ]
  },
  {
   "cell_type": "markdown",
   "id": "graduate-glance",
   "metadata": {},
   "source": [
    "## Calculating overrepresentation using Dunning's log likelihood\n",
    "\n",
    "These graphs are interesting, but they don't give us a single, ranked list of words that characterize one group of movies or the other.\n",
    "\n",
    "To get that ranked list, we can use the method Schmidt recommended in his blog post: Dunning's log likelihood. This is an example of a procedure called a G-test that uses a probability table to compromise between \"additive\" and \"divisive\" measures.\n",
    "\n",
    "We start by constructing a simple 2x2 table. Let's take the word \"house.\""
   ]
  },
  {
   "cell_type": "code",
   "execution_count": 23,
   "id": "drawn-spiritual",
   "metadata": {},
   "outputs": [
    {
     "name": "stdout",
     "output_type": "stream",
     "text": [
      "1001\n"
     ]
    },
    {
     "data": {
      "text/html": [
       "<div>\n",
       "<style scoped>\n",
       "    .dataframe tbody tr th:only-of-type {\n",
       "        vertical-align: middle;\n",
       "    }\n",
       "\n",
       "    .dataframe tbody tr th {\n",
       "        vertical-align: top;\n",
       "    }\n",
       "\n",
       "    .dataframe thead th {\n",
       "        text-align: right;\n",
       "    }\n",
       "</style>\n",
       "<table border=\"1\" class=\"dataframe\">\n",
       "  <thead>\n",
       "    <tr style=\"text-align: right;\">\n",
       "      <th></th>\n",
       "      <th>lessbiased</th>\n",
       "      <th>malebiased</th>\n",
       "    </tr>\n",
       "  </thead>\n",
       "  <tbody>\n",
       "    <tr>\n",
       "      <th>word</th>\n",
       "      <td>9</td>\n",
       "      <td>2</td>\n",
       "    </tr>\n",
       "    <tr>\n",
       "      <th>all_others</th>\n",
       "      <td>514</td>\n",
       "      <td>476</td>\n",
       "    </tr>\n",
       "  </tbody>\n",
       "</table>\n",
       "</div>"
      ],
      "text/plain": [
       "            lessbiased  malebiased\n",
       "word                 9           2\n",
       "all_others         514         476"
      ]
     },
     "execution_count": 23,
     "metadata": {},
     "output_type": "execute_result"
    }
   ],
   "source": [
    "observed = pd.DataFrame({'lessbiased': [lessbiased['house'], sum(lessbiased) - lessbiased['house']],\n",
    "                          'malebiased': [malebiased['house'], sum(malebiased) - malebiased['house']]},\n",
    "                        index = ['word', 'all_others'])\n",
    "total_words = observed.to_numpy().sum()\n",
    "print(total_words)\n",
    "observed"
   ]
  },
  {
   "cell_type": "markdown",
   "id": "wanted-driving",
   "metadata": {},
   "source": [
    "Then we convert this into a probability table in two steps. First, take the sums of rows and columns."
   ]
  },
  {
   "cell_type": "code",
   "execution_count": 24,
   "id": "graphic-nickel",
   "metadata": {},
   "outputs": [
    {
     "data": {
      "text/html": [
       "<div>\n",
       "<style scoped>\n",
       "    .dataframe tbody tr th:only-of-type {\n",
       "        vertical-align: middle;\n",
       "    }\n",
       "\n",
       "    .dataframe tbody tr th {\n",
       "        vertical-align: top;\n",
       "    }\n",
       "\n",
       "    .dataframe thead th {\n",
       "        text-align: right;\n",
       "    }\n",
       "</style>\n",
       "<table border=\"1\" class=\"dataframe\">\n",
       "  <thead>\n",
       "    <tr style=\"text-align: right;\">\n",
       "      <th></th>\n",
       "      <th>lessbiased</th>\n",
       "      <th>malebiased</th>\n",
       "      <th>word_totals</th>\n",
       "    </tr>\n",
       "  </thead>\n",
       "  <tbody>\n",
       "    <tr>\n",
       "      <th>word</th>\n",
       "      <td>9</td>\n",
       "      <td>2</td>\n",
       "      <td>11</td>\n",
       "    </tr>\n",
       "    <tr>\n",
       "      <th>all_others</th>\n",
       "      <td>514</td>\n",
       "      <td>476</td>\n",
       "      <td>990</td>\n",
       "    </tr>\n",
       "  </tbody>\n",
       "</table>\n",
       "</div>"
      ],
      "text/plain": [
       "            lessbiased  malebiased  word_totals\n",
       "word                 9           2           11\n",
       "all_others         514         476          990"
      ]
     },
     "execution_count": 24,
     "metadata": {},
     "output_type": "execute_result"
    }
   ],
   "source": [
    "observed['word_totals'] = observed.sum(axis = 1)\n",
    "observed"
   ]
  },
  {
   "cell_type": "code",
   "execution_count": 25,
   "id": "bridal-credits",
   "metadata": {},
   "outputs": [
    {
     "data": {
      "text/html": [
       "<div>\n",
       "<style scoped>\n",
       "    .dataframe tbody tr th:only-of-type {\n",
       "        vertical-align: middle;\n",
       "    }\n",
       "\n",
       "    .dataframe tbody tr th {\n",
       "        vertical-align: top;\n",
       "    }\n",
       "\n",
       "    .dataframe thead th {\n",
       "        text-align: right;\n",
       "    }\n",
       "</style>\n",
       "<table border=\"1\" class=\"dataframe\">\n",
       "  <thead>\n",
       "    <tr style=\"text-align: right;\">\n",
       "      <th></th>\n",
       "      <th>lessbiased</th>\n",
       "      <th>malebiased</th>\n",
       "      <th>word_totals</th>\n",
       "    </tr>\n",
       "  </thead>\n",
       "  <tbody>\n",
       "    <tr>\n",
       "      <th>word</th>\n",
       "      <td>9</td>\n",
       "      <td>2</td>\n",
       "      <td>11</td>\n",
       "    </tr>\n",
       "    <tr>\n",
       "      <th>all_others</th>\n",
       "      <td>514</td>\n",
       "      <td>476</td>\n",
       "      <td>990</td>\n",
       "    </tr>\n",
       "    <tr>\n",
       "      <th>group_totals</th>\n",
       "      <td>523</td>\n",
       "      <td>478</td>\n",
       "      <td>0</td>\n",
       "    </tr>\n",
       "  </tbody>\n",
       "</table>\n",
       "</div>"
      ],
      "text/plain": [
       "              lessbiased  malebiased  word_totals\n",
       "word                   9           2           11\n",
       "all_others           514         476          990\n",
       "group_totals         523         478            0"
      ]
     },
     "execution_count": 25,
     "metadata": {},
     "output_type": "execute_result"
    }
   ],
   "source": [
    "observed = observed.append(observed.sum(axis = 0).rename(index = 'group_totals'))\n",
    "observed.iat[2,2] = 0\n",
    "observed"
   ]
  },
  {
   "cell_type": "markdown",
   "id": "motivated-narrative",
   "metadata": {},
   "source": [
    "Convert marginal values into marginal probabilities."
   ]
  },
  {
   "cell_type": "code",
   "execution_count": 26,
   "id": "occupied-tragedy",
   "metadata": {},
   "outputs": [
    {
     "data": {
      "text/html": [
       "<div>\n",
       "<style scoped>\n",
       "    .dataframe tbody tr th:only-of-type {\n",
       "        vertical-align: middle;\n",
       "    }\n",
       "\n",
       "    .dataframe tbody tr th {\n",
       "        vertical-align: top;\n",
       "    }\n",
       "\n",
       "    .dataframe thead th {\n",
       "        text-align: right;\n",
       "    }\n",
       "</style>\n",
       "<table border=\"1\" class=\"dataframe\">\n",
       "  <thead>\n",
       "    <tr style=\"text-align: right;\">\n",
       "      <th></th>\n",
       "      <th>lessbiased</th>\n",
       "      <th>malebiased</th>\n",
       "      <th>word_totals</th>\n",
       "    </tr>\n",
       "  </thead>\n",
       "  <tbody>\n",
       "    <tr>\n",
       "      <th>word</th>\n",
       "      <td>9.000000</td>\n",
       "      <td>2.000000</td>\n",
       "      <td>0.010989</td>\n",
       "    </tr>\n",
       "    <tr>\n",
       "      <th>all_others</th>\n",
       "      <td>514.000000</td>\n",
       "      <td>476.000000</td>\n",
       "      <td>0.989011</td>\n",
       "    </tr>\n",
       "    <tr>\n",
       "      <th>group_totals</th>\n",
       "      <td>0.522478</td>\n",
       "      <td>0.477522</td>\n",
       "      <td>0.000000</td>\n",
       "    </tr>\n",
       "  </tbody>\n",
       "</table>\n",
       "</div>"
      ],
      "text/plain": [
       "              lessbiased  malebiased  word_totals\n",
       "word            9.000000    2.000000     0.010989\n",
       "all_others    514.000000  476.000000     0.989011\n",
       "group_totals    0.522478    0.477522     0.000000"
      ]
     },
     "execution_count": 26,
     "metadata": {},
     "output_type": "execute_result"
    }
   ],
   "source": [
    "observed['word_totals'] = observed['word_totals'] / sum(observed['word_totals'])\n",
    "observed.loc['group_totals', : ] = observed.loc['group_totals', : ] / sum(observed.loc['group_totals', : ])\n",
    "observed"
   ]
  },
  {
   "cell_type": "code",
   "execution_count": 27,
   "id": "equal-pregnancy",
   "metadata": {},
   "outputs": [
    {
     "data": {
      "text/html": [
       "<div>\n",
       "<style scoped>\n",
       "    .dataframe tbody tr th:only-of-type {\n",
       "        vertical-align: middle;\n",
       "    }\n",
       "\n",
       "    .dataframe tbody tr th {\n",
       "        vertical-align: top;\n",
       "    }\n",
       "\n",
       "    .dataframe thead th {\n",
       "        text-align: right;\n",
       "    }\n",
       "</style>\n",
       "<table border=\"1\" class=\"dataframe\">\n",
       "  <thead>\n",
       "    <tr style=\"text-align: right;\">\n",
       "      <th></th>\n",
       "      <th>lessbiased</th>\n",
       "      <th>malebiased</th>\n",
       "    </tr>\n",
       "  </thead>\n",
       "  <tbody>\n",
       "    <tr>\n",
       "      <th>word</th>\n",
       "      <td>0.005742</td>\n",
       "      <td>0.005247</td>\n",
       "    </tr>\n",
       "    <tr>\n",
       "      <th>all_others</th>\n",
       "      <td>0.516736</td>\n",
       "      <td>0.472275</td>\n",
       "    </tr>\n",
       "  </tbody>\n",
       "</table>\n",
       "</div>"
      ],
      "text/plain": [
       "            lessbiased  malebiased\n",
       "word          0.005742    0.005247\n",
       "all_others    0.516736    0.472275"
      ]
     },
     "execution_count": 27,
     "metadata": {},
     "output_type": "execute_result"
    }
   ],
   "source": [
    "expected = np.outer(observed['word_totals'][0:2], observed.loc['group_totals', : ][0:2])\n",
    "expected = pd.DataFrame(expected, index = ['word', 'all_others'], columns = ['lessbiased', 'malebiased'])\n",
    "expected"
   ]
  },
  {
   "cell_type": "markdown",
   "id": "polyphonic-signal",
   "metadata": {},
   "source": [
    "**INDIVIDUAL EXERCISE**:\n",
    "\n",
    "These are *joint probabilities*. The value in cell 0, 0 could be expressed as $P(house \\cap lessbiased)$\n",
    "\n",
    "How would we calculate a conditional probability? For instance what is $P(lessbiased \\mid house)$? Notice the difference between expressing these relationships as probabilities and as \"odds.\"\n",
    "\n",
    "In the cell below briefly calculate $P(lessbiased \\mid house)$."
   ]
  },
  {
   "cell_type": "code",
   "execution_count": 28,
   "id": "greatest-compilation",
   "metadata": {},
   "outputs": [
    {
     "data": {
      "text/plain": [
       "0.8181818181818182"
      ]
     },
     "execution_count": 28,
     "metadata": {},
     "output_type": "execute_result"
    }
   ],
   "source": [
    "# calculate the conditional probability that a word came from \n",
    "# the title of a less gender-biased movie, given that we know the word is \"house\"\n",
    "\n",
    "conditionalprob = lessbiased['house'] / (lessbiased['house'] + malebiased['house'])\n",
    "conditionalprob"
   ]
  },
  {
   "cell_type": "code",
   "execution_count": 29,
   "id": "announced-president",
   "metadata": {},
   "outputs": [
    {
     "data": {
      "text/html": [
       "<div>\n",
       "<style scoped>\n",
       "    .dataframe tbody tr th:only-of-type {\n",
       "        vertical-align: middle;\n",
       "    }\n",
       "\n",
       "    .dataframe tbody tr th {\n",
       "        vertical-align: top;\n",
       "    }\n",
       "\n",
       "    .dataframe thead th {\n",
       "        text-align: right;\n",
       "    }\n",
       "</style>\n",
       "<table border=\"1\" class=\"dataframe\">\n",
       "  <thead>\n",
       "    <tr style=\"text-align: right;\">\n",
       "      <th></th>\n",
       "      <th>lessbiased</th>\n",
       "      <th>malebiased</th>\n",
       "    </tr>\n",
       "  </thead>\n",
       "  <tbody>\n",
       "    <tr>\n",
       "      <th>word</th>\n",
       "      <td>5.747253</td>\n",
       "      <td>5.252747</td>\n",
       "    </tr>\n",
       "    <tr>\n",
       "      <th>all_others</th>\n",
       "      <td>517.252747</td>\n",
       "      <td>472.747253</td>\n",
       "    </tr>\n",
       "  </tbody>\n",
       "</table>\n",
       "</div>"
      ],
      "text/plain": [
       "            lessbiased  malebiased\n",
       "word          5.747253    5.252747\n",
       "all_others  517.252747  472.747253"
      ]
     },
     "execution_count": 29,
     "metadata": {},
     "output_type": "execute_result"
    }
   ],
   "source": [
    "expected = expected * total_words\n",
    "expected"
   ]
  },
  {
   "cell_type": "code",
   "execution_count": 30,
   "id": "occupied-ending",
   "metadata": {},
   "outputs": [
    {
     "data": {
      "text/plain": [
       "4.253458349580979"
      ]
     },
     "execution_count": 30,
     "metadata": {},
     "output_type": "execute_result"
    }
   ],
   "source": [
    "G = 0\n",
    "for i in range(2):\n",
    "    for j in range(2):\n",
    "        O = observed.iat[i, j]\n",
    "        E = expected.iat[i, j]\n",
    "        G = G + O * math.log(O / E)\n",
    "G = 2 * G\n",
    "G"
   ]
  },
  {
   "cell_type": "code",
   "execution_count": 32,
   "id": "advisory-christianity",
   "metadata": {},
   "outputs": [],
   "source": [
    "def get_dunnings(word, series1, series2):\n",
    "    observed = pd.DataFrame({'series1': [series1[word], sum(series1) - series1[word]],\n",
    "                          'series2': [series2[word], sum(series2) - series2[word]]},\n",
    "                        index = ['word', 'all_others'])\n",
    "    total_words = observed.to_numpy().sum()\n",
    "    observed['word_totals'] = observed.sum(axis = 1)\n",
    "    observed = observed.append(observed.sum(axis = 0).rename(index = 'group_totals'))\n",
    "    observed.iat[2,2] = 0\n",
    "    observed['word_totals'] = observed['word_totals'] / sum(observed['word_totals'])\n",
    "    observed.loc['group_totals', : ] = observed.loc['group_totals', : ] / sum(observed.loc['group_totals', : ])\n",
    "    expected = np.outer(observed['word_totals'][0:2], observed.loc['group_totals', : ][0:2])\n",
    "    expected = pd.DataFrame(expected, index = ['word', 'all_others'], columns = ['lessbiased', 'malebiased'])\n",
    "    expected = expected * total_words\n",
    "    \n",
    "    G = 0\n",
    "    for i in range(2):\n",
    "        for j in range(2):\n",
    "            O = observed.iat[i, j] + .000001\n",
    "            E = expected.iat[i, j] + .000001\n",
    "            G = G + O * math.log(O / E)\n",
    "    \n",
    "    if (observed.iat[0, 0] / sum(observed.iloc[0: 2, 0])) < (observed.iat[0, 1] / sum(observed.iloc[0 : 2, 1])):\n",
    "        G = -G    # we provide a signed version of the statistic to distinguish\n",
    "                  # overrepresentation in the two categories\n",
    "    \n",
    "    return 2 * G"
   ]
  },
  {
   "cell_type": "code",
   "execution_count": 33,
   "id": "electronic-citation",
   "metadata": {},
   "outputs": [],
   "source": [
    "dunningslist = []\n",
    "for word in features:\n",
    "    dunningslist.append(get_dunnings(word, lessbiased, malebiased))\n",
    "\n",
    "dunnings = pd.Series(data = dunningslist, index = features)"
   ]
  },
  {
   "cell_type": "code",
   "execution_count": 34,
   "id": "environmental-inclusion",
   "metadata": {},
   "outputs": [
    {
     "data": {
      "text/plain": [
       "-9.470499341856467"
      ]
     },
     "execution_count": 34,
     "metadata": {},
     "output_type": "execute_result"
    }
   ],
   "source": [
    "get_dunnings('trek', lessbiased, malebiased)"
   ]
  },
  {
   "cell_type": "code",
   "execution_count": 35,
   "id": "chubby-power",
   "metadata": {},
   "outputs": [
    {
     "data": {
      "text/plain": [
       "men         -14.836588\n",
       "star        -10.072848\n",
       "trek         -9.470499\n",
       "planet       -7.418878\n",
       "potter       -7.418878\n",
       "rise         -7.418878\n",
       "ii           -6.294027\n",
       "episode      -4.454924\n",
       "wars         -4.454924\n",
       "get          -4.454924\n",
       "hard         -4.454924\n",
       "king         -3.439507\n",
       "rocky        -3.301413\n",
       "war          -3.301413\n",
       "good         -2.045792\n",
       "for          -2.010646\n",
       "harry        -1.623436\n",
       "your         -0.876864\n",
       "four         -0.876864\n",
       "rock         -0.876864\n",
       "dark         -0.707087\n",
       "blood        -0.707087\n",
       "man          -0.630587\n",
       "back         -0.608949\n",
       "from         -0.545646\n",
       "green        -0.302950\n",
       "seven        -0.302950\n",
       "part         -0.249221\n",
       "america      -0.249221\n",
       "ghost        -0.249221\n",
       "white        -0.221511\n",
       "iii          -0.221511\n",
       "city         -0.221511\n",
       "big          -0.221511\n",
       "lost         -0.205519\n",
       "world        -0.205519\n",
       "to           -0.199226\n",
       "black        -0.195815\n",
       "american     -0.037081\n",
       "life         -0.028724\n",
       "mr           -0.020434\n",
       "at           -0.020434\n",
       "bad          -0.016315\n",
       "an           -0.016315\n",
       "red          -0.016315\n",
       "end          -0.012211\n",
       "park         -0.012211\n",
       "dragon       -0.012211\n",
       "year         -0.012211\n",
       "is           -0.012211\n",
       "who          -0.012211\n",
       "boys         -0.012211\n",
       "two          -0.012211\n",
       "movie        -0.012211\n",
       "day           0.007198\n",
       "time          0.023576\n",
       "one           0.039935\n",
       "up            0.039935\n",
       "eyes          0.068011\n",
       "out           0.068011\n",
       "no            0.068011\n",
       "last          0.080600\n",
       "with          0.104750\n",
       "fear          0.122104\n",
       "return        0.122104\n",
       "night         0.136982\n",
       "dead          0.181390\n",
       "evil          0.344301\n",
       "all           0.344301\n",
       "wild          0.369994\n",
       "legend        0.514807\n",
       "first         0.514807\n",
       "go            0.514807\n",
       "new           0.774493\n",
       "final         1.079803\n",
       "fire          1.079803\n",
       "blue          1.079803\n",
       "my            1.298495\n",
       "love          1.318749\n",
       "street        1.569757\n",
       "point         1.675397\n",
       "boy           1.675397\n",
       "it            1.762664\n",
       "friday        1.762664\n",
       "little        1.762664\n",
       "you           2.174348\n",
       "in            2.283826\n",
       "people        2.577297\n",
       "wedding       2.577297\n",
       "things        2.577297\n",
       "woman         2.577297\n",
       "days          3.414758\n",
       "on            3.944445\n",
       "house         4.253457\n",
       "me            4.457813\n",
       "nightmare     4.570488\n",
       "13th          6.514641\n",
       "her           9.133441\n",
       "halloween    10.445635\n",
       "girl         11.283087\n",
       "dtype: float64"
      ]
     },
     "execution_count": 35,
     "metadata": {},
     "output_type": "execute_result"
    }
   ],
   "source": [
    "dunnings.sort_values()"
   ]
  },
  {
   "cell_type": "markdown",
   "id": "oriented-surgeon",
   "metadata": {},
   "source": [
    "## Evaluating the strength of a relationship with multiple variables\n",
    "\n",
    "If we want to know how well ```releaseyr``` can explain ```frac_women``` we can just take the Pearson correlation. We'll get a value for *r*, and if we square it we get $r^2$, the fraction of variance in y explained by x.\n",
    "\n",
    "But what can we do if we want to know, for instance, how well all these title words can explain ```frac_women```? We can't take Pearson correlation with a hundred variables.\n",
    "\n",
    "In principle we can use multiple linear regression to achieve this."
   ]
  },
  {
   "cell_type": "code",
   "execution_count": 36,
   "id": "duplicate-conversation",
   "metadata": {},
   "outputs": [],
   "source": [
    "from sklearn import linear_model\n",
    "from sklearn.metrics import r2_score"
   ]
  },
  {
   "cell_type": "markdown",
   "id": "soviet-particular",
   "metadata": {},
   "source": [
    "This technique works really well when we have a couple of predictive variables."
   ]
  },
  {
   "cell_type": "code",
   "execution_count": 37,
   "id": "knowing-reduction",
   "metadata": {},
   "outputs": [
    {
     "data": {
      "image/png": "[encoded data removed]",
      "text/plain": [
       "<Figure size 432x288 with 1 Axes>"
      ]
     },
     "metadata": {
      "needs_background": "light"
     },
     "output_type": "display_data"
    }
   ],
   "source": [
    "X = data.loc[ : , ['releaseyr', 'gross']]\n",
    "y = data['frac_women']\n",
    "\n",
    "regr = linear_model.LinearRegression()\n",
    "regr.fit(X, y)\n",
    "y_pred = regr.predict(X)\n",
    "plt.scatter(y, y_pred)\n",
    "\n",
    "z = np.polyfit(y, y_pred, 1)\n",
    "p = np.poly1d(z)\n",
    "plt.plot(y,p(y),\"r-\")\n",
    "\n",
    "plt.show()"
   ]
  },
  {
   "cell_type": "code",
   "execution_count": 38,
   "id": "working-australian",
   "metadata": {},
   "outputs": [
    {
     "name": "stdout",
     "output_type": "stream",
     "text": [
      "Coefficient of determination:  0.014833951291363001\n"
     ]
    }
   ],
   "source": [
    "print('Coefficient of determination: ', r2_score(y, y_pred))"
   ]
  },
  {
   "cell_type": "code",
   "execution_count": 39,
   "id": "injured-summer",
   "metadata": {},
   "outputs": [
    {
     "name": "stdout",
     "output_type": "stream",
     "text": [
      "r2 =  0.014833951291363013\n"
     ]
    }
   ],
   "source": [
    "r, p = pearsonr(y, y_pred)\n",
    "print('r2 = ', r **2)"
   ]
  },
  {
   "cell_type": "markdown",
   "id": "central-arbitration",
   "metadata": {},
   "source": [
    "### overfitting \n",
    "\n",
    "But notice what happens when we try this with title words and on the first 50 films."
   ]
  },
  {
   "cell_type": "code",
   "execution_count": 40,
   "id": "built-spanking",
   "metadata": {},
   "outputs": [
    {
     "name": "stdout",
     "output_type": "stream",
     "text": [
      "Coefficient of determination:  0.49760155958555263\n"
     ]
    },
    {
     "data": {
      "image/png": "[encoded data removed]",
      "text/plain": [
       "<Figure size 432x288 with 1 Axes>"
      ]
     },
     "metadata": {
      "needs_background": "light"
     },
     "output_type": "display_data"
    }
   ],
   "source": [
    "X = data.iloc[ 0: 50 , 0: 100]\n",
    "y = data.iloc[0: 50, data.columns.tolist().index('frac_women')]\n",
    "\n",
    "regr = linear_model.LinearRegression()\n",
    "regr.fit(X, y)\n",
    "y_pred = regr.predict(X)\n",
    "plt.scatter(y, y_pred)\n",
    "\n",
    "z = np.polyfit(y, y_pred, 1)\n",
    "p = np.poly1d(z)\n",
    "plt.plot(y,p(y),\"r-\")\n",
    "\n",
    "print('Coefficient of determination: ', r2_score(y, y_pred))"
   ]
  },
  {
   "cell_type": "markdown",
   "id": "fatty-batch",
   "metadata": {},
   "source": [
    "Wow — title words are really powerful! We can explain about half the variance in gender equality just by looking at the top hundred words in film titles.\n",
    "\n",
    "Something's not right here.\n",
    "\n",
    "**DISCUSSION:**\n",
    "\n",
    "What's wrong here? Our linear regression was technically correct, as far as the code went. But our results are suspiciously good. How are we fooling ourselves?\n",
    "\n",
    "And how could we test our model to prove that it's fooling us?"
   ]
  },
  {
   "cell_type": "code",
   "execution_count": 41,
   "id": "accepting-lithuania",
   "metadata": {},
   "outputs": [
    {
     "name": "stdout",
     "output_type": "stream",
     "text": [
      "Coefficient of determination:  -2.882404240097612e+27\n"
     ]
    },
    {
     "data": {
      "image/png": "[encoded data removed]",
      "text/plain": [
       "<Figure size 432x288 with 1 Axes>"
      ]
     },
     "metadata": {
      "needs_background": "light"
     },
     "output_type": "display_data"
    }
   ],
   "source": [
    "X_test = data.iloc[ 50: 100, 0: 100]\n",
    "y_pred = regr.predict(X_test)\n",
    "plt.scatter(y, y_pred)\n",
    "\n",
    "z = np.polyfit(y, y_pred, 1)\n",
    "p = np.poly1d(z)\n",
    "plt.plot(y,p(y),\"r-\")\n",
    "\n",
    "print('Coefficient of determination: ', r2_score(y, y_pred))"
   ]
  },
  {
   "cell_type": "code",
   "execution_count": 42,
   "id": "secondary-recorder",
   "metadata": {},
   "outputs": [],
   "source": [
    "from sklearn.naive_bayes import MultinomialNB"
   ]
  },
  {
   "cell_type": "code",
   "execution_count": 43,
   "id": "logical-statistics",
   "metadata": {},
   "outputs": [],
   "source": [
    "data = data.sample(frac = 1)\n",
    "\n",
    "train = data.iloc[0:1600]\n",
    "test = data.iloc[1600:]"
   ]
  },
  {
   "cell_type": "code",
   "execution_count": 44,
   "id": "chubby-conservative",
   "metadata": {},
   "outputs": [],
   "source": [
    "train_y = train['frac_women'] \n",
    "train_X = train.iloc[ : , 0: 100]"
   ]
  },
  {
   "cell_type": "code",
   "execution_count": 45,
   "id": "expected-grave",
   "metadata": {},
   "outputs": [
    {
     "name": "stdout",
     "output_type": "stream",
     "text": [
      "Coefficient of determination:  0.005767655210537681\n"
     ]
    }
   ],
   "source": [
    "ridge = linear_model.Ridge(alpha = 10)\n",
    "ridge.fit(train_X, train_y)\n",
    "\n",
    "test_y = test['frac_women']\n",
    "test_X = test.iloc[ : , 0: 100]\n",
    "\n",
    "y_pred = ridge.predict(test_X)\n",
    "\n",
    "print('Coefficient of determination: ', r2_score(test_y, y_pred))"
   ]
  },
  {
   "cell_type": "code",
   "execution_count": 46,
   "id": "nasty-relation",
   "metadata": {},
   "outputs": [
    {
     "data": {
      "text/plain": [
       "[<matplotlib.lines.Line2D at 0x7ff00806c250>]"
      ]
     },
     "execution_count": 46,
     "metadata": {},
     "output_type": "execute_result"
    },
    {
     "data": {
      "image/png": "[encoded data removed]",
      "text/plain": [
       "<Figure size 432x288 with 1 Axes>"
      ]
     },
     "metadata": {
      "needs_background": "light"
     },
     "output_type": "display_data"
    }
   ],
   "source": [
    "plt.scatter(test_y, y_pred)\n",
    "z = np.polyfit(test_y, y_pred, 1)\n",
    "p = np.poly1d(z)\n",
    "plt.plot(y,p(y),\"r-\")"
   ]
  },
  {
   "cell_type": "code",
   "execution_count": 47,
   "id": "allied-macro",
   "metadata": {},
   "outputs": [
    {
     "ename": "NameError",
     "evalue": "name 'yhat' is not defined",
     "output_type": "error",
     "traceback": [
      "\u001b[0;31m---------------------------------------------------------------------------\u001b[0m",
      "\u001b[0;31mNameError\u001b[0m                                 Traceback (most recent call last)",
      "\u001b[0;32m<ipython-input-47-beec6b93b61e>\u001b[0m in \u001b[0;36m<module>\u001b[0;34m\u001b[0m\n\u001b[0;32m----> 1\u001b[0;31m \u001b[0msum\u001b[0m\u001b[0;34m(\u001b[0m\u001b[0myhat\u001b[0m \u001b[0;34m==\u001b[0m \u001b[0mbelongs2less\u001b[0m\u001b[0;34m)\u001b[0m \u001b[0;34m/\u001b[0m \u001b[0mlen\u001b[0m\u001b[0;34m(\u001b[0m\u001b[0myhat\u001b[0m\u001b[0;34m)\u001b[0m\u001b[0;34m\u001b[0m\u001b[0;34m\u001b[0m\u001b[0m\n\u001b[0m",
      "\u001b[0;31mNameError\u001b[0m: name 'yhat' is not defined"
     ]
    }
   ],
   "source": [
    "sum(yhat == belongs2less) / len(yhat)"
   ]
  },
  {
   "cell_type": "code",
   "execution_count": null,
   "id": "hired-olive",
   "metadata": {},
   "outputs": [],
   "source": [
    "import statsmodels.api as sm"
   ]
  },
  {
   "cell_type": "code",
   "execution_count": null,
   "id": "intermediate-dress",
   "metadata": {},
   "outputs": [],
   "source": [
    "X = sm.add_constant(X)\n",
    "model = sm.OLS(belongs2less, X)\n",
    "results = model.fit()\n",
    "yhat = model.predict(X)"
   ]
  },
  {
   "cell_type": "code",
   "execution_count": null,
   "id": "deadly-chocolate",
   "metadata": {},
   "outputs": [],
   "source": [
    "results.summary()"
   ]
  },
  {
   "cell_type": "code",
   "execution_count": null,
   "id": "driving-appointment",
   "metadata": {},
   "outputs": [],
   "source": [
    "word_fracs = []\n",
    "word_sizes = []\n",
    "words = []\n",
    "\n",
    "for word in vectorizer.get_feature_names():\n",
    "    size = sum(wordcounts[word])\n",
    "    frac = np.mean(wordcounts.loc[wordcounts[word] > 0, 'frac_women'])\n",
    "    word_fracs.append(frac)\n",
    "    word_sizes.append(math.log(size))\n",
    "    words.append(word)\n",
    "    "
   ]
  },
  {
   "cell_type": "code",
   "execution_count": null,
   "id": "overhead-dubai",
   "metadata": {},
   "outputs": [],
   "source": [
    "plt.figure(figsize = (9, 6))\n",
    "plt.scatter(word_sizes, word_fracs)\n",
    "\n",
    "for x, y, label in zip(word_sizes, word_fracs, words):\n",
    "    plt.text(x = x + .02, y = y, s = label, fontdict = dict(color = 'black', alpha = 0.8))\n",
    "\n",
    "plt.show()"
   ]
  },
  {
   "cell_type": "code",
   "execution_count": null,
   "id": "sexual-chart",
   "metadata": {},
   "outputs": [],
   "source": []
  }
 ],
 "metadata": {
  "kernelspec": {
   "display_name": "Python 3",
   "language": "python",
   "name": "python3"
  },
  "language_info": {
   "codemirror_mode": {
    "name": "ipython",
    "version": 3
   },
   "file_extension": ".py",
   "mimetype": "text/x-python",
   "name": "python",
   "nbconvert_exporter": "python",
   "pygments_lexer": "ipython3",
   "version": "3.7.6"
  }
 },
 "nbformat": 4,
 "nbformat_minor": 5
}
