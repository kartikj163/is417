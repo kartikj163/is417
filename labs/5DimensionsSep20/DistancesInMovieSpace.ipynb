{
 "cells": [
  {
   "cell_type": "markdown",
   "id": "incredible-running",
   "metadata": {},
   "source": [
    "# Thinking about movies and words in high-dimensional space\n",
    "\n",
    "As chapter 6 of Jurafsky and Martin explained, both the columns and the rows of a term-document matrix can be understood geometrically as points in space. (Or, if you prefer, as *vectors* drawn from the origin of a coordinate system to a particular point.)\n",
    "\n",
    "![A term-doc matrix and vector representation of same](jurafskyvector.png)\n",
    "\n",
    "To make visualization easier, the textbook has chosen two dimensions here. But the space defined by the term-document matrix really has four dimensions. We can't easily draw a picture of four-dimensional space, but it's perfectly possible to measure distance there.\n",
    "\n",
    "See section 6.4 of Jurafsky and Martin for a mathematical explanation of \"cosine similarity.\" The cosine ranges from -1 to 1, and is largest when two vectors are very *similar.* (As you can see below, the cosine gets smaller as the angle X gets larger.)\n",
    "\n",
    "![https://www.quora.com/Mathematics-Why-does-the-obtuse-angle-of-cos-x-give-a-negative-value](cosine.png)\n",
    "\n",
    "To convert it into something more like a distance, it's conventional to measure\n",
    "\n",
    "1 - cos(X)\n",
    "\n",
    "which can be called \"cosine distance.\"\n",
    "\n",
    "In this notebook, we'll explore ways to reason geometrically about cultural objects by treating them as points in high-dimensional space. The examples we'll use are movies and movie characters, but much of this logic will apply also to images.\n",
    "\n",
    "We will\n",
    "\n",
    "1. Compare features (words) and instances (movies) by measuring the cosine distance between them,\n",
    "\n",
    "2. Cluster movie scripts in semantic space, and\n",
    "\n",
    "3. Flatten high-dimensional space into a plane, using a variety of *dimension reduction* techniques. Some information will be lost when we do this, but it's still a useful way to explore complex data."
   ]
  },
  {
   "cell_type": "markdown",
   "id": "honey-questionnaire",
   "metadata": {},
   "source": [
    "### Import useful modules and read data\n",
    "\n",
    "We'll be using the same dialogue data we used in HW3."
   ]
  },
  {
   "cell_type": "code",
   "execution_count": 1,
   "id": "union-google",
   "metadata": {},
   "outputs": [],
   "source": [
    "import pandas as pd\n",
    "import numpy as np\n",
    "from matplotlib import pyplot as plt\n",
    "from sklearn.feature_extraction.text import CountVectorizer\n",
    "from pathlib import Path\n",
    "import seaborn as sns\n",
    "import math, re, random\n",
    "from scipy.spatial.distance import cosine\n",
    "from collections import Counter\n",
    "from ast import literal_eval\n",
    "from sklearn.preprocessing import StandardScaler"
   ]
  },
  {
   "cell_type": "markdown",
   "id": "elder-richards",
   "metadata": {},
   "source": [
    "We start by reading in the familiar dataframe, with one row per character."
   ]
  },
  {
   "cell_type": "code",
   "execution_count": 2,
   "id": "stuffed-reasoning",
   "metadata": {},
   "outputs": [
    {
     "data": {
      "text/html": [
       "<div>\n",
       "<style scoped>\n",
       "    .dataframe tbody tr th:only-of-type {\n",
       "        vertical-align: middle;\n",
       "    }\n",
       "\n",
       "    .dataframe tbody tr th {\n",
       "        vertical-align: top;\n",
       "    }\n",
       "\n",
       "    .dataframe thead th {\n",
       "        text-align: right;\n",
       "    }\n",
       "</style>\n",
       "<table border=\"1\" class=\"dataframe\">\n",
       "  <thead>\n",
       "    <tr style=\"text-align: right;\">\n",
       "      <th></th>\n",
       "      <th>mid</th>\n",
       "      <th>cid</th>\n",
       "      <th>cname</th>\n",
       "      <th>mname</th>\n",
       "      <th>gender</th>\n",
       "      <th>wordcount</th>\n",
       "      <th>year</th>\n",
       "      <th>genres</th>\n",
       "      <th>comedy</th>\n",
       "      <th>thriller</th>\n",
       "      <th>drama</th>\n",
       "      <th>romance</th>\n",
       "      <th>lines</th>\n",
       "    </tr>\n",
       "  </thead>\n",
       "  <tbody>\n",
       "    <tr>\n",
       "      <th>0</th>\n",
       "      <td>m0</td>\n",
       "      <td>u0</td>\n",
       "      <td>BIANCA</td>\n",
       "      <td>10 things i hate about you</td>\n",
       "      <td>f</td>\n",
       "      <td>959</td>\n",
       "      <td>1999</td>\n",
       "      <td>['comedy', 'romance']</td>\n",
       "      <td>True</td>\n",
       "      <td>False</td>\n",
       "      <td>False</td>\n",
       "      <td>True</td>\n",
       "      <td>They do not! / I hope so. / Let's go. / Okay -...</td>\n",
       "    </tr>\n",
       "    <tr>\n",
       "      <th>1</th>\n",
       "      <td>m0</td>\n",
       "      <td>u2</td>\n",
       "      <td>CAMERON</td>\n",
       "      <td>10 things i hate about you</td>\n",
       "      <td>m</td>\n",
       "      <td>527</td>\n",
       "      <td>1999</td>\n",
       "      <td>['comedy', 'romance']</td>\n",
       "      <td>True</td>\n",
       "      <td>False</td>\n",
       "      <td>False</td>\n",
       "      <td>True</td>\n",
       "      <td>They do to! / She okay? / Wow / No / The \"real...</td>\n",
       "    </tr>\n",
       "    <tr>\n",
       "      <th>2</th>\n",
       "      <td>m0</td>\n",
       "      <td>u4</td>\n",
       "      <td>JOEY</td>\n",
       "      <td>10 things i hate about you</td>\n",
       "      <td>m</td>\n",
       "      <td>278</td>\n",
       "      <td>1999</td>\n",
       "      <td>['comedy', 'romance']</td>\n",
       "      <td>True</td>\n",
       "      <td>False</td>\n",
       "      <td>False</td>\n",
       "      <td>True</td>\n",
       "      <td>Listen, I want to talk to you about the prom. ...</td>\n",
       "    </tr>\n",
       "    <tr>\n",
       "      <th>3</th>\n",
       "      <td>m0</td>\n",
       "      <td>u5</td>\n",
       "      <td>KAT</td>\n",
       "      <td>10 things i hate about you</td>\n",
       "      <td>f</td>\n",
       "      <td>1217</td>\n",
       "      <td>1999</td>\n",
       "      <td>['comedy', 'romance']</td>\n",
       "      <td>True</td>\n",
       "      <td>False</td>\n",
       "      <td>False</td>\n",
       "      <td>True</td>\n",
       "      <td>Perm? / It's just you. / What? To completely d...</td>\n",
       "    </tr>\n",
       "    <tr>\n",
       "      <th>4</th>\n",
       "      <td>m0</td>\n",
       "      <td>u6</td>\n",
       "      <td>MANDELLA</td>\n",
       "      <td>10 things i hate about you</td>\n",
       "      <td>f</td>\n",
       "      <td>157</td>\n",
       "      <td>1999</td>\n",
       "      <td>['comedy', 'romance']</td>\n",
       "      <td>True</td>\n",
       "      <td>False</td>\n",
       "      <td>False</td>\n",
       "      <td>True</td>\n",
       "      <td>William - he asked me to meet him here. / Have...</td>\n",
       "    </tr>\n",
       "  </tbody>\n",
       "</table>\n",
       "</div>"
      ],
      "text/plain": [
       "  mid cid     cname                       mname gender  wordcount  year  \\\n",
       "0  m0  u0    BIANCA  10 things i hate about you      f        959  1999   \n",
       "1  m0  u2   CAMERON  10 things i hate about you      m        527  1999   \n",
       "2  m0  u4      JOEY  10 things i hate about you      m        278  1999   \n",
       "3  m0  u5       KAT  10 things i hate about you      f       1217  1999   \n",
       "4  m0  u6  MANDELLA  10 things i hate about you      f        157  1999   \n",
       "\n",
       "                  genres  comedy  thriller  drama  romance  \\\n",
       "0  ['comedy', 'romance']    True     False  False     True   \n",
       "1  ['comedy', 'romance']    True     False  False     True   \n",
       "2  ['comedy', 'romance']    True     False  False     True   \n",
       "3  ['comedy', 'romance']    True     False  False     True   \n",
       "4  ['comedy', 'romance']    True     False  False     True   \n",
       "\n",
       "                                               lines  \n",
       "0  They do not! / I hope so. / Let's go. / Okay -...  \n",
       "1  They do to! / She okay? / Wow / No / The \"real...  \n",
       "2  Listen, I want to talk to you about the prom. ...  \n",
       "3  Perm? / It's just you. / What? To completely d...  \n",
       "4  William - he asked me to meet him here. / Have...  "
      ]
     },
     "execution_count": 2,
     "metadata": {},
     "output_type": "execute_result"
    }
   ],
   "source": [
    "dialogpath = Path('../../data/movie_dialogue.tsv')\n",
    "\n",
    "chars = pd.read_csv(dialogpath, sep = '\\t')\n",
    "\n",
    "chars.head()"
   ]
  },
  {
   "cell_type": "markdown",
   "id": "incoming-foundation",
   "metadata": {},
   "source": [
    "### Aggregate dialogue at the movie level\n",
    "\n",
    "But for this problem, it's more manageable (at least initially) to talk about movies rather than characters. So let's aggregate the dialogue at the movie level.\n",
    "\n",
    "```.groupby()``` helps with this, but it's still not a totally straightforward task. It's hard to avoid writing a loop."
   ]
  },
  {
   "cell_type": "code",
   "execution_count": 10,
   "id": "comic-crack",
   "metadata": {},
   "outputs": [
    {
     "data": {
      "text/html": [
       "<div>\n",
       "<style scoped>\n",
       "    .dataframe tbody tr th:only-of-type {\n",
       "        vertical-align: middle;\n",
       "    }\n",
       "\n",
       "    .dataframe tbody tr th {\n",
       "        vertical-align: top;\n",
       "    }\n",
       "\n",
       "    .dataframe thead th {\n",
       "        text-align: right;\n",
       "    }\n",
       "</style>\n",
       "<table border=\"1\" class=\"dataframe\">\n",
       "  <thead>\n",
       "    <tr style=\"text-align: right;\">\n",
       "      <th></th>\n",
       "      <th>mid</th>\n",
       "      <th>wordcount</th>\n",
       "      <th>year</th>\n",
       "      <th>genres</th>\n",
       "      <th>comedy</th>\n",
       "      <th>thriller</th>\n",
       "      <th>drama</th>\n",
       "      <th>romance</th>\n",
       "      <th>lines</th>\n",
       "    </tr>\n",
       "    <tr>\n",
       "      <th>mname</th>\n",
       "      <th></th>\n",
       "      <th></th>\n",
       "      <th></th>\n",
       "      <th></th>\n",
       "      <th></th>\n",
       "      <th></th>\n",
       "      <th></th>\n",
       "      <th></th>\n",
       "      <th></th>\n",
       "    </tr>\n",
       "  </thead>\n",
       "  <tbody>\n",
       "    <tr>\n",
       "      <th>10 things i hate about you</th>\n",
       "      <td>m0</td>\n",
       "      <td>5159</td>\n",
       "      <td>1999</td>\n",
       "      <td>['comedy', 'romance']</td>\n",
       "      <td>True</td>\n",
       "      <td>False</td>\n",
       "      <td>False</td>\n",
       "      <td>True</td>\n",
       "      <td>They do not! / I hope so. / Let's go. / Okay -...</td>\n",
       "    </tr>\n",
       "    <tr>\n",
       "      <th>1492: conquest of paradise</th>\n",
       "      <td>m1</td>\n",
       "      <td>1474</td>\n",
       "      <td>1992</td>\n",
       "      <td>['adventure', 'biography', 'drama', 'history']</td>\n",
       "      <td>False</td>\n",
       "      <td>False</td>\n",
       "      <td>True</td>\n",
       "      <td>False</td>\n",
       "      <td>Asia can be found to the west -- and I will pr...</td>\n",
       "    </tr>\n",
       "    <tr>\n",
       "      <th>affliction</th>\n",
       "      <td>m10</td>\n",
       "      <td>5896</td>\n",
       "      <td>1997</td>\n",
       "      <td>['drama', 'mystery', 'thriller']</td>\n",
       "      <td>False</td>\n",
       "      <td>True</td>\n",
       "      <td>True</td>\n",
       "      <td>False</td>\n",
       "      <td>All the figures show is that Gordon LaRiviere ...</td>\n",
       "    </tr>\n",
       "    <tr>\n",
       "      <th>innerspace</th>\n",
       "      <td>m100</td>\n",
       "      <td>5181</td>\n",
       "      <td>1987</td>\n",
       "      <td>['action', 'adventure', 'comedy', 'crime', 'sc...</td>\n",
       "      <td>True</td>\n",
       "      <td>False</td>\n",
       "      <td>False</td>\n",
       "      <td>False</td>\n",
       "      <td>Sending what we know back to U.S.T. via satell...</td>\n",
       "    </tr>\n",
       "    <tr>\n",
       "      <th>the insider</th>\n",
       "      <td>m101</td>\n",
       "      <td>6418</td>\n",
       "      <td>1999</td>\n",
       "      <td>['biography', 'drama', 'thriller']</td>\n",
       "      <td>False</td>\n",
       "      <td>True</td>\n",
       "      <td>True</td>\n",
       "      <td>False</td>\n",
       "      <td>The New York Times ran a blow by blow of what ...</td>\n",
       "    </tr>\n",
       "  </tbody>\n",
       "</table>\n",
       "</div>"
      ],
      "text/plain": [
       "                             mid  wordcount  year  \\\n",
       "mname                                               \n",
       "10 things i hate about you    m0       5159  1999   \n",
       "1492: conquest of paradise    m1       1474  1992   \n",
       "affliction                   m10       5896  1997   \n",
       "innerspace                  m100       5181  1987   \n",
       "the insider                 m101       6418  1999   \n",
       "\n",
       "                                                                       genres  \\\n",
       "mname                                                                           \n",
       "10 things i hate about you                              ['comedy', 'romance']   \n",
       "1492: conquest of paradise     ['adventure', 'biography', 'drama', 'history']   \n",
       "affliction                                   ['drama', 'mystery', 'thriller']   \n",
       "innerspace                  ['action', 'adventure', 'comedy', 'crime', 'sc...   \n",
       "the insider                                ['biography', 'drama', 'thriller']   \n",
       "\n",
       "                            comedy  thriller  drama  romance  \\\n",
       "mname                                                          \n",
       "10 things i hate about you    True     False  False     True   \n",
       "1492: conquest of paradise   False     False   True    False   \n",
       "affliction                   False      True   True    False   \n",
       "innerspace                    True     False  False    False   \n",
       "the insider                  False      True   True    False   \n",
       "\n",
       "                                                                        lines  \n",
       "mname                                                                          \n",
       "10 things i hate about you  They do not! / I hope so. / Let's go. / Okay -...  \n",
       "1492: conquest of paradise  Asia can be found to the west -- and I will pr...  \n",
       "affliction                  All the figures show is that Gordon LaRiviere ...  \n",
       "innerspace                  Sending what we know back to U.S.T. via satell...  \n",
       "the insider                 The New York Times ran a blow by blow of what ...  "
      ]
     },
     "execution_count": 10,
     "metadata": {},
     "output_type": "execute_result"
    }
   ],
   "source": [
    "# A simple-to-understand, if clunky, way to group by movie\n",
    "# We start by creating a dictionary with column labels as \n",
    "# the keys; each value will be a list that turns into a\n",
    "# column in a new dataframe with one row per movie.\n",
    "\n",
    "movie_dict = dict()\n",
    "exclude = {'cid', 'cname', 'gender'}  # movies don't have these\n",
    "\n",
    "for col in chars.columns:\n",
    "    if not col in exclude:\n",
    "        movie_dict[col] = []    # initialize the list\n",
    "\n",
    "for movie_id, df in chars.groupby('mid'):\n",
    "    \n",
    "    dialogue = ' '.join([x for x in df['lines']])  #\n",
    "    movie_dict['lines'].append(dialogue)\n",
    "    \n",
    "    for col in chars.columns:\n",
    "        if col in exclude or col == 'lines' or col == 'wordcount':\n",
    "            continue\n",
    "        else:\n",
    "            movie_dict[col].append(df[col].values[0]) # for most columns all rows\n",
    "                                                # of the grouped df are the same\n",
    "                                                # so just take the first entry\n",
    "    \n",
    "    movie_dict['wordcount'].append(np.sum(df['wordcount']))  # sum\n",
    "    \n",
    "movies = pd.DataFrame(movie_dict)\n",
    "movies = movies.set_index('mname')\n",
    "movies.head()"
   ]
  },
  {
   "cell_type": "markdown",
   "id": "buried-music",
   "metadata": {},
   "source": [
    "#### Build vocabulary\n",
    "\n",
    "In the past we've let the CountVectorizer define its own vocabulary. But it's actually a little naive to create a vocabulary by just counting the number of words in a corpus. It's often better to select words by *document frequency*. If \"Leia,\" for instance, appears 105 times in 3 movies, the document frequency of Leia is 3--which might be a better reflection of its importance in the corpus than 105."
   ]
  },
  {
   "cell_type": "code",
   "execution_count": 11,
   "id": "technological-taste",
   "metadata": {},
   "outputs": [],
   "source": [
    "vocab = Counter()\n",
    "\n",
    "for script in movies['lines']:\n",
    "    words = re.split('\\W', script)\n",
    "    one_each = set([w for w in words if len(w) > 1])  # get rid of one-letter words, often noise\n",
    "    for w in one_each:\n",
    "        if not w.isdigit() and not w[0].isupper():    # get rid of numbers and names\n",
    "            vocab[w.lower()] += 1\n",
    "        \n",
    "vocab = vocab.most_common(5000)   # This is a Counter() method that returns paired\n",
    "                                  # keys and counts for the keys with highest counts."
   ]
  },
  {
   "cell_type": "markdown",
   "id": "commercial-internet",
   "metadata": {},
   "source": [
    "Let's see what's actually in ```vocab.```"
   ]
  },
  {
   "cell_type": "code",
   "execution_count": 12,
   "id": "polish-photograph",
   "metadata": {},
   "outputs": [
    {
     "name": "stdout",
     "output_type": "stream",
     "text": [
      "Most common words: [('the', 601), ('it', 600), ('you', 600), ('to', 600), ('what', 600), ('me', 599), ('of', 599), ('that', 599), ('know', 599), ('are', 599)] \n",
      "\n",
      "Least common words (in top 5000) [('rated', 12), ('referred', 12), ('document', 12), ('ratings', 12), ('canceled', 12), ('inject', 12), ('fragile', 12), ('worthwhile', 12), ('ankles', 12), ('rear', 12)]\n"
     ]
    }
   ],
   "source": [
    "print(\"Most common words:\", vocab[0:10], '\\n')\n",
    "print(\"Least common words (in top 5000)\", vocab[-10: ])"
   ]
  },
  {
   "cell_type": "markdown",
   "id": "opening-devices",
   "metadata": {},
   "source": [
    "We want to split apart the words (we'll call them ```lexicon```) and the document frequencies."
   ]
  },
  {
   "cell_type": "code",
   "execution_count": 13,
   "id": "cardiovascular-converter",
   "metadata": {},
   "outputs": [],
   "source": [
    "lexicon = [x[0] for x in vocab]     # this syntax is called a 'list comprehension'\n",
    "docfreqs = [x[1] for x in vocab]"
   ]
  },
  {
   "cell_type": "markdown",
   "id": "restricted-setting",
   "metadata": {},
   "source": [
    "Now count all the words in lexicon. Notice that the words are now in frequency order rather than alphabetical order. There will also be fewer numbers and names."
   ]
  },
  {
   "cell_type": "code",
   "execution_count": null,
   "id": "hollow-sphere",
   "metadata": {},
   "outputs": [],
   "source": [
    "vectorizer = CountVectorizer(vocabulary = lexicon)\n",
    "all_movie_ids = movies.index.tolist()\n",
    "sparse_counts = vectorizer.fit_transform(movies['lines']) # the vectorizer produces something\n",
    "                                                               # called a 'sparse matrix'; we need to\n",
    "                                                               # unpack it\n",
    "moviecounts = pd.DataFrame(sparse_counts.toarray(), index = all_movie_ids, \n",
    "                            columns = vectorizer.get_feature_names())\n",
    "moviecounts.head()"
   ]
  },
  {
   "cell_type": "markdown",
   "id": "faced-lease",
   "metadata": {},
   "source": [
    "A final refinement. If we're looking for similarities and differences between films, a word like 'gambler' is more valuable than would be suggested by its rarity, and a word like 'the' is a little less useful than its frequency would suggest. \n",
    "\n",
    "One common way to address this is to adjust the term frequencies (columns) by dividing them by the document frequencies of those terms. This technique--which slightly increases the weight assigned to rare words--is called tf-idf (term-frequency-inverse-document-frequency). It was developed as a way of improving information retrieval, by more appropriately weighting the words in a search engine.\n",
    "\n",
    "We could do that here by saying\n",
    "\n",
    "    moviefreqs = moviecounts.divide(docfreqs, axis = 'columns') \n",
    "\n",
    "What works even better, however, is a technique we learned last time, when we were applying logistic regression to a high-dimensional matrix of word frequencies.\n",
    "\n",
    "First we turned raw word counts into probabilities, by dividing by total text length. (Summing rows.)\n",
    "\n",
    "Then we \"scaled\" those probabilities to give all words the same weight. (Technically, we subtracted the column mean from each column, and divided by column standard deviation.)\n"
   ]
  },
  {
   "cell_type": "code",
   "execution_count": 15,
   "id": "quantitative-antique",
   "metadata": {},
   "outputs": [],
   "source": [
    "scriptlengths = moviecounts.sum(axis = 'columns')\n",
    "moviefreqs = moviecounts.divide(scriptlengths, axis = 'rows')  # turn counts into probabilities\n",
    "\n",
    "scaler = StandardScaler()\n",
    "movies_normed = scaler.fit_transform(moviefreqs)    # now scale the columns\n",
    "\n",
    "# now we add back the column and row labels that the Scaler removed\n",
    "movies_normed = pd.DataFrame(movies_normed, columns = moviecounts.columns, index = moviecounts.index)"
   ]
  },
  {
   "cell_type": "markdown",
   "id": "productive-theater",
   "metadata": {},
   "source": [
    "The step where we divided by script length would not be absolutely necessary if we just wanted to use cosine distance to compare difference movies. Cosine distance measures the angle between vectors, not the length of the vectors. See [the figure I borrowed from Quora](https://www.quora.com/Mathematics-Why-does-the-obtuse-angle-of-cos-x-give-a-negative-value) below: the Eucidean distance between D and E is greater than the distance between A and B, because the vectors to D and E are longer. But the angle, and cosine distance, between both pairs of points is the same.\n",
    "\n",
    "![A figure from Quora](cosversuseuclid.png)\n",
    "\n",
    "So, as long as we're comparing movies by cosine, it doesn't matter if the numbers in some rows are bigger than in other rows--what matters for the angle are the relative *proportions* between columns. \n",
    "\n",
    "But what effect would this have if we flipped the matrix and decided to compare different words according to their angle in movie space?"
   ]
  },
  {
   "cell_type": "markdown",
   "id": "curious-story",
   "metadata": {},
   "source": [
    "### Using cosine distance to group words and movies\n",
    "\n",
    "When we used a term-document matrix for predictive modeling, we needed to have a known set of labels--indicating the genre of a movie or the gender of a character. That's *supervised* modeling. But we can also use this data in an *unsupervised* fashion to detect patterns. There will be many kinds of unsupervised (or self-supervised) modeling, but a first step in that direction is to measure distances between rows or between columns. \n",
    "\n",
    "The code below allows you to enter a column (a word), and then finds other words that are closest to it in \"movie-space\" -- that is, in terms of their distribution across movies. Is closeness-in-movie-space the same thing as a word's \"meaning\"? Experiment, see what you think, and discuss in breakout groups. I recommend trying \"monster,\" \"cop,\" and \"gamble\" as well as a few common words."
   ]
  },
  {
   "cell_type": "code",
   "execution_count": 23,
   "id": "superior-orange",
   "metadata": {},
   "outputs": [
    {
     "name": "stdin",
     "output_type": "stream",
     "text": [
      "word to match?  star\n"
     ]
    },
    {
     "name": "stdout",
     "output_type": "stream",
     "text": [
      "0.5118386773960988 entertain\n",
      "0.5518303303832697 emotion\n",
      "0.5540334537001183 comic\n",
      "0.620605263497499 arrives\n",
      "0.6206565724749187 data\n"
     ]
    }
   ],
   "source": [
    "wordtomatch = input('word to match? ')\n",
    "\n",
    "if wordtomatch not in movies_normed.columns:\n",
    "    print(\"I'm sorry, that's not a word in the columns of the matrix.\")\n",
    "else:\n",
    "    matches = []\n",
    "\n",
    "    for w in movies_normed.columns:\n",
    "        if w == wordtomatch:\n",
    "            continue\n",
    "        else:\n",
    "            cosdist = cosine(movies_normed[w], movies_normed[wordtomatch])\n",
    "            matches.append((cosdist, w))\n",
    "\n",
    "    matches.sort()\n",
    "    for distance, title in matches[0:5]:\n",
    "        print(distance, title)\n",
    "        "
   ]
  },
  {
   "cell_type": "markdown",
   "id": "stuck-papua",
   "metadata": {},
   "source": [
    "#### EXERCISE 1\n",
    "\n",
    "We can use the same technique to compare rows (movie scripts) in word space. \n",
    "\n",
    "All you need to do to adapt the code above is to flip the dataframe movies_normed by using the ```.transpose()``` method of a Pandas dataframe. Start by saying \n",
    "\n",
    "    wordspace = movies_normed.transpose()\n",
    "\n",
    "Then inspect what you've got, and adapt the code above so that the user can enter a movie title, and get five movies that are close matches in \"word space.\"\n",
    "\n",
    "Do these results conform to our intuitions about the similarity of movies? Experiment and discuss. I suggest trying \"the godfather,\" \"jaws,\" \"shakespeare in love,\" and \"vertigo.\" What aspects of artistic similarity get ignored, or exaggerated, if we use this measure?"
   ]
  },
  {
   "cell_type": "code",
   "execution_count": 24,
   "id": "deluxe-sleep",
   "metadata": {},
   "outputs": [],
   "source": [
    "### your code goes here"
   ]
  },
  {
   "cell_type": "markdown",
   "id": "settled-antarctica",
   "metadata": {},
   "source": [
    "## Dimension-reduction: principal component analysis\n",
    "\n",
    "Comparing individual pairs of movies is fun. But we don't have to think about similarity in this one-by-one way.\n",
    "\n",
    "Suppose we want to get an overview of the structure of this dataset. Does \"genre\" strongly determine the dialogue in a movie or is release date a more powerful factor?\n",
    "\n",
    "Ideally, we'd like to inspect the relationships between scripts in thousand-dimensional space. Since our eyes don't see well in a thousand dimensions, we need a way to compress those similarities and differences down to two dimensions. But what two dimensions should we use? No single pair of words is likely to be informative.\n",
    "\n",
    "One classic way to reduce the dimensionality of a dataset is called \"principal component analysis,\" or PCA. PCA constructs new variables that are linear combinations of the variables you started with, and guarantees that these new \"components\" of variance are orthogonal (at right angles) to each other. The actual math it uses to do this is hard to explain if you're not familiar with matrix multiplication and factoring, but the goal of the process is easy to understand; the animations [here](https://setosa.io/ev/principal-component-analysis/) and [here](https://builtin.com/data-science/step-step-explanation-principal-component-analysis) may help.\n",
    "\n",
    "#### Selecting a subset of movies and scaling the matrix\n",
    "\n",
    "Let's start by selecting 320 movies at random. I'm setting the ```random_state``` to 12 so that--I hope!--we all get loosely similar results."
   ]
  },
  {
   "cell_type": "code",
   "execution_count": 25,
   "id": "headed-calgary",
   "metadata": {},
   "outputs": [
    {
     "data": {
      "text/html": [
       "<div>\n",
       "<style scoped>\n",
       "    .dataframe tbody tr th:only-of-type {\n",
       "        vertical-align: middle;\n",
       "    }\n",
       "\n",
       "    .dataframe tbody tr th {\n",
       "        vertical-align: top;\n",
       "    }\n",
       "\n",
       "    .dataframe thead th {\n",
       "        text-align: right;\n",
       "    }\n",
       "</style>\n",
       "<table border=\"1\" class=\"dataframe\">\n",
       "  <thead>\n",
       "    <tr style=\"text-align: right;\">\n",
       "      <th></th>\n",
       "      <th>the</th>\n",
       "      <th>it</th>\n",
       "      <th>you</th>\n",
       "      <th>to</th>\n",
       "      <th>what</th>\n",
       "      <th>me</th>\n",
       "      <th>of</th>\n",
       "      <th>that</th>\n",
       "      <th>know</th>\n",
       "      <th>are</th>\n",
       "      <th>...</th>\n",
       "      <th>rated</th>\n",
       "      <th>referred</th>\n",
       "      <th>document</th>\n",
       "      <th>ratings</th>\n",
       "      <th>canceled</th>\n",
       "      <th>inject</th>\n",
       "      <th>fragile</th>\n",
       "      <th>worthwhile</th>\n",
       "      <th>ankles</th>\n",
       "      <th>rear</th>\n",
       "    </tr>\n",
       "    <tr>\n",
       "      <th>mname</th>\n",
       "      <th></th>\n",
       "      <th></th>\n",
       "      <th></th>\n",
       "      <th></th>\n",
       "      <th></th>\n",
       "      <th></th>\n",
       "      <th></th>\n",
       "      <th></th>\n",
       "      <th></th>\n",
       "      <th></th>\n",
       "      <th></th>\n",
       "      <th></th>\n",
       "      <th></th>\n",
       "      <th></th>\n",
       "      <th></th>\n",
       "      <th></th>\n",
       "      <th></th>\n",
       "      <th></th>\n",
       "      <th></th>\n",
       "      <th></th>\n",
       "      <th></th>\n",
       "    </tr>\n",
       "  </thead>\n",
       "  <tbody>\n",
       "    <tr>\n",
       "      <th>insomnia</th>\n",
       "      <td>48</td>\n",
       "      <td>28</td>\n",
       "      <td>52</td>\n",
       "      <td>57</td>\n",
       "      <td>22</td>\n",
       "      <td>17</td>\n",
       "      <td>18</td>\n",
       "      <td>38</td>\n",
       "      <td>11</td>\n",
       "      <td>4</td>\n",
       "      <td>...</td>\n",
       "      <td>0</td>\n",
       "      <td>0</td>\n",
       "      <td>0</td>\n",
       "      <td>0</td>\n",
       "      <td>0</td>\n",
       "      <td>0</td>\n",
       "      <td>0</td>\n",
       "      <td>0</td>\n",
       "      <td>0</td>\n",
       "      <td>0</td>\n",
       "    </tr>\n",
       "    <tr>\n",
       "      <th>cast away</th>\n",
       "      <td>84</td>\n",
       "      <td>77</td>\n",
       "      <td>135</td>\n",
       "      <td>66</td>\n",
       "      <td>32</td>\n",
       "      <td>34</td>\n",
       "      <td>22</td>\n",
       "      <td>37</td>\n",
       "      <td>17</td>\n",
       "      <td>12</td>\n",
       "      <td>...</td>\n",
       "      <td>0</td>\n",
       "      <td>0</td>\n",
       "      <td>0</td>\n",
       "      <td>0</td>\n",
       "      <td>0</td>\n",
       "      <td>0</td>\n",
       "      <td>0</td>\n",
       "      <td>0</td>\n",
       "      <td>0</td>\n",
       "      <td>0</td>\n",
       "    </tr>\n",
       "    <tr>\n",
       "      <th>the silence of the lambs</th>\n",
       "      <td>142</td>\n",
       "      <td>78</td>\n",
       "      <td>256</td>\n",
       "      <td>147</td>\n",
       "      <td>44</td>\n",
       "      <td>78</td>\n",
       "      <td>61</td>\n",
       "      <td>67</td>\n",
       "      <td>32</td>\n",
       "      <td>17</td>\n",
       "      <td>...</td>\n",
       "      <td>0</td>\n",
       "      <td>0</td>\n",
       "      <td>0</td>\n",
       "      <td>0</td>\n",
       "      <td>0</td>\n",
       "      <td>0</td>\n",
       "      <td>0</td>\n",
       "      <td>0</td>\n",
       "      <td>0</td>\n",
       "      <td>0</td>\n",
       "    </tr>\n",
       "    <tr>\n",
       "      <th>a nightmare on elm street 4: the dream master</th>\n",
       "      <td>12</td>\n",
       "      <td>25</td>\n",
       "      <td>25</td>\n",
       "      <td>16</td>\n",
       "      <td>10</td>\n",
       "      <td>7</td>\n",
       "      <td>6</td>\n",
       "      <td>4</td>\n",
       "      <td>5</td>\n",
       "      <td>2</td>\n",
       "      <td>...</td>\n",
       "      <td>0</td>\n",
       "      <td>0</td>\n",
       "      <td>0</td>\n",
       "      <td>0</td>\n",
       "      <td>0</td>\n",
       "      <td>0</td>\n",
       "      <td>0</td>\n",
       "      <td>0</td>\n",
       "      <td>0</td>\n",
       "      <td>0</td>\n",
       "    </tr>\n",
       "    <tr>\n",
       "      <th>the deer hunter</th>\n",
       "      <td>56</td>\n",
       "      <td>77</td>\n",
       "      <td>169</td>\n",
       "      <td>33</td>\n",
       "      <td>60</td>\n",
       "      <td>9</td>\n",
       "      <td>18</td>\n",
       "      <td>48</td>\n",
       "      <td>37</td>\n",
       "      <td>20</td>\n",
       "      <td>...</td>\n",
       "      <td>0</td>\n",
       "      <td>0</td>\n",
       "      <td>0</td>\n",
       "      <td>0</td>\n",
       "      <td>0</td>\n",
       "      <td>0</td>\n",
       "      <td>0</td>\n",
       "      <td>0</td>\n",
       "      <td>0</td>\n",
       "      <td>0</td>\n",
       "    </tr>\n",
       "  </tbody>\n",
       "</table>\n",
       "<p>5 rows × 5000 columns</p>\n",
       "</div>"
      ],
      "text/plain": [
       "                                               the  it  you   to  what  me  \\\n",
       "mname                                                                        \n",
       "insomnia                                        48  28   52   57    22  17   \n",
       "cast away                                       84  77  135   66    32  34   \n",
       "the silence of the lambs                       142  78  256  147    44  78   \n",
       "a nightmare on elm street 4: the dream master   12  25   25   16    10   7   \n",
       "the deer hunter                                 56  77  169   33    60   9   \n",
       "\n",
       "                                               of  that  know  are  ...  \\\n",
       "mname                                                               ...   \n",
       "insomnia                                       18    38    11    4  ...   \n",
       "cast away                                      22    37    17   12  ...   \n",
       "the silence of the lambs                       61    67    32   17  ...   \n",
       "a nightmare on elm street 4: the dream master   6     4     5    2  ...   \n",
       "the deer hunter                                18    48    37   20  ...   \n",
       "\n",
       "                                               rated  referred  document  \\\n",
       "mname                                                                      \n",
       "insomnia                                           0         0         0   \n",
       "cast away                                          0         0         0   \n",
       "the silence of the lambs                           0         0         0   \n",
       "a nightmare on elm street 4: the dream master      0         0         0   \n",
       "the deer hunter                                    0         0         0   \n",
       "\n",
       "                                               ratings  canceled  inject  \\\n",
       "mname                                                                      \n",
       "insomnia                                             0         0       0   \n",
       "cast away                                            0         0       0   \n",
       "the silence of the lambs                             0         0       0   \n",
       "a nightmare on elm street 4: the dream master        0         0       0   \n",
       "the deer hunter                                      0         0       0   \n",
       "\n",
       "                                               fragile  worthwhile  ankles  \\\n",
       "mname                                                                        \n",
       "insomnia                                             0           0       0   \n",
       "cast away                                            0           0       0   \n",
       "the silence of the lambs                             0           0       0   \n",
       "a nightmare on elm street 4: the dream master        0           0       0   \n",
       "the deer hunter                                      0           0       0   \n",
       "\n",
       "                                               rear  \n",
       "mname                                                \n",
       "insomnia                                          0  \n",
       "cast away                                         0  \n",
       "the silence of the lambs                          0  \n",
       "a nightmare on elm street 4: the dream master     0  \n",
       "the deer hunter                                   0  \n",
       "\n",
       "[5 rows x 5000 columns]"
      ]
     },
     "execution_count": 25,
     "metadata": {},
     "output_type": "execute_result"
    }
   ],
   "source": [
    "moviesubset = movies.sample(320, random_state = 12)\n",
    "\n",
    "subsetcounts = moviecounts.loc[moviesubset.index, : ]\n",
    "subsetcounts.head()"
   ]
  },
  {
   "cell_type": "markdown",
   "id": "affiliated-easter",
   "metadata": {},
   "source": [
    "When we were just measuring cosine similarities between movies, it didn't matter how long the vectors were; we were just measuring angles. But PCA will create components by measuring the total amount of variance on different axes. The difference between long and short scripts would matter and distort our results if we didn't start by turning word counts into probabilities. To do that, we divide by total script length."
   ]
  },
  {
   "cell_type": "code",
   "execution_count": 26,
   "id": "hindu-unemployment",
   "metadata": {},
   "outputs": [],
   "source": [
    "scriptlengths = subsetcounts.sum(axis = 'columns')\n",
    "subset_freqs = subsetcounts.divide(scriptlengths, axis = 'rows')\n",
    "\n",
    "# I don't use this in the code below, but you could use it experimentally\n",
    "tfidf_subset = subset_freqs.divide(docfreqs, axis = 'columns') \n"
   ]
  },
  {
   "cell_type": "markdown",
   "id": "objective-farmer",
   "metadata": {},
   "source": [
    "We will also usually get more informative results if we scale all the columns to have equal magnitude. This reduces the influence of rare words even more aggressively than the tf-idf scaling we used before."
   ]
  },
  {
   "cell_type": "code",
   "execution_count": 27,
   "id": "strange-smoke",
   "metadata": {},
   "outputs": [],
   "source": [
    "scaler = StandardScaler()\n",
    "normed_subset = scaler.fit_transform(subset_freqs)\n",
    "normed_subset = pd.DataFrame(normed_subset, columns = subsetcounts.columns)"
   ]
  },
  {
   "cell_type": "markdown",
   "id": "canadian-merit",
   "metadata": {},
   "source": [
    "#### Principal component analysis\n",
    "\n",
    "For an intuitive visual explainer on PCA, you can consult [a blog post by Victor Powell.](https://setosa.io/ev/principal-component-analysis/) For our purposes, you can envision it as a process that chooses the best \"camera angle\" to view a high-dimensional space -- an angle where the points spread out as much as possible in a smaller-dimensional representation, like say a plane.\n",
    "\n",
    "Because you're viewing the original space at an angle, the axes in the new reduced space each represent some *algebraic combination* of the original dimensions. So you can't label the x and y axes in a PCA plot in any simple way. All of the features (words) in your original dataset may contribute somehow to these abstract \"dimensions.\"\n",
    "\n",
    "As usual, scikit-learn makes the math easy. You just import PCA and specify that you want to reduce your data to two \"components\" (aka dimensions). Then you can fit the model and transform your data in a single step."
   ]
  },
  {
   "cell_type": "code",
   "execution_count": 28,
   "id": "northern-peninsula",
   "metadata": {},
   "outputs": [
    {
     "data": {
      "text/plain": [
       "(320, 2)"
      ]
     },
     "execution_count": 28,
     "metadata": {},
     "output_type": "execute_result"
    }
   ],
   "source": [
    "from sklearn.decomposition import PCA\n",
    "\n",
    "pca = PCA(n_components = 2)\n",
    "components = pca.fit_transform(normed_subset)  # what happens if you change this to tfidf_subset?\n",
    "components.shape"
   ]
  },
  {
   "cell_type": "markdown",
   "id": "digital-generation",
   "metadata": {},
   "source": [
    "Here are our 320 movies spread out in a plane defined by the two principal components."
   ]
  },
  {
   "cell_type": "code",
   "execution_count": 29,
   "id": "incoming-groove",
   "metadata": {},
   "outputs": [
    {
     "data": {
      "text/plain": [
       "<matplotlib.collections.PathCollection at 0x7fde58f933d0>"
      ]
     },
     "execution_count": 29,
     "metadata": {},
     "output_type": "execute_result"
    },
    {
     "data": {
      "image/png": "[encoded data removed]",
      "text/plain": [
       "<Figure size 432x288 with 1 Axes>"
      ]
     },
     "metadata": {
      "needs_background": "light"
     },
     "output_type": "display_data"
    }
   ],
   "source": [
    "plt.scatter(components[ : , 0], components[ : , 1])"
   ]
  },
  {
   "cell_type": "markdown",
   "id": "lasting-belarus",
   "metadata": {},
   "source": [
    "#### Producing a more informative visualization\n",
    "\n",
    "So far, that's just a glob of dots. What can we learn from it?\n",
    "\n",
    "To start with, it would be helpful if we could color the dots by genre. We can't simply assign a color to each genre, because genres in this dataset are not exclusive. Each movie can have a number of different genre tags.\n",
    "\n",
    "But we could, for instance, visualize two genres at once, giving one color to genre A, one to genre B, and a third color to the films with both genres.\n",
    "\n",
    "By the way, what genres do we have in this subset?"
   ]
  },
  {
   "cell_type": "code",
   "execution_count": 30,
   "id": "loved-piano",
   "metadata": {},
   "outputs": [
    {
     "data": {
      "text/plain": [
       "{'action',\n",
       " 'adventure',\n",
       " 'animation',\n",
       " 'biography',\n",
       " 'comedy',\n",
       " 'crime',\n",
       " 'documentary',\n",
       " 'drama',\n",
       " 'family',\n",
       " 'fantasy',\n",
       " 'film-noir',\n",
       " 'history',\n",
       " 'horror',\n",
       " 'music',\n",
       " 'musical',\n",
       " 'mystery',\n",
       " 'romance',\n",
       " 'sci-fi',\n",
       " 'short',\n",
       " 'sport',\n",
       " 'thriller',\n",
       " 'war',\n",
       " 'western'}"
      ]
     },
     "execution_count": 30,
     "metadata": {},
     "output_type": "execute_result"
    }
   ],
   "source": [
    "genreset = set()\n",
    "\n",
    "for idx, row in moviesubset.iterrows():\n",
    "    genres = literal_eval(row.genres)\n",
    "    for g in genres:\n",
    "        genreset.add(g)\n",
    "        \n",
    "genreset"
   ]
  },
  {
   "cell_type": "markdown",
   "id": "radio-creativity",
   "metadata": {},
   "source": [
    "Let's create a function that we can use to color the points."
   ]
  },
  {
   "cell_type": "code",
   "execution_count": 31,
   "id": "optical-compound",
   "metadata": {},
   "outputs": [],
   "source": [
    "def genre2color(row, orangegenre, bluegenre):\n",
    "    color = 'other'\n",
    "    \n",
    "    genres = literal_eval(row['genres'])  # this turns the \"genres\" string into an actual Python list\n",
    "                        # e.g. \"['comedy', 'romance']\" becomes ['comedy', 'romance']\n",
    "    \n",
    "    genrecount = 0\n",
    "    \n",
    "    if orangegenre in genres:\n",
    "        color = orangegenre\n",
    "        genrecount += 1\n",
    "    if bluegenre in genres:\n",
    "        color = bluegenre\n",
    "        genrecount += 1\n",
    "        \n",
    "    if genrecount > 1:\n",
    "        color = 'both'\n",
    "    \n",
    "    return color\n"
   ]
  },
  {
   "cell_type": "markdown",
   "id": "sudden-jewel",
   "metadata": {},
   "source": [
    "Coloring the dots is a good start on making this readable, but ... it would be a little nicer if we could label some of the films.\n",
    "\n",
    "Unfortunately, we have too many dots to label them all. It would be nice if we could select some widely spaced examples of the genres we're coloring.\n",
    "\n",
    "That could be done manually, but I've written the function below to do it automatically. You should basically ignore the details here, because all this function is doing is selecting a list of line numbers that correspond to widely spaced points. If you needed to do choose dots to label yourself, you could always do it manually; that would be much easier."
   ]
  },
  {
   "cell_type": "code",
   "execution_count": 32,
   "id": "afraid-python",
   "metadata": {},
   "outputs": [],
   "source": [
    "def get_outliers(plotframe):\n",
    "    \n",
    "    # This is more complex than it really needs to be.\n",
    "    # I'm using a complex strategy to make sure the\n",
    "    # outliers we label are evenly distributed and not so\n",
    "    # close to each other that the labels overlap.\n",
    "    \n",
    "    outliers = []\n",
    "    skip = set()\n",
    "    \n",
    "    meanx = np.mean(plotframe['x'])\n",
    "    meany = np.mean(plotframe['y'])\n",
    "\n",
    "    for points_labeled in range(20):\n",
    "\n",
    "        distances = []\n",
    "\n",
    "        for linenum in range(plotframe.shape[0]):\n",
    "            if linenum in outliers or linenum in skip or plotframe.color[linenum] == 'other':\n",
    "                continue\n",
    "            else:\n",
    "                euclidnorm = math.sqrt((plotframe.x[linenum] - meanx) ** 2 + (plotframe.y[linenum] - meany) **2)\n",
    "                distances.append((euclidnorm, linenum))\n",
    "\n",
    "        distances.sort()\n",
    "\n",
    "        chosen = distances[-1][1]\n",
    "        tooclose = False\n",
    "\n",
    "        for already_have in outliers:\n",
    "            verticaldist = abs(plotframe.y[already_have] - plotframe.y[chosen])\n",
    "            if verticaldist < 0.015:\n",
    "                tooclose = True\n",
    "                skip.add(chosen)\n",
    "\n",
    "        if not tooclose:        \n",
    "            outliers.append(chosen)\n",
    "\n",
    "        meanx = np.mean([meanx, np.mean(plotframe.loc[outliers, 'x'])])\n",
    "        meany = np.mean([meany, np.mean(plotframe.loc[outliers, 'y'])])\n",
    "    \n",
    "    return outliers"
   ]
  },
  {
   "cell_type": "markdown",
   "id": "furnished-albany",
   "metadata": {},
   "source": [
    "Now we choose genres to color, assign specific colors to them, and label the list of points we're calling \"outliers.\"\n",
    "\n",
    "If you want to change the colors, here's [a list of color names in python.](https://matplotlib.org/stable/gallery/color/named_colors.html)"
   ]
  },
  {
   "cell_type": "code",
   "execution_count": null,
   "id": "drawn-concern",
   "metadata": {},
   "outputs": [],
   "source": [
    "colorseq = []\n",
    "\n",
    "orangegenre = 'action'\n",
    "bluegenre = 'romance'\n",
    "\n",
    "for idx, row in moviesubset.iterrows():\n",
    "    thiscolor = genre2color(row, orangegenre, bluegenre)\n",
    "    colorseq.append(thiscolor)\n",
    "\n",
    "plotframe = pd.DataFrame({'x': components[ : , 0], 'y': components[ : , 1],\n",
    "                         'color': colorseq})\n",
    "colordict = {'other': 'whitesmoke', orangegenre: 'orange',\n",
    "            'both': 'greenyellow', bluegenre: 'deepskyblue'}\n",
    "\n",
    "plt.figure(figsize=(10, 8), dpi=80)\n",
    "theplot = sns.scatterplot(data = plotframe, x = 'x', y = 'y', hue = 'color',\n",
    "               palette = colordict)\n",
    "plt.legend(bbox_to_anchor=(1.05, 1), loc=2, borderaxespad=0.)\n",
    "\n",
    "outliers = get_outliers(plotframe)  # this just gets a list of\n",
    "\n",
    "for line in outliers:\n",
    "     theplot.text(plotframe.x[line]+0.0005, plotframe.y[line] + .0005, \n",
    "     moviesubset.index[line], horizontalalignment='left', \n",
    "     size='medium', color='black', weight='normal')\n",
    "\n",
    "plt.show()"
   ]
  },
  {
   "cell_type": "markdown",
   "id": "interstate-outdoors",
   "metadata": {},
   "source": [
    "There could be some random variation between our plots. But I suspect many of us will see *Star Trek* movies on the right-hand side of this--and most of the romances in the lower left corner.\n",
    "\n",
    "This is *unsupervised*; the analysis doesn't know which movies belong to which human-perceived genre. It's just looking for a viewing angle that makes things spread out as much as possible. Since action movies are pretty different from romances, that happens to be an angle of view that makes those two genres relatively distinct.\n",
    "\n",
    "#### EXERCISE 2: EXPLORATION\n",
    "\n",
    "Try the same thing with different pairs of genres--\"comedy\" and \"romance,\" for instance, or \"sci-fi\" and \"horror\"--to see whether you get different patterns. You can also go back to the cell where we \"selected a set of movies,\" and change the random seed or the number of movies, to see if that changes the result.\n",
    "\n",
    "After 5 minutes of self-directed exploration, we'll convene in small groups, and each group will select a result to show.\n",
    "\n",
    "#### Understanding the axes of the plot\n",
    "\n",
    "If you want to understand the axes of PCA it *is* possible to extract an explanation. You can create a matrix ..."
   ]
  },
  {
   "cell_type": "code",
   "execution_count": 34,
   "id": "related-husband",
   "metadata": {},
   "outputs": [
    {
     "data": {
      "text/html": [
       "<div>\n",
       "<style scoped>\n",
       "    .dataframe tbody tr th:only-of-type {\n",
       "        vertical-align: middle;\n",
       "    }\n",
       "\n",
       "    .dataframe tbody tr th {\n",
       "        vertical-align: top;\n",
       "    }\n",
       "\n",
       "    .dataframe thead th {\n",
       "        text-align: right;\n",
       "    }\n",
       "</style>\n",
       "<table border=\"1\" class=\"dataframe\">\n",
       "  <thead>\n",
       "    <tr style=\"text-align: right;\">\n",
       "      <th></th>\n",
       "      <th>PC1</th>\n",
       "      <th>PC2</th>\n",
       "    </tr>\n",
       "  </thead>\n",
       "  <tbody>\n",
       "    <tr>\n",
       "      <th>the</th>\n",
       "      <td>0.066113</td>\n",
       "      <td>0.027135</td>\n",
       "    </tr>\n",
       "    <tr>\n",
       "      <th>it</th>\n",
       "      <td>-0.017624</td>\n",
       "      <td>0.022736</td>\n",
       "    </tr>\n",
       "    <tr>\n",
       "      <th>you</th>\n",
       "      <td>-0.050673</td>\n",
       "      <td>-0.025748</td>\n",
       "    </tr>\n",
       "    <tr>\n",
       "      <th>to</th>\n",
       "      <td>0.031369</td>\n",
       "      <td>-0.016038</td>\n",
       "    </tr>\n",
       "  </tbody>\n",
       "</table>\n",
       "</div>"
      ],
      "text/plain": [
       "          PC1       PC2\n",
       "the  0.066113  0.027135\n",
       "it  -0.017624  0.022736\n",
       "you -0.050673 -0.025748\n",
       "to   0.031369 -0.016038"
      ]
     },
     "execution_count": 34,
     "metadata": {},
     "output_type": "execute_result"
    }
   ],
   "source": [
    "loadings = pd.DataFrame(pca.components_.T, columns=['PC1', 'PC2'], index=normed_subset.columns)\n",
    "loadings.iloc[0:4, ]"
   ]
  },
  {
   "cell_type": "markdown",
   "id": "stone-madison",
   "metadata": {},
   "source": [
    "... and then sort each column to figure out which of the original variables play a big role in defining the ends of the axis. E.g., here's the right-hand (positive) side of the X axis. In many of the plots I've produced, this is a pole that attracts a lot of science fiction, and especially Star Trek movies."
   ]
  },
  {
   "cell_type": "code",
   "execution_count": null,
   "id": "caroline-deficit",
   "metadata": {},
   "outputs": [],
   "source": [
    "loadings['PC1'].sort_values()[-20: ]"
   ]
  },
  {
   "cell_type": "markdown",
   "id": "offshore-trance",
   "metadata": {},
   "source": [
    "The cell below is the lower (negative) side of the Y axis:"
   ]
  },
  {
   "cell_type": "code",
   "execution_count": null,
   "id": "narrative-intro",
   "metadata": {},
   "outputs": [],
   "source": [
    "loadings['PC2'].sort_values()[0: 20]"
   ]
  },
  {
   "cell_type": "markdown",
   "id": "aboriginal-entity",
   "metadata": {},
   "source": [
    "#### If we have time: what's the effect of release date?\n",
    "\n",
    "Language changes pretty dramatically over time. Maybe our PCA space is being shaped not just by genre but by release date. We have this in the ```year``` column of the moviesubset dataframe."
   ]
  },
  {
   "cell_type": "code",
   "execution_count": 35,
   "id": "black-observer",
   "metadata": {},
   "outputs": [
    {
     "data": {
      "text/plain": [
       "<AxesSubplot:xlabel='year', ylabel='Count'>"
      ]
     },
     "execution_count": 35,
     "metadata": {},
     "output_type": "execute_result"
    },
    {
     "data": {
      "image/png": "[encoded data removed]",
      "text/plain": [
       "<Figure size 432x288 with 1 Axes>"
      ]
     },
     "metadata": {
      "needs_background": "light"
     },
     "output_type": "display_data"
    }
   ],
   "source": [
    "sns.histplot(moviesubset.year)"
   ]
  },
  {
   "cell_type": "code",
   "execution_count": null,
   "id": "intensive-feature",
   "metadata": {},
   "outputs": [],
   "source": [
    "# If we have time: produce a visualization of movies in PCA space, where the\n",
    "# points are colored by release date\n"
   ]
  },
  {
   "cell_type": "markdown",
   "id": "dirty-marine",
   "metadata": {},
   "source": [
    "### Clustering\n",
    "\n",
    "We've been using human-assigned labels to identify clusters of works, and then visualizing them in an abstract space that we inferred algorithmically using PCA.\n",
    "\n",
    "In *theory* we could also use an algorithm to infer discrete clusters of works, instead of relying on human-assigned genre labels.\n",
    "\n",
    "But I have to say, clustering algorithms are more a thing that gets *taught* in data science courses rather than a thing that works well, in practice, on real textual data. If your data is relatively simple and has sharp boundaries between species of iris, or species of penguin, clustering may work on it. Actual cultural data tends to have blurry boundaries and lots of dimensions, and clustering is not especially powerful in that situation.\n",
    "\n",
    "For an overview of different clustering algorithms available in scikit-learn you can [consult the documentation.](https://scikit-learn.org/stable/modules/clustering.html)"
   ]
  },
  {
   "cell_type": "code",
   "execution_count": 266,
   "id": "piano-separation",
   "metadata": {},
   "outputs": [],
   "source": [
    "from sklearn.cluster import KMeans, AgglomerativeClustering"
   ]
  },
  {
   "cell_type": "markdown",
   "id": "first-sculpture",
   "metadata": {},
   "source": [
    "In terms of programming, clustering is very simple. We create a clustering instance, and then fit it to our data."
   ]
  },
  {
   "cell_type": "code",
   "execution_count": 357,
   "id": "dried-programmer",
   "metadata": {},
   "outputs": [],
   "source": [
    "kmeans = KMeans(n_clusters=5, random_state=10).fit(normed_subset)"
   ]
  },
  {
   "cell_type": "code",
   "execution_count": null,
   "id": "african-photograph",
   "metadata": {},
   "outputs": [],
   "source": [
    "pd.Series(kmeans.labels_).value_counts()"
   ]
  },
  {
   "cell_type": "markdown",
   "id": "dress-reservoir",
   "metadata": {},
   "source": [
    "#### EXERCISE 3:\n",
    "\n",
    "Produce a visualization of movies in PCA space, with the points colored by kmeans cluster."
   ]
  },
  {
   "cell_type": "code",
   "execution_count": 37,
   "id": "public-strap",
   "metadata": {},
   "outputs": [],
   "source": [
    "# your code goes here"
   ]
  }
 ],
 "metadata": {
  "kernelspec": {
   "display_name": "Python 3",
   "language": "python",
   "name": "python3"
  },
  "language_info": {
   "codemirror_mode": {
    "name": "ipython",
    "version": 3
   },
   "file_extension": ".py",
   "mimetype": "text/x-python",
   "name": "python",
   "nbconvert_exporter": "python",
   "pygments_lexer": "ipython3",
   "version": "3.7.6"
  }
 },
 "nbformat": 4,
 "nbformat_minor": 5
}
