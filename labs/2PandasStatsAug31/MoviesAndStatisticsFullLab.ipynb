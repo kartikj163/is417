{
 "cells": [
  {
   "cell_type": "markdown",
   "id": "possible-corporation",
   "metadata": {},
   "source": [
    "# Movies and Statistics\n",
    "\n",
    "This notebook guides you through a real application of Pandas to study gender bias in film scripts. In particular we want to ask whether gender is associated with the ages of characters, and whether the fraction of dialogue spoken by women changes significantly over historical time.\n",
    "\n",
    "We'll do some \"data munging\" (reorganizing and summarizing the data) to produce a data frame that has all the information we need. Then we'll run some simple statistical tests.\n",
    "\n",
    "We're drawing our data from [this blog post by Hannah Anderson and Matt Daniels](https://pudding.cool/2017/03/film-dialogue/). It organizes data for about 2000 screenplays, and reveals a number of patterns with gorgeous dataviz, but doesn't directly answer the question we want to pose.\n",
    "\n",
    "However, the authors of the project also posted their data [on GitHub,](https://github.com/matthewfdaniels/scripts/) and I've placed it in this folder.\n",
    "\n",
    "(This is mostly data on English-language film, but there are other sources out there; for instance, Prof. Rini Mehta in Comparative Literature has been [visualizing patterns](https://observablehq.com/@rbhttchr/25-heroes-of-hindi-cinema-1931-2020) in [Indian cinema.](https://observablehq.com/@rbhttchr/indian-cinemas-babel))\n",
    "\n",
    "We start by importing the modules we need. Because the word \"pandas\" is long if you have to type it a lot, it's conventionally imported *as* pd.\n",
    "\n",
    "I'm also going to import a basic graphics library (\"pyplot\") that I'll use to put some titles on graphs, draw a few lines on them, etc."
   ]
  },
  {
   "cell_type": "code",
   "execution_count": 1,
   "id": "restricted-moses",
   "metadata": {},
   "outputs": [],
   "source": [
    "import pandas as pd\n",
    "from matplotlib import pyplot as plt\n",
    "from pathlib import Path"
   ]
  },
  {
   "cell_type": "markdown",
   "id": "ruled-integral",
   "metadata": {},
   "source": [
    "### Meet your data\n",
    "\n",
    "The data, as made available by Anderson and Daniels, is in two separate tables. One table has a row for each *character,* and lists the character's gender, along with their age, and the number of words they speak in the movie.\n"
   ]
  },
  {
   "cell_type": "code",
   "execution_count": 2,
   "id": "premium-labor",
   "metadata": {},
   "outputs": [
    {
     "data": {
      "text/html": [
       "<div>\n",
       "<style scoped>\n",
       "    .dataframe tbody tr th:only-of-type {\n",
       "        vertical-align: middle;\n",
       "    }\n",
       "\n",
       "    .dataframe tbody tr th {\n",
       "        vertical-align: top;\n",
       "    }\n",
       "\n",
       "    .dataframe thead th {\n",
       "        text-align: right;\n",
       "    }\n",
       "</style>\n",
       "<table border=\"1\" class=\"dataframe\">\n",
       "  <thead>\n",
       "    <tr style=\"text-align: right;\">\n",
       "      <th></th>\n",
       "      <th>script_id</th>\n",
       "      <th>imdb_character_name</th>\n",
       "      <th>words</th>\n",
       "      <th>gender</th>\n",
       "      <th>age</th>\n",
       "    </tr>\n",
       "  </thead>\n",
       "  <tbody>\n",
       "    <tr>\n",
       "      <th>0</th>\n",
       "      <td>280</td>\n",
       "      <td>betty</td>\n",
       "      <td>311</td>\n",
       "      <td>f</td>\n",
       "      <td>35.0</td>\n",
       "    </tr>\n",
       "    <tr>\n",
       "      <th>1</th>\n",
       "      <td>280</td>\n",
       "      <td>carolyn johnson</td>\n",
       "      <td>873</td>\n",
       "      <td>f</td>\n",
       "      <td>NaN</td>\n",
       "    </tr>\n",
       "    <tr>\n",
       "      <th>2</th>\n",
       "      <td>280</td>\n",
       "      <td>eleanor</td>\n",
       "      <td>138</td>\n",
       "      <td>f</td>\n",
       "      <td>NaN</td>\n",
       "    </tr>\n",
       "    <tr>\n",
       "      <th>3</th>\n",
       "      <td>280</td>\n",
       "      <td>francesca johns</td>\n",
       "      <td>2251</td>\n",
       "      <td>f</td>\n",
       "      <td>46.0</td>\n",
       "    </tr>\n",
       "    <tr>\n",
       "      <th>4</th>\n",
       "      <td>280</td>\n",
       "      <td>madge</td>\n",
       "      <td>190</td>\n",
       "      <td>f</td>\n",
       "      <td>46.0</td>\n",
       "    </tr>\n",
       "  </tbody>\n",
       "</table>\n",
       "</div>"
      ],
      "text/plain": [
       "   script_id imdb_character_name  words gender   age\n",
       "0        280               betty    311      f  35.0\n",
       "1        280     carolyn johnson    873      f   NaN\n",
       "2        280             eleanor    138      f   NaN\n",
       "3        280     francesca johns   2251      f  46.0\n",
       "4        280               madge    190      f  46.0"
      ]
     },
     "execution_count": 2,
     "metadata": {},
     "output_type": "execute_result"
    }
   ],
   "source": [
    "charpath = Path('../../data/pudding/pudding_characters.csv')\n",
    "chars = pd.read_csv(charpath, encoding = 'utf-8')\n",
    "chars.head()"
   ]
  },
  {
   "cell_type": "code",
   "execution_count": 3,
   "id": "premier-camera",
   "metadata": {},
   "outputs": [
    {
     "data": {
      "text/plain": [
       "(23048, 5)"
      ]
     },
     "execution_count": 3,
     "metadata": {},
     "output_type": "execute_result"
    }
   ],
   "source": [
    "chars.shape"
   ]
  },
  {
   "cell_type": "markdown",
   "id": "alike-appearance",
   "metadata": {},
   "source": [
    "When you first load a dataset, it's often a good idea to look at its ```.head()``` and ```.shape```. You might also get summary statistics using ```.describe()```."
   ]
  },
  {
   "cell_type": "code",
   "execution_count": 4,
   "id": "robust-envelope",
   "metadata": {},
   "outputs": [
    {
     "data": {
      "text/html": [
       "<div>\n",
       "<style scoped>\n",
       "    .dataframe tbody tr th:only-of-type {\n",
       "        vertical-align: middle;\n",
       "    }\n",
       "\n",
       "    .dataframe tbody tr th {\n",
       "        vertical-align: top;\n",
       "    }\n",
       "\n",
       "    .dataframe thead th {\n",
       "        text-align: right;\n",
       "    }\n",
       "</style>\n",
       "<table border=\"1\" class=\"dataframe\">\n",
       "  <thead>\n",
       "    <tr style=\"text-align: right;\">\n",
       "      <th></th>\n",
       "      <th>script_id</th>\n",
       "      <th>imdb_character_name</th>\n",
       "      <th>words</th>\n",
       "      <th>gender</th>\n",
       "      <th>age</th>\n",
       "    </tr>\n",
       "  </thead>\n",
       "  <tbody>\n",
       "    <tr>\n",
       "      <th>count</th>\n",
       "      <td>23048.000000</td>\n",
       "      <td>23046</td>\n",
       "      <td>23048.000000</td>\n",
       "      <td>23048</td>\n",
       "      <td>18263.000000</td>\n",
       "    </tr>\n",
       "    <tr>\n",
       "      <th>unique</th>\n",
       "      <td>NaN</td>\n",
       "      <td>17613</td>\n",
       "      <td>NaN</td>\n",
       "      <td>3</td>\n",
       "      <td>NaN</td>\n",
       "    </tr>\n",
       "    <tr>\n",
       "      <th>top</th>\n",
       "      <td>NaN</td>\n",
       "      <td>doctor</td>\n",
       "      <td>NaN</td>\n",
       "      <td>m</td>\n",
       "      <td>NaN</td>\n",
       "    </tr>\n",
       "    <tr>\n",
       "      <th>freq</th>\n",
       "      <td>NaN</td>\n",
       "      <td>36</td>\n",
       "      <td>NaN</td>\n",
       "      <td>16132</td>\n",
       "      <td>NaN</td>\n",
       "    </tr>\n",
       "    <tr>\n",
       "      <th>mean</th>\n",
       "      <td>4194.784623</td>\n",
       "      <td>NaN</td>\n",
       "      <td>907.871486</td>\n",
       "      <td>NaN</td>\n",
       "      <td>42.382960</td>\n",
       "    </tr>\n",
       "    <tr>\n",
       "      <th>std</th>\n",
       "      <td>2472.985787</td>\n",
       "      <td>NaN</td>\n",
       "      <td>1399.593759</td>\n",
       "      <td>NaN</td>\n",
       "      <td>59.718859</td>\n",
       "    </tr>\n",
       "    <tr>\n",
       "      <th>min</th>\n",
       "      <td>280.000000</td>\n",
       "      <td>NaN</td>\n",
       "      <td>101.000000</td>\n",
       "      <td>NaN</td>\n",
       "      <td>3.000000</td>\n",
       "    </tr>\n",
       "    <tr>\n",
       "      <th>25%</th>\n",
       "      <td>2095.000000</td>\n",
       "      <td>NaN</td>\n",
       "      <td>193.000000</td>\n",
       "      <td>NaN</td>\n",
       "      <td>30.000000</td>\n",
       "    </tr>\n",
       "    <tr>\n",
       "      <th>50%</th>\n",
       "      <td>3694.000000</td>\n",
       "      <td>NaN</td>\n",
       "      <td>396.000000</td>\n",
       "      <td>NaN</td>\n",
       "      <td>39.000000</td>\n",
       "    </tr>\n",
       "    <tr>\n",
       "      <th>75%</th>\n",
       "      <td>6219.750000</td>\n",
       "      <td>NaN</td>\n",
       "      <td>980.000000</td>\n",
       "      <td>NaN</td>\n",
       "      <td>50.000000</td>\n",
       "    </tr>\n",
       "    <tr>\n",
       "      <th>max</th>\n",
       "      <td>9254.000000</td>\n",
       "      <td>NaN</td>\n",
       "      <td>28102.000000</td>\n",
       "      <td>NaN</td>\n",
       "      <td>2013.000000</td>\n",
       "    </tr>\n",
       "  </tbody>\n",
       "</table>\n",
       "</div>"
      ],
      "text/plain": [
       "           script_id imdb_character_name         words gender           age\n",
       "count   23048.000000               23046  23048.000000  23048  18263.000000\n",
       "unique           NaN               17613           NaN      3           NaN\n",
       "top              NaN              doctor           NaN      m           NaN\n",
       "freq             NaN                  36           NaN  16132           NaN\n",
       "mean     4194.784623                 NaN    907.871486    NaN     42.382960\n",
       "std      2472.985787                 NaN   1399.593759    NaN     59.718859\n",
       "min       280.000000                 NaN    101.000000    NaN      3.000000\n",
       "25%      2095.000000                 NaN    193.000000    NaN     30.000000\n",
       "50%      3694.000000                 NaN    396.000000    NaN     39.000000\n",
       "75%      6219.750000                 NaN    980.000000    NaN     50.000000\n",
       "max      9254.000000                 NaN  28102.000000    NaN   2013.000000"
      ]
     },
     "execution_count": 4,
     "metadata": {},
     "output_type": "execute_result"
    }
   ],
   "source": [
    "chars.describe(include = 'all')"
   ]
  },
  {
   "cell_type": "markdown",
   "id": "declared-audit",
   "metadata": {},
   "source": [
    "Do you notice anything strange about the maximum age of the characters?\n",
    "\n",
    "Some of them are rather old."
   ]
  },
  {
   "cell_type": "markdown",
   "id": "lesbian-azerbaijan",
   "metadata": {},
   "source": [
    "#### EXERCISE 1\n",
    "\n",
    "Working in pairs or groups of three, find how many characters are more than a thousand years old. Look at the names of all characters older than 1000 to see if there is some valid reason for this. (Like, is the character named \"Vampire King\" or \"The Ancient Dragon\"? Or does the age seem more likely to be a data entry error?) \n",
    "Remove all characters older than 1000 unless there is some obvious justification for their advanced age."
   ]
  },
  {
   "cell_type": "code",
   "execution_count": 5,
   "id": "superb-assignment",
   "metadata": {},
   "outputs": [],
   "source": [
    "vampire_detector = chars['age'] > 1000"
   ]
  },
  {
   "cell_type": "code",
   "execution_count": 6,
   "id": "urban-relaxation",
   "metadata": {},
   "outputs": [
    {
     "data": {
      "text/plain": [
       "16"
      ]
     },
     "execution_count": 6,
     "metadata": {},
     "output_type": "execute_result"
    }
   ],
   "source": [
    "sum(vampire_detector)"
   ]
  },
  {
   "cell_type": "code",
   "execution_count": 7,
   "id": "loving-toyota",
   "metadata": {},
   "outputs": [
    {
     "data": {
      "text/html": [
       "<div>\n",
       "<style scoped>\n",
       "    .dataframe tbody tr th:only-of-type {\n",
       "        vertical-align: middle;\n",
       "    }\n",
       "\n",
       "    .dataframe tbody tr th {\n",
       "        vertical-align: top;\n",
       "    }\n",
       "\n",
       "    .dataframe thead th {\n",
       "        text-align: right;\n",
       "    }\n",
       "</style>\n",
       "<table border=\"1\" class=\"dataframe\">\n",
       "  <thead>\n",
       "    <tr style=\"text-align: right;\">\n",
       "      <th></th>\n",
       "      <th>script_id</th>\n",
       "      <th>imdb_character_name</th>\n",
       "      <th>words</th>\n",
       "      <th>gender</th>\n",
       "      <th>age</th>\n",
       "    </tr>\n",
       "  </thead>\n",
       "  <tbody>\n",
       "    <tr>\n",
       "      <th>4024</th>\n",
       "      <td>1639</td>\n",
       "      <td>harold carnes</td>\n",
       "      <td>434</td>\n",
       "      <td>m</td>\n",
       "      <td>2000.0</td>\n",
       "    </tr>\n",
       "    <tr>\n",
       "      <th>5254</th>\n",
       "      <td>1962</td>\n",
       "      <td>margaret sulliv</td>\n",
       "      <td>310</td>\n",
       "      <td>f</td>\n",
       "      <td>2009.0</td>\n",
       "    </tr>\n",
       "    <tr>\n",
       "      <th>5370</th>\n",
       "      <td>1985</td>\n",
       "      <td>bernie callo</td>\n",
       "      <td>244</td>\n",
       "      <td>m</td>\n",
       "      <td>2005.0</td>\n",
       "    </tr>\n",
       "    <tr>\n",
       "      <th>5950</th>\n",
       "      <td>2144</td>\n",
       "      <td>realtor</td>\n",
       "      <td>148</td>\n",
       "      <td>m</td>\n",
       "      <td>2006.0</td>\n",
       "    </tr>\n",
       "    <tr>\n",
       "      <th>6899</th>\n",
       "      <td>2380</td>\n",
       "      <td>thorpey</td>\n",
       "      <td>133</td>\n",
       "      <td>m</td>\n",
       "      <td>2000.0</td>\n",
       "    </tr>\n",
       "    <tr>\n",
       "      <th>7787</th>\n",
       "      <td>2625</td>\n",
       "      <td>bull</td>\n",
       "      <td>188</td>\n",
       "      <td>m</td>\n",
       "      <td>2007.0</td>\n",
       "    </tr>\n",
       "    <tr>\n",
       "      <th>7968</th>\n",
       "      <td>2673</td>\n",
       "      <td>silent bob's mo</td>\n",
       "      <td>224</td>\n",
       "      <td>f</td>\n",
       "      <td>2001.0</td>\n",
       "    </tr>\n",
       "    <tr>\n",
       "      <th>9233</th>\n",
       "      <td>2986</td>\n",
       "      <td>monty malik</td>\n",
       "      <td>104</td>\n",
       "      <td>m</td>\n",
       "      <td>1999.0</td>\n",
       "    </tr>\n",
       "    <tr>\n",
       "      <th>9617</th>\n",
       "      <td>3095</td>\n",
       "      <td>nessie</td>\n",
       "      <td>116</td>\n",
       "      <td>f</td>\n",
       "      <td>1993.0</td>\n",
       "    </tr>\n",
       "    <tr>\n",
       "      <th>9819</th>\n",
       "      <td>3169</td>\n",
       "      <td>reporter</td>\n",
       "      <td>300</td>\n",
       "      <td>m</td>\n",
       "      <td>1980.0</td>\n",
       "    </tr>\n",
       "    <tr>\n",
       "      <th>10151</th>\n",
       "      <td>3288</td>\n",
       "      <td>officer davis</td>\n",
       "      <td>152</td>\n",
       "      <td>m</td>\n",
       "      <td>1995.0</td>\n",
       "    </tr>\n",
       "    <tr>\n",
       "      <th>11639</th>\n",
       "      <td>3737</td>\n",
       "      <td>lucas solomon</td>\n",
       "      <td>190</td>\n",
       "      <td>m</td>\n",
       "      <td>2013.0</td>\n",
       "    </tr>\n",
       "    <tr>\n",
       "      <th>13601</th>\n",
       "      <td>4487</td>\n",
       "      <td>newscaster</td>\n",
       "      <td>120</td>\n",
       "      <td>m</td>\n",
       "      <td>1992.0</td>\n",
       "    </tr>\n",
       "    <tr>\n",
       "      <th>14758</th>\n",
       "      <td>4920</td>\n",
       "      <td>girl in bathroo</td>\n",
       "      <td>162</td>\n",
       "      <td>f</td>\n",
       "      <td>1996.0</td>\n",
       "    </tr>\n",
       "    <tr>\n",
       "      <th>19222</th>\n",
       "      <td>7351</td>\n",
       "      <td>captain ramirez</td>\n",
       "      <td>121</td>\n",
       "      <td>m</td>\n",
       "      <td>2007.0</td>\n",
       "    </tr>\n",
       "    <tr>\n",
       "      <th>21635</th>\n",
       "      <td>8412</td>\n",
       "      <td>jack mccool</td>\n",
       "      <td>338</td>\n",
       "      <td>m</td>\n",
       "      <td>1996.0</td>\n",
       "    </tr>\n",
       "  </tbody>\n",
       "</table>\n",
       "</div>"
      ],
      "text/plain": [
       "       script_id imdb_character_name  words gender     age\n",
       "4024        1639       harold carnes    434      m  2000.0\n",
       "5254        1962     margaret sulliv    310      f  2009.0\n",
       "5370        1985        bernie callo    244      m  2005.0\n",
       "5950        2144             realtor    148      m  2006.0\n",
       "6899        2380             thorpey    133      m  2000.0\n",
       "7787        2625                bull    188      m  2007.0\n",
       "7968        2673     silent bob's mo    224      f  2001.0\n",
       "9233        2986         monty malik    104      m  1999.0\n",
       "9617        3095              nessie    116      f  1993.0\n",
       "9819        3169            reporter    300      m  1980.0\n",
       "10151       3288       officer davis    152      m  1995.0\n",
       "11639       3737       lucas solomon    190      m  2013.0\n",
       "13601       4487          newscaster    120      m  1992.0\n",
       "14758       4920     girl in bathroo    162      f  1996.0\n",
       "19222       7351     captain ramirez    121      m  2007.0\n",
       "21635       8412         jack mccool    338      m  1996.0"
      ]
     },
     "execution_count": 7,
     "metadata": {},
     "output_type": "execute_result"
    }
   ],
   "source": [
    "chars[vampire_detector]"
   ]
  },
  {
   "cell_type": "markdown",
   "id": "exotic-updating",
   "metadata": {},
   "source": [
    "None of these people are described as \"ancient vampire kings,\" so let's remove them all."
   ]
  },
  {
   "cell_type": "code",
   "execution_count": 8,
   "id": "primary-james",
   "metadata": {},
   "outputs": [],
   "source": [
    "chars = chars[~vampire_detector]"
   ]
  },
  {
   "cell_type": "markdown",
   "id": "touched-amount",
   "metadata": {},
   "source": [
    "After you're done removing people who are more than a thousand years old with no obvious excluse, the descriptive statistics should look more like this:"
   ]
  },
  {
   "cell_type": "code",
   "execution_count": 9,
   "id": "civic-gospel",
   "metadata": {},
   "outputs": [
    {
     "data": {
      "text/html": [
       "<div>\n",
       "<style scoped>\n",
       "    .dataframe tbody tr th:only-of-type {\n",
       "        vertical-align: middle;\n",
       "    }\n",
       "\n",
       "    .dataframe tbody tr th {\n",
       "        vertical-align: top;\n",
       "    }\n",
       "\n",
       "    .dataframe thead th {\n",
       "        text-align: right;\n",
       "    }\n",
       "</style>\n",
       "<table border=\"1\" class=\"dataframe\">\n",
       "  <thead>\n",
       "    <tr style=\"text-align: right;\">\n",
       "      <th></th>\n",
       "      <th>script_id</th>\n",
       "      <th>imdb_character_name</th>\n",
       "      <th>words</th>\n",
       "      <th>gender</th>\n",
       "      <th>age</th>\n",
       "    </tr>\n",
       "  </thead>\n",
       "  <tbody>\n",
       "    <tr>\n",
       "      <th>count</th>\n",
       "      <td>23032.000000</td>\n",
       "      <td>23030</td>\n",
       "      <td>23032.000000</td>\n",
       "      <td>23032</td>\n",
       "      <td>18247.000000</td>\n",
       "    </tr>\n",
       "    <tr>\n",
       "      <th>unique</th>\n",
       "      <td>NaN</td>\n",
       "      <td>17601</td>\n",
       "      <td>NaN</td>\n",
       "      <td>3</td>\n",
       "      <td>NaN</td>\n",
       "    </tr>\n",
       "    <tr>\n",
       "      <th>top</th>\n",
       "      <td>NaN</td>\n",
       "      <td>doctor</td>\n",
       "      <td>NaN</td>\n",
       "      <td>m</td>\n",
       "      <td>NaN</td>\n",
       "    </tr>\n",
       "    <tr>\n",
       "      <th>freq</th>\n",
       "      <td>NaN</td>\n",
       "      <td>36</td>\n",
       "      <td>NaN</td>\n",
       "      <td>16120</td>\n",
       "      <td>NaN</td>\n",
       "    </tr>\n",
       "    <tr>\n",
       "      <th>mean</th>\n",
       "      <td>4195.230245</td>\n",
       "      <td>NaN</td>\n",
       "      <td>908.359587</td>\n",
       "      <td>NaN</td>\n",
       "      <td>40.666466</td>\n",
       "    </tr>\n",
       "    <tr>\n",
       "      <th>std</th>\n",
       "      <td>2473.302275</td>\n",
       "      <td>NaN</td>\n",
       "      <td>1399.955122</td>\n",
       "      <td>NaN</td>\n",
       "      <td>14.358053</td>\n",
       "    </tr>\n",
       "    <tr>\n",
       "      <th>min</th>\n",
       "      <td>280.000000</td>\n",
       "      <td>NaN</td>\n",
       "      <td>101.000000</td>\n",
       "      <td>NaN</td>\n",
       "      <td>3.000000</td>\n",
       "    </tr>\n",
       "    <tr>\n",
       "      <th>25%</th>\n",
       "      <td>2095.000000</td>\n",
       "      <td>NaN</td>\n",
       "      <td>193.000000</td>\n",
       "      <td>NaN</td>\n",
       "      <td>30.000000</td>\n",
       "    </tr>\n",
       "    <tr>\n",
       "      <th>50%</th>\n",
       "      <td>3694.000000</td>\n",
       "      <td>NaN</td>\n",
       "      <td>397.000000</td>\n",
       "      <td>NaN</td>\n",
       "      <td>39.000000</td>\n",
       "    </tr>\n",
       "    <tr>\n",
       "      <th>75%</th>\n",
       "      <td>6234.000000</td>\n",
       "      <td>NaN</td>\n",
       "      <td>981.250000</td>\n",
       "      <td>NaN</td>\n",
       "      <td>50.000000</td>\n",
       "    </tr>\n",
       "    <tr>\n",
       "      <th>max</th>\n",
       "      <td>9254.000000</td>\n",
       "      <td>NaN</td>\n",
       "      <td>28102.000000</td>\n",
       "      <td>NaN</td>\n",
       "      <td>102.000000</td>\n",
       "    </tr>\n",
       "  </tbody>\n",
       "</table>\n",
       "</div>"
      ],
      "text/plain": [
       "           script_id imdb_character_name         words gender           age\n",
       "count   23032.000000               23030  23032.000000  23032  18247.000000\n",
       "unique           NaN               17601           NaN      3           NaN\n",
       "top              NaN              doctor           NaN      m           NaN\n",
       "freq             NaN                  36           NaN  16120           NaN\n",
       "mean     4195.230245                 NaN    908.359587    NaN     40.666466\n",
       "std      2473.302275                 NaN   1399.955122    NaN     14.358053\n",
       "min       280.000000                 NaN    101.000000    NaN      3.000000\n",
       "25%      2095.000000                 NaN    193.000000    NaN     30.000000\n",
       "50%      3694.000000                 NaN    397.000000    NaN     39.000000\n",
       "75%      6234.000000                 NaN    981.250000    NaN     50.000000\n",
       "max      9254.000000                 NaN  28102.000000    NaN    102.000000"
      ]
     },
     "execution_count": 9,
     "metadata": {},
     "output_type": "execute_result"
    }
   ],
   "source": [
    "chars.describe(include = 'all')"
   ]
  },
  {
   "cell_type": "markdown",
   "id": "double-draft",
   "metadata": {},
   "source": [
    "#### QUESTIONS\n",
    "\n",
    "**1) Why did the mean age change much more than the median (that's to say, the 50% value for age)?**\n",
    "\n",
    "Answer: medians are more robust to outliers than means. A single extreme outlier can easily change the mean, since it can substantially change the sum of of all values. But the median is not easily moved by a single data point."
   ]
  },
  {
   "cell_type": "markdown",
   "id": "african-bobby",
   "metadata": {},
   "source": [
    "**2) There are some interesting questions about the way this data was generated.** \"Age\" really means the age of the actor who was portraying a character; it's not necessarily the fictive age of the character, which is often not specified. \n",
    "\n",
    "Gender was determined in the same way: it's the gender identification of the actor who portrayed a character. What limitations does this approach have? What other approaches could you take, and what advantages or disadvantages would *they* have?\n",
    "\n",
    "-------\n",
    "\n",
    "These are legitimate questions, but there are even bigger questions about this data. It has strong selection biases (e.g., it relies on digitized scripts), and we would need to investigate those biases before we could confidently affirm that generalizations about this data reflect the real history of film, even in North America. But we don't need to affirm that. Our goal here is not to make claims about film history! For the moment, it is just to practice inferential statistics with pandas. \n",
    "\n",
    "If you wonder how much this data does reflect the real world, you can consult [the project's FAQ page,](https://medium.com/@matthew_daniels/faq-for-the-film-dialogue-by-gender-project-40078209f751) where Daniels bravely faces \"death from a thousand nitpicks.\"\n",
    "\n",
    "We've looked at a table of characters. There's also a second table of films. This has a row for each movie (```script_id```) and lists titles, along with release year and gross, in inflation-adjusted millions of dollars."
   ]
  },
  {
   "cell_type": "code",
   "execution_count": 10,
   "id": "given-major",
   "metadata": {},
   "outputs": [
    {
     "data": {
      "text/html": [
       "<div>\n",
       "<style scoped>\n",
       "    .dataframe tbody tr th:only-of-type {\n",
       "        vertical-align: middle;\n",
       "    }\n",
       "\n",
       "    .dataframe tbody tr th {\n",
       "        vertical-align: top;\n",
       "    }\n",
       "\n",
       "    .dataframe thead th {\n",
       "        text-align: right;\n",
       "    }\n",
       "</style>\n",
       "<table border=\"1\" class=\"dataframe\">\n",
       "  <thead>\n",
       "    <tr style=\"text-align: right;\">\n",
       "      <th></th>\n",
       "      <th>script_id</th>\n",
       "      <th>imdb_id</th>\n",
       "      <th>title</th>\n",
       "      <th>year</th>\n",
       "      <th>gross</th>\n",
       "      <th>lines_data</th>\n",
       "    </tr>\n",
       "  </thead>\n",
       "  <tbody>\n",
       "    <tr>\n",
       "      <th>0</th>\n",
       "      <td>1534</td>\n",
       "      <td>tt1022603</td>\n",
       "      <td>(500) Days of Summer</td>\n",
       "      <td>2009</td>\n",
       "      <td>37.0</td>\n",
       "      <td>7435445256774780000000000000000000000000000000...</td>\n",
       "    </tr>\n",
       "    <tr>\n",
       "      <th>1</th>\n",
       "      <td>1512</td>\n",
       "      <td>tt0147800</td>\n",
       "      <td>10 Things I Hate About You</td>\n",
       "      <td>1999</td>\n",
       "      <td>65.0</td>\n",
       "      <td>1777752320274530000000000000000000000000000000...</td>\n",
       "    </tr>\n",
       "    <tr>\n",
       "      <th>2</th>\n",
       "      <td>1514</td>\n",
       "      <td>tt0417385</td>\n",
       "      <td>12 and Holding</td>\n",
       "      <td>2005</td>\n",
       "      <td>NaN</td>\n",
       "      <td>5461357777754220000000000000000000000000000000...</td>\n",
       "    </tr>\n",
       "    <tr>\n",
       "      <th>3</th>\n",
       "      <td>1517</td>\n",
       "      <td>tt2024544</td>\n",
       "      <td>12 Years a Slave</td>\n",
       "      <td>2013</td>\n",
       "      <td>60.0</td>\n",
       "      <td>4567334777777780000000000000000000000000000000...</td>\n",
       "    </tr>\n",
       "    <tr>\n",
       "      <th>4</th>\n",
       "      <td>1520</td>\n",
       "      <td>tt1542344</td>\n",
       "      <td>127 Hours</td>\n",
       "      <td>2010</td>\n",
       "      <td>20.0</td>\n",
       "      <td>453513352345766000000000000000</td>\n",
       "    </tr>\n",
       "  </tbody>\n",
       "</table>\n",
       "</div>"
      ],
      "text/plain": [
       "   script_id    imdb_id                       title  year  gross  \\\n",
       "0       1534  tt1022603        (500) Days of Summer  2009   37.0   \n",
       "1       1512  tt0147800  10 Things I Hate About You  1999   65.0   \n",
       "2       1514  tt0417385              12 and Holding  2005    NaN   \n",
       "3       1517  tt2024544            12 Years a Slave  2013   60.0   \n",
       "4       1520  tt1542344                   127 Hours  2010   20.0   \n",
       "\n",
       "                                          lines_data  \n",
       "0  7435445256774780000000000000000000000000000000...  \n",
       "1  1777752320274530000000000000000000000000000000...  \n",
       "2  5461357777754220000000000000000000000000000000...  \n",
       "3  4567334777777780000000000000000000000000000000...  \n",
       "4                     453513352345766000000000000000  "
      ]
     },
     "execution_count": 10,
     "metadata": {},
     "output_type": "execute_result"
    }
   ],
   "source": [
    "moviepath = Path('../../data/pudding/pudding_movies.csv')\n",
    "movies = pd.read_csv(moviepath, encoding = 'utf-8')\n",
    "movies.head()"
   ]
  },
  {
   "cell_type": "markdown",
   "id": "elder-bibliography",
   "metadata": {},
   "source": [
    "Ignore ```lines_data```; it's an idiosyncratic way to represent changing gender proportions across script time.\n",
    "In fact, let's drop that column."
   ]
  },
  {
   "cell_type": "code",
   "execution_count": 11,
   "id": "going-connection",
   "metadata": {},
   "outputs": [],
   "source": [
    "movies = movies.drop(columns='lines_data')"
   ]
  },
  {
   "cell_type": "markdown",
   "id": "defined-thomson",
   "metadata": {},
   "source": [
    "## Selecting subsets of a data frame\n",
    "\n",
    "Part of this was covered in Melanie Walsh's introduction to Pandas, but let's review quickly, and go a little further. I encourage you to change the string values in the following code, and experiment with selecting different films.\n",
    "\n",
    "First, let's select a column."
   ]
  },
  {
   "cell_type": "code",
   "execution_count": 12,
   "id": "alternative-jacket",
   "metadata": {},
   "outputs": [
    {
     "data": {
      "text/plain": [
       "0             (500) Days of Summer\n",
       "1       10 Things I Hate About You\n",
       "2                   12 and Holding\n",
       "3                 12 Years a Slave\n",
       "4                        127 Hours\n",
       "                   ...            \n",
       "1995               Youth in Revolt\n",
       "1996              Zero Dark Thirty\n",
       "1997                   Zero Effect\n",
       "1998                    Zerophilia\n",
       "1999                        Zodiac\n",
       "Name: title, Length: 2000, dtype: object"
      ]
     },
     "execution_count": 12,
     "metadata": {},
     "output_type": "execute_result"
    }
   ],
   "source": [
    "movies['title']"
   ]
  },
  {
   "cell_type": "markdown",
   "id": "pleasant-munich",
   "metadata": {},
   "source": [
    "Now select rows, using the 'filter' technique that Walsh demonstrates."
   ]
  },
  {
   "cell_type": "code",
   "execution_count": 13,
   "id": "opposed-circular",
   "metadata": {},
   "outputs": [
    {
     "data": {
      "text/html": [
       "<div>\n",
       "<style scoped>\n",
       "    .dataframe tbody tr th:only-of-type {\n",
       "        vertical-align: middle;\n",
       "    }\n",
       "\n",
       "    .dataframe tbody tr th {\n",
       "        vertical-align: top;\n",
       "    }\n",
       "\n",
       "    .dataframe thead th {\n",
       "        text-align: right;\n",
       "    }\n",
       "</style>\n",
       "<table border=\"1\" class=\"dataframe\">\n",
       "  <thead>\n",
       "    <tr style=\"text-align: right;\">\n",
       "      <th></th>\n",
       "      <th>script_id</th>\n",
       "      <th>imdb_id</th>\n",
       "      <th>title</th>\n",
       "      <th>year</th>\n",
       "      <th>gross</th>\n",
       "    </tr>\n",
       "  </thead>\n",
       "  <tbody>\n",
       "    <tr>\n",
       "      <th>1690</th>\n",
       "      <td>1141</td>\n",
       "      <td>tt0133093</td>\n",
       "      <td>The Matrix</td>\n",
       "      <td>1999</td>\n",
       "      <td>292.0</td>\n",
       "    </tr>\n",
       "  </tbody>\n",
       "</table>\n",
       "</div>"
      ],
      "text/plain": [
       "      script_id    imdb_id       title  year  gross\n",
       "1690       1141  tt0133093  The Matrix  1999  292.0"
      ]
     },
     "execution_count": 13,
     "metadata": {},
     "output_type": "execute_result"
    }
   ],
   "source": [
    "matrix_title_filter = movies['title'] == 'The Matrix'\n",
    "movies[matrix_title_filter]"
   ]
  },
  {
   "cell_type": "markdown",
   "id": "fantastic-prediction",
   "metadata": {},
   "source": [
    "Now we that we have the script_id for *The Matrix,* we can select characters from that movie, necause there's also a ```script_id``` column in the ```chars``` data frame.\n",
    "\n",
    "#### EXERCISE 2\n",
    "\n",
    "Find all the characters in the ```chars``` data frame who appear in *The Matrix*."
   ]
  },
  {
   "cell_type": "code",
   "execution_count": 14,
   "id": "educated-birth",
   "metadata": {},
   "outputs": [
    {
     "data": {
      "text/html": [
       "<div>\n",
       "<style scoped>\n",
       "    .dataframe tbody tr th:only-of-type {\n",
       "        vertical-align: middle;\n",
       "    }\n",
       "\n",
       "    .dataframe tbody tr th {\n",
       "        vertical-align: top;\n",
       "    }\n",
       "\n",
       "    .dataframe thead th {\n",
       "        text-align: right;\n",
       "    }\n",
       "</style>\n",
       "<table border=\"1\" class=\"dataframe\">\n",
       "  <thead>\n",
       "    <tr style=\"text-align: right;\">\n",
       "      <th></th>\n",
       "      <th>script_id</th>\n",
       "      <th>imdb_character_name</th>\n",
       "      <th>words</th>\n",
       "      <th>gender</th>\n",
       "      <th>age</th>\n",
       "    </tr>\n",
       "  </thead>\n",
       "  <tbody>\n",
       "    <tr>\n",
       "      <th>2095</th>\n",
       "      <td>1141</td>\n",
       "      <td>agent smith</td>\n",
       "      <td>976</td>\n",
       "      <td>m</td>\n",
       "      <td>39.0</td>\n",
       "    </tr>\n",
       "    <tr>\n",
       "      <th>2096</th>\n",
       "      <td>1141</td>\n",
       "      <td>morpheus</td>\n",
       "      <td>2123</td>\n",
       "      <td>m</td>\n",
       "      <td>38.0</td>\n",
       "    </tr>\n",
       "    <tr>\n",
       "      <th>2097</th>\n",
       "      <td>1141</td>\n",
       "      <td>neo</td>\n",
       "      <td>995</td>\n",
       "      <td>m</td>\n",
       "      <td>35.0</td>\n",
       "    </tr>\n",
       "    <tr>\n",
       "      <th>2098</th>\n",
       "      <td>1141</td>\n",
       "      <td>oracle</td>\n",
       "      <td>208</td>\n",
       "      <td>f</td>\n",
       "      <td>66.0</td>\n",
       "    </tr>\n",
       "    <tr>\n",
       "      <th>2099</th>\n",
       "      <td>1141</td>\n",
       "      <td>tank</td>\n",
       "      <td>535</td>\n",
       "      <td>m</td>\n",
       "      <td>32.0</td>\n",
       "    </tr>\n",
       "    <tr>\n",
       "      <th>2100</th>\n",
       "      <td>1141</td>\n",
       "      <td>trinity</td>\n",
       "      <td>876</td>\n",
       "      <td>f</td>\n",
       "      <td>32.0</td>\n",
       "    </tr>\n",
       "  </tbody>\n",
       "</table>\n",
       "</div>"
      ],
      "text/plain": [
       "      script_id imdb_character_name  words gender   age\n",
       "2095       1141         agent smith    976      m  39.0\n",
       "2096       1141            morpheus   2123      m  38.0\n",
       "2097       1141                 neo    995      m  35.0\n",
       "2098       1141              oracle    208      f  66.0\n",
       "2099       1141                tank    535      m  32.0\n",
       "2100       1141             trinity    876      f  32.0"
      ]
     },
     "execution_count": 14,
     "metadata": {},
     "output_type": "execute_result"
    }
   ],
   "source": [
    "matrix_character_filter = chars['script_id'] == 1141\n",
    "chars[matrix_character_filter]"
   ]
  },
  {
   "cell_type": "markdown",
   "id": "advisory-vector",
   "metadata": {},
   "source": [
    "### Using .loc to select by row and column at once\n",
    "\n",
    "Suppose we want to write code that will do what you did above for *The Matrix*--but do it automatically, for any movie title.\n",
    "\n",
    "That is, we want to\n",
    "\n",
    "1) allow a user to input a movie title,\n",
    "\n",
    "2) get the script id for that movie from the movie dataframe, and\n",
    "\n",
    "3) select characters matching the script id from the chars dataframe.\n",
    "\n",
    "In order to do that, we need a way to do what you did visually by selecting the script_id from the row for *The Matrix*. In other words, we need to limit by row and column at the same time."
   ]
  },
  {
   "cell_type": "markdown",
   "id": "vital-independence",
   "metadata": {},
   "source": [
    "Dataframes have a method ```.loc,``` for \"location,\" that allows you to do this. Unlike most Pandas methods, it takes square brackets (not parentheses). Inside the brackets, the first element specifies row(s), the second column(s). We can get both the title and script id:"
   ]
  },
  {
   "cell_type": "code",
   "execution_count": 15,
   "id": "exterior-valuation",
   "metadata": {},
   "outputs": [
    {
     "data": {
      "text/html": [
       "<div>\n",
       "<style scoped>\n",
       "    .dataframe tbody tr th:only-of-type {\n",
       "        vertical-align: middle;\n",
       "    }\n",
       "\n",
       "    .dataframe tbody tr th {\n",
       "        vertical-align: top;\n",
       "    }\n",
       "\n",
       "    .dataframe thead th {\n",
       "        text-align: right;\n",
       "    }\n",
       "</style>\n",
       "<table border=\"1\" class=\"dataframe\">\n",
       "  <thead>\n",
       "    <tr style=\"text-align: right;\">\n",
       "      <th></th>\n",
       "      <th>title</th>\n",
       "      <th>script_id</th>\n",
       "    </tr>\n",
       "  </thead>\n",
       "  <tbody>\n",
       "    <tr>\n",
       "      <th>1313</th>\n",
       "      <td>Slumdog Millionaire</td>\n",
       "      <td>3365</td>\n",
       "    </tr>\n",
       "  </tbody>\n",
       "</table>\n",
       "</div>"
      ],
      "text/plain": [
       "                    title  script_id\n",
       "1313  Slumdog Millionaire       3365"
      ]
     },
     "execution_count": 15,
     "metadata": {},
     "output_type": "execute_result"
    }
   ],
   "source": [
    "movies.loc[movies['title'] == 'Slumdog Millionaire', ['title', 'script_id']]"
   ]
  },
  {
   "cell_type": "markdown",
   "id": "mexican-japanese",
   "metadata": {},
   "source": [
    "Or just the script id:"
   ]
  },
  {
   "cell_type": "code",
   "execution_count": 16,
   "id": "based-uncle",
   "metadata": {},
   "outputs": [
    {
     "name": "stdout",
     "output_type": "stream",
     "text": [
      "1313    3365\n",
      "Name: script_id, dtype: int64\n"
     ]
    }
   ],
   "source": [
    "script_id = movies.loc[movies['title'] == 'Slumdog Millionaire', 'script_id']\n",
    "print(script_id)"
   ]
  },
  {
   "cell_type": "markdown",
   "id": "latter-fight",
   "metadata": {},
   "source": [
    "Notice, however, that you can't do what you might expect to do with the result of .loc. The command below should create an error, although it may create different errors in different versions."
   ]
  },
  {
   "cell_type": "code",
   "execution_count": 17,
   "id": "occupied-reliance",
   "metadata": {},
   "outputs": [
    {
     "ename": "ValueError",
     "evalue": "Can only compare identically-labeled Series objects",
     "output_type": "error",
     "traceback": [
      "\u001b[0;31m---------------------------------------------------------------------------\u001b[0m",
      "\u001b[0;31mValueError\u001b[0m                                Traceback (most recent call last)",
      "\u001b[0;32m<ipython-input-17-a8138a76f5b3>\u001b[0m in \u001b[0;36m<module>\u001b[0;34m\u001b[0m\n\u001b[0;32m----> 1\u001b[0;31m \u001b[0mchars\u001b[0m\u001b[0;34m[\u001b[0m\u001b[0mchars\u001b[0m\u001b[0;34m[\u001b[0m\u001b[0;34m'script_id'\u001b[0m\u001b[0;34m]\u001b[0m \u001b[0;34m==\u001b[0m \u001b[0mscript_id\u001b[0m\u001b[0;34m]\u001b[0m\u001b[0;34m\u001b[0m\u001b[0;34m\u001b[0m\u001b[0m\n\u001b[0m",
      "\u001b[0;32m~/opt/anaconda3/lib/python3.7/site-packages/pandas/core/ops/common.py\u001b[0m in \u001b[0;36mnew_method\u001b[0;34m(self, other)\u001b[0m\n\u001b[1;32m     63\u001b[0m         \u001b[0mother\u001b[0m \u001b[0;34m=\u001b[0m \u001b[0mitem_from_zerodim\u001b[0m\u001b[0;34m(\u001b[0m\u001b[0mother\u001b[0m\u001b[0;34m)\u001b[0m\u001b[0;34m\u001b[0m\u001b[0;34m\u001b[0m\u001b[0m\n\u001b[1;32m     64\u001b[0m \u001b[0;34m\u001b[0m\u001b[0m\n\u001b[0;32m---> 65\u001b[0;31m         \u001b[0;32mreturn\u001b[0m \u001b[0mmethod\u001b[0m\u001b[0;34m(\u001b[0m\u001b[0mself\u001b[0m\u001b[0;34m,\u001b[0m \u001b[0mother\u001b[0m\u001b[0;34m)\u001b[0m\u001b[0;34m\u001b[0m\u001b[0;34m\u001b[0m\u001b[0m\n\u001b[0m\u001b[1;32m     66\u001b[0m \u001b[0;34m\u001b[0m\u001b[0m\n\u001b[1;32m     67\u001b[0m     \u001b[0;32mreturn\u001b[0m \u001b[0mnew_method\u001b[0m\u001b[0;34m\u001b[0m\u001b[0;34m\u001b[0m\u001b[0m\n",
      "\u001b[0;32m~/opt/anaconda3/lib/python3.7/site-packages/pandas/core/arraylike.py\u001b[0m in \u001b[0;36m__eq__\u001b[0;34m(self, other)\u001b[0m\n\u001b[1;32m     27\u001b[0m     \u001b[0;34m@\u001b[0m\u001b[0munpack_zerodim_and_defer\u001b[0m\u001b[0;34m(\u001b[0m\u001b[0;34m\"__eq__\"\u001b[0m\u001b[0;34m)\u001b[0m\u001b[0;34m\u001b[0m\u001b[0;34m\u001b[0m\u001b[0m\n\u001b[1;32m     28\u001b[0m     \u001b[0;32mdef\u001b[0m \u001b[0m__eq__\u001b[0m\u001b[0;34m(\u001b[0m\u001b[0mself\u001b[0m\u001b[0;34m,\u001b[0m \u001b[0mother\u001b[0m\u001b[0;34m)\u001b[0m\u001b[0;34m:\u001b[0m\u001b[0;34m\u001b[0m\u001b[0;34m\u001b[0m\u001b[0m\n\u001b[0;32m---> 29\u001b[0;31m         \u001b[0;32mreturn\u001b[0m \u001b[0mself\u001b[0m\u001b[0;34m.\u001b[0m\u001b[0m_cmp_method\u001b[0m\u001b[0;34m(\u001b[0m\u001b[0mother\u001b[0m\u001b[0;34m,\u001b[0m \u001b[0moperator\u001b[0m\u001b[0;34m.\u001b[0m\u001b[0meq\u001b[0m\u001b[0;34m)\u001b[0m\u001b[0;34m\u001b[0m\u001b[0;34m\u001b[0m\u001b[0m\n\u001b[0m\u001b[1;32m     30\u001b[0m \u001b[0;34m\u001b[0m\u001b[0m\n\u001b[1;32m     31\u001b[0m     \u001b[0;34m@\u001b[0m\u001b[0munpack_zerodim_and_defer\u001b[0m\u001b[0;34m(\u001b[0m\u001b[0;34m\"__ne__\"\u001b[0m\u001b[0;34m)\u001b[0m\u001b[0;34m\u001b[0m\u001b[0;34m\u001b[0m\u001b[0m\n",
      "\u001b[0;32m~/opt/anaconda3/lib/python3.7/site-packages/pandas/core/series.py\u001b[0m in \u001b[0;36m_cmp_method\u001b[0;34m(self, other, op)\u001b[0m\n\u001b[1;32m   4932\u001b[0m \u001b[0;34m\u001b[0m\u001b[0m\n\u001b[1;32m   4933\u001b[0m         \u001b[0;32mif\u001b[0m \u001b[0misinstance\u001b[0m\u001b[0;34m(\u001b[0m\u001b[0mother\u001b[0m\u001b[0;34m,\u001b[0m \u001b[0mSeries\u001b[0m\u001b[0;34m)\u001b[0m \u001b[0;32mand\u001b[0m \u001b[0;32mnot\u001b[0m \u001b[0mself\u001b[0m\u001b[0;34m.\u001b[0m\u001b[0m_indexed_same\u001b[0m\u001b[0;34m(\u001b[0m\u001b[0mother\u001b[0m\u001b[0;34m)\u001b[0m\u001b[0;34m:\u001b[0m\u001b[0;34m\u001b[0m\u001b[0;34m\u001b[0m\u001b[0m\n\u001b[0;32m-> 4934\u001b[0;31m             \u001b[0;32mraise\u001b[0m \u001b[0mValueError\u001b[0m\u001b[0;34m(\u001b[0m\u001b[0;34m\"Can only compare identically-labeled Series objects\"\u001b[0m\u001b[0;34m)\u001b[0m\u001b[0;34m\u001b[0m\u001b[0;34m\u001b[0m\u001b[0m\n\u001b[0m\u001b[1;32m   4935\u001b[0m \u001b[0;34m\u001b[0m\u001b[0m\n\u001b[1;32m   4936\u001b[0m         \u001b[0mlvalues\u001b[0m \u001b[0;34m=\u001b[0m \u001b[0mextract_array\u001b[0m\u001b[0;34m(\u001b[0m\u001b[0mself\u001b[0m\u001b[0;34m,\u001b[0m \u001b[0mextract_numpy\u001b[0m\u001b[0;34m=\u001b[0m\u001b[0;32mTrue\u001b[0m\u001b[0;34m)\u001b[0m\u001b[0;34m\u001b[0m\u001b[0;34m\u001b[0m\u001b[0m\n",
      "\u001b[0;31mValueError\u001b[0m: Can only compare identically-labeled Series objects"
     ]
    }
   ],
   "source": [
    "chars[chars['script_id'] == script_id]"
   ]
  },
  {
   "cell_type": "markdown",
   "id": "saving-review",
   "metadata": {},
   "source": [
    "The problem is that our variable ```script_id``` is not just an integer. It's actually a pandas Series. This means that it has an *index* as well as a value."
   ]
  },
  {
   "cell_type": "code",
   "execution_count": 18,
   "id": "connected-middle",
   "metadata": {},
   "outputs": [
    {
     "name": "stdout",
     "output_type": "stream",
     "text": [
      "<class 'pandas.core.series.Series'>\n",
      "Int64Index([1313], dtype='int64')\n"
     ]
    }
   ],
   "source": [
    "print(type(script_id))\n",
    "print(script_id.index)"
   ]
  },
  {
   "cell_type": "markdown",
   "id": "modern-ladder",
   "metadata": {},
   "source": [
    "If we're only interested in the numeric value of the script id, we need to explicitly extract that."
   ]
  },
  {
   "cell_type": "code",
   "execution_count": 19,
   "id": "patent-context",
   "metadata": {},
   "outputs": [
    {
     "name": "stdout",
     "output_type": "stream",
     "text": [
      "[3365]\n",
      "3365\n"
     ]
    }
   ],
   "source": [
    "print(script_id.values)\n",
    "print(script_id.values[0])"
   ]
  },
  {
   "cell_type": "markdown",
   "id": "noted-nursery",
   "metadata": {},
   "source": [
    "So this is the slightly complicated syntax for \"find all rows where the title is 'Slumdog Millionaire,' then give me the first script_id.\""
   ]
  },
  {
   "cell_type": "code",
   "execution_count": 20,
   "id": "valuable-senior",
   "metadata": {},
   "outputs": [
    {
     "data": {
      "text/plain": [
       "3365"
      ]
     },
     "execution_count": 20,
     "metadata": {},
     "output_type": "execute_result"
    }
   ],
   "source": [
    "movies.loc[movies['title'] == 'Slumdog Millionaire', 'script_id'].values[0]"
   ]
  },
  {
   "cell_type": "markdown",
   "id": "boring-vaccine",
   "metadata": {},
   "source": [
    "Now you can write a block of code that\n",
    "\n",
    "1) allows a user to input a movie title,\n",
    "\n",
    "2) gets the script id for that movie from the movie dataframe, and\n",
    "\n",
    "3) selects characters matching the script id from the chars dataframe.\n",
    "\n",
    "#### EXERCISE 3:"
   ]
  },
  {
   "cell_type": "code",
   "execution_count": 21,
   "id": "beneficial-greene",
   "metadata": {},
   "outputs": [
    {
     "name": "stdin",
     "output_type": "stream",
     "text": [
      "Type a movie title:  Thor\n"
     ]
    },
    {
     "name": "stdout",
     "output_type": "stream",
     "text": [
      "       script_id imdb_character_name  words gender   age\n",
      "11022       3538       agent coulson    812      m  49.0\n",
      "11023       3538         darcy lewis    723      f  25.0\n",
      "11024       3538        drunk townie    146      m   NaN\n",
      "11025       3538         erik selvig   1484      m  60.0\n",
      "11026       3538             fandral   1355      m  33.0\n",
      "11027       3538              frigga    587      f  57.0\n",
      "11028       3538            heimdall    764      m  39.0\n",
      "11029       3538               hogun    256      m  38.0\n",
      "11030       3538         jane foster   2992      f  30.0\n",
      "11031       3538         king laufey    444      m  53.0\n",
      "11032       3538                loki   2935      m  30.0\n",
      "11033       3538                odin   1857      m  74.0\n",
      "11034       3538                 sif   1111      f  27.0\n",
      "11035       3538              techie    210      m   NaN\n",
      "11036       3538                thor   4048      m  28.0\n",
      "11037       3538            volstagg   1685      m  47.0\n"
     ]
    }
   ],
   "source": [
    "# code fulfilling the exercise\n",
    "\n",
    "title = input('Type a movie title: ')\n",
    "script_id = movies.loc[movies['title'] == title, 'script_id'].values[0]\n",
    "characters = chars.loc[chars['script_id'] == script_id, : ]\n",
    "print(characters)"
   ]
  },
  {
   "cell_type": "markdown",
   "id": "monthly-millennium",
   "metadata": {},
   "source": [
    "## Simple descriptive statistics and dataviz\n",
    "\n",
    "So, from Melanie Walsh's Introduction to Pandas, we already know how to generate simple descriptive statistics. For instance,"
   ]
  },
  {
   "cell_type": "code",
   "execution_count": 22,
   "id": "sapphire-african",
   "metadata": {},
   "outputs": [
    {
     "data": {
      "text/plain": [
       "count    18247.000000\n",
       "mean        40.666466\n",
       "std         14.358053\n",
       "min          3.000000\n",
       "25%         30.000000\n",
       "50%         39.000000\n",
       "75%         50.000000\n",
       "max        102.000000\n",
       "Name: age, dtype: float64"
      ]
     },
     "execution_count": 22,
     "metadata": {},
     "output_type": "execute_result"
    }
   ],
   "source": [
    "chars['age'].describe()"
   ]
  },
  {
   "cell_type": "markdown",
   "id": "charming-notification",
   "metadata": {},
   "source": [
    "Tells us that there's some character in the data with an age of 2013. Whether a vampire or a data error I leave it to the reader to determine."
   ]
  },
  {
   "cell_type": "markdown",
   "id": "scenic-silver",
   "metadata": {},
   "source": [
    "We can also identify the number of men and women in the dataset as a whole:"
   ]
  },
  {
   "cell_type": "code",
   "execution_count": 23,
   "id": "imposed-jewelry",
   "metadata": {},
   "outputs": [
    {
     "data": {
      "text/plain": [
       "m    16120\n",
       "f     6907\n",
       "?        5\n",
       "Name: gender, dtype: int64"
      ]
     },
     "execution_count": 23,
     "metadata": {},
     "output_type": "execute_result"
    }
   ],
   "source": [
    "chars['gender'].value_counts()"
   ]
  },
  {
   "cell_type": "markdown",
   "id": "defined-pennsylvania",
   "metadata": {},
   "source": [
    "Pandas also has built-in dataviz functions that make it easy to generate simple graphs. For instance, it's easy to create a bar plot to visualize the table above. "
   ]
  },
  {
   "cell_type": "code",
   "execution_count": 24,
   "id": "premier-ladder",
   "metadata": {},
   "outputs": [
    {
     "data": {
      "text/plain": [
       "<AxesSubplot:title={'center':'Gender proportions'}>"
      ]
     },
     "execution_count": 24,
     "metadata": {},
     "output_type": "execute_result"
    },
    {
     "data": {
      "image/png": "[encoded data removed]",
      "text/plain": [
       "<Figure size 432x288 with 1 Axes>"
      ]
     },
     "metadata": {
      "needs_background": "light"
     },
     "output_type": "display_data"
    }
   ],
   "source": [
    "chars['gender'].value_counts().plot(kind='bar', title='Gender proportions')"
   ]
  },
  {
   "cell_type": "markdown",
   "id": "superb-colonial",
   "metadata": {},
   "source": [
    "If we want to study the distribution of ages, a histogram makes it easy. You can specify the number of bins in the histogram. Notice also the ```pyplot``` function I'm using to set the title."
   ]
  },
  {
   "cell_type": "code",
   "execution_count": 25,
   "id": "fatty-thickness",
   "metadata": {},
   "outputs": [
    {
     "data": {
      "text/plain": [
       "Text(0.5, 1.0, 'Histogram of character ages')"
      ]
     },
     "execution_count": 25,
     "metadata": {},
     "output_type": "execute_result"
    },
    {
     "data": {
      "image/png": "[encoded data removed]",
      "text/plain": [
       "<Figure size 432x288 with 1 Axes>"
      ]
     },
     "metadata": {
      "needs_background": "light"
     },
     "output_type": "display_data"
    }
   ],
   "source": [
    "chars['age'].hist(bins = 25)\n",
    "plt.title('Histogram of character ages')"
   ]
  },
  {
   "cell_type": "markdown",
   "id": "random-jason",
   "metadata": {},
   "source": [
    "#### EXERCISE 4:\n",
    "\n",
    "Generate two different histograms, visualizing age distribution for men and for women."
   ]
  },
  {
   "cell_type": "code",
   "execution_count": 26,
   "id": "random-utilization",
   "metadata": {},
   "outputs": [
    {
     "data": {
      "text/plain": [
       "Text(0.5, 1.0, 'Age distribution for women')"
      ]
     },
     "execution_count": 26,
     "metadata": {},
     "output_type": "execute_result"
    },
    {
     "data": {
      "image/png": "[encoded data removed]",
      "text/plain": [
       "<Figure size 432x288 with 1 Axes>"
      ]
     },
     "metadata": {
      "needs_background": "light"
     },
     "output_type": "display_data"
    }
   ],
   "source": [
    "chars.loc[chars['gender'] == 'f', 'age'].hist(bins = 25)\n",
    "plt.title('Age distribution for women')"
   ]
  },
  {
   "cell_type": "markdown",
   "id": "sustainable-terror",
   "metadata": {},
   "source": [
    "and for men:"
   ]
  },
  {
   "cell_type": "code",
   "execution_count": 27,
   "id": "capable-blackberry",
   "metadata": {},
   "outputs": [
    {
     "data": {
      "image/png": "[encoded data removed]",
      "text/plain": [
       "<Figure size 432x288 with 1 Axes>"
      ]
     },
     "metadata": {
      "needs_background": "light"
     },
     "output_type": "display_data"
    }
   ],
   "source": [
    "chars.loc[chars['gender'] == 'm', 'age'].hist(bins = 25)\n",
    "plt.title('Age distribution for men')\n",
    "plt.show()"
   ]
  },
  {
   "cell_type": "markdown",
   "id": "military-money",
   "metadata": {},
   "source": [
    "### Inferential statistics: how to test a difference of means\n",
    "\n",
    "Those distributions look a little different visually, but seem to be centered *roughly* in the same place (roughly, our thirties or early forties). Are they significantly different, or could the differences be explained by chance? One simple way to pose this question is to ask how likely it is that these two samples came from populations with the same age distribution. Or to put it a little more narrowly: how likely is it that they came from populations with the same mean age?\n",
    "\n",
    "The Python for this test is very simple: it's called a \"t test,\" and we could do it in one line of code. But I don't want to just rehearse a formula here; I'd like to review the mental model we're applying when we perform a statistical test of this kind.\n",
    "\n",
    "H<sub>0</sub> (null hypothesis): the mean age for male characters (in the whole population) is the same as for women.\n",
    "\n",
    "H<sub>A</sub> (alternative hypothesis): the mean age for women is different than for men.\n",
    "\n",
    "We can already guess that \"different\" here is likely to mean \"female characters are younger on average,\" but since I didn't formulate a specific directional hypothesis before inspecting the data I'm going to be conservative and make this a \"two-tailed\" test, which means that we're going to consider the probability that random sampling variation would produce a difference of means equal to the observed one in *either* direction. We'll be unable to dismiss the null hypothesis if that probability is .05 or higher.\n",
    "\n",
    "So first of all, what actually is the size of the difference between sample means?"
   ]
  },
  {
   "cell_type": "code",
   "execution_count": 28,
   "id": "thousand-kansas",
   "metadata": {},
   "outputs": [
    {
     "data": {
      "text/plain": [
       "count    12751.000000\n",
       "mean        42.669908\n",
       "std         14.082256\n",
       "min          3.000000\n",
       "25%         33.000000\n",
       "50%         42.000000\n",
       "75%         52.000000\n",
       "max        102.000000\n",
       "Name: age, dtype: float64"
      ]
     },
     "execution_count": 28,
     "metadata": {},
     "output_type": "execute_result"
    }
   ],
   "source": [
    "chars.loc[chars['gender'] == 'm', 'age'].describe()"
   ]
  },
  {
   "cell_type": "code",
   "execution_count": 29,
   "id": "southwest-consideration",
   "metadata": {},
   "outputs": [
    {
     "data": {
      "text/plain": [
       "count    5494.000000\n",
       "mean       36.000910\n",
       "std        13.881183\n",
       "min         4.000000\n",
       "25%        26.000000\n",
       "50%        33.000000\n",
       "75%        43.000000\n",
       "max        92.000000\n",
       "Name: age, dtype: float64"
      ]
     },
     "execution_count": 29,
     "metadata": {},
     "output_type": "execute_result"
    }
   ],
   "source": [
    "chars.loc[chars['gender'] == 'f', 'age'].describe()"
   ]
  },
  {
   "cell_type": "markdown",
   "id": "premium-buying",
   "metadata": {},
   "source": [
    "The difference between ~42.67 and 36 is approximately 6.67 years.\n",
    "\n",
    "How often would that difference occur by chance, if both samples were drawn from a population with the same age distribution?\n",
    "\n",
    "We could use statistical formulas here, but to give you an intuitive sense of what's actually happening, let's simulate the *sampling distribution* of the mean ages we would get if gender made no difference in age. In that case our our \"ages of men\" and \"ages of women\" would simply be two random samples drawn from the same underlying population, \"ages of all characters.\" There would still be some difference in their means. How often would that difference be equal to or larger than 6.7 years?\n",
    "\n",
    "Of course, we can't really sample all characters in film. We don't have a list of all characters! But it turns out that you can get a very good simulation of sampling variation in a population by randomly *resampling* an existing sample. \n",
    "\n",
    "There are a variety of ways to do the resampling; here we're going to do a \"permutation test.\" We'll combine the ages of all characters into a single pool. \n",
    "\n",
    "We're going to exclude characters with ```NaN``` as their age. Notice that when we combine two Boolean conditions in Pandas, we need to surround each one with parentheses."
   ]
  },
  {
   "cell_type": "code",
   "execution_count": 30,
   "id": "present-claim",
   "metadata": {},
   "outputs": [
    {
     "name": "stdout",
     "output_type": "stream",
     "text": [
      "We have  5494  women and  12751  men in our data.\n"
     ]
    }
   ],
   "source": [
    "mensages = chars.loc[(chars['gender'] == 'm') & (chars['age'].notna()), 'age']\n",
    "womensages = chars.loc[(chars['gender'] == 'f') & (chars['age'].notna()), 'age']\n",
    "print('We have ', len(womensages), ' women and ', len(mensages), ' men in our data.')\n",
    "charactersages = womensages.append(mensages)  # Note that we're appending Series rather than lists\n",
    "                                              # If these were regular lists, you'd need to \"extend\" instead."
   ]
  },
  {
   "cell_type": "markdown",
   "id": "according-layer",
   "metadata": {},
   "source": [
    "Now we can simulate what would happen if the ages of men and women were drawn from the same distribution. \n",
    "\n",
    "We'll reshuffle the pool ten thousand times. Each time, we'll divide it into two random groups (since in this simulation, gender makes no difference to age distribution). We'll call the first 5,494 ages \"women\" and the next 12,751 \"men.\" Finally, we'll take the difference of means between the two groups, and keep track of all the differences we get. We'll get thousand differences! How will they be distributed?"
   ]
  },
  {
   "cell_type": "code",
   "execution_count": 31,
   "id": "copyrighted-lending",
   "metadata": {},
   "outputs": [
    {
     "data": {
      "text/plain": [
       "[<matplotlib.lines.Line2D at 0x7f96a0929090>]"
      ]
     },
     "execution_count": 31,
     "metadata": {},
     "output_type": "execute_result"
    },
    {
     "data": {
      "image/png": "[encoded data removed]",
      "text/plain": [
       "<Figure size 432x288 with 1 Axes>"
      ]
     },
     "metadata": {
      "needs_background": "light"
     },
     "output_type": "display_data"
    }
   ],
   "source": [
    "tenthousanddiffs = []\n",
    "\n",
    "division = len(womensages)\n",
    "\n",
    "for i in range(10000):\n",
    "    thissample = charactersages.sample(frac = 1.0, replace = False)  # frac = 1.0 just says \"a sample of equal length\"\n",
    "                                                                     # i.e., reshuffle the list\n",
    "    women = thissample[0: division]\n",
    "    men = thissample[division: ]\n",
    "    diff = men.mean() - women.mean()\n",
    "    tenthousanddiffs.append(diff)\n",
    "    \n",
    "tenthousanddiffs = pd.Series(tenthousanddiffs) # To use the .hist() plotting method\n",
    "                                               # we need to turn this list into a pandas\n",
    "                                               # object, like a single column of a data frame.\n",
    "                                               # This is called a Series.\n",
    "tenthousanddiffs.hist(bins = 50)\n",
    "plt.plot([-0.5, -0.5], [0, 650], 'red')\n",
    "plt.plot([0.5, 0.5], [0, 650], 'red')"
   ]
  },
  {
   "cell_type": "markdown",
   "id": "forward-statement",
   "metadata": {},
   "source": [
    "This is the range of differences we would get through random sampling variation. \n",
    "\n",
    "We can ask how often the absolute difference of samples is greater than any value. For instance, how often would we randomly get differences of half a year or more between the mean ages of the two groups? We can find out by looking at the two \"tails\" of the above distribution, above 0.5  and below -0.5. How many samples are we talking about?"
   ]
  },
  {
   "cell_type": "code",
   "execution_count": 32,
   "id": "outside-reverse",
   "metadata": {},
   "outputs": [
    {
     "name": "stdout",
     "output_type": "stream",
     "text": [
      "That happens  324 times, for a probability of  0.0324\n"
     ]
    }
   ],
   "source": [
    "tailcount = sum(abs(tenthousanddiffs) > .5)\n",
    "print(\"That happens \", tailcount, \"times, for a probability of \", tailcount / 10000)"
   ]
  },
  {
   "cell_type": "markdown",
   "id": "simple-breeding",
   "metadata": {},
   "source": [
    "**QUESTION:** Why are we dividing by 10,000?\n",
    "\n",
    "What about the actual difference we observed?"
   ]
  },
  {
   "cell_type": "code",
   "execution_count": 33,
   "id": "daily-pitch",
   "metadata": {},
   "outputs": [
    {
     "name": "stdout",
     "output_type": "stream",
     "text": [
      "The observed difference of means was 6.668998158763081\n",
      "That happens  0 times, for a probability of  0.0\n"
     ]
    }
   ],
   "source": [
    "observeddiff = mensages.mean() - womensages.mean()\n",
    "print(\"The observed difference of means was\", observeddiff)\n",
    "\n",
    "tailcount = sum(abs(tenthousanddiffs) > observeddiff)\n",
    "print(\"That happens \", tailcount, \"times, for a probability of \", tailcount / 10000)"
   ]
  },
  {
   "cell_type": "markdown",
   "id": "mounted-march",
   "metadata": {},
   "source": [
    "In short, it's *very* unlikely that we could get two samples like this from the same population.\n",
    "\n",
    "Here's a shortcut way of doing the same calculation. (There are technically some differences here, because the formula used in a t test assumes that the distribution of ages is *roughly* shaped like a bell curve. The permutation test we performed is actually a little more flexible. But it's a small difference in this case, because fictional ages are close enough to a bell curve.)"
   ]
  },
  {
   "cell_type": "code",
   "execution_count": 34,
   "id": "circular-recipient",
   "metadata": {},
   "outputs": [
    {
     "data": {
      "text/plain": [
       "Ttest_indResult(statistic=29.470985559007072, pvalue=1.5605919504523837e-186)"
      ]
     },
     "execution_count": 34,
     "metadata": {},
     "output_type": "execute_result"
    }
   ],
   "source": [
    "from scipy.stats import ttest_ind\n",
    "ttest_ind(mensages, womensages)"
   ]
  },
  {
   "cell_type": "markdown",
   "id": "spanish-conclusion",
   "metadata": {},
   "source": [
    "The ```pvalue``` there is estimating the probability of getting a difference this extreme if there were in reality no difference between the population means. Again, it's a very low probability. The exponent is -186!"
   ]
  },
  {
   "cell_type": "markdown",
   "id": "formed-drunk",
   "metadata": {},
   "source": [
    "### Grouping and summarizing data\n",
    "\n",
    "You can see above that men outnumber women on film. The amount of dialogue assigned to the two groups is also unequal. In part that's simply because there are more men.\n",
    "\n",
    "But it's even more unequal than we would expect from the sheer number of men and women. The *average* amount of dialogue is also unequal."
   ]
  },
  {
   "cell_type": "code",
   "execution_count": 35,
   "id": "continent-bundle",
   "metadata": {},
   "outputs": [
    {
     "data": {
      "text/html": [
       "<div>\n",
       "<style scoped>\n",
       "    .dataframe tbody tr th:only-of-type {\n",
       "        vertical-align: middle;\n",
       "    }\n",
       "\n",
       "    .dataframe tbody tr th {\n",
       "        vertical-align: top;\n",
       "    }\n",
       "\n",
       "    .dataframe thead th {\n",
       "        text-align: right;\n",
       "    }\n",
       "</style>\n",
       "<table border=\"1\" class=\"dataframe\">\n",
       "  <thead>\n",
       "    <tr style=\"text-align: right;\">\n",
       "      <th></th>\n",
       "      <th>gender</th>\n",
       "      <th>words</th>\n",
       "    </tr>\n",
       "  </thead>\n",
       "  <tbody>\n",
       "    <tr>\n",
       "      <th>0</th>\n",
       "      <td>?</td>\n",
       "      <td>281.400000</td>\n",
       "    </tr>\n",
       "    <tr>\n",
       "      <th>1</th>\n",
       "      <td>f</td>\n",
       "      <td>850.853482</td>\n",
       "    </tr>\n",
       "    <tr>\n",
       "      <th>2</th>\n",
       "      <td>m</td>\n",
       "      <td>933.193921</td>\n",
       "    </tr>\n",
       "  </tbody>\n",
       "</table>\n",
       "</div>"
      ],
      "text/plain": [
       "  gender       words\n",
       "0      ?  281.400000\n",
       "1      f  850.853482\n",
       "2      m  933.193921"
      ]
     },
     "execution_count": 35,
     "metadata": {},
     "output_type": "execute_result"
    }
   ],
   "source": [
    "chars.groupby('gender', as_index = False)['words'].mean()"
   ]
  },
  {
   "cell_type": "markdown",
   "id": "manual-motorcycle",
   "metadata": {},
   "source": [
    "Women speak on average 851 words per film in this dataset; men 933.\n",
    "\n",
    "Notice how we used the ```.groupby()``` function to figure this out. It divides a Pandas dataframe into subframes based on the value of the column we pass in as a parameter. Once we've done that we can select a column ```['words']``` in all of those subframes, and calculate the mean value of the column.\n",
    "\n",
    "To understand how ```.groupby()``` works, it may be helpful to iterate through the ```label, dataframe``` pairs it produces: "
   ]
  },
  {
   "cell_type": "code",
   "execution_count": 36,
   "id": "architectural-indication",
   "metadata": {},
   "outputs": [
    {
     "name": "stdout",
     "output_type": "stream",
     "text": [
      "?\n",
      "       script_id imdb_character_name  words gender   age\n",
      "7325        2510            tiny tim    488      ?   NaN\n",
      "8010        2682     himself - walki    312      ?  90.0\n",
      "8011        2682     himself - with     224      ?  78.0\n",
      "16902       6053     Thomas Hergenro    216      ?   NaN\n",
      "18812       7177               randy    167      ?   NaN\n",
      "f\n",
      "   script_id imdb_character_name  words gender   age\n",
      "0        280               betty    311      f  35.0\n",
      "1        280     carolyn johnson    873      f   NaN\n",
      "2        280             eleanor    138      f   NaN\n",
      "3        280     francesca johns   2251      f  46.0\n",
      "4        280               madge    190      f  46.0\n",
      "m\n",
      "    script_id imdb_character_name  words gender   age\n",
      "5         280     michael johnson    723      m  38.0\n",
      "6         280      robert kincaid   1908      m  65.0\n",
      "7         623        bobby korfin    328      m   NaN\n",
      "9         623     deputy chief fi    347      m   NaN\n",
      "10        623     detective eddie   2020      m  58.0\n"
     ]
    }
   ],
   "source": [
    "grouped_frames = chars.groupby('gender', as_index = False)\n",
    "for label, dataframe in grouped_frames:\n",
    "    print(label)\n",
    "    print(dataframe.head())"
   ]
  },
  {
   "cell_type": "markdown",
   "id": "respiratory-quantity",
   "metadata": {},
   "source": [
    "By the way, how often would we see a difference as big as 851 and 933 if volubility were in fact equally distributed?\n",
    "\n",
    "This will become a question in the homework."
   ]
  },
  {
   "cell_type": "markdown",
   "id": "proved-aircraft",
   "metadata": {},
   "source": [
    "## Merging dataframes\n",
    "\n",
    "Suppose we want to inquire about the relation between the amount of money a movie makes, and the proportion of dialogue spoken by women. It's going to be very hard to do this with our existing two dataframes, because the ```gross``` income column is in the ```movies``` dataframe, whereas the ```words``` column is in the ```chars``` dataframe."
   ]
  },
  {
   "cell_type": "code",
   "execution_count": 38,
   "id": "future-electronics",
   "metadata": {},
   "outputs": [
    {
     "data": {
      "text/html": [
       "<div>\n",
       "<style scoped>\n",
       "    .dataframe tbody tr th:only-of-type {\n",
       "        vertical-align: middle;\n",
       "    }\n",
       "\n",
       "    .dataframe tbody tr th {\n",
       "        vertical-align: top;\n",
       "    }\n",
       "\n",
       "    .dataframe thead th {\n",
       "        text-align: right;\n",
       "    }\n",
       "</style>\n",
       "<table border=\"1\" class=\"dataframe\">\n",
       "  <thead>\n",
       "    <tr style=\"text-align: right;\">\n",
       "      <th></th>\n",
       "      <th>script_id</th>\n",
       "      <th>imdb_id</th>\n",
       "      <th>title</th>\n",
       "      <th>year</th>\n",
       "      <th>gross</th>\n",
       "    </tr>\n",
       "  </thead>\n",
       "  <tbody>\n",
       "    <tr>\n",
       "      <th>0</th>\n",
       "      <td>1534</td>\n",
       "      <td>tt1022603</td>\n",
       "      <td>(500) Days of Summer</td>\n",
       "      <td>2009</td>\n",
       "      <td>37.0</td>\n",
       "    </tr>\n",
       "    <tr>\n",
       "      <th>1</th>\n",
       "      <td>1512</td>\n",
       "      <td>tt0147800</td>\n",
       "      <td>10 Things I Hate About You</td>\n",
       "      <td>1999</td>\n",
       "      <td>65.0</td>\n",
       "    </tr>\n",
       "    <tr>\n",
       "      <th>2</th>\n",
       "      <td>1514</td>\n",
       "      <td>tt0417385</td>\n",
       "      <td>12 and Holding</td>\n",
       "      <td>2005</td>\n",
       "      <td>NaN</td>\n",
       "    </tr>\n",
       "  </tbody>\n",
       "</table>\n",
       "</div>"
      ],
      "text/plain": [
       "   script_id    imdb_id                       title  year  gross\n",
       "0       1534  tt1022603        (500) Days of Summer  2009   37.0\n",
       "1       1512  tt0147800  10 Things I Hate About You  1999   65.0\n",
       "2       1514  tt0417385              12 and Holding  2005    NaN"
      ]
     },
     "execution_count": 38,
     "metadata": {},
     "output_type": "execute_result"
    }
   ],
   "source": [
    "movies.head(3)"
   ]
  },
  {
   "cell_type": "code",
   "execution_count": 39,
   "id": "elegant-granny",
   "metadata": {},
   "outputs": [
    {
     "data": {
      "text/html": [
       "<div>\n",
       "<style scoped>\n",
       "    .dataframe tbody tr th:only-of-type {\n",
       "        vertical-align: middle;\n",
       "    }\n",
       "\n",
       "    .dataframe tbody tr th {\n",
       "        vertical-align: top;\n",
       "    }\n",
       "\n",
       "    .dataframe thead th {\n",
       "        text-align: right;\n",
       "    }\n",
       "</style>\n",
       "<table border=\"1\" class=\"dataframe\">\n",
       "  <thead>\n",
       "    <tr style=\"text-align: right;\">\n",
       "      <th></th>\n",
       "      <th>script_id</th>\n",
       "      <th>imdb_character_name</th>\n",
       "      <th>words</th>\n",
       "      <th>gender</th>\n",
       "      <th>age</th>\n",
       "    </tr>\n",
       "  </thead>\n",
       "  <tbody>\n",
       "    <tr>\n",
       "      <th>0</th>\n",
       "      <td>280</td>\n",
       "      <td>betty</td>\n",
       "      <td>311</td>\n",
       "      <td>f</td>\n",
       "      <td>35.0</td>\n",
       "    </tr>\n",
       "    <tr>\n",
       "      <th>1</th>\n",
       "      <td>280</td>\n",
       "      <td>carolyn johnson</td>\n",
       "      <td>873</td>\n",
       "      <td>f</td>\n",
       "      <td>NaN</td>\n",
       "    </tr>\n",
       "    <tr>\n",
       "      <th>2</th>\n",
       "      <td>280</td>\n",
       "      <td>eleanor</td>\n",
       "      <td>138</td>\n",
       "      <td>f</td>\n",
       "      <td>NaN</td>\n",
       "    </tr>\n",
       "  </tbody>\n",
       "</table>\n",
       "</div>"
      ],
      "text/plain": [
       "   script_id imdb_character_name  words gender   age\n",
       "0        280               betty    311      f  35.0\n",
       "1        280     carolyn johnson    873      f   NaN\n",
       "2        280             eleanor    138      f   NaN"
      ]
     },
     "execution_count": 39,
     "metadata": {},
     "output_type": "execute_result"
    }
   ],
   "source": [
    "chars.head(3)"
   ]
  },
  {
   "cell_type": "markdown",
   "id": "certified-basketball",
   "metadata": {},
   "source": [
    "We need to merge them into one. Fortunately we can do that, because the ```script_id``` column is present in both dataframes."
   ]
  },
  {
   "cell_type": "code",
   "execution_count": 40,
   "id": "south-lighter",
   "metadata": {},
   "outputs": [
    {
     "data": {
      "text/html": [
       "<div>\n",
       "<style scoped>\n",
       "    .dataframe tbody tr th:only-of-type {\n",
       "        vertical-align: middle;\n",
       "    }\n",
       "\n",
       "    .dataframe tbody tr th {\n",
       "        vertical-align: top;\n",
       "    }\n",
       "\n",
       "    .dataframe thead th {\n",
       "        text-align: right;\n",
       "    }\n",
       "</style>\n",
       "<table border=\"1\" class=\"dataframe\">\n",
       "  <thead>\n",
       "    <tr style=\"text-align: right;\">\n",
       "      <th></th>\n",
       "      <th>script_id</th>\n",
       "      <th>imdb_character_name</th>\n",
       "      <th>words</th>\n",
       "      <th>gender</th>\n",
       "      <th>age</th>\n",
       "      <th>imdb_id</th>\n",
       "      <th>title</th>\n",
       "      <th>year</th>\n",
       "      <th>gross</th>\n",
       "    </tr>\n",
       "  </thead>\n",
       "  <tbody>\n",
       "    <tr>\n",
       "      <th>0</th>\n",
       "      <td>280</td>\n",
       "      <td>betty</td>\n",
       "      <td>311</td>\n",
       "      <td>f</td>\n",
       "      <td>35.0</td>\n",
       "      <td>tt0112579</td>\n",
       "      <td>The Bridges of Madison County</td>\n",
       "      <td>1995</td>\n",
       "      <td>142.0</td>\n",
       "    </tr>\n",
       "    <tr>\n",
       "      <th>1</th>\n",
       "      <td>280</td>\n",
       "      <td>carolyn johnson</td>\n",
       "      <td>873</td>\n",
       "      <td>f</td>\n",
       "      <td>NaN</td>\n",
       "      <td>tt0112579</td>\n",
       "      <td>The Bridges of Madison County</td>\n",
       "      <td>1995</td>\n",
       "      <td>142.0</td>\n",
       "    </tr>\n",
       "    <tr>\n",
       "      <th>2</th>\n",
       "      <td>280</td>\n",
       "      <td>eleanor</td>\n",
       "      <td>138</td>\n",
       "      <td>f</td>\n",
       "      <td>NaN</td>\n",
       "      <td>tt0112579</td>\n",
       "      <td>The Bridges of Madison County</td>\n",
       "      <td>1995</td>\n",
       "      <td>142.0</td>\n",
       "    </tr>\n",
       "    <tr>\n",
       "      <th>3</th>\n",
       "      <td>280</td>\n",
       "      <td>francesca johns</td>\n",
       "      <td>2251</td>\n",
       "      <td>f</td>\n",
       "      <td>46.0</td>\n",
       "      <td>tt0112579</td>\n",
       "      <td>The Bridges of Madison County</td>\n",
       "      <td>1995</td>\n",
       "      <td>142.0</td>\n",
       "    </tr>\n",
       "    <tr>\n",
       "      <th>4</th>\n",
       "      <td>280</td>\n",
       "      <td>madge</td>\n",
       "      <td>190</td>\n",
       "      <td>f</td>\n",
       "      <td>46.0</td>\n",
       "      <td>tt0112579</td>\n",
       "      <td>The Bridges of Madison County</td>\n",
       "      <td>1995</td>\n",
       "      <td>142.0</td>\n",
       "    </tr>\n",
       "    <tr>\n",
       "      <th>...</th>\n",
       "      <td>...</td>\n",
       "      <td>...</td>\n",
       "      <td>...</td>\n",
       "      <td>...</td>\n",
       "      <td>...</td>\n",
       "      <td>...</td>\n",
       "      <td>...</td>\n",
       "      <td>...</td>\n",
       "      <td>...</td>\n",
       "    </tr>\n",
       "    <tr>\n",
       "      <th>23027</th>\n",
       "      <td>9254</td>\n",
       "      <td>lumiere</td>\n",
       "      <td>1063</td>\n",
       "      <td>m</td>\n",
       "      <td>56.0</td>\n",
       "      <td>tt0101414</td>\n",
       "      <td>Beauty and the Beast</td>\n",
       "      <td>1991</td>\n",
       "      <td>452.0</td>\n",
       "    </tr>\n",
       "    <tr>\n",
       "      <th>23028</th>\n",
       "      <td>9254</td>\n",
       "      <td>maurice</td>\n",
       "      <td>1107</td>\n",
       "      <td>m</td>\n",
       "      <td>71.0</td>\n",
       "      <td>tt0101414</td>\n",
       "      <td>Beauty and the Beast</td>\n",
       "      <td>1991</td>\n",
       "      <td>452.0</td>\n",
       "    </tr>\n",
       "    <tr>\n",
       "      <th>23029</th>\n",
       "      <td>9254</td>\n",
       "      <td>monsieur d'arqu</td>\n",
       "      <td>114</td>\n",
       "      <td>m</td>\n",
       "      <td>58.0</td>\n",
       "      <td>tt0101414</td>\n",
       "      <td>Beauty and the Beast</td>\n",
       "      <td>1991</td>\n",
       "      <td>452.0</td>\n",
       "    </tr>\n",
       "    <tr>\n",
       "      <th>23030</th>\n",
       "      <td>9254</td>\n",
       "      <td>mrs. potts</td>\n",
       "      <td>564</td>\n",
       "      <td>f</td>\n",
       "      <td>66.0</td>\n",
       "      <td>tt0101414</td>\n",
       "      <td>Beauty and the Beast</td>\n",
       "      <td>1991</td>\n",
       "      <td>452.0</td>\n",
       "    </tr>\n",
       "    <tr>\n",
       "      <th>23031</th>\n",
       "      <td>9254</td>\n",
       "      <td>wardrobe</td>\n",
       "      <td>121</td>\n",
       "      <td>f</td>\n",
       "      <td>54.0</td>\n",
       "      <td>tt0101414</td>\n",
       "      <td>Beauty and the Beast</td>\n",
       "      <td>1991</td>\n",
       "      <td>452.0</td>\n",
       "    </tr>\n",
       "  </tbody>\n",
       "</table>\n",
       "<p>23032 rows × 9 columns</p>\n",
       "</div>"
      ],
      "text/plain": [
       "       script_id imdb_character_name  words gender   age    imdb_id  \\\n",
       "0            280               betty    311      f  35.0  tt0112579   \n",
       "1            280     carolyn johnson    873      f   NaN  tt0112579   \n",
       "2            280             eleanor    138      f   NaN  tt0112579   \n",
       "3            280     francesca johns   2251      f  46.0  tt0112579   \n",
       "4            280               madge    190      f  46.0  tt0112579   \n",
       "...          ...                 ...    ...    ...   ...        ...   \n",
       "23027       9254             lumiere   1063      m  56.0  tt0101414   \n",
       "23028       9254             maurice   1107      m  71.0  tt0101414   \n",
       "23029       9254     monsieur d'arqu    114      m  58.0  tt0101414   \n",
       "23030       9254          mrs. potts    564      f  66.0  tt0101414   \n",
       "23031       9254            wardrobe    121      f  54.0  tt0101414   \n",
       "\n",
       "                               title  year  gross  \n",
       "0      The Bridges of Madison County  1995  142.0  \n",
       "1      The Bridges of Madison County  1995  142.0  \n",
       "2      The Bridges of Madison County  1995  142.0  \n",
       "3      The Bridges of Madison County  1995  142.0  \n",
       "4      The Bridges of Madison County  1995  142.0  \n",
       "...                              ...   ...    ...  \n",
       "23027           Beauty and the Beast  1991  452.0  \n",
       "23028           Beauty and the Beast  1991  452.0  \n",
       "23029           Beauty and the Beast  1991  452.0  \n",
       "23030           Beauty and the Beast  1991  452.0  \n",
       "23031           Beauty and the Beast  1991  452.0  \n",
       "\n",
       "[23032 rows x 9 columns]"
      ]
     },
     "execution_count": 40,
     "metadata": {},
     "output_type": "execute_result"
    }
   ],
   "source": [
    "pd.merge(chars, movies, on = 'script_id')"
   ]
  },
  {
   "cell_type": "markdown",
   "id": "stretch-license",
   "metadata": {},
   "source": [
    "By default Pandas performs what is called an 'inner join.' That is, the resulting dataframe will only have rows corresponding to script ids that were present in both dataframes.\n",
    "\n",
    "We can save this result in a variable and do fun things with it.\n",
    "\n",
    "For instance, we can group it by gender and title and then calculate the proportion of dialogue spoken by women in each movie.\n",
    "\n",
    "Technically, we can group by two variables at once."
   ]
  },
  {
   "cell_type": "code",
   "execution_count": 41,
   "id": "enhanced-hacker",
   "metadata": {},
   "outputs": [
    {
     "data": {
      "text/html": [
       "<div>\n",
       "<style scoped>\n",
       "    .dataframe tbody tr th:only-of-type {\n",
       "        vertical-align: middle;\n",
       "    }\n",
       "\n",
       "    .dataframe tbody tr th {\n",
       "        vertical-align: top;\n",
       "    }\n",
       "\n",
       "    .dataframe thead th {\n",
       "        text-align: right;\n",
       "    }\n",
       "</style>\n",
       "<table border=\"1\" class=\"dataframe\">\n",
       "  <thead>\n",
       "    <tr style=\"text-align: right;\">\n",
       "      <th></th>\n",
       "      <th></th>\n",
       "      <th>script_id</th>\n",
       "      <th>words</th>\n",
       "      <th>age</th>\n",
       "      <th>year</th>\n",
       "      <th>gross</th>\n",
       "    </tr>\n",
       "    <tr>\n",
       "      <th>title</th>\n",
       "      <th>gender</th>\n",
       "      <th></th>\n",
       "      <th></th>\n",
       "      <th></th>\n",
       "      <th></th>\n",
       "      <th></th>\n",
       "    </tr>\n",
       "  </thead>\n",
       "  <tbody>\n",
       "    <tr>\n",
       "      <th rowspan=\"2\" valign=\"top\">(500) Days of Summer</th>\n",
       "      <th>f</th>\n",
       "      <td>7670</td>\n",
       "      <td>5738</td>\n",
       "      <td>148.0</td>\n",
       "      <td>10045</td>\n",
       "      <td>185.0</td>\n",
       "    </tr>\n",
       "    <tr>\n",
       "      <th>m</th>\n",
       "      <td>12272</td>\n",
       "      <td>12762</td>\n",
       "      <td>230.0</td>\n",
       "      <td>16072</td>\n",
       "      <td>296.0</td>\n",
       "    </tr>\n",
       "    <tr>\n",
       "      <th rowspan=\"2\" valign=\"top\">10 Things I Hate About You</th>\n",
       "      <th>f</th>\n",
       "      <td>6048</td>\n",
       "      <td>8992</td>\n",
       "      <td>88.0</td>\n",
       "      <td>7996</td>\n",
       "      <td>260.0</td>\n",
       "    </tr>\n",
       "    <tr>\n",
       "      <th>m</th>\n",
       "      <td>12096</td>\n",
       "      <td>10688</td>\n",
       "      <td>219.0</td>\n",
       "      <td>15992</td>\n",
       "      <td>520.0</td>\n",
       "    </tr>\n",
       "    <tr>\n",
       "      <th>12 Years a Slave</th>\n",
       "      <th>f</th>\n",
       "      <td>9102</td>\n",
       "      <td>3452</td>\n",
       "      <td>161.0</td>\n",
       "      <td>12078</td>\n",
       "      <td>360.0</td>\n",
       "    </tr>\n",
       "    <tr>\n",
       "      <th>...</th>\n",
       "      <th>...</th>\n",
       "      <td>...</td>\n",
       "      <td>...</td>\n",
       "      <td>...</td>\n",
       "      <td>...</td>\n",
       "      <td>...</td>\n",
       "    </tr>\n",
       "    <tr>\n",
       "      <th>Zodiac</th>\n",
       "      <th>m</th>\n",
       "      <td>155784</td>\n",
       "      <td>13235</td>\n",
       "      <td>974.0</td>\n",
       "      <td>48168</td>\n",
       "      <td>984.0</td>\n",
       "    </tr>\n",
       "    <tr>\n",
       "      <th rowspan=\"2\" valign=\"top\">eXistenZ</th>\n",
       "      <th>f</th>\n",
       "      <td>13946</td>\n",
       "      <td>3752</td>\n",
       "      <td>57.0</td>\n",
       "      <td>3998</td>\n",
       "      <td>8.0</td>\n",
       "    </tr>\n",
       "    <tr>\n",
       "      <th>m</th>\n",
       "      <td>48811</td>\n",
       "      <td>5695</td>\n",
       "      <td>252.0</td>\n",
       "      <td>13993</td>\n",
       "      <td>28.0</td>\n",
       "    </tr>\n",
       "    <tr>\n",
       "      <th rowspan=\"2\" valign=\"top\">xXx</th>\n",
       "      <th>f</th>\n",
       "      <td>1497</td>\n",
       "      <td>998</td>\n",
       "      <td>27.0</td>\n",
       "      <td>2002</td>\n",
       "      <td>211.0</td>\n",
       "    </tr>\n",
       "    <tr>\n",
       "      <th>m</th>\n",
       "      <td>11976</td>\n",
       "      <td>7287</td>\n",
       "      <td>256.0</td>\n",
       "      <td>16016</td>\n",
       "      <td>1688.0</td>\n",
       "    </tr>\n",
       "  </tbody>\n",
       "</table>\n",
       "<p>3936 rows × 5 columns</p>\n",
       "</div>"
      ],
      "text/plain": [
       "                                   script_id  words    age   year   gross\n",
       "title                      gender                                        \n",
       "(500) Days of Summer       f            7670   5738  148.0  10045   185.0\n",
       "                           m           12272  12762  230.0  16072   296.0\n",
       "10 Things I Hate About You f            6048   8992   88.0   7996   260.0\n",
       "                           m           12096  10688  219.0  15992   520.0\n",
       "12 Years a Slave           f            9102   3452  161.0  12078   360.0\n",
       "...                                      ...    ...    ...    ...     ...\n",
       "Zodiac                     m          155784  13235  974.0  48168   984.0\n",
       "eXistenZ                   f           13946   3752   57.0   3998     8.0\n",
       "                           m           48811   5695  252.0  13993    28.0\n",
       "xXx                        f            1497    998   27.0   2002   211.0\n",
       "                           m           11976   7287  256.0  16016  1688.0\n",
       "\n",
       "[3936 rows x 5 columns]"
      ]
     },
     "execution_count": 41,
     "metadata": {},
     "output_type": "execute_result"
    }
   ],
   "source": [
    "merged = pd.merge(chars, movies, on = 'script_id')\n",
    "grouped = merged.groupby(['title', 'gender']).sum()\n",
    "grouped"
   ]
  },
  {
   "cell_type": "markdown",
   "id": "competitive-vision",
   "metadata": {},
   "source": [
    "But that creates a two-level index--called a MultiIndex--which is a little tricky to work with. It may be conceptually simpler to divide the merged dataframe by gender, then group."
   ]
  },
  {
   "cell_type": "code",
   "execution_count": 42,
   "id": "previous-farming",
   "metadata": {},
   "outputs": [
    {
     "data": {
      "text/html": [
       "<div>\n",
       "<style scoped>\n",
       "    .dataframe tbody tr th:only-of-type {\n",
       "        vertical-align: middle;\n",
       "    }\n",
       "\n",
       "    .dataframe tbody tr th {\n",
       "        vertical-align: top;\n",
       "    }\n",
       "\n",
       "    .dataframe thead th {\n",
       "        text-align: right;\n",
       "    }\n",
       "</style>\n",
       "<table border=\"1\" class=\"dataframe\">\n",
       "  <thead>\n",
       "    <tr style=\"text-align: right;\">\n",
       "      <th></th>\n",
       "      <th>title</th>\n",
       "      <th>script_id</th>\n",
       "      <th>words</th>\n",
       "      <th>age</th>\n",
       "      <th>year</th>\n",
       "      <th>gross</th>\n",
       "    </tr>\n",
       "  </thead>\n",
       "  <tbody>\n",
       "    <tr>\n",
       "      <th>0</th>\n",
       "      <td>(500) Days of Summer</td>\n",
       "      <td>12272</td>\n",
       "      <td>12762</td>\n",
       "      <td>230.0</td>\n",
       "      <td>16072</td>\n",
       "      <td>296.0</td>\n",
       "    </tr>\n",
       "    <tr>\n",
       "      <th>1</th>\n",
       "      <td>10 Things I Hate About You</td>\n",
       "      <td>12096</td>\n",
       "      <td>10688</td>\n",
       "      <td>219.0</td>\n",
       "      <td>15992</td>\n",
       "      <td>520.0</td>\n",
       "    </tr>\n",
       "    <tr>\n",
       "      <th>2</th>\n",
       "      <td>12 Years a Slave</td>\n",
       "      <td>33374</td>\n",
       "      <td>16176</td>\n",
       "      <td>551.0</td>\n",
       "      <td>44286</td>\n",
       "      <td>1320.0</td>\n",
       "    </tr>\n",
       "  </tbody>\n",
       "</table>\n",
       "</div>"
      ],
      "text/plain": [
       "                        title  script_id  words    age   year   gross\n",
       "0        (500) Days of Summer      12272  12762  230.0  16072   296.0\n",
       "1  10 Things I Hate About You      12096  10688  219.0  15992   520.0\n",
       "2            12 Years a Slave      33374  16176  551.0  44286  1320.0"
      ]
     },
     "execution_count": 42,
     "metadata": {},
     "output_type": "execute_result"
    }
   ],
   "source": [
    "malewordsbytitle = merged.loc[merged['gender'] == 'm', : ].groupby('title', as_index = False).sum()\n",
    "malewordsbytitle.head(3)"
   ]
  },
  {
   "cell_type": "code",
   "execution_count": 43,
   "id": "rising-letters",
   "metadata": {},
   "outputs": [
    {
     "data": {
      "text/html": [
       "<div>\n",
       "<style scoped>\n",
       "    .dataframe tbody tr th:only-of-type {\n",
       "        vertical-align: middle;\n",
       "    }\n",
       "\n",
       "    .dataframe tbody tr th {\n",
       "        vertical-align: top;\n",
       "    }\n",
       "\n",
       "    .dataframe thead th {\n",
       "        text-align: right;\n",
       "    }\n",
       "</style>\n",
       "<table border=\"1\" class=\"dataframe\">\n",
       "  <thead>\n",
       "    <tr style=\"text-align: right;\">\n",
       "      <th></th>\n",
       "      <th>title</th>\n",
       "      <th>script_id</th>\n",
       "      <th>words</th>\n",
       "      <th>age</th>\n",
       "      <th>year</th>\n",
       "      <th>gross</th>\n",
       "    </tr>\n",
       "  </thead>\n",
       "  <tbody>\n",
       "    <tr>\n",
       "      <th>0</th>\n",
       "      <td>(500) Days of Summer</td>\n",
       "      <td>7670</td>\n",
       "      <td>5738</td>\n",
       "      <td>148.0</td>\n",
       "      <td>10045</td>\n",
       "      <td>185.0</td>\n",
       "    </tr>\n",
       "    <tr>\n",
       "      <th>1</th>\n",
       "      <td>10 Things I Hate About You</td>\n",
       "      <td>6048</td>\n",
       "      <td>8992</td>\n",
       "      <td>88.0</td>\n",
       "      <td>7996</td>\n",
       "      <td>260.0</td>\n",
       "    </tr>\n",
       "    <tr>\n",
       "      <th>2</th>\n",
       "      <td>12 Years a Slave</td>\n",
       "      <td>9102</td>\n",
       "      <td>3452</td>\n",
       "      <td>161.0</td>\n",
       "      <td>12078</td>\n",
       "      <td>360.0</td>\n",
       "    </tr>\n",
       "  </tbody>\n",
       "</table>\n",
       "</div>"
      ],
      "text/plain": [
       "                        title  script_id  words    age   year  gross\n",
       "0        (500) Days of Summer       7670   5738  148.0  10045  185.0\n",
       "1  10 Things I Hate About You       6048   8992   88.0   7996  260.0\n",
       "2            12 Years a Slave       9102   3452  161.0  12078  360.0"
      ]
     },
     "execution_count": 43,
     "metadata": {},
     "output_type": "execute_result"
    }
   ],
   "source": [
    "femalewordsbytitle = merged.loc[merged['gender'] == 'f', : ].groupby('title', as_index = False).sum()\n",
    "femalewordsbytitle.head(3)"
   ]
  },
  {
   "cell_type": "markdown",
   "id": "yellow-statement",
   "metadata": {},
   "source": [
    "Now we can merge these two frames using an *outer* join, which will create rows for all titles present in either dataframe. This is important because we want to have zeroes in cases where men or women don't speak at all in a movie. We don't want those rows just to be missing.\n",
    "\n",
    "We can also add suffixes, so we understand which columns are coming from the dataframe associated with men or with women."
   ]
  },
  {
   "cell_type": "code",
   "execution_count": 44,
   "id": "concerned-exercise",
   "metadata": {},
   "outputs": [],
   "source": [
    "wordsbytitle = femalewordsbytitle.merge(malewordsbytitle, on = 'title', how = 'outer', suffixes = ['_women', '_men'])"
   ]
  },
  {
   "cell_type": "code",
   "execution_count": 45,
   "id": "faced-polish",
   "metadata": {},
   "outputs": [
    {
     "data": {
      "text/html": [
       "<div>\n",
       "<style scoped>\n",
       "    .dataframe tbody tr th:only-of-type {\n",
       "        vertical-align: middle;\n",
       "    }\n",
       "\n",
       "    .dataframe tbody tr th {\n",
       "        vertical-align: top;\n",
       "    }\n",
       "\n",
       "    .dataframe thead th {\n",
       "        text-align: right;\n",
       "    }\n",
       "</style>\n",
       "<table border=\"1\" class=\"dataframe\">\n",
       "  <thead>\n",
       "    <tr style=\"text-align: right;\">\n",
       "      <th></th>\n",
       "      <th>title</th>\n",
       "      <th>script_id_women</th>\n",
       "      <th>words_women</th>\n",
       "      <th>age_women</th>\n",
       "      <th>year_women</th>\n",
       "      <th>gross_women</th>\n",
       "      <th>script_id_men</th>\n",
       "      <th>words_men</th>\n",
       "      <th>age_men</th>\n",
       "      <th>year_men</th>\n",
       "      <th>gross_men</th>\n",
       "    </tr>\n",
       "  </thead>\n",
       "  <tbody>\n",
       "    <tr>\n",
       "      <th>806</th>\n",
       "      <td>La Bamba</td>\n",
       "      <td>22563.0</td>\n",
       "      <td>1723.0</td>\n",
       "      <td>87.0</td>\n",
       "      <td>5961.0</td>\n",
       "      <td>360.0</td>\n",
       "      <td>30084.0</td>\n",
       "      <td>5097.0</td>\n",
       "      <td>84.0</td>\n",
       "      <td>7948.0</td>\n",
       "      <td>480.0</td>\n",
       "    </tr>\n",
       "    <tr>\n",
       "      <th>1263</th>\n",
       "      <td>Slash</td>\n",
       "      <td>14904.0</td>\n",
       "      <td>1412.0</td>\n",
       "      <td>25.0</td>\n",
       "      <td>6006.0</td>\n",
       "      <td>0.0</td>\n",
       "      <td>44712.0</td>\n",
       "      <td>4824.0</td>\n",
       "      <td>193.0</td>\n",
       "      <td>18018.0</td>\n",
       "      <td>0.0</td>\n",
       "    </tr>\n",
       "    <tr>\n",
       "      <th>1317</th>\n",
       "      <td>Star Trek IV: The Voyage Home</td>\n",
       "      <td>15087.0</td>\n",
       "      <td>1972.0</td>\n",
       "      <td>165.0</td>\n",
       "      <td>5958.0</td>\n",
       "      <td>771.0</td>\n",
       "      <td>60348.0</td>\n",
       "      <td>7311.0</td>\n",
       "      <td>628.0</td>\n",
       "      <td>23832.0</td>\n",
       "      <td>3084.0</td>\n",
       "    </tr>\n",
       "    <tr>\n",
       "      <th>1368</th>\n",
       "      <td>Suspect Zero</td>\n",
       "      <td>13912.0</td>\n",
       "      <td>1806.0</td>\n",
       "      <td>127.0</td>\n",
       "      <td>8016.0</td>\n",
       "      <td>48.0</td>\n",
       "      <td>20868.0</td>\n",
       "      <td>9236.0</td>\n",
       "      <td>221.0</td>\n",
       "      <td>12024.0</td>\n",
       "      <td>72.0</td>\n",
       "    </tr>\n",
       "    <tr>\n",
       "      <th>1194</th>\n",
       "      <td>Save the Last Dance</td>\n",
       "      <td>6475.0</td>\n",
       "      <td>4047.0</td>\n",
       "      <td>66.0</td>\n",
       "      <td>10005.0</td>\n",
       "      <td>695.0</td>\n",
       "      <td>6475.0</td>\n",
       "      <td>4318.0</td>\n",
       "      <td>108.0</td>\n",
       "      <td>10005.0</td>\n",
       "      <td>695.0</td>\n",
       "    </tr>\n",
       "    <tr>\n",
       "      <th>465</th>\n",
       "      <td>End of Days</td>\n",
       "      <td>12746.0</td>\n",
       "      <td>1681.0</td>\n",
       "      <td>74.0</td>\n",
       "      <td>3998.0</td>\n",
       "      <td>228.0</td>\n",
       "      <td>38238.0</td>\n",
       "      <td>2297.0</td>\n",
       "      <td>275.0</td>\n",
       "      <td>11994.0</td>\n",
       "      <td>684.0</td>\n",
       "    </tr>\n",
       "    <tr>\n",
       "      <th>1794</th>\n",
       "      <td>Tin Cup</td>\n",
       "      <td>2824.0</td>\n",
       "      <td>2686.0</td>\n",
       "      <td>42.0</td>\n",
       "      <td>3992.0</td>\n",
       "      <td>212.0</td>\n",
       "      <td>8472.0</td>\n",
       "      <td>9176.0</td>\n",
       "      <td>250.0</td>\n",
       "      <td>11976.0</td>\n",
       "      <td>636.0</td>\n",
       "    </tr>\n",
       "    <tr>\n",
       "      <th>1587</th>\n",
       "      <td>The Judge</td>\n",
       "      <td>20724.0</td>\n",
       "      <td>1261.0</td>\n",
       "      <td>41.0</td>\n",
       "      <td>6042.0</td>\n",
       "      <td>150.0</td>\n",
       "      <td>69080.0</td>\n",
       "      <td>9648.0</td>\n",
       "      <td>373.0</td>\n",
       "      <td>20140.0</td>\n",
       "      <td>500.0</td>\n",
       "    </tr>\n",
       "    <tr>\n",
       "      <th>591</th>\n",
       "      <td>Gosford Park</td>\n",
       "      <td>58635.0</td>\n",
       "      <td>5387.0</td>\n",
       "      <td>347.0</td>\n",
       "      <td>18009.0</td>\n",
       "      <td>567.0</td>\n",
       "      <td>97725.0</td>\n",
       "      <td>5321.0</td>\n",
       "      <td>583.0</td>\n",
       "      <td>30015.0</td>\n",
       "      <td>945.0</td>\n",
       "    </tr>\n",
       "    <tr>\n",
       "      <th>1914</th>\n",
       "      <td>Woman in Gold</td>\n",
       "      <td>27575.0</td>\n",
       "      <td>5047.0</td>\n",
       "      <td>236.0</td>\n",
       "      <td>10075.0</td>\n",
       "      <td>170.0</td>\n",
       "      <td>60665.0</td>\n",
       "      <td>6685.0</td>\n",
       "      <td>554.0</td>\n",
       "      <td>22165.0</td>\n",
       "      <td>374.0</td>\n",
       "    </tr>\n",
       "    <tr>\n",
       "      <th>844</th>\n",
       "      <td>Little Man Tate</td>\n",
       "      <td>30140.0</td>\n",
       "      <td>5942.0</td>\n",
       "      <td>139.0</td>\n",
       "      <td>7964.0</td>\n",
       "      <td>204.0</td>\n",
       "      <td>37675.0</td>\n",
       "      <td>4549.0</td>\n",
       "      <td>75.0</td>\n",
       "      <td>9955.0</td>\n",
       "      <td>255.0</td>\n",
       "    </tr>\n",
       "    <tr>\n",
       "      <th>358</th>\n",
       "      <td>Cradle 2 the Grave</td>\n",
       "      <td>2466.0</td>\n",
       "      <td>1003.0</td>\n",
       "      <td>77.0</td>\n",
       "      <td>6009.0</td>\n",
       "      <td>147.0</td>\n",
       "      <td>9042.0</td>\n",
       "      <td>7197.0</td>\n",
       "      <td>294.0</td>\n",
       "      <td>22033.0</td>\n",
       "      <td>539.0</td>\n",
       "    </tr>\n",
       "  </tbody>\n",
       "</table>\n",
       "</div>"
      ],
      "text/plain": [
       "                              title  script_id_women  words_women  age_women  \\\n",
       "806                        La Bamba          22563.0       1723.0       87.0   \n",
       "1263                          Slash          14904.0       1412.0       25.0   \n",
       "1317  Star Trek IV: The Voyage Home          15087.0       1972.0      165.0   \n",
       "1368                   Suspect Zero          13912.0       1806.0      127.0   \n",
       "1194            Save the Last Dance           6475.0       4047.0       66.0   \n",
       "465                     End of Days          12746.0       1681.0       74.0   \n",
       "1794                        Tin Cup           2824.0       2686.0       42.0   \n",
       "1587                      The Judge          20724.0       1261.0       41.0   \n",
       "591                    Gosford Park          58635.0       5387.0      347.0   \n",
       "1914                  Woman in Gold          27575.0       5047.0      236.0   \n",
       "844                 Little Man Tate          30140.0       5942.0      139.0   \n",
       "358              Cradle 2 the Grave           2466.0       1003.0       77.0   \n",
       "\n",
       "      year_women  gross_women  script_id_men  words_men  age_men  year_men  \\\n",
       "806       5961.0        360.0        30084.0     5097.0     84.0    7948.0   \n",
       "1263      6006.0          0.0        44712.0     4824.0    193.0   18018.0   \n",
       "1317      5958.0        771.0        60348.0     7311.0    628.0   23832.0   \n",
       "1368      8016.0         48.0        20868.0     9236.0    221.0   12024.0   \n",
       "1194     10005.0        695.0         6475.0     4318.0    108.0   10005.0   \n",
       "465       3998.0        228.0        38238.0     2297.0    275.0   11994.0   \n",
       "1794      3992.0        212.0         8472.0     9176.0    250.0   11976.0   \n",
       "1587      6042.0        150.0        69080.0     9648.0    373.0   20140.0   \n",
       "591      18009.0        567.0        97725.0     5321.0    583.0   30015.0   \n",
       "1914     10075.0        170.0        60665.0     6685.0    554.0   22165.0   \n",
       "844       7964.0        204.0        37675.0     4549.0     75.0    9955.0   \n",
       "358       6009.0        147.0         9042.0     7197.0    294.0   22033.0   \n",
       "\n",
       "      gross_men  \n",
       "806       480.0  \n",
       "1263        0.0  \n",
       "1317     3084.0  \n",
       "1368       72.0  \n",
       "1194      695.0  \n",
       "465       684.0  \n",
       "1794      636.0  \n",
       "1587      500.0  \n",
       "591       945.0  \n",
       "1914      374.0  \n",
       "844       255.0  \n",
       "358       539.0  "
      ]
     },
     "execution_count": 45,
     "metadata": {},
     "output_type": "execute_result"
    }
   ],
   "source": [
    "wordsbytitle.sample(12)"
   ]
  },
  {
   "cell_type": "markdown",
   "id": "recovered-diamond",
   "metadata": {},
   "source": [
    "Now we want to do two things:\n",
    "    \n",
    "    1. Simplify this table so it only has the relevant columns. The sums of age and script id are meaningless.\n",
    "    \n",
    "    2. Replace NaNs with zeroes."
   ]
  },
  {
   "cell_type": "code",
   "execution_count": 46,
   "id": "august-month",
   "metadata": {},
   "outputs": [],
   "source": [
    "wordsbytitle = wordsbytitle.loc[ : , ['title', 'words_men', 'words_women']]"
   ]
  },
  {
   "cell_type": "code",
   "execution_count": 47,
   "id": "sweet-sellers",
   "metadata": {},
   "outputs": [
    {
     "data": {
      "text/plain": [
       "54"
      ]
     },
     "execution_count": 47,
     "metadata": {},
     "output_type": "execute_result"
    }
   ],
   "source": [
    "sum(wordsbytitle['words_women'].isna())"
   ]
  },
  {
   "cell_type": "code",
   "execution_count": 48,
   "id": "editorial-bangkok",
   "metadata": {},
   "outputs": [],
   "source": [
    "wordsbytitle = wordsbytitle.fillna(0)"
   ]
  },
  {
   "cell_type": "markdown",
   "id": "express-bathroom",
   "metadata": {},
   "source": [
    "Let's create a column that reports the *fraction* of dialogue in a given movie spoken by women."
   ]
  },
  {
   "cell_type": "code",
   "execution_count": 49,
   "id": "concrete-knowing",
   "metadata": {},
   "outputs": [],
   "source": [
    "wordsbytitle = wordsbytitle.assign(frac_women = wordsbytitle['words_women'] / \n",
    "                                     (wordsbytitle['words_women'] + wordsbytitle['words_men']))"
   ]
  },
  {
   "cell_type": "code",
   "execution_count": 50,
   "id": "cellular-accounting",
   "metadata": {},
   "outputs": [
    {
     "data": {
      "text/html": [
       "<div>\n",
       "<style scoped>\n",
       "    .dataframe tbody tr th:only-of-type {\n",
       "        vertical-align: middle;\n",
       "    }\n",
       "\n",
       "    .dataframe tbody tr th {\n",
       "        vertical-align: top;\n",
       "    }\n",
       "\n",
       "    .dataframe thead th {\n",
       "        text-align: right;\n",
       "    }\n",
       "</style>\n",
       "<table border=\"1\" class=\"dataframe\">\n",
       "  <thead>\n",
       "    <tr style=\"text-align: right;\">\n",
       "      <th></th>\n",
       "      <th>title</th>\n",
       "      <th>words_men</th>\n",
       "      <th>words_women</th>\n",
       "      <th>frac_women</th>\n",
       "    </tr>\n",
       "  </thead>\n",
       "  <tbody>\n",
       "    <tr>\n",
       "      <th>0</th>\n",
       "      <td>(500) Days of Summer</td>\n",
       "      <td>12762.0</td>\n",
       "      <td>5738.0</td>\n",
       "      <td>0.310162</td>\n",
       "    </tr>\n",
       "    <tr>\n",
       "      <th>1</th>\n",
       "      <td>10 Things I Hate About You</td>\n",
       "      <td>10688.0</td>\n",
       "      <td>8992.0</td>\n",
       "      <td>0.456911</td>\n",
       "    </tr>\n",
       "    <tr>\n",
       "      <th>2</th>\n",
       "      <td>12 Years a Slave</td>\n",
       "      <td>16176.0</td>\n",
       "      <td>3452.0</td>\n",
       "      <td>0.175871</td>\n",
       "    </tr>\n",
       "    <tr>\n",
       "      <th>3</th>\n",
       "      <td>12 and Holding</td>\n",
       "      <td>10644.0</td>\n",
       "      <td>5324.0</td>\n",
       "      <td>0.333417</td>\n",
       "    </tr>\n",
       "    <tr>\n",
       "      <th>4</th>\n",
       "      <td>127 Hours</td>\n",
       "      <td>4336.0</td>\n",
       "      <td>809.0</td>\n",
       "      <td>0.157240</td>\n",
       "    </tr>\n",
       "  </tbody>\n",
       "</table>\n",
       "</div>"
      ],
      "text/plain": [
       "                        title  words_men  words_women  frac_women\n",
       "0        (500) Days of Summer    12762.0       5738.0    0.310162\n",
       "1  10 Things I Hate About You    10688.0       8992.0    0.456911\n",
       "2            12 Years a Slave    16176.0       3452.0    0.175871\n",
       "3              12 and Holding    10644.0       5324.0    0.333417\n",
       "4                   127 Hours     4336.0        809.0    0.157240"
      ]
     },
     "execution_count": 50,
     "metadata": {},
     "output_type": "execute_result"
    }
   ],
   "source": [
    "wordsbytitle.head()"
   ]
  },
  {
   "cell_type": "markdown",
   "id": "flush-astrology",
   "metadata": {},
   "source": [
    "Now if we merge this data with our original ```movies``` dataframe, we can compare this fraction to variables like release year and gross income."
   ]
  },
  {
   "cell_type": "code",
   "execution_count": 51,
   "id": "polished-andorra",
   "metadata": {},
   "outputs": [
    {
     "data": {
      "text/html": [
       "<div>\n",
       "<style scoped>\n",
       "    .dataframe tbody tr th:only-of-type {\n",
       "        vertical-align: middle;\n",
       "    }\n",
       "\n",
       "    .dataframe tbody tr th {\n",
       "        vertical-align: top;\n",
       "    }\n",
       "\n",
       "    .dataframe thead th {\n",
       "        text-align: right;\n",
       "    }\n",
       "</style>\n",
       "<table border=\"1\" class=\"dataframe\">\n",
       "  <thead>\n",
       "    <tr style=\"text-align: right;\">\n",
       "      <th></th>\n",
       "      <th>title</th>\n",
       "      <th>words_men</th>\n",
       "      <th>words_women</th>\n",
       "      <th>frac_women</th>\n",
       "      <th>script_id</th>\n",
       "      <th>imdb_id</th>\n",
       "      <th>year</th>\n",
       "      <th>gross</th>\n",
       "    </tr>\n",
       "  </thead>\n",
       "  <tbody>\n",
       "    <tr>\n",
       "      <th>0</th>\n",
       "      <td>(500) Days of Summer</td>\n",
       "      <td>12762.0</td>\n",
       "      <td>5738.0</td>\n",
       "      <td>0.310162</td>\n",
       "      <td>1534</td>\n",
       "      <td>tt1022603</td>\n",
       "      <td>2009</td>\n",
       "      <td>37.0</td>\n",
       "    </tr>\n",
       "    <tr>\n",
       "      <th>1</th>\n",
       "      <td>10 Things I Hate About You</td>\n",
       "      <td>10688.0</td>\n",
       "      <td>8992.0</td>\n",
       "      <td>0.456911</td>\n",
       "      <td>1512</td>\n",
       "      <td>tt0147800</td>\n",
       "      <td>1999</td>\n",
       "      <td>65.0</td>\n",
       "    </tr>\n",
       "    <tr>\n",
       "      <th>2</th>\n",
       "      <td>12 Years a Slave</td>\n",
       "      <td>16176.0</td>\n",
       "      <td>3452.0</td>\n",
       "      <td>0.175871</td>\n",
       "      <td>1517</td>\n",
       "      <td>tt2024544</td>\n",
       "      <td>2013</td>\n",
       "      <td>60.0</td>\n",
       "    </tr>\n",
       "    <tr>\n",
       "      <th>3</th>\n",
       "      <td>12 and Holding</td>\n",
       "      <td>10644.0</td>\n",
       "      <td>5324.0</td>\n",
       "      <td>0.333417</td>\n",
       "      <td>1514</td>\n",
       "      <td>tt0417385</td>\n",
       "      <td>2005</td>\n",
       "      <td>NaN</td>\n",
       "    </tr>\n",
       "    <tr>\n",
       "      <th>4</th>\n",
       "      <td>127 Hours</td>\n",
       "      <td>4336.0</td>\n",
       "      <td>809.0</td>\n",
       "      <td>0.157240</td>\n",
       "      <td>1520</td>\n",
       "      <td>tt1542344</td>\n",
       "      <td>2010</td>\n",
       "      <td>20.0</td>\n",
       "    </tr>\n",
       "    <tr>\n",
       "      <th>...</th>\n",
       "      <td>...</td>\n",
       "      <td>...</td>\n",
       "      <td>...</td>\n",
       "      <td>...</td>\n",
       "      <td>...</td>\n",
       "      <td>...</td>\n",
       "      <td>...</td>\n",
       "      <td>...</td>\n",
       "    </tr>\n",
       "    <tr>\n",
       "      <th>1995</th>\n",
       "      <td>The Revenant</td>\n",
       "      <td>5396.0</td>\n",
       "      <td>0.0</td>\n",
       "      <td>0.000000</td>\n",
       "      <td>8257</td>\n",
       "      <td>tt1663202</td>\n",
       "      <td>2015</td>\n",
       "      <td>147.0</td>\n",
       "    </tr>\n",
       "    <tr>\n",
       "      <th>1996</th>\n",
       "      <td>The Shawshank Redemption</td>\n",
       "      <td>13414.0</td>\n",
       "      <td>0.0</td>\n",
       "      <td>0.000000</td>\n",
       "      <td>3317</td>\n",
       "      <td>tt0111161</td>\n",
       "      <td>1994</td>\n",
       "      <td>58.0</td>\n",
       "    </tr>\n",
       "    <tr>\n",
       "      <th>1997</th>\n",
       "      <td>The Thin Red Line</td>\n",
       "      <td>18458.0</td>\n",
       "      <td>0.0</td>\n",
       "      <td>0.000000</td>\n",
       "      <td>9177</td>\n",
       "      <td>tt0120863</td>\n",
       "      <td>1998</td>\n",
       "      <td>67.0</td>\n",
       "    </tr>\n",
       "    <tr>\n",
       "      <th>1998</th>\n",
       "      <td>The Wild Bunch</td>\n",
       "      <td>8864.0</td>\n",
       "      <td>0.0</td>\n",
       "      <td>0.000000</td>\n",
       "      <td>1475</td>\n",
       "      <td>tt0065214</td>\n",
       "      <td>1969</td>\n",
       "      <td>NaN</td>\n",
       "    </tr>\n",
       "    <tr>\n",
       "      <th>1999</th>\n",
       "      <td>There Will Be Blood</td>\n",
       "      <td>8052.0</td>\n",
       "      <td>0.0</td>\n",
       "      <td>0.000000</td>\n",
       "      <td>6000</td>\n",
       "      <td>tt0469494</td>\n",
       "      <td>2007</td>\n",
       "      <td>50.0</td>\n",
       "    </tr>\n",
       "  </tbody>\n",
       "</table>\n",
       "<p>2000 rows × 8 columns</p>\n",
       "</div>"
      ],
      "text/plain": [
       "                           title  words_men  words_women  frac_women  \\\n",
       "0           (500) Days of Summer    12762.0       5738.0    0.310162   \n",
       "1     10 Things I Hate About You    10688.0       8992.0    0.456911   \n",
       "2               12 Years a Slave    16176.0       3452.0    0.175871   \n",
       "3                 12 and Holding    10644.0       5324.0    0.333417   \n",
       "4                      127 Hours     4336.0        809.0    0.157240   \n",
       "...                          ...        ...          ...         ...   \n",
       "1995                The Revenant     5396.0          0.0    0.000000   \n",
       "1996    The Shawshank Redemption    13414.0          0.0    0.000000   \n",
       "1997           The Thin Red Line    18458.0          0.0    0.000000   \n",
       "1998              The Wild Bunch     8864.0          0.0    0.000000   \n",
       "1999         There Will Be Blood     8052.0          0.0    0.000000   \n",
       "\n",
       "      script_id    imdb_id  year  gross  \n",
       "0          1534  tt1022603  2009   37.0  \n",
       "1          1512  tt0147800  1999   65.0  \n",
       "2          1517  tt2024544  2013   60.0  \n",
       "3          1514  tt0417385  2005    NaN  \n",
       "4          1520  tt1542344  2010   20.0  \n",
       "...         ...        ...   ...    ...  \n",
       "1995       8257  tt1663202  2015  147.0  \n",
       "1996       3317  tt0111161  1994   58.0  \n",
       "1997       9177  tt0120863  1998   67.0  \n",
       "1998       1475  tt0065214  1969    NaN  \n",
       "1999       6000  tt0469494  2007   50.0  \n",
       "\n",
       "[2000 rows x 8 columns]"
      ]
     },
     "execution_count": 51,
     "metadata": {},
     "output_type": "execute_result"
    }
   ],
   "source": [
    "titledata = wordsbytitle.merge(movies, on = 'title')\n",
    "titledata"
   ]
  },
  {
   "cell_type": "markdown",
   "id": "worse-rachel",
   "metadata": {},
   "source": [
    "What does the relationship between ```year``` and ```frac_women``` look like visually?"
   ]
  },
  {
   "cell_type": "code",
   "execution_count": 60,
   "id": "permanent-ensemble",
   "metadata": {},
   "outputs": [
    {
     "data": {
      "text/plain": [
       "<AxesSubplot:xlabel='year', ylabel='frac_women'>"
      ]
     },
     "execution_count": 60,
     "metadata": {},
     "output_type": "execute_result"
    },
    {
     "data": {
      "image/png": "[encoded data removed]",
      "text/plain": [
       "<Figure size 432x288 with 1 Axes>"
      ]
     },
     "metadata": {
      "needs_background": "light"
     },
     "output_type": "display_data"
    }
   ],
   "source": [
    "titledata.plot(kind = 'scatter', x = 'year', y ='frac_women')"
   ]
  },
  {
   "cell_type": "markdown",
   "id": "eleven-academy",
   "metadata": {},
   "source": [
    "It's hard to evaluate the strength of the trend above purely by eyeballing it. So we need better tools.\n",
    "\n",
    "### Inferential statistics with Pearson correlation.\n",
    "\n",
    "The [Pearson correlation coefficient](https://en.wikipedia.org/wiki/Pearson_correlation_coefficient) describes the strength of a linear relationship between two variables.\n",
    "\n",
    "To put it more mathematically, how does their *shared* variance ($x_i$'s deviation from the mean of x times $y_i$'s deviation from the mean of y) relate to the total variance of x times the total variance of y."
   ]
  },
  {
   "cell_type": "code",
   "execution_count": 52,
   "id": "coupled-champagne",
   "metadata": {},
   "outputs": [],
   "source": [
    "from scipy.stats import pearsonr"
   ]
  },
  {
   "cell_type": "code",
   "execution_count": 53,
   "id": "threaded-telephone",
   "metadata": {},
   "outputs": [
    {
     "data": {
      "text/plain": [
       "(0.09236705889251742, 3.5180809095464426e-05)"
      ]
     },
     "execution_count": 53,
     "metadata": {},
     "output_type": "execute_result"
    }
   ],
   "source": [
    "pearsonr(titledata['frac_women'], titledata['year'])"
   ]
  },
  {
   "cell_type": "markdown",
   "id": "experimental-maple",
   "metadata": {},
   "source": [
    "We see there that *r* (the correlation coefficient) is .092, and the *p* value for this measurement is 0.000035 (very small). Since *r* is positive, we know that the fraction of dialogue spoken by women is increasing as the date increases.\n",
    "\n",
    "The null hypothesis for Pearson correlation is that there is no correlation (*r* = 0). So the *p* value expresses the probability of getting this *r* in a sample from a population where there was in reality *r* = 0.\n",
    "\n",
    "Let's also check the relationship to films' gross income. To do that, we need to drop NaNs."
   ]
  },
  {
   "cell_type": "code",
   "execution_count": 58,
   "id": "breeding-telling",
   "metadata": {},
   "outputs": [],
   "source": [
    "knowngrosses = titledata.dropna(subset = ['gross'])"
   ]
  },
  {
   "cell_type": "code",
   "execution_count": 59,
   "id": "facial-superintendent",
   "metadata": {},
   "outputs": [
    {
     "data": {
      "text/plain": [
       "(-0.10368551280972545, 2.2829529713543914e-05)"
      ]
     },
     "execution_count": 59,
     "metadata": {},
     "output_type": "execute_result"
    }
   ],
   "source": [
    "pearsonr(knowngrosses['frac_women'], knowngrosses['gross'])"
   ]
  },
  {
   "cell_type": "markdown",
   "id": "funky-rings",
   "metadata": {},
   "source": [
    "That's also a significant relationship, though a negative one. So the gross returns for a film tend to be lower when more women speak. But the relationship is not very strong. *R* can range from -1 to 1; a value like -0.1 is pretty close to zero, although we have enough data that the pattern is unlikely to be a pure accident."
   ]
  }
 ],
 "metadata": {
  "kernelspec": {
   "display_name": "Python 3",
   "language": "python",
   "name": "python3"
  },
  "language_info": {
   "codemirror_mode": {
    "name": "ipython",
    "version": 3
   },
   "file_extension": ".py",
   "mimetype": "text/x-python",
   "name": "python",
   "nbconvert_exporter": "python",
   "pygments_lexer": "ipython3",
   "version": "3.7.6"
  }
 },
 "nbformat": 4,
 "nbformat_minor": 5
}
