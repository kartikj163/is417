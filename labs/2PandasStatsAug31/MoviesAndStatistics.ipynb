{
 "cells": [
  {
   "cell_type": "markdown",
   "id": "matched-nevada",
   "metadata": {},
   "source": [
    "# Movies and Statistics\n",
    "\n",
    "This notebook guides you through a real application of Pandas to study gender bias in film scripts. In particular we want to ask whether gender is associated with the ages of characters, and whether the fraction of dialogue spoken by women changes significantly over historical time.\n",
    "\n",
    "We'll do some \"data munging\" (reorganizing and summarizing the data) to produce a data frame that has all the information we need. Then we'll run some simple statistical tests.\n",
    "\n",
    "We're drawing our data from [this blog post by Hannah Anderson and Matt Daniels](https://pudding.cool/2017/03/film-dialogue/). It organizes data for about 2000 screenplays, and reveals a number of patterns with gorgeous dataviz, but doesn't directly answer the question we want to pose.\n",
    "\n",
    "However, the authors of the project also posted their data [on GitHub,](https://github.com/matthewfdaniels/scripts/) and I've placed it in this folder.\n",
    "\n",
    "(This is mostly data on English-language film, but there are other sources out there; for instance, Prof. Rini Mehta in Comparative Literature has been [visualizing patterns](https://observablehq.com/@rbhttchr/25-heroes-of-hindi-cinema-1931-2020) in [Indian cinema.](https://observablehq.com/@rbhttchr/indian-cinemas-babel))\n",
    "\n",
    "We start by importing the modules we need. Because the word \"pandas\" is long if you have to type it a lot, it's conventionally imported *as* pd.\n",
    "\n",
    "I'm also going to import a basic graphics library (\"pyplot\") that I'll use to put some titles on graphs, draw a few lines on them, etc."
   ]
  },
  {
   "cell_type": "code",
   "execution_count": 1,
   "id": "planned-details",
   "metadata": {},
   "outputs": [],
   "source": [
    "import pandas as pd\n",
    "from matplotlib import pyplot as plt\n",
    "from pathlib import Path"
   ]
  },
  {
   "cell_type": "markdown",
   "id": "inappropriate-memphis",
   "metadata": {},
   "source": [
    "### Meet your data\n",
    "\n",
    "The data, as made available by Anderson and Daniels, is in two separate tables. One table has a row for each *character,* and lists the character's gender, along with their age, and the number of words they speak in the movie.\n"
   ]
  },
  {
   "cell_type": "code",
   "execution_count": 2,
   "id": "attended-buddy",
   "metadata": {},
   "outputs": [
    {
     "data": {
      "text/html": [
       "<div>\n",
       "<style scoped>\n",
       "    .dataframe tbody tr th:only-of-type {\n",
       "        vertical-align: middle;\n",
       "    }\n",
       "\n",
       "    .dataframe tbody tr th {\n",
       "        vertical-align: top;\n",
       "    }\n",
       "\n",
       "    .dataframe thead th {\n",
       "        text-align: right;\n",
       "    }\n",
       "</style>\n",
       "<table border=\"1\" class=\"dataframe\">\n",
       "  <thead>\n",
       "    <tr style=\"text-align: right;\">\n",
       "      <th></th>\n",
       "      <th>script_id</th>\n",
       "      <th>imdb_character_name</th>\n",
       "      <th>words</th>\n",
       "      <th>gender</th>\n",
       "      <th>age</th>\n",
       "    </tr>\n",
       "  </thead>\n",
       "  <tbody>\n",
       "    <tr>\n",
       "      <th>0</th>\n",
       "      <td>280</td>\n",
       "      <td>betty</td>\n",
       "      <td>311</td>\n",
       "      <td>f</td>\n",
       "      <td>35.0</td>\n",
       "    </tr>\n",
       "    <tr>\n",
       "      <th>1</th>\n",
       "      <td>280</td>\n",
       "      <td>carolyn johnson</td>\n",
       "      <td>873</td>\n",
       "      <td>f</td>\n",
       "      <td>NaN</td>\n",
       "    </tr>\n",
       "    <tr>\n",
       "      <th>2</th>\n",
       "      <td>280</td>\n",
       "      <td>eleanor</td>\n",
       "      <td>138</td>\n",
       "      <td>f</td>\n",
       "      <td>NaN</td>\n",
       "    </tr>\n",
       "    <tr>\n",
       "      <th>3</th>\n",
       "      <td>280</td>\n",
       "      <td>francesca johns</td>\n",
       "      <td>2251</td>\n",
       "      <td>f</td>\n",
       "      <td>46.0</td>\n",
       "    </tr>\n",
       "    <tr>\n",
       "      <th>4</th>\n",
       "      <td>280</td>\n",
       "      <td>madge</td>\n",
       "      <td>190</td>\n",
       "      <td>f</td>\n",
       "      <td>46.0</td>\n",
       "    </tr>\n",
       "  </tbody>\n",
       "</table>\n",
       "</div>"
      ],
      "text/plain": [
       "   script_id imdb_character_name  words gender   age\n",
       "0        280               betty    311      f  35.0\n",
       "1        280     carolyn johnson    873      f   NaN\n",
       "2        280             eleanor    138      f   NaN\n",
       "3        280     francesca johns   2251      f  46.0\n",
       "4        280               madge    190      f  46.0"
      ]
     },
     "execution_count": 2,
     "metadata": {},
     "output_type": "execute_result"
    }
   ],
   "source": [
    "charpath = Path('../../data/pudding/pudding_characters.csv')\n",
    "chars = pd.read_csv(charpath, encoding = 'utf-8')\n",
    "chars.head()"
   ]
  },
  {
   "cell_type": "code",
   "execution_count": 3,
   "id": "above-stream",
   "metadata": {},
   "outputs": [
    {
     "data": {
      "text/plain": [
       "(23048, 5)"
      ]
     },
     "execution_count": 3,
     "metadata": {},
     "output_type": "execute_result"
    }
   ],
   "source": [
    "chars.shape"
   ]
  },
  {
   "cell_type": "markdown",
   "id": "olympic-party",
   "metadata": {},
   "source": [
    "When you first load a dataset, it's often a good idea to look at its ```.head()``` and ```.shape```. You might also get summary statistics using ```.describe()```."
   ]
  },
  {
   "cell_type": "code",
   "execution_count": 4,
   "id": "unexpected-chambers",
   "metadata": {},
   "outputs": [
    {
     "data": {
      "text/html": [
       "<div>\n",
       "<style scoped>\n",
       "    .dataframe tbody tr th:only-of-type {\n",
       "        vertical-align: middle;\n",
       "    }\n",
       "\n",
       "    .dataframe tbody tr th {\n",
       "        vertical-align: top;\n",
       "    }\n",
       "\n",
       "    .dataframe thead th {\n",
       "        text-align: right;\n",
       "    }\n",
       "</style>\n",
       "<table border=\"1\" class=\"dataframe\">\n",
       "  <thead>\n",
       "    <tr style=\"text-align: right;\">\n",
       "      <th></th>\n",
       "      <th>script_id</th>\n",
       "      <th>imdb_character_name</th>\n",
       "      <th>words</th>\n",
       "      <th>gender</th>\n",
       "      <th>age</th>\n",
       "    </tr>\n",
       "  </thead>\n",
       "  <tbody>\n",
       "    <tr>\n",
       "      <th>count</th>\n",
       "      <td>23048.000000</td>\n",
       "      <td>23046</td>\n",
       "      <td>23048.000000</td>\n",
       "      <td>23048</td>\n",
       "      <td>18263.000000</td>\n",
       "    </tr>\n",
       "    <tr>\n",
       "      <th>unique</th>\n",
       "      <td>NaN</td>\n",
       "      <td>17613</td>\n",
       "      <td>NaN</td>\n",
       "      <td>3</td>\n",
       "      <td>NaN</td>\n",
       "    </tr>\n",
       "    <tr>\n",
       "      <th>top</th>\n",
       "      <td>NaN</td>\n",
       "      <td>doctor</td>\n",
       "      <td>NaN</td>\n",
       "      <td>m</td>\n",
       "      <td>NaN</td>\n",
       "    </tr>\n",
       "    <tr>\n",
       "      <th>freq</th>\n",
       "      <td>NaN</td>\n",
       "      <td>36</td>\n",
       "      <td>NaN</td>\n",
       "      <td>16132</td>\n",
       "      <td>NaN</td>\n",
       "    </tr>\n",
       "    <tr>\n",
       "      <th>mean</th>\n",
       "      <td>4194.784623</td>\n",
       "      <td>NaN</td>\n",
       "      <td>907.871486</td>\n",
       "      <td>NaN</td>\n",
       "      <td>42.382960</td>\n",
       "    </tr>\n",
       "    <tr>\n",
       "      <th>std</th>\n",
       "      <td>2472.985787</td>\n",
       "      <td>NaN</td>\n",
       "      <td>1399.593759</td>\n",
       "      <td>NaN</td>\n",
       "      <td>59.718859</td>\n",
       "    </tr>\n",
       "    <tr>\n",
       "      <th>min</th>\n",
       "      <td>280.000000</td>\n",
       "      <td>NaN</td>\n",
       "      <td>101.000000</td>\n",
       "      <td>NaN</td>\n",
       "      <td>3.000000</td>\n",
       "    </tr>\n",
       "    <tr>\n",
       "      <th>25%</th>\n",
       "      <td>2095.000000</td>\n",
       "      <td>NaN</td>\n",
       "      <td>193.000000</td>\n",
       "      <td>NaN</td>\n",
       "      <td>30.000000</td>\n",
       "    </tr>\n",
       "    <tr>\n",
       "      <th>50%</th>\n",
       "      <td>3694.000000</td>\n",
       "      <td>NaN</td>\n",
       "      <td>396.000000</td>\n",
       "      <td>NaN</td>\n",
       "      <td>39.000000</td>\n",
       "    </tr>\n",
       "    <tr>\n",
       "      <th>75%</th>\n",
       "      <td>6219.750000</td>\n",
       "      <td>NaN</td>\n",
       "      <td>980.000000</td>\n",
       "      <td>NaN</td>\n",
       "      <td>50.000000</td>\n",
       "    </tr>\n",
       "    <tr>\n",
       "      <th>max</th>\n",
       "      <td>9254.000000</td>\n",
       "      <td>NaN</td>\n",
       "      <td>28102.000000</td>\n",
       "      <td>NaN</td>\n",
       "      <td>2013.000000</td>\n",
       "    </tr>\n",
       "  </tbody>\n",
       "</table>\n",
       "</div>"
      ],
      "text/plain": [
       "           script_id imdb_character_name         words gender           age\n",
       "count   23048.000000               23046  23048.000000  23048  18263.000000\n",
       "unique           NaN               17613           NaN      3           NaN\n",
       "top              NaN              doctor           NaN      m           NaN\n",
       "freq             NaN                  36           NaN  16132           NaN\n",
       "mean     4194.784623                 NaN    907.871486    NaN     42.382960\n",
       "std      2472.985787                 NaN   1399.593759    NaN     59.718859\n",
       "min       280.000000                 NaN    101.000000    NaN      3.000000\n",
       "25%      2095.000000                 NaN    193.000000    NaN     30.000000\n",
       "50%      3694.000000                 NaN    396.000000    NaN     39.000000\n",
       "75%      6219.750000                 NaN    980.000000    NaN     50.000000\n",
       "max      9254.000000                 NaN  28102.000000    NaN   2013.000000"
      ]
     },
     "execution_count": 4,
     "metadata": {},
     "output_type": "execute_result"
    }
   ],
   "source": [
    "chars.describe(include = 'all')"
   ]
  },
  {
   "cell_type": "markdown",
   "id": "false-understanding",
   "metadata": {},
   "source": [
    "Do you notice anything strange about the maximum age of the characters?\n",
    "\n",
    "Some of them are rather old."
   ]
  },
  {
   "cell_type": "markdown",
   "id": "reported-treatment",
   "metadata": {},
   "source": [
    "#### EXERCISE 1\n",
    "\n",
    "Working in pairs or groups of three, find how many characters are more than a thousand years old. Look at the names of all characters older than 1000 to see if there is some valid reason for this. (Like, is the character named \"Vampire King\" or \"The Ancient Dragon\"? Or does the age seem more likely to be a data entry error?) \n",
    "Remove all characters older than 1000 unless there is some obvious justification for their advanced age."
   ]
  },
  {
   "cell_type": "code",
   "execution_count": 5,
   "id": "consistent-tolerance",
   "metadata": {},
   "outputs": [],
   "source": [
    "# code goes here"
   ]
  },
  {
   "cell_type": "markdown",
   "id": "urban-float",
   "metadata": {},
   "source": [
    "After you're done removing people who are more than a thousand years old with no obvious excluse, the descriptive statistics should look more like this:"
   ]
  },
  {
   "cell_type": "code",
   "execution_count": 9,
   "id": "secure-public",
   "metadata": {},
   "outputs": [
    {
     "data": {
      "text/html": [
       "<div>\n",
       "<style scoped>\n",
       "    .dataframe tbody tr th:only-of-type {\n",
       "        vertical-align: middle;\n",
       "    }\n",
       "\n",
       "    .dataframe tbody tr th {\n",
       "        vertical-align: top;\n",
       "    }\n",
       "\n",
       "    .dataframe thead th {\n",
       "        text-align: right;\n",
       "    }\n",
       "</style>\n",
       "<table border=\"1\" class=\"dataframe\">\n",
       "  <thead>\n",
       "    <tr style=\"text-align: right;\">\n",
       "      <th></th>\n",
       "      <th>script_id</th>\n",
       "      <th>imdb_character_name</th>\n",
       "      <th>words</th>\n",
       "      <th>gender</th>\n",
       "      <th>age</th>\n",
       "    </tr>\n",
       "  </thead>\n",
       "  <tbody>\n",
       "    <tr>\n",
       "      <th>count</th>\n",
       "      <td>23032.000000</td>\n",
       "      <td>23030</td>\n",
       "      <td>23032.000000</td>\n",
       "      <td>23032</td>\n",
       "      <td>18247.000000</td>\n",
       "    </tr>\n",
       "    <tr>\n",
       "      <th>unique</th>\n",
       "      <td>NaN</td>\n",
       "      <td>17601</td>\n",
       "      <td>NaN</td>\n",
       "      <td>3</td>\n",
       "      <td>NaN</td>\n",
       "    </tr>\n",
       "    <tr>\n",
       "      <th>top</th>\n",
       "      <td>NaN</td>\n",
       "      <td>doctor</td>\n",
       "      <td>NaN</td>\n",
       "      <td>m</td>\n",
       "      <td>NaN</td>\n",
       "    </tr>\n",
       "    <tr>\n",
       "      <th>freq</th>\n",
       "      <td>NaN</td>\n",
       "      <td>36</td>\n",
       "      <td>NaN</td>\n",
       "      <td>16120</td>\n",
       "      <td>NaN</td>\n",
       "    </tr>\n",
       "    <tr>\n",
       "      <th>mean</th>\n",
       "      <td>4195.230245</td>\n",
       "      <td>NaN</td>\n",
       "      <td>908.359587</td>\n",
       "      <td>NaN</td>\n",
       "      <td>40.666466</td>\n",
       "    </tr>\n",
       "    <tr>\n",
       "      <th>std</th>\n",
       "      <td>2473.302275</td>\n",
       "      <td>NaN</td>\n",
       "      <td>1399.955122</td>\n",
       "      <td>NaN</td>\n",
       "      <td>14.358053</td>\n",
       "    </tr>\n",
       "    <tr>\n",
       "      <th>min</th>\n",
       "      <td>280.000000</td>\n",
       "      <td>NaN</td>\n",
       "      <td>101.000000</td>\n",
       "      <td>NaN</td>\n",
       "      <td>3.000000</td>\n",
       "    </tr>\n",
       "    <tr>\n",
       "      <th>25%</th>\n",
       "      <td>2095.000000</td>\n",
       "      <td>NaN</td>\n",
       "      <td>193.000000</td>\n",
       "      <td>NaN</td>\n",
       "      <td>30.000000</td>\n",
       "    </tr>\n",
       "    <tr>\n",
       "      <th>50%</th>\n",
       "      <td>3694.000000</td>\n",
       "      <td>NaN</td>\n",
       "      <td>397.000000</td>\n",
       "      <td>NaN</td>\n",
       "      <td>39.000000</td>\n",
       "    </tr>\n",
       "    <tr>\n",
       "      <th>75%</th>\n",
       "      <td>6234.000000</td>\n",
       "      <td>NaN</td>\n",
       "      <td>981.250000</td>\n",
       "      <td>NaN</td>\n",
       "      <td>50.000000</td>\n",
       "    </tr>\n",
       "    <tr>\n",
       "      <th>max</th>\n",
       "      <td>9254.000000</td>\n",
       "      <td>NaN</td>\n",
       "      <td>28102.000000</td>\n",
       "      <td>NaN</td>\n",
       "      <td>102.000000</td>\n",
       "    </tr>\n",
       "  </tbody>\n",
       "</table>\n",
       "</div>"
      ],
      "text/plain": [
       "           script_id imdb_character_name         words gender           age\n",
       "count   23032.000000               23030  23032.000000  23032  18247.000000\n",
       "unique           NaN               17601           NaN      3           NaN\n",
       "top              NaN              doctor           NaN      m           NaN\n",
       "freq             NaN                  36           NaN  16120           NaN\n",
       "mean     4195.230245                 NaN    908.359587    NaN     40.666466\n",
       "std      2473.302275                 NaN   1399.955122    NaN     14.358053\n",
       "min       280.000000                 NaN    101.000000    NaN      3.000000\n",
       "25%      2095.000000                 NaN    193.000000    NaN     30.000000\n",
       "50%      3694.000000                 NaN    397.000000    NaN     39.000000\n",
       "75%      6234.000000                 NaN    981.250000    NaN     50.000000\n",
       "max      9254.000000                 NaN  28102.000000    NaN    102.000000"
      ]
     },
     "execution_count": 9,
     "metadata": {},
     "output_type": "execute_result"
    }
   ],
   "source": [
    "chars.describe(include = 'all')"
   ]
  },
  {
   "cell_type": "markdown",
   "id": "conscious-hawaii",
   "metadata": {},
   "source": [
    "#### QUESTIONS\n",
    "\n",
    "**1) Why did the mean age change much more than the median (that's to say, the 50% value for age)?**"
   ]
  },
  {
   "cell_type": "markdown",
   "id": "empirical-remains",
   "metadata": {},
   "source": [
    "**2) There are some interesting questions about the way this data was generated.** \"Age\" really means the age of the actor who was portraying a character; it's not necessarily the fictive age of the character, which is often not specified. \n",
    "\n",
    "Gender was determined in the same way: it's the gender identification of the actor who portrayed a character. What limitations does this approach have? What other approaches could you take, and what advantages or disadvantages would *they* have?\n",
    "\n",
    "-------\n",
    "\n",
    "These are legitimate questions, but there are even bigger questions about this data. It has strong selection biases (e.g., it relies on digitized scripts), and we would need to investigate those biases before we could confidently affirm that generalizations about this data reflect the real history of film, even in North America. But we don't need to affirm that. Our goal here is not to make claims about film history! For the moment, it is just to practice inferential statistics with pandas. \n",
    "\n",
    "If you wonder how much this data does reflect the real world, you can consult [the project's FAQ page,](https://medium.com/@matthew_daniels/faq-for-the-film-dialogue-by-gender-project-40078209f751) where Daniels bravely faces \"death from a thousand nitpicks.\"\n",
    "\n",
    "We've looked at a table of characters. There's also a second table of films. This has a row for each movie (```script_id```) and lists titles, along with release year and gross, in inflation-adjusted millions of dollars."
   ]
  },
  {
   "cell_type": "code",
   "execution_count": 10,
   "id": "colonial-collector",
   "metadata": {},
   "outputs": [
    {
     "data": {
      "text/html": [
       "<div>\n",
       "<style scoped>\n",
       "    .dataframe tbody tr th:only-of-type {\n",
       "        vertical-align: middle;\n",
       "    }\n",
       "\n",
       "    .dataframe tbody tr th {\n",
       "        vertical-align: top;\n",
       "    }\n",
       "\n",
       "    .dataframe thead th {\n",
       "        text-align: right;\n",
       "    }\n",
       "</style>\n",
       "<table border=\"1\" class=\"dataframe\">\n",
       "  <thead>\n",
       "    <tr style=\"text-align: right;\">\n",
       "      <th></th>\n",
       "      <th>script_id</th>\n",
       "      <th>imdb_id</th>\n",
       "      <th>title</th>\n",
       "      <th>year</th>\n",
       "      <th>gross</th>\n",
       "      <th>lines_data</th>\n",
       "    </tr>\n",
       "  </thead>\n",
       "  <tbody>\n",
       "    <tr>\n",
       "      <th>0</th>\n",
       "      <td>1534</td>\n",
       "      <td>tt1022603</td>\n",
       "      <td>(500) Days of Summer</td>\n",
       "      <td>2009</td>\n",
       "      <td>37.0</td>\n",
       "      <td>7435445256774780000000000000000000000000000000...</td>\n",
       "    </tr>\n",
       "    <tr>\n",
       "      <th>1</th>\n",
       "      <td>1512</td>\n",
       "      <td>tt0147800</td>\n",
       "      <td>10 Things I Hate About You</td>\n",
       "      <td>1999</td>\n",
       "      <td>65.0</td>\n",
       "      <td>1777752320274530000000000000000000000000000000...</td>\n",
       "    </tr>\n",
       "    <tr>\n",
       "      <th>2</th>\n",
       "      <td>1514</td>\n",
       "      <td>tt0417385</td>\n",
       "      <td>12 and Holding</td>\n",
       "      <td>2005</td>\n",
       "      <td>NaN</td>\n",
       "      <td>5461357777754220000000000000000000000000000000...</td>\n",
       "    </tr>\n",
       "    <tr>\n",
       "      <th>3</th>\n",
       "      <td>1517</td>\n",
       "      <td>tt2024544</td>\n",
       "      <td>12 Years a Slave</td>\n",
       "      <td>2013</td>\n",
       "      <td>60.0</td>\n",
       "      <td>4567334777777780000000000000000000000000000000...</td>\n",
       "    </tr>\n",
       "    <tr>\n",
       "      <th>4</th>\n",
       "      <td>1520</td>\n",
       "      <td>tt1542344</td>\n",
       "      <td>127 Hours</td>\n",
       "      <td>2010</td>\n",
       "      <td>20.0</td>\n",
       "      <td>453513352345766000000000000000</td>\n",
       "    </tr>\n",
       "  </tbody>\n",
       "</table>\n",
       "</div>"
      ],
      "text/plain": [
       "   script_id    imdb_id                       title  year  gross  \\\n",
       "0       1534  tt1022603        (500) Days of Summer  2009   37.0   \n",
       "1       1512  tt0147800  10 Things I Hate About You  1999   65.0   \n",
       "2       1514  tt0417385              12 and Holding  2005    NaN   \n",
       "3       1517  tt2024544            12 Years a Slave  2013   60.0   \n",
       "4       1520  tt1542344                   127 Hours  2010   20.0   \n",
       "\n",
       "                                          lines_data  \n",
       "0  7435445256774780000000000000000000000000000000...  \n",
       "1  1777752320274530000000000000000000000000000000...  \n",
       "2  5461357777754220000000000000000000000000000000...  \n",
       "3  4567334777777780000000000000000000000000000000...  \n",
       "4                     453513352345766000000000000000  "
      ]
     },
     "execution_count": 10,
     "metadata": {},
     "output_type": "execute_result"
    }
   ],
   "source": [
    "moviepath = Path('../../data/pudding/pudding_movies.csv')\n",
    "movies = pd.read_csv(moviepath, encoding = 'utf-8')\n",
    "movies.head()"
   ]
  },
  {
   "cell_type": "markdown",
   "id": "cubic-publicity",
   "metadata": {},
   "source": [
    "Ignore ```lines_data```; it's an idiosyncratic way to represent changing gender proportions across script time.\n",
    "In fact, let's drop that column."
   ]
  },
  {
   "cell_type": "code",
   "execution_count": 11,
   "id": "received-switzerland",
   "metadata": {},
   "outputs": [],
   "source": [
    "movies = movies.drop(columns='lines_data')"
   ]
  },
  {
   "cell_type": "markdown",
   "id": "responsible-workplace",
   "metadata": {},
   "source": [
    "## Selecting subsets of a data frame\n",
    "\n",
    "Part of this was covered in Melanie Walsh's introduction to Pandas, but let's review quickly, and go a little further. I encourage you to change the string values in the following code, and experiment with selecting different films.\n",
    "\n",
    "First, let's select a column."
   ]
  },
  {
   "cell_type": "code",
   "execution_count": 12,
   "id": "quality-layer",
   "metadata": {},
   "outputs": [
    {
     "data": {
      "text/plain": [
       "0             (500) Days of Summer\n",
       "1       10 Things I Hate About You\n",
       "2                   12 and Holding\n",
       "3                 12 Years a Slave\n",
       "4                        127 Hours\n",
       "                   ...            \n",
       "1995               Youth in Revolt\n",
       "1996              Zero Dark Thirty\n",
       "1997                   Zero Effect\n",
       "1998                    Zerophilia\n",
       "1999                        Zodiac\n",
       "Name: title, Length: 2000, dtype: object"
      ]
     },
     "execution_count": 12,
     "metadata": {},
     "output_type": "execute_result"
    }
   ],
   "source": [
    "movies['title']"
   ]
  },
  {
   "cell_type": "markdown",
   "id": "certified-tsunami",
   "metadata": {},
   "source": [
    "Now select rows, using the 'filter' technique that Walsh demonstrates."
   ]
  },
  {
   "cell_type": "code",
   "execution_count": 13,
   "id": "regulated-priest",
   "metadata": {},
   "outputs": [
    {
     "data": {
      "text/html": [
       "<div>\n",
       "<style scoped>\n",
       "    .dataframe tbody tr th:only-of-type {\n",
       "        vertical-align: middle;\n",
       "    }\n",
       "\n",
       "    .dataframe tbody tr th {\n",
       "        vertical-align: top;\n",
       "    }\n",
       "\n",
       "    .dataframe thead th {\n",
       "        text-align: right;\n",
       "    }\n",
       "</style>\n",
       "<table border=\"1\" class=\"dataframe\">\n",
       "  <thead>\n",
       "    <tr style=\"text-align: right;\">\n",
       "      <th></th>\n",
       "      <th>script_id</th>\n",
       "      <th>imdb_id</th>\n",
       "      <th>title</th>\n",
       "      <th>year</th>\n",
       "      <th>gross</th>\n",
       "    </tr>\n",
       "  </thead>\n",
       "  <tbody>\n",
       "    <tr>\n",
       "      <th>1690</th>\n",
       "      <td>1141</td>\n",
       "      <td>tt0133093</td>\n",
       "      <td>The Matrix</td>\n",
       "      <td>1999</td>\n",
       "      <td>292.0</td>\n",
       "    </tr>\n",
       "  </tbody>\n",
       "</table>\n",
       "</div>"
      ],
      "text/plain": [
       "      script_id    imdb_id       title  year  gross\n",
       "1690       1141  tt0133093  The Matrix  1999  292.0"
      ]
     },
     "execution_count": 13,
     "metadata": {},
     "output_type": "execute_result"
    }
   ],
   "source": [
    "matrix_title_filter = movies['title'] == 'The Matrix'\n",
    "movies[matrix_title_filter]"
   ]
  },
  {
   "cell_type": "markdown",
   "id": "joint-particle",
   "metadata": {},
   "source": [
    "Now we that we have the script_id for *The Matrix,* we can select characters from that movie, necause there's also a ```script_id``` column in the ```chars``` data frame.\n",
    "\n",
    "#### EXERCISE 2\n",
    "\n",
    "Find all the characters in the ```chars``` data frame who appear in *The Matrix*."
   ]
  },
  {
   "cell_type": "code",
   "execution_count": 1,
   "id": "excessive-carter",
   "metadata": {},
   "outputs": [],
   "source": [
    "# code goes here"
   ]
  },
  {
   "cell_type": "markdown",
   "id": "rental-mainstream",
   "metadata": {},
   "source": [
    "### Using .loc to select by row and column at once\n",
    "\n",
    "Suppose we want to write code that will do what you did above for *The Matrix*--but do it automatically, for any movie title.\n",
    "\n",
    "That is, we want to\n",
    "\n",
    "1) allow a user to input a movie title,\n",
    "\n",
    "2) get the script id for that movie from the movie dataframe, and\n",
    "\n",
    "3) select characters matching the script id from the chars dataframe.\n",
    "\n",
    "In order to do that, we need a way to do what you did visually by selecting the script_id from the row for *The Matrix*. In other words, we need to limit by row and column at the same time."
   ]
  },
  {
   "cell_type": "markdown",
   "id": "inner-dominican",
   "metadata": {},
   "source": [
    "Dataframes have a method ```.loc,``` for \"location,\" that allows you to do this. Unlike most Pandas methods, it takes square brackets (not parentheses). Inside the brackets, the first element specifies row(s), the second column(s). We can get both the title and script id:"
   ]
  },
  {
   "cell_type": "code",
   "execution_count": 15,
   "id": "dynamic-colleague",
   "metadata": {},
   "outputs": [
    {
     "data": {
      "text/html": [
       "<div>\n",
       "<style scoped>\n",
       "    .dataframe tbody tr th:only-of-type {\n",
       "        vertical-align: middle;\n",
       "    }\n",
       "\n",
       "    .dataframe tbody tr th {\n",
       "        vertical-align: top;\n",
       "    }\n",
       "\n",
       "    .dataframe thead th {\n",
       "        text-align: right;\n",
       "    }\n",
       "</style>\n",
       "<table border=\"1\" class=\"dataframe\">\n",
       "  <thead>\n",
       "    <tr style=\"text-align: right;\">\n",
       "      <th></th>\n",
       "      <th>title</th>\n",
       "      <th>script_id</th>\n",
       "    </tr>\n",
       "  </thead>\n",
       "  <tbody>\n",
       "    <tr>\n",
       "      <th>1313</th>\n",
       "      <td>Slumdog Millionaire</td>\n",
       "      <td>3365</td>\n",
       "    </tr>\n",
       "  </tbody>\n",
       "</table>\n",
       "</div>"
      ],
      "text/plain": [
       "                    title  script_id\n",
       "1313  Slumdog Millionaire       3365"
      ]
     },
     "execution_count": 15,
     "metadata": {},
     "output_type": "execute_result"
    }
   ],
   "source": [
    "movies.loc[movies['title'] == 'Slumdog Millionaire', ['title', 'script_id']]"
   ]
  },
  {
   "cell_type": "markdown",
   "id": "negative-atlantic",
   "metadata": {},
   "source": [
    "Or just the script id:"
   ]
  },
  {
   "cell_type": "code",
   "execution_count": 16,
   "id": "numerical-conservative",
   "metadata": {},
   "outputs": [
    {
     "name": "stdout",
     "output_type": "stream",
     "text": [
      "1313    3365\n",
      "Name: script_id, dtype: int64\n"
     ]
    }
   ],
   "source": [
    "script_id = movies.loc[movies['title'] == 'Slumdog Millionaire', 'script_id']\n",
    "print(script_id)"
   ]
  },
  {
   "cell_type": "markdown",
   "id": "danish-trace",
   "metadata": {},
   "source": [
    "Notice, however, that you can't do what you might expect to do with the result of .loc. The command below should create an error, although it may create different errors in different versions."
   ]
  },
  {
   "cell_type": "code",
   "execution_count": 17,
   "id": "defined-fluid",
   "metadata": {},
   "outputs": [
    {
     "ename": "ValueError",
     "evalue": "Can only compare identically-labeled Series objects",
     "output_type": "error",
     "traceback": [
      "\u001b[0;31m------------------------------------------------------------\u001b[0m",
      "\u001b[0;31mValueError\u001b[0m                 Traceback (most recent call last)",
      "\u001b[0;32m<ipython-input-17-a8138a76f5b3>\u001b[0m in \u001b[0;36m<module>\u001b[0;34m\u001b[0m\n\u001b[0;32m----> 1\u001b[0;31m \u001b[0mchars\u001b[0m\u001b[0;34m[\u001b[0m\u001b[0mchars\u001b[0m\u001b[0;34m[\u001b[0m\u001b[0;34m'script_id'\u001b[0m\u001b[0;34m]\u001b[0m \u001b[0;34m==\u001b[0m \u001b[0mscript_id\u001b[0m\u001b[0;34m]\u001b[0m\u001b[0;34m\u001b[0m\u001b[0;34m\u001b[0m\u001b[0m\n\u001b[0m",
      "\u001b[0;32m~/anaconda/anaconda3/lib/python3.7/site-packages/pandas/core/ops/common.py\u001b[0m in \u001b[0;36mnew_method\u001b[0;34m(self, other)\u001b[0m\n\u001b[1;32m     63\u001b[0m         \u001b[0mother\u001b[0m \u001b[0;34m=\u001b[0m \u001b[0mitem_from_zerodim\u001b[0m\u001b[0;34m(\u001b[0m\u001b[0mother\u001b[0m\u001b[0;34m)\u001b[0m\u001b[0;34m\u001b[0m\u001b[0;34m\u001b[0m\u001b[0m\n\u001b[1;32m     64\u001b[0m \u001b[0;34m\u001b[0m\u001b[0m\n\u001b[0;32m---> 65\u001b[0;31m         \u001b[0;32mreturn\u001b[0m \u001b[0mmethod\u001b[0m\u001b[0;34m(\u001b[0m\u001b[0mself\u001b[0m\u001b[0;34m,\u001b[0m \u001b[0mother\u001b[0m\u001b[0;34m)\u001b[0m\u001b[0;34m\u001b[0m\u001b[0;34m\u001b[0m\u001b[0m\n\u001b[0m\u001b[1;32m     66\u001b[0m \u001b[0;34m\u001b[0m\u001b[0m\n\u001b[1;32m     67\u001b[0m     \u001b[0;32mreturn\u001b[0m \u001b[0mnew_method\u001b[0m\u001b[0;34m\u001b[0m\u001b[0;34m\u001b[0m\u001b[0m\n",
      "\u001b[0;32m~/anaconda/anaconda3/lib/python3.7/site-packages/pandas/core/arraylike.py\u001b[0m in \u001b[0;36m__eq__\u001b[0;34m(self, other)\u001b[0m\n\u001b[1;32m     27\u001b[0m     \u001b[0;34m@\u001b[0m\u001b[0munpack_zerodim_and_defer\u001b[0m\u001b[0;34m(\u001b[0m\u001b[0;34m\"__eq__\"\u001b[0m\u001b[0;34m)\u001b[0m\u001b[0;34m\u001b[0m\u001b[0;34m\u001b[0m\u001b[0m\n\u001b[1;32m     28\u001b[0m     \u001b[0;32mdef\u001b[0m \u001b[0m__eq__\u001b[0m\u001b[0;34m(\u001b[0m\u001b[0mself\u001b[0m\u001b[0;34m,\u001b[0m \u001b[0mother\u001b[0m\u001b[0;34m)\u001b[0m\u001b[0;34m:\u001b[0m\u001b[0;34m\u001b[0m\u001b[0;34m\u001b[0m\u001b[0m\n\u001b[0;32m---> 29\u001b[0;31m         \u001b[0;32mreturn\u001b[0m \u001b[0mself\u001b[0m\u001b[0;34m.\u001b[0m\u001b[0m_cmp_method\u001b[0m\u001b[0;34m(\u001b[0m\u001b[0mother\u001b[0m\u001b[0;34m,\u001b[0m \u001b[0moperator\u001b[0m\u001b[0;34m.\u001b[0m\u001b[0meq\u001b[0m\u001b[0;34m)\u001b[0m\u001b[0;34m\u001b[0m\u001b[0;34m\u001b[0m\u001b[0m\n\u001b[0m\u001b[1;32m     30\u001b[0m \u001b[0;34m\u001b[0m\u001b[0m\n\u001b[1;32m     31\u001b[0m     \u001b[0;34m@\u001b[0m\u001b[0munpack_zerodim_and_defer\u001b[0m\u001b[0;34m(\u001b[0m\u001b[0;34m\"__ne__\"\u001b[0m\u001b[0;34m)\u001b[0m\u001b[0;34m\u001b[0m\u001b[0;34m\u001b[0m\u001b[0m\n",
      "\u001b[0;32m~/anaconda/anaconda3/lib/python3.7/site-packages/pandas/core/series.py\u001b[0m in \u001b[0;36m_cmp_method\u001b[0;34m(self, other, op)\u001b[0m\n\u001b[1;32m   4971\u001b[0m \u001b[0;34m\u001b[0m\u001b[0m\n\u001b[1;32m   4972\u001b[0m         \u001b[0;32mif\u001b[0m \u001b[0misinstance\u001b[0m\u001b[0;34m(\u001b[0m\u001b[0mother\u001b[0m\u001b[0;34m,\u001b[0m \u001b[0mSeries\u001b[0m\u001b[0;34m)\u001b[0m \u001b[0;32mand\u001b[0m \u001b[0;32mnot\u001b[0m \u001b[0mself\u001b[0m\u001b[0;34m.\u001b[0m\u001b[0m_indexed_same\u001b[0m\u001b[0;34m(\u001b[0m\u001b[0mother\u001b[0m\u001b[0;34m)\u001b[0m\u001b[0;34m:\u001b[0m\u001b[0;34m\u001b[0m\u001b[0;34m\u001b[0m\u001b[0m\n\u001b[0;32m-> 4973\u001b[0;31m             \u001b[0;32mraise\u001b[0m \u001b[0mValueError\u001b[0m\u001b[0;34m(\u001b[0m\u001b[0;34m\"Can only compare identically-labeled Series objects\"\u001b[0m\u001b[0;34m)\u001b[0m\u001b[0;34m\u001b[0m\u001b[0;34m\u001b[0m\u001b[0m\n\u001b[0m\u001b[1;32m   4974\u001b[0m \u001b[0;34m\u001b[0m\u001b[0m\n\u001b[1;32m   4975\u001b[0m         \u001b[0mlvalues\u001b[0m \u001b[0;34m=\u001b[0m \u001b[0mextract_array\u001b[0m\u001b[0;34m(\u001b[0m\u001b[0mself\u001b[0m\u001b[0;34m,\u001b[0m \u001b[0mextract_numpy\u001b[0m\u001b[0;34m=\u001b[0m\u001b[0;32mTrue\u001b[0m\u001b[0;34m)\u001b[0m\u001b[0;34m\u001b[0m\u001b[0;34m\u001b[0m\u001b[0m\n",
      "\u001b[0;31mValueError\u001b[0m: Can only compare identically-labeled Series objects"
     ]
    }
   ],
   "source": [
    "chars[chars['script_id'] == script_id]"
   ]
  },
  {
   "cell_type": "markdown",
   "id": "hispanic-gateway",
   "metadata": {},
   "source": [
    "The problem is that our variable ```script_id``` is not just an integer. It's actually a pandas Series. This means that it has an *index* as well as a value."
   ]
  },
  {
   "cell_type": "code",
   "execution_count": 18,
   "id": "deluxe-bench",
   "metadata": {},
   "outputs": [
    {
     "name": "stdout",
     "output_type": "stream",
     "text": [
      "<class 'pandas.core.series.Series'>\n",
      "Int64Index([1313], dtype='int64')\n"
     ]
    }
   ],
   "source": [
    "print(type(script_id))\n",
    "print(script_id.index)"
   ]
  },
  {
   "cell_type": "markdown",
   "id": "hungarian-straight",
   "metadata": {},
   "source": [
    "If we're only interested in the numeric value of the script id, we need to explicitly extract that."
   ]
  },
  {
   "cell_type": "code",
   "execution_count": 19,
   "id": "greenhouse-seventh",
   "metadata": {},
   "outputs": [
    {
     "name": "stdout",
     "output_type": "stream",
     "text": [
      "[3365]\n",
      "3365\n"
     ]
    }
   ],
   "source": [
    "print(script_id.values)\n",
    "print(script_id.values[0])"
   ]
  },
  {
   "cell_type": "markdown",
   "id": "documented-pantyhose",
   "metadata": {},
   "source": [
    "So this is the slightly complicated syntax for \"find all rows where the title is 'Slumdog Millionaire,' then give me the first script_id.\""
   ]
  },
  {
   "cell_type": "code",
   "execution_count": 20,
   "id": "secret-hundred",
   "metadata": {},
   "outputs": [
    {
     "data": {
      "text/plain": [
       "3365"
      ]
     },
     "execution_count": 20,
     "metadata": {},
     "output_type": "execute_result"
    }
   ],
   "source": [
    "movies.loc[movies['title'] == 'Slumdog Millionaire', 'script_id'].values[0]"
   ]
  },
  {
   "cell_type": "markdown",
   "id": "theoretical-great",
   "metadata": {},
   "source": [
    "Now you can write a block of code that\n",
    "\n",
    "1) allows a user to input a movie title,\n",
    "\n",
    "2) gets the script id for that movie from the movie dataframe, and\n",
    "\n",
    "3) selects characters matching the script id from the chars dataframe.\n",
    "\n",
    "#### EXERCISE 3:"
   ]
  },
  {
   "cell_type": "code",
   "execution_count": null,
   "id": "4cca0f5d-3b91-445c-ada3-14172ad57b70",
   "metadata": {},
   "outputs": [],
   "source": [
    "# code goes here"
   ]
  },
  {
   "cell_type": "markdown",
   "id": "boring-import",
   "metadata": {},
   "source": [
    "## Simple descriptive statistics and dataviz\n",
    "\n",
    "So, from Melanie Walsh's Introduction to Pandas, we already know how to generate simple descriptive statistics. For instance,"
   ]
  },
  {
   "cell_type": "code",
   "execution_count": 21,
   "id": "choice-establishment",
   "metadata": {},
   "outputs": [
    {
     "data": {
      "text/plain": [
       "count    18247.000000\n",
       "mean        40.666466\n",
       "std         14.358053\n",
       "min          3.000000\n",
       "25%         30.000000\n",
       "50%         39.000000\n",
       "75%         50.000000\n",
       "max        102.000000\n",
       "Name: age, dtype: float64"
      ]
     },
     "execution_count": 21,
     "metadata": {},
     "output_type": "execute_result"
    }
   ],
   "source": [
    "chars['age'].describe()"
   ]
  },
  {
   "cell_type": "markdown",
   "id": "nervous-transport",
   "metadata": {},
   "source": [
    "Tells us that there's some character in the data with an age of 2013. Whether a vampire or a data error I leave it to the reader to determine."
   ]
  },
  {
   "cell_type": "markdown",
   "id": "proprietary-income",
   "metadata": {},
   "source": [
    "We can also identify the number of men and women in the dataset as a whole:"
   ]
  },
  {
   "cell_type": "code",
   "execution_count": 22,
   "id": "departmental-hartford",
   "metadata": {},
   "outputs": [
    {
     "data": {
      "text/plain": [
       "m    16120\n",
       "f     6907\n",
       "?        5\n",
       "Name: gender, dtype: int64"
      ]
     },
     "execution_count": 22,
     "metadata": {},
     "output_type": "execute_result"
    }
   ],
   "source": [
    "chars['gender'].value_counts()"
   ]
  },
  {
   "cell_type": "markdown",
   "id": "consolidated-civilian",
   "metadata": {},
   "source": [
    "Pandas also has built-in dataviz functions that make it easy to generate simple graphs. For instance, it's easy to create a bar plot to visualize the table above. "
   ]
  },
  {
   "cell_type": "code",
   "execution_count": 23,
   "id": "waiting-breeding",
   "metadata": {},
   "outputs": [
    {
     "data": {
      "text/plain": [
       "<AxesSubplot:title={'center':'Gender proportions'}>"
      ]
     },
     "execution_count": 23,
     "metadata": {},
     "output_type": "execute_result"
    },
    {
     "data": {
      "image/png": "[encoded data removed]",
      "text/plain": [
       "<Figure size 432x288 with 1 Axes>"
      ]
     },
     "metadata": {
      "needs_background": "light"
     },
     "output_type": "display_data"
    }
   ],
   "source": [
    "chars['gender'].value_counts().plot(kind='bar', title='Gender proportions')"
   ]
  },
  {
   "cell_type": "markdown",
   "id": "adult-phrase",
   "metadata": {},
   "source": [
    "If we want to study the distribution of ages, a histogram makes it easy. You can specify the number of bins in the histogram. Notice also the ```pyplot``` function I'm using to set the title."
   ]
  },
  {
   "cell_type": "code",
   "execution_count": 24,
   "id": "super-football",
   "metadata": {},
   "outputs": [
    {
     "data": {
      "text/plain": [
       "Text(0.5, 1.0, 'Histogram of character ages')"
      ]
     },
     "execution_count": 24,
     "metadata": {},
     "output_type": "execute_result"
    },
    {
     "data": {
      "image/png": "[encoded data removed]",
      "text/plain": [
       "<Figure size 432x288 with 1 Axes>"
      ]
     },
     "metadata": {
      "needs_background": "light"
     },
     "output_type": "display_data"
    }
   ],
   "source": [
    "chars['age'].hist(bins = 25)\n",
    "plt.title('Histogram of character ages')"
   ]
  },
  {
   "cell_type": "markdown",
   "id": "direct-serial",
   "metadata": {},
   "source": [
    "#### EXERCISE 4:\n",
    "\n",
    "Generate two different histograms, visualizing age distribution for men and for women.\n",
    "\n",
    "First for women:"
   ]
  },
  {
   "cell_type": "code",
   "execution_count": 2,
   "id": "ranking-tattoo",
   "metadata": {},
   "outputs": [],
   "source": [
    "# code goes here"
   ]
  },
  {
   "cell_type": "markdown",
   "id": "reserved-harvest",
   "metadata": {},
   "source": [
    "and for men:"
   ]
  },
  {
   "cell_type": "code",
   "execution_count": 3,
   "id": "synthetic-lebanon",
   "metadata": {},
   "outputs": [],
   "source": [
    "# code goes here"
   ]
  },
  {
   "cell_type": "markdown",
   "id": "documented-float",
   "metadata": {},
   "source": [
    "### Inferential statistics: how to test a difference of means\n",
    "\n",
    "Those distributions look a little different visually, but seem to be centered *roughly* in the same place (roughly, our thirties or early forties). Are they significantly different, or could the differences be explained by chance? One simple way to pose this question is to ask how likely it is that these two samples came from populations with the same age distribution. Or to put it a little more narrowly: how likely is it that they came from populations with the same mean age?\n",
    "\n",
    "The Python for this test is very simple: it's called a \"t test,\" and we could do it in one line of code. But I don't want to just rehearse a formula here; I'd like to review the mental model we're applying when we perform a statistical test of this kind.\n",
    "\n",
    "H<sub>0</sub> (null hypothesis): the mean age for male characters (in the whole population) is the same as for women.\n",
    "\n",
    "H<sub>A</sub> (alternative hypothesis): the mean age for women is different than for men.\n",
    "\n",
    "We can already guess that \"different\" here is likely to mean \"female characters are younger on average,\" but since I didn't formulate a specific directional hypothesis before inspecting the data I'm going to be conservative and make this a \"two-tailed\" test, which means that we're going to consider the probability that random sampling variation would produce a difference of means equal to the observed one in *either* direction. We'll be unable to dismiss the null hypothesis if that probability is .05 or higher.\n",
    "\n",
    "So first of all, what actually is the size of the difference between sample means?"
   ]
  },
  {
   "cell_type": "code",
   "execution_count": 27,
   "id": "certain-corner",
   "metadata": {},
   "outputs": [
    {
     "data": {
      "text/plain": [
       "count    12751.000000\n",
       "mean        42.669908\n",
       "std         14.082256\n",
       "min          3.000000\n",
       "25%         33.000000\n",
       "50%         42.000000\n",
       "75%         52.000000\n",
       "max        102.000000\n",
       "Name: age, dtype: float64"
      ]
     },
     "execution_count": 27,
     "metadata": {},
     "output_type": "execute_result"
    }
   ],
   "source": [
    "chars.loc[chars['gender'] == 'm', 'age'].describe()"
   ]
  },
  {
   "cell_type": "code",
   "execution_count": 28,
   "id": "chubby-president",
   "metadata": {},
   "outputs": [
    {
     "data": {
      "text/plain": [
       "count    5494.000000\n",
       "mean       36.000910\n",
       "std        13.881183\n",
       "min         4.000000\n",
       "25%        26.000000\n",
       "50%        33.000000\n",
       "75%        43.000000\n",
       "max        92.000000\n",
       "Name: age, dtype: float64"
      ]
     },
     "execution_count": 28,
     "metadata": {},
     "output_type": "execute_result"
    }
   ],
   "source": [
    "chars.loc[chars['gender'] == 'f', 'age'].describe()"
   ]
  },
  {
   "cell_type": "markdown",
   "id": "serious-metro",
   "metadata": {},
   "source": [
    "The difference between ~42.67 and 36 is approximately 6.67 years.\n",
    "\n",
    "How often would that difference occur by chance, if both samples were drawn from a population with the same age distribution?\n",
    "\n",
    "We could use statistical formulas here, but to give you an intuitive sense of what's actually happening, let's simulate the *sampling distribution* of the mean ages we would get if gender made no difference in age. In that case our our \"ages of men\" and \"ages of women\" would simply be two random samples drawn from the same underlying population, \"ages of all characters.\" There would still be some difference in their means. How often would that difference be equal to or larger than 6.7 years?\n",
    "\n",
    "Of course, we can't really sample all characters in film. We don't have a list of all characters! But it turns out that you can get a very good simulation of sampling variation in a population by randomly *resampling* an existing sample. \n",
    "\n",
    "There are a variety of ways to do the resampling; here we're going to do a \"permutation test.\" We'll combine the ages of all characters into a single pool. \n",
    "\n",
    "We're going to exclude characters with ```NaN``` as their age. Notice that when we combine two Boolean conditions in Pandas, we need to surround each one with parentheses."
   ]
  },
  {
   "cell_type": "code",
   "execution_count": 29,
   "id": "mounted-artist",
   "metadata": {},
   "outputs": [
    {
     "name": "stdout",
     "output_type": "stream",
     "text": [
      "We have  5494  women and  12751  men in our data.\n"
     ]
    }
   ],
   "source": [
    "mensages = chars.loc[(chars['gender'] == 'm') & (chars['age'].notna()), 'age']\n",
    "womensages = chars.loc[(chars['gender'] == 'f') & (chars['age'].notna()), 'age']\n",
    "print('We have ', len(womensages), ' women and ', len(mensages), ' men in our data.')\n",
    "charactersages = womensages.append(mensages)  # Note that we're appending Series rather than lists\n",
    "                                              # If these were regular lists, you'd need to \"extend\" instead."
   ]
  },
  {
   "cell_type": "markdown",
   "id": "contemporary-assist",
   "metadata": {},
   "source": [
    "Now we can simulate what would happen if the ages of men and women were drawn from the same distribution. \n",
    "\n",
    "We'll reshuffle the pool ten thousand times. Each time, we'll divide it into two random groups (since in this simulation, gender makes no difference to age distribution). We'll call the first 5,494 ages \"women\" and the next 12,751 \"men.\" Finally, we'll take the difference of means between the two groups, and keep track of all the differences we get. We'll get thousand differences! How will they be distributed?"
   ]
  },
  {
   "cell_type": "code",
   "execution_count": 30,
   "id": "stuffed-surgery",
   "metadata": {},
   "outputs": [
    {
     "data": {
      "text/plain": [
       "[<matplotlib.lines.Line2D at 0x7fa7e8a63790>]"
      ]
     },
     "execution_count": 30,
     "metadata": {},
     "output_type": "execute_result"
    },
    {
     "data": {
      "image/png": "[encoded data removed]",
      "text/plain": [
       "<Figure size 432x288 with 1 Axes>"
      ]
     },
     "metadata": {
      "needs_background": "light"
     },
     "output_type": "display_data"
    }
   ],
   "source": [
    "tenthousanddiffs = []\n",
    "\n",
    "division = len(womensages)\n",
    "\n",
    "for i in range(10000):\n",
    "    thissample = charactersages.sample(frac = 1.0, replace = False)  # frac = 1.0 just says \"a sample of equal length\"\n",
    "                                                                     # i.e., reshuffle the list\n",
    "    women = thissample[0: division]\n",
    "    men = thissample[division: ]\n",
    "    diff = men.mean() - women.mean()\n",
    "    tenthousanddiffs.append(diff)\n",
    "    \n",
    "tenthousanddiffs = pd.Series(tenthousanddiffs) # To use the .hist() plotting method\n",
    "                                               # we need to turn this list into a pandas\n",
    "                                               # object, like a single column of a data frame.\n",
    "                                               # This is called a Series.\n",
    "tenthousanddiffs.hist(bins = 50)\n",
    "plt.plot([-0.5, -0.5], [0, 650], 'red')\n",
    "plt.plot([0.5, 0.5], [0, 650], 'red')"
   ]
  },
  {
   "cell_type": "markdown",
   "id": "advised-harvard",
   "metadata": {},
   "source": [
    "This is the range of differences we would get through random sampling variation. \n",
    "\n",
    "We can ask how often the absolute difference of samples is greater than any value. For instance, how often would we randomly get differences of half a year or more between the mean ages of the two groups? We can find out by looking at the two \"tails\" of the above distribution, above 0.5  and below -0.5. How many samples are we talking about?"
   ]
  },
  {
   "cell_type": "code",
   "execution_count": 31,
   "id": "configured-munich",
   "metadata": {},
   "outputs": [
    {
     "name": "stdout",
     "output_type": "stream",
     "text": [
      "That happens  315 times, for a probability of  0.0315\n"
     ]
    }
   ],
   "source": [
    "tailcount = sum(abs(tenthousanddiffs) > .5)\n",
    "print(\"That happens \", tailcount, \"times, for a probability of \", tailcount / 10000)"
   ]
  },
  {
   "cell_type": "markdown",
   "id": "alpine-directive",
   "metadata": {},
   "source": [
    "**QUESTION:** Why are we dividing by 10,000?\n",
    "\n",
    "What about the actual difference we observed?"
   ]
  },
  {
   "cell_type": "code",
   "execution_count": 32,
   "id": "congressional-explanation",
   "metadata": {},
   "outputs": [
    {
     "name": "stdout",
     "output_type": "stream",
     "text": [
      "The observed difference of means was 6.668998158763081\n",
      "That happens  0 times, for a probability of  0.0\n"
     ]
    }
   ],
   "source": [
    "observeddiff = mensages.mean() - womensages.mean()\n",
    "print(\"The observed difference of means was\", observeddiff)\n",
    "\n",
    "tailcount = sum(abs(tenthousanddiffs) > observeddiff)\n",
    "print(\"That happens \", tailcount, \"times, for a probability of \", tailcount / 10000)"
   ]
  },
  {
   "cell_type": "markdown",
   "id": "pursuant-share",
   "metadata": {},
   "source": [
    "In short, it's *very* unlikely that we could get two samples like this from the same population.\n",
    "\n",
    "Here's a shortcut way of doing the same calculation. (There are technically some differences here, because the formula used in a t test assumes that the distribution of ages is *roughly* shaped like a bell curve. The permutation test we performed is actually a little more flexible. But it's a small difference in this case, because fictional ages are close enough to a bell curve.)"
   ]
  },
  {
   "cell_type": "code",
   "execution_count": 33,
   "id": "knowing-indian",
   "metadata": {},
   "outputs": [
    {
     "data": {
      "text/plain": [
       "Ttest_indResult(statistic=29.470985559007072, pvalue=1.5605919504523837e-186)"
      ]
     },
     "execution_count": 33,
     "metadata": {},
     "output_type": "execute_result"
    }
   ],
   "source": [
    "from scipy.stats import ttest_ind\n",
    "ttest_ind(mensages, womensages)"
   ]
  },
  {
   "cell_type": "markdown",
   "id": "recorded-south",
   "metadata": {},
   "source": [
    "The ```pvalue``` there is estimating the probability of getting a difference this extreme if there were in reality no difference between the population means. Again, it's a very low probability. The exponent is -186!"
   ]
  },
  {
   "cell_type": "markdown",
   "id": "binary-marketing",
   "metadata": {},
   "source": [
    "### Grouping and summarizing data\n",
    "\n",
    "You can see above that men outnumber women on film. The amount of dialogue assigned to the two groups is also unequal. In part that's simply because there are more men.\n",
    "\n",
    "But it's even more unequal than we would expect from the sheer number of men and women. The *average* amount of dialogue is also unequal."
   ]
  },
  {
   "cell_type": "code",
   "execution_count": 34,
   "id": "invisible-jewel",
   "metadata": {},
   "outputs": [
    {
     "data": {
      "text/html": [
       "<div>\n",
       "<style scoped>\n",
       "    .dataframe tbody tr th:only-of-type {\n",
       "        vertical-align: middle;\n",
       "    }\n",
       "\n",
       "    .dataframe tbody tr th {\n",
       "        vertical-align: top;\n",
       "    }\n",
       "\n",
       "    .dataframe thead th {\n",
       "        text-align: right;\n",
       "    }\n",
       "</style>\n",
       "<table border=\"1\" class=\"dataframe\">\n",
       "  <thead>\n",
       "    <tr style=\"text-align: right;\">\n",
       "      <th></th>\n",
       "      <th>gender</th>\n",
       "      <th>words</th>\n",
       "    </tr>\n",
       "  </thead>\n",
       "  <tbody>\n",
       "    <tr>\n",
       "      <th>0</th>\n",
       "      <td>?</td>\n",
       "      <td>281.400000</td>\n",
       "    </tr>\n",
       "    <tr>\n",
       "      <th>1</th>\n",
       "      <td>f</td>\n",
       "      <td>850.853482</td>\n",
       "    </tr>\n",
       "    <tr>\n",
       "      <th>2</th>\n",
       "      <td>m</td>\n",
       "      <td>933.193921</td>\n",
       "    </tr>\n",
       "  </tbody>\n",
       "</table>\n",
       "</div>"
      ],
      "text/plain": [
       "  gender       words\n",
       "0      ?  281.400000\n",
       "1      f  850.853482\n",
       "2      m  933.193921"
      ]
     },
     "execution_count": 34,
     "metadata": {},
     "output_type": "execute_result"
    }
   ],
   "source": [
    "chars.groupby('gender', as_index = False)['words'].mean()"
   ]
  },
  {
   "cell_type": "markdown",
   "id": "referenced-split",
   "metadata": {},
   "source": [
    "Women speak on average 851 words per film in this dataset; men 933.\n",
    "\n",
    "Notice how we used the ```.groupby()``` function to figure this out. It divides a Pandas dataframe into subframes based on the value of the column we pass in as a parameter. Once we've done that we can select a column ```['words']``` in all of those subframes, and calculate the mean value of the column.\n",
    "\n",
    "To understand how ```.groupby()``` works, it may be helpful to iterate through the ```label, dataframe``` pairs it produces: "
   ]
  },
  {
   "cell_type": "code",
   "execution_count": 35,
   "id": "cooked-commons",
   "metadata": {},
   "outputs": [
    {
     "name": "stdout",
     "output_type": "stream",
     "text": [
      "?\n",
      "       script_id imdb_character_name  words gender   age\n",
      "7325        2510            tiny tim    488      ?   NaN\n",
      "8010        2682     himself - walki    312      ?  90.0\n",
      "8011        2682     himself - with     224      ?  78.0\n",
      "16902       6053     Thomas Hergenro    216      ?   NaN\n",
      "18812       7177               randy    167      ?   NaN\n",
      "f\n",
      "   script_id imdb_character_name  words gender   age\n",
      "0        280               betty    311      f  35.0\n",
      "1        280     carolyn johnson    873      f   NaN\n",
      "2        280             eleanor    138      f   NaN\n",
      "3        280     francesca johns   2251      f  46.0\n",
      "4        280               madge    190      f  46.0\n",
      "m\n",
      "    script_id imdb_character_name  words gender   age\n",
      "5         280     michael johnson    723      m  38.0\n",
      "6         280      robert kincaid   1908      m  65.0\n",
      "7         623        bobby korfin    328      m   NaN\n",
      "9         623     deputy chief fi    347      m   NaN\n",
      "10        623     detective eddie   2020      m  58.0\n"
     ]
    }
   ],
   "source": [
    "grouped_frames = chars.groupby('gender', as_index = False)\n",
    "for label, dataframe in grouped_frames:\n",
    "    print(label)\n",
    "    print(dataframe.head())"
   ]
  },
  {
   "cell_type": "markdown",
   "id": "subtle-small",
   "metadata": {},
   "source": [
    "By the way, how often would we see a difference as big as 851 and 933 if volubility were in fact equally distributed?\n",
    "\n",
    "This will become a question in the homework."
   ]
  },
  {
   "cell_type": "markdown",
   "id": "matched-sight",
   "metadata": {},
   "source": [
    "## Merging dataframes\n",
    "\n",
    "Suppose we want to inquire about the relation between the amount of money a movie makes, and the proportion of dialogue spoken by women. It's going to be very hard to do this with our existing two dataframes, because the ```gross``` income column is in the ```movies``` dataframe, whereas the ```words``` column is in the ```chars``` dataframe."
   ]
  },
  {
   "cell_type": "code",
   "execution_count": 36,
   "id": "working-trick",
   "metadata": {},
   "outputs": [
    {
     "data": {
      "text/html": [
       "<div>\n",
       "<style scoped>\n",
       "    .dataframe tbody tr th:only-of-type {\n",
       "        vertical-align: middle;\n",
       "    }\n",
       "\n",
       "    .dataframe tbody tr th {\n",
       "        vertical-align: top;\n",
       "    }\n",
       "\n",
       "    .dataframe thead th {\n",
       "        text-align: right;\n",
       "    }\n",
       "</style>\n",
       "<table border=\"1\" class=\"dataframe\">\n",
       "  <thead>\n",
       "    <tr style=\"text-align: right;\">\n",
       "      <th></th>\n",
       "      <th>script_id</th>\n",
       "      <th>imdb_id</th>\n",
       "      <th>title</th>\n",
       "      <th>year</th>\n",
       "      <th>gross</th>\n",
       "    </tr>\n",
       "  </thead>\n",
       "  <tbody>\n",
       "    <tr>\n",
       "      <th>0</th>\n",
       "      <td>1534</td>\n",
       "      <td>tt1022603</td>\n",
       "      <td>(500) Days of Summer</td>\n",
       "      <td>2009</td>\n",
       "      <td>37.0</td>\n",
       "    </tr>\n",
       "    <tr>\n",
       "      <th>1</th>\n",
       "      <td>1512</td>\n",
       "      <td>tt0147800</td>\n",
       "      <td>10 Things I Hate About You</td>\n",
       "      <td>1999</td>\n",
       "      <td>65.0</td>\n",
       "    </tr>\n",
       "    <tr>\n",
       "      <th>2</th>\n",
       "      <td>1514</td>\n",
       "      <td>tt0417385</td>\n",
       "      <td>12 and Holding</td>\n",
       "      <td>2005</td>\n",
       "      <td>NaN</td>\n",
       "    </tr>\n",
       "  </tbody>\n",
       "</table>\n",
       "</div>"
      ],
      "text/plain": [
       "   script_id    imdb_id                       title  year  gross\n",
       "0       1534  tt1022603        (500) Days of Summer  2009   37.0\n",
       "1       1512  tt0147800  10 Things I Hate About You  1999   65.0\n",
       "2       1514  tt0417385              12 and Holding  2005    NaN"
      ]
     },
     "execution_count": 36,
     "metadata": {},
     "output_type": "execute_result"
    }
   ],
   "source": [
    "movies.head(3)"
   ]
  },
  {
   "cell_type": "code",
   "execution_count": 37,
   "id": "violent-fruit",
   "metadata": {},
   "outputs": [
    {
     "data": {
      "text/html": [
       "<div>\n",
       "<style scoped>\n",
       "    .dataframe tbody tr th:only-of-type {\n",
       "        vertical-align: middle;\n",
       "    }\n",
       "\n",
       "    .dataframe tbody tr th {\n",
       "        vertical-align: top;\n",
       "    }\n",
       "\n",
       "    .dataframe thead th {\n",
       "        text-align: right;\n",
       "    }\n",
       "</style>\n",
       "<table border=\"1\" class=\"dataframe\">\n",
       "  <thead>\n",
       "    <tr style=\"text-align: right;\">\n",
       "      <th></th>\n",
       "      <th>script_id</th>\n",
       "      <th>imdb_character_name</th>\n",
       "      <th>words</th>\n",
       "      <th>gender</th>\n",
       "      <th>age</th>\n",
       "    </tr>\n",
       "  </thead>\n",
       "  <tbody>\n",
       "    <tr>\n",
       "      <th>0</th>\n",
       "      <td>280</td>\n",
       "      <td>betty</td>\n",
       "      <td>311</td>\n",
       "      <td>f</td>\n",
       "      <td>35.0</td>\n",
       "    </tr>\n",
       "    <tr>\n",
       "      <th>1</th>\n",
       "      <td>280</td>\n",
       "      <td>carolyn johnson</td>\n",
       "      <td>873</td>\n",
       "      <td>f</td>\n",
       "      <td>NaN</td>\n",
       "    </tr>\n",
       "    <tr>\n",
       "      <th>2</th>\n",
       "      <td>280</td>\n",
       "      <td>eleanor</td>\n",
       "      <td>138</td>\n",
       "      <td>f</td>\n",
       "      <td>NaN</td>\n",
       "    </tr>\n",
       "  </tbody>\n",
       "</table>\n",
       "</div>"
      ],
      "text/plain": [
       "   script_id imdb_character_name  words gender   age\n",
       "0        280               betty    311      f  35.0\n",
       "1        280     carolyn johnson    873      f   NaN\n",
       "2        280             eleanor    138      f   NaN"
      ]
     },
     "execution_count": 37,
     "metadata": {},
     "output_type": "execute_result"
    }
   ],
   "source": [
    "chars.head(3)"
   ]
  },
  {
   "cell_type": "markdown",
   "id": "supreme-intent",
   "metadata": {},
   "source": [
    "We need to merge them into one. Fortunately we can do that, because the ```script_id``` column is present in both dataframes."
   ]
  },
  {
   "cell_type": "code",
   "execution_count": 38,
   "id": "legal-carbon",
   "metadata": {},
   "outputs": [
    {
     "data": {
      "text/html": [
       "<div>\n",
       "<style scoped>\n",
       "    .dataframe tbody tr th:only-of-type {\n",
       "        vertical-align: middle;\n",
       "    }\n",
       "\n",
       "    .dataframe tbody tr th {\n",
       "        vertical-align: top;\n",
       "    }\n",
       "\n",
       "    .dataframe thead th {\n",
       "        text-align: right;\n",
       "    }\n",
       "</style>\n",
       "<table border=\"1\" class=\"dataframe\">\n",
       "  <thead>\n",
       "    <tr style=\"text-align: right;\">\n",
       "      <th></th>\n",
       "      <th>script_id</th>\n",
       "      <th>imdb_character_name</th>\n",
       "      <th>words</th>\n",
       "      <th>gender</th>\n",
       "      <th>age</th>\n",
       "      <th>imdb_id</th>\n",
       "      <th>title</th>\n",
       "      <th>year</th>\n",
       "      <th>gross</th>\n",
       "    </tr>\n",
       "  </thead>\n",
       "  <tbody>\n",
       "    <tr>\n",
       "      <th>0</th>\n",
       "      <td>280</td>\n",
       "      <td>betty</td>\n",
       "      <td>311</td>\n",
       "      <td>f</td>\n",
       "      <td>35.0</td>\n",
       "      <td>tt0112579</td>\n",
       "      <td>The Bridges of Madison County</td>\n",
       "      <td>1995</td>\n",
       "      <td>142.0</td>\n",
       "    </tr>\n",
       "    <tr>\n",
       "      <th>1</th>\n",
       "      <td>280</td>\n",
       "      <td>carolyn johnson</td>\n",
       "      <td>873</td>\n",
       "      <td>f</td>\n",
       "      <td>NaN</td>\n",
       "      <td>tt0112579</td>\n",
       "      <td>The Bridges of Madison County</td>\n",
       "      <td>1995</td>\n",
       "      <td>142.0</td>\n",
       "    </tr>\n",
       "    <tr>\n",
       "      <th>2</th>\n",
       "      <td>280</td>\n",
       "      <td>eleanor</td>\n",
       "      <td>138</td>\n",
       "      <td>f</td>\n",
       "      <td>NaN</td>\n",
       "      <td>tt0112579</td>\n",
       "      <td>The Bridges of Madison County</td>\n",
       "      <td>1995</td>\n",
       "      <td>142.0</td>\n",
       "    </tr>\n",
       "    <tr>\n",
       "      <th>3</th>\n",
       "      <td>280</td>\n",
       "      <td>francesca johns</td>\n",
       "      <td>2251</td>\n",
       "      <td>f</td>\n",
       "      <td>46.0</td>\n",
       "      <td>tt0112579</td>\n",
       "      <td>The Bridges of Madison County</td>\n",
       "      <td>1995</td>\n",
       "      <td>142.0</td>\n",
       "    </tr>\n",
       "    <tr>\n",
       "      <th>4</th>\n",
       "      <td>280</td>\n",
       "      <td>madge</td>\n",
       "      <td>190</td>\n",
       "      <td>f</td>\n",
       "      <td>46.0</td>\n",
       "      <td>tt0112579</td>\n",
       "      <td>The Bridges of Madison County</td>\n",
       "      <td>1995</td>\n",
       "      <td>142.0</td>\n",
       "    </tr>\n",
       "    <tr>\n",
       "      <th>...</th>\n",
       "      <td>...</td>\n",
       "      <td>...</td>\n",
       "      <td>...</td>\n",
       "      <td>...</td>\n",
       "      <td>...</td>\n",
       "      <td>...</td>\n",
       "      <td>...</td>\n",
       "      <td>...</td>\n",
       "      <td>...</td>\n",
       "    </tr>\n",
       "    <tr>\n",
       "      <th>23027</th>\n",
       "      <td>9254</td>\n",
       "      <td>lumiere</td>\n",
       "      <td>1063</td>\n",
       "      <td>m</td>\n",
       "      <td>56.0</td>\n",
       "      <td>tt0101414</td>\n",
       "      <td>Beauty and the Beast</td>\n",
       "      <td>1991</td>\n",
       "      <td>452.0</td>\n",
       "    </tr>\n",
       "    <tr>\n",
       "      <th>23028</th>\n",
       "      <td>9254</td>\n",
       "      <td>maurice</td>\n",
       "      <td>1107</td>\n",
       "      <td>m</td>\n",
       "      <td>71.0</td>\n",
       "      <td>tt0101414</td>\n",
       "      <td>Beauty and the Beast</td>\n",
       "      <td>1991</td>\n",
       "      <td>452.0</td>\n",
       "    </tr>\n",
       "    <tr>\n",
       "      <th>23029</th>\n",
       "      <td>9254</td>\n",
       "      <td>monsieur d'arqu</td>\n",
       "      <td>114</td>\n",
       "      <td>m</td>\n",
       "      <td>58.0</td>\n",
       "      <td>tt0101414</td>\n",
       "      <td>Beauty and the Beast</td>\n",
       "      <td>1991</td>\n",
       "      <td>452.0</td>\n",
       "    </tr>\n",
       "    <tr>\n",
       "      <th>23030</th>\n",
       "      <td>9254</td>\n",
       "      <td>mrs. potts</td>\n",
       "      <td>564</td>\n",
       "      <td>f</td>\n",
       "      <td>66.0</td>\n",
       "      <td>tt0101414</td>\n",
       "      <td>Beauty and the Beast</td>\n",
       "      <td>1991</td>\n",
       "      <td>452.0</td>\n",
       "    </tr>\n",
       "    <tr>\n",
       "      <th>23031</th>\n",
       "      <td>9254</td>\n",
       "      <td>wardrobe</td>\n",
       "      <td>121</td>\n",
       "      <td>f</td>\n",
       "      <td>54.0</td>\n",
       "      <td>tt0101414</td>\n",
       "      <td>Beauty and the Beast</td>\n",
       "      <td>1991</td>\n",
       "      <td>452.0</td>\n",
       "    </tr>\n",
       "  </tbody>\n",
       "</table>\n",
       "<p>23032 rows × 9 columns</p>\n",
       "</div>"
      ],
      "text/plain": [
       "       script_id imdb_character_name  words gender   age    imdb_id  \\\n",
       "0            280               betty    311      f  35.0  tt0112579   \n",
       "1            280     carolyn johnson    873      f   NaN  tt0112579   \n",
       "2            280             eleanor    138      f   NaN  tt0112579   \n",
       "3            280     francesca johns   2251      f  46.0  tt0112579   \n",
       "4            280               madge    190      f  46.0  tt0112579   \n",
       "...          ...                 ...    ...    ...   ...        ...   \n",
       "23027       9254             lumiere   1063      m  56.0  tt0101414   \n",
       "23028       9254             maurice   1107      m  71.0  tt0101414   \n",
       "23029       9254     monsieur d'arqu    114      m  58.0  tt0101414   \n",
       "23030       9254          mrs. potts    564      f  66.0  tt0101414   \n",
       "23031       9254            wardrobe    121      f  54.0  tt0101414   \n",
       "\n",
       "                               title  year  gross  \n",
       "0      The Bridges of Madison County  1995  142.0  \n",
       "1      The Bridges of Madison County  1995  142.0  \n",
       "2      The Bridges of Madison County  1995  142.0  \n",
       "3      The Bridges of Madison County  1995  142.0  \n",
       "4      The Bridges of Madison County  1995  142.0  \n",
       "...                              ...   ...    ...  \n",
       "23027           Beauty and the Beast  1991  452.0  \n",
       "23028           Beauty and the Beast  1991  452.0  \n",
       "23029           Beauty and the Beast  1991  452.0  \n",
       "23030           Beauty and the Beast  1991  452.0  \n",
       "23031           Beauty and the Beast  1991  452.0  \n",
       "\n",
       "[23032 rows x 9 columns]"
      ]
     },
     "execution_count": 38,
     "metadata": {},
     "output_type": "execute_result"
    }
   ],
   "source": [
    "pd.merge(chars, movies, on = 'script_id')"
   ]
  },
  {
   "cell_type": "markdown",
   "id": "interior-looking",
   "metadata": {},
   "source": [
    "By default Pandas performs what is called an 'inner join.' That is, the resulting dataframe will only have rows corresponding to script ids that were present in both dataframes.\n",
    "\n",
    "We can save this result in a variable and do fun things with it.\n",
    "\n",
    "For instance, we can group it by gender and title and then calculate the proportion of dialogue spoken by women in each movie.\n",
    "\n",
    "Technically, we can group by two variables at once."
   ]
  },
  {
   "cell_type": "code",
   "execution_count": 39,
   "id": "least-soldier",
   "metadata": {},
   "outputs": [
    {
     "data": {
      "text/html": [
       "<div>\n",
       "<style scoped>\n",
       "    .dataframe tbody tr th:only-of-type {\n",
       "        vertical-align: middle;\n",
       "    }\n",
       "\n",
       "    .dataframe tbody tr th {\n",
       "        vertical-align: top;\n",
       "    }\n",
       "\n",
       "    .dataframe thead th {\n",
       "        text-align: right;\n",
       "    }\n",
       "</style>\n",
       "<table border=\"1\" class=\"dataframe\">\n",
       "  <thead>\n",
       "    <tr style=\"text-align: right;\">\n",
       "      <th></th>\n",
       "      <th></th>\n",
       "      <th>script_id</th>\n",
       "      <th>words</th>\n",
       "      <th>age</th>\n",
       "      <th>year</th>\n",
       "      <th>gross</th>\n",
       "    </tr>\n",
       "    <tr>\n",
       "      <th>title</th>\n",
       "      <th>gender</th>\n",
       "      <th></th>\n",
       "      <th></th>\n",
       "      <th></th>\n",
       "      <th></th>\n",
       "      <th></th>\n",
       "    </tr>\n",
       "  </thead>\n",
       "  <tbody>\n",
       "    <tr>\n",
       "      <th rowspan=\"2\" valign=\"top\">(500) Days of Summer</th>\n",
       "      <th>f</th>\n",
       "      <td>7670</td>\n",
       "      <td>5738</td>\n",
       "      <td>148.0</td>\n",
       "      <td>10045</td>\n",
       "      <td>185.0</td>\n",
       "    </tr>\n",
       "    <tr>\n",
       "      <th>m</th>\n",
       "      <td>12272</td>\n",
       "      <td>12762</td>\n",
       "      <td>230.0</td>\n",
       "      <td>16072</td>\n",
       "      <td>296.0</td>\n",
       "    </tr>\n",
       "    <tr>\n",
       "      <th rowspan=\"2\" valign=\"top\">10 Things I Hate About You</th>\n",
       "      <th>f</th>\n",
       "      <td>6048</td>\n",
       "      <td>8992</td>\n",
       "      <td>88.0</td>\n",
       "      <td>7996</td>\n",
       "      <td>260.0</td>\n",
       "    </tr>\n",
       "    <tr>\n",
       "      <th>m</th>\n",
       "      <td>12096</td>\n",
       "      <td>10688</td>\n",
       "      <td>219.0</td>\n",
       "      <td>15992</td>\n",
       "      <td>520.0</td>\n",
       "    </tr>\n",
       "    <tr>\n",
       "      <th>12 Years a Slave</th>\n",
       "      <th>f</th>\n",
       "      <td>9102</td>\n",
       "      <td>3452</td>\n",
       "      <td>161.0</td>\n",
       "      <td>12078</td>\n",
       "      <td>360.0</td>\n",
       "    </tr>\n",
       "    <tr>\n",
       "      <th>...</th>\n",
       "      <th>...</th>\n",
       "      <td>...</td>\n",
       "      <td>...</td>\n",
       "      <td>...</td>\n",
       "      <td>...</td>\n",
       "      <td>...</td>\n",
       "    </tr>\n",
       "    <tr>\n",
       "      <th>Zodiac</th>\n",
       "      <th>m</th>\n",
       "      <td>155784</td>\n",
       "      <td>13235</td>\n",
       "      <td>974.0</td>\n",
       "      <td>48168</td>\n",
       "      <td>984.0</td>\n",
       "    </tr>\n",
       "    <tr>\n",
       "      <th rowspan=\"2\" valign=\"top\">eXistenZ</th>\n",
       "      <th>f</th>\n",
       "      <td>13946</td>\n",
       "      <td>3752</td>\n",
       "      <td>57.0</td>\n",
       "      <td>3998</td>\n",
       "      <td>8.0</td>\n",
       "    </tr>\n",
       "    <tr>\n",
       "      <th>m</th>\n",
       "      <td>48811</td>\n",
       "      <td>5695</td>\n",
       "      <td>252.0</td>\n",
       "      <td>13993</td>\n",
       "      <td>28.0</td>\n",
       "    </tr>\n",
       "    <tr>\n",
       "      <th rowspan=\"2\" valign=\"top\">xXx</th>\n",
       "      <th>f</th>\n",
       "      <td>1497</td>\n",
       "      <td>998</td>\n",
       "      <td>27.0</td>\n",
       "      <td>2002</td>\n",
       "      <td>211.0</td>\n",
       "    </tr>\n",
       "    <tr>\n",
       "      <th>m</th>\n",
       "      <td>11976</td>\n",
       "      <td>7287</td>\n",
       "      <td>256.0</td>\n",
       "      <td>16016</td>\n",
       "      <td>1688.0</td>\n",
       "    </tr>\n",
       "  </tbody>\n",
       "</table>\n",
       "<p>3936 rows × 5 columns</p>\n",
       "</div>"
      ],
      "text/plain": [
       "                                   script_id  words    age   year   gross\n",
       "title                      gender                                        \n",
       "(500) Days of Summer       f            7670   5738  148.0  10045   185.0\n",
       "                           m           12272  12762  230.0  16072   296.0\n",
       "10 Things I Hate About You f            6048   8992   88.0   7996   260.0\n",
       "                           m           12096  10688  219.0  15992   520.0\n",
       "12 Years a Slave           f            9102   3452  161.0  12078   360.0\n",
       "...                                      ...    ...    ...    ...     ...\n",
       "Zodiac                     m          155784  13235  974.0  48168   984.0\n",
       "eXistenZ                   f           13946   3752   57.0   3998     8.0\n",
       "                           m           48811   5695  252.0  13993    28.0\n",
       "xXx                        f            1497    998   27.0   2002   211.0\n",
       "                           m           11976   7287  256.0  16016  1688.0\n",
       "\n",
       "[3936 rows x 5 columns]"
      ]
     },
     "execution_count": 39,
     "metadata": {},
     "output_type": "execute_result"
    }
   ],
   "source": [
    "merged = pd.merge(chars, movies, on = 'script_id')\n",
    "grouped = merged.groupby(['title', 'gender']).sum()\n",
    "grouped"
   ]
  },
  {
   "cell_type": "markdown",
   "id": "indonesian-package",
   "metadata": {},
   "source": [
    "But that creates a two-level index--called a MultiIndex--which is a little tricky to work with. It may be conceptually simpler to divide the merged dataframe by gender, then group."
   ]
  },
  {
   "cell_type": "code",
   "execution_count": 40,
   "id": "cultural-sucking",
   "metadata": {},
   "outputs": [
    {
     "data": {
      "text/html": [
       "<div>\n",
       "<style scoped>\n",
       "    .dataframe tbody tr th:only-of-type {\n",
       "        vertical-align: middle;\n",
       "    }\n",
       "\n",
       "    .dataframe tbody tr th {\n",
       "        vertical-align: top;\n",
       "    }\n",
       "\n",
       "    .dataframe thead th {\n",
       "        text-align: right;\n",
       "    }\n",
       "</style>\n",
       "<table border=\"1\" class=\"dataframe\">\n",
       "  <thead>\n",
       "    <tr style=\"text-align: right;\">\n",
       "      <th></th>\n",
       "      <th>title</th>\n",
       "      <th>script_id</th>\n",
       "      <th>words</th>\n",
       "      <th>age</th>\n",
       "      <th>year</th>\n",
       "      <th>gross</th>\n",
       "    </tr>\n",
       "  </thead>\n",
       "  <tbody>\n",
       "    <tr>\n",
       "      <th>0</th>\n",
       "      <td>(500) Days of Summer</td>\n",
       "      <td>12272</td>\n",
       "      <td>12762</td>\n",
       "      <td>230.0</td>\n",
       "      <td>16072</td>\n",
       "      <td>296.0</td>\n",
       "    </tr>\n",
       "    <tr>\n",
       "      <th>1</th>\n",
       "      <td>10 Things I Hate About You</td>\n",
       "      <td>12096</td>\n",
       "      <td>10688</td>\n",
       "      <td>219.0</td>\n",
       "      <td>15992</td>\n",
       "      <td>520.0</td>\n",
       "    </tr>\n",
       "    <tr>\n",
       "      <th>2</th>\n",
       "      <td>12 Years a Slave</td>\n",
       "      <td>33374</td>\n",
       "      <td>16176</td>\n",
       "      <td>551.0</td>\n",
       "      <td>44286</td>\n",
       "      <td>1320.0</td>\n",
       "    </tr>\n",
       "  </tbody>\n",
       "</table>\n",
       "</div>"
      ],
      "text/plain": [
       "                        title  script_id  words    age   year   gross\n",
       "0        (500) Days of Summer      12272  12762  230.0  16072   296.0\n",
       "1  10 Things I Hate About You      12096  10688  219.0  15992   520.0\n",
       "2            12 Years a Slave      33374  16176  551.0  44286  1320.0"
      ]
     },
     "execution_count": 40,
     "metadata": {},
     "output_type": "execute_result"
    }
   ],
   "source": [
    "malewordsbytitle = merged.loc[merged['gender'] == 'm', : ].groupby('title', as_index = False).sum()\n",
    "malewordsbytitle.head(3)"
   ]
  },
  {
   "cell_type": "code",
   "execution_count": 41,
   "id": "fundamental-newspaper",
   "metadata": {},
   "outputs": [
    {
     "data": {
      "text/html": [
       "<div>\n",
       "<style scoped>\n",
       "    .dataframe tbody tr th:only-of-type {\n",
       "        vertical-align: middle;\n",
       "    }\n",
       "\n",
       "    .dataframe tbody tr th {\n",
       "        vertical-align: top;\n",
       "    }\n",
       "\n",
       "    .dataframe thead th {\n",
       "        text-align: right;\n",
       "    }\n",
       "</style>\n",
       "<table border=\"1\" class=\"dataframe\">\n",
       "  <thead>\n",
       "    <tr style=\"text-align: right;\">\n",
       "      <th></th>\n",
       "      <th>title</th>\n",
       "      <th>script_id</th>\n",
       "      <th>words</th>\n",
       "      <th>age</th>\n",
       "      <th>year</th>\n",
       "      <th>gross</th>\n",
       "    </tr>\n",
       "  </thead>\n",
       "  <tbody>\n",
       "    <tr>\n",
       "      <th>0</th>\n",
       "      <td>(500) Days of Summer</td>\n",
       "      <td>7670</td>\n",
       "      <td>5738</td>\n",
       "      <td>148.0</td>\n",
       "      <td>10045</td>\n",
       "      <td>185.0</td>\n",
       "    </tr>\n",
       "    <tr>\n",
       "      <th>1</th>\n",
       "      <td>10 Things I Hate About You</td>\n",
       "      <td>6048</td>\n",
       "      <td>8992</td>\n",
       "      <td>88.0</td>\n",
       "      <td>7996</td>\n",
       "      <td>260.0</td>\n",
       "    </tr>\n",
       "    <tr>\n",
       "      <th>2</th>\n",
       "      <td>12 Years a Slave</td>\n",
       "      <td>9102</td>\n",
       "      <td>3452</td>\n",
       "      <td>161.0</td>\n",
       "      <td>12078</td>\n",
       "      <td>360.0</td>\n",
       "    </tr>\n",
       "  </tbody>\n",
       "</table>\n",
       "</div>"
      ],
      "text/plain": [
       "                        title  script_id  words    age   year  gross\n",
       "0        (500) Days of Summer       7670   5738  148.0  10045  185.0\n",
       "1  10 Things I Hate About You       6048   8992   88.0   7996  260.0\n",
       "2            12 Years a Slave       9102   3452  161.0  12078  360.0"
      ]
     },
     "execution_count": 41,
     "metadata": {},
     "output_type": "execute_result"
    }
   ],
   "source": [
    "femalewordsbytitle = merged.loc[merged['gender'] == 'f', : ].groupby('title', as_index = False).sum()\n",
    "femalewordsbytitle.head(3)"
   ]
  },
  {
   "cell_type": "markdown",
   "id": "7ca9fd65-c120-499f-b748-8d4215c31cc6",
   "metadata": {},
   "source": [
    "Now we can merge these two frames using an *outer* join, which will create rows for all titles present in either dataframe. This is important because we want to have zeroes in cases where men or women don't speak at all in a movie. We don't want those rows just to be missing.\n",
    "\n",
    "We can also add suffixes, so we understand which columns are coming from the dataframe associated with men or with women."
   ]
  },
  {
   "cell_type": "code",
   "execution_count": 42,
   "id": "negative-commodity",
   "metadata": {},
   "outputs": [],
   "source": [
    "wordsbytitle = femalewordsbytitle.merge(malewordsbytitle, on = 'title', how = 'outer', suffixes = ['_women', '_men'])"
   ]
  },
  {
   "cell_type": "code",
   "execution_count": 43,
   "id": "synthetic-triple",
   "metadata": {},
   "outputs": [
    {
     "data": {
      "text/html": [
       "<div>\n",
       "<style scoped>\n",
       "    .dataframe tbody tr th:only-of-type {\n",
       "        vertical-align: middle;\n",
       "    }\n",
       "\n",
       "    .dataframe tbody tr th {\n",
       "        vertical-align: top;\n",
       "    }\n",
       "\n",
       "    .dataframe thead th {\n",
       "        text-align: right;\n",
       "    }\n",
       "</style>\n",
       "<table border=\"1\" class=\"dataframe\">\n",
       "  <thead>\n",
       "    <tr style=\"text-align: right;\">\n",
       "      <th></th>\n",
       "      <th>title</th>\n",
       "      <th>script_id_women</th>\n",
       "      <th>words_women</th>\n",
       "      <th>age_women</th>\n",
       "      <th>year_women</th>\n",
       "      <th>gross_women</th>\n",
       "      <th>script_id_men</th>\n",
       "      <th>words_men</th>\n",
       "      <th>age_men</th>\n",
       "      <th>year_men</th>\n",
       "      <th>gross_men</th>\n",
       "    </tr>\n",
       "  </thead>\n",
       "  <tbody>\n",
       "    <tr>\n",
       "      <th>300</th>\n",
       "      <td>Chasing Sleep</td>\n",
       "      <td>5979.0</td>\n",
       "      <td>3328.0</td>\n",
       "      <td>59.0</td>\n",
       "      <td>6000.0</td>\n",
       "      <td>0.0</td>\n",
       "      <td>15944.0</td>\n",
       "      <td>12654.0</td>\n",
       "      <td>188.0</td>\n",
       "      <td>16000.0</td>\n",
       "      <td>0.0</td>\n",
       "    </tr>\n",
       "    <tr>\n",
       "      <th>1668</th>\n",
       "      <td>The Pelican Brief</td>\n",
       "      <td>14334.0</td>\n",
       "      <td>3004.0</td>\n",
       "      <td>26.0</td>\n",
       "      <td>5979.0</td>\n",
       "      <td>636.0</td>\n",
       "      <td>47780.0</td>\n",
       "      <td>5229.0</td>\n",
       "      <td>477.0</td>\n",
       "      <td>19930.0</td>\n",
       "      <td>2120.0</td>\n",
       "    </tr>\n",
       "    <tr>\n",
       "      <th>781</th>\n",
       "      <td>K-PAX</td>\n",
       "      <td>17952.0</td>\n",
       "      <td>1445.0</td>\n",
       "      <td>131.0</td>\n",
       "      <td>8004.0</td>\n",
       "      <td>308.0</td>\n",
       "      <td>49368.0</td>\n",
       "      <td>7243.0</td>\n",
       "      <td>404.0</td>\n",
       "      <td>22011.0</td>\n",
       "      <td>847.0</td>\n",
       "    </tr>\n",
       "    <tr>\n",
       "      <th>263</th>\n",
       "      <td>Burn After Reading</td>\n",
       "      <td>2355.0</td>\n",
       "      <td>2471.0</td>\n",
       "      <td>138.0</td>\n",
       "      <td>6024.0</td>\n",
       "      <td>219.0</td>\n",
       "      <td>7850.0</td>\n",
       "      <td>5827.0</td>\n",
       "      <td>299.0</td>\n",
       "      <td>20080.0</td>\n",
       "      <td>730.0</td>\n",
       "    </tr>\n",
       "    <tr>\n",
       "      <th>125</th>\n",
       "      <td>Arlington Road</td>\n",
       "      <td>31200.0</td>\n",
       "      <td>2103.0</td>\n",
       "      <td>72.0</td>\n",
       "      <td>7996.0</td>\n",
       "      <td>164.0</td>\n",
       "      <td>46800.0</td>\n",
       "      <td>8457.0</td>\n",
       "      <td>148.0</td>\n",
       "      <td>11994.0</td>\n",
       "      <td>246.0</td>\n",
       "    </tr>\n",
       "    <tr>\n",
       "      <th>1879</th>\n",
       "      <td>We Own the Night</td>\n",
       "      <td>1465.0</td>\n",
       "      <td>623.0</td>\n",
       "      <td>33.0</td>\n",
       "      <td>2007.0</td>\n",
       "      <td>36.0</td>\n",
       "      <td>14650.0</td>\n",
       "      <td>7284.0</td>\n",
       "      <td>455.0</td>\n",
       "      <td>20070.0</td>\n",
       "      <td>360.0</td>\n",
       "    </tr>\n",
       "    <tr>\n",
       "      <th>154</th>\n",
       "      <td>Bad Meat</td>\n",
       "      <td>23691.0</td>\n",
       "      <td>1483.0</td>\n",
       "      <td>59.0</td>\n",
       "      <td>6033.0</td>\n",
       "      <td>0.0</td>\n",
       "      <td>71073.0</td>\n",
       "      <td>3570.0</td>\n",
       "      <td>125.0</td>\n",
       "      <td>18099.0</td>\n",
       "      <td>0.0</td>\n",
       "    </tr>\n",
       "    <tr>\n",
       "      <th>1349</th>\n",
       "      <td>Street Fighter: The Legend of Chun-Li</td>\n",
       "      <td>19155.0</td>\n",
       "      <td>2038.0</td>\n",
       "      <td>124.0</td>\n",
       "      <td>6027.0</td>\n",
       "      <td>30.0</td>\n",
       "      <td>44695.0</td>\n",
       "      <td>4654.0</td>\n",
       "      <td>282.0</td>\n",
       "      <td>14063.0</td>\n",
       "      <td>70.0</td>\n",
       "    </tr>\n",
       "    <tr>\n",
       "      <th>686</th>\n",
       "      <td>House on Haunted Hill</td>\n",
       "      <td>8756.0</td>\n",
       "      <td>1816.0</td>\n",
       "      <td>49.0</td>\n",
       "      <td>3998.0</td>\n",
       "      <td>138.0</td>\n",
       "      <td>17512.0</td>\n",
       "      <td>4963.0</td>\n",
       "      <td>149.0</td>\n",
       "      <td>7996.0</td>\n",
       "      <td>276.0</td>\n",
       "    </tr>\n",
       "    <tr>\n",
       "      <th>1958</th>\n",
       "      <td>Jeremiah Johnson</td>\n",
       "      <td>NaN</td>\n",
       "      <td>NaN</td>\n",
       "      <td>NaN</td>\n",
       "      <td>NaN</td>\n",
       "      <td>NaN</td>\n",
       "      <td>56840.0</td>\n",
       "      <td>4707.0</td>\n",
       "      <td>264.0</td>\n",
       "      <td>13804.0</td>\n",
       "      <td>0.0</td>\n",
       "    </tr>\n",
       "    <tr>\n",
       "      <th>1440</th>\n",
       "      <td>The Bounty Hunter</td>\n",
       "      <td>3072.0</td>\n",
       "      <td>2468.0</td>\n",
       "      <td>157.0</td>\n",
       "      <td>8040.0</td>\n",
       "      <td>292.0</td>\n",
       "      <td>3840.0</td>\n",
       "      <td>4567.0</td>\n",
       "      <td>158.0</td>\n",
       "      <td>10050.0</td>\n",
       "      <td>365.0</td>\n",
       "    </tr>\n",
       "    <tr>\n",
       "      <th>1370</th>\n",
       "      <td>Sweet November</td>\n",
       "      <td>10172.0</td>\n",
       "      <td>3408.0</td>\n",
       "      <td>60.0</td>\n",
       "      <td>4002.0</td>\n",
       "      <td>76.0</td>\n",
       "      <td>25430.0</td>\n",
       "      <td>5402.0</td>\n",
       "      <td>204.0</td>\n",
       "      <td>10005.0</td>\n",
       "      <td>190.0</td>\n",
       "    </tr>\n",
       "  </tbody>\n",
       "</table>\n",
       "</div>"
      ],
      "text/plain": [
       "                                      title  script_id_women  words_women  \\\n",
       "300                           Chasing Sleep           5979.0       3328.0   \n",
       "1668                      The Pelican Brief          14334.0       3004.0   \n",
       "781                                   K-PAX          17952.0       1445.0   \n",
       "263                      Burn After Reading           2355.0       2471.0   \n",
       "125                          Arlington Road          31200.0       2103.0   \n",
       "1879                       We Own the Night           1465.0        623.0   \n",
       "154                                Bad Meat          23691.0       1483.0   \n",
       "1349  Street Fighter: The Legend of Chun-Li          19155.0       2038.0   \n",
       "686                   House on Haunted Hill           8756.0       1816.0   \n",
       "1958                       Jeremiah Johnson              NaN          NaN   \n",
       "1440                      The Bounty Hunter           3072.0       2468.0   \n",
       "1370                         Sweet November          10172.0       3408.0   \n",
       "\n",
       "      age_women  year_women  gross_women  script_id_men  words_men  age_men  \\\n",
       "300        59.0      6000.0          0.0        15944.0    12654.0    188.0   \n",
       "1668       26.0      5979.0        636.0        47780.0     5229.0    477.0   \n",
       "781       131.0      8004.0        308.0        49368.0     7243.0    404.0   \n",
       "263       138.0      6024.0        219.0         7850.0     5827.0    299.0   \n",
       "125        72.0      7996.0        164.0        46800.0     8457.0    148.0   \n",
       "1879       33.0      2007.0         36.0        14650.0     7284.0    455.0   \n",
       "154        59.0      6033.0          0.0        71073.0     3570.0    125.0   \n",
       "1349      124.0      6027.0         30.0        44695.0     4654.0    282.0   \n",
       "686        49.0      3998.0        138.0        17512.0     4963.0    149.0   \n",
       "1958        NaN         NaN          NaN        56840.0     4707.0    264.0   \n",
       "1440      157.0      8040.0        292.0         3840.0     4567.0    158.0   \n",
       "1370       60.0      4002.0         76.0        25430.0     5402.0    204.0   \n",
       "\n",
       "      year_men  gross_men  \n",
       "300    16000.0        0.0  \n",
       "1668   19930.0     2120.0  \n",
       "781    22011.0      847.0  \n",
       "263    20080.0      730.0  \n",
       "125    11994.0      246.0  \n",
       "1879   20070.0      360.0  \n",
       "154    18099.0        0.0  \n",
       "1349   14063.0       70.0  \n",
       "686     7996.0      276.0  \n",
       "1958   13804.0        0.0  \n",
       "1440   10050.0      365.0  \n",
       "1370   10005.0      190.0  "
      ]
     },
     "execution_count": 43,
     "metadata": {},
     "output_type": "execute_result"
    }
   ],
   "source": [
    "wordsbytitle.sample(12)"
   ]
  },
  {
   "cell_type": "markdown",
   "id": "3d935d10-f68c-4d9a-91fc-4dc0f677ef0d",
   "metadata": {},
   "source": [
    "Now we want to do two things:\n",
    "    \n",
    "    1. Simplify this table so it only has the relevant columns. The sums of age and script id are meaningless.\n",
    "    \n",
    "    2. Replace NaNs with zeroes."
   ]
  },
  {
   "cell_type": "code",
   "execution_count": 44,
   "id": "blessed-aside",
   "metadata": {},
   "outputs": [],
   "source": [
    "wordsbytitle = wordsbytitle.loc[ : , ['title', 'words_men', 'words_women']]"
   ]
  },
  {
   "cell_type": "code",
   "execution_count": 45,
   "id": "another-democracy",
   "metadata": {},
   "outputs": [
    {
     "data": {
      "text/plain": [
       "54"
      ]
     },
     "execution_count": 45,
     "metadata": {},
     "output_type": "execute_result"
    }
   ],
   "source": [
    "sum(wordsbytitle['words_women'].isna())"
   ]
  },
  {
   "cell_type": "code",
   "execution_count": 46,
   "id": "acoustic-doctrine",
   "metadata": {},
   "outputs": [],
   "source": [
    "wordsbytitle = wordsbytitle.fillna(0)"
   ]
  },
  {
   "cell_type": "markdown",
   "id": "b5f62521-f856-42d0-a0c7-7402919c0fae",
   "metadata": {},
   "source": [
    "Let's create a column that reports the *fraction* of dialogue in a given movie spoken by women."
   ]
  },
  {
   "cell_type": "code",
   "execution_count": 49,
   "id": "crude-trial",
   "metadata": {},
   "outputs": [],
   "source": [
    "wordsbytitle = wordsbytitle.assign(frac_women = wordsbytitle['words_women'] / \n",
    "                                     (wordsbytitle['words_women'] + wordsbytitle['words_men']))"
   ]
  },
  {
   "cell_type": "code",
   "execution_count": 48,
   "id": "taken-bridge",
   "metadata": {},
   "outputs": [
    {
     "data": {
      "text/html": [
       "<div>\n",
       "<style scoped>\n",
       "    .dataframe tbody tr th:only-of-type {\n",
       "        vertical-align: middle;\n",
       "    }\n",
       "\n",
       "    .dataframe tbody tr th {\n",
       "        vertical-align: top;\n",
       "    }\n",
       "\n",
       "    .dataframe thead th {\n",
       "        text-align: right;\n",
       "    }\n",
       "</style>\n",
       "<table border=\"1\" class=\"dataframe\">\n",
       "  <thead>\n",
       "    <tr style=\"text-align: right;\">\n",
       "      <th></th>\n",
       "      <th>title</th>\n",
       "      <th>words_men</th>\n",
       "      <th>words_women</th>\n",
       "      <th>frac_women</th>\n",
       "    </tr>\n",
       "  </thead>\n",
       "  <tbody>\n",
       "    <tr>\n",
       "      <th>0</th>\n",
       "      <td>(500) Days of Summer</td>\n",
       "      <td>12762.0</td>\n",
       "      <td>5738.0</td>\n",
       "      <td>0.310162</td>\n",
       "    </tr>\n",
       "    <tr>\n",
       "      <th>1</th>\n",
       "      <td>10 Things I Hate About You</td>\n",
       "      <td>10688.0</td>\n",
       "      <td>8992.0</td>\n",
       "      <td>0.456911</td>\n",
       "    </tr>\n",
       "    <tr>\n",
       "      <th>2</th>\n",
       "      <td>12 Years a Slave</td>\n",
       "      <td>16176.0</td>\n",
       "      <td>3452.0</td>\n",
       "      <td>0.175871</td>\n",
       "    </tr>\n",
       "    <tr>\n",
       "      <th>3</th>\n",
       "      <td>12 and Holding</td>\n",
       "      <td>10644.0</td>\n",
       "      <td>5324.0</td>\n",
       "      <td>0.333417</td>\n",
       "    </tr>\n",
       "    <tr>\n",
       "      <th>4</th>\n",
       "      <td>127 Hours</td>\n",
       "      <td>4336.0</td>\n",
       "      <td>809.0</td>\n",
       "      <td>0.157240</td>\n",
       "    </tr>\n",
       "  </tbody>\n",
       "</table>\n",
       "</div>"
      ],
      "text/plain": [
       "                        title  words_men  words_women  frac_women\n",
       "0        (500) Days of Summer    12762.0       5738.0    0.310162\n",
       "1  10 Things I Hate About You    10688.0       8992.0    0.456911\n",
       "2            12 Years a Slave    16176.0       3452.0    0.175871\n",
       "3              12 and Holding    10644.0       5324.0    0.333417\n",
       "4                   127 Hours     4336.0        809.0    0.157240"
      ]
     },
     "execution_count": 48,
     "metadata": {},
     "output_type": "execute_result"
    }
   ],
   "source": [
    "wordsbytitle.head()"
   ]
  },
  {
   "cell_type": "markdown",
   "id": "350f1926-8bfb-49de-a7ff-780b95fbd52f",
   "metadata": {},
   "source": [
    "Now if we merge this data with our original ```movies``` dataframe, we can compare this fraction to variables like release year and gross income."
   ]
  },
  {
   "cell_type": "code",
   "execution_count": 188,
   "id": "processed-transfer",
   "metadata": {},
   "outputs": [
    {
     "data": {
      "text/html": [
       "<div>\n",
       "<style scoped>\n",
       "    .dataframe tbody tr th:only-of-type {\n",
       "        vertical-align: middle;\n",
       "    }\n",
       "\n",
       "    .dataframe tbody tr th {\n",
       "        vertical-align: top;\n",
       "    }\n",
       "\n",
       "    .dataframe thead th {\n",
       "        text-align: right;\n",
       "    }\n",
       "</style>\n",
       "<table border=\"1\" class=\"dataframe\">\n",
       "  <thead>\n",
       "    <tr style=\"text-align: right;\">\n",
       "      <th></th>\n",
       "      <th>title</th>\n",
       "      <th>words_men</th>\n",
       "      <th>words_women</th>\n",
       "      <th>frac_women</th>\n",
       "      <th>script_id</th>\n",
       "      <th>imdb_id</th>\n",
       "      <th>year</th>\n",
       "      <th>gross</th>\n",
       "    </tr>\n",
       "  </thead>\n",
       "  <tbody>\n",
       "    <tr>\n",
       "      <th>0</th>\n",
       "      <td>(500) Days of Summer</td>\n",
       "      <td>12762.0</td>\n",
       "      <td>5738.0</td>\n",
       "      <td>0.310162</td>\n",
       "      <td>1534</td>\n",
       "      <td>tt1022603</td>\n",
       "      <td>2009</td>\n",
       "      <td>37.0</td>\n",
       "    </tr>\n",
       "    <tr>\n",
       "      <th>1</th>\n",
       "      <td>10 Things I Hate About You</td>\n",
       "      <td>10688.0</td>\n",
       "      <td>8992.0</td>\n",
       "      <td>0.456911</td>\n",
       "      <td>1512</td>\n",
       "      <td>tt0147800</td>\n",
       "      <td>1999</td>\n",
       "      <td>65.0</td>\n",
       "    </tr>\n",
       "    <tr>\n",
       "      <th>2</th>\n",
       "      <td>12 Years a Slave</td>\n",
       "      <td>16176.0</td>\n",
       "      <td>3452.0</td>\n",
       "      <td>0.175871</td>\n",
       "      <td>1517</td>\n",
       "      <td>tt2024544</td>\n",
       "      <td>2013</td>\n",
       "      <td>60.0</td>\n",
       "    </tr>\n",
       "    <tr>\n",
       "      <th>3</th>\n",
       "      <td>12 and Holding</td>\n",
       "      <td>10644.0</td>\n",
       "      <td>5324.0</td>\n",
       "      <td>0.333417</td>\n",
       "      <td>1514</td>\n",
       "      <td>tt0417385</td>\n",
       "      <td>2005</td>\n",
       "      <td>NaN</td>\n",
       "    </tr>\n",
       "    <tr>\n",
       "      <th>4</th>\n",
       "      <td>127 Hours</td>\n",
       "      <td>4336.0</td>\n",
       "      <td>809.0</td>\n",
       "      <td>0.157240</td>\n",
       "      <td>1520</td>\n",
       "      <td>tt1542344</td>\n",
       "      <td>2010</td>\n",
       "      <td>20.0</td>\n",
       "    </tr>\n",
       "    <tr>\n",
       "      <th>...</th>\n",
       "      <td>...</td>\n",
       "      <td>...</td>\n",
       "      <td>...</td>\n",
       "      <td>...</td>\n",
       "      <td>...</td>\n",
       "      <td>...</td>\n",
       "      <td>...</td>\n",
       "      <td>...</td>\n",
       "    </tr>\n",
       "    <tr>\n",
       "      <th>1995</th>\n",
       "      <td>The Revenant</td>\n",
       "      <td>5396.0</td>\n",
       "      <td>0.0</td>\n",
       "      <td>0.000000</td>\n",
       "      <td>8257</td>\n",
       "      <td>tt1663202</td>\n",
       "      <td>2015</td>\n",
       "      <td>147.0</td>\n",
       "    </tr>\n",
       "    <tr>\n",
       "      <th>1996</th>\n",
       "      <td>The Shawshank Redemption</td>\n",
       "      <td>13414.0</td>\n",
       "      <td>0.0</td>\n",
       "      <td>0.000000</td>\n",
       "      <td>3317</td>\n",
       "      <td>tt0111161</td>\n",
       "      <td>1994</td>\n",
       "      <td>58.0</td>\n",
       "    </tr>\n",
       "    <tr>\n",
       "      <th>1997</th>\n",
       "      <td>The Thin Red Line</td>\n",
       "      <td>18458.0</td>\n",
       "      <td>0.0</td>\n",
       "      <td>0.000000</td>\n",
       "      <td>9177</td>\n",
       "      <td>tt0120863</td>\n",
       "      <td>1998</td>\n",
       "      <td>67.0</td>\n",
       "    </tr>\n",
       "    <tr>\n",
       "      <th>1998</th>\n",
       "      <td>The Wild Bunch</td>\n",
       "      <td>8864.0</td>\n",
       "      <td>0.0</td>\n",
       "      <td>0.000000</td>\n",
       "      <td>1475</td>\n",
       "      <td>tt0065214</td>\n",
       "      <td>1969</td>\n",
       "      <td>NaN</td>\n",
       "    </tr>\n",
       "    <tr>\n",
       "      <th>1999</th>\n",
       "      <td>There Will Be Blood</td>\n",
       "      <td>8052.0</td>\n",
       "      <td>0.0</td>\n",
       "      <td>0.000000</td>\n",
       "      <td>6000</td>\n",
       "      <td>tt0469494</td>\n",
       "      <td>2007</td>\n",
       "      <td>50.0</td>\n",
       "    </tr>\n",
       "  </tbody>\n",
       "</table>\n",
       "<p>2000 rows × 8 columns</p>\n",
       "</div>"
      ],
      "text/plain": [
       "                           title  words_men  words_women  frac_women  \\\n",
       "0           (500) Days of Summer    12762.0       5738.0    0.310162   \n",
       "1     10 Things I Hate About You    10688.0       8992.0    0.456911   \n",
       "2               12 Years a Slave    16176.0       3452.0    0.175871   \n",
       "3                 12 and Holding    10644.0       5324.0    0.333417   \n",
       "4                      127 Hours     4336.0        809.0    0.157240   \n",
       "...                          ...        ...          ...         ...   \n",
       "1995                The Revenant     5396.0          0.0    0.000000   \n",
       "1996    The Shawshank Redemption    13414.0          0.0    0.000000   \n",
       "1997           The Thin Red Line    18458.0          0.0    0.000000   \n",
       "1998              The Wild Bunch     8864.0          0.0    0.000000   \n",
       "1999         There Will Be Blood     8052.0          0.0    0.000000   \n",
       "\n",
       "      script_id    imdb_id  year  gross  \n",
       "0          1534  tt1022603  2009   37.0  \n",
       "1          1512  tt0147800  1999   65.0  \n",
       "2          1517  tt2024544  2013   60.0  \n",
       "3          1514  tt0417385  2005    NaN  \n",
       "4          1520  tt1542344  2010   20.0  \n",
       "...         ...        ...   ...    ...  \n",
       "1995       8257  tt1663202  2015  147.0  \n",
       "1996       3317  tt0111161  1994   58.0  \n",
       "1997       9177  tt0120863  1998   67.0  \n",
       "1998       1475  tt0065214  1969    NaN  \n",
       "1999       6000  tt0469494  2007   50.0  \n",
       "\n",
       "[2000 rows x 8 columns]"
      ]
     },
     "execution_count": 188,
     "metadata": {},
     "output_type": "execute_result"
    }
   ],
   "source": [
    "titledata = wordsbytitle.merge(movies, on = 'title')\n",
    "titledata"
   ]
  },
  {
   "cell_type": "markdown",
   "id": "e50ed9b5-fef4-4ac1-9e93-7ee336842d2c",
   "metadata": {},
   "source": [
    "### Inferential statistics with Pearson correlation."
   ]
  },
  {
   "cell_type": "code",
   "execution_count": 186,
   "id": "fallen-estimate",
   "metadata": {},
   "outputs": [],
   "source": [
    "from scipy.stats import pearsonr"
   ]
  },
  {
   "cell_type": "code",
   "execution_count": 4,
   "id": "congressional-founder",
   "metadata": {},
   "outputs": [],
   "source": [
    "# code goes here"
   ]
  }
 ],
 "metadata": {
  "kernelspec": {
   "display_name": "Python 3",
   "language": "python",
   "name": "python3"
  },
  "language_info": {
   "codemirror_mode": {
    "name": "ipython",
    "version": 3
   },
   "file_extension": ".py",
   "mimetype": "text/x-python",
   "name": "python",
   "nbconvert_exporter": "python",
   "pygments_lexer": "ipython3",
   "version": "3.7.4"
  }
 },
 "nbformat": 4,
 "nbformat_minor": 5
}
