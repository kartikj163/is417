{
 "cells": [
  {
   "cell_type": "markdown",
   "id": "young-cloud",
   "metadata": {},
   "source": [
    "# Homework 2: merging dataframes, inferential statistics"
   ]
  },
  {
   "cell_type": "code",
   "execution_count": 57,
   "id": "horizontal-breeding",
   "metadata": {},
   "outputs": [],
   "source": [
    "import pandas as pd\n",
    "from matplotlib import pyplot as plt\n",
    "from pathlib import Path\n",
    "from scipy.stats import pearsonr\n",
    "import numpy as np"
   ]
  },
  {
   "cell_type": "markdown",
   "id": "electric-asian",
   "metadata": {},
   "source": [
    "### PROBLEM 1:\n",
    "\n",
    "In our lab ```Movies and Statistics```, we discovered that women speak on average 851 words per film in this dataset; men 933.\n",
    "\n",
    "How often would a difference of means like that occur by chance? If the null hypothesis is that the number of words for women and for men comes from the same distribution, use a t test to evaluate the probability of the observed data given the null hypothesis."
   ]
  },
  {
   "cell_type": "code",
   "execution_count": 3,
   "id": "bulgarian-cancellation",
   "metadata": {},
   "outputs": [
    {
     "data": {
      "text/html": [
       "<div>\n",
       "<style scoped>\n",
       "    .dataframe tbody tr th:only-of-type {\n",
       "        vertical-align: middle;\n",
       "    }\n",
       "\n",
       "    .dataframe tbody tr th {\n",
       "        vertical-align: top;\n",
       "    }\n",
       "\n",
       "    .dataframe thead th {\n",
       "        text-align: right;\n",
       "    }\n",
       "</style>\n",
       "<table border=\"1\" class=\"dataframe\">\n",
       "  <thead>\n",
       "    <tr style=\"text-align: right;\">\n",
       "      <th></th>\n",
       "      <th>script_id</th>\n",
       "      <th>imdb_character_name</th>\n",
       "      <th>words</th>\n",
       "      <th>gender</th>\n",
       "      <th>age</th>\n",
       "    </tr>\n",
       "  </thead>\n",
       "  <tbody>\n",
       "    <tr>\n",
       "      <th>0</th>\n",
       "      <td>280</td>\n",
       "      <td>betty</td>\n",
       "      <td>311</td>\n",
       "      <td>f</td>\n",
       "      <td>35.0</td>\n",
       "    </tr>\n",
       "    <tr>\n",
       "      <th>1</th>\n",
       "      <td>280</td>\n",
       "      <td>carolyn johnson</td>\n",
       "      <td>873</td>\n",
       "      <td>f</td>\n",
       "      <td>NaN</td>\n",
       "    </tr>\n",
       "    <tr>\n",
       "      <th>2</th>\n",
       "      <td>280</td>\n",
       "      <td>eleanor</td>\n",
       "      <td>138</td>\n",
       "      <td>f</td>\n",
       "      <td>NaN</td>\n",
       "    </tr>\n",
       "    <tr>\n",
       "      <th>3</th>\n",
       "      <td>280</td>\n",
       "      <td>francesca johns</td>\n",
       "      <td>2251</td>\n",
       "      <td>f</td>\n",
       "      <td>46.0</td>\n",
       "    </tr>\n",
       "    <tr>\n",
       "      <th>4</th>\n",
       "      <td>280</td>\n",
       "      <td>madge</td>\n",
       "      <td>190</td>\n",
       "      <td>f</td>\n",
       "      <td>46.0</td>\n",
       "    </tr>\n",
       "  </tbody>\n",
       "</table>\n",
       "</div>"
      ],
      "text/plain": [
       "   script_id imdb_character_name  words gender   age\n",
       "0        280               betty    311      f  35.0\n",
       "1        280     carolyn johnson    873      f   NaN\n",
       "2        280             eleanor    138      f   NaN\n",
       "3        280     francesca johns   2251      f  46.0\n",
       "4        280               madge    190      f  46.0"
      ]
     },
     "execution_count": 3,
     "metadata": {},
     "output_type": "execute_result"
    }
   ],
   "source": [
    "charpath = Path('../data/pudding/pudding_characters.csv')\n",
    "chars = pd.read_csv(charpath, encoding = 'utf-8')\n",
    "chars.head()"
   ]
  },
  {
   "cell_type": "code",
   "execution_count": 4,
   "id": "secure-fossil",
   "metadata": {},
   "outputs": [],
   "source": [
    "mcharwords = chars.loc[chars['gender'] == 'm', 'words']\n",
    "fcharwords = chars.loc[chars['gender'] == 'f', 'words']"
   ]
  },
  {
   "cell_type": "markdown",
   "id": "editorial-delay",
   "metadata": {},
   "source": [
    "#### There are several valid ways to approach this\n",
    "\n",
    "Here's the simplest one: don't exclude any characters."
   ]
  },
  {
   "cell_type": "code",
   "execution_count": 17,
   "id": "subjective-times",
   "metadata": {},
   "outputs": [
    {
     "data": {
      "text/plain": [
       "932.6529878502356"
      ]
     },
     "execution_count": 17,
     "metadata": {},
     "output_type": "execute_result"
    }
   ],
   "source": [
    "np.mean(mcharwords) # this step is optional"
   ]
  },
  {
   "cell_type": "code",
   "execution_count": 18,
   "id": "expired-kelly",
   "metadata": {},
   "outputs": [
    {
     "data": {
      "text/plain": [
       "850.4785125162784"
      ]
     },
     "execution_count": 18,
     "metadata": {},
     "output_type": "execute_result"
    }
   ],
   "source": [
    "np.mean(fcharwords)  # also optional"
   ]
  },
  {
   "cell_type": "code",
   "execution_count": 10,
   "id": "joint-butterfly",
   "metadata": {},
   "outputs": [],
   "source": [
    "from scipy.stats import ttest_ind"
   ]
  },
  {
   "cell_type": "code",
   "execution_count": 11,
   "id": "reasonable-visiting",
   "metadata": {},
   "outputs": [
    {
     "data": {
      "text/plain": [
       "Ttest_indResult(statistic=4.084984432671419, pvalue=4.422877543621665e-05)"
      ]
     },
     "execution_count": 11,
     "metadata": {},
     "output_type": "execute_result"
    }
   ],
   "source": [
    "ttest_ind(mcharwords, fcharwords)  # this is key"
   ]
  },
  {
   "cell_type": "markdown",
   "id": "acceptable-basement",
   "metadata": {},
   "source": [
    "It could be equally valid to perform a Welch's t test. To do use, you use the same function and simply instruct it not to assume that the two vectors being compared have the same variance."
   ]
  },
  {
   "cell_type": "code",
   "execution_count": 16,
   "id": "phantom-steel",
   "metadata": {},
   "outputs": [
    {
     "data": {
      "text/plain": [
       "Ttest_indResult(statistic=4.420597436503074, pvalue=9.908485935594459e-06)"
      ]
     },
     "execution_count": 16,
     "metadata": {},
     "output_type": "execute_result"
    }
   ],
   "source": [
    "ttest_ind(mcharwords, fcharwords, equal_var = False)"
   ]
  },
  {
   "cell_type": "markdown",
   "id": "successful-strike",
   "metadata": {},
   "source": [
    "#### Another possibility: in class we excluded characters older than 1000."
   ]
  },
  {
   "cell_type": "code",
   "execution_count": 19,
   "id": "military-rotation",
   "metadata": {},
   "outputs": [],
   "source": [
    "humans = chars[chars['age'] <= 1000]"
   ]
  },
  {
   "cell_type": "code",
   "execution_count": 20,
   "id": "early-decline",
   "metadata": {},
   "outputs": [
    {
     "data": {
      "text/plain": [
       "Ttest_indResult(statistic=4.0144930201137266, pvalue=5.981186155583732e-05)"
      ]
     },
     "execution_count": 20,
     "metadata": {},
     "output_type": "execute_result"
    }
   ],
   "source": [
    "ttest_ind(humans.loc[humans['gender'] == 'm', 'words'], humans.loc[humans['gender'] == 'f', 'words'])"
   ]
  },
  {
   "cell_type": "markdown",
   "id": "yellow-television",
   "metadata": {},
   "source": [
    "I didn't specifically ask them to interpret this result, so simply generating the pvalue is enough. They don't have to write a sentence of interpretation."
   ]
  },
  {
   "cell_type": "markdown",
   "id": "conscious-hungary",
   "metadata": {},
   "source": [
    "### PROBLEM 2:\n",
    "\n",
    "In the lab, we grouped characters by *movie title*, calculated the fraction of dialogue spoken by women in each movie, and compared that to movies' release year.\n",
    "\n",
    "We found a significant relationship.\n",
    "\n",
    "But what if you grouped characters by *release year* and calculated the fraction of dialogue spoken by women in each *year*?\n",
    "\n",
    "Try generating a data frame with that information. Then measure the Pearson correlation between the year column and the fraction-of-dialogue-by-women column. Is the p value still less than .05? \n",
    "\n",
    "How do you explain the discrepancy between these two experiments? (Write a sentence or two explaining the difference you've observed.)"
   ]
  },
  {
   "cell_type": "markdown",
   "id": "julian-apartment",
   "metadata": {},
   "source": [
    "#### Merging frames\n",
    "\n",
    "To answer this question it will be necessary to merge the frame of characters with a frame of movies.\n",
    "\n",
    "First we read it."
   ]
  },
  {
   "cell_type": "code",
   "execution_count": 22,
   "id": "first-removal",
   "metadata": {},
   "outputs": [
    {
     "data": {
      "text/html": [
       "<div>\n",
       "<style scoped>\n",
       "    .dataframe tbody tr th:only-of-type {\n",
       "        vertical-align: middle;\n",
       "    }\n",
       "\n",
       "    .dataframe tbody tr th {\n",
       "        vertical-align: top;\n",
       "    }\n",
       "\n",
       "    .dataframe thead th {\n",
       "        text-align: right;\n",
       "    }\n",
       "</style>\n",
       "<table border=\"1\" class=\"dataframe\">\n",
       "  <thead>\n",
       "    <tr style=\"text-align: right;\">\n",
       "      <th></th>\n",
       "      <th>script_id</th>\n",
       "      <th>imdb_id</th>\n",
       "      <th>title</th>\n",
       "      <th>year</th>\n",
       "      <th>gross</th>\n",
       "      <th>lines_data</th>\n",
       "    </tr>\n",
       "  </thead>\n",
       "  <tbody>\n",
       "    <tr>\n",
       "      <th>0</th>\n",
       "      <td>1534</td>\n",
       "      <td>tt1022603</td>\n",
       "      <td>(500) Days of Summer</td>\n",
       "      <td>2009</td>\n",
       "      <td>37.0</td>\n",
       "      <td>7435445256774780000000000000000000000000000000...</td>\n",
       "    </tr>\n",
       "    <tr>\n",
       "      <th>1</th>\n",
       "      <td>1512</td>\n",
       "      <td>tt0147800</td>\n",
       "      <td>10 Things I Hate About You</td>\n",
       "      <td>1999</td>\n",
       "      <td>65.0</td>\n",
       "      <td>1777752320274530000000000000000000000000000000...</td>\n",
       "    </tr>\n",
       "    <tr>\n",
       "      <th>2</th>\n",
       "      <td>1514</td>\n",
       "      <td>tt0417385</td>\n",
       "      <td>12 and Holding</td>\n",
       "      <td>2005</td>\n",
       "      <td>NaN</td>\n",
       "      <td>5461357777754220000000000000000000000000000000...</td>\n",
       "    </tr>\n",
       "    <tr>\n",
       "      <th>3</th>\n",
       "      <td>1517</td>\n",
       "      <td>tt2024544</td>\n",
       "      <td>12 Years a Slave</td>\n",
       "      <td>2013</td>\n",
       "      <td>60.0</td>\n",
       "      <td>4567334777777780000000000000000000000000000000...</td>\n",
       "    </tr>\n",
       "    <tr>\n",
       "      <th>4</th>\n",
       "      <td>1520</td>\n",
       "      <td>tt1542344</td>\n",
       "      <td>127 Hours</td>\n",
       "      <td>2010</td>\n",
       "      <td>20.0</td>\n",
       "      <td>453513352345766000000000000000</td>\n",
       "    </tr>\n",
       "  </tbody>\n",
       "</table>\n",
       "</div>"
      ],
      "text/plain": [
       "   script_id    imdb_id                       title  year  gross  \\\n",
       "0       1534  tt1022603        (500) Days of Summer  2009   37.0   \n",
       "1       1512  tt0147800  10 Things I Hate About You  1999   65.0   \n",
       "2       1514  tt0417385              12 and Holding  2005    NaN   \n",
       "3       1517  tt2024544            12 Years a Slave  2013   60.0   \n",
       "4       1520  tt1542344                   127 Hours  2010   20.0   \n",
       "\n",
       "                                          lines_data  \n",
       "0  7435445256774780000000000000000000000000000000...  \n",
       "1  1777752320274530000000000000000000000000000000...  \n",
       "2  5461357777754220000000000000000000000000000000...  \n",
       "3  4567334777777780000000000000000000000000000000...  \n",
       "4                     453513352345766000000000000000  "
      ]
     },
     "execution_count": 22,
     "metadata": {},
     "output_type": "execute_result"
    }
   ],
   "source": [
    "moviepath = Path('../data/pudding/pudding_movies.csv')\n",
    "movies = pd.read_csv(moviepath, encoding = 'utf-8')\n",
    "movies.head()"
   ]
  },
  {
   "cell_type": "markdown",
   "id": "signed-blade",
   "metadata": {},
   "source": [
    "Then we merge the two frames on ```script_id.```"
   ]
  },
  {
   "cell_type": "code",
   "execution_count": 47,
   "id": "raised-trouble",
   "metadata": {},
   "outputs": [],
   "source": [
    "merged = pd.merge(chars, movies, on = 'script_id')"
   ]
  },
  {
   "cell_type": "markdown",
   "id": "standard-saver",
   "metadata": {},
   "source": [
    "Now we need to calculate the fraction of words spoken by women in each year. There are a variety of ways to do this.\n",
    "\n",
    "First, the way I showed in class. We can split the merged frame by character gender, group it by year, and calculate the total number of words spoken by characters of that gender in each year."
   ]
  },
  {
   "cell_type": "code",
   "execution_count": 27,
   "id": "aboriginal-young",
   "metadata": {},
   "outputs": [],
   "source": [
    "malewordsbyyear = merged.loc[merged['gender'] == 'm', : ].groupby('year', as_index = False).sum()"
   ]
  },
  {
   "cell_type": "code",
   "execution_count": 40,
   "id": "hybrid-substitute",
   "metadata": {},
   "outputs": [],
   "source": [
    "femalewordsbyyear = merged.loc[merged['gender'] == 'f', : ].groupby('year', as_index = False).sum()"
   ]
  },
  {
   "cell_type": "markdown",
   "id": "drawn-chart",
   "metadata": {},
   "source": [
    "Then we can merge the male and female dataframes while assigning them different suffixes."
   ]
  },
  {
   "cell_type": "code",
   "execution_count": 41,
   "id": "mysterious-operator",
   "metadata": {},
   "outputs": [],
   "source": [
    "wordsbyyear = femalewordsbyyear.merge(malewordsbyyear, on = 'year', how = 'outer', suffixes = ['_women', '_men'])"
   ]
  },
  {
   "cell_type": "code",
   "execution_count": 42,
   "id": "quantitative-digit",
   "metadata": {},
   "outputs": [
    {
     "data": {
      "text/html": [
       "<div>\n",
       "<style scoped>\n",
       "    .dataframe tbody tr th:only-of-type {\n",
       "        vertical-align: middle;\n",
       "    }\n",
       "\n",
       "    .dataframe tbody tr th {\n",
       "        vertical-align: top;\n",
       "    }\n",
       "\n",
       "    .dataframe thead th {\n",
       "        text-align: right;\n",
       "    }\n",
       "</style>\n",
       "<table border=\"1\" class=\"dataframe\">\n",
       "  <thead>\n",
       "    <tr style=\"text-align: right;\">\n",
       "      <th></th>\n",
       "      <th>year</th>\n",
       "      <th>script_id_women</th>\n",
       "      <th>words_women</th>\n",
       "      <th>age_women</th>\n",
       "      <th>gross_women</th>\n",
       "      <th>script_id_men</th>\n",
       "      <th>words_men</th>\n",
       "      <th>age_men</th>\n",
       "      <th>gross_men</th>\n",
       "    </tr>\n",
       "  </thead>\n",
       "  <tbody>\n",
       "    <tr>\n",
       "      <th>0</th>\n",
       "      <td>1929</td>\n",
       "      <td>12093</td>\n",
       "      <td>1412</td>\n",
       "      <td>99.0</td>\n",
       "      <td>0.0</td>\n",
       "      <td>12093</td>\n",
       "      <td>7160</td>\n",
       "      <td>123.0</td>\n",
       "      <td>0.0</td>\n",
       "    </tr>\n",
       "    <tr>\n",
       "      <th>1</th>\n",
       "      <td>1931</td>\n",
       "      <td>9607</td>\n",
       "      <td>2337</td>\n",
       "      <td>43.0</td>\n",
       "      <td>298.0</td>\n",
       "      <td>40600</td>\n",
       "      <td>9264</td>\n",
       "      <td>406.0</td>\n",
       "      <td>1192.0</td>\n",
       "    </tr>\n",
       "    <tr>\n",
       "      <th>2</th>\n",
       "      <td>1932</td>\n",
       "      <td>27732</td>\n",
       "      <td>17933</td>\n",
       "      <td>281.0</td>\n",
       "      <td>0.0</td>\n",
       "      <td>105172</td>\n",
       "      <td>49601</td>\n",
       "      <td>1849.0</td>\n",
       "      <td>0.0</td>\n",
       "    </tr>\n",
       "    <tr>\n",
       "      <th>3</th>\n",
       "      <td>1933</td>\n",
       "      <td>18401</td>\n",
       "      <td>5172</td>\n",
       "      <td>135.0</td>\n",
       "      <td>0.0</td>\n",
       "      <td>84709</td>\n",
       "      <td>15953</td>\n",
       "      <td>675.0</td>\n",
       "      <td>0.0</td>\n",
       "    </tr>\n",
       "    <tr>\n",
       "      <th>4</th>\n",
       "      <td>1934</td>\n",
       "      <td>35901</td>\n",
       "      <td>7723</td>\n",
       "      <td>190.0</td>\n",
       "      <td>0.0</td>\n",
       "      <td>82128</td>\n",
       "      <td>16923</td>\n",
       "      <td>595.0</td>\n",
       "      <td>0.0</td>\n",
       "    </tr>\n",
       "  </tbody>\n",
       "</table>\n",
       "</div>"
      ],
      "text/plain": [
       "   year  script_id_women  words_women  age_women  gross_women  script_id_men  \\\n",
       "0  1929            12093         1412       99.0          0.0          12093   \n",
       "1  1931             9607         2337       43.0        298.0          40600   \n",
       "2  1932            27732        17933      281.0          0.0         105172   \n",
       "3  1933            18401         5172      135.0          0.0          84709   \n",
       "4  1934            35901         7723      190.0          0.0          82128   \n",
       "\n",
       "   words_men  age_men  gross_men  \n",
       "0       7160    123.0        0.0  \n",
       "1       9264    406.0     1192.0  \n",
       "2      49601   1849.0        0.0  \n",
       "3      15953    675.0        0.0  \n",
       "4      16923    595.0        0.0  "
      ]
     },
     "execution_count": 42,
     "metadata": {},
     "output_type": "execute_result"
    }
   ],
   "source": [
    "wordsbyyear.head()"
   ]
  },
  {
   "cell_type": "markdown",
   "id": "daily-formation",
   "metadata": {},
   "source": [
    "Discard unneeded columns."
   ]
  },
  {
   "cell_type": "code",
   "execution_count": 43,
   "id": "deluxe-judgment",
   "metadata": {},
   "outputs": [],
   "source": [
    "wordsbyyear = wordsbyyear.loc[ : , ['year', 'words_men', 'words_women']]"
   ]
  },
  {
   "cell_type": "markdown",
   "id": "affected-toronto",
   "metadata": {},
   "source": [
    "Now we can create a column that reports the fraction of words spoken by women, simply by calculating a relationship between the two columns ```words_women``` and ```words_men```. Note that Pandas Series can be added and divided en masse, like numpy arrays."
   ]
  },
  {
   "cell_type": "code",
   "execution_count": 44,
   "id": "infrared-fifteen",
   "metadata": {},
   "outputs": [],
   "source": [
    "wordsbyyear = wordsbyyear.assign(frac_women = wordsbyyear['words_women'] / \n",
    "                                     (wordsbyyear['words_women'] + wordsbyyear['words_men']))"
   ]
  },
  {
   "cell_type": "markdown",
   "id": "respective-float",
   "metadata": {},
   "source": [
    "This is the result."
   ]
  },
  {
   "cell_type": "code",
   "execution_count": 45,
   "id": "northern-proxy",
   "metadata": {},
   "outputs": [
    {
     "data": {
      "text/html": [
       "<div>\n",
       "<style scoped>\n",
       "    .dataframe tbody tr th:only-of-type {\n",
       "        vertical-align: middle;\n",
       "    }\n",
       "\n",
       "    .dataframe tbody tr th {\n",
       "        vertical-align: top;\n",
       "    }\n",
       "\n",
       "    .dataframe thead th {\n",
       "        text-align: right;\n",
       "    }\n",
       "</style>\n",
       "<table border=\"1\" class=\"dataframe\">\n",
       "  <thead>\n",
       "    <tr style=\"text-align: right;\">\n",
       "      <th></th>\n",
       "      <th>year</th>\n",
       "      <th>words_men</th>\n",
       "      <th>words_women</th>\n",
       "      <th>frac_women</th>\n",
       "    </tr>\n",
       "  </thead>\n",
       "  <tbody>\n",
       "    <tr>\n",
       "      <th>0</th>\n",
       "      <td>1929</td>\n",
       "      <td>7160</td>\n",
       "      <td>1412</td>\n",
       "      <td>0.164722</td>\n",
       "    </tr>\n",
       "    <tr>\n",
       "      <th>1</th>\n",
       "      <td>1931</td>\n",
       "      <td>9264</td>\n",
       "      <td>2337</td>\n",
       "      <td>0.201448</td>\n",
       "    </tr>\n",
       "    <tr>\n",
       "      <th>2</th>\n",
       "      <td>1932</td>\n",
       "      <td>49601</td>\n",
       "      <td>17933</td>\n",
       "      <td>0.265540</td>\n",
       "    </tr>\n",
       "    <tr>\n",
       "      <th>3</th>\n",
       "      <td>1933</td>\n",
       "      <td>15953</td>\n",
       "      <td>5172</td>\n",
       "      <td>0.244828</td>\n",
       "    </tr>\n",
       "    <tr>\n",
       "      <th>4</th>\n",
       "      <td>1934</td>\n",
       "      <td>16923</td>\n",
       "      <td>7723</td>\n",
       "      <td>0.313357</td>\n",
       "    </tr>\n",
       "  </tbody>\n",
       "</table>\n",
       "</div>"
      ],
      "text/plain": [
       "   year  words_men  words_women  frac_women\n",
       "0  1929       7160         1412    0.164722\n",
       "1  1931       9264         2337    0.201448\n",
       "2  1932      49601        17933    0.265540\n",
       "3  1933      15953         5172    0.244828\n",
       "4  1934      16923         7723    0.313357"
      ]
     },
     "execution_count": 45,
     "metadata": {},
     "output_type": "execute_result"
    }
   ],
   "source": [
    "wordsbyyear.head()"
   ]
  },
  {
   "cell_type": "code",
   "execution_count": 46,
   "id": "empirical-abortion",
   "metadata": {},
   "outputs": [
    {
     "data": {
      "text/plain": [
       "<AxesSubplot:xlabel='year', ylabel='frac_women'>"
      ]
     },
     "execution_count": 46,
     "metadata": {},
     "output_type": "execute_result"
    },
    {
     "data": {
      "image/png": "[encoded data removed]",
      "text/plain": [
       "<Figure size 432x288 with 1 Axes>"
      ]
     },
     "metadata": {
      "needs_background": "light"
     },
     "output_type": "display_data"
    }
   ],
   "source": [
    "wordsbyyear.plot(kind = 'scatter', x = 'year', y = 'frac_women')"
   ]
  },
  {
   "cell_type": "markdown",
   "id": "annoying-polls",
   "metadata": {},
   "source": [
    "**An alternate way to do this** is to define a function and use the ```.apply()``` method, which applies a function across the elements of a group_by object."
   ]
  },
  {
   "cell_type": "code",
   "execution_count": 55,
   "id": "horizontal-direction",
   "metadata": {},
   "outputs": [
    {
     "data": {
      "text/html": [
       "<div>\n",
       "<style scoped>\n",
       "    .dataframe tbody tr th:only-of-type {\n",
       "        vertical-align: middle;\n",
       "    }\n",
       "\n",
       "    .dataframe tbody tr th {\n",
       "        vertical-align: top;\n",
       "    }\n",
       "\n",
       "    .dataframe thead th {\n",
       "        text-align: right;\n",
       "    }\n",
       "</style>\n",
       "<table border=\"1\" class=\"dataframe\">\n",
       "  <thead>\n",
       "    <tr style=\"text-align: right;\">\n",
       "      <th></th>\n",
       "      <th>year</th>\n",
       "      <th>frac_women</th>\n",
       "    </tr>\n",
       "  </thead>\n",
       "  <tbody>\n",
       "    <tr>\n",
       "      <th>0</th>\n",
       "      <td>1929</td>\n",
       "      <td>0.164722</td>\n",
       "    </tr>\n",
       "    <tr>\n",
       "      <th>1</th>\n",
       "      <td>1931</td>\n",
       "      <td>0.201448</td>\n",
       "    </tr>\n",
       "    <tr>\n",
       "      <th>2</th>\n",
       "      <td>1932</td>\n",
       "      <td>0.265540</td>\n",
       "    </tr>\n",
       "    <tr>\n",
       "      <th>3</th>\n",
       "      <td>1933</td>\n",
       "      <td>0.244828</td>\n",
       "    </tr>\n",
       "    <tr>\n",
       "      <th>4</th>\n",
       "      <td>1934</td>\n",
       "      <td>0.313357</td>\n",
       "    </tr>\n",
       "  </tbody>\n",
       "</table>\n",
       "</div>"
      ],
      "text/plain": [
       "   year  frac_women\n",
       "0  1929    0.164722\n",
       "1  1931    0.201448\n",
       "2  1932    0.265540\n",
       "3  1933    0.244828\n",
       "4  1934    0.313357"
      ]
     },
     "execution_count": 55,
     "metadata": {},
     "output_type": "execute_result"
    }
   ],
   "source": [
    "def get_fraction_words_by_women(df):\n",
    "    \n",
    "    ''' Given a data frame for a specific year, this calculates the total number of words spoken\n",
    "    by male characters in that year, and the number for women.\n",
    "    \n",
    "    Then it returns the fraction spoken by women. Returning this value as a Series allows us\n",
    "    to set the column name. But we could just return the number.\n",
    "    '''\n",
    "    \n",
    "    summalewords = np.sum(df.loc[df['gender'] == 'm', 'words'])\n",
    "    sumfemalewords = np.sum(df.loc[df['gender'] == 'f', 'words'])\n",
    "    year = df.at[df.index[0], 'year']\n",
    "    return pd.Series({'frac_women': sumfemalewords / (summalewords + sumfemalewords)})\n",
    "\n",
    "# We group by year, then use the .apply() method to map our function across the dataframes\n",
    "# for different years.\n",
    "\n",
    "grouped = merged.groupby('year', as_index = False)\n",
    "altwordsbyyear = grouped.apply(get_fraction_words_by_women)\n",
    "altwordsbyyear.head()"
   ]
  },
  {
   "cell_type": "markdown",
   "id": "integral-despite",
   "metadata": {},
   "source": [
    "This produces the same result."
   ]
  },
  {
   "cell_type": "code",
   "execution_count": 56,
   "id": "boolean-fluid",
   "metadata": {},
   "outputs": [
    {
     "data": {
      "text/plain": [
       "<AxesSubplot:xlabel='year', ylabel='frac_women'>"
      ]
     },
     "execution_count": 56,
     "metadata": {},
     "output_type": "execute_result"
    },
    {
     "data": {
      "image/png": "[encoded data removed]",
      "text/plain": [
       "<Figure size 432x288 with 1 Axes>"
      ]
     },
     "metadata": {
      "needs_background": "light"
     },
     "output_type": "display_data"
    }
   ],
   "source": [
    "altwordsbyyear.plot(kind = 'scatter', x = 'year', y = 'frac_women')"
   ]
  },
  {
   "cell_type": "code",
   "execution_count": 58,
   "id": "conscious-africa",
   "metadata": {},
   "outputs": [
    {
     "data": {
      "text/plain": [
       "(0.2073722977986568, 0.06322721137239326)"
      ]
     },
     "execution_count": 58,
     "metadata": {},
     "output_type": "execute_result"
    }
   ],
   "source": [
    "pearsonr(wordsbyyear['year'], wordsbyyear['frac_women'])"
   ]
  },
  {
   "cell_type": "markdown",
   "id": "surprised-appointment",
   "metadata": {},
   "source": [
    "So *r* is reported as .207, and the p value as .063.\n",
    "\n",
    "This result appears not to be significant at *p* < .05, even though when we grouped characters by movie (by 'title'), we got a distinctly significant correlation between the same two variables: release year and ```frac_women.``` *R* in that case was 0.090, and p was .00006.\n",
    "\n",
    "Of course, in that case we had many more data points. There are approximately 2000 titles, and only 81 years in this dataset. When there are lots of data points, it becomes less likely that a given pattern would appear under the null hypothesis. So one lesson we might draw from this comparison is that *p* values are not a very stable way to assess the strength of a pattern. They're very sensitive to data size, which means that a result can gain or lose statistical significance depending on the way data is grouped and aggregated."
   ]
  },
  {
   "cell_type": "code",
   "execution_count": null,
   "id": "frozen-possibility",
   "metadata": {},
   "outputs": [],
   "source": []
  }
 ],
 "metadata": {
  "kernelspec": {
   "display_name": "Python 3",
   "language": "python",
   "name": "python3"
  },
  "language_info": {
   "codemirror_mode": {
    "name": "ipython",
    "version": 3
   },
   "file_extension": ".py",
   "mimetype": "text/x-python",
   "name": "python",
   "nbconvert_exporter": "python",
   "pygments_lexer": "ipython3",
   "version": "3.7.6"
  }
 },
 "nbformat": 4,
 "nbformat_minor": 5
}
