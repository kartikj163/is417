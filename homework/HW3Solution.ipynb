{
 "cells": [
  {
   "cell_type": "markdown",
   "id": "southern-liberty",
   "metadata": {},
   "source": [
    "# Homework 3: distinctive words"
   ]
  },
  {
   "cell_type": "markdown",
   "id": "external-professional",
   "metadata": {},
   "source": [
    "We calculated distinctive words in movie titles. But there aren't really very many words in movie titles!\n",
    "\n",
    "It would be more fun to do the same thing with movie dialogue.\n",
    "\n",
    "Fortunately we have a dataset available."
   ]
  },
  {
   "cell_type": "code",
   "execution_count": 1,
   "id": "golden-source",
   "metadata": {},
   "outputs": [],
   "source": [
    "import pandas as pd\n",
    "import numpy as np\n",
    "from sklearn.feature_extraction.text import CountVectorizer\n",
    "from pathlib import Path\n",
    "import math\n",
    "pd.set_option('display.max_rows', 100)"
   ]
  },
  {
   "cell_type": "code",
   "execution_count": 2,
   "id": "mineral-taste",
   "metadata": {},
   "outputs": [
    {
     "data": {
      "text/html": [
       "<div>\n",
       "<style scoped>\n",
       "    .dataframe tbody tr th:only-of-type {\n",
       "        vertical-align: middle;\n",
       "    }\n",
       "\n",
       "    .dataframe tbody tr th {\n",
       "        vertical-align: top;\n",
       "    }\n",
       "\n",
       "    .dataframe thead th {\n",
       "        text-align: right;\n",
       "    }\n",
       "</style>\n",
       "<table border=\"1\" class=\"dataframe\">\n",
       "  <thead>\n",
       "    <tr style=\"text-align: right;\">\n",
       "      <th></th>\n",
       "      <th>mid</th>\n",
       "      <th>cid</th>\n",
       "      <th>cname</th>\n",
       "      <th>mname</th>\n",
       "      <th>gender</th>\n",
       "      <th>wordcount</th>\n",
       "      <th>year</th>\n",
       "      <th>genres</th>\n",
       "      <th>comedy</th>\n",
       "      <th>thriller</th>\n",
       "      <th>drama</th>\n",
       "      <th>romance</th>\n",
       "      <th>lines</th>\n",
       "    </tr>\n",
       "  </thead>\n",
       "  <tbody>\n",
       "    <tr>\n",
       "      <th>955</th>\n",
       "      <td>m27</td>\n",
       "      <td>u441</td>\n",
       "      <td>DUNWITTY</td>\n",
       "      <td>bamboozled</td>\n",
       "      <td>m</td>\n",
       "      <td>1175</td>\n",
       "      <td>2000</td>\n",
       "      <td>['comedy', 'drama', 'music']</td>\n",
       "      <td>True</td>\n",
       "      <td>False</td>\n",
       "      <td>True</td>\n",
       "      <td>False</td>\n",
       "      <td>I want to meet her one day, please tell her th...</td>\n",
       "    </tr>\n",
       "    <tr>\n",
       "      <th>1998</th>\n",
       "      <td>m465</td>\n",
       "      <td>u6953</td>\n",
       "      <td>EDIE</td>\n",
       "      <td>on the waterfront</td>\n",
       "      <td>f</td>\n",
       "      <td>1278</td>\n",
       "      <td>1954</td>\n",
       "      <td>['crime', 'drama', 'romance']</td>\n",
       "      <td>False</td>\n",
       "      <td>False</td>\n",
       "      <td>True</td>\n",
       "      <td>True</td>\n",
       "      <td>They're waiting for him to walk in. / Terry......</td>\n",
       "    </tr>\n",
       "    <tr>\n",
       "      <th>1609</th>\n",
       "      <td>m394</td>\n",
       "      <td>u5951</td>\n",
       "      <td>HAWK</td>\n",
       "      <td>hudson hawk</td>\n",
       "      <td>m</td>\n",
       "      <td>1845</td>\n",
       "      <td>1991</td>\n",
       "      <td>['action', 'adventure', 'comedy', 'action', 'a...</td>\n",
       "      <td>True</td>\n",
       "      <td>False</td>\n",
       "      <td>False</td>\n",
       "      <td>False</td>\n",
       "      <td>Let's just forget it, I mean... / You're a ree...</td>\n",
       "    </tr>\n",
       "    <tr>\n",
       "      <th>2865</th>\n",
       "      <td>m78</td>\n",
       "      <td>u1195</td>\n",
       "      <td>PREYSING</td>\n",
       "      <td>grand hotel</td>\n",
       "      <td>m</td>\n",
       "      <td>1335</td>\n",
       "      <td>1932</td>\n",
       "      <td>['drama', 'romance']</td>\n",
       "      <td>False</td>\n",
       "      <td>False</td>\n",
       "      <td>True</td>\n",
       "      <td>True</td>\n",
       "      <td>Hello! Hello! -- / I'm going to call the polic...</td>\n",
       "    </tr>\n",
       "    <tr>\n",
       "      <th>2921</th>\n",
       "      <td>m9</td>\n",
       "      <td>u132</td>\n",
       "      <td>DAVE</td>\n",
       "      <td>the atomic submarine</td>\n",
       "      <td>m</td>\n",
       "      <td>258</td>\n",
       "      <td>1959</td>\n",
       "      <td>['sci-fi', 'thriller']</td>\n",
       "      <td>False</td>\n",
       "      <td>True</td>\n",
       "      <td>False</td>\n",
       "      <td>False</td>\n",
       "      <td>What's goin' on in here, Lad? What - ? / Oh it...</td>\n",
       "    </tr>\n",
       "  </tbody>\n",
       "</table>\n",
       "</div>"
      ],
      "text/plain": [
       "       mid    cid     cname                 mname gender  wordcount  year  \\\n",
       "955    m27   u441  DUNWITTY            bamboozled      m       1175  2000   \n",
       "1998  m465  u6953      EDIE     on the waterfront      f       1278  1954   \n",
       "1609  m394  u5951      HAWK           hudson hawk      m       1845  1991   \n",
       "2865   m78  u1195  PREYSING           grand hotel      m       1335  1932   \n",
       "2921    m9   u132      DAVE  the atomic submarine      m        258  1959   \n",
       "\n",
       "                                                 genres  comedy  thriller  \\\n",
       "955                        ['comedy', 'drama', 'music']    True     False   \n",
       "1998                      ['crime', 'drama', 'romance']   False     False   \n",
       "1609  ['action', 'adventure', 'comedy', 'action', 'a...    True     False   \n",
       "2865                               ['drama', 'romance']   False     False   \n",
       "2921                             ['sci-fi', 'thriller']   False      True   \n",
       "\n",
       "      drama  romance                                              lines  \n",
       "955    True    False  I want to meet her one day, please tell her th...  \n",
       "1998   True     True  They're waiting for him to walk in. / Terry......  \n",
       "1609  False    False  Let's just forget it, I mean... / You're a ree...  \n",
       "2865   True     True  Hello! Hello! -- / I'm going to call the polic...  \n",
       "2921  False    False  What's goin' on in here, Lad? What - ? / Oh it...  "
      ]
     },
     "execution_count": 2,
     "metadata": {},
     "output_type": "execute_result"
    }
   ],
   "source": [
    "dialogpath = Path('../data/movie_dialogue.tsv')\n",
    "\n",
    "chars = pd.read_csv(dialogpath, sep = '\\t')\n",
    "\n",
    "# let's also randomize the row order\n",
    "chars = chars.sample(frac = 1.0)\n",
    "\n",
    "chars.head()"
   ]
  },
  {
   "cell_type": "markdown",
   "id": "forbidden-grave",
   "metadata": {},
   "source": [
    "## Assignment 1\n",
    "\n",
    "Find the 25 words that most strongly characterize romance, and the 25 that most strongly characterize dialogue that is not-in-a-romance. \n",
    "\n",
    "1. In doing this, create a CountVectorizer that considers the top *5000* words, not just the top *100* we took for titles. You've got more words to work with now.\n",
    "\n",
    "2. You can use the 'romance' column to divide rows.\n",
    "\n",
    "3. Use the get_dunnings function we developed in the lab to measure Dunning's log-likelihood.\n",
    "\n",
    "Finally report the 25 words at the top, and the bottom, of a list sorted by the Dunning's statistic."
   ]
  },
  {
   "cell_type": "code",
   "execution_count": 3,
   "id": "furnished-captain",
   "metadata": {},
   "outputs": [],
   "source": [
    "vectorizer = CountVectorizer(max_features = 5000)\n",
    "sparse_wordcounts = vectorizer.fit_transform(chars['lines'])\n",
    "wordcounts = sparse_wordcounts.toarray()\n",
    "features = vectorizer.get_feature_names()\n",
    "wordcounts = pd.DataFrame(wordcounts, columns = vectorizer.get_feature_names())"
   ]
  },
  {
   "cell_type": "code",
   "execution_count": 4,
   "id": "administrative-discipline",
   "metadata": {},
   "outputs": [],
   "source": [
    "romantic = wordcounts.loc[chars['romance'] == True, features].sum(axis = 'rows')\n",
    "unromantic = wordcounts.loc[chars['romance'] != True, features].sum(axis = 'rows')"
   ]
  },
  {
   "cell_type": "code",
   "execution_count": 5,
   "id": "prospective-carbon",
   "metadata": {},
   "outputs": [],
   "source": [
    "def get_dunnings(word, series1, series2):\n",
    "    observed = pd.DataFrame({'series1': [series1[word], sum(series1) - series1[word]],\n",
    "                          'series2': [series2[word], sum(series2) - series2[word]]},\n",
    "                        index = [word, 'all_others'])\n",
    "    total_words = observed.to_numpy().sum()\n",
    "    observed['word_totals'] = observed.sum(axis = 1)\n",
    "    observed = observed.append(observed.sum(axis = 0).rename(index = 'group_totals'))\n",
    "    observed.iat[2,2] = 0\n",
    "    observed['word_totals'] = observed['word_totals'] / sum(observed['word_totals'])\n",
    "    observed.loc['group_totals', : ] = observed.loc['group_totals', : ] / sum(observed.loc['group_totals', : ])\n",
    "    expected = np.outer(observed['word_totals'][0:2], observed.loc['group_totals', : ][0:2])\n",
    "    expected = pd.DataFrame(expected, index = [word, 'all_others'], columns = ['series1', 'series2'])\n",
    "    expected = expected * total_words\n",
    "    \n",
    "    G = 0\n",
    "    for i in range(2):\n",
    "        for j in range(2):\n",
    "            O = observed.iat[i, j] + .000001\n",
    "            E = expected.iat[i, j] + .000001\n",
    "            G = G + O * math.log(O / E)\n",
    "    \n",
    "    if (observed.iat[0, 0] / sum(observed.iloc[0: 2, 0])) < (observed.iat[0, 1] / sum(observed.iloc[0 : 2, 1])):\n",
    "        G = -G\n",
    "    \n",
    "    return 2 * G, observed, expected"
   ]
  },
  {
   "cell_type": "code",
   "execution_count": 6,
   "id": "expired-branch",
   "metadata": {},
   "outputs": [],
   "source": [
    "dunningslist = []\n",
    "\n",
    "for w in features:\n",
    "    G, observed, expected = get_dunnings(w, romantic, unromantic)\n",
    "    dunningslist.append(G)"
   ]
  },
  {
   "cell_type": "code",
   "execution_count": 7,
   "id": "declared-rider",
   "metadata": {},
   "outputs": [],
   "source": [
    "pd.set_option('display.float_format', lambda x: '%.5f' % x)"
   ]
  },
  {
   "cell_type": "code",
   "execution_count": 8,
   "id": "waiting-touch",
   "metadata": {},
   "outputs": [],
   "source": [
    "dunnings = pd.Series(dunningslist, index = features)"
   ]
  },
  {
   "cell_type": "code",
   "execution_count": 9,
   "id": "subjective-smoke",
   "metadata": {},
   "outputs": [],
   "source": [
    "dunnings = dunnings.sort_values()"
   ]
  },
  {
   "cell_type": "code",
   "execution_count": 10,
   "id": "ambient-proposition",
   "metadata": {},
   "outputs": [
    {
     "data": {
      "text/plain": [
       "heh         -75.68132\n",
       "yah         -70.82271\n",
       "brad        -51.69719\n",
       "hildy       -45.30152\n",
       "walter      -41.39556\n",
       "jim         -39.42503\n",
       "spock       -37.90584\n",
       "russia      -37.83995\n",
       "hannah      -31.97733\n",
       "beth        -29.64249\n",
       "richard     -29.25958\n",
       "ted         -28.97996\n",
       "oswald      -28.77777\n",
       "louise      -28.69289\n",
       "lad         -28.18934\n",
       "joe         -25.69103\n",
       "saunders    -23.98290\n",
       "alvy        -23.98290\n",
       "marylin     -23.44994\n",
       "dil         -23.44994\n",
       "caitlin     -22.91698\n",
       "norman      -22.89427\n",
       "shelly      -22.46723\n",
       "gallagher   -22.38402\n",
       "john        -21.72625\n",
       "dtype: float64"
      ]
     },
     "execution_count": 10,
     "metadata": {},
     "output_type": "execute_result"
    }
   ],
   "source": [
    "dunnings[0: 25]"
   ]
  },
  {
   "cell_type": "code",
   "execution_count": 11,
   "id": "cultural-hardwood",
   "metadata": {},
   "outputs": [
    {
     "data": {
      "text/plain": [
       "lenny       38.64834\n",
       "frances     38.88159\n",
       "lecter      40.43748\n",
       "mulder      40.59826\n",
       "paulie      41.73455\n",
       "norma       42.74878\n",
       "channing    43.72901\n",
       "friedman    45.09753\n",
       "hudson      45.16919\n",
       "susie       46.30778\n",
       "sailor      47.07013\n",
       "dignan      47.97458\n",
       "mcmurphy    49.89092\n",
       "dude        51.89048\n",
       "mister      52.50631\n",
       "mulwray     57.29341\n",
       "mama        58.29879\n",
       "moraes      61.86898\n",
       "stephen     64.66821\n",
       "thelma      71.19726\n",
       "viktor      78.55825\n",
       "karl        80.80105\n",
       "bela        85.04651\n",
       "bob        110.25736\n",
       "wyatt      116.14330\n",
       "dtype: float64"
      ]
     },
     "execution_count": 11,
     "metadata": {},
     "output_type": "execute_result"
    }
   ],
   "source": [
    "dunnings[-25 : ]"
   ]
  },
  {
   "cell_type": "markdown",
   "id": "intermediate-subject",
   "metadata": {},
   "source": [
    "I confess these are not very interpretable features! If you don't immediately see why one set of proper names is associated with romance, and another set isn't -- you're right to be unsure."
   ]
  },
  {
   "cell_type": "markdown",
   "id": "severe-respect",
   "metadata": {},
   "source": [
    "## Assignment 2\n",
    "\n",
    "A. What's the probability $P(character-in-romance)$, for all characters in this dataset?\n",
    "\n",
    "B. What's the conditional probability of a character occurring in a romance, given that the character speaks the word 'you'?\n",
    "\n",
    "In other words, calculate\n",
    "\n",
    "$P(character-in-romance \\mid character-says-you)$\n",
    "\n",
    "Note that both of these questions require a slightly different approach from the probability table we used to calculate Dunnings. The things being counted here are not words, but characters."
   ]
  },
  {
   "cell_type": "markdown",
   "id": "advised-analysis",
   "metadata": {},
   "source": [
    "#### Part A"
   ]
  },
  {
   "cell_type": "code",
   "execution_count": 23,
   "id": "sound-doubt",
   "metadata": {},
   "outputs": [
    {
     "data": {
      "text/plain": [
       "False   0.76255\n",
       "True    0.23745\n",
       "Name: romance, dtype: float64"
      ]
     },
     "execution_count": 23,
     "metadata": {},
     "output_type": "execute_result"
    }
   ],
   "source": [
    "# part A\n",
    "\n",
    "chars['romance'].value_counts() / len(chars)"
   ]
  },
  {
   "cell_type": "markdown",
   "id": "plain-cinema",
   "metadata": {},
   "source": [
    "P(romance) is 0.23745."
   ]
  },
  {
   "cell_type": "markdown",
   "id": "written-qualification",
   "metadata": {},
   "source": [
    "#### Part B"
   ]
  },
  {
   "cell_type": "code",
   "execution_count": 24,
   "id": "bce57f2c-b6a5-4498-9cc4-7b96f4e1ee48",
   "metadata": {},
   "outputs": [],
   "source": [
    "youchars = chars.loc[wordcounts['you'] >= 1, : ]"
   ]
  },
  {
   "cell_type": "code",
   "execution_count": 25,
   "id": "dd08e6e2-4f00-4712-b561-3acedb1be54e",
   "metadata": {},
   "outputs": [
    {
     "data": {
      "text/plain": [
       "False   0.76240\n",
       "True    0.23760\n",
       "Name: romance, dtype: float64"
      ]
     },
     "execution_count": 25,
     "metadata": {},
     "output_type": "execute_result"
    }
   ],
   "source": [
    "youchars['romance'].value_counts() / len(youchars)"
   ]
  },
  {
   "cell_type": "markdown",
   "id": "13af84ac-0bf9-4cf4-aaaa-815ff4595669",
   "metadata": {},
   "source": [
    "P(romance|says-love) is 0.23760. The conditional probability is higher than the marginal."
   ]
  },
  {
   "cell_type": "code",
   "execution_count": 21,
   "id": "twelve-utility",
   "metadata": {},
   "outputs": [],
   "source": [
    "lovechars = chars.loc[wordcounts['love'] >= 1, : ]"
   ]
  },
  {
   "cell_type": "code",
   "execution_count": 22,
   "id": "diverse-playlist",
   "metadata": {},
   "outputs": [
    {
     "data": {
      "text/plain": [
       "False   0.76173\n",
       "True    0.23827\n",
       "Name: romance, dtype: float64"
      ]
     },
     "execution_count": 22,
     "metadata": {},
     "output_type": "execute_result"
    }
   ],
   "source": [
    "lovechars['romance'].value_counts() / len(lovechars)"
   ]
  },
  {
   "cell_type": "markdown",
   "id": "junior-remains",
   "metadata": {},
   "source": [
    "P(romance|says-love) is 0.23827.\n",
    "\n",
    "This is not a huge difference, but it's intuitive that a character's chance of being in a romance is at least slightly higher if they say the word \"love.\"\n"
   ]
  }
 ],
 "metadata": {
  "kernelspec": {
   "display_name": "Python 3",
   "language": "python",
   "name": "python3"
  },
  "language_info": {
   "codemirror_mode": {
    "name": "ipython",
    "version": 3
   },
   "file_extension": ".py",
   "mimetype": "text/x-python",
   "name": "python",
   "nbconvert_exporter": "python",
   "pygments_lexer": "ipython3",
   "version": "3.7.4"
  }
 },
 "nbformat": 4,
 "nbformat_minor": 5
}
