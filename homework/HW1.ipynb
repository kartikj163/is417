{
 "cells": [
  {
   "cell_type": "markdown",
   "id": "radio-parker",
   "metadata": {},
   "source": [
    "# First homework notebook: anagrams\n",
    "\n",
    "We're going to riff a little on the word 'Teralbay' from Milne's story. \n",
    "\n",
    "It's an anagram. What is it an anagram for?"
   ]
  },
  {
   "cell_type": "markdown",
   "id": "strange-handle",
   "metadata": {},
   "source": [
    "### counting letters in a word\n",
    "\n",
    "There are some simple ways to do this in Python."
   ]
  },
  {
   "cell_type": "code",
   "execution_count": 1,
   "id": "dominant-chambers",
   "metadata": {},
   "outputs": [
    {
     "data": {
      "text/plain": [
       "2"
      ]
     },
     "execution_count": 1,
     "metadata": {},
     "output_type": "execute_result"
    }
   ],
   "source": [
    "'teralbay'.count('a')"
   ]
  },
  {
   "cell_type": "markdown",
   "id": "preliminary-connecticut",
   "metadata": {},
   "source": [
    "### turning a string into a list of letters\n",
    "\n",
    "and sorting the letters\n"
   ]
  },
  {
   "cell_type": "code",
   "execution_count": 2,
   "id": "local-looking",
   "metadata": {},
   "outputs": [
    {
     "data": {
      "text/plain": [
       "['t', 'e', 'r', 'a', 'l', 'b', 'a', 'y']"
      ]
     },
     "execution_count": 2,
     "metadata": {},
     "output_type": "execute_result"
    }
   ],
   "source": [
    "teralbay = list('teralbay')\n",
    "teralbay"
   ]
  },
  {
   "cell_type": "code",
   "execution_count": 3,
   "id": "signed-hammer",
   "metadata": {},
   "outputs": [
    {
     "data": {
      "text/plain": [
       "['a', 'a', 'b', 'e', 'l', 'r', 't', 'y']"
      ]
     },
     "execution_count": 3,
     "metadata": {},
     "output_type": "execute_result"
    }
   ],
   "source": [
    "teralbay.sort()\n",
    "teralbay"
   ]
  },
  {
   "cell_type": "markdown",
   "id": "friendly-luxury",
   "metadata": {},
   "source": [
    "### getting interactive input\n",
    "\n",
    "You may want to write code that can query a user for a word or letter."
   ]
  },
  {
   "cell_type": "code",
   "execution_count": 5,
   "id": "early-destiny",
   "metadata": {},
   "outputs": [
    {
     "name": "stdout",
     "output_type": "stream",
     "text": [
      "You can ask me how often a given letter appears\n",
      "in the phrase \"xylophone parallelograms\".\n"
     ]
    },
    {
     "name": "stdin",
     "output_type": "stream",
     "text": [
      "Type a letter:  l\n"
     ]
    },
    {
     "name": "stdout",
     "output_type": "stream",
     "text": [
      "4\n"
     ]
    }
   ],
   "source": [
    "print('You can ask me how often a given letter appears')\n",
    "print('in the phrase \"xylophone parallelograms\".')\n",
    "user_letter = input('Type a letter: ')\n",
    "print('xylophone parallelograms'.count(user_letter))"
   ]
  },
  {
   "cell_type": "markdown",
   "id": "accompanied-possible",
   "metadata": {},
   "source": [
    "## Assignment 1:\n",
    "\n",
    "Write a block of code (a cell) that asks the user for a word, and then checks to see whether the word contains any letters that appear more than once. It answers 'True' if so. So, for instance:\n",
    "\n",
    "teralbay\n",
    "\n",
    "True\n",
    "\n",
    "uncopyrightable\n",
    "\n",
    "False"
   ]
  },
  {
   "cell_type": "code",
   "execution_count": 6,
   "id": "elementary-bullet",
   "metadata": {},
   "outputs": [],
   "source": [
    "# your code goes here"
   ]
  },
  {
   "cell_type": "markdown",
   "id": "documentary-syracuse",
   "metadata": {},
   "source": [
    "## Assignment 2:\n",
    "\n",
    "Write a block of code (a cell) that asks a user for two words (```wordA``` and ```wordB```), and then checks if they are anagrams of each other, answering \"True\" or \"anagram!\" if so."
   ]
  },
  {
   "cell_type": "code",
   "execution_count": null,
   "id": "direct-conducting",
   "metadata": {},
   "outputs": [],
   "source": [
    "# your code goes here\n",
    "\n",
    "# Hint: an easy way to check whether two strings are anagrams\n",
    "# is to sort the lists of letters and see if they're equal."
   ]
  },
  {
   "cell_type": "markdown",
   "id": "lucky-anniversary",
   "metadata": {},
   "source": [
    "## Assignment 3:\n",
    "\n",
    "I've included ```shortdictionary.txt``` in the homework folder; it's a list of 20000 common strings in English prose.\n",
    "\n",
    "For fun, if you like, find out what 'teralbay' is an anagram of.\n",
    "\n",
    "More generally, write a cell that allows a user to enter any word, and then finds all words in ```shortdictionary.txt``` that are anagrams of it (if there are any anagrams). If none, it should reply for instance \"There are no anagrams of that word.\"\n"
   ]
  },
  {
   "cell_type": "code",
   "execution_count": null,
   "id": "fallen-albuquerque",
   "metadata": {},
   "outputs": [],
   "source": []
  }
 ],
 "metadata": {
  "kernelspec": {
   "display_name": "Python 3",
   "language": "python",
   "name": "python3"
  },
  "language_info": {
   "codemirror_mode": {
    "name": "ipython",
    "version": 3
   },
   "file_extension": ".py",
   "mimetype": "text/x-python",
   "name": "python",
   "nbconvert_exporter": "python",
   "pygments_lexer": "ipython3",
   "version": "3.7.6"
  }
 },
 "nbformat": 4,
 "nbformat_minor": 5
}
