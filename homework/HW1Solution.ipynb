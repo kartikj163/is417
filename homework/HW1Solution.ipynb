{
 "cells": [
  {
   "cell_type": "markdown",
   "id": "sought-phase",
   "metadata": {},
   "source": [
    "# First homework notebook: anagrams\n",
    "\n",
    "We're going to riff a little on the word 'Teralbay' from Milne's story. \n",
    "\n",
    "It's an anagram. What is it an anagram for?"
   ]
  },
  {
   "cell_type": "markdown",
   "id": "downtown-things",
   "metadata": {},
   "source": [
    "### counting letters in a word\n",
    "\n",
    "There are some simple ways to do this in Python."
   ]
  },
  {
   "cell_type": "code",
   "execution_count": 1,
   "id": "deadly-referral",
   "metadata": {},
   "outputs": [
    {
     "data": {
      "text/plain": [
       "2"
      ]
     },
     "execution_count": 1,
     "metadata": {},
     "output_type": "execute_result"
    }
   ],
   "source": [
    "'teralbay'.count('a')"
   ]
  },
  {
   "cell_type": "markdown",
   "id": "suitable-polyester",
   "metadata": {},
   "source": [
    "### turning a string into a list of letters\n",
    "\n",
    "and sorting the letters\n"
   ]
  },
  {
   "cell_type": "code",
   "execution_count": 2,
   "id": "functional-millennium",
   "metadata": {},
   "outputs": [
    {
     "data": {
      "text/plain": [
       "['t', 'e', 'r', 'a', 'l', 'b', 'a', 'y']"
      ]
     },
     "execution_count": 2,
     "metadata": {},
     "output_type": "execute_result"
    }
   ],
   "source": [
    "teralbay = list('teralbay')\n",
    "teralbay"
   ]
  },
  {
   "cell_type": "code",
   "execution_count": 3,
   "id": "little-values",
   "metadata": {},
   "outputs": [
    {
     "data": {
      "text/plain": [
       "['a', 'a', 'b', 'e', 'l', 'r', 't', 'y']"
      ]
     },
     "execution_count": 3,
     "metadata": {},
     "output_type": "execute_result"
    }
   ],
   "source": [
    "teralbay.sort()\n",
    "teralbay"
   ]
  },
  {
   "cell_type": "markdown",
   "id": "sexual-strap",
   "metadata": {},
   "source": [
    "### getting interactive input\n",
    "\n",
    "You may want to write code that can query a user for a word or letter."
   ]
  },
  {
   "cell_type": "code",
   "execution_count": 5,
   "id": "renewable-champion",
   "metadata": {},
   "outputs": [
    {
     "name": "stdout",
     "output_type": "stream",
     "text": [
      "You can ask me how often a given letter appears\n",
      "in the phrase \"xylophone parallelograms\".\n"
     ]
    },
    {
     "name": "stdin",
     "output_type": "stream",
     "text": [
      "Type a letter:  l\n"
     ]
    },
    {
     "name": "stdout",
     "output_type": "stream",
     "text": [
      "4\n"
     ]
    }
   ],
   "source": [
    "print('You can ask me how often a given letter appears')\n",
    "print('in the phrase \"xylophone parallelograms\".')\n",
    "user_letter = input('Type a letter: ')\n",
    "print('xylophone parallelograms'.count(user_letter))"
   ]
  },
  {
   "cell_type": "markdown",
   "id": "enhanced-shakespeare",
   "metadata": {},
   "source": [
    "## Assignment 1:\n",
    "\n",
    "Write a block of code (a cell) that asks the user for a word, and then checks to see whether the word contains any letters that appear more than once. It answers 'True' if so. So, for instance:\n",
    "\n",
    "teralbay\n",
    "\n",
    "True\n",
    "\n",
    "uncopyrightable\n",
    "\n",
    "False"
   ]
  },
  {
   "cell_type": "code",
   "execution_count": 3,
   "id": "crude-stand",
   "metadata": {},
   "outputs": [
    {
     "name": "stdin",
     "output_type": "stream",
     "text": [
      "Please provide a word:  fish\n"
     ]
    },
    {
     "name": "stdout",
     "output_type": "stream",
     "text": [
      "False. That word contains no repeated character.\n"
     ]
    }
   ],
   "source": [
    "user_word = input('Please provide a word: ')\n",
    "letters = list(user_word)\n",
    "\n",
    "if len(letters) == len(set(letters)):\n",
    "    print('False. That word contains no repeated character.')\n",
    "else:\n",
    "    print('True. That word contains at least one repeated character.')"
   ]
  },
  {
   "cell_type": "markdown",
   "id": "molecular-foundation",
   "metadata": {},
   "source": [
    "## Assignment 2:\n",
    "\n",
    "Write a block of code (a cell) that asks a user for two words (```wordA``` and ```wordB```), and then checks if they are anagrams of each other, answering \"True\" or \"anagram!\" if so."
   ]
  },
  {
   "cell_type": "code",
   "execution_count": 9,
   "id": "particular-naples",
   "metadata": {},
   "outputs": [
    {
     "name": "stdin",
     "output_type": "stream",
     "text": [
      "Please provide a word:  gapes\n",
      "Please provide another word:  pages\n"
     ]
    },
    {
     "name": "stdout",
     "output_type": "stream",
     "text": [
      "Those words are anagrams.\n"
     ]
    }
   ],
   "source": [
    "user_word_1 = input('Please provide a word: ')\n",
    "letters1 = sorted(list(user_word_1))\n",
    "user_word_2 = input('Please provide another word: ')\n",
    "letters2 = sorted(list(user_word_2))\n",
    "\n",
    "if user_word_1 == user_word_2:                     # Note: this test is not required by the assignment,\n",
    "    print('Those words are actually the same!')    # but I wrote it just to explore the edge case.\n",
    "elif letters1 == letters2:\n",
    "    print('Those words are anagrams.')\n",
    "else:\n",
    "    print('Those words are not anagrams.')"
   ]
  },
  {
   "cell_type": "markdown",
   "id": "adjustable-rehabilitation",
   "metadata": {},
   "source": [
    "## Assignment 3:\n",
    "\n",
    "I've included ```shortdictionary.txt``` in the homework folder; it's a list of 20000 common strings in English prose.\n",
    "\n",
    "For fun, if you like, find out what 'teralbay' is an anagram of.\n",
    "\n",
    "More generally, write a cell that allows a user to enter any word, and then finds all words in ```shortdictionary.txt``` that are anagrams of it (if there are any anagrams). If none, it should reply for instance \"There are no anagrams of that word.\"\n"
   ]
  },
  {
   "cell_type": "code",
   "execution_count": 16,
   "id": "cross-advisory",
   "metadata": {},
   "outputs": [
    {
     "name": "stdin",
     "output_type": "stream",
     "text": [
      "Please provide a word:  pears\n"
     ]
    },
    {
     "name": "stdout",
     "output_type": "stream",
     "text": [
      "Anagrams:  ['spare', 'spear']\n"
     ]
    }
   ],
   "source": [
    "english_words = open('shortdictionary.txt', encoding = 'utf-8').readlines()\n",
    "    \n",
    "user_word = input('Please provide a word: ')\n",
    "\n",
    "user_sorted = sorted(list(user_word))\n",
    "\n",
    "anagrams = []\n",
    "\n",
    "for w in english_words:\n",
    "    \n",
    "    if w.strip() == user_word:\n",
    "        continue\n",
    "        \n",
    "    this_sorted = sorted(list(w.strip()))\n",
    "    \n",
    "    if this_sorted == user_sorted:\n",
    "        anagrams.append(w.strip())\n",
    "\n",
    "if len(anagrams) > 0:\n",
    "    print('Anagrams: ', anagrams)\n",
    "else:\n",
    "    print('There are no anagrams of that word.')\n",
    "        "
   ]
  },
  {
   "cell_type": "code",
   "execution_count": null,
   "id": "linear-evanescence",
   "metadata": {},
   "outputs": [],
   "source": []
  }
 ],
 "metadata": {
  "kernelspec": {
   "display_name": "Python 3",
   "language": "python",
   "name": "python3"
  },
  "language_info": {
   "codemirror_mode": {
    "name": "ipython",
    "version": 3
   },
   "file_extension": ".py",
   "mimetype": "text/x-python",
   "name": "python",
   "nbconvert_exporter": "python",
   "pygments_lexer": "ipython3",
   "version": "3.7.6"
  }
 },
 "nbformat": 4,
 "nbformat_minor": 5
}
