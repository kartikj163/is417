{
 "cells": [
  {
   "cell_type": "markdown",
   "id": "particular-polls",
   "metadata": {},
   "source": [
    "# Homework 2: merging dataframes, inferential statistics"
   ]
  },
  {
   "cell_type": "markdown",
   "id": "constitutional-camel",
   "metadata": {},
   "source": [
    "### PROBLEM 1:\n",
    "\n",
    "In our lab ```Movies and Statistics```, we discovered that women speak on average 851 words per film in this dataset; men 933.\n",
    "\n",
    "How often would a difference of means like that occur by chance? If the null hypothesis is that the number of words for women and for men comes from the same distribution, use a t test to evaluate the probability of the observed data given the null hypothesis."
   ]
  },
  {
   "cell_type": "code",
   "execution_count": null,
   "id": "bc89b5db-b528-4c7d-93ad-0f646370d356",
   "metadata": {},
   "outputs": [],
   "source": []
  },
  {
   "cell_type": "markdown",
   "id": "moderate-spotlight",
   "metadata": {},
   "source": [
    "### PROBLEM 2:\n",
    "\n",
    "In the lab, we grouped characters by *movie title*, calculated the fraction of dialogue spoken by women in each movie, and compared that to movies' release year.\n",
    "\n",
    "We found a significant relationship.\n",
    "\n",
    "But what if you grouped characters by *release year* and calculated the fraction of dialogue spoken by women in each *year*?\n",
    "\n",
    "Try generating a data frame with that information. Then measure the Pearson correlation between the year column and the fraction-of-dialogue-by-women column. Is the p value still less than .05? \n",
    "\n",
    "How do you explain the discrepancy between these two experiments? (Write a sentence or two explaining the difference you've observed.)"
   ]
  },
  {
   "cell_type": "code",
   "execution_count": null,
   "id": "green-probability",
   "metadata": {},
   "outputs": [],
   "source": []
  }
 ],
 "metadata": {
  "kernelspec": {
   "display_name": "Python 3",
   "language": "python",
   "name": "python3"
  },
  "language_info": {
   "codemirror_mode": {
    "name": "ipython",
    "version": 3
   },
   "file_extension": ".py",
   "mimetype": "text/x-python",
   "name": "python",
   "nbconvert_exporter": "python",
   "pygments_lexer": "ipython3",
   "version": "3.7.4"
  }
 },
 "nbformat": 4,
 "nbformat_minor": 5
}
