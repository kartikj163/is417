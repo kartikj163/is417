{
 "cells": [
  {
   "cell_type": "markdown",
   "id": "demonstrated-pound",
   "metadata": {},
   "source": [
    "# Homework 4\n",
    "\n",
    "In our lab, we trained a model to distinguish negative tweets from positive tweets.\n",
    "\n",
    "What if you worked for an airline and wanted to know *why* your airline is getting bad word of mouth on Twitter? You can probably track late flights and damaged luggage using the airline's own tracking system. But Twitter might give you clues otherwise unavailable about changes in customer service.\n",
    "\n",
    "How reliably can we identify the reason for a negative tweet?"
   ]
  },
  {
   "cell_type": "code",
   "execution_count": 2,
   "id": "green-ceramic",
   "metadata": {},
   "outputs": [],
   "source": [
    "import pandas as pd\n",
    "import numpy as np\n",
    "from matplotlib import pyplot as plt\n",
    "from sklearn.linear_model import LogisticRegression\n",
    "from sklearn.feature_extraction.text import CountVectorizer\n",
    "from sklearn.preprocessing import StandardScaler\n",
    "from sklearn.metrics import f1_score\n",
    "from sklearn.model_selection import cross_validate\n",
    "from pathlib import Path"
   ]
  },
  {
   "cell_type": "code",
   "execution_count": 4,
   "id": "statutory-console",
   "metadata": {},
   "outputs": [
    {
     "name": "stdout",
     "output_type": "stream",
     "text": [
      "(14640, 5)\n"
     ]
    },
    {
     "data": {
      "text/html": [
       "<div>\n",
       "<style scoped>\n",
       "    .dataframe tbody tr th:only-of-type {\n",
       "        vertical-align: middle;\n",
       "    }\n",
       "\n",
       "    .dataframe tbody tr th {\n",
       "        vertical-align: top;\n",
       "    }\n",
       "\n",
       "    .dataframe thead th {\n",
       "        text-align: right;\n",
       "    }\n",
       "</style>\n",
       "<table border=\"1\" class=\"dataframe\">\n",
       "  <thead>\n",
       "    <tr style=\"text-align: right;\">\n",
       "      <th></th>\n",
       "      <th>airline_sentiment</th>\n",
       "      <th>negativereason</th>\n",
       "      <th>retweet_count</th>\n",
       "      <th>airline</th>\n",
       "      <th>text</th>\n",
       "    </tr>\n",
       "  </thead>\n",
       "  <tbody>\n",
       "    <tr>\n",
       "      <th>0</th>\n",
       "      <td>neutral</td>\n",
       "      <td>NaN</td>\n",
       "      <td>0</td>\n",
       "      <td>Virgin America</td>\n",
       "      <td>@VirginAmerica What @dhepburn said.</td>\n",
       "    </tr>\n",
       "    <tr>\n",
       "      <th>1</th>\n",
       "      <td>positive</td>\n",
       "      <td>NaN</td>\n",
       "      <td>0</td>\n",
       "      <td>Virgin America</td>\n",
       "      <td>@VirginAmerica plus you've added commercials t...</td>\n",
       "    </tr>\n",
       "    <tr>\n",
       "      <th>2</th>\n",
       "      <td>neutral</td>\n",
       "      <td>NaN</td>\n",
       "      <td>0</td>\n",
       "      <td>Virgin America</td>\n",
       "      <td>@VirginAmerica I didn't today... Must mean I n...</td>\n",
       "    </tr>\n",
       "    <tr>\n",
       "      <th>3</th>\n",
       "      <td>negative</td>\n",
       "      <td>Bad Flight</td>\n",
       "      <td>0</td>\n",
       "      <td>Virgin America</td>\n",
       "      <td>@VirginAmerica it's really aggressive to blast...</td>\n",
       "    </tr>\n",
       "    <tr>\n",
       "      <th>4</th>\n",
       "      <td>negative</td>\n",
       "      <td>Can't Tell</td>\n",
       "      <td>0</td>\n",
       "      <td>Virgin America</td>\n",
       "      <td>@VirginAmerica and it's a really big bad thing...</td>\n",
       "    </tr>\n",
       "  </tbody>\n",
       "</table>\n",
       "</div>"
      ],
      "text/plain": [
       "  airline_sentiment negativereason  retweet_count         airline  \\\n",
       "0           neutral            NaN              0  Virgin America   \n",
       "1          positive            NaN              0  Virgin America   \n",
       "2           neutral            NaN              0  Virgin America   \n",
       "3          negative     Bad Flight              0  Virgin America   \n",
       "4          negative     Can't Tell              0  Virgin America   \n",
       "\n",
       "                                                text  \n",
       "0                @VirginAmerica What @dhepburn said.  \n",
       "1  @VirginAmerica plus you've added commercials t...  \n",
       "2  @VirginAmerica I didn't today... Must mean I n...  \n",
       "3  @VirginAmerica it's really aggressive to blast...  \n",
       "4  @VirginAmerica and it's a really big bad thing...  "
      ]
     },
     "execution_count": 4,
     "metadata": {},
     "output_type": "execute_result"
    }
   ],
   "source": [
    "tweetpath = Path('../data/tweets/flight_sentiment.tsv')\n",
    "tweets = pd.read_csv(tweetpath, sep ='\\t')\n",
    "print(tweets.shape)\n",
    "tweets.head()"
   ]
  },
  {
   "cell_type": "code",
   "execution_count": 5,
   "id": "rental-roulette",
   "metadata": {},
   "outputs": [
    {
     "data": {
      "text/plain": [
       "(9178, 5)"
      ]
     },
     "execution_count": 5,
     "metadata": {},
     "output_type": "execute_result"
    }
   ],
   "source": [
    "tweets = tweets.loc[~pd.isnull(tweets['negativereason']), : ]\n",
    "tweets.shape"
   ]
  },
  {
   "cell_type": "code",
   "execution_count": 6,
   "id": "applied-trance",
   "metadata": {},
   "outputs": [
    {
     "data": {
      "text/plain": [
       "Customer Service Issue         2910\n",
       "Late Flight                    1665\n",
       "Can't Tell                     1190\n",
       "Cancelled Flight                847\n",
       "Lost Luggage                    724\n",
       "Bad Flight                      580\n",
       "Flight Booking Problems         529\n",
       "Flight Attendant Complaints     481\n",
       "longlines                       178\n",
       "Damaged Luggage                  74\n",
       "Name: negativereason, dtype: int64"
      ]
     },
     "execution_count": 6,
     "metadata": {},
     "output_type": "execute_result"
    }
   ],
   "source": [
    "tweets['negativereason'].value_counts()"
   ]
  },
  {
   "cell_type": "markdown",
   "id": "popular-hygiene",
   "metadata": {},
   "source": [
    "## Assignment 1\n",
    "\n",
    "Our mission is to construct a model that can identify \"customer service issues\" in future tweets about our airline.\n",
    "\n",
    "We'll do that by building the most accurate model we can on this dataset.\n",
    "\n",
    "In order to be confident about accuracy, we will need to go through all the steps we went through in the lab, including\n",
    "\n",
    "1. Factor out the length of tweets and make ```tweetlen``` a separate column.\n",
    "\n",
    "2. Shuffle row order. Separate a test set of let's say 1500 tweets to be used for final evaluation of the model, from a training set that\n",
    "\n",
    "3. Scale the training set and test set separately, using StandardScaler.\n",
    "\n",
    "4. Cross-validate a model on the training set, evaluating by f1 score, because we have imbalanced classes.\n",
    "\n",
    "5. When we're confident that we have the best C parameter (increasing or reducing the parameter produces lower f1 scores), train a model on the *whole* training set using our C parameter.\n",
    "\n",
    "6. Finally, report\n",
    "\n",
    "     a. F1 score and\n",
    "     \n",
    "     b. accuracy on the test set. Also\n",
    "     \n",
    "     c. Print the 10 features that have the largest positive, or smallest negative coefficients in the model.\n",
    "     "
   ]
  },
  {
   "cell_type": "code",
   "execution_count": null,
   "id": "bridal-girlfriend",
   "metadata": {},
   "outputs": [],
   "source": []
  }
 ],
 "metadata": {
  "kernelspec": {
   "display_name": "Python 3",
   "language": "python",
   "name": "python3"
  },
  "language_info": {
   "codemirror_mode": {
    "name": "ipython",
    "version": 3
   },
   "file_extension": ".py",
   "mimetype": "text/x-python",
   "name": "python",
   "nbconvert_exporter": "python",
   "pygments_lexer": "ipython3",
   "version": "3.7.6"
  }
 },
 "nbformat": 4,
 "nbformat_minor": 5
}
