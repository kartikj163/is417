{
 "cells": [
  {
   "cell_type": "markdown",
   "id": "unexpected-guest",
   "metadata": {},
   "source": [
    "# Homework #5: Topic modeling\n",
    "\n",
    "Instead of topic modeling newsgroup data, let's look at fiction and see what we can do with it.\n"
   ]
  },
  {
   "cell_type": "code",
   "execution_count": 1,
   "id": "cooked-sphere",
   "metadata": {},
   "outputs": [],
   "source": [
    "import re\n",
    "import numpy as np\n",
    "import pandas as pd\n",
    "\n",
    "from pathlib import Path\n",
    "\n",
    "from sklearn.feature_extraction.text import CountVectorizer\n",
    "from sklearn.decomposition import LatentDirichletAllocation\n",
    "from sklearn.preprocessing import StandardScaler\n",
    "from sklearn.decomposition import PCA\n",
    "\n",
    "# Plotting tools\n",
    "import pyLDAvis\n",
    "import pyLDAvis.sklearn\n",
    "pyLDAvis.enable_notebook()\n",
    "import seaborn as sns\n",
    "\n",
    "import matplotlib.pyplot as plt\n",
    "%matplotlib inline\n",
    "\n",
    "import warnings\n",
    "warnings.filterwarnings(\"ignore\",category=DeprecationWarning)"
   ]
  },
  {
   "cell_type": "markdown",
   "id": "operational-valve",
   "metadata": {},
   "source": [
    "### Load fiction data\n",
    "\n",
    "We load a dataset of fiction that's in your repository."
   ]
  },
  {
   "cell_type": "code",
   "execution_count": 3,
   "id": "sapphire-freeze",
   "metadata": {},
   "outputs": [
    {
     "data": {
      "text/html": [
       "<div>\n",
       "<style scoped>\n",
       "    .dataframe tbody tr th:only-of-type {\n",
       "        vertical-align: middle;\n",
       "    }\n",
       "\n",
       "    .dataframe tbody tr th {\n",
       "        vertical-align: top;\n",
       "    }\n",
       "\n",
       "    .dataframe thead th {\n",
       "        text-align: right;\n",
       "    }\n",
       "</style>\n",
       "<table border=\"1\" class=\"dataframe\">\n",
       "  <thead>\n",
       "    <tr style=\"text-align: right;\">\n",
       "      <th></th>\n",
       "      <th>chunkid</th>\n",
       "      <th>decade</th>\n",
       "      <th>text</th>\n",
       "    </tr>\n",
       "  </thead>\n",
       "  <tbody>\n",
       "    <tr>\n",
       "      <th>0</th>\n",
       "      <td>1880_Adams_1</td>\n",
       "      <td>1880</td>\n",
       "      <td>young and fresh from that hot-bed of abolition...</td>\n",
       "    </tr>\n",
       "    <tr>\n",
       "      <th>1</th>\n",
       "      <td>1880_Adams_1</td>\n",
       "      <td>1880</td>\n",
       "      <td>we dine at half-past six.\" Senator Ratcliffe h...</td>\n",
       "    </tr>\n",
       "    <tr>\n",
       "      <th>2</th>\n",
       "      <td>1880_Adams_3</td>\n",
       "      <td>1880</td>\n",
       "      <td>The story is this, Mrs. Lee; and it is well-kn...</td>\n",
       "    </tr>\n",
       "    <tr>\n",
       "      <th>3</th>\n",
       "      <td>1880_Adams_4</td>\n",
       "      <td>1880</td>\n",
       "      <td>tell you,\" said he drily, \"you will be wiser t...</td>\n",
       "    </tr>\n",
       "    <tr>\n",
       "      <th>4</th>\n",
       "      <td>1880_Aldrich_1</td>\n",
       "      <td>1880</td>\n",
       "      <td>suggested somebody. \"Three on 'em snaked in to...</td>\n",
       "    </tr>\n",
       "  </tbody>\n",
       "</table>\n",
       "</div>"
      ],
      "text/plain": [
       "          chunkid  decade                                               text\n",
       "0    1880_Adams_1    1880  young and fresh from that hot-bed of abolition...\n",
       "1    1880_Adams_1    1880  we dine at half-past six.\" Senator Ratcliffe h...\n",
       "2    1880_Adams_3    1880  The story is this, Mrs. Lee; and it is well-kn...\n",
       "3    1880_Adams_4    1880  tell you,\" said he drily, \"you will be wiser t...\n",
       "4  1880_Aldrich_1    1880  suggested somebody. \"Three on 'em snaked in to..."
      ]
     },
     "execution_count": 3,
     "metadata": {},
     "output_type": "execute_result"
    }
   ],
   "source": [
    "ficpath = Path('../data/HWfiction/HWfiction.tsv')\n",
    "fic = pd.read_csv(ficpath, sep = '\\t')\n",
    "fic.head()"
   ]
  },
  {
   "cell_type": "markdown",
   "id": "positive-gathering",
   "metadata": {},
   "source": [
    "Each row contains an id, a date rounded off at the decade level, and the text of a chunk of fiction.\n",
    "\n",
    "Let's also load a stopword list."
   ]
  },
  {
   "cell_type": "code",
   "execution_count": 19,
   "id": "british-attack",
   "metadata": {},
   "outputs": [
    {
     "data": {
      "text/plain": [
       "6437"
      ]
     },
     "execution_count": 19,
     "metadata": {},
     "output_type": "execute_result"
    }
   ],
   "source": [
    "stoppath = Path('../data/HWfiction/HWfictionstopwords.txt')\n",
    "\n",
    "stopwords = [x.strip() for x in open(stoppath, encoding = 'utf-8').readlines()]\n",
    "\n",
    "len(stopwords)"
   ]
  },
  {
   "cell_type": "markdown",
   "id": "alike-savannah",
   "metadata": {},
   "source": [
    "###  Assignment 1\n",
    "\n",
    "Vectorize the fiction using the list of stopwords we just loaded, and other settings parallel to our lab.\n",
    "\n",
    "    CountVectorizer(strip_accents = 'unicode',\n",
    "                                stop_words = stopwords,\n",
    "                                 token_pattern = r'\\b[a-zA-Z]{3,}\\b',\n",
    "                                lowercase = True,\n",
    "                                max_df = 0.5, \n",
    "                                min_df = 10)\n",
    "\n",
    "Then train an 20-topic model of the data, using ```random_state = 0```.\n",
    "\n",
    "Explore the model using pyLDAvis. (This may not appear in your .pdf when you print, but that's okay.)\n",
    "\n",
    "Then \n",
    "\n",
    "A) Create the doc-topics matrix and turn it into a Pandas data frame so you can associate \"decade\" with each document. Use groupby() and mean() to summarize this matrix so it has one row for each decade, and the row contains mean topic probabilities for that decade.\n",
    "\n",
    "B) Choose a topic that's rising across time; there will probably be a topic that features body parts like \"face,\" \"eyes,\" \"hand\" that makes a good example, but you can choose something else if you like.\n",
    "\n",
    "Create a line chart that shows the topic's average frequency in different decades; the rise should be visible.\n",
    "\n",
    "C) Choose a topic that's falling across time; there will probably be one with words like \"sir,\" \"king,\" \"years\" that makes a good example, but if not, you can poke around and find something else. Again, create a line chart.\n",
    "\n",
    "D) Offer a two- or three-sentence speculative hypothesis to explain either the rising topic or the falling one. (You don't have to do both.) I know you don't really have evidence for the hypothesis yet. The point is not to be right but simply to stretch your hypothesis-forming muscles. Think about how you might test the hypothesis if you needed to."
   ]
  },
  {
   "cell_type": "code",
   "execution_count": 25,
   "id": "spiritual-italic",
   "metadata": {},
   "outputs": [],
   "source": [
    "# your code goes here"
   ]
  },
  {
   "cell_type": "markdown",
   "id": "acoustic-pressing",
   "metadata": {},
   "source": [
    "### Assignment 2\n",
    "\n",
    "Go back to the original document-topic matrix (before you grouped it by decade), and perform Principal Component analysis to compress it down to two dimensions. Select about 20% of the rows, which you can do by\n",
    "\n",
    "    .sample(frac = .2)\n",
    "\n",
    "and visualize them in the space created by PCA, colored by decade (if you use a continuous palette like 'viridis,' this may be easier to understand).\n",
    "\n",
    "Would you say chronology is or isn't a pattern organizing this topic model?\n",
    "Write a sentence expressing your opinion."
   ]
  },
  {
   "cell_type": "code",
   "execution_count": null,
   "id": "impossible-defeat",
   "metadata": {},
   "outputs": [],
   "source": []
  }
 ],
 "metadata": {
  "kernelspec": {
   "display_name": "Python 3",
   "language": "python",
   "name": "python3"
  },
  "language_info": {
   "codemirror_mode": {
    "name": "ipython",
    "version": 3
   },
   "file_extension": ".py",
   "mimetype": "text/x-python",
   "name": "python",
   "nbconvert_exporter": "python",
   "pygments_lexer": "ipython3",
   "version": "3.7.6"
  }
 },
 "nbformat": 4,
 "nbformat_minor": 5
}
