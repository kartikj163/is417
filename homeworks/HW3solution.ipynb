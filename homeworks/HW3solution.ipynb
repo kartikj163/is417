{
 "cells": [
  {
   "cell_type": "markdown",
   "id": "fatty-jacket",
   "metadata": {},
   "source": [
    "# Homework 3: film dialogue\n",
    "\n",
    "In our lab for Feb 15 we looked at two different ways to compare collections of texts: by examining specific words that are overrepresented in one collection relative to another, or by assessing the strength of a model that attempts to describe the boundary between the two.\n",
    "\n",
    "We'll pursue both of those strategies a little further in this homework.\n"
   ]
  },
  {
   "cell_type": "markdown",
   "id": "packed-fifty",
   "metadata": {},
   "source": [
    "## Familiar preparation\n",
    "\n",
    "To start with we'll import useful modules."
   ]
  },
  {
   "cell_type": "code",
   "execution_count": 1,
   "id": "welcome-gilbert",
   "metadata": {},
   "outputs": [],
   "source": [
    "import pandas as pd\n",
    "import numpy as np\n",
    "from sklearn.naive_bayes import MultinomialNB\n",
    "from sklearn.feature_extraction.text import CountVectorizer\n",
    "from pathlib import Path"
   ]
  },
  {
   "cell_type": "markdown",
   "id": "textile-twelve",
   "metadata": {},
   "source": [
    "#### read in the dialogue dataset\n",
    "\n",
    "It has one line for each character; the field ```lines``` contains all dialogue attributed to that character in the [Cornell Movie Dialogs Corpus](https://www.cs.cornell.edu/~cristian/Cornell_Movie-Dialogs_Corpus.html). Separate lines are delimited by slashes, but we'll ignore that here.\n",
    "\n",
    "We call the dataset ```chars``` because the it has one line per character.\n",
    "\n",
    "Notice that the path below has changed because the ```homeworks/``` directory is only one level down from the parent is417 directory. ```labs/Feb15Dialog/``` was two levels down."
   ]
  },
  {
   "cell_type": "code",
   "execution_count": 2,
   "id": "olympic-playlist",
   "metadata": {},
   "outputs": [],
   "source": [
    "dialogpath = Path('../data/movie_dialogue.tsv')\n",
    "\n",
    "chars = pd.read_csv(dialogpath, sep = '\\t')\n",
    "\n",
    "# let's also randomize the row order\n",
    "chars = chars.sample(frac = 1.0)"
   ]
  },
  {
   "cell_type": "code",
   "execution_count": 3,
   "id": "infectious-eight",
   "metadata": {},
   "outputs": [
    {
     "data": {
      "text/html": [
       "<div>\n",
       "<style scoped>\n",
       "    .dataframe tbody tr th:only-of-type {\n",
       "        vertical-align: middle;\n",
       "    }\n",
       "\n",
       "    .dataframe tbody tr th {\n",
       "        vertical-align: top;\n",
       "    }\n",
       "\n",
       "    .dataframe thead th {\n",
       "        text-align: right;\n",
       "    }\n",
       "</style>\n",
       "<table border=\"1\" class=\"dataframe\">\n",
       "  <thead>\n",
       "    <tr style=\"text-align: right;\">\n",
       "      <th></th>\n",
       "      <th>mid</th>\n",
       "      <th>cid</th>\n",
       "      <th>cname</th>\n",
       "      <th>mname</th>\n",
       "      <th>gender</th>\n",
       "      <th>wordcount</th>\n",
       "      <th>year</th>\n",
       "      <th>genres</th>\n",
       "      <th>comedy</th>\n",
       "      <th>thriller</th>\n",
       "      <th>drama</th>\n",
       "      <th>romance</th>\n",
       "      <th>lines</th>\n",
       "    </tr>\n",
       "  </thead>\n",
       "  <tbody>\n",
       "    <tr>\n",
       "      <th>1400</th>\n",
       "      <td>m353</td>\n",
       "      <td>u5327</td>\n",
       "      <td>TITA</td>\n",
       "      <td>five easy pieces</td>\n",
       "      <td>f</td>\n",
       "      <td>607</td>\n",
       "      <td>1970</td>\n",
       "      <td>['drama']</td>\n",
       "      <td>False</td>\n",
       "      <td>False</td>\n",
       "      <td>True</td>\n",
       "      <td>False</td>\n",
       "      <td>Bye, Robert. / But what about me? / You were g...</td>\n",
       "    </tr>\n",
       "    <tr>\n",
       "      <th>255</th>\n",
       "      <td>m145</td>\n",
       "      <td>u2265</td>\n",
       "      <td>ROACH</td>\n",
       "      <td>next friday</td>\n",
       "      <td>m</td>\n",
       "      <td>279</td>\n",
       "      <td>2000</td>\n",
       "      <td>['comedy']</td>\n",
       "      <td>True</td>\n",
       "      <td>False</td>\n",
       "      <td>False</td>\n",
       "      <td>False</td>\n",
       "      <td>Fuck, what's his name? / Dude, dogs hate me.  ...</td>\n",
       "    </tr>\n",
       "    <tr>\n",
       "      <th>2507</th>\n",
       "      <td>m564</td>\n",
       "      <td>u8292</td>\n",
       "      <td>DEBORAH</td>\n",
       "      <td>the lost son</td>\n",
       "      <td>f</td>\n",
       "      <td>1309</td>\n",
       "      <td>1999</td>\n",
       "      <td>['crime', 'drama', 'romance', 'thriller']</td>\n",
       "      <td>False</td>\n",
       "      <td>True</td>\n",
       "      <td>True</td>\n",
       "      <td>True</td>\n",
       "      <td>I... We have to bury Leon tommorrow... / You w...</td>\n",
       "    </tr>\n",
       "    <tr>\n",
       "      <th>2954</th>\n",
       "      <td>m96</td>\n",
       "      <td>u1430</td>\n",
       "      <td>LINDA</td>\n",
       "      <td>invaders from mars</td>\n",
       "      <td>f</td>\n",
       "      <td>393</td>\n",
       "      <td>1953</td>\n",
       "      <td>['horror', 'sci-fi']</td>\n",
       "      <td>False</td>\n",
       "      <td>False</td>\n",
       "      <td>False</td>\n",
       "      <td>False</td>\n",
       "      <td>Why, yes.  Why? / He was upset with moving, I ...</td>\n",
       "    </tr>\n",
       "    <tr>\n",
       "      <th>2477</th>\n",
       "      <td>m557</td>\n",
       "      <td>u8208</td>\n",
       "      <td>NOVAK</td>\n",
       "      <td>the cell</td>\n",
       "      <td>m</td>\n",
       "      <td>722</td>\n",
       "      <td>2000</td>\n",
       "      <td>['drama', 'fantasy', 'horror', 'sci-fi', 'thri...</td>\n",
       "      <td>False</td>\n",
       "      <td>True</td>\n",
       "      <td>True</td>\n",
       "      <td>False</td>\n",
       "      <td>No problem. / I got it. / I don't know.  I thi...</td>\n",
       "    </tr>\n",
       "  </tbody>\n",
       "</table>\n",
       "</div>"
      ],
      "text/plain": [
       "       mid    cid    cname               mname gender  wordcount  year  \\\n",
       "1400  m353  u5327     TITA    five easy pieces      f        607  1970   \n",
       "255   m145  u2265    ROACH         next friday      m        279  2000   \n",
       "2507  m564  u8292  DEBORAH        the lost son      f       1309  1999   \n",
       "2954   m96  u1430    LINDA  invaders from mars      f        393  1953   \n",
       "2477  m557  u8208    NOVAK            the cell      m        722  2000   \n",
       "\n",
       "                                                 genres  comedy  thriller  \\\n",
       "1400                                          ['drama']   False     False   \n",
       "255                                          ['comedy']    True     False   \n",
       "2507          ['crime', 'drama', 'romance', 'thriller']   False      True   \n",
       "2954                               ['horror', 'sci-fi']   False     False   \n",
       "2477  ['drama', 'fantasy', 'horror', 'sci-fi', 'thri...   False      True   \n",
       "\n",
       "      drama  romance                                              lines  \n",
       "1400   True    False  Bye, Robert. / But what about me? / You were g...  \n",
       "255   False    False  Fuck, what's his name? / Dude, dogs hate me.  ...  \n",
       "2507   True     True  I... We have to bury Leon tommorrow... / You w...  \n",
       "2954  False    False  Why, yes.  Why? / He was upset with moving, I ...  \n",
       "2477   True    False  No problem. / I got it. / I don't know.  I thi...  "
      ]
     },
     "execution_count": 3,
     "metadata": {},
     "output_type": "execute_result"
    }
   ],
   "source": [
    "chars.head()"
   ]
  },
  {
   "cell_type": "markdown",
   "id": "million-resource",
   "metadata": {},
   "source": [
    "## A better way to validate models\n",
    "\n",
    "In our lab, we spent a lot of energy selecting test sets and training sets. We learned that if you want to produce a truly general model of a category like \"comedy,\" it's important to make sure your algorithm can't \"cheat\" by just memorizing (say) the names of characters who appear in a limited set of comedies.\n",
    "\n",
    "Defining train and test sets so they contain non-overlapping groups of movies produced a more general model of comedy, and a more realistic estimate of accuracy.\n",
    "\n",
    "But each of us got a slightly different measure of model accuracy, because our measure of accuracy depended entirely on a small subset of the data (1/5th of the movies) that we randomly chose as the test set.\n",
    "\n",
    "To get a more stable measure of accuracy, it's better to *cross-validate* your model, by repeatedly holding out a different 1/5th (or 1/10th) of the data as the test set, and training on the remainder. If we hold out a different test set each time we can eventually test on all the data, without ever testing on data that was included in our training set.\n",
    "\n",
    "We could do this ourselves by writing a loop, but scikit-learn also comes with a ```cross_validate()``` function that does it for us automatically."
   ]
  },
  {
   "cell_type": "code",
   "execution_count": 4,
   "id": "pressing-texture",
   "metadata": {},
   "outputs": [],
   "source": [
    "from sklearn.model_selection import cross_validate\n",
    "from sklearn.model_selection import GroupKFold\n",
    "from sklearn.model_selection import cross_val_predict"
   ]
  },
  {
   "cell_type": "markdown",
   "id": "serial-badge",
   "metadata": {},
   "source": [
    "First we need to create a matrix of ```wordcounts``` that we'll use to make predictions, and define a useful function"
   ]
  },
  {
   "cell_type": "code",
   "execution_count": 5,
   "id": "patient-message",
   "metadata": {},
   "outputs": [],
   "source": [
    "if 'cid' in chars.columns:         \n",
    "    character_ids = chars['cid']\n",
    "    chars = chars.set_index('cid')   # If we haven't made this the index yet, let's do it.\n",
    "else:\n",
    "    character_ids = chars.index.tolist()\n",
    "\n",
    "vectorizer = CountVectorizer(max_features = 8000)\n",
    "sparse_counts = vectorizer.fit_transform(chars['lines']) # the vectorizer produces something\n",
    "                                                               # called a 'sparse matrix'; we need to\n",
    "                                                               # unpack it\n",
    "wordcounts = pd.DataFrame(sparse_counts.toarray(), index = character_ids, \n",
    "                            columns = vectorizer.get_feature_names())\n",
    "wordcounts.head()\n",
    "\n",
    "# We'll also define a useful function\n",
    "\n",
    "def gendertonumber(astring):\n",
    "    if astring.lower() == 'f':  # note that we lowercase before checking:\n",
    "        return 1                    # this version of the function is slightly\n",
    "    else:                           # better than the one in the lab notebook\n",
    "        return 0"
   ]
  },
  {
   "cell_type": "markdown",
   "id": "living-metallic",
   "metadata": {},
   "source": [
    "Having done that, we can proceed to train models.\n",
    "\n",
    "In the lines below we cross-validate a model of romance, while making sure that the data is grouped by movie-id. If you're curious about GroupKFold (or any other aspect of scikit-learn), you can always [inspect the documentation.](https://scikit-learn.org/stable/modules/generated/sklearn.model_selection.GroupKFold.html) Basically, what's happening here is that we define an object that splits the data up into five parts, and then instruct it to use movie-id to do the splitting.\n",
    "\n",
    "What happens if you change the number of splits (```n_splits```) to 10, or to 2? If you see slight changes in accuracy, reflect on why they're happening."
   ]
  },
  {
   "cell_type": "code",
   "execution_count": 6,
   "id": "helpful-congo",
   "metadata": {},
   "outputs": [
    {
     "data": {
      "text/plain": [
       "0.6850795759733364"
      ]
     },
     "execution_count": 6,
     "metadata": {},
     "output_type": "execute_result"
    }
   ],
   "source": [
    "all_y = chars['romance'].astype(int)\n",
    "bayes = MultinomialNB(alpha = 1)\n",
    "grouper = GroupKFold(n_splits = 5)\n",
    "cv_results = cross_validate(bayes, wordcounts, all_y, groups = chars['mid'], cv = grouper)\n",
    "np.mean(cv_results['test_score'])"
   ]
  },
  {
   "cell_type": "markdown",
   "id": "successful-router",
   "metadata": {},
   "source": [
    "The ```cross_validate()``` function produces a different test_score for each of the five separate test sets. Above, we take the mean score, but we can also inspect them individually."
   ]
  },
  {
   "cell_type": "code",
   "execution_count": 7,
   "id": "enhanced-hepatitis",
   "metadata": {},
   "outputs": [
    {
     "data": {
      "text/plain": [
       "{'fit_time': array([0.58093619, 0.55154705, 0.52368212, 0.52169085, 0.55365086]),\n",
       " 'score_time': array([0.08528686, 0.06697512, 0.06687689, 0.06704617, 0.06641507]),\n",
       " 'test_score': array([0.66666667, 0.67676768, 0.6986532 , 0.6969697 , 0.68634064])}"
      ]
     },
     "execution_count": 7,
     "metadata": {},
     "output_type": "execute_result"
    }
   ],
   "source": [
    "cv_results"
   ]
  },
  {
   "cell_type": "markdown",
   "id": "fifth-lightweight",
   "metadata": {},
   "source": [
    "Notice that if we take out the ```groups``` and ```cv``` parameters it no longer divides the test and training sets by movie-id. In that case, we get an unrealistically high accuracy for genre, because genre becomes easy to predict if you can memorize the vocabulary of specific movies."
   ]
  },
  {
   "cell_type": "code",
   "execution_count": 8,
   "id": "solved-reason",
   "metadata": {},
   "outputs": [
    {
     "data": {
      "text/plain": [
       "0.8201509189704804"
      ]
     },
     "execution_count": 8,
     "metadata": {},
     "output_type": "execute_result"
    }
   ],
   "source": [
    "all_y = chars['romance'].astype(int)\n",
    "bayes = MultinomialNB(alpha = 1)\n",
    "cv_results = cross_validate(bayes, wordcounts, all_y)\n",
    "np.mean(cv_results['test_score'])"
   ]
  },
  {
   "cell_type": "markdown",
   "id": "prescribed-andrew",
   "metadata": {},
   "source": [
    "We can also use this same function to model gender. We just have to change the way the response variable *y* is generated."
   ]
  },
  {
   "cell_type": "code",
   "execution_count": 9,
   "id": "further-cabinet",
   "metadata": {},
   "outputs": [
    {
     "name": "stdout",
     "output_type": "stream",
     "text": [
      "0.7322301145235378\n"
     ]
    }
   ],
   "source": [
    "all_y = chars['gender'].map(gendertonumber)\n",
    "bayes = MultinomialNB(alpha = 1)\n",
    "grouper = GroupKFold(n_splits = 5)\n",
    "cv_results = cross_validate(bayes, wordcounts, all_y, groups = chars['mid'], cv = grouper)\n",
    "score = np.mean(cv_results['test_score'])\n",
    "print(score)"
   ]
  },
  {
   "cell_type": "markdown",
   "id": "reported-wichita",
   "metadata": {},
   "source": [
    "## Assignment 1. Changing the smoothing parameter of the model\n",
    "\n",
    "Write a little loop that tests the gender model above while varying the ```alpha``` parameter of the model.\n",
    "\n",
    "Remember, this is the Laplacian smoothing--a number that gets added to the count of each word to acknowledge that it probably *sometimes* occurs in dialogue spoken by women (or by men), even if not in this sample.\n",
    "\n",
    "Try each of the settings in this list: [0.001, 1, 2, 4, 8, 16, 32, 64]. In each case print ```alpha,``` and the resulting accuracy. Then do the same thing--in a separate cell--for a model of genre (say, romance)."
   ]
  },
  {
   "cell_type": "code",
   "execution_count": 10,
   "id": "abroad-estate",
   "metadata": {},
   "outputs": [
    {
     "name": "stdout",
     "output_type": "stream",
     "text": [
      "0.001 0.7409917045667467\n",
      "1 0.7322301145235378\n",
      "2 0.7278518745635104\n",
      "4 0.7315589850159834\n",
      "8 0.7551410677886226\n",
      "16 0.6972115761323181\n",
      "32 0.6803720169656089\n",
      "64 0.6803714491741473\n"
     ]
    }
   ],
   "source": [
    "for a in [0.001, 1, 2, 4, 8, 16, 32, 64]:\n",
    "    all_y = chars['gender'].map(gendertonumber)\n",
    "    bayes = MultinomialNB(alpha = a)\n",
    "    grouper = GroupKFold(n_splits = 5)\n",
    "    cv_results = cross_validate(bayes, wordcounts, all_y, groups = chars['mid'], cv = grouper)\n",
    "    score = np.mean(cv_results['test_score'])\n",
    "    print(a, score)"
   ]
  },
  {
   "cell_type": "code",
   "execution_count": 11,
   "id": "stuck-dimension",
   "metadata": {},
   "outputs": [
    {
     "name": "stdout",
     "output_type": "stream",
     "text": [
      "0.001 0.7123602523265256\n",
      "1 0.6850795759733364\n",
      "2 0.6810386041414709\n",
      "4 0.6972058982177026\n",
      "8 0.7342542910839707\n",
      "16 0.760516917346597\n",
      "32 0.7621981478642523\n",
      "64 0.7625348482009527\n"
     ]
    }
   ],
   "source": [
    "for a in [0.001, 1, 2, 4, 8, 16, 32, 64]:\n",
    "    all_y = chars['romance'].astype(int)\n",
    "    bayes = MultinomialNB(alpha = a)\n",
    "    grouper = GroupKFold(n_splits = 5)\n",
    "    cv_results = cross_validate(bayes, wordcounts, all_y, groups = chars['mid'], cv = grouper)\n",
    "    score = np.mean(cv_results['test_score'])\n",
    "    print(a, score)"
   ]
  },
  {
   "cell_type": "markdown",
   "id": "divided-newfoundland",
   "metadata": {},
   "source": [
    "Why might alphas higher than one improve the model? Why is the ideal alpha not the same for every category? (Your answer may be a little speculative; that's okay; speculate.)\n",
    "\n",
    "    Some datasets benefit from more smoothing than others. A naive \"overfit\" model can stray further from the truth, for instance, if the dataset includes a lot of variables, or if some variables have dramatically different frequencies in different subsets of a genre. In a situation like that you might need a lot of smoothing. Also, if the counts of features were simply higher across the board (for instance if the texts were longer), you might need more smoothing.\n",
    "    \n",
    "    More generally, this is an example of what's called \"bias-variance tradeoff\"; optimizing machine learning is a matter of finding a good balance between error within a sample and error *across* samples. And the optimal balance can be different in each dataset. We'll discuss this at more length in class."
   ]
  },
  {
   "cell_type": "markdown",
   "id": "stuffed-ladder",
   "metadata": {},
   "source": [
    "## Assignment 2.\n",
    "\n",
    "In the lab on Feb 15 we practiced ways to identify words that are overrepresented in one corpus relative to another.\n",
    "\n",
    "If you review [Ben Schmidt's blog post about comparing corpuses,](http://sappingattention.blogspot.com/2011/10/comparing-corpuses-by-word-use.html), you'll realize that the methods we used in that lab were fairly crude. We were just asking how much larger a word's frequency is in one corpus than in the other, or how many *times* larger its frequency is. As Schmidt's post shows, there may be better ways to make that comparison, and in future weeks we'll explore them.\n",
    "\n",
    "But for right now, let's just practice the simple ratio test. Create a list of 25 words that are many times more common in romances than in other movies, and a list of 25 words that are many times more common in other movies than in romances. Compare these lists to the similar test we performed on gender categories in the lab. The evidence you get from this comparison will not be decisive, but what hypotheses come to mind as deserving further investigation?"
   ]
  },
  {
   "cell_type": "code",
   "execution_count": 16,
   "id": "solid-regard",
   "metadata": {},
   "outputs": [
    {
     "data": {
      "text/plain": [
       "bye        101\n",
       "cab         41\n",
       "cabin       15\n",
       "cabinet      9\n",
       "cable        8\n",
       "dtype: int64"
      ]
     },
     "execution_count": 16,
     "metadata": {},
     "output_type": "execute_result"
    }
   ],
   "source": [
    "romance_counts = wordcounts.loc[chars['romance'] == True, : ].sum(axis = 'rows')\n",
    "romance_counts[1000:1005]"
   ]
  },
  {
   "cell_type": "code",
   "execution_count": 17,
   "id": "graduate-convenience",
   "metadata": {},
   "outputs": [
    {
     "data": {
      "text/plain": [
       "bye        148\n",
       "cab         74\n",
       "cabin       46\n",
       "cabinet     12\n",
       "cable       38\n",
       "dtype: int64"
      ]
     },
     "execution_count": 17,
     "metadata": {},
     "output_type": "execute_result"
    }
   ],
   "source": [
    "other_counts = wordcounts.loc[chars['romance'] == False, : ].sum(axis = 'rows')\n",
    "other_counts[1000:1005]"
   ]
  },
  {
   "cell_type": "code",
   "execution_count": 18,
   "id": "happy-beach",
   "metadata": {},
   "outputs": [
    {
     "data": {
      "text/plain": [
       "hildy         0.197714\n",
       "vada          0.221679\n",
       "leon          0.236344\n",
       "wyatt         0.239066\n",
       "sailor        0.241781\n",
       "baxter        0.243076\n",
       "baron         0.243143\n",
       "rick          0.244521\n",
       "jeanne        0.244655\n",
       "lula          0.247143\n",
       "ninotchka     0.250528\n",
       "alvy          0.252256\n",
       "homer         0.253800\n",
       "casablanca    0.254008\n",
       "lombard       0.254008\n",
       "marylin       0.254008\n",
       "barry         0.256288\n",
       "romeo         0.256766\n",
       "preysing      0.257585\n",
       "gallagher     0.257585\n",
       "glenn         0.260917\n",
       "wynant        0.261265\n",
       "lawson        0.261265\n",
       "yuh           0.263145\n",
       "sieu          0.263145\n",
       "dtype: float64"
      ]
     },
     "execution_count": 18,
     "metadata": {},
     "output_type": "execute_result"
    }
   ],
   "source": [
    "romance_freqs = (romance_counts + 100) / sum(romance_counts)\n",
    "other_freqs = (other_counts + 100) / sum(other_counts)\n",
    "ratios = other_freqs / romance_freqs\n",
    "ratios = ratios.sort_values()\n",
    "ratios[0:25]"
   ]
  },
  {
   "cell_type": "code",
   "execution_count": 19,
   "id": "basic-fundamental",
   "metadata": {},
   "outputs": [
    {
     "data": {
      "text/plain": [
       "paul       1.112681\n",
       "he         1.120457\n",
       "harry      1.123439\n",
       "the        1.123475\n",
       "them       1.126300\n",
       "need       1.133890\n",
       "sir        1.136751\n",
       "goddamn    1.143585\n",
       "man        1.149095\n",
       "jake       1.185098\n",
       "dr         1.192372\n",
       "captain    1.193568\n",
       "we         1.194898\n",
       "our        1.223458\n",
       "ain        1.224317\n",
       "dead       1.230806\n",
       "killed     1.258457\n",
       "they       1.279527\n",
       "fuck       1.419654\n",
       "kill       1.433346\n",
       "us         1.436684\n",
       "hell       1.457556\n",
       "shit       1.527525\n",
       "fucking    1.537658\n",
       "fuckin     1.695847\n",
       "dtype: float64"
      ]
     },
     "execution_count": 19,
     "metadata": {},
     "output_type": "execute_result"
    }
   ],
   "source": [
    "ratios[-25: ]"
   ]
  },
  {
   "cell_type": "code",
   "execution_count": 20,
   "id": "frequent-married",
   "metadata": {},
   "outputs": [
    {
     "data": {
      "text/html": [
       "<div>\n",
       "<style scoped>\n",
       "    .dataframe tbody tr th:only-of-type {\n",
       "        vertical-align: middle;\n",
       "    }\n",
       "\n",
       "    .dataframe tbody tr th {\n",
       "        vertical-align: top;\n",
       "    }\n",
       "\n",
       "    .dataframe thead th {\n",
       "        text-align: right;\n",
       "    }\n",
       "</style>\n",
       "<table border=\"1\" class=\"dataframe\">\n",
       "  <thead>\n",
       "    <tr style=\"text-align: right;\">\n",
       "      <th></th>\n",
       "      <th>gender</th>\n",
       "      <th>romance</th>\n",
       "      <th>mid</th>\n",
       "      <th>cname</th>\n",
       "      <th>mname</th>\n",
       "      <th>wordcount</th>\n",
       "      <th>year</th>\n",
       "      <th>genres</th>\n",
       "      <th>comedy</th>\n",
       "      <th>thriller</th>\n",
       "      <th>drama</th>\n",
       "      <th>lines</th>\n",
       "    </tr>\n",
       "  </thead>\n",
       "  <tbody>\n",
       "    <tr>\n",
       "      <th>0</th>\n",
       "      <td>f</td>\n",
       "      <td>False</td>\n",
       "      <td>691</td>\n",
       "      <td>691</td>\n",
       "      <td>691</td>\n",
       "      <td>691</td>\n",
       "      <td>691</td>\n",
       "      <td>691</td>\n",
       "      <td>691</td>\n",
       "      <td>691</td>\n",
       "      <td>691</td>\n",
       "      <td>691</td>\n",
       "    </tr>\n",
       "    <tr>\n",
       "      <th>1</th>\n",
       "      <td>f</td>\n",
       "      <td>True</td>\n",
       "      <td>258</td>\n",
       "      <td>258</td>\n",
       "      <td>258</td>\n",
       "      <td>258</td>\n",
       "      <td>258</td>\n",
       "      <td>258</td>\n",
       "      <td>258</td>\n",
       "      <td>258</td>\n",
       "      <td>258</td>\n",
       "      <td>258</td>\n",
       "    </tr>\n",
       "    <tr>\n",
       "      <th>2</th>\n",
       "      <td>m</td>\n",
       "      <td>False</td>\n",
       "      <td>1573</td>\n",
       "      <td>1573</td>\n",
       "      <td>1573</td>\n",
       "      <td>1573</td>\n",
       "      <td>1573</td>\n",
       "      <td>1573</td>\n",
       "      <td>1573</td>\n",
       "      <td>1573</td>\n",
       "      <td>1573</td>\n",
       "      <td>1573</td>\n",
       "    </tr>\n",
       "    <tr>\n",
       "      <th>3</th>\n",
       "      <td>m</td>\n",
       "      <td>True</td>\n",
       "      <td>447</td>\n",
       "      <td>447</td>\n",
       "      <td>447</td>\n",
       "      <td>447</td>\n",
       "      <td>447</td>\n",
       "      <td>447</td>\n",
       "      <td>447</td>\n",
       "      <td>447</td>\n",
       "      <td>447</td>\n",
       "      <td>447</td>\n",
       "    </tr>\n",
       "  </tbody>\n",
       "</table>\n",
       "</div>"
      ],
      "text/plain": [
       "  gender  romance   mid  cname  mname  wordcount  year  genres  comedy  \\\n",
       "0      f    False   691    691    691        691   691     691     691   \n",
       "1      f     True   258    258    258        258   258     258     258   \n",
       "2      m    False  1573   1573   1573       1573  1573    1573    1573   \n",
       "3      m     True   447    447    447        447   447     447     447   \n",
       "\n",
       "   thriller  drama  lines  \n",
       "0       691    691    691  \n",
       "1       258    258    258  \n",
       "2      1573   1573   1573  \n",
       "3       447    447    447  "
      ]
     },
     "execution_count": 20,
     "metadata": {},
     "output_type": "execute_result"
    }
   ],
   "source": [
    "chars['gender'] = chars.gender.str.lower()\n",
    "chars.groupby(['gender', 'romance'], as_index = False).count()"
   ]
  },
  {
   "cell_type": "markdown",
   "id": "black-anime",
   "metadata": {},
   "source": [
    "## Assignment 3: do gender stereotypes weaken over time?\n",
    "\n",
    "It probably doesn't make sense to try to answer this question with a single big model of all movies, because the gender norms involved in shaping dialogue could have *changed* over time.\n",
    "\n",
    "Instead, let's find the median release date for characters, and divide our dataset into two roughly evenly-sized groups (early and late). Then we can cross-validate models to predict gender in each half of the dataset, and see if the accuracy of the later model is lower.\n",
    "\n",
    "In the lab notebook, I proposed running this test many times, in order to measure uncertainty, and draw inferences about significance. But the technique of \"sampling with replacement\" may require more explanation. I'll demonstrate a way to do that in the homework solution, but for right now just cross-validate a single model for each half of the timeline -- using the methods from assignment 1 -- and see what result you get.\n",
    "\n",
    "You may want to try different values of \"alpha,\" as we did in Assignment 1, and use the value that performs best for each model."
   ]
  },
  {
   "cell_type": "code",
   "execution_count": 22,
   "id": "persistent-shame",
   "metadata": {},
   "outputs": [
    {
     "data": {
      "text/plain": [
       "1995.0"
      ]
     },
     "execution_count": 22,
     "metadata": {},
     "output_type": "execute_result"
    }
   ],
   "source": [
    "np.median(chars['year'])"
   ]
  },
  {
   "cell_type": "markdown",
   "id": "charming-ethernet",
   "metadata": {},
   "source": [
    "#### A simple solution\n",
    "\n",
    "This is what I hoped you would be able to do: split the data into two parts, and run a model on each part. We could use the alpha setting (8) that we identified as optimal for gender earlier. If you did that, it's reasonable.\n",
    "\n",
    "But ideally we would check the optimal setting on a dataset closer in size to the one we'll be using: roughly half of the chars dataset, or 1484 characters. The optimal level of smoothing can be highly dependent on the size of a dataset."
   ]
  },
  {
   "cell_type": "code",
   "execution_count": 73,
   "id": "matched-insured",
   "metadata": {},
   "outputs": [
    {
     "name": "stdout",
     "output_type": "stream",
     "text": [
      "1 0.7195252070252071\n",
      "2 0.7349940849940849\n",
      "3 0.750503913003913\n",
      "4 0.7575717763217763\n",
      "5 0.7321491946491947\n",
      "6 0.7254214441714442\n",
      "7 0.7110929110929111\n",
      "8 0.6971096096096097\n",
      "9 0.6859950859950859\n"
     ]
    }
   ],
   "source": [
    "for alpha in range(1, 10):\n",
    "    \n",
    "    # to get a good measure of accuracy at different alpha settings,\n",
    "    # we'll try four different random samples at each setting\n",
    "    \n",
    "    fourscores = []\n",
    "    \n",
    "    for j in range(0, 4):\n",
    "    \n",
    "        chars = chars.sample(frac = 1)\n",
    "        firsthalfchars = chars.iloc[0: 1484 : ]\n",
    "        firsthalfwordcounts = wordcounts.loc[firsthalfchars.index.tolist(), : ]\n",
    "\n",
    "        # model the first half\n",
    "\n",
    "        all_y = firsthalfchars['gender'].map(gendertonumber)\n",
    "        bayes = MultinomialNB(alpha = alpha)\n",
    "        grouper = GroupKFold(n_splits = 5)\n",
    "        cv_results = cross_validate(bayes, firsthalfwordcounts, all_y, groups = firsthalfchars['mid'], cv = grouper)\n",
    "        score = np.mean(cv_results['test_score'])\n",
    "        fourscores.append(score)\n",
    "    \n",
    "    print(i, np.mean(fourscores))\n",
    "    "
   ]
  },
  {
   "cell_type": "markdown",
   "id": "boxed-alcohol",
   "metadata": {},
   "source": [
    "Now use the optimal alpha, which is 4, for both halves of the timeline and observe the difference."
   ]
  },
  {
   "cell_type": "code",
   "execution_count": 74,
   "id": "split-bishop",
   "metadata": {},
   "outputs": [
    {
     "name": "stdout",
     "output_type": "stream",
     "text": [
      "0.7586080586080586\n"
     ]
    }
   ],
   "source": [
    "firsthalfchars = chars.loc[chars['year'] < 1994, : ]\n",
    "secondhalfchars = chars.loc[chars['year'] >= 1995, : ]\n",
    "firsthalfwordcounts = wordcounts.loc[firsthalfchars.index.tolist(), : ]\n",
    "secondhalfwordcounts = wordcounts.loc[secondhalfchars.index.tolist(), : ]\n",
    "\n",
    "# model the first half\n",
    "\n",
    "all_y = firsthalfchars['gender'].map(gendertonumber)\n",
    "bayes = MultinomialNB(alpha = 4)\n",
    "grouper = GroupKFold(n_splits = 5)\n",
    "cv_results = cross_validate(bayes, firsthalfwordcounts, all_y, groups = firsthalfchars['mid'], cv = grouper)\n",
    "earlyscore = np.mean(cv_results['test_score'])\n",
    "print(earlyscore)"
   ]
  },
  {
   "cell_type": "code",
   "execution_count": 75,
   "id": "coral-trauma",
   "metadata": {},
   "outputs": [
    {
     "name": "stdout",
     "output_type": "stream",
     "text": [
      "0.7422950819672132\n"
     ]
    }
   ],
   "source": [
    "# model the second half\n",
    "\n",
    "all_y = secondhalfchars['gender'].map(gendertonumber)\n",
    "bayes = MultinomialNB(alpha = 4)\n",
    "grouper = GroupKFold(n_splits = 5)\n",
    "cv_results = cross_validate(bayes, secondhalfwordcounts, all_y, groups = secondhalfchars['mid'], cv = grouper)\n",
    "latescore = np.mean(cv_results['test_score'])\n",
    "print(latescore)"
   ]
  },
  {
   "cell_type": "markdown",
   "id": "assured-hypothesis",
   "metadata": {},
   "source": [
    "#### A more rigorous test\n",
    "\n",
    "That's all I asked you to do. But now let's ask how confident we are in our answer.\n",
    "\n",
    "It *looks* like gender roles become less predictable toward the end of the timeline.\n",
    "\n",
    "But how confident can we be that the difference between .745 and .740 is significant? Could this just be a variation that is likely to occur by chance?\n",
    "\n",
    "There aren't great statistical methods for estimating the significance of a difference like this *a priori.* The best we can do is to randomly resample the data and see how likely we would be to get a difference of this size if both samples were drawn from the same population.\n",
    "\n",
    "We'll draw two samples of the same size as the ones we just created. (Note that the first model, with higher accuracy, was based on a smaller sample.)\n",
    "\n",
    "The exact numbers here will depend on whether you counted 1995 as the last element of the earlier half of the timeline, or the first element of the next."
   ]
  },
  {
   "cell_type": "code",
   "execution_count": 76,
   "id": "separate-territory",
   "metadata": {},
   "outputs": [
    {
     "data": {
      "text/plain": [
       "(1367, 12)"
      ]
     },
     "execution_count": 76,
     "metadata": {},
     "output_type": "execute_result"
    }
   ],
   "source": [
    "firsthalfchars.shape"
   ]
  },
  {
   "cell_type": "code",
   "execution_count": 77,
   "id": "compliant-argentina",
   "metadata": {},
   "outputs": [
    {
     "data": {
      "text/plain": [
       "(1525, 12)"
      ]
     },
     "execution_count": 77,
     "metadata": {},
     "output_type": "execute_result"
    }
   ],
   "source": [
    "secondhalfchars.shape"
   ]
  },
  {
   "cell_type": "code",
   "execution_count": 78,
   "id": "suspended-opposition",
   "metadata": {},
   "outputs": [
    {
     "name": "stdout",
     "output_type": "stream",
     "text": [
      "0.7287986952220529 0.7545366043613708 -0.02573790913931795\n",
      "0.7478329456431647 0.7551382398753893 -0.007305294232224591\n",
      "0.712769712039785 0.773868769470405 -0.06109905743061994\n",
      "0.7331568674634369 0.7538901869158878 -0.020733319452450938\n",
      "0.7550894361113338 0.7426460280373831 0.012443408073950724\n",
      "0.7368412609288522 0.7520190809968847 -0.015177820068032588\n",
      "0.7478249244672602 0.7451713395638629 0.002653584903397288\n",
      "0.7258549236651427 0.7595229750778817 -0.033668051412738986\n",
      "0.7456084061923478 0.7432963395638629 0.0023120666284849323\n",
      "0.745621774818855 0.7513882398753894 -0.005766465056534331\n",
      "0.7470629127563434 0.7382904984423677 0.008772414313975685\n",
      "0.7346407850057485 0.7614018691588784 -0.026761084153129944\n",
      "0.7470709339322478 0.752684968847352 -0.00561403491510426\n",
      "0.7521750755327398 0.7364154984423675 0.015759577090372234\n",
      "0.7397957273869682 0.7476771806853583 -0.007881453298390073\n",
      "0.7316863185476323 0.7701499221183801 -0.03846360357074774\n",
      "0.7507205689687442 0.7582943925233645 -0.007573823554620329\n",
      "0.7317237507018529 0.7501518691588785 -0.018428118457025633\n",
      "0.7463570492767573 0.7520443925233644 -0.005687343246607135\n",
      "0.7631721076976552 0.7514057632398754 0.011766344457779798\n",
      "0.7258816609181573 0.7526518691588786 -0.026770208240721294\n",
      "0.7470468704045347 0.733921339563863 0.013125530840671695\n",
      "0.7411887382690303 0.7414154984423675 -0.00022676017333722598\n",
      "0.7426993930643565 0.7539154984423677 -0.01121610537801121\n",
      "0.7412128017967434 0.75764992211838 -0.016437120321636578\n",
      "0.7266115879254567 0.7507943925233646 -0.024182804597907892\n",
      "0.7521563594556295 0.7351732866043614 0.0169830728512681\n",
      "0.73318093099115 0.7514232866043613 -0.018242355613211303\n",
      "0.7295794230100799 0.7632690809968847 -0.03368965798680479\n",
      "0.722937889361247 0.7588921339563864 -0.035954244595139406\n",
      "0.7375471244084384 0.7370210280373832 0.0005260963710551625\n",
      "0.7426539397342318 0.7526557632398754 -0.010001823505643603\n",
      "0.7390390631266543 0.7688999221183801 -0.029860858991725747\n",
      "0.733221036870672 0.7470366043613706 -0.013815567490698677\n",
      "0.7478329456431646 0.7464232866043614 0.0014096590388031904\n",
      "0.7361220288227587 0.7539116043613706 -0.017789575538611935\n",
      "0.7587845244779551 0.7414116043613707 0.017372920116584423\n",
      "0.7449052164380632 0.7489232866043614 -0.004018070166298182\n",
      "0.7434132777198471 0.7551693925233645 -0.011756114803517348\n",
      "0.7390390631266543 0.7439077102803738 -0.004868647153719485\n",
      "0.7455896901152376 0.7395307632398754 0.006058926875362136\n",
      "0.7427127616908639 0.7557807632398754 -0.013068001549011554\n",
      "0.7595304938370632 0.7426732866043613 0.0168572072327019\n",
      "0.7361193550974573 0.7451460280373832 -0.009026672939925873\n",
      "0.7617282960348654 0.7539271806853584 0.007801115349507004\n",
      "0.7251356915590492 0.7507710280373832 -0.025635336478333937\n",
      "0.7265768294965376 0.7726401869158878 -0.04606335741935019\n",
      "0.7558113419427288 0.744542445482866 0.011268896459862843\n",
      "0.7470923237346595 0.7526538161993769 -0.005561492464717377\n",
      "0.7682709018475442 0.7407768691588785 0.02749403268866568\n"
     ]
    }
   ],
   "source": [
    "randomscorediffs = []\n",
    "\n",
    "for i in range(50):\n",
    "    shuffledchars = chars.sample(frac = 1)\n",
    "    firsthalfchars = shuffledchars.iloc[0: 1368, : ]\n",
    "    secondhalfchars = shuffledchars.iloc[1368 : , : ]\n",
    "    firsthalfwordcounts = wordcounts.loc[firsthalfchars.index.tolist(), : ]\n",
    "    secondhalfwordcounts = wordcounts.loc[secondhalfchars.index.tolist(), : ]\n",
    "    \n",
    "    # model the first half\n",
    "\n",
    "    all_y = firsthalfchars['gender'].map(gendertonumber)\n",
    "    bayes = MultinomialNB(alpha = 4)\n",
    "    grouper = GroupKFold(n_splits = 5)\n",
    "    cv_results = cross_validate(bayes, firsthalfwordcounts, all_y, groups = firsthalfchars['mid'], cv = grouper)\n",
    "    firstscore = np.mean(cv_results['test_score'])\n",
    "    \n",
    "    # model the second half\n",
    "\n",
    "    all_y = secondhalfchars['gender'].map(gendertonumber)\n",
    "    bayes = MultinomialNB(alpha = 4)\n",
    "    grouper = GroupKFold(n_splits = 5)\n",
    "    cv_results = cross_validate(bayes, secondhalfwordcounts, all_y, groups = secondhalfchars['mid'], cv = grouper)\n",
    "    secondscore = np.mean(cv_results['test_score'])\n",
    "    \n",
    "    scorediff = firstscore - secondscore\n",
    "    \n",
    "    print(firstscore, secondscore, scorediff)\n",
    "    randomscorediffs.append(scorediff)    "
   ]
  },
  {
   "cell_type": "markdown",
   "id": "electoral-plain",
   "metadata": {},
   "source": [
    "So how much variation do we get with totally random splits?"
   ]
  },
  {
   "cell_type": "code",
   "execution_count": 79,
   "id": "disabled-consultancy",
   "metadata": {},
   "outputs": [
    {
     "data": {
      "text/plain": [
       "0.02749403268866568"
      ]
     },
     "execution_count": 79,
     "metadata": {},
     "output_type": "execute_result"
    }
   ],
   "source": [
    "max(randomscorediffs)"
   ]
  },
  {
   "cell_type": "code",
   "execution_count": 80,
   "id": "organizational-thomas",
   "metadata": {},
   "outputs": [
    {
     "data": {
      "text/plain": [
       "-0.06109905743061994"
      ]
     },
     "execution_count": 80,
     "metadata": {},
     "output_type": "execute_result"
    }
   ],
   "source": [
    "min(randomscorediffs)"
   ]
  },
  {
   "cell_type": "markdown",
   "id": "falling-patent",
   "metadata": {},
   "source": [
    "How big was the difference between halves of the dataset with a chronological split?"
   ]
  },
  {
   "cell_type": "code",
   "execution_count": 81,
   "id": "eleven-airplane",
   "metadata": {},
   "outputs": [
    {
     "data": {
      "text/plain": [
       "0.01631297664084541"
      ]
     },
     "execution_count": 81,
     "metadata": {},
     "output_type": "execute_result"
    }
   ],
   "source": [
    "chronscorediff = earlyscore - latescore\n",
    "chronscorediff"
   ]
  },
  {
   "cell_type": "markdown",
   "id": "occasional-christopher",
   "metadata": {},
   "source": [
    "Let's compare the random variation we got (the bell-like curve below) to the actual difference we observed (the vertical red line)."
   ]
  },
  {
   "cell_type": "code",
   "execution_count": 82,
   "id": "designing-finish",
   "metadata": {},
   "outputs": [
    {
     "data": {
      "text/plain": [
       "<matplotlib.lines.Line2D at 0x7fe871f82910>"
      ]
     },
     "execution_count": 82,
     "metadata": {},
     "output_type": "execute_result"
    },
    {
     "data": {
      "image/png": "[encoded data removed]",
      "text/plain": [
       "<Figure size 432x288 with 1 Axes>"
      ]
     },
     "metadata": {
      "needs_background": "light"
     },
     "output_type": "display_data"
    }
   ],
   "source": [
    "import seaborn as sns\n",
    "from matplotlib import pyplot as plt\n",
    "%matplotlib inline\n",
    "\n",
    "sns.kdeplot(randomscorediffs)\n",
    "plt.axvline(chronscorediff, 0, 30, color = 'r')"
   ]
  },
  {
   "cell_type": "code",
   "execution_count": 83,
   "id": "external-cliff",
   "metadata": {},
   "outputs": [
    {
     "data": {
      "text/plain": [
       "0.08"
      ]
     },
     "execution_count": 83,
     "metadata": {},
     "output_type": "execute_result"
    }
   ],
   "source": [
    "sum(randomscorediffs > chronscorediff) / len(randomscorediffs)"
   ]
  },
  {
   "cell_type": "markdown",
   "id": "frozen-wiring",
   "metadata": {},
   "source": [
    "A difference of that size could well happen by chance, (p > .05) so we cannot be very confident that gender roles became less predictable at the end of the 20c."
   ]
  },
  {
   "cell_type": "code",
   "execution_count": null,
   "id": "committed-tournament",
   "metadata": {},
   "outputs": [],
   "source": []
  }
 ],
 "metadata": {
  "kernelspec": {
   "display_name": "Python 3",
   "language": "python",
   "name": "python3"
  },
  "language_info": {
   "codemirror_mode": {
    "name": "ipython",
    "version": 3
   },
   "file_extension": ".py",
   "mimetype": "text/x-python",
   "name": "python",
   "nbconvert_exporter": "python",
   "pygments_lexer": "ipython3",
   "version": "3.7.6"
  }
 },
 "nbformat": 4,
 "nbformat_minor": 5
}
